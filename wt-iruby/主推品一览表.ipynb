{
 "cells": [
  {
   "cell_type": "code",
   "execution_count": 1,
   "metadata": {},
   "outputs": [
    {
     "data": {
      "text/html": [
       "<script src='https://unpkg.com/vue/dist/vue.js'></script>\n",
       "<script src='https://unpkg.com/chart.js@2.9.3/dist/Chart.bundle.js'></script>\n",
       "<script src='https://unpkg.com/vue-chartkick@0.5.1/dist/vue-chartkick.js'></script>\n",
       "<script src='https://unpkg.com/element-ui/lib/index.js'></script>\n"
      ],
      "text/plain": [
       "\"<script src='https://unpkg.com/vue/dist/vue.js'></script>\\n<script src='https://unpkg.com/chart.js@2.9.3/dist/Chart.bundle.js'></script>\\n<script src='https://unpkg.com/vue-chartkick@0.5.1/dist/vue-chartkick.js'></script>\\n<script src='https://unpkg.com/element-ui/lib/index.js'></script>\\n\""
      ]
     },
     "metadata": {},
     "output_type": "display_data"
    },
    {
     "data": {
      "text/html": [
       "<link rel='stylesheet' href='https://unpkg.com/element-ui/lib/theme-chalk/index.css'>\n"
      ],
      "text/plain": [
       "\"<link rel='stylesheet' href='https://unpkg.com/element-ui/lib/theme-chalk/index.css'>\\n\""
      ]
     },
     "metadata": {},
     "output_type": "display_data"
    }
   ],
   "source": [
    "## 设置数据库 & 定义数据模型\n",
    "    \n",
    "load './wtnb/wtnb.rb'\n",
    "\n",
    "IRuby.display IRuby.html(include_js)\n",
    "IRuby.display IRuby.html(include_css)\n",
    "nil"
   ]
  },
  {
   "cell_type": "code",
   "execution_count": 7,
   "metadata": {},
   "outputs": [
    {
     "data": {
      "text/plain": [
       "[]"
      ]
     },
     "execution_count": 7,
     "metadata": {},
     "output_type": "execute_result"
    }
   ],
   "source": [
    "def spu_history(spu,date)\n",
    "    self.history = date\n",
    "    \n",
    "    product = ProductSpu.where(spu:spu).first\n",
    "    \n",
    "    if product.nil? then\n",
    "        return [0,0,0,0,0]\n",
    "        \n",
    "    else\n",
    "\n",
    "        #总库存\n",
    "        total_stock = product.warehouse.size \n",
    "\n",
    "        #售出数量\n",
    "        sold_stock = product.warehouse.sold.size\n",
    "\n",
    "        #可用库存\n",
    "        remain_stock = product.warehouse.unsold.size\n",
    "\n",
    "        # 在单比\n",
    "        in_order_rate = number_to_percentage(100- product.warehouse.inorder.size.to_f*100 / remain_stock )\n",
    "\n",
    "        # 在途比\n",
    "        stock = product.warehouse.unsold.includes(:item).map(&->(x){\n",
    "            begin\n",
    "                x.item.keep.last.orders.onroad\n",
    "            rescue NoMethodError\n",
    "                nil\n",
    "            end\n",
    "        })\n",
    "        in_trip_rate = number_to_percentage(stock.count(true).to_f/stock.count*100)\n",
    "\n",
    "        return [total_stock,sold_stock,remain_stock,in_order_rate,in_trip_rate]\n",
    "    end\n",
    "end\n",
    "    \n",
    "def spu_detail(spu,date_start,date_end)\n",
    "    total_stock = {}\n",
    "    sold_stock = {}\n",
    "    remain_stock = {}\n",
    "    in_order_rate = {}\n",
    "    in_trip_rate = {}\n",
    "    while (date_start < date_end) do\n",
    "        date= date_start.to_s(:db)[0,10].gsub(/-/,\"\")\n",
    "        d1,d2,d3,d4,d5  = spu_history(spu,date)      \n",
    "        total_stock[date]=d1\n",
    "        sold_stock[date]=d2\n",
    "        remain_stock[date]=d3\n",
    "        in_order_rate[date]=d4\n",
    "        in_trip_rate[date]=d5\n",
    "        \n",
    "        date_start += 1.days\n",
    "    end\n",
    "    self.history = nil\n",
    "    return [total_stock,sold_stock,remain_stock,in_order_rate,in_trip_rate]\n",
    "end\n",
    "\n",
    "product_list = []"
   ]
  },
  {
   "cell_type": "code",
   "execution_count": 8,
   "metadata": {},
   "outputs": [],
   "source": [
    "self.history=nil\n",
    "\n",
    "feature_product = ProductSpuProperty.featured.product_spu.to_a\n",
    "order_map = ProductSpuProperty.featured.product_spu.item.sold.group(:spu).count\n",
    "\n",
    "feature_product.sort! { |x,y| -1 * ((order_map[x.spu] or 0)<=>(order_map[y.spu] or 0)) }\n",
    "\n",
    "nil"
   ]
  },
  {
   "cell_type": "code",
   "execution_count": null,
   "metadata": {},
   "outputs": [
    {
     "name": "stdout",
     "output_type": "stream",
     "text": [
      "Time: 16 seconds\n",
      "Time: 16 seconds\n",
      "Time: 23 seconds\n",
      "Time: 16 seconds\n",
      "Time: 8 seconds\n",
      "Time: 12 seconds\n",
      "Time: 13 seconds\n",
      "Time: 15 seconds\n",
      "Time: 15 seconds\n",
      "Time: 15 seconds\n",
      "Time: 16 seconds\n",
      "Time: 17 seconds\n"
     ]
    }
   ],
   "source": [
    "date_start = Time.zone.parse( (Time.now()-1.month).to_s(:db)[0,10])\n",
    "date_end = Time.zone.parse( Time.now().to_s(:db)[0,10] )\n",
    "\n",
    "feature_product.each do |x|\n",
    "    spu = x.spu\n",
    "    \n",
    "    timebegin = Time.now()\n",
    "    total_stock,sold_stock,remain_stock,in_order_rate,in_trip_rate = spu_detail(spu,date_start,date_end)\n",
    "    timeend = Time.now()\n",
    "    puts \"Time: #{humanize(timeend-timebegin)}\"\n",
    "\n",
    "    product = {:name => spu.to_s + \" \" + ProductSpu.where(spu:spu).first.product_name,\n",
    "          :picture => (ProductPicture.where(spu:spu).first_pic.map {|y| y.url }.first or ProductPicture.where(spu:spu).map {|y| y.url }.first), \n",
    "          :purchase_time => ProductSpu.where(spu:spu).first.warehouse.map do |x| x.create_time.to_s(:db)[0,10] end.uniq.size,\n",
    "          :purchase_price => ProductSpu.where(spu:spu).first.purchase_price,\n",
    "          :sold_amount => ProductSpu.where(spu:spu).first.item.orders.finish_purchase.item.keep.sold.where(spu:spu).map do |x| x.price_real.to_f end.inject(0){|sum,x| sum + x },\n",
    "          :purchase_rate => ratio(ProductSpu.where(spu:spu).first.item.orders.finish_purchase.item.keep.where(spu:spu).sold.size , ProductSpu.where(spu:spu).first.item.orders.finish_purchase.item.keep.where(spu:spu).size),\n",
    "          :total_stock => total_stock,\n",
    "          :sold_stock => sold_stock,\n",
    "          :remain_stock => remain_stock,\n",
    "          :in_order_rate =>in_order_rate,\n",
    "          :in_trip_rate =>in_trip_rate} \n",
    "\n",
    "    product_list.append([\n",
    "     ratio( ratio(product[:sold_amount] , product[:sold_stock].to_a.last[1]),product[:purchase_price]),\n",
    "     ratio(product[:sold_stock].to_a.last[1] ,product[:total_stock].to_a.last[1].to_f),\n",
    "     ratio(product[:sold_amount],(product[:purchase_price]*product[:total_stock].to_a.last[1])),\n",
    "     number_to_percentage(product[:purchase_rate]*100),\n",
    "     product[:picture],\n",
    "     product[:total_stock].to_a.last[1],\n",
    "     product[:sold_stock].to_a.last[1],\n",
    "     product[:remain_stock].to_a.last[1],\n",
    "     product[:purchase_time],\n",
    "     product[:purchase_price],\n",
    "     product[:purchase_price]*product[:total_stock].to_a.last[1],\n",
    "     ratio(product[:sold_amount] , product[:sold_stock].to_a.last[1]),\n",
    "     product[:sold_amount].round,\n",
    "     [{name:\"总库存\",data:product[:total_stock]}, {name:\"售出数量\",data:product[:sold_stock]}, {name:\"可用库存\",data:product[:remain_stock]}],\n",
    "     [{name:\"在单比\",data:product[:in_order_rate]}, {name:\"在途比\",data:product[:in_trip_rate]}],\n",
    "     product[:name],         \n",
    "    ])\n",
    "\n",
    "end\n",
    "\n",
    "nil"
   ]
  },
  {
   "cell_type": "code",
   "execution_count": 5,
   "metadata": {},
   "outputs": [
    {
     "data": {
      "text/html": [
       "\n",
       "<div id=\"app_qNoAFvQCLE\">\n",
       "<el-container>\n",
       "\n",
       "  <el-container>\n",
       "\n",
       "  <el-header>\n",
       "    <el-row :gutter=\"24\">\n",
       "      <el-col :span=\"4\">\n",
       "        <el-button icon=\"el-icon-caret-left\" circle v-on:click=\"left\"></el-button>\n",
       "        <el-button icon=\"el-icon-caret-right\" circle v-on:click=\"right\"></el-button>\n",
       "      </el-col>\n",
       "\n",
       "      <el-col :span=\"20\">\n",
       "        <h1>[{{ cur_product+1 }}] {{ product_list[cur_product][15] }}</h1>\n",
       "      </el-col>\n",
       "    </el-row>\n",
       "  </el-header>\n",
       "  <el-main>\n",
       "    <el-divider></el-divider>\n",
       "    <el-row>\n",
       "      <el-col :span=\"12\">\n",
       "        <el-button type=\"primary\" round>加价倍数: {{ product_list[cur_product][0] }}</el-button>\n",
       "        <el-button type=\"primary\" round>售罄率: {{ product_list[cur_product][1] }}</el-button>\n",
       "        <el-button type=\"success\" round>回本率: {{ product_list[cur_product][2] }}</el-button>\n",
       "        <el-button type=\"success\" round>购买转化率: {{ product_list[cur_product][3] }}</el-button>\n",
       "      </el-col>\n",
       "    </el-row>\n",
       "    <el-row :gutter=\"20\">\n",
       "      <el-col :span=\"8\">\n",
       "        <img style=\"width: 100%;\" v-bind:src=\"product_list[cur_product][4]\">\n",
       "      </el-col>\n",
       "      <el-col :span=\"16\">\n",
       "        <line-chart :data=\"chart1\"></line-chart>\n",
       "        <line-chart :data=\"chart2\"></line-chart>\n",
       "        <el-row>\n",
       "          <el-button round>采购件数: {{ product_list[cur_product][5] }}</el-button>\n",
       "          <el-button round>销售件数: {{ product_list[cur_product][6] }}</el-button>\n",
       "          <el-button round>库存件数: {{ product_list[cur_product][7] }}</el-button>\n",
       "          <el-button round>补货次数: {{ product_list[cur_product][8] }}</el-button>\n",
       "          <el-button round>采购价格: {{ product_list[cur_product][9] }}</el-button>\n",
       "          <el-button round>采购成本: {{ product_list[cur_product][10] }}</el-button>\n",
       "          <el-button round>销售价格: {{ product_list[cur_product][11] }}</el-button>\n",
       "          <el-button round>销售总额: {{ product_list[cur_product][12] }}</el-button>\n",
       "        </el-row>\n",
       "      </el-col>\n",
       "    </el-row>\n",
       "    </el-main>\n",
       "  </el-container>\n",
       "</el-container>\n",
       "</div>\n",
       "\n",
       "\n",
       "\n",
       "<script>\n",
       "  Vue.use(VueChartkick.use(Chart))\n",
       "\n",
       "  app = new Vue({\n",
       "    el: '#app_qNoAFvQCLE',\n",
       "    data: {\n",
       "      product_list: [[\"3.7\",0.88,\"3.24\",\"35.000%\",\"https://retry-image.oss-cn-zhangjiakou.aliyuncs.com/product/spu/1efe183d-996c-4414-ae01-e154314aac9a.jpg\",105,92,12,10,\"46.0\",\"4830.0\",170.18,15657,[{\"name\":\"总库存\",\"data\":{\"20200412\":105}},{\"name\":\"售出数量\",\"data\":{\"20200412\":92}},{\"name\":\"可用库存\",\"data\":{\"20200412\":12}}],[{\"name\":\"在单比\",\"data\":{\"20200412\":\"75.000%\"}},{\"name\":\"在途比\",\"data\":{\"20200412\":\"0.000%\"}}],\"10341 博主同款极致显瘦牛仔长裤\"],[\"3.26\",0.7,\"2.27\",\"33.000%\",\"https://retry-image.oss-cn-zhangjiakou.aliyuncs.com/product/spu/a9e8f097-92e5-4934-9364-ce940d149f27.jpg\",43,30,13,6,\"52.0\",\"2236.0\",169.54,5086,[{\"name\":\"总库存\",\"data\":{\"20200412\":43}},{\"name\":\"售出数量\",\"data\":{\"20200412\":30}},{\"name\":\"可用库存\",\"data\":{\"20200412\":13}}],[{\"name\":\"在单比\",\"data\":{\"20200412\":\"92.308%\"}},{\"name\":\"在途比\",\"data\":{\"20200412\":\"15.385%\"}}],\"20655 高腰微喇显瘦牛仔裤\"],[\"3.31\",0.37,\"1.22\",\"19.000%\",\"https://retry-image.oss-cn-zhangjiakou.aliyuncs.com/product/spu/cd0ff93b-b9bc-4c78-98eb-b28ae6ebc5c1.jpg\",68,25,43,3,\"92.0\",\"6256.0\",304.33,7608,[{\"name\":\"总库存\",\"data\":{\"20200412\":68}},{\"name\":\"售出数量\",\"data\":{\"20200412\":25}},{\"name\":\"可用库存\",\"data\":{\"20200412\":43}}],[{\"name\":\"在单比\",\"data\":{\"20200412\":\"88.372%\"}},{\"name\":\"在途比\",\"data\":{\"20200412\":\"4.651%\"}}],\"20678 干练职业显瘦西装裤\"],[\"2.34\",0.48,\"1.11\",\"18.000%\",\"https://image.wetry.shop/product/spu/10294/10294_a.jpg\",42,20,20,7,\"79.0\",\"3318.0\",184.87,3697,[{\"name\":\"总库存\",\"data\":{\"20200412\":42}},{\"name\":\"售出数量\",\"data\":{\"20200412\":20}},{\"name\":\"可用库存\",\"data\":{\"20200412\":20}}],[{\"name\":\"在单比\",\"data\":{\"20200412\":\"85.000%\"}},{\"name\":\"在途比\",\"data\":{\"20200412\":\"15.000%\"}}],\"10294 设计感牛仔阔腿裤\"],[\"5.16\",0.85,\"4.39\",\"38.000%\",\"https://retry-image.oss-cn-zhangjiakou.aliyuncs.com/product/spu/b338407d-8f2a-4137-b45c-bb978db5d5d9.jpg\",20,17,3,1,\"48.0\",\"960.0\",247.89,4214,[{\"name\":\"总库存\",\"data\":{\"20200412\":20}},{\"name\":\"售出数量\",\"data\":{\"20200412\":17}},{\"name\":\"可用库存\",\"data\":{\"20200412\":3}}],[{\"name\":\"在单比\",\"data\":{\"20200412\":\"33.333%\"}},{\"name\":\"在途比\",\"data\":{\"20200412\":\"0.000%\"}}],\"20723 复古蓝色九分牛仔直筒裤\"],[\"5.92\",0.61,\"3.6\",\"27.000%\",\"https://retry-image.oss-cn-zhangjiakou.aliyuncs.com/product/spu/ef138ff9-1afa-456f-8284-ddfcc538ac9c.jpg\",23,14,9,2,\"46.0\",\"1058.0\",272.35,3813,[{\"name\":\"总库存\",\"data\":{\"20200412\":23}},{\"name\":\"售出数量\",\"data\":{\"20200412\":14}},{\"name\":\"可用库存\",\"data\":{\"20200412\":9}}],[{\"name\":\"在单比\",\"data\":{\"20200412\":\"77.778%\"}},{\"name\":\"在途比\",\"data\":{\"20200412\":\"22.222%\"}}],\"20721 复古蓝色牛仔长裤\"],[\"2.62\",0.59,\"1.55\",\"29.000%\",\"https://retry-image.oss-cn-zhangjiakou.aliyuncs.com/product/spu/052194d2-593f-49ce-97e4-7092412d2347.jpg\",27,16,10,2,\"102.0\",\"2754.0\",267.05,4273,[{\"name\":\"总库存\",\"data\":{\"20200412\":27}},{\"name\":\"售出数量\",\"data\":{\"20200412\":16}},{\"name\":\"可用库存\",\"data\":{\"20200412\":10}}],[{\"name\":\"在单比\",\"data\":{\"20200412\":\"90.000%\"}},{\"name\":\"在途比\",\"data\":{\"20200412\":\"10.000%\"}}],\"20716 设计感显瘦微喇西装裤\"],[\"3.69\",0.28,\"1.03\",\"34.000%\",\"https://retry-image.oss-cn-zhangjiakou.aliyuncs.com/product/spu/ccdafc72-ee66-4cae-bada-e8c03b4c3fff.jpg\",43,12,30,5,\"99.0\",\"4257.0\",365.28,4383,[{\"name\":\"总库存\",\"data\":{\"20200412\":43}},{\"name\":\"售出数量\",\"data\":{\"20200412\":12}},{\"name\":\"可用库存\",\"data\":{\"20200412\":30}}],[{\"name\":\"在单比\",\"data\":{\"20200412\":\"23.333%\"}},{\"name\":\"在途比\",\"data\":{\"20200412\":\"6.667%\"}}],\"20732 浅蓝色阔腿牛仔裤\"],[\"5.15\",0.31,\"1.58\",\"31.000%\",\"https://retry-image.oss-cn-zhangjiakou.aliyuncs.com/product/spu/6448661b-7c62-4d11-8de2-5dd297cff657.png\",26,8,17,4,\"46.0\",\"1196.0\",236.89,1895,[{\"name\":\"总库存\",\"data\":{\"20200412\":26}},{\"name\":\"售出数量\",\"data\":{\"20200412\":8}},{\"name\":\"可用库存\",\"data\":{\"20200412\":17}}],[{\"name\":\"在单比\",\"data\":{\"20200412\":\"94.118%\"}},{\"name\":\"在途比\",\"data\":{\"20200412\":\"17.647%\"}}],\"20944 黑色V领口显瘦打底衫\"],[\"6.16\",0.46,\"2.82\",\"21.000%\",\"https://retry-image.oss-cn-zhangjiakou.aliyuncs.com/product/spu/9554780c-0c64-48c8-8f6b-aef36df0f93d.jpg\",24,11,13,3,\"46.0\",\"1104.0\",283.19,3115,[{\"name\":\"总库存\",\"data\":{\"20200412\":24}},{\"name\":\"售出数量\",\"data\":{\"20200412\":11}},{\"name\":\"可用库存\",\"data\":{\"20200412\":13}}],[{\"name\":\"在单比\",\"data\":{\"20200412\":\"100.000%\"}},{\"name\":\"在途比\",\"data\":{\"20200412\":\"7.692%\"}}],\"20722 复古蓝色小哈伦牛仔裤\"],[\"0.0\",0.0,\"0.48\",\"19.000%\",\"https://retry-image.oss-cn-zhangjiakou.aliyuncs.com/product/spu/3e989251-3970-4ad4-bd73-a16b17feb844.jpg\",55,0,54,2,\"89.0\",\"4895.0\",0,2366,[{\"name\":\"总库存\",\"data\":{\"20200412\":55}},{\"name\":\"售出数量\",\"data\":{\"20200412\":0}},{\"name\":\"可用库存\",\"data\":{\"20200412\":54}}],[{\"name\":\"在单比\",\"data\":{\"20200412\":\"75.926%\"}},{\"name\":\"在途比\",\"data\":{\"20200412\":\"5.556%\"}}],\"21011 百搭显瘦款褶皱深蓝色休闲裤\"],[\"2.43\",0.33,\"0.81\",\"20.000%\",\"https://retry-image.oss-cn-zhangjiakou.aliyuncs.com/product/spu/0d779da6-2525-4a8e-afab-4b55180ebabf.jpg\",36,12,16,5,\"99.0\",\"3564.0\",240.62,2887,[{\"name\":\"总库存\",\"data\":{\"20200412\":36}},{\"name\":\"售出数量\",\"data\":{\"20200412\":12}},{\"name\":\"可用库存\",\"data\":{\"20200412\":16}}],[{\"name\":\"在单比\",\"data\":{\"20200412\":\"81.250%\"}},{\"name\":\"在途比\",\"data\":{\"20200412\":\"12.500%\"}}],\"20676 通勤职业显瘦西装裤\"],[\"4.1\",0.33,\"1.37\",\"29.000%\",\"https://retry-image.oss-cn-zhangjiakou.aliyuncs.com/product/spu/0d74f50e-05e9-4478-ab7b-0f70d954107b.jpg\",15,5,9,3,\"95.0\",\"1425.0\",389.36,1947,[{\"name\":\"总库存\",\"data\":{\"20200412\":15}},{\"name\":\"售出数量\",\"data\":{\"20200412\":5}},{\"name\":\"可用库存\",\"data\":{\"20200412\":9}}],[{\"name\":\"在单比\",\"data\":{\"20200412\":\"100.000%\"}},{\"name\":\"在途比\",\"data\":{\"20200412\":\"11.111%\"}}],\"20809 慵懒风杏色云朵裤\"],[\"4.82\",0.24,\"1.16\",\"18.000%\",\"https://retry-image.oss-cn-zhangjiakou.aliyuncs.com/product/spu/c9e4ff94-4251-45eb-8cc6-807ecf2f3945.jpg\",25,6,17,6,\"65.0\",\"1625.0\",313.56,1881,[{\"name\":\"总库存\",\"data\":{\"20200412\":25}},{\"name\":\"售出数量\",\"data\":{\"20200412\":6}},{\"name\":\"可用库存\",\"data\":{\"20200412\":17}}],[{\"name\":\"在单比\",\"data\":{\"20200412\":\"94.118%\"}},{\"name\":\"在途比\",\"data\":{\"20200412\":\"5.882%\"}}],\"20777 淡黄色真丝感A字中裙\"],[\"5.07\",0.27,\"1.35\",\"33.000%\",\"https://retry-image.oss-cn-zhangjiakou.aliyuncs.com/product/spu/a60f9202-43c7-477c-aa48-6c1d80ef7909.png\",15,4,11,3,\"95.0\",\"1425.0\",481.66,1927,[{\"name\":\"总库存\",\"data\":{\"20200412\":15}},{\"name\":\"售出数量\",\"data\":{\"20200412\":4}},{\"name\":\"可用库存\",\"data\":{\"20200412\":11}}],[{\"name\":\"在单比\",\"data\":{\"20200412\":\"81.818%\"}},{\"name\":\"在途比\",\"data\":{\"20200412\":\"0.000%\"}}],\"20810 显瘦女神款长款\"],[\"2.48\",0.54,\"1.33\",\"23.000%\",\"https://retry-image.oss-cn-zhangjiakou.aliyuncs.com/product/spu/65dcbd09-b69d-4f09-9d1e-3eeaa17c3a55.png\",13,7,6,3,\"108.0\",\"1404.0\",267.53,1873,[{\"name\":\"总库存\",\"data\":{\"20200412\":13}},{\"name\":\"售出数量\",\"data\":{\"20200412\":7}},{\"name\":\"可用库存\",\"data\":{\"20200412\":6}}],[{\"name\":\"在单比\",\"data\":{\"20200412\":\"83.333%\"}},{\"name\":\"在途比\",\"data\":{\"20200412\":\"0.000%\"}}],\"20803 法式复古V领连衣裙\"],[\"0.0\",0.0,\"1.5\",\"50.000%\",\"https://retry-image.oss-cn-zhangjiakou.aliyuncs.com/product/spu/dd552b39-6342-4790-99f6-c81be8fe43ae.png\",10,0,10,2,\"73.0\",\"730.0\",0,1094,[{\"name\":\"总库存\",\"data\":{\"20200412\":10}},{\"name\":\"售出数量\",\"data\":{\"20200412\":0}},{\"name\":\"可用库存\",\"data\":{\"20200412\":10}}],[{\"name\":\"在单比\",\"data\":{\"20200412\":\"100.000%\"}},{\"name\":\"在途比\",\"data\":{\"20200412\":\"20.000%\"}}],\"21020 春日暖黄休闲衬衫\"],[\"9.93\",0.11,\"1.04\",\"29.000%\",\"https://retry-image.oss-cn-zhangjiakou.aliyuncs.com/product/spu/a36fb544-e28b-4464-91d7-08c6ef477985.png\",19,2,16,1,\"54.0\",\"1026.0\",536.08,1072,[{\"name\":\"总库存\",\"data\":{\"20200412\":19}},{\"name\":\"售出数量\",\"data\":{\"20200412\":2}},{\"name\":\"可用库存\",\"data\":{\"20200412\":16}}],[{\"name\":\"在单比\",\"data\":{\"20200412\":\"62.500%\"}},{\"name\":\"在途比\",\"data\":{\"20200412\":\"6.250%\"}}],\"20981 博主同款极致显瘦牛仔长裤\"],[\"12.61\",0.05,\"0.63\",\"25.000%\",\"https://retry-image.oss-cn-zhangjiakou.aliyuncs.com/product/spu/0aaee3eb-2558-4fd7-a523-6a5214e397c3.jpg\",20,1,18,1,\"99.0\",\"1980.0\",1248.64,1249,[{\"name\":\"总库存\",\"data\":{\"20200412\":20}},{\"name\":\"售出数量\",\"data\":{\"20200412\":1}},{\"name\":\"可用库存\",\"data\":{\"20200412\":18}}],[{\"name\":\"在单比\",\"data\":{\"20200412\":\"72.222%\"}},{\"name\":\"在途比\",\"data\":{\"20200412\":\"11.111%\"}}],\"20987 夏日百搭白色花苞半裙\"],[\"0.0\",0.0,\"0.17\",\"16.000%\",\"https://retry-image.oss-cn-zhangjiakou.aliyuncs.com/product/spu/428c989d-4fe7-4ea0-aa69-46d996b78095.png\",20,0,19,2,\"128.0\",\"2560.0\",0,423,[{\"name\":\"总库存\",\"data\":{\"20200412\":20}},{\"name\":\"售出数量\",\"data\":{\"20200412\":0}},{\"name\":\"可用库存\",\"data\":{\"20200412\":19}}],[{\"name\":\"在单比\",\"data\":{\"20200412\":\"94.737%\"}},{\"name\":\"在途比\",\"data\":{\"20200412\":\"15.789%\"}}],\"21070 超显瘦黑色高腰设计感半裙（含腰带）\"],[\"0.0\",0.0,\"0.16\",\"12.000%\",\"https://retry-image.oss-cn-zhangjiakou.aliyuncs.com/product/spu/34e3ff00-48bd-4961-ba20-8703abe8b976.jpg\",54,0,53,2,\"89.0\",\"4806.0\",0,771,[{\"name\":\"总库存\",\"data\":{\"20200412\":54}},{\"name\":\"售出数量\",\"data\":{\"20200412\":0}},{\"name\":\"可用库存\",\"data\":{\"20200412\":53}}],[{\"name\":\"在单比\",\"data\":{\"20200412\":\"18.868%\"}},{\"name\":\"在途比\",\"data\":{\"20200412\":\"3.774%\"}}],\"21010 超级显瘦百搭黑色神裤\"],[\"0.0\",0.0,\"0.74\",\"33.000%\",\"https://retry-image.oss-cn-zhangjiakou.aliyuncs.com/product/spu/412e16d5-7e66-4d33-8f09-cfd3f4f29e17.jpg\",10,0,9,1,\"69.0\",\"690.0\",0,514,[{\"name\":\"总库存\",\"data\":{\"20200412\":10}},{\"name\":\"售出数量\",\"data\":{\"20200412\":0}},{\"name\":\"可用库存\",\"data\":{\"20200412\":9}}],[{\"name\":\"在单比\",\"data\":{\"20200412\":\"100.000%\"}},{\"name\":\"在途比\",\"data\":{\"20200412\":\"0.000%\"}}],\"21065 天丝羊毛高品质超薄防嗮面膜T恤\"],[\"14.25\",0.07,\"1.02\",\"20.000%\",\"https://retry-image.oss-cn-zhangjiakou.aliyuncs.com/product/spu/ac269b00-1541-4532-9714-667b3925510f.png\",14,1,11,1,\"48.0\",\"672.0\",684.0,684,[{\"name\":\"总库存\",\"data\":{\"20200412\":14}},{\"name\":\"售出数量\",\"data\":{\"20200412\":1}},{\"name\":\"可用库存\",\"data\":{\"20200412\":11}}],[{\"name\":\"在单比\",\"data\":{\"20200412\":\"90.909%\"}},{\"name\":\"在途比\",\"data\":{\"20200412\":\"0.000%\"}}],\"21067 复古浅蓝色九分牛仔直筒裤\"],[\"0.0\",0.0,\"0.94\",\"38.000%\",\"https://retry-image.oss-cn-zhangjiakou.aliyuncs.com/product/spu/7fa81919-e3c4-4ae8-bf0f-b3337db43881.png\",7,0,7,2,\"128.0\",\"896.0\",0,839,[{\"name\":\"总库存\",\"data\":{\"20200412\":7}},{\"name\":\"售出数量\",\"data\":{\"20200412\":0}},{\"name\":\"可用库存\",\"data\":{\"20200412\":7}}],[{\"name\":\"在单比\",\"data\":{\"20200412\":\"100.000%\"}},{\"name\":\"在途比\",\"data\":{\"20200412\":\"28.571%\"}}],\"21069 超显瘦杏色高腰设计感半裙（含腰带）\"],[\"0.0\",0.0,\"0.0\",\"7.000%\",\"https://retry-image.oss-cn-zhangjiakou.aliyuncs.com/product/spu/a5736ae8-c682-404b-a8e6-0a99ec7666c1.jpg\",14,0,13,2,\"88.0\",\"1232.0\",0,0,[{\"name\":\"总库存\",\"data\":{\"20200412\":14}},{\"name\":\"售出数量\",\"data\":{\"20200412\":0}},{\"name\":\"可用库存\",\"data\":{\"20200412\":13}}],[{\"name\":\"在单比\",\"data\":{\"20200412\":\"84.615%\"}},{\"name\":\"在途比\",\"data\":{\"20200412\":\"7.692%\"}}],\"21004 撞色压线A字长款半裙\"],[\"0.0\",0.0,\"0.09\",\"17.000%\",\"https://retry-image.oss-cn-zhangjiakou.aliyuncs.com/product/spu/6550192e-a75f-4a1a-803e-21a7ad630a5b.jpg\",30,0,29,2,\"108.0\",\"3240.0\",0,287,[{\"name\":\"总库存\",\"data\":{\"20200412\":30}},{\"name\":\"售出数量\",\"data\":{\"20200412\":0}},{\"name\":\"可用库存\",\"data\":{\"20200412\":29}}],[{\"name\":\"在单比\",\"data\":{\"20200412\":\"24.138%\"}},{\"name\":\"在途比\",\"data\":{\"20200412\":\"3.448%\"}}],\"20992 灰色时髦运动短裤套装\"],[\"0.0\",0.0,\"0.33\",\"6.000%\",\"https://retry-image.oss-cn-zhangjiakou.aliyuncs.com/product/spu/d626aafd-7d17-4619-9bb2-54a89a59aa30.png\",15,0,14,1,\"42.0\",\"630.0\",0,211,[{\"name\":\"总库存\",\"data\":{\"20200412\":15}},{\"name\":\"售出数量\",\"data\":{\"20200412\":0}},{\"name\":\"可用库存\",\"data\":{\"20200412\":14}}],[{\"name\":\"在单比\",\"data\":{\"20200412\":\"100.000%\"}},{\"name\":\"在途比\",\"data\":{\"20200412\":\"7.143%\"}}],\"21066 复古浅蓝色牛仔长裤\"],[\"0.0\",0.0,\"0.0\",\"0.000%\",\"https://retry-image.oss-cn-zhangjiakou.aliyuncs.com/product/spu/54286591-8c65-42d8-8c20-c189ab742836.jpg\",20,0,19,1,\"99.0\",\"1980.0\",0,0,[{\"name\":\"总库存\",\"data\":{\"20200412\":20}},{\"name\":\"售出数量\",\"data\":{\"20200412\":0}},{\"name\":\"可用库存\",\"data\":{\"20200412\":19}}],[{\"name\":\"在单比\",\"data\":{\"20200412\":\"15.789%\"}},{\"name\":\"在途比\",\"data\":{\"20200412\":\"0.000%\"}}],\"20988 夏日百搭黄色花苞半裙\"]],\n",
       "      cur_product: 0,\n",
       "      chart1: [],\n",
       "      chart2: [],\n",
       "    },\n",
       "    methods: {\n",
       "      load_chart: function() {\n",
       "        this.chart1 = this.product_list[this.cur_product][13]\n",
       "        this.chart2 = this.product_list[this.cur_product][14]\n",
       "      },\n",
       "      left: function() {\n",
       "        this.cur_product -= 1\n",
       "        if (this.cur_product<0) this.cur_product = this.product_list.length-1\n",
       "        this.load_chart()\n",
       "      },\n",
       "      right: function() {\n",
       "        this.cur_product += 1\n",
       "        if (this.cur_product>=this.product_list.length) this.cur_product = 0\n",
       "        this.load_chart()\n",
       "      },\n",
       "      keyhandler: function() {\n",
       "        console.log(event.keyCode)\n",
       "        if (event.keyCode == 37) {\n",
       "        \tthis.left()\n",
       "        } else if (event.keyCode == 39) {\n",
       "        \tthis.right()\n",
       "        }\n",
       "      }\n",
       "    },\n",
       "    mounted () {\n",
       "      document.addEventListener(\"keyup\", this.keyhandler);\n",
       "    },\n",
       "    created () {\n",
       "      this.load_chart()\n",
       "    },\n",
       "  })\n",
       "</script>"
      ],
      "text/plain": [
       "\"\\n<div id=\\\"app_qNoAFvQCLE\\\">\\n<el-container>\\n\\n  <el-container>\\n\\n  <el-header>\\n    <el-row :gutter=\\\"24\\\">\\n      <el-col :span=\\\"4\\\">\\n        <el-button icon=\\\"el-icon-caret-left\\\" circle v-on:click=\\\"left\\\"></el-button>\\n        <el-button icon=\\\"el-icon-caret-right\\\" circle v-on:click=\\\"right\\\"></el-button>\\n      </el-col>\\n\\n      <el-col :span=\\\"20\\\">\\n        <h1>[{{ cur_product+1 }}] {{ product_list[cur_product][15] }}</h1>\\n      </el-col>\\n    </el-row>\\n  </el-header>\\n  <el-main>\\n    <el-divider></el-divider>\\n    <el-row>\\n      <el-col :span=\\\"12\\\">\\n        <el-button type=\\\"primary\\\" round>加价倍数: {{ product_list[cur_product][0] }}</el-button>\\n        <el-button type=\\\"primary\\\" round>售罄率: {{ product_list[cur_product][1] }}</el-button>\\n        <el-button type=\\\"success\\\" round>回本率: {{ product_list[cur_product][2] }}</el-button>\\n        <el-button type=\\\"success\\\" round>购买转化率: {{ product_list[cur_product][3] }}</el-button>\\n      </el-col>\\n    </el-row>\\n    <el-row :gutter=\\\"20\\\">\\n      <el-col :span=\\\"8\\\">\\n        <img style=\\\"width: 100%;\\\" v-bind:src=\\\"product_list[cur_product][4]\\\">\\n      </el-col>\\n      <el-col :span=\\\"16\\\">\\n        <line-chart :data=\\\"chart1\\\"></line-chart>\\n        <line-chart :data=\\\"chart2\\\"></line-chart>\\n        <el-row>\\n          <el-button round>采购件数: {{ product_list[cur_product][5] }}</el-button>\\n          <el-button round>销售件数: {{ product_list[cur_product][6] }}</el-button>\\n          <el-button round>库存件数: {{ product_list[cur_product][7] }}</el-button>\\n          <el-button round>补货次数: {{ product_list[cur_product][8] }}</el-button>\\n          <el-button round>采购价格: {{ product_list[cur_product][9] }}</el-button>\\n          <el-button round>采购成本: {{ product_list[cur_product][10] }}</el-button>\\n          <el-button round>销售价格: {{ product_list[cur_product][11] }}</el-button>\\n          <el-button round>销售总额: {{ product_list[cur_product][12] }}</el-button>\\n        </el-row>\\n      </el-col>\\n    </el-row>\\n    </el-main>\\n  </el-container>\\n</el-container>\\n</div>\\n\\n\\n\\n<script>\\n  Vue.use(VueChartkick.use(Chart))\\n\\n  app = new Vue({\\n    el: '#app_qNoAFvQCLE',\\n    data: {\\n      product_list: [[\\\"3.7\\\",0.88,\\\"3.24\\\",\\\"35.000%\\\",\\\"https://retry-image.oss-cn-zhangjiakou.aliyuncs.com/product/spu/1efe183d-996c-4414-ae01-e154314aac9a.jpg\\\",105,92,12,10,\\\"46.0\\\",\\\"4830.0\\\",170.18,15657,[{\\\"name\\\":\\\"总库存\\\",\\\"data\\\":{\\\"20200412\\\":105}},{\\\"name\\\":\\\"售出数量\\\",\\\"data\\\":{\\\"20200412\\\":92}},{\\\"name\\\":\\\"可用库存\\\",\\\"data\\\":{\\\"20200412\\\":12}}],[{\\\"name\\\":\\\"在单比\\\",\\\"data\\\":{\\\"20200412\\\":\\\"75.000%\\\"}},{\\\"name\\\":\\\"在途比\\\",\\\"data\\\":{\\\"20200412\\\":\\\"0.000%\\\"}}],\\\"10341 博主同款极致显瘦牛仔长裤\\\"],[\\\"3.26\\\",0.7,\\\"2.27\\\",\\\"33.000%\\\",\\\"https://retry-image.oss-cn-zhangjiakou.aliyuncs.com/product/spu/a9e8f097-92e5-4934-9364-ce940d149f27.jpg\\\",43,30,13,6,\\\"52.0\\\",\\\"2236.0\\\",169.54,5086,[{\\\"name\\\":\\\"总库存\\\",\\\"data\\\":{\\\"20200412\\\":43}},{\\\"name\\\":\\\"售出数量\\\",\\\"data\\\":{\\\"20200412\\\":30}},{\\\"name\\\":\\\"可用库存\\\",\\\"data\\\":{\\\"20200412\\\":13}}],[{\\\"name\\\":\\\"在单比\\\",\\\"data\\\":{\\\"20200412\\\":\\\"92.308%\\\"}},{\\\"name\\\":\\\"在途比\\\",\\\"data\\\":{\\\"20200412\\\":\\\"15.385%\\\"}}],\\\"20655 高腰微喇显瘦牛仔裤\\\"],[\\\"3.31\\\",0.37,\\\"1.22\\\",\\\"19.000%\\\",\\\"https://retry-image.oss-cn-zhangjiakou.aliyuncs.com/product/spu/cd0ff93b-b9bc-4c78-98eb-b28ae6ebc5c1.jpg\\\",68,25,43,3,\\\"92.0\\\",\\\"6256.0\\\",304.33,7608,[{\\\"name\\\":\\\"总库存\\\",\\\"data\\\":{\\\"20200412\\\":68}},{\\\"name\\\":\\\"售出数量\\\",\\\"data\\\":{\\\"20200412\\\":25}},{\\\"name\\\":\\\"可用库存\\\",\\\"data\\\":{\\\"20200412\\\":43}}],[{\\\"name\\\":\\\"在单比\\\",\\\"data\\\":{\\\"20200412\\\":\\\"88.372%\\\"}},{\\\"name\\\":\\\"在途比\\\",\\\"data\\\":{\\\"20200412\\\":\\\"4.651%\\\"}}],\\\"20678 干练职业显瘦西装裤\\\"],[\\\"2.34\\\",0.48,\\\"1.11\\\",\\\"18.000%\\\",\\\"https://image.wetry.shop/product/spu/10294/10294_a.jpg\\\",42,20,20,7,\\\"79.0\\\",\\\"3318.0\\\",184.87,3697,[{\\\"name\\\":\\\"总库存\\\",\\\"data\\\":{\\\"20200412\\\":42}},{\\\"name\\\":\\\"售出数量\\\",\\\"data\\\":{\\\"20200412\\\":20}},{\\\"name\\\":\\\"可用库存\\\",\\\"data\\\":{\\\"20200412\\\":20}}],[{\\\"name\\\":\\\"在单比\\\",\\\"data\\\":{\\\"20200412\\\":\\\"85.000%\\\"}},{\\\"name\\\":\\\"在途比\\\",\\\"data\\\":{\\\"20200412\\\":\\\"15.000%\\\"}}],\\\"10294 设计感牛仔阔腿裤\\\"],[\\\"5.16\\\",0.85,\\\"4.39\\\",\\\"38.000%\\\",\\\"https://retry-image.oss-cn-zhangjiakou.aliyuncs.com/product/spu/b338407d-8f2a-4137-b45c-bb978db5d5d9.jpg\\\",20,17,3,1,\\\"48.0\\\",\\\"960.0\\\",247.89,4214,[{\\\"name\\\":\\\"总库存\\\",\\\"data\\\":{\\\"20200412\\\":20}},{\\\"name\\\":\\\"售出数量\\\",\\\"data\\\":{\\\"20200412\\\":17}},{\\\"name\\\":\\\"可用库存\\\",\\\"data\\\":{\\\"20200412\\\":3}}],[{\\\"name\\\":\\\"在单比\\\",\\\"data\\\":{\\\"20200412\\\":\\\"33.333%\\\"}},{\\\"name\\\":\\\"在途比\\\",\\\"data\\\":{\\\"20200412\\\":\\\"0.000%\\\"}}],\\\"20723 复古蓝色九分牛仔直筒裤\\\"],[\\\"5.92\\\",0.61,\\\"3.6\\\",\\\"27.000%\\\",\\\"https://retry-image.oss-cn-zhangjiakou.aliyuncs.com/product/spu/ef138ff9-1afa-456f-8284-ddfcc538ac9c.jpg\\\",23,14,9,2,\\\"46.0\\\",\\\"1058.0\\\",272.35,3813,[{\\\"name\\\":\\\"总库存\\\",\\\"data\\\":{\\\"20200412\\\":23}},{\\\"name\\\":\\\"售出数量\\\",\\\"data\\\":{\\\"20200412\\\":14}},{\\\"name\\\":\\\"可用库存\\\",\\\"data\\\":{\\\"20200412\\\":9}}],[{\\\"name\\\":\\\"在单比\\\",\\\"data\\\":{\\\"20200412\\\":\\\"77.778%\\\"}},{\\\"name\\\":\\\"在途比\\\",\\\"data\\\":{\\\"20200412\\\":\\\"22.222%\\\"}}],\\\"20721 复古蓝色牛仔长裤\\\"],[\\\"2.62\\\",0.59,\\\"1.55\\\",\\\"29.000%\\\",\\\"https://retry-image.oss-cn-zhangjiakou.aliyuncs.com/product/spu/052194d2-593f-49ce-97e4-7092412d2347.jpg\\\",27,16,10,2,\\\"102.0\\\",\\\"2754.0\\\",267.05,4273,[{\\\"name\\\":\\\"总库存\\\",\\\"data\\\":{\\\"20200412\\\":27}},{\\\"name\\\":\\\"售出数量\\\",\\\"data\\\":{\\\"20200412\\\":16}},{\\\"name\\\":\\\"可用库存\\\",\\\"data\\\":{\\\"20200412\\\":10}}],[{\\\"name\\\":\\\"在单比\\\",\\\"data\\\":{\\\"20200412\\\":\\\"90.000%\\\"}},{\\\"name\\\":\\\"在途比\\\",\\\"data\\\":{\\\"20200412\\\":\\\"10.000%\\\"}}],\\\"20716 设计感显瘦微喇西装裤\\\"],[\\\"3.69\\\",0.28,\\\"1.03\\\",\\\"34.000%\\\",\\\"https://retry-image.oss-cn-zhangjiakou.aliyuncs.com/product/spu/ccdafc72-ee66-4cae-bada-e8c03b4c3fff.jpg\\\",43,12,30,5,\\\"99.0\\\",\\\"4257.0\\\",365.28,4383,[{\\\"name\\\":\\\"总库存\\\",\\\"data\\\":{\\\"20200412\\\":43}},{\\\"name\\\":\\\"售出数量\\\",\\\"data\\\":{\\\"20200412\\\":12}},{\\\"name\\\":\\\"可用库存\\\",\\\"data\\\":{\\\"20200412\\\":30}}],[{\\\"name\\\":\\\"在单比\\\",\\\"data\\\":{\\\"20200412\\\":\\\"23.333%\\\"}},{\\\"name\\\":\\\"在途比\\\",\\\"data\\\":{\\\"20200412\\\":\\\"6.667%\\\"}}],\\\"20732 浅蓝色阔腿牛仔裤\\\"],[\\\"5.15\\\",0.31,\\\"1.58\\\",\\\"31.000%\\\",\\\"https://retry-image.oss-cn-zhangjiakou.aliyuncs.com/product/spu/6448661b-7c62-4d11-8de2-5dd297cff657.png\\\",26,8,17,4,\\\"46.0\\\",\\\"1196.0\\\",236.89,1895,[{\\\"name\\\":\\\"总库存\\\",\\\"data\\\":{\\\"20200412\\\":26}},{\\\"name\\\":\\\"售出数量\\\",\\\"data\\\":{\\\"20200412\\\":8}},{\\\"name\\\":\\\"可用库存\\\",\\\"data\\\":{\\\"20200412\\\":17}}],[{\\\"name\\\":\\\"在单比\\\",\\\"data\\\":{\\\"20200412\\\":\\\"94.118%\\\"}},{\\\"name\\\":\\\"在途比\\\",\\\"data\\\":{\\\"20200412\\\":\\\"17.647%\\\"}}],\\\"20944 黑色V领口显瘦打底衫\\\"],[\\\"6.16\\\",0.46,\\\"2.82\\\",\\\"21.000%\\\",\\\"https://retry-image.oss-cn-zhangjiakou.aliyuncs.com/product/spu/9554780c-0c64-48c8-8f6b-aef36df0f93d.jpg\\\",24,11,13,3,\\\"46.0\\\",\\\"1104.0\\\",283.19,3115,[{\\\"name\\\":\\\"总库存\\\",\\\"data\\\":{\\\"20200412\\\":24}},{\\\"name\\\":\\\"售出数量\\\",\\\"data\\\":{\\\"20200412\\\":11}},{\\\"name\\\":\\\"可用库存\\\",\\\"data\\\":{\\\"20200412\\\":13}}],[{\\\"name\\\":\\\"在单比\\\",\\\"data\\\":{\\\"20200412\\\":\\\"100.000%\\\"}},{\\\"name\\\":\\\"在途比\\\",\\\"data\\\":{\\\"20200412\\\":\\\"7.692%\\\"}}],\\\"20722 复古蓝色小哈伦牛仔裤\\\"],[\\\"0.0\\\",0.0,\\\"0.48\\\",\\\"19.000%\\\",\\\"https://retry-image.oss-cn-zhangjiakou.aliyuncs.com/product/spu/3e989251-3970-4ad4-bd73-a16b17feb844.jpg\\\",55,0,54,2,\\\"89.0\\\",\\\"4895.0\\\",0,2366,[{\\\"name\\\":\\\"总库存\\\",\\\"data\\\":{\\\"20200412\\\":55}},{\\\"name\\\":\\\"售出数量\\\",\\\"data\\\":{\\\"20200412\\\":0}},{\\\"name\\\":\\\"可用库存\\\",\\\"data\\\":{\\\"20200412\\\":54}}],[{\\\"name\\\":\\\"在单比\\\",\\\"data\\\":{\\\"20200412\\\":\\\"75.926%\\\"}},{\\\"name\\\":\\\"在途比\\\",\\\"data\\\":{\\\"20200412\\\":\\\"5.556%\\\"}}],\\\"21011 百搭显瘦款褶皱深蓝色休闲裤\\\"],[\\\"2.43\\\",0.33,\\\"0.81\\\",\\\"20.000%\\\",\\\"https://retry-image.oss-cn-zhangjiakou.aliyuncs.com/product/spu/0d779da6-2525-4a8e-afab-4b55180ebabf.jpg\\\",36,12,16,5,\\\"99.0\\\",\\\"3564.0\\\",240.62,2887,[{\\\"name\\\":\\\"总库存\\\",\\\"data\\\":{\\\"20200412\\\":36}},{\\\"name\\\":\\\"售出数量\\\",\\\"data\\\":{\\\"20200412\\\":12}},{\\\"name\\\":\\\"可用库存\\\",\\\"data\\\":{\\\"20200412\\\":16}}],[{\\\"name\\\":\\\"在单比\\\",\\\"data\\\":{\\\"20200412\\\":\\\"81.250%\\\"}},{\\\"name\\\":\\\"在途比\\\",\\\"data\\\":{\\\"20200412\\\":\\\"12.500%\\\"}}],\\\"20676 通勤职业显瘦西装裤\\\"],[\\\"4.1\\\",0.33,\\\"1.37\\\",\\\"29.000%\\\",\\\"https://retry-image.oss-cn-zhangjiakou.aliyuncs.com/product/spu/0d74f50e-05e9-4478-ab7b-0f70d954107b.jpg\\\",15,5,9,3,\\\"95.0\\\",\\\"1425.0\\\",389.36,1947,[{\\\"name\\\":\\\"总库存\\\",\\\"data\\\":{\\\"20200412\\\":15}},{\\\"name\\\":\\\"售出数量\\\",\\\"data\\\":{\\\"20200412\\\":5}},{\\\"name\\\":\\\"可用库存\\\",\\\"data\\\":{\\\"20200412\\\":9}}],[{\\\"name\\\":\\\"在单比\\\",\\\"data\\\":{\\\"20200412\\\":\\\"100.000%\\\"}},{\\\"name\\\":\\\"在途比\\\",\\\"data\\\":{\\\"20200412\\\":\\\"11.111%\\\"}}],\\\"20809 慵懒风杏色云朵裤\\\"],[\\\"4.82\\\",0.24,\\\"1.16\\\",\\\"18.000%\\\",\\\"https://retry-image.oss-cn-zhangjiakou.aliyuncs.com/product/spu/c9e4ff94-4251-45eb-8cc6-807ecf2f3945.jpg\\\",25,6,17,6,\\\"65.0\\\",\\\"1625.0\\\",313.56,1881,[{\\\"name\\\":\\\"总库存\\\",\\\"data\\\":{\\\"20200412\\\":25}},{\\\"name\\\":\\\"售出数量\\\",\\\"data\\\":{\\\"20200412\\\":6}},{\\\"name\\\":\\\"可用库存\\\",\\\"data\\\":{\\\"20200412\\\":17}}],[{\\\"name\\\":\\\"在单比\\\",\\\"data\\\":{\\\"20200412\\\":\\\"94.118%\\\"}},{\\\"name\\\":\\\"在途比\\\",\\\"data\\\":{\\\"20200412\\\":\\\"5.882%\\\"}}],\\\"20777 淡黄色真丝感A字中裙\\\"],[\\\"5.07\\\",0.27,\\\"1.35\\\",\\\"33.000%\\\",\\\"https://retry-image.oss-cn-zhangjiakou.aliyuncs.com/product/spu/a60f9202-43c7-477c-aa48-6c1d80ef7909.png\\\",15,4,11,3,\\\"95.0\\\",\\\"1425.0\\\",481.66,1927,[{\\\"name\\\":\\\"总库存\\\",\\\"data\\\":{\\\"20200412\\\":15}},{\\\"name\\\":\\\"售出数量\\\",\\\"data\\\":{\\\"20200412\\\":4}},{\\\"name\\\":\\\"可用库存\\\",\\\"data\\\":{\\\"20200412\\\":11}}],[{\\\"name\\\":\\\"在单比\\\",\\\"data\\\":{\\\"20200412\\\":\\\"81.818%\\\"}},{\\\"name\\\":\\\"在途比\\\",\\\"data\\\":{\\\"20200412\\\":\\\"0.000%\\\"}}],\\\"20810 显瘦女神款长款\\\"],[\\\"2.48\\\",0.54,\\\"1.33\\\",\\\"23.000%\\\",\\\"https://retry-image.oss-cn-zhangjiakou.aliyuncs.com/product/spu/65dcbd09-b69d-4f09-9d1e-3eeaa17c3a55.png\\\",13,7,6,3,\\\"108.0\\\",\\\"1404.0\\\",267.53,1873,[{\\\"name\\\":\\\"总库存\\\",\\\"data\\\":{\\\"20200412\\\":13}},{\\\"name\\\":\\\"售出数量\\\",\\\"data\\\":{\\\"20200412\\\":7}},{\\\"name\\\":\\\"可用库存\\\",\\\"data\\\":{\\\"20200412\\\":6}}],[{\\\"name\\\":\\\"在单比\\\",\\\"data\\\":{\\\"20200412\\\":\\\"83.333%\\\"}},{\\\"name\\\":\\\"在途比\\\",\\\"data\\\":{\\\"20200412\\\":\\\"0.000%\\\"}}],\\\"20803 法式复古V领连衣裙\\\"],[\\\"0.0\\\",0.0,\\\"1.5\\\",\\\"50.000%\\\",\\\"https://retry-image.oss-cn-zhangjiakou.aliyuncs.com/product/spu/dd552b39-6342-4790-99f6-c81be8fe43ae.png\\\",10,0,10,2,\\\"73.0\\\",\\\"730.0\\\",0,1094,[{\\\"name\\\":\\\"总库存\\\",\\\"data\\\":{\\\"20200412\\\":10}},{\\\"name\\\":\\\"售出数量\\\",\\\"data\\\":{\\\"20200412\\\":0}},{\\\"name\\\":\\\"可用库存\\\",\\\"data\\\":{\\\"20200412\\\":10}}],[{\\\"name\\\":\\\"在单比\\\",\\\"data\\\":{\\\"20200412\\\":\\\"100.000%\\\"}},{\\\"name\\\":\\\"在途比\\\",\\\"data\\\":{\\\"20200412\\\":\\\"20.000%\\\"}}],\\\"21020 春日暖黄休闲衬衫\\\"],[\\\"9.93\\\",0.11,\\\"1.04\\\",\\\"29.000%\\\",\\\"https://retry-image.oss-cn-zhangjiakou.aliyuncs.com/product/spu/a36fb544-e28b-4464-91d7-08c6ef477985.png\\\",19,2,16,1,\\\"54.0\\\",\\\"1026.0\\\",536.08,1072,[{\\\"name\\\":\\\"总库存\\\",\\\"data\\\":{\\\"20200412\\\":19}},{\\\"name\\\":\\\"售出数量\\\",\\\"data\\\":{\\\"20200412\\\":2}},{\\\"name\\\":\\\"可用库存\\\",\\\"data\\\":{\\\"20200412\\\":16}}],[{\\\"name\\\":\\\"在单比\\\",\\\"data\\\":{\\\"20200412\\\":\\\"62.500%\\\"}},{\\\"name\\\":\\\"在途比\\\",\\\"data\\\":{\\\"20200412\\\":\\\"6.250%\\\"}}],\\\"20981 博主同款极致显瘦牛仔长裤\\\"],[\\\"12.61\\\",0.05,\\\"0.63\\\",\\\"25.000%\\\",\\\"https://retry-image.oss-cn-zhangjiakou.aliyuncs.com/product/spu/0aaee3eb-2558-4fd7-a523-6a5214e397c3.jpg\\\",20,1,18,1,\\\"99.0\\\",\\\"1980.0\\\",1248.64,1249,[{\\\"name\\\":\\\"总库存\\\",\\\"data\\\":{\\\"20200412\\\":20}},{\\\"name\\\":\\\"售出数量\\\",\\\"data\\\":{\\\"20200412\\\":1}},{\\\"name\\\":\\\"可用库存\\\",\\\"data\\\":{\\\"20200412\\\":18}}],[{\\\"name\\\":\\\"在单比\\\",\\\"data\\\":{\\\"20200412\\\":\\\"72.222%\\\"}},{\\\"name\\\":\\\"在途比\\\",\\\"data\\\":{\\\"20200412\\\":\\\"11.111%\\\"}}],\\\"20987 夏日百搭白色花苞半裙\\\"],[\\\"0.0\\\",0.0,\\\"0.17\\\",\\\"16.000%\\\",\\\"https://retry-image.oss-cn-zhangjiakou.aliyuncs.com/product/spu/428c989d-4fe7-4ea0-aa69-46d996b78095.png\\\",20,0,19,2,\\\"128.0\\\",\\\"2560.0\\\",0,423,[{\\\"name\\\":\\\"总库存\\\",\\\"data\\\":{\\\"20200412\\\":20}},{\\\"name\\\":\\\"售出数量\\\",\\\"data\\\":{\\\"20200412\\\":0}},{\\\"name\\\":\\\"可用库存\\\",\\\"data\\\":{\\\"20200412\\\":19}}],[{\\\"name\\\":\\\"在单比\\\",\\\"data\\\":{\\\"20200412\\\":\\\"94.737%\\\"}},{\\\"name\\\":\\\"在途比\\\",\\\"data\\\":{\\\"20200412\\\":\\\"15.789%\\\"}}],\\\"21070 超显瘦黑色高腰设计感半裙（含腰带）\\\"],[\\\"0.0\\\",0.0,\\\"0.16\\\",\\\"12.000%\\\",\\\"https://retry-image.oss-cn-zhangjiakou.aliyuncs.com/product/spu/34e3ff00-48bd-4961-ba20-8703abe8b976.jpg\\\",54,0,53,2,\\\"89.0\\\",\\\"4806.0\\\",0,771,[{\\\"name\\\":\\\"总库存\\\",\\\"data\\\":{\\\"20200412\\\":54}},{\\\"name\\\":\\\"售出数量\\\",\\\"data\\\":{\\\"20200412\\\":0}},{\\\"name\\\":\\\"可用库存\\\",\\\"data\\\":{\\\"20200412\\\":53}}],[{\\\"name\\\":\\\"在单比\\\",\\\"data\\\":{\\\"20200412\\\":\\\"18.868%\\\"}},{\\\"name\\\":\\\"在途比\\\",\\\"data\\\":{\\\"20200412\\\":\\\"3.774%\\\"}}],\\\"21010 超级显瘦百搭黑色神裤\\\"],[\\\"0.0\\\",0.0,\\\"0.74\\\",\\\"33.000%\\\",\\\"https://retry-image.oss-cn-zhangjiakou.aliyuncs.com/product/spu/412e16d5-7e66-4d33-8f09-cfd3f4f29e17.jpg\\\",10,0,9,1,\\\"69.0\\\",\\\"690.0\\\",0,514,[{\\\"name\\\":\\\"总库存\\\",\\\"data\\\":{\\\"20200412\\\":10}},{\\\"name\\\":\\\"售出数量\\\",\\\"data\\\":{\\\"20200412\\\":0}},{\\\"name\\\":\\\"可用库存\\\",\\\"data\\\":{\\\"20200412\\\":9}}],[{\\\"name\\\":\\\"在单比\\\",\\\"data\\\":{\\\"20200412\\\":\\\"100.000%\\\"}},{\\\"name\\\":\\\"在途比\\\",\\\"data\\\":{\\\"20200412\\\":\\\"0.000%\\\"}}],\\\"21065 天丝羊毛高品质超薄防嗮面膜T恤\\\"],[\\\"14.25\\\",0.07,\\\"1.02\\\",\\\"20.000%\\\",\\\"https://retry-image.oss-cn-zhangjiakou.aliyuncs.com/product/spu/ac269b00-1541-4532-9714-667b3925510f.png\\\",14,1,11,1,\\\"48.0\\\",\\\"672.0\\\",684.0,684,[{\\\"name\\\":\\\"总库存\\\",\\\"data\\\":{\\\"20200412\\\":14}},{\\\"name\\\":\\\"售出数量\\\",\\\"data\\\":{\\\"20200412\\\":1}},{\\\"name\\\":\\\"可用库存\\\",\\\"data\\\":{\\\"20200412\\\":11}}],[{\\\"name\\\":\\\"在单比\\\",\\\"data\\\":{\\\"20200412\\\":\\\"90.909%\\\"}},{\\\"name\\\":\\\"在途比\\\",\\\"data\\\":{\\\"20200412\\\":\\\"0.000%\\\"}}],\\\"21067 复古浅蓝色九分牛仔直筒裤\\\"],[\\\"0.0\\\",0.0,\\\"0.94\\\",\\\"38.000%\\\",\\\"https://retry-image.oss-cn-zhangjiakou.aliyuncs.com/product/spu/7fa81919-e3c4-4ae8-bf0f-b3337db43881.png\\\",7,0,7,2,\\\"128.0\\\",\\\"896.0\\\",0,839,[{\\\"name\\\":\\\"总库存\\\",\\\"data\\\":{\\\"20200412\\\":7}},{\\\"name\\\":\\\"售出数量\\\",\\\"data\\\":{\\\"20200412\\\":0}},{\\\"name\\\":\\\"可用库存\\\",\\\"data\\\":{\\\"20200412\\\":7}}],[{\\\"name\\\":\\\"在单比\\\",\\\"data\\\":{\\\"20200412\\\":\\\"100.000%\\\"}},{\\\"name\\\":\\\"在途比\\\",\\\"data\\\":{\\\"20200412\\\":\\\"28.571%\\\"}}],\\\"21069 超显瘦杏色高腰设计感半裙（含腰带）\\\"],[\\\"0.0\\\",0.0,\\\"0.0\\\",\\\"7.000%\\\",\\\"https://retry-image.oss-cn-zhangjiakou.aliyuncs.com/product/spu/a5736ae8-c682-404b-a8e6-0a99ec7666c1.jpg\\\",14,0,13,2,\\\"88.0\\\",\\\"1232.0\\\",0,0,[{\\\"name\\\":\\\"总库存\\\",\\\"data\\\":{\\\"20200412\\\":14}},{\\\"name\\\":\\\"售出数量\\\",\\\"data\\\":{\\\"20200412\\\":0}},{\\\"name\\\":\\\"可用库存\\\",\\\"data\\\":{\\\"20200412\\\":13}}],[{\\\"name\\\":\\\"在单比\\\",\\\"data\\\":{\\\"20200412\\\":\\\"84.615%\\\"}},{\\\"name\\\":\\\"在途比\\\",\\\"data\\\":{\\\"20200412\\\":\\\"7.692%\\\"}}],\\\"21004 撞色压线A字长款半裙\\\"],[\\\"0.0\\\",0.0,\\\"0.09\\\",\\\"17.000%\\\",\\\"https://retry-image.oss-cn-zhangjiakou.aliyuncs.com/product/spu/6550192e-a75f-4a1a-803e-21a7ad630a5b.jpg\\\",30,0,29,2,\\\"108.0\\\",\\\"3240.0\\\",0,287,[{\\\"name\\\":\\\"总库存\\\",\\\"data\\\":{\\\"20200412\\\":30}},{\\\"name\\\":\\\"售出数量\\\",\\\"data\\\":{\\\"20200412\\\":0}},{\\\"name\\\":\\\"可用库存\\\",\\\"data\\\":{\\\"20200412\\\":29}}],[{\\\"name\\\":\\\"在单比\\\",\\\"data\\\":{\\\"20200412\\\":\\\"24.138%\\\"}},{\\\"name\\\":\\\"在途比\\\",\\\"data\\\":{\\\"20200412\\\":\\\"3.448%\\\"}}],\\\"20992 灰色时髦运动短裤套装\\\"],[\\\"0.0\\\",0.0,\\\"0.33\\\",\\\"6.000%\\\",\\\"https://retry-image.oss-cn-zhangjiakou.aliyuncs.com/product/spu/d626aafd-7d17-4619-9bb2-54a89a59aa30.png\\\",15,0,14,1,\\\"42.0\\\",\\\"630.0\\\",0,211,[{\\\"name\\\":\\\"总库存\\\",\\\"data\\\":{\\\"20200412\\\":15}},{\\\"name\\\":\\\"售出数量\\\",\\\"data\\\":{\\\"20200412\\\":0}},{\\\"name\\\":\\\"可用库存\\\",\\\"data\\\":{\\\"20200412\\\":14}}],[{\\\"name\\\":\\\"在单比\\\",\\\"data\\\":{\\\"20200412\\\":\\\"100.000%\\\"}},{\\\"name\\\":\\\"在途比\\\",\\\"data\\\":{\\\"20200412\\\":\\\"7.143%\\\"}}],\\\"21066 复古浅蓝色牛仔长裤\\\"],[\\\"0.0\\\",0.0,\\\"0.0\\\",\\\"0.000%\\\",\\\"https://retry-image.oss-cn-zhangjiakou.aliyuncs.com/product/spu/54286591-8c65-42d8-8c20-c189ab742836.jpg\\\",20,0,19,1,\\\"99.0\\\",\\\"1980.0\\\",0,0,[{\\\"name\\\":\\\"总库存\\\",\\\"data\\\":{\\\"20200412\\\":20}},{\\\"name\\\":\\\"售出数量\\\",\\\"data\\\":{\\\"20200412\\\":0}},{\\\"name\\\":\\\"可用库存\\\",\\\"data\\\":{\\\"20200412\\\":19}}],[{\\\"name\\\":\\\"在单比\\\",\\\"data\\\":{\\\"20200412\\\":\\\"15.789%\\\"}},{\\\"name\\\":\\\"在途比\\\",\\\"data\\\":{\\\"20200412\\\":\\\"0.000%\\\"}}],\\\"20988 夏日百搭黄色花苞半裙\\\"]],\\n      cur_product: 0,\\n      chart1: [],\\n      chart2: [],\\n    },\\n    methods: {\\n      load_chart: function() {\\n        this.chart1 = this.product_list[this.cur_product][13]\\n        this.chart2 = this.product_list[this.cur_product][14]\\n      },\\n      left: function() {\\n        this.cur_product -= 1\\n        if (this.cur_product<0) this.cur_product = this.product_list.length-1\\n        this.load_chart()\\n      },\\n      right: function() {\\n        this.cur_product += 1\\n        if (this.cur_product>=this.product_list.length) this.cur_product = 0\\n        this.load_chart()\\n      },\\n      keyhandler: function() {\\n        console.log(event.keyCode)\\n        if (event.keyCode == 37) {\\n        \\tthis.left()\\n        } else if (event.keyCode == 39) {\\n        \\tthis.right()\\n        }\\n      }\\n    },\\n    mounted () {\\n      document.addEventListener(\\\"keyup\\\", this.keyhandler);\\n    },\\n    created () {\\n      this.load_chart()\\n    },\\n  })\\n</script>\""
      ]
     },
     "metadata": {},
     "output_type": "display_data"
    }
   ],
   "source": [
    "puts_display render(\"主推品一览表\",{:product_list=>product_list})\n",
    "puts_to_file(render(\"主推品一览表\",{:product_list=>product_list}),\"output/主推品一览表.html\")"
   ]
  }
 ],
 "metadata": {
  "kernelspec": {
   "display_name": "Ruby 2.7.0",
   "language": "ruby",
   "name": "ruby"
  },
  "language_info": {
   "file_extension": ".rb",
   "mimetype": "application/x-ruby",
   "name": "ruby",
   "version": "2.7.0"
  }
 },
 "nbformat": 4,
 "nbformat_minor": 4
}
