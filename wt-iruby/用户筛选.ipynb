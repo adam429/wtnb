{
 "cells": [
  {
   "cell_type": "code",
   "execution_count": 1,
   "metadata": {},
   "outputs": [
    {
     "data": {
      "text/html": [
       "<script src='https://unpkg.com/vue/dist/vue.js'></script>\n",
       "<script src='https://unpkg.com/chart.js@2.9.3/dist/Chart.bundle.js'></script>\n",
       "<script src='https://unpkg.com/vue-chartkick@0.5.1/dist/vue-chartkick.js'></script>\n",
       "<script src='https://unpkg.com/element-ui/lib/index.js'></script>\n"
      ],
      "text/plain": [
       "\"<script src='https://unpkg.com/vue/dist/vue.js'></script>\\n<script src='https://unpkg.com/chart.js@2.9.3/dist/Chart.bundle.js'></script>\\n<script src='https://unpkg.com/vue-chartkick@0.5.1/dist/vue-chartkick.js'></script>\\n<script src='https://unpkg.com/element-ui/lib/index.js'></script>\\n\""
      ]
     },
     "metadata": {},
     "output_type": "display_data"
    },
    {
     "data": {
      "text/html": [
       "<link rel='stylesheet' href='https://unpkg.com/element-ui/lib/theme-chalk/index.css'>\n"
      ],
      "text/plain": [
       "\"<link rel='stylesheet' href='https://unpkg.com/element-ui/lib/theme-chalk/index.css'>\\n\""
      ]
     },
     "metadata": {},
     "output_type": "display_data"
    },
    {
     "data": {
      "text/plain": [
       "{}"
      ]
     },
     "execution_count": 1,
     "metadata": {},
     "output_type": "execute_result"
    }
   ],
   "source": [
    "## 设置数据库 & 定义数据模型\n",
    "    \n",
    "load './wtnb/wtnb.rb'\n",
    "load './wtnb/wtmodel.rb'\n",
    "\n",
    "IRuby.display IRuby.html(include_js)\n",
    "IRuby.display IRuby.html(include_css)\n",
    "nil\n",
    "\n",
    "connect_db(\"online\")\n",
    "disable_cache"
   ]
  },
  {
   "cell_type": "code",
   "execution_count": 2,
   "metadata": {},
   "outputs": [],
   "source": [
    "group = Store[\"group_marriage\"]\n",
    "nil"
   ]
  },
  {
   "cell_type": "code",
   "execution_count": 3,
   "metadata": {},
   "outputs": [
    {
     "data": {
      "text/html": [
       "<h1>宝妈人群预定情况</h1>"
      ],
      "text/plain": [
       "\"<h1>宝妈人群预定情况</h1>\""
      ]
     },
     "metadata": {},
     "output_type": "display_data"
    },
    {
     "data": {
      "text/html": [
       "\n",
       "<div id=\"app_cJbWO9dfLk\">\n",
       "<el-container>\n",
       "  <el-container>\n",
       "    <el-header>\n",
       "      <el-row :gutter=\"24\">\n",
       "        <el-col :span=\"4\">\n",
       "          <el-button icon=\"el-icon-caret-left\" circle v-on:click=\"left\"></el-button>\n",
       "          <el-button icon=\"el-icon-caret-right\" circle v-on:click=\"right\"></el-button>\n",
       "        </el-col>\n",
       "\n",
       "        <el-col :span=\"20\">\n",
       "          <h1>[{{cur_url}}] {{ url[cur_url] }}</h1>\n",
       "        </el-col>\n",
       "      </el-row>\n",
       "    </el-header>\n",
       "    <el-main>\n",
       "      <el-divider></el-divider>\n",
       "      <iframe v-bind:src=\"url[cur_url]\" width=\"1400\" height=\"800\"></iframe>\n",
       "    </el-main>\n",
       "\n",
       "  </el-container>\n",
       "</el-container>\n",
       "</div>\n",
       "\n",
       "\n",
       "\n",
       "<script>\n",
       "  Vue.use(VueChartkick.use(Chart))\n",
       "\n",
       "  app = new Vue({\n",
       "    el: '#app_cJbWO9dfLk',\n",
       "    data: {\n",
       "      url: [\"http://localhost:3000/user/2622\",\"http://localhost:3000/user/2982\",\"http://localhost:3000/user/3152\",\"http://localhost:3000/user/3621\",\"http://localhost:3000/user/3624\",\"http://localhost:3000/user/4111\",\"http://localhost:3000/user/4500\",\"http://localhost:3000/user/4816\",\"http://localhost:3000/user/10231\",\"http://localhost:3000/user/10529\",\"http://localhost:3000/user/11294\",\"http://localhost:3000/user/12046\"],\n",
       "      cur_url: 0\n",
       "    },\n",
       "    methods: {\n",
       "      left: function() {\n",
       "        this.cur_url -= 1\n",
       "        if (this.cur_url<0) this.cur_url = this.url.length-1\n",
       "      },\n",
       "      right: function() {\n",
       "        this.cur_url += 1\n",
       "        if (this.cur_url>=this.url.length) this.cur_url = 0\n",
       "      },\n",
       "      keyhandler: function() {\n",
       "        console.log(event.keyCode)\n",
       "        if (event.keyCode == 37) {\n",
       "        \tthis.left()\n",
       "        } else if (event.keyCode == 39) {\n",
       "        \tthis.right()\n",
       "        }\n",
       "      }\n",
       "    },\n",
       "    mounted () {\n",
       "      document.addEventListener(\"keyup\", this.keyhandler);\n",
       "    }\n",
       "  })\n",
       "</script>"
      ],
      "text/plain": [
       "\"\\n<div id=\\\"app_cJbWO9dfLk\\\">\\n<el-container>\\n  <el-container>\\n    <el-header>\\n      <el-row :gutter=\\\"24\\\">\\n        <el-col :span=\\\"4\\\">\\n          <el-button icon=\\\"el-icon-caret-left\\\" circle v-on:click=\\\"left\\\"></el-button>\\n          <el-button icon=\\\"el-icon-caret-right\\\" circle v-on:click=\\\"right\\\"></el-button>\\n        </el-col>\\n\\n        <el-col :span=\\\"20\\\">\\n          <h1>[{{cur_url}}] {{ url[cur_url] }}</h1>\\n        </el-col>\\n      </el-row>\\n    </el-header>\\n    <el-main>\\n      <el-divider></el-divider>\\n      <iframe v-bind:src=\\\"url[cur_url]\\\" width=\\\"1400\\\" height=\\\"800\\\"></iframe>\\n    </el-main>\\n\\n  </el-container>\\n</el-container>\\n</div>\\n\\n\\n\\n<script>\\n  Vue.use(VueChartkick.use(Chart))\\n\\n  app = new Vue({\\n    el: '#app_cJbWO9dfLk',\\n    data: {\\n      url: [\\\"http://localhost:3000/user/2622\\\",\\\"http://localhost:3000/user/2982\\\",\\\"http://localhost:3000/user/3152\\\",\\\"http://localhost:3000/user/3621\\\",\\\"http://localhost:3000/user/3624\\\",\\\"http://localhost:3000/user/4111\\\",\\\"http://localhost:3000/user/4500\\\",\\\"http://localhost:3000/user/4816\\\",\\\"http://localhost:3000/user/10231\\\",\\\"http://localhost:3000/user/10529\\\",\\\"http://localhost:3000/user/11294\\\",\\\"http://localhost:3000/user/12046\\\"],\\n      cur_url: 0\\n    },\\n    methods: {\\n      left: function() {\\n        this.cur_url -= 1\\n        if (this.cur_url<0) this.cur_url = this.url.length-1\\n      },\\n      right: function() {\\n        this.cur_url += 1\\n        if (this.cur_url>=this.url.length) this.cur_url = 0\\n      },\\n      keyhandler: function() {\\n        console.log(event.keyCode)\\n        if (event.keyCode == 37) {\\n        \\tthis.left()\\n        } else if (event.keyCode == 39) {\\n        \\tthis.right()\\n        }\\n      }\\n    },\\n    mounted () {\\n      document.addEventListener(\\\"keyup\\\", this.keyhandler);\\n    }\\n  })\\n</script>\""
      ]
     },
     "metadata": {},
     "output_type": "display_data"
    },
    {
     "data": {
      "text/html": [
       "<table><tr><td>3152</td><td><a href='https://console.wetry.shop/customerDetail/3152'>BMS</a></td><td>2020-03-15 22:31:15 UTC</td></tr><tr><td>2622</td><td><a href='https://console.wetry.shop/customerDetail/2622'>BMS</a></td><td>2020-03-22 22:00:28 UTC</td></tr><tr><td>2982</td><td><a href='https://console.wetry.shop/customerDetail/2982'>BMS</a></td><td>2020-03-25 20:18:49 UTC</td></tr><tr><td>9665</td><td><a href='https://console.wetry.shop/customerDetail/9665'>BMS</a></td><td>2020-03-28 16:38:53 UTC</td></tr><tr><td>9349</td><td><a href='https://console.wetry.shop/customerDetail/9349'>BMS</a></td><td>2020-03-29 13:08:39 UTC</td></tr><tr><td>9204</td><td><a href='https://console.wetry.shop/customerDetail/9204'>BMS</a></td><td>2020-03-29 16:02:56 UTC</td></tr><tr><td>4500</td><td><a href='https://console.wetry.shop/customerDetail/4500'>BMS</a></td><td>2020-03-29 23:00:25 UTC</td></tr><tr><td>7084</td><td><a href='https://console.wetry.shop/customerDetail/7084'>BMS</a></td><td>2020-04-01 00:53:12 UTC</td></tr><tr><td>9109</td><td><a href='https://console.wetry.shop/customerDetail/9109'>BMS</a></td><td>2020-04-06 04:55:59 UTC</td></tr><tr><td>10231</td><td><a href='https://console.wetry.shop/customerDetail/10231'>BMS</a></td><td>2020-04-06 17:40:29 UTC</td></tr><tr><td>9090</td><td><a href='https://console.wetry.shop/customerDetail/9090'>BMS</a></td><td>2020-04-06 19:53:09 UTC</td></tr><tr><td>3621</td><td><a href='https://console.wetry.shop/customerDetail/3621'>BMS</a></td><td>2020-04-07 20:10:58 UTC</td></tr><tr><td>3911</td><td><a href='https://console.wetry.shop/customerDetail/3911'>BMS</a></td><td>2020-04-09 10:53:20 UTC</td></tr><tr><td>3624</td><td><a href='https://console.wetry.shop/customerDetail/3624'>BMS</a></td><td>2020-04-09 15:10:45 UTC</td></tr><tr><td>9555</td><td><a href='https://console.wetry.shop/customerDetail/9555'>BMS</a></td><td>2020-04-13 00:21:22 UTC</td></tr><tr><td>4816</td><td><a href='https://console.wetry.shop/customerDetail/4816'>BMS</a></td><td>2020-04-26 00:42:42 UTC</td></tr><tr><td>10022</td><td><a href='https://console.wetry.shop/customerDetail/10022'>BMS</a></td><td>2020-04-27 08:56:13 UTC</td></tr><tr><td>10529</td><td><a href='https://console.wetry.shop/customerDetail/10529'>BMS</a></td><td>2020-04-27 09:00:58 UTC</td></tr><tr><td>4111</td><td><a href='https://console.wetry.shop/customerDetail/4111'>BMS</a></td><td>2020-04-27 16:05:15 UTC</td></tr><tr><td>12046</td><td><a href='https://console.wetry.shop/customerDetail/12046'>BMS</a></td><td>2020-04-29 12:12:07 UTC</td></tr><tr><td>9256</td><td><a href='https://console.wetry.shop/customerDetail/9256'>BMS</a></td><td>2020-04-29 12:48:26 UTC</td></tr><tr><td>11294</td><td><a href='https://console.wetry.shop/customerDetail/11294'>BMS</a></td><td>2020-04-29 14:19:43 UTC</td></tr></table>"
      ],
      "text/plain": [
       "\"<table><tr><td>3152</td><td><a href='https://console.wetry.shop/customerDetail/3152'>BMS</a></td><td>2020-03-15 22:31:15 UTC</td></tr><tr><td>2622</td><td><a href='https://console.wetry.shop/customerDetail/2622'>BMS</a></td><td>2020-03-22 22:00:28 UTC</td></tr><tr><td>2982</td><td><a href='https://console.wetry.shop/customerDetail/2982'>BMS</a></td><td>2020-03-25 20:18:49 UTC</td></tr><tr><td>9665</td><td><a href='https://console.wetry.shop/customerDetail/9665'>BMS</a></td><td>2020-03-28 16:38:53 UTC</td></tr><tr><td>9349</td><td><a href='https://console.wetry.shop/customerDetail/9349'>BMS</a></td><td>2020-03-29 13:08:39 UTC</td></tr><tr><td>9204</td><td><a href='https://console.wetry.shop/customerDetail/9204'>BMS</a></td><td>2020-03-29 16:02:56 UTC</td></tr><tr><td>4500</td><td><a href='https://console.wetry.shop/customerDetail/4500'>BMS</a></td><td>2020-03-29 23:00:25 UTC</td></tr><tr><td>7084</td><td><a href='https://console.wetry.shop/customerDetail/7084'>BMS</a></td><td>2020-04-01 00:53:12 UTC</td></tr><tr><td>9109</td><td><a href='https://console.wetry.shop/customerDetail/9109'>BMS</a></td><td>2020-04-06 04:55:59 UTC</td></tr><tr><td>10231</td><td><a href='https://console.wetry.shop/customerDetail/10231'>BMS</a></td><td>2020-04-06 17:40:29 UTC</td></tr><tr><td>9090</td><td><a href='https://console.wetry.shop/customerDetail/9090'>BMS</a></td><td>2020-04-06 19:53:09 UTC</td></tr><tr><td>3621</td><td><a href='https://console.wetry.shop/customerDetail/3621'>BMS</a></td><td>2020-04-07 20:10:58 UTC</td></tr><tr><td>3911</td><td><a href='https://console.wetry.shop/customerDetail/3911'>BMS</a></td><td>2020-04-09 10:53:20 UTC</td></tr><tr><td>3624</td><td><a href='https://console.wetry.shop/customerDetail/3624'>BMS</a></td><td>2020-04-09 15:10:45 UTC</td></tr><tr><td>9555</td><td><a href='https://console.wetry.shop/customerDetail/9555'>BMS</a></td><td>2020-04-13 00:21:22 UTC</td></tr><tr><td>4816</td><td><a href='https://console.wetry.shop/customerDetail/4816'>BMS</a></td><td>2020-04-26 00:42:42 UTC</td></tr><tr><td>10022</td><td><a href='https://console.wetry.shop/customerDetail/10022'>BMS</a></td><td>2020-04-27 08:56:13 UTC</td></tr><tr><td>10529</td><td><a href='https://console.wetry.shop/customerDetail/10529'>BMS</a></td><td>2020-04-27 09:00:58 UTC</td></tr><tr><td>4111</td><td><a href='https://console.wetry.shop/customerDetail/4111'>BMS</a></td><td>2020-04-27 16:05:15 UTC</td></tr><tr><td>12046</td><td><a href='https://console.wetry.shop/customerDetail/12046'>BMS</a></td><td>2020-04-29 12:12:07 UTC</td></tr><tr><td>9256</td><td><a href='https://console.wetry.shop/customerDetail/9256'>BMS</a></td><td>2020-04-29 12:48:26 UTC</td></tr><tr><td>11294</td><td><a href='https://console.wetry.shop/customerDetail/11294'>BMS</a></td><td>2020-04-29 14:19:43 UTC</td></tr></table>\""
      ]
     },
     "metadata": {},
     "output_type": "display_data"
    }
   ],
   "source": [
    "puts_header \"宝妈人群预定情况\"\n",
    "\n",
    "url = group[\"已育\"].orders.inhouse.where(\"expect_day >= ? and expect_day<=? \",Time.now, Time.now+10.day).order(:expect_day).user.\n",
    "    filter do |x| x.property.staff.count==0 end.\n",
    "    filter do |x|  x.source!=\"little nothing\" and x.source!=\"小双双jodie\"  end.\n",
    "    filter do |x|  /不合格/.match(x.property.style.value.first)==nil  end.\n",
    "    map do |x| \"http://localhost:3000/user/#{x.id}\" end\n",
    "puts_display render(\"左右浏览网页\",{:url=>url})\n",
    "\n",
    "nil\n",
    "\n",
    "\n",
    "\n",
    "puts_table ((group[\"已育\"].orders.inhouse.where(\"expect_day >= ? and expect_day<=? \",Time.now, Time.now+10.day).order(:expect_day).user.\n",
    "    filter do |x| x.property.staff.count==0 end.map do |x| [x.id,x.orders.product.order(:expect_day).last.create_time] end.sort do |x,y| x[1]<=>y[1] end).\n",
    "    map do |x| [x[0],  \"<a href='https://console.wetry.shop/customerDetail/#{x[0]}'>BMS</a>\" ,x[1]] end)\n",
    "\n"
   ]
  },
  {
   "cell_type": "code",
   "execution_count": 8,
   "metadata": {},
   "outputs": [
    {
     "data": {
      "text/html": [
       "<h1>非宝妈人群预定情况</h1>"
      ],
      "text/plain": [
       "\"<h1>非宝妈人群预定情况</h1>\""
      ]
     },
     "metadata": {},
     "output_type": "display_data"
    },
    {
     "data": {
      "text/html": [
       "\n",
       "<div id=\"app_LwlVfWcz9A\">\n",
       "<el-container>\n",
       "  <el-container>\n",
       "    <el-header>\n",
       "      <el-row :gutter=\"24\">\n",
       "        <el-col :span=\"4\">\n",
       "          <el-button icon=\"el-icon-caret-left\" circle v-on:click=\"left\"></el-button>\n",
       "          <el-button icon=\"el-icon-caret-right\" circle v-on:click=\"right\"></el-button>\n",
       "        </el-col>\n",
       "\n",
       "        <el-col :span=\"20\">\n",
       "          <h1>[{{cur_url}}] {{ url[cur_url] }}</h1>\n",
       "        </el-col>\n",
       "      </el-row>\n",
       "    </el-header>\n",
       "    <el-main>\n",
       "      <el-divider></el-divider>\n",
       "      <iframe v-bind:src=\"url[cur_url]\" width=\"1400\" height=\"800\"></iframe>\n",
       "    </el-main>\n",
       "\n",
       "  </el-container>\n",
       "</el-container>\n",
       "</div>\n",
       "\n",
       "\n",
       "\n",
       "<script>\n",
       "  Vue.use(VueChartkick.use(Chart))\n",
       "\n",
       "  app = new Vue({\n",
       "    el: '#app_LwlVfWcz9A',\n",
       "    data: {\n",
       "      url: [\"http://localhost:3000/user/308\",\"http://localhost:3000/user/791\",\"http://localhost:3000/user/1150\",\"http://localhost:3000/user/1882\",\"http://localhost:3000/user/2012\",\"http://localhost:3000/user/2407\",\"http://localhost:3000/user/2408\",\"http://localhost:3000/user/2466\",\"http://localhost:3000/user/3013\",\"http://localhost:3000/user/3212\",\"http://localhost:3000/user/3327\",\"http://localhost:3000/user/3397\",\"http://localhost:3000/user/3534\",\"http://localhost:3000/user/3575\",\"http://localhost:3000/user/3875\",\"http://localhost:3000/user/3883\",\"http://localhost:3000/user/3988\",\"http://localhost:3000/user/4607\",\"http://localhost:3000/user/4650\",\"http://localhost:3000/user/4748\",\"http://localhost:3000/user/4772\",\"http://localhost:3000/user/4801\",\"http://localhost:3000/user/4892\",\"http://localhost:3000/user/5022\",\"http://localhost:3000/user/5030\",\"http://localhost:3000/user/5380\",\"http://localhost:3000/user/5589\",\"http://localhost:3000/user/5626\",\"http://localhost:3000/user/6035\",\"http://localhost:3000/user/6056\",\"http://localhost:3000/user/6119\",\"http://localhost:3000/user/6130\",\"http://localhost:3000/user/6640\",\"http://localhost:3000/user/6652\",\"http://localhost:3000/user/6888\",\"http://localhost:3000/user/7258\",\"http://localhost:3000/user/8189\",\"http://localhost:3000/user/8217\",\"http://localhost:3000/user/8297\",\"http://localhost:3000/user/8419\",\"http://localhost:3000/user/8447\",\"http://localhost:3000/user/9246\",\"http://localhost:3000/user/9296\",\"http://localhost:3000/user/10240\",\"http://localhost:3000/user/10263\",\"http://localhost:3000/user/10353\",\"http://localhost:3000/user/10493\",\"http://localhost:3000/user/10547\",\"http://localhost:3000/user/10832\",\"http://localhost:3000/user/10908\",\"http://localhost:3000/user/10950\",\"http://localhost:3000/user/11277\",\"http://localhost:3000/user/11320\",\"http://localhost:3000/user/11364\",\"http://localhost:3000/user/11372\",\"http://localhost:3000/user/11424\",\"http://localhost:3000/user/11494\",\"http://localhost:3000/user/12178\",\"http://localhost:3000/user/12292\",\"http://localhost:3000/user/12381\",\"http://localhost:3000/user/12393\",\"http://localhost:3000/user/12499\",\"http://localhost:3000/user/12504\"],\n",
       "      cur_url: 0\n",
       "    },\n",
       "    methods: {\n",
       "      left: function() {\n",
       "        this.cur_url -= 1\n",
       "        if (this.cur_url<0) this.cur_url = this.url.length-1\n",
       "      },\n",
       "      right: function() {\n",
       "        this.cur_url += 1\n",
       "        if (this.cur_url>=this.url.length) this.cur_url = 0\n",
       "      },\n",
       "      keyhandler: function() {\n",
       "        console.log(event.keyCode)\n",
       "        if (event.keyCode == 37) {\n",
       "        \tthis.left()\n",
       "        } else if (event.keyCode == 39) {\n",
       "        \tthis.right()\n",
       "        }\n",
       "      }\n",
       "    },\n",
       "    mounted () {\n",
       "      document.addEventListener(\"keyup\", this.keyhandler);\n",
       "    }\n",
       "  })\n",
       "</script>"
      ],
      "text/plain": [
       "\"\\n<div id=\\\"app_LwlVfWcz9A\\\">\\n<el-container>\\n  <el-container>\\n    <el-header>\\n      <el-row :gutter=\\\"24\\\">\\n        <el-col :span=\\\"4\\\">\\n          <el-button icon=\\\"el-icon-caret-left\\\" circle v-on:click=\\\"left\\\"></el-button>\\n          <el-button icon=\\\"el-icon-caret-right\\\" circle v-on:click=\\\"right\\\"></el-button>\\n        </el-col>\\n\\n        <el-col :span=\\\"20\\\">\\n          <h1>[{{cur_url}}] {{ url[cur_url] }}</h1>\\n        </el-col>\\n      </el-row>\\n    </el-header>\\n    <el-main>\\n      <el-divider></el-divider>\\n      <iframe v-bind:src=\\\"url[cur_url]\\\" width=\\\"1400\\\" height=\\\"800\\\"></iframe>\\n    </el-main>\\n\\n  </el-container>\\n</el-container>\\n</div>\\n\\n\\n\\n<script>\\n  Vue.use(VueChartkick.use(Chart))\\n\\n  app = new Vue({\\n    el: '#app_LwlVfWcz9A',\\n    data: {\\n      url: [\\\"http://localhost:3000/user/308\\\",\\\"http://localhost:3000/user/791\\\",\\\"http://localhost:3000/user/1150\\\",\\\"http://localhost:3000/user/1882\\\",\\\"http://localhost:3000/user/2012\\\",\\\"http://localhost:3000/user/2407\\\",\\\"http://localhost:3000/user/2408\\\",\\\"http://localhost:3000/user/2466\\\",\\\"http://localhost:3000/user/3013\\\",\\\"http://localhost:3000/user/3212\\\",\\\"http://localhost:3000/user/3327\\\",\\\"http://localhost:3000/user/3397\\\",\\\"http://localhost:3000/user/3534\\\",\\\"http://localhost:3000/user/3575\\\",\\\"http://localhost:3000/user/3875\\\",\\\"http://localhost:3000/user/3883\\\",\\\"http://localhost:3000/user/3988\\\",\\\"http://localhost:3000/user/4607\\\",\\\"http://localhost:3000/user/4650\\\",\\\"http://localhost:3000/user/4748\\\",\\\"http://localhost:3000/user/4772\\\",\\\"http://localhost:3000/user/4801\\\",\\\"http://localhost:3000/user/4892\\\",\\\"http://localhost:3000/user/5022\\\",\\\"http://localhost:3000/user/5030\\\",\\\"http://localhost:3000/user/5380\\\",\\\"http://localhost:3000/user/5589\\\",\\\"http://localhost:3000/user/5626\\\",\\\"http://localhost:3000/user/6035\\\",\\\"http://localhost:3000/user/6056\\\",\\\"http://localhost:3000/user/6119\\\",\\\"http://localhost:3000/user/6130\\\",\\\"http://localhost:3000/user/6640\\\",\\\"http://localhost:3000/user/6652\\\",\\\"http://localhost:3000/user/6888\\\",\\\"http://localhost:3000/user/7258\\\",\\\"http://localhost:3000/user/8189\\\",\\\"http://localhost:3000/user/8217\\\",\\\"http://localhost:3000/user/8297\\\",\\\"http://localhost:3000/user/8419\\\",\\\"http://localhost:3000/user/8447\\\",\\\"http://localhost:3000/user/9246\\\",\\\"http://localhost:3000/user/9296\\\",\\\"http://localhost:3000/user/10240\\\",\\\"http://localhost:3000/user/10263\\\",\\\"http://localhost:3000/user/10353\\\",\\\"http://localhost:3000/user/10493\\\",\\\"http://localhost:3000/user/10547\\\",\\\"http://localhost:3000/user/10832\\\",\\\"http://localhost:3000/user/10908\\\",\\\"http://localhost:3000/user/10950\\\",\\\"http://localhost:3000/user/11277\\\",\\\"http://localhost:3000/user/11320\\\",\\\"http://localhost:3000/user/11364\\\",\\\"http://localhost:3000/user/11372\\\",\\\"http://localhost:3000/user/11424\\\",\\\"http://localhost:3000/user/11494\\\",\\\"http://localhost:3000/user/12178\\\",\\\"http://localhost:3000/user/12292\\\",\\\"http://localhost:3000/user/12381\\\",\\\"http://localhost:3000/user/12393\\\",\\\"http://localhost:3000/user/12499\\\",\\\"http://localhost:3000/user/12504\\\"],\\n      cur_url: 0\\n    },\\n    methods: {\\n      left: function() {\\n        this.cur_url -= 1\\n        if (this.cur_url<0) this.cur_url = this.url.length-1\\n      },\\n      right: function() {\\n        this.cur_url += 1\\n        if (this.cur_url>=this.url.length) this.cur_url = 0\\n      },\\n      keyhandler: function() {\\n        console.log(event.keyCode)\\n        if (event.keyCode == 37) {\\n        \\tthis.left()\\n        } else if (event.keyCode == 39) {\\n        \\tthis.right()\\n        }\\n      }\\n    },\\n    mounted () {\\n      document.addEventListener(\\\"keyup\\\", this.keyhandler);\\n    }\\n  })\\n</script>\""
      ]
     },
     "metadata": {},
     "output_type": "display_data"
    },
    {
     "data": {
      "text/html": [
       "<table><tr><td>5589</td><td><a href='https://console.wetry.shop/customerDetail/5589'>BMS</a></td><td>2020-03-21 14:29:25 UTC</td></tr><tr><td>8189</td><td><a href='https://console.wetry.shop/customerDetail/8189'>BMS</a></td><td>2020-03-22 20:19:10 UTC</td></tr><tr><td>6640</td><td><a href='https://console.wetry.shop/customerDetail/6640'>BMS</a></td><td>2020-03-23 12:48:37 UTC</td></tr><tr><td>3397</td><td><a href='https://console.wetry.shop/customerDetail/3397'>BMS</a></td><td>2020-03-23 14:32:55 UTC</td></tr><tr><td>10832</td><td><a href='https://console.wetry.shop/customerDetail/10832'>BMS</a></td><td>2020-03-23 18:53:52 UTC</td></tr><tr><td>10950</td><td><a href='https://console.wetry.shop/customerDetail/10950'>BMS</a></td><td>2020-03-23 19:01:37 UTC</td></tr><tr><td>3212</td><td><a href='https://console.wetry.shop/customerDetail/3212'>BMS</a></td><td>2020-03-23 20:30:38 UTC</td></tr><tr><td>4607</td><td><a href='https://console.wetry.shop/customerDetail/4607'>BMS</a></td><td>2020-03-24 12:27:25 UTC</td></tr><tr><td>8297</td><td><a href='https://console.wetry.shop/customerDetail/8297'>BMS</a></td><td>2020-03-24 13:47:20 UTC</td></tr><tr><td>3883</td><td><a href='https://console.wetry.shop/customerDetail/3883'>BMS</a></td><td>2020-03-25 07:20:36 UTC</td></tr><tr><td>5030</td><td><a href='https://console.wetry.shop/customerDetail/5030'>BMS</a></td><td>2020-03-25 10:01:52 UTC</td></tr><tr><td>4772</td><td><a href='https://console.wetry.shop/customerDetail/4772'>BMS</a></td><td>2020-03-25 21:00:16 UTC</td></tr><tr><td>1882</td><td><a href='https://console.wetry.shop/customerDetail/1882'>BMS</a></td><td>2020-03-25 23:14:13 UTC</td></tr><tr><td>1150</td><td><a href='https://console.wetry.shop/customerDetail/1150'>BMS</a></td><td>2020-03-26 01:01:10 UTC</td></tr><tr><td>9246</td><td><a href='https://console.wetry.shop/customerDetail/9246'>BMS</a></td><td>2020-03-26 13:12:43 UTC</td></tr><tr><td>12178</td><td><a href='https://console.wetry.shop/customerDetail/12178'>BMS</a></td><td>2020-03-26 22:20:40 UTC</td></tr><tr><td>3575</td><td><a href='https://console.wetry.shop/customerDetail/3575'>BMS</a></td><td>2020-03-27 23:23:21 UTC</td></tr><tr><td>8447</td><td><a href='https://console.wetry.shop/customerDetail/8447'>BMS</a></td><td>2020-03-27 23:35:39 UTC</td></tr><tr><td>11277</td><td><a href='https://console.wetry.shop/customerDetail/11277'>BMS</a></td><td>2020-03-28 01:09:34 UTC</td></tr><tr><td>10908</td><td><a href='https://console.wetry.shop/customerDetail/10908'>BMS</a></td><td>2020-03-28 17:17:33 UTC</td></tr><tr><td>9296</td><td><a href='https://console.wetry.shop/customerDetail/9296'>BMS</a></td><td>2020-03-28 19:54:27 UTC</td></tr><tr><td>11372</td><td><a href='https://console.wetry.shop/customerDetail/11372'>BMS</a></td><td>2020-03-29 17:16:06 UTC</td></tr><tr><td>2466</td><td><a href='https://console.wetry.shop/customerDetail/2466'>BMS</a></td><td>2020-03-29 18:21:24 UTC</td></tr><tr><td>3327</td><td><a href='https://console.wetry.shop/customerDetail/3327'>BMS</a></td><td>2020-03-30 11:19:59 UTC</td></tr><tr><td>5626</td><td><a href='https://console.wetry.shop/customerDetail/5626'>BMS</a></td><td>2020-03-31 14:21:37 UTC</td></tr><tr><td>11424</td><td><a href='https://console.wetry.shop/customerDetail/11424'>BMS</a></td><td>2020-04-01 22:08:55 UTC</td></tr><tr><td>10547</td><td><a href='https://console.wetry.shop/customerDetail/10547'>BMS</a></td><td>2020-04-01 23:38:24 UTC</td></tr><tr><td>4892</td><td><a href='https://console.wetry.shop/customerDetail/4892'>BMS</a></td><td>2020-04-02 08:39:50 UTC</td></tr><tr><td>12393</td><td><a href='https://console.wetry.shop/customerDetail/12393'>BMS</a></td><td>2020-04-02 13:22:17 UTC</td></tr><tr><td>3988</td><td><a href='https://console.wetry.shop/customerDetail/3988'>BMS</a></td><td>2020-04-02 16:37:54 UTC</td></tr><tr><td>12292</td><td><a href='https://console.wetry.shop/customerDetail/12292'>BMS</a></td><td>2020-04-02 18:26:38 UTC</td></tr><tr><td>8217</td><td><a href='https://console.wetry.shop/customerDetail/8217'>BMS</a></td><td>2020-04-02 19:49:53 UTC</td></tr><tr><td>3013</td><td><a href='https://console.wetry.shop/customerDetail/3013'>BMS</a></td><td>2020-04-02 20:05:43 UTC</td></tr><tr><td>12381</td><td><a href='https://console.wetry.shop/customerDetail/12381'>BMS</a></td><td>2020-04-03 10:11:55 UTC</td></tr><tr><td>11494</td><td><a href='https://console.wetry.shop/customerDetail/11494'>BMS</a></td><td>2020-04-03 17:23:59 UTC</td></tr><tr><td>11364</td><td><a href='https://console.wetry.shop/customerDetail/11364'>BMS</a></td><td>2020-04-03 17:51:54 UTC</td></tr><tr><td>2408</td><td><a href='https://console.wetry.shop/customerDetail/2408'>BMS</a></td><td>2020-04-03 17:56:39 UTC</td></tr><tr><td>4748</td><td><a href='https://console.wetry.shop/customerDetail/4748'>BMS</a></td><td>2020-04-03 19:54:59 UTC</td></tr><tr><td>5022</td><td><a href='https://console.wetry.shop/customerDetail/5022'>BMS</a></td><td>2020-04-03 20:19:39 UTC</td></tr><tr><td>12504</td><td><a href='https://console.wetry.shop/customerDetail/12504'>BMS</a></td><td>2020-04-04 12:32:30 UTC</td></tr><tr><td>6130</td><td><a href='https://console.wetry.shop/customerDetail/6130'>BMS</a></td><td>2020-04-04 13:54:46 UTC</td></tr><tr><td>5380</td><td><a href='https://console.wetry.shop/customerDetail/5380'>BMS</a></td><td>2020-04-04 14:40:28 UTC</td></tr><tr><td>4801</td><td><a href='https://console.wetry.shop/customerDetail/4801'>BMS</a></td><td>2020-04-04 16:37:16 UTC</td></tr><tr><td>12499</td><td><a href='https://console.wetry.shop/customerDetail/12499'>BMS</a></td><td>2020-04-05 01:00:32 UTC</td></tr><tr><td>6652</td><td><a href='https://console.wetry.shop/customerDetail/6652'>BMS</a></td><td>2020-04-05 13:44:11 UTC</td></tr><tr><td>3534</td><td><a href='https://console.wetry.shop/customerDetail/3534'>BMS</a></td><td>2020-04-05 15:13:37 UTC</td></tr><tr><td>10240</td><td><a href='https://console.wetry.shop/customerDetail/10240'>BMS</a></td><td>2020-04-06 15:14:44 UTC</td></tr><tr><td>2407</td><td><a href='https://console.wetry.shop/customerDetail/2407'>BMS</a></td><td>2020-04-06 17:45:57 UTC</td></tr><tr><td>11320</td><td><a href='https://console.wetry.shop/customerDetail/11320'>BMS</a></td><td>2020-04-06 20:19:56 UTC</td></tr><tr><td>6119</td><td><a href='https://console.wetry.shop/customerDetail/6119'>BMS</a></td><td>2020-04-06 22:38:32 UTC</td></tr><tr><td>2012</td><td><a href='https://console.wetry.shop/customerDetail/2012'>BMS</a></td><td>2020-04-07 10:08:10 UTC</td></tr><tr><td>791</td><td><a href='https://console.wetry.shop/customerDetail/791'>BMS</a></td><td>2020-04-07 18:25:57 UTC</td></tr><tr><td>10493</td><td><a href='https://console.wetry.shop/customerDetail/10493'>BMS</a></td><td>2020-04-08 00:09:12 UTC</td></tr><tr><td>6035</td><td><a href='https://console.wetry.shop/customerDetail/6035'>BMS</a></td><td>2020-04-08 07:10:51 UTC</td></tr><tr><td>7258</td><td><a href='https://console.wetry.shop/customerDetail/7258'>BMS</a></td><td>2020-04-08 10:36:10 UTC</td></tr><tr><td>10263</td><td><a href='https://console.wetry.shop/customerDetail/10263'>BMS</a></td><td>2020-04-08 17:12:20 UTC</td></tr><tr><td>3875</td><td><a href='https://console.wetry.shop/customerDetail/3875'>BMS</a></td><td>2020-04-08 19:49:55 UTC</td></tr><tr><td>10353</td><td><a href='https://console.wetry.shop/customerDetail/10353'>BMS</a></td><td>2020-04-09 23:22:07 UTC</td></tr><tr><td>4650</td><td><a href='https://console.wetry.shop/customerDetail/4650'>BMS</a></td><td>2020-04-10 11:29:40 UTC</td></tr><tr><td>6888</td><td><a href='https://console.wetry.shop/customerDetail/6888'>BMS</a></td><td>2020-04-10 11:50:02 UTC</td></tr><tr><td>8419</td><td><a href='https://console.wetry.shop/customerDetail/8419'>BMS</a></td><td>2020-04-26 18:06:28 UTC</td></tr><tr><td>308</td><td><a href='https://console.wetry.shop/customerDetail/308'>BMS</a></td><td>2020-04-26 19:06:58 UTC</td></tr><tr><td>6056</td><td><a href='https://console.wetry.shop/customerDetail/6056'>BMS</a></td><td>2020-04-27 16:05:48 UTC</td></tr></table>"
      ],
      "text/plain": [
       "\"<table><tr><td>5589</td><td><a href='https://console.wetry.shop/customerDetail/5589'>BMS</a></td><td>2020-03-21 14:29:25 UTC</td></tr><tr><td>8189</td><td><a href='https://console.wetry.shop/customerDetail/8189'>BMS</a></td><td>2020-03-22 20:19:10 UTC</td></tr><tr><td>6640</td><td><a href='https://console.wetry.shop/customerDetail/6640'>BMS</a></td><td>2020-03-23 12:48:37 UTC</td></tr><tr><td>3397</td><td><a href='https://console.wetry.shop/customerDetail/3397'>BMS</a></td><td>2020-03-23 14:32:55 UTC</td></tr><tr><td>10832</td><td><a href='https://console.wetry.shop/customerDetail/10832'>BMS</a></td><td>2020-03-23 18:53:52 UTC</td></tr><tr><td>10950</td><td><a href='https://console.wetry.shop/customerDetail/10950'>BMS</a></td><td>2020-03-23 19:01:37 UTC</td></tr><tr><td>3212</td><td><a href='https://console.wetry.shop/customerDetail/3212'>BMS</a></td><td>2020-03-23 20:30:38 UTC</td></tr><tr><td>4607</td><td><a href='https://console.wetry.shop/customerDetail/4607'>BMS</a></td><td>2020-03-24 12:27:25 UTC</td></tr><tr><td>8297</td><td><a href='https://console.wetry.shop/customerDetail/8297'>BMS</a></td><td>2020-03-24 13:47:20 UTC</td></tr><tr><td>3883</td><td><a href='https://console.wetry.shop/customerDetail/3883'>BMS</a></td><td>2020-03-25 07:20:36 UTC</td></tr><tr><td>5030</td><td><a href='https://console.wetry.shop/customerDetail/5030'>BMS</a></td><td>2020-03-25 10:01:52 UTC</td></tr><tr><td>4772</td><td><a href='https://console.wetry.shop/customerDetail/4772'>BMS</a></td><td>2020-03-25 21:00:16 UTC</td></tr><tr><td>1882</td><td><a href='https://console.wetry.shop/customerDetail/1882'>BMS</a></td><td>2020-03-25 23:14:13 UTC</td></tr><tr><td>1150</td><td><a href='https://console.wetry.shop/customerDetail/1150'>BMS</a></td><td>2020-03-26 01:01:10 UTC</td></tr><tr><td>9246</td><td><a href='https://console.wetry.shop/customerDetail/9246'>BMS</a></td><td>2020-03-26 13:12:43 UTC</td></tr><tr><td>12178</td><td><a href='https://console.wetry.shop/customerDetail/12178'>BMS</a></td><td>2020-03-26 22:20:40 UTC</td></tr><tr><td>3575</td><td><a href='https://console.wetry.shop/customerDetail/3575'>BMS</a></td><td>2020-03-27 23:23:21 UTC</td></tr><tr><td>8447</td><td><a href='https://console.wetry.shop/customerDetail/8447'>BMS</a></td><td>2020-03-27 23:35:39 UTC</td></tr><tr><td>11277</td><td><a href='https://console.wetry.shop/customerDetail/11277'>BMS</a></td><td>2020-03-28 01:09:34 UTC</td></tr><tr><td>10908</td><td><a href='https://console.wetry.shop/customerDetail/10908'>BMS</a></td><td>2020-03-28 17:17:33 UTC</td></tr><tr><td>9296</td><td><a href='https://console.wetry.shop/customerDetail/9296'>BMS</a></td><td>2020-03-28 19:54:27 UTC</td></tr><tr><td>11372</td><td><a href='https://console.wetry.shop/customerDetail/11372'>BMS</a></td><td>2020-03-29 17:16:06 UTC</td></tr><tr><td>2466</td><td><a href='https://console.wetry.shop/customerDetail/2466'>BMS</a></td><td>2020-03-29 18:21:24 UTC</td></tr><tr><td>3327</td><td><a href='https://console.wetry.shop/customerDetail/3327'>BMS</a></td><td>2020-03-30 11:19:59 UTC</td></tr><tr><td>5626</td><td><a href='https://console.wetry.shop/customerDetail/5626'>BMS</a></td><td>2020-03-31 14:21:37 UTC</td></tr><tr><td>11424</td><td><a href='https://console.wetry.shop/customerDetail/11424'>BMS</a></td><td>2020-04-01 22:08:55 UTC</td></tr><tr><td>10547</td><td><a href='https://console.wetry.shop/customerDetail/10547'>BMS</a></td><td>2020-04-01 23:38:24 UTC</td></tr><tr><td>4892</td><td><a href='https://console.wetry.shop/customerDetail/4892'>BMS</a></td><td>2020-04-02 08:39:50 UTC</td></tr><tr><td>12393</td><td><a href='https://console.wetry.shop/customerDetail/12393'>BMS</a></td><td>2020-04-02 13:22:17 UTC</td></tr><tr><td>3988</td><td><a href='https://console.wetry.shop/customerDetail/3988'>BMS</a></td><td>2020-04-02 16:37:54 UTC</td></tr><tr><td>12292</td><td><a href='https://console.wetry.shop/customerDetail/12292'>BMS</a></td><td>2020-04-02 18:26:38 UTC</td></tr><tr><td>8217</td><td><a href='https://console.wetry.shop/customerDetail/8217'>BMS</a></td><td>2020-04-02 19:49:53 UTC</td></tr><tr><td>3013</td><td><a href='https://console.wetry.shop/customerDetail/3013'>BMS</a></td><td>2020-04-02 20:05:43 UTC</td></tr><tr><td>12381</td><td><a href='https://console.wetry.shop/customerDetail/12381'>BMS</a></td><td>2020-04-03 10:11:55 UTC</td></tr><tr><td>11494</td><td><a href='https://console.wetry.shop/customerDetail/11494'>BMS</a></td><td>2020-04-03 17:23:59 UTC</td></tr><tr><td>11364</td><td><a href='https://console.wetry.shop/customerDetail/11364'>BMS</a></td><td>2020-04-03 17:51:54 UTC</td></tr><tr><td>2408</td><td><a href='https://console.wetry.shop/customerDetail/2408'>BMS</a></td><td>2020-04-03 17:56:39 UTC</td></tr><tr><td>4748</td><td><a href='https://console.wetry.shop/customerDetail/4748'>BMS</a></td><td>2020-04-03 19:54:59 UTC</td></tr><tr><td>5022</td><td><a href='https://console.wetry.shop/customerDetail/5022'>BMS</a></td><td>2020-04-03 20:19:39 UTC</td></tr><tr><td>12504</td><td><a href='https://console.wetry.shop/customerDetail/12504'>BMS</a></td><td>2020-04-04 12:32:30 UTC</td></tr><tr><td>6130</td><td><a href='https://console.wetry.shop/customerDetail/6130'>BMS</a></td><td>2020-04-04 13:54:46 UTC</td></tr><tr><td>5380</td><td><a href='https://console.wetry.shop/customerDetail/5380'>BMS</a></td><td>2020-04-04 14:40:28 UTC</td></tr><tr><td>4801</td><td><a href='https://console.wetry.shop/customerDetail/4801'>BMS</a></td><td>2020-04-04 16:37:16 UTC</td></tr><tr><td>12499</td><td><a href='https://console.wetry.shop/customerDetail/12499'>BMS</a></td><td>2020-04-05 01:00:32 UTC</td></tr><tr><td>6652</td><td><a href='https://console.wetry.shop/customerDetail/6652'>BMS</a></td><td>2020-04-05 13:44:11 UTC</td></tr><tr><td>3534</td><td><a href='https://console.wetry.shop/customerDetail/3534'>BMS</a></td><td>2020-04-05 15:13:37 UTC</td></tr><tr><td>10240</td><td><a href='https://console.wetry.shop/customerDetail/10240'>BMS</a></td><td>2020-04-06 15:14:44 UTC</td></tr><tr><td>2407</td><td><a href='https://console.wetry.shop/customerDetail/2407'>BMS</a></td><td>2020-04-06 17:45:57 UTC</td></tr><tr><td>11320</td><td><a href='https://console.wetry.shop/customerDetail/11320'>BMS</a></td><td>2020-04-06 20:19:56 UTC</td></tr><tr><td>6119</td><td><a href='https://console.wetry.shop/customerDetail/6119'>BMS</a></td><td>2020-04-06 22:38:32 UTC</td></tr><tr><td>2012</td><td><a href='https://console.wetry.shop/customerDetail/2012'>BMS</a></td><td>2020-04-07 10:08:10 UTC</td></tr><tr><td>791</td><td><a href='https://console.wetry.shop/customerDetail/791'>BMS</a></td><td>2020-04-07 18:25:57 UTC</td></tr><tr><td>10493</td><td><a href='https://console.wetry.shop/customerDetail/10493'>BMS</a></td><td>2020-04-08 00:09:12 UTC</td></tr><tr><td>6035</td><td><a href='https://console.wetry.shop/customerDetail/6035'>BMS</a></td><td>2020-04-08 07:10:51 UTC</td></tr><tr><td>7258</td><td><a href='https://console.wetry.shop/customerDetail/7258'>BMS</a></td><td>2020-04-08 10:36:10 UTC</td></tr><tr><td>10263</td><td><a href='https://console.wetry.shop/customerDetail/10263'>BMS</a></td><td>2020-04-08 17:12:20 UTC</td></tr><tr><td>3875</td><td><a href='https://console.wetry.shop/customerDetail/3875'>BMS</a></td><td>2020-04-08 19:49:55 UTC</td></tr><tr><td>10353</td><td><a href='https://console.wetry.shop/customerDetail/10353'>BMS</a></td><td>2020-04-09 23:22:07 UTC</td></tr><tr><td>4650</td><td><a href='https://console.wetry.shop/customerDetail/4650'>BMS</a></td><td>2020-04-10 11:29:40 UTC</td></tr><tr><td>6888</td><td><a href='https://console.wetry.shop/customerDetail/6888'>BMS</a></td><td>2020-04-10 11:50:02 UTC</td></tr><tr><td>8419</td><td><a href='https://console.wetry.shop/customerDetail/8419'>BMS</a></td><td>2020-04-26 18:06:28 UTC</td></tr><tr><td>308</td><td><a href='https://console.wetry.shop/customerDetail/308'>BMS</a></td><td>2020-04-26 19:06:58 UTC</td></tr><tr><td>6056</td><td><a href='https://console.wetry.shop/customerDetail/6056'>BMS</a></td><td>2020-04-27 16:05:48 UTC</td></tr></table>\""
      ]
     },
     "metadata": {},
     "output_type": "display_data"
    }
   ],
   "source": [
    "puts_header \"非宝妈人群预定情况\"\n",
    "\n",
    "users = Orders.inhouse.where(\"expect_day >= ? and expect_day<=? \",Time.now, Time.now+10.day).order(:expect_day).user.\n",
    "    filter do |x| x.property.staff.count==0 end.\n",
    "    filter do |x|  x.source!=\"little nothing\" and x.source!=\"小双双jodie\"  end.\n",
    "    filter do |x|  /不合格/.match(x.property.style.value.first)==nil  end.\n",
    "    filter do |x| x.property.marriage(\"已育\").size == 0 end.\n",
    "    filter do |x| x.property.v3.size == 0 end.\n",
    "    filter do |x| x.property.v2.size == 0 end.\n",
    "    filter do |x| x.property.v1.size == 0 end.\n",
    "    filter do |x| x.orders.product.order(:expect_day).last.status == 5 end\n",
    "\n",
    "\n",
    "url = users.map do |x| \"http://localhost:3000/user/#{x.id}\" end\n",
    "puts_display render(\"左右浏览网页\",{:url=>url})\n",
    "\n",
    "nil\n",
    "\n",
    "\n",
    "\n",
    "puts_table ((users.map do |x| [x.id,x.orders.product.order(:expect_day).last.create_time] end.sort do |x,y| x[1]<=>y[1] end).\n",
    "    map do |x| [x[0],  \"<a href='https://console.wetry.shop/customerDetail/#{x[0]}'>BMS</a>\" ,x[1]] end)\n"
   ]
  },
  {
   "cell_type": "code",
   "execution_count": 34,
   "metadata": {},
   "outputs": [
    {
     "data": {
      "text/plain": [
       "{\"code\"=>0, \"message\"=>\"OK\", \"data\"=>\"\"}"
      ]
     },
     "execution_count": 34,
     "metadata": {},
     "output_type": "execute_result"
    }
   ],
   "source": [
    "## 把用户分配到订单\n",
    "user_list = [13451,10367,13125,13188,13258,13293,13368,13411,13438,13444,13446]\n",
    "BMS.updateMatchingDivision(user_list.join(\",\"),\"11\") \n",
    "\n"
   ]
  },
  {
   "cell_type": "code",
   "execution_count": 6,
   "metadata": {},
   "outputs": [
    {
     "data": {
      "text/html": [
       "<table></table>"
      ],
      "text/plain": [
       "\"<table></table>\""
      ]
     },
     "metadata": {},
     "output_type": "display_data"
    }
   ],
   "source": [
    "puts_table (User.where(matching_division:11).orders.product.order(:expect_day).where(status:[5,10]).user.map do |x|\n",
    "   [x.wx_nickname,x.orders.product.order(:expect_day).where(status:[5,10]).first.expect_day,x.orders.product.order(:expect_day).where(status:[5,10]).first.status,x.phone]\n",
    "end)"
   ]
  },
  {
   "cell_type": "code",
   "execution_count": null,
   "metadata": {},
   "outputs": [],
   "source": []
  },
  {
   "cell_type": "code",
   "execution_count": null,
   "metadata": {},
   "outputs": [],
   "source": []
  },
  {
   "cell_type": "code",
   "execution_count": null,
   "metadata": {},
   "outputs": [],
   "source": []
  },
  {
   "cell_type": "code",
   "execution_count": 111,
   "metadata": {},
   "outputs": [
    {
     "data": {
      "text/html": [
       "<h1>用户刺激</h1>"
      ],
      "text/plain": [
       "\"<h1>用户刺激</h1>\""
      ]
     },
     "metadata": {},
     "output_type": "display_data"
    },
    {
     "data": {
      "text/html": [
       "<table><tr><td>user_id</td><td>end</td><td>qty</td><td>valid</td><td>v0</td><td>v1</td><td>v2</td><td>v3</td><td>staff</td><td>source</td><td>orders</td><td>last_orders</td><td>rate</td></tr><tr><td>145</td><td>false</td><td>19</td><td>true</td><td>0</td><td>0</td><td>1</td><td>0</td><td>0</td><td>default_code</td><td>2</td><td>2020-01-14 00:00:00 UTC</td><td>23.08</td></tr><tr><td>147</td><td>false</td><td>15</td><td>true</td><td>1</td><td>0</td><td>0</td><td>0</td><td>0</td><td>default_code</td><td>1</td><td>2019-09-23 00:00:00 UTC</td><td>0.0</td></tr><tr><td>231</td><td>true</td><td>1</td><td>false</td><td>1</td><td>0</td><td>0</td><td>0</td><td>0</td><td>default_code</td><td>3</td><td>2019-12-01 00:00:00 UTC</td><td>0.0</td></tr><tr><td>241</td><td>true</td><td>2</td><td>false</td><td>0</td><td>0</td><td>1</td><td>0</td><td>0</td><td>default_code</td><td>3</td><td>2019-12-02 00:00:00 UTC</td><td>28.0</td></tr><tr><td>264</td><td>true</td><td>3</td><td>false</td><td>0</td><td>0</td><td>0</td><td>0</td><td>0</td><td>default_code</td><td>0</td><td>0</td><td>NaN</td></tr><tr><td>278</td><td>false</td><td>10</td><td>true</td><td>0</td><td>0</td><td>1</td><td>0</td><td>0</td><td>default_code</td><td>6</td><td>2020-01-10 00:00:00 UTC</td><td>23.08</td></tr><tr><td>337</td><td>true</td><td>2</td><td>false</td><td>1</td><td>0</td><td>0</td><td>0</td><td>0</td><td>default_code</td><td>1</td><td>2019-09-24 00:00:00 UTC</td><td>0.0</td></tr><tr><td>342</td><td>true</td><td>1</td><td>false</td><td>1</td><td>0</td><td>0</td><td>0</td><td>0</td><td>default_code</td><td>2</td><td>2019-12-06 00:00:00 UTC</td><td>6.25</td></tr><tr><td>370</td><td>false</td><td>16</td><td>true</td><td>0</td><td>0</td><td>0</td><td>0</td><td>0</td><td>default_code</td><td>0</td><td>0</td><td>NaN</td></tr><tr><td>474</td><td>true</td><td>2</td><td>false</td><td>1</td><td>0</td><td>0</td><td>0</td><td>0</td><td>default_code</td><td>1</td><td>2019-09-25 00:00:00 UTC</td><td>0.0</td></tr><tr><td>515</td><td>false</td><td>2</td><td>true</td><td>0</td><td>1</td><td>0</td><td>0</td><td>0</td><td>default_code</td><td>1</td><td>2019-09-24 00:00:00 UTC</td><td>16.67</td></tr><tr><td>516</td><td>false</td><td>12</td><td>true</td><td>0</td><td>0</td><td>0</td><td>1</td><td>0</td><td>default_code</td><td>5</td><td>2020-02-28 00:00:00 UTC</td><td>34.29</td></tr><tr><td>547</td><td>false</td><td>10</td><td>true</td><td>0</td><td>1</td><td>0</td><td>0</td><td>0</td><td>default_code</td><td>7</td><td>2020-02-27 00:00:00 UTC</td><td>12.24</td></tr><tr><td>583</td><td>false</td><td>1</td><td>true</td><td>0</td><td>1</td><td>0</td><td>0</td><td>0</td><td>default_code</td><td>2</td><td>2019-10-20 00:00:00 UTC</td><td>18.75</td></tr><tr><td>630</td><td>false</td><td>15</td><td>true</td><td>0</td><td>1</td><td>0</td><td>0</td><td>0</td><td>default_code</td><td>1</td><td>2019-09-27 00:00:00 UTC</td><td>12.5</td></tr><tr><td>632</td><td>true</td><td>2</td><td>false</td><td>1</td><td>0</td><td>0</td><td>0</td><td>0</td><td>default_code</td><td>2</td><td>2019-09-25 00:00:00 UTC</td><td>0.0</td></tr><tr><td>655</td><td>false</td><td>2</td><td>true</td><td>0</td><td>1</td><td>0</td><td>0</td><td>0</td><td>MF17</td><td>1</td><td>2019-10-06 00:00:00 UTC</td><td>14.29</td></tr><tr><td>715</td><td>false</td><td>1</td><td>true</td><td>0</td><td>1</td><td>0</td><td>0</td><td>0</td><td>default_code</td><td>2</td><td>2019-10-30 00:00:00 UTC</td><td>13.33</td></tr><tr><td>727</td><td>true</td><td>1</td><td>false</td><td>1</td><td>0</td><td>0</td><td>0</td><td>0</td><td>default_code</td><td>2</td><td>2019-12-20 00:00:00 UTC</td><td>0.0</td></tr><tr><td>783</td><td>true</td><td>6</td><td>false</td><td>0</td><td>0</td><td>0</td><td>0</td><td>0</td><td>default_code</td><td>0</td><td>0</td><td>NaN</td></tr><tr><td>786</td><td>true</td><td>1</td><td>false</td><td>1</td><td>0</td><td>0</td><td>0</td><td>0</td><td>default_code</td><td>2</td><td>2020-01-02 00:00:00 UTC</td><td>0.0</td></tr><tr><td>801</td><td>false</td><td>5</td><td>true</td><td>0</td><td>0</td><td>1</td><td>0</td><td>0</td><td>default_code</td><td>2</td><td>2019-10-31 00:00:00 UTC</td><td>25.0</td></tr><tr><td>828</td><td>false</td><td>0</td><td>false</td><td>1</td><td>0</td><td>0</td><td>0</td><td>0</td><td>default_code</td><td>3</td><td>2020-02-10 00:00:00 UTC</td><td>7.69</td></tr><tr><td>831</td><td>false</td><td>4</td><td>true</td><td>0</td><td>0</td><td>1</td><td>0</td><td>0</td><td>default_code</td><td>6</td><td>2020-03-22 00:00:00 UTC</td><td>24.39</td></tr><tr><td>838</td><td>true</td><td>1</td><td>false</td><td>1</td><td>0</td><td>0</td><td>0</td><td>0</td><td>default_code</td><td>2</td><td>2019-10-12 00:00:00 UTC</td><td>0.0</td></tr><tr><td>855</td><td>true</td><td>0</td><td>false</td><td>1</td><td>0</td><td>0</td><td>0</td><td>0</td><td>default_code</td><td>3</td><td>2019-11-13 00:00:00 UTC</td><td>4.76</td></tr><tr><td>858</td><td>false</td><td>15</td><td>true</td><td>1</td><td>0</td><td>0</td><td>0</td><td>0</td><td>default_code</td><td>1</td><td>2019-10-06 00:00:00 UTC</td><td>0.0</td></tr><tr><td>877</td><td>false</td><td>11</td><td>true</td><td>0</td><td>0</td><td>1</td><td>0</td><td>0</td><td>default_code</td><td>5</td><td>2020-01-10 00:00:00 UTC</td><td>23.53</td></tr><tr><td>927</td><td>false</td><td>15</td><td>true</td><td>0</td><td>1</td><td>0</td><td>0</td><td>0</td><td>default_code</td><td>1</td><td>2019-10-04 00:00:00 UTC</td><td>11.11</td></tr><tr><td>978</td><td>false</td><td>1</td><td>true</td><td>0</td><td>0</td><td>1</td><td>0</td><td>0</td><td>default_code</td><td>2</td><td>2019-11-22 00:00:00 UTC</td><td>23.08</td></tr><tr><td>1029</td><td>true</td><td>1</td><td>false</td><td>0</td><td>1</td><td>0</td><td>0</td><td>0</td><td>default_code</td><td>3</td><td>2019-11-14 00:00:00 UTC</td><td>18.18</td></tr><tr><td>1052</td><td>false</td><td>1</td><td>true</td><td>1</td><td>0</td><td>0</td><td>0</td><td>0</td><td>default_code</td><td>2</td><td>2019-11-05 00:00:00 UTC</td><td>7.14</td></tr><tr><td>1073</td><td>true</td><td>1</td><td>false</td><td>0</td><td>1</td><td>0</td><td>0</td><td>0</td><td>default_code</td><td>3</td><td>2019-11-25 00:00:00 UTC</td><td>17.65</td></tr><tr><td>1080</td><td>false</td><td>1</td><td>true</td><td>0</td><td>0</td><td>1</td><td>0</td><td>0</td><td>default_code</td><td>3</td><td>2019-12-02 00:00:00 UTC</td><td>26.32</td></tr><tr><td>1103</td><td>true</td><td>2</td><td>false</td><td>0</td><td>0</td><td>0</td><td>1</td><td>0</td><td>default_code</td><td>2</td><td>2019-10-28 00:00:00 UTC</td><td>60.0</td></tr><tr><td>1106</td><td>true</td><td>1</td><td>false</td><td>1</td><td>0</td><td>0</td><td>0</td><td>0</td><td>default_code</td><td>2</td><td>2019-11-10 00:00:00 UTC</td><td>0.0</td></tr><tr><td>1169</td><td>true</td><td>3</td><td>false</td><td>0</td><td>0</td><td>0</td><td>0</td><td>0</td><td>default_code</td><td>0</td><td>0</td><td>NaN</td></tr><tr><td>1171</td><td>false</td><td>2</td><td>true</td><td>0</td><td>0</td><td>1</td><td>0</td><td>0</td><td>default_code</td><td>1</td><td>2019-11-13 00:00:00 UTC</td><td>25.0</td></tr><tr><td>1201</td><td>false</td><td>2</td><td>true</td><td>0</td><td>1</td><td>0</td><td>0</td><td>0</td><td>default_code</td><td>1</td><td>2019-11-12 00:00:00 UTC</td><td>14.29</td></tr><tr><td>1231</td><td>true</td><td>1</td><td>false</td><td>0</td><td>0</td><td>0</td><td>1</td><td>0</td><td>default_code</td><td>3</td><td>2020-01-15 00:00:00 UTC</td><td>35.29</td></tr><tr><td>1305</td><td>false</td><td>15</td><td>true</td><td>0</td><td>1</td><td>0</td><td>0</td><td>0</td><td>default_code</td><td>1</td><td>2019-11-10 00:00:00 UTC</td><td>16.67</td></tr><tr><td>1347</td><td>true</td><td>3</td><td>false</td><td>0</td><td>0</td><td>0</td><td>0</td><td>0</td><td>default_code</td><td>0</td><td>0</td><td>NaN</td></tr><tr><td>1368</td><td>true</td><td>1</td><td>false</td><td>1</td><td>0</td><td>0</td><td>0</td><td>0</td><td>default_code</td><td>2</td><td>2019-11-26 00:00:00 UTC</td><td>0.0</td></tr><tr><td>1437</td><td>false</td><td>16</td><td>true</td><td>0</td><td>0</td><td>0</td><td>0</td><td>0</td><td>default_code</td><td>0</td><td>0</td><td>NaN</td></tr><tr><td>1586</td><td>true</td><td>1</td><td>false</td><td>1</td><td>0</td><td>0</td><td>0</td><td>0</td><td>JISHENG_VIP</td><td>2</td><td>2020-01-09 00:00:00 UTC</td><td>0.0</td></tr><tr><td>1624</td><td>false</td><td>15</td><td>true</td><td>1</td><td>0</td><td>0</td><td>0</td><td>0</td><td>JISHENG_VIP</td><td>1</td><td>2019-11-22 00:00:00 UTC</td><td>0.0</td></tr><tr><td>1724</td><td>true</td><td>2</td><td>false</td><td>0</td><td>0</td><td>0</td><td>1</td><td>0</td><td>default_code</td><td>2</td><td>2020-01-08 00:00:00 UTC</td><td>42.86</td></tr><tr><td>1732</td><td>false</td><td>1</td><td>true</td><td>1</td><td>0</td><td>0</td><td>0</td><td>0</td><td>zoe111-ZOE专属</td><td>2</td><td>2019-12-25 00:00:00 UTC</td><td>7.69</td></tr><tr><td>1800</td><td>true</td><td>1</td><td>false</td><td>1</td><td>0</td><td>0</td><td>0</td><td>0</td><td>default_code</td><td>2</td><td>2020-02-22 00:00:00 UTC</td><td>7.14</td></tr><tr><td colspan='13'>&#8942;</td></tr><tr><td>9235</td><td>false</td><td>2</td><td>true</td><td>1</td><td>0</td><td>0</td><td>0</td><td>0</td><td>小双双jodie</td><td>1</td><td>2020-03-21 00:00:00 UTC</td><td>0.0</td></tr><tr><td>9250</td><td>false</td><td>0</td><td>false</td><td>0</td><td>0</td><td>0</td><td>0</td><td>0</td><td>小双双jodie</td><td>0</td><td>0</td><td>NaN</td></tr><tr><td>9300</td><td>false</td><td>3</td><td>true</td><td>0</td><td>0</td><td>0</td><td>0</td><td>0</td><td>default_code</td><td>0</td><td>0</td><td>NaN</td></tr><tr><td>9515</td><td>false</td><td>3</td><td>true</td><td>0</td><td>0</td><td>0</td><td>0</td><td>0</td><td>little nothing</td><td>0</td><td>0</td><td>NaN</td></tr><tr><td>9585</td><td>false</td><td>2</td><td>true</td><td>0</td><td>1</td><td>0</td><td>0</td><td>0</td><td>little nothing</td><td>1</td><td>2020-03-24 00:00:00 UTC</td><td>12.5</td></tr><tr><td>9633</td><td>false</td><td>2</td><td>true</td><td>1</td><td>0</td><td>0</td><td>0</td><td>0</td><td>little nothing</td><td>1</td><td>2020-03-24 00:00:00 UTC</td><td>0.0</td></tr><tr><td>9651</td><td>false</td><td>0</td><td>false</td><td>0</td><td>0</td><td>0</td><td>0</td><td>0</td><td>little nothing</td><td>0</td><td>0</td><td>NaN</td></tr><tr><td>9810</td><td>false</td><td>3</td><td>true</td><td>0</td><td>0</td><td>0</td><td>0</td><td>0</td><td>little nothing</td><td>0</td><td>0</td><td>NaN</td></tr><tr><td>9990</td><td>false</td><td>3</td><td>true</td><td>0</td><td>0</td><td>0</td><td>0</td><td>0</td><td>little nothing</td><td>0</td><td>0</td><td>NaN</td></tr><tr><td>10015</td><td>false</td><td>3</td><td>true</td><td>0</td><td>0</td><td>0</td><td>0</td><td>0</td><td>little nothing</td><td>0</td><td>0</td><td>NaN</td></tr><tr><td>10046</td><td>false</td><td>3</td><td>true</td><td>0</td><td>0</td><td>0</td><td>0</td><td>0</td><td>little nothing</td><td>0</td><td>0</td><td>NaN</td></tr><tr><td>10052</td><td>false</td><td>3</td><td>true</td><td>0</td><td>0</td><td>0</td><td>0</td><td>0</td><td>little nothing</td><td>0</td><td>0</td><td>NaN</td></tr><tr><td>10069</td><td>false</td><td>3</td><td>true</td><td>0</td><td>0</td><td>0</td><td>0</td><td>0</td><td>little nothing</td><td>0</td><td>0</td><td>NaN</td></tr><tr><td>10102</td><td>false</td><td>3</td><td>true</td><td>0</td><td>0</td><td>0</td><td>0</td><td>0</td><td>little nothing</td><td>0</td><td>0</td><td>NaN</td></tr><tr><td>10109</td><td>false</td><td>3</td><td>true</td><td>0</td><td>0</td><td>0</td><td>0</td><td>0</td><td>little nothing</td><td>0</td><td>0</td><td>NaN</td></tr><tr><td>10130</td><td>false</td><td>2</td><td>true</td><td>0</td><td>0</td><td>0</td><td>1</td><td>0</td><td>20-02-友邦保险-长虹善心3297组-客户75</td><td>1</td><td>2020-03-14 00:00:00 UTC</td><td>33.33</td></tr><tr><td>10286</td><td>false</td><td>3</td><td>true</td><td>0</td><td>0</td><td>0</td><td>0</td><td>0</td><td>default_code</td><td>0</td><td>0</td><td>NaN</td></tr><tr><td>10301</td><td>false</td><td>3</td><td>true</td><td>0</td><td>0</td><td>0</td><td>0</td><td>0</td><td>default_code</td><td>0</td><td>0</td><td>NaN</td></tr><tr><td>10460</td><td>false</td><td>3</td><td>true</td><td>0</td><td>0</td><td>0</td><td>0</td><td>0</td><td>default_code</td><td>0</td><td>0</td><td>NaN</td></tr><tr><td>10505</td><td>false</td><td>3</td><td>true</td><td>0</td><td>0</td><td>0</td><td>0</td><td>0</td><td>default_code</td><td>0</td><td>0</td><td>NaN</td></tr><tr><td>10524</td><td>false</td><td>3</td><td>true</td><td>0</td><td>0</td><td>0</td><td>0</td><td>0</td><td>default_code</td><td>0</td><td>0</td><td>NaN</td></tr><tr><td>10736</td><td>false</td><td>3</td><td>true</td><td>0</td><td>0</td><td>0</td><td>0</td><td>0</td><td>20-15-KOL-韦思嘉</td><td>0</td><td>0</td><td>NaN</td></tr><tr><td>10825</td><td>false</td><td>3</td><td>true</td><td>0</td><td>0</td><td>0</td><td>0</td><td>0</td><td>20-15-KOL-韦思嘉</td><td>0</td><td>0</td><td>NaN</td></tr><tr><td>10914</td><td>false</td><td>2</td><td>true</td><td>0</td><td>1</td><td>0</td><td>0</td><td>0</td><td>20-15-KOL-韦思嘉</td><td>1</td><td>2020-03-24 00:00:00 UTC</td><td>16.67</td></tr><tr><td>10955</td><td>false</td><td>3</td><td>true</td><td>0</td><td>0</td><td>0</td><td>0</td><td>0</td><td>20-15-KOL-韦思嘉</td><td>0</td><td>0</td><td>NaN</td></tr><tr><td>10963</td><td>false</td><td>3</td><td>true</td><td>0</td><td>0</td><td>0</td><td>0</td><td>0</td><td>20-15-KOL-韦思嘉</td><td>0</td><td>0</td><td>NaN</td></tr><tr><td>11001</td><td>false</td><td>15</td><td>true</td><td>0</td><td>1</td><td>0</td><td>0</td><td>0</td><td>20-15-KOL-韦思嘉</td><td>1</td><td>2020-03-18 00:00:00 UTC</td><td>16.67</td></tr><tr><td>11095</td><td>false</td><td>3</td><td>true</td><td>0</td><td>0</td><td>0</td><td>0</td><td>0</td><td>20-15-KOL-韦思嘉</td><td>0</td><td>0</td><td>NaN</td></tr><tr><td>11125</td><td>false</td><td>2</td><td>true</td><td>0</td><td>0</td><td>0</td><td>1</td><td>0</td><td>20-15-KOL-韦思嘉</td><td>1</td><td>2020-03-21 00:00:00 UTC</td><td>50.0</td></tr><tr><td>11155</td><td>false</td><td>2</td><td>true</td><td>1</td><td>0</td><td>0</td><td>0</td><td>0</td><td>default_code</td><td>1</td><td>2020-03-20 00:00:00 UTC</td><td>0.0</td></tr><tr><td>11210</td><td>false</td><td>2</td><td>true</td><td>0</td><td>0</td><td>1</td><td>0</td><td>0</td><td>20-15-KOL-韦思嘉</td><td>1</td><td>2020-03-21 00:00:00 UTC</td><td>20.0</td></tr><tr><td>11242</td><td>false</td><td>2</td><td>true</td><td>1</td><td>0</td><td>0</td><td>0</td><td>0</td><td>default_code</td><td>1</td><td>2020-03-21 00:00:00 UTC</td><td>0.0</td></tr><tr><td>11248</td><td>false</td><td>3</td><td>true</td><td>0</td><td>0</td><td>0</td><td>0</td><td>0</td><td>20-15-KOL-韦思嘉</td><td>0</td><td>0</td><td>NaN</td></tr><tr><td>11252</td><td>false</td><td>3</td><td>true</td><td>0</td><td>0</td><td>0</td><td>0</td><td>0</td><td>20-15-KOL-韦思嘉</td><td>0</td><td>0</td><td>NaN</td></tr><tr><td>11264</td><td>false</td><td>0</td><td>false</td><td>0</td><td>0</td><td>0</td><td>0</td><td>0</td><td>20-15-KOL-韦思嘉</td><td>0</td><td>0</td><td>NaN</td></tr><tr><td>11288</td><td>false</td><td>3</td><td>true</td><td>0</td><td>0</td><td>0</td><td>0</td><td>0</td><td>default_code</td><td>0</td><td>0</td><td>NaN</td></tr><tr><td>11347</td><td>false</td><td>3</td><td>true</td><td>0</td><td>0</td><td>0</td><td>0</td><td>0</td><td>20-15-KOL-韦思嘉</td><td>0</td><td>0</td><td>NaN</td></tr><tr><td>11387</td><td>false</td><td>16</td><td>true</td><td>0</td><td>0</td><td>0</td><td>0</td><td>0</td><td>20-15-KOL-韦思嘉</td><td>0</td><td>0</td><td>NaN</td></tr><tr><td>11389</td><td>false</td><td>3</td><td>true</td><td>0</td><td>0</td><td>0</td><td>0</td><td>0</td><td>20-15-KOL-韦思嘉</td><td>0</td><td>0</td><td>NaN</td></tr><tr><td>11394</td><td>false</td><td>3</td><td>true</td><td>0</td><td>0</td><td>0</td><td>0</td><td>0</td><td>20-15-KOL-韦思嘉</td><td>0</td><td>0</td><td>NaN</td></tr><tr><td>11446</td><td>false</td><td>3</td><td>true</td><td>0</td><td>0</td><td>0</td><td>0</td><td>0</td><td>20-15-KOL-韦思嘉</td><td>0</td><td>0</td><td>NaN</td></tr><tr><td>11522</td><td>false</td><td>0</td><td>false</td><td>0</td><td>0</td><td>0</td><td>0</td><td>0</td><td>default_code</td><td>0</td><td>0</td><td>NaN</td></tr><tr><td>11578</td><td>false</td><td>3</td><td>true</td><td>0</td><td>0</td><td>0</td><td>0</td><td>0</td><td>default_code</td><td>0</td><td>0</td><td>NaN</td></tr><tr><td>11910</td><td>false</td><td>3</td><td>true</td><td>0</td><td>0</td><td>0</td><td>0</td><td>0</td><td>default_code</td><td>0</td><td>0</td><td>NaN</td></tr><tr><td>12048</td><td>false</td><td>16</td><td>true</td><td>0</td><td>0</td><td>0</td><td>0</td><td>0</td><td>一只马丁靴</td><td>0</td><td>0</td><td>NaN</td></tr><tr><td>12078</td><td>false</td><td>3</td><td>true</td><td>0</td><td>0</td><td>0</td><td>0</td><td>0</td><td>default_code</td><td>0</td><td>0</td><td>NaN</td></tr><tr><td>12099</td><td>false</td><td>3</td><td>true</td><td>0</td><td>0</td><td>0</td><td>0</td><td>0</td><td>20-15-KOL-韦思嘉</td><td>0</td><td>0</td><td>NaN</td></tr><tr><td>12488</td><td>false</td><td>3</td><td>true</td><td>0</td><td>0</td><td>0</td><td>0</td><td>0</td><td>一只马丁靴</td><td>0</td><td>0</td><td>NaN</td></tr><tr><td>12611</td><td>false</td><td>3</td><td>true</td><td>0</td><td>0</td><td>0</td><td>0</td><td>0</td><td>20-04-KOL-gu_古妍</td><td>0</td><td>0</td><td>NaN</td></tr></table>"
      ],
      "text/plain": [
       "\"<table><tr><td>user_id</td><td>end</td><td>qty</td><td>valid</td><td>v0</td><td>v1</td><td>v2</td><td>v3</td><td>staff</td><td>source</td><td>orders</td><td>last_orders</td><td>rate</td></tr><tr><td>145</td><td>false</td><td>19</td><td>true</td><td>0</td><td>0</td><td>1</td><td>0</td><td>0</td><td>default_code</td><td>2</td><td>2020-01-14 00:00:00 UTC</td><td>23.08</td></tr><tr><td>147</td><td>false</td><td>15</td><td>true</td><td>1</td><td>0</td><td>0</td><td>0</td><td>0</td><td>default_code</td><td>1</td><td>2019-09-23 00:00:00 UTC</td><td>0.0</td></tr><tr><td>231</td><td>true</td><td>1</td><td>false</td><td>1</td><td>0</td><td>0</td><td>0</td><td>0</td><td>default_code</td><td>3</td><td>2019-12-01 00:00:00 UTC</td><td>0.0</td></tr><tr><td>241</td><td>true</td><td>2</td><td>false</td><td>0</td><td>0</td><td>1</td><td>0</td><td>0</td><td>default_code</td><td>3</td><td>2019-12-02 00:00:00 UTC</td><td>28.0</td></tr><tr><td>264</td><td>true</td><td>3</td><td>false</td><td>0</td><td>0</td><td>0</td><td>0</td><td>0</td><td>default_code</td><td>0</td><td>0</td><td>NaN</td></tr><tr><td>278</td><td>false</td><td>10</td><td>true</td><td>0</td><td>0</td><td>1</td><td>0</td><td>0</td><td>default_code</td><td>6</td><td>2020-01-10 00:00:00 UTC</td><td>23.08</td></tr><tr><td>337</td><td>true</td><td>2</td><td>false</td><td>1</td><td>0</td><td>0</td><td>0</td><td>0</td><td>default_code</td><td>1</td><td>2019-09-24 00:00:00 UTC</td><td>0.0</td></tr><tr><td>342</td><td>true</td><td>1</td><td>false</td><td>1</td><td>0</td><td>0</td><td>0</td><td>0</td><td>default_code</td><td>2</td><td>2019-12-06 00:00:00 UTC</td><td>6.25</td></tr><tr><td>370</td><td>false</td><td>16</td><td>true</td><td>0</td><td>0</td><td>0</td><td>0</td><td>0</td><td>default_code</td><td>0</td><td>0</td><td>NaN</td></tr><tr><td>474</td><td>true</td><td>2</td><td>false</td><td>1</td><td>0</td><td>0</td><td>0</td><td>0</td><td>default_code</td><td>1</td><td>2019-09-25 00:00:00 UTC</td><td>0.0</td></tr><tr><td>515</td><td>false</td><td>2</td><td>true</td><td>0</td><td>1</td><td>0</td><td>0</td><td>0</td><td>default_code</td><td>1</td><td>2019-09-24 00:00:00 UTC</td><td>16.67</td></tr><tr><td>516</td><td>false</td><td>12</td><td>true</td><td>0</td><td>0</td><td>0</td><td>1</td><td>0</td><td>default_code</td><td>5</td><td>2020-02-28 00:00:00 UTC</td><td>34.29</td></tr><tr><td>547</td><td>false</td><td>10</td><td>true</td><td>0</td><td>1</td><td>0</td><td>0</td><td>0</td><td>default_code</td><td>7</td><td>2020-02-27 00:00:00 UTC</td><td>12.24</td></tr><tr><td>583</td><td>false</td><td>1</td><td>true</td><td>0</td><td>1</td><td>0</td><td>0</td><td>0</td><td>default_code</td><td>2</td><td>2019-10-20 00:00:00 UTC</td><td>18.75</td></tr><tr><td>630</td><td>false</td><td>15</td><td>true</td><td>0</td><td>1</td><td>0</td><td>0</td><td>0</td><td>default_code</td><td>1</td><td>2019-09-27 00:00:00 UTC</td><td>12.5</td></tr><tr><td>632</td><td>true</td><td>2</td><td>false</td><td>1</td><td>0</td><td>0</td><td>0</td><td>0</td><td>default_code</td><td>2</td><td>2019-09-25 00:00:00 UTC</td><td>0.0</td></tr><tr><td>655</td><td>false</td><td>2</td><td>true</td><td>0</td><td>1</td><td>0</td><td>0</td><td>0</td><td>MF17</td><td>1</td><td>2019-10-06 00:00:00 UTC</td><td>14.29</td></tr><tr><td>715</td><td>false</td><td>1</td><td>true</td><td>0</td><td>1</td><td>0</td><td>0</td><td>0</td><td>default_code</td><td>2</td><td>2019-10-30 00:00:00 UTC</td><td>13.33</td></tr><tr><td>727</td><td>true</td><td>1</td><td>false</td><td>1</td><td>0</td><td>0</td><td>0</td><td>0</td><td>default_code</td><td>2</td><td>2019-12-20 00:00:00 UTC</td><td>0.0</td></tr><tr><td>783</td><td>true</td><td>6</td><td>false</td><td>0</td><td>0</td><td>0</td><td>0</td><td>0</td><td>default_code</td><td>0</td><td>0</td><td>NaN</td></tr><tr><td>786</td><td>true</td><td>1</td><td>false</td><td>1</td><td>0</td><td>0</td><td>0</td><td>0</td><td>default_code</td><td>2</td><td>2020-01-02 00:00:00 UTC</td><td>0.0</td></tr><tr><td>801</td><td>false</td><td>5</td><td>true</td><td>0</td><td>0</td><td>1</td><td>0</td><td>0</td><td>default_code</td><td>2</td><td>2019-10-31 00:00:00 UTC</td><td>25.0</td></tr><tr><td>828</td><td>false</td><td>0</td><td>false</td><td>1</td><td>0</td><td>0</td><td>0</td><td>0</td><td>default_code</td><td>3</td><td>2020-02-10 00:00:00 UTC</td><td>7.69</td></tr><tr><td>831</td><td>false</td><td>4</td><td>true</td><td>0</td><td>0</td><td>1</td><td>0</td><td>0</td><td>default_code</td><td>6</td><td>2020-03-22 00:00:00 UTC</td><td>24.39</td></tr><tr><td>838</td><td>true</td><td>1</td><td>false</td><td>1</td><td>0</td><td>0</td><td>0</td><td>0</td><td>default_code</td><td>2</td><td>2019-10-12 00:00:00 UTC</td><td>0.0</td></tr><tr><td>855</td><td>true</td><td>0</td><td>false</td><td>1</td><td>0</td><td>0</td><td>0</td><td>0</td><td>default_code</td><td>3</td><td>2019-11-13 00:00:00 UTC</td><td>4.76</td></tr><tr><td>858</td><td>false</td><td>15</td><td>true</td><td>1</td><td>0</td><td>0</td><td>0</td><td>0</td><td>default_code</td><td>1</td><td>2019-10-06 00:00:00 UTC</td><td>0.0</td></tr><tr><td>877</td><td>false</td><td>11</td><td>true</td><td>0</td><td>0</td><td>1</td><td>0</td><td>0</td><td>default_code</td><td>5</td><td>2020-01-10 00:00:00 UTC</td><td>23.53</td></tr><tr><td>927</td><td>false</td><td>15</td><td>true</td><td>0</td><td>1</td><td>0</td><td>0</td><td>0</td><td>default_code</td><td>1</td><td>2019-10-04 00:00:00 UTC</td><td>11.11</td></tr><tr><td>978</td><td>false</td><td>1</td><td>true</td><td>0</td><td>0</td><td>1</td><td>0</td><td>0</td><td>default_code</td><td>2</td><td>2019-11-22 00:00:00 UTC</td><td>23.08</td></tr><tr><td>1029</td><td>true</td><td>1</td><td>false</td><td>0</td><td>1</td><td>0</td><td>0</td><td>0</td><td>default_code</td><td>3</td><td>2019-11-14 00:00:00 UTC</td><td>18.18</td></tr><tr><td>1052</td><td>false</td><td>1</td><td>true</td><td>1</td><td>0</td><td>0</td><td>0</td><td>0</td><td>default_code</td><td>2</td><td>2019-11-05 00:00:00 UTC</td><td>7.14</td></tr><tr><td>1073</td><td>true</td><td>1</td><td>false</td><td>0</td><td>1</td><td>0</td><td>0</td><td>0</td><td>default_code</td><td>3</td><td>2019-11-25 00:00:00 UTC</td><td>17.65</td></tr><tr><td>1080</td><td>false</td><td>1</td><td>true</td><td>0</td><td>0</td><td>1</td><td>0</td><td>0</td><td>default_code</td><td>3</td><td>2019-12-02 00:00:00 UTC</td><td>26.32</td></tr><tr><td>1103</td><td>true</td><td>2</td><td>false</td><td>0</td><td>0</td><td>0</td><td>1</td><td>0</td><td>default_code</td><td>2</td><td>2019-10-28 00:00:00 UTC</td><td>60.0</td></tr><tr><td>1106</td><td>true</td><td>1</td><td>false</td><td>1</td><td>0</td><td>0</td><td>0</td><td>0</td><td>default_code</td><td>2</td><td>2019-11-10 00:00:00 UTC</td><td>0.0</td></tr><tr><td>1169</td><td>true</td><td>3</td><td>false</td><td>0</td><td>0</td><td>0</td><td>0</td><td>0</td><td>default_code</td><td>0</td><td>0</td><td>NaN</td></tr><tr><td>1171</td><td>false</td><td>2</td><td>true</td><td>0</td><td>0</td><td>1</td><td>0</td><td>0</td><td>default_code</td><td>1</td><td>2019-11-13 00:00:00 UTC</td><td>25.0</td></tr><tr><td>1201</td><td>false</td><td>2</td><td>true</td><td>0</td><td>1</td><td>0</td><td>0</td><td>0</td><td>default_code</td><td>1</td><td>2019-11-12 00:00:00 UTC</td><td>14.29</td></tr><tr><td>1231</td><td>true</td><td>1</td><td>false</td><td>0</td><td>0</td><td>0</td><td>1</td><td>0</td><td>default_code</td><td>3</td><td>2020-01-15 00:00:00 UTC</td><td>35.29</td></tr><tr><td>1305</td><td>false</td><td>15</td><td>true</td><td>0</td><td>1</td><td>0</td><td>0</td><td>0</td><td>default_code</td><td>1</td><td>2019-11-10 00:00:00 UTC</td><td>16.67</td></tr><tr><td>1347</td><td>true</td><td>3</td><td>false</td><td>0</td><td>0</td><td>0</td><td>0</td><td>0</td><td>default_code</td><td>0</td><td>0</td><td>NaN</td></tr><tr><td>1368</td><td>true</td><td>1</td><td>false</td><td>1</td><td>0</td><td>0</td><td>0</td><td>0</td><td>default_code</td><td>2</td><td>2019-11-26 00:00:00 UTC</td><td>0.0</td></tr><tr><td>1437</td><td>false</td><td>16</td><td>true</td><td>0</td><td>0</td><td>0</td><td>0</td><td>0</td><td>default_code</td><td>0</td><td>0</td><td>NaN</td></tr><tr><td>1586</td><td>true</td><td>1</td><td>false</td><td>1</td><td>0</td><td>0</td><td>0</td><td>0</td><td>JISHENG_VIP</td><td>2</td><td>2020-01-09 00:00:00 UTC</td><td>0.0</td></tr><tr><td>1624</td><td>false</td><td>15</td><td>true</td><td>1</td><td>0</td><td>0</td><td>0</td><td>0</td><td>JISHENG_VIP</td><td>1</td><td>2019-11-22 00:00:00 UTC</td><td>0.0</td></tr><tr><td>1724</td><td>true</td><td>2</td><td>false</td><td>0</td><td>0</td><td>0</td><td>1</td><td>0</td><td>default_code</td><td>2</td><td>2020-01-08 00:00:00 UTC</td><td>42.86</td></tr><tr><td>1732</td><td>false</td><td>1</td><td>true</td><td>1</td><td>0</td><td>0</td><td>0</td><td>0</td><td>zoe111-ZOE专属</td><td>2</td><td>2019-12-25 00:00:00 UTC</td><td>7.69</td></tr><tr><td>1800</td><td>true</td><td>1</td><td>false</td><td>1</td><td>0</td><td>0</td><td>0</td><td>0</td><td>default_code</td><td>2</td><td>2020-02-22 00:00:00 UTC</td><td>7.14</td></tr><tr><td colspan='13'>&#8942;</td></tr><tr><td>9235</td><td>false</td><td>2</td><td>true</td><td>1</td><td>0</td><td>0</td><td>0</td><td>0</td><td>小双双jodie</td><td>1</td><td>2020-03-21 00:00:00 UTC</td><td>0.0</td></tr><tr><td>9250</td><td>false</td><td>0</td><td>false</td><td>0</td><td>0</td><td>0</td><td>0</td><td>0</td><td>小双双jodie</td><td>0</td><td>0</td><td>NaN</td></tr><tr><td>9300</td><td>false</td><td>3</td><td>true</td><td>0</td><td>0</td><td>0</td><td>0</td><td>0</td><td>default_code</td><td>0</td><td>0</td><td>NaN</td></tr><tr><td>9515</td><td>false</td><td>3</td><td>true</td><td>0</td><td>0</td><td>0</td><td>0</td><td>0</td><td>little nothing</td><td>0</td><td>0</td><td>NaN</td></tr><tr><td>9585</td><td>false</td><td>2</td><td>true</td><td>0</td><td>1</td><td>0</td><td>0</td><td>0</td><td>little nothing</td><td>1</td><td>2020-03-24 00:00:00 UTC</td><td>12.5</td></tr><tr><td>9633</td><td>false</td><td>2</td><td>true</td><td>1</td><td>0</td><td>0</td><td>0</td><td>0</td><td>little nothing</td><td>1</td><td>2020-03-24 00:00:00 UTC</td><td>0.0</td></tr><tr><td>9651</td><td>false</td><td>0</td><td>false</td><td>0</td><td>0</td><td>0</td><td>0</td><td>0</td><td>little nothing</td><td>0</td><td>0</td><td>NaN</td></tr><tr><td>9810</td><td>false</td><td>3</td><td>true</td><td>0</td><td>0</td><td>0</td><td>0</td><td>0</td><td>little nothing</td><td>0</td><td>0</td><td>NaN</td></tr><tr><td>9990</td><td>false</td><td>3</td><td>true</td><td>0</td><td>0</td><td>0</td><td>0</td><td>0</td><td>little nothing</td><td>0</td><td>0</td><td>NaN</td></tr><tr><td>10015</td><td>false</td><td>3</td><td>true</td><td>0</td><td>0</td><td>0</td><td>0</td><td>0</td><td>little nothing</td><td>0</td><td>0</td><td>NaN</td></tr><tr><td>10046</td><td>false</td><td>3</td><td>true</td><td>0</td><td>0</td><td>0</td><td>0</td><td>0</td><td>little nothing</td><td>0</td><td>0</td><td>NaN</td></tr><tr><td>10052</td><td>false</td><td>3</td><td>true</td><td>0</td><td>0</td><td>0</td><td>0</td><td>0</td><td>little nothing</td><td>0</td><td>0</td><td>NaN</td></tr><tr><td>10069</td><td>false</td><td>3</td><td>true</td><td>0</td><td>0</td><td>0</td><td>0</td><td>0</td><td>little nothing</td><td>0</td><td>0</td><td>NaN</td></tr><tr><td>10102</td><td>false</td><td>3</td><td>true</td><td>0</td><td>0</td><td>0</td><td>0</td><td>0</td><td>little nothing</td><td>0</td><td>0</td><td>NaN</td></tr><tr><td>10109</td><td>false</td><td>3</td><td>true</td><td>0</td><td>0</td><td>0</td><td>0</td><td>0</td><td>little nothing</td><td>0</td><td>0</td><td>NaN</td></tr><tr><td>10130</td><td>false</td><td>2</td><td>true</td><td>0</td><td>0</td><td>0</td><td>1</td><td>0</td><td>20-02-友邦保险-长虹善心3297组-客户75</td><td>1</td><td>2020-03-14 00:00:00 UTC</td><td>33.33</td></tr><tr><td>10286</td><td>false</td><td>3</td><td>true</td><td>0</td><td>0</td><td>0</td><td>0</td><td>0</td><td>default_code</td><td>0</td><td>0</td><td>NaN</td></tr><tr><td>10301</td><td>false</td><td>3</td><td>true</td><td>0</td><td>0</td><td>0</td><td>0</td><td>0</td><td>default_code</td><td>0</td><td>0</td><td>NaN</td></tr><tr><td>10460</td><td>false</td><td>3</td><td>true</td><td>0</td><td>0</td><td>0</td><td>0</td><td>0</td><td>default_code</td><td>0</td><td>0</td><td>NaN</td></tr><tr><td>10505</td><td>false</td><td>3</td><td>true</td><td>0</td><td>0</td><td>0</td><td>0</td><td>0</td><td>default_code</td><td>0</td><td>0</td><td>NaN</td></tr><tr><td>10524</td><td>false</td><td>3</td><td>true</td><td>0</td><td>0</td><td>0</td><td>0</td><td>0</td><td>default_code</td><td>0</td><td>0</td><td>NaN</td></tr><tr><td>10736</td><td>false</td><td>3</td><td>true</td><td>0</td><td>0</td><td>0</td><td>0</td><td>0</td><td>20-15-KOL-韦思嘉</td><td>0</td><td>0</td><td>NaN</td></tr><tr><td>10825</td><td>false</td><td>3</td><td>true</td><td>0</td><td>0</td><td>0</td><td>0</td><td>0</td><td>20-15-KOL-韦思嘉</td><td>0</td><td>0</td><td>NaN</td></tr><tr><td>10914</td><td>false</td><td>2</td><td>true</td><td>0</td><td>1</td><td>0</td><td>0</td><td>0</td><td>20-15-KOL-韦思嘉</td><td>1</td><td>2020-03-24 00:00:00 UTC</td><td>16.67</td></tr><tr><td>10955</td><td>false</td><td>3</td><td>true</td><td>0</td><td>0</td><td>0</td><td>0</td><td>0</td><td>20-15-KOL-韦思嘉</td><td>0</td><td>0</td><td>NaN</td></tr><tr><td>10963</td><td>false</td><td>3</td><td>true</td><td>0</td><td>0</td><td>0</td><td>0</td><td>0</td><td>20-15-KOL-韦思嘉</td><td>0</td><td>0</td><td>NaN</td></tr><tr><td>11001</td><td>false</td><td>15</td><td>true</td><td>0</td><td>1</td><td>0</td><td>0</td><td>0</td><td>20-15-KOL-韦思嘉</td><td>1</td><td>2020-03-18 00:00:00 UTC</td><td>16.67</td></tr><tr><td>11095</td><td>false</td><td>3</td><td>true</td><td>0</td><td>0</td><td>0</td><td>0</td><td>0</td><td>20-15-KOL-韦思嘉</td><td>0</td><td>0</td><td>NaN</td></tr><tr><td>11125</td><td>false</td><td>2</td><td>true</td><td>0</td><td>0</td><td>0</td><td>1</td><td>0</td><td>20-15-KOL-韦思嘉</td><td>1</td><td>2020-03-21 00:00:00 UTC</td><td>50.0</td></tr><tr><td>11155</td><td>false</td><td>2</td><td>true</td><td>1</td><td>0</td><td>0</td><td>0</td><td>0</td><td>default_code</td><td>1</td><td>2020-03-20 00:00:00 UTC</td><td>0.0</td></tr><tr><td>11210</td><td>false</td><td>2</td><td>true</td><td>0</td><td>0</td><td>1</td><td>0</td><td>0</td><td>20-15-KOL-韦思嘉</td><td>1</td><td>2020-03-21 00:00:00 UTC</td><td>20.0</td></tr><tr><td>11242</td><td>false</td><td>2</td><td>true</td><td>1</td><td>0</td><td>0</td><td>0</td><td>0</td><td>default_code</td><td>1</td><td>2020-03-21 00:00:00 UTC</td><td>0.0</td></tr><tr><td>11248</td><td>false</td><td>3</td><td>true</td><td>0</td><td>0</td><td>0</td><td>0</td><td>0</td><td>20-15-KOL-韦思嘉</td><td>0</td><td>0</td><td>NaN</td></tr><tr><td>11252</td><td>false</td><td>3</td><td>true</td><td>0</td><td>0</td><td>0</td><td>0</td><td>0</td><td>20-15-KOL-韦思嘉</td><td>0</td><td>0</td><td>NaN</td></tr><tr><td>11264</td><td>false</td><td>0</td><td>false</td><td>0</td><td>0</td><td>0</td><td>0</td><td>0</td><td>20-15-KOL-韦思嘉</td><td>0</td><td>0</td><td>NaN</td></tr><tr><td>11288</td><td>false</td><td>3</td><td>true</td><td>0</td><td>0</td><td>0</td><td>0</td><td>0</td><td>default_code</td><td>0</td><td>0</td><td>NaN</td></tr><tr><td>11347</td><td>false</td><td>3</td><td>true</td><td>0</td><td>0</td><td>0</td><td>0</td><td>0</td><td>20-15-KOL-韦思嘉</td><td>0</td><td>0</td><td>NaN</td></tr><tr><td>11387</td><td>false</td><td>16</td><td>true</td><td>0</td><td>0</td><td>0</td><td>0</td><td>0</td><td>20-15-KOL-韦思嘉</td><td>0</td><td>0</td><td>NaN</td></tr><tr><td>11389</td><td>false</td><td>3</td><td>true</td><td>0</td><td>0</td><td>0</td><td>0</td><td>0</td><td>20-15-KOL-韦思嘉</td><td>0</td><td>0</td><td>NaN</td></tr><tr><td>11394</td><td>false</td><td>3</td><td>true</td><td>0</td><td>0</td><td>0</td><td>0</td><td>0</td><td>20-15-KOL-韦思嘉</td><td>0</td><td>0</td><td>NaN</td></tr><tr><td>11446</td><td>false</td><td>3</td><td>true</td><td>0</td><td>0</td><td>0</td><td>0</td><td>0</td><td>20-15-KOL-韦思嘉</td><td>0</td><td>0</td><td>NaN</td></tr><tr><td>11522</td><td>false</td><td>0</td><td>false</td><td>0</td><td>0</td><td>0</td><td>0</td><td>0</td><td>default_code</td><td>0</td><td>0</td><td>NaN</td></tr><tr><td>11578</td><td>false</td><td>3</td><td>true</td><td>0</td><td>0</td><td>0</td><td>0</td><td>0</td><td>default_code</td><td>0</td><td>0</td><td>NaN</td></tr><tr><td>11910</td><td>false</td><td>3</td><td>true</td><td>0</td><td>0</td><td>0</td><td>0</td><td>0</td><td>default_code</td><td>0</td><td>0</td><td>NaN</td></tr><tr><td>12048</td><td>false</td><td>16</td><td>true</td><td>0</td><td>0</td><td>0</td><td>0</td><td>0</td><td>一只马丁靴</td><td>0</td><td>0</td><td>NaN</td></tr><tr><td>12078</td><td>false</td><td>3</td><td>true</td><td>0</td><td>0</td><td>0</td><td>0</td><td>0</td><td>default_code</td><td>0</td><td>0</td><td>NaN</td></tr><tr><td>12099</td><td>false</td><td>3</td><td>true</td><td>0</td><td>0</td><td>0</td><td>0</td><td>0</td><td>20-15-KOL-韦思嘉</td><td>0</td><td>0</td><td>NaN</td></tr><tr><td>12488</td><td>false</td><td>3</td><td>true</td><td>0</td><td>0</td><td>0</td><td>0</td><td>0</td><td>一只马丁靴</td><td>0</td><td>0</td><td>NaN</td></tr><tr><td>12611</td><td>false</td><td>3</td><td>true</td><td>0</td><td>0</td><td>0</td><td>0</td><td>0</td><td>20-04-KOL-gu_古妍</td><td>0</td><td>0</td><td>NaN</td></tr></table>\""
      ]
     },
     "metadata": {},
     "output_type": "display_data"
    }
   ],
   "source": [
    "puts_header \"用户刺激\"\n",
    "\n",
    "data = group[\"已育\"].map do |x|\n",
    "  osize = x.orders.product.size\n",
    " [\n",
    "    x.id,\n",
    "    x.user_member_subscribe.end_time < Time.now(),\n",
    "    x.user_member_subscribe.subscribe_qty,\n",
    "    x.valid,\n",
    "    x.property.v0.count,\n",
    "    x.property.v1.count,\n",
    "    x.property.v2.count,\n",
    "    x.property.v3.count,\n",
    "    x.property.staff.count,\n",
    "    x.source,\n",
    "    osize,\n",
    "    osize>0 ? x.orders.product.order(:expect_day).last.expect_day : 0,\n",
    "    (x.purchase_rate * 100).round(2),\n",
    " ]\n",
    "end.filter do |x| x[8]==0  and  (x[11]==0 or (Time.now() - x[11] > 30.days))  end\n",
    "\n",
    "table = data.clone\n",
    "table.unshift %w[ user_id end qty valid v0 v1 v2 v3 staff source orders last_orders rate  ]\n",
    "puts_table table "
   ]
  },
  {
   "cell_type": "code",
   "execution_count": 145,
   "metadata": {},
   "outputs": [
    {
     "name": "stdout",
     "output_type": "stream",
     "text": [
      "16\n"
     ]
    },
    {
     "data": {
      "text/html": [
       "<table><tr><td>user_id</td><td>end</td><td>qty</td><td>valid</td><td>v0</td><td>v1</td><td>v2</td><td>v3</td><td>staff</td><td>source</td><td>orders</td><td>last_orders</td><td>rate</td></tr><tr><td>5139</td><td>false</td><td>0</td><td>false</td><td>0</td><td>0</td><td>0</td><td>1</td><td>0</td><td>一只马丁靴</td><td>2</td><td>2020-02-29 00:00:00 UTC</td><td>33.33</td></tr><tr><td>6180</td><td>true</td><td>0</td><td>false</td><td>0</td><td>0</td><td>0</td><td>0</td><td>0</td><td>行政联盟送季卡</td><td>1</td><td>2020-01-14 00:00:00 UTC</td><td>NaN</td></tr><tr><td>6479</td><td>true</td><td>0</td><td>false</td><td>0</td><td>0</td><td>0</td><td>0</td><td>0</td><td>default_code</td><td>1</td><td>2020-01-04 00:00:00 UTC</td><td>NaN</td></tr><tr><td>6770</td><td>true</td><td>0</td><td>false</td><td>0</td><td>0</td><td>0</td><td>0</td><td>0</td><td>default_code</td><td>0</td><td>0</td><td>NaN</td></tr><tr><td>7063</td><td>true</td><td>0</td><td>false</td><td>0</td><td>0</td><td>0</td><td>0</td><td>0</td><td>default_code</td><td>1</td><td>2020-01-12 00:00:00 UTC</td><td>NaN</td></tr><tr><td>7295</td><td>true</td><td>0</td><td>false</td><td>0</td><td>0</td><td>0</td><td>0</td><td>0</td><td>default_code</td><td>1</td><td>2020-01-15 00:00:00 UTC</td><td>NaN</td></tr><tr><td>7303</td><td>true</td><td>0</td><td>false</td><td>0</td><td>0</td><td>0</td><td>0</td><td>0</td><td>default_code</td><td>1</td><td>2020-01-15 00:00:00 UTC</td><td>NaN</td></tr><tr><td>7545</td><td>true</td><td>0</td><td>false</td><td>0</td><td>0</td><td>0</td><td>0</td><td>0</td><td>default_code</td><td>1</td><td>2020-01-13 00:00:00 UTC</td><td>NaN</td></tr><tr><td>7588</td><td>true</td><td>0</td><td>false</td><td>0</td><td>0</td><td>0</td><td>0</td><td>0</td><td>default_code</td><td>0</td><td>0</td><td>NaN</td></tr><tr><td>7822</td><td>true</td><td>0</td><td>false</td><td>0</td><td>0</td><td>0</td><td>0</td><td>0</td><td>default_code</td><td>1</td><td>2020-02-15 00:00:00 UTC</td><td>NaN</td></tr><tr><td>7974</td><td>true</td><td>0</td><td>false</td><td>0</td><td>0</td><td>0</td><td>0</td><td>0</td><td>default_PC</td><td>0</td><td>0</td><td>NaN</td></tr><tr><td>8022</td><td>false</td><td>0</td><td>false</td><td>0</td><td>0</td><td>0</td><td>0</td><td>0</td><td>default_code</td><td>0</td><td>0</td><td>NaN</td></tr><tr><td>9250</td><td>false</td><td>0</td><td>false</td><td>0</td><td>0</td><td>0</td><td>0</td><td>0</td><td>小双双jodie</td><td>0</td><td>0</td><td>NaN</td></tr><tr><td>9651</td><td>false</td><td>0</td><td>false</td><td>0</td><td>0</td><td>0</td><td>0</td><td>0</td><td>little nothing</td><td>0</td><td>0</td><td>NaN</td></tr><tr><td>11264</td><td>false</td><td>0</td><td>false</td><td>0</td><td>0</td><td>0</td><td>0</td><td>0</td><td>20-15-KOL-韦思嘉</td><td>0</td><td>0</td><td>NaN</td></tr><tr><td>11522</td><td>false</td><td>0</td><td>false</td><td>0</td><td>0</td><td>0</td><td>0</td><td>0</td><td>default_code</td><td>0</td><td>0</td><td>NaN</td></tr></table>"
      ],
      "text/plain": [
       "\"<table><tr><td>user_id</td><td>end</td><td>qty</td><td>valid</td><td>v0</td><td>v1</td><td>v2</td><td>v3</td><td>staff</td><td>source</td><td>orders</td><td>last_orders</td><td>rate</td></tr><tr><td>5139</td><td>false</td><td>0</td><td>false</td><td>0</td><td>0</td><td>0</td><td>1</td><td>0</td><td>一只马丁靴</td><td>2</td><td>2020-02-29 00:00:00 UTC</td><td>33.33</td></tr><tr><td>6180</td><td>true</td><td>0</td><td>false</td><td>0</td><td>0</td><td>0</td><td>0</td><td>0</td><td>行政联盟送季卡</td><td>1</td><td>2020-01-14 00:00:00 UTC</td><td>NaN</td></tr><tr><td>6479</td><td>true</td><td>0</td><td>false</td><td>0</td><td>0</td><td>0</td><td>0</td><td>0</td><td>default_code</td><td>1</td><td>2020-01-04 00:00:00 UTC</td><td>NaN</td></tr><tr><td>6770</td><td>true</td><td>0</td><td>false</td><td>0</td><td>0</td><td>0</td><td>0</td><td>0</td><td>default_code</td><td>0</td><td>0</td><td>NaN</td></tr><tr><td>7063</td><td>true</td><td>0</td><td>false</td><td>0</td><td>0</td><td>0</td><td>0</td><td>0</td><td>default_code</td><td>1</td><td>2020-01-12 00:00:00 UTC</td><td>NaN</td></tr><tr><td>7295</td><td>true</td><td>0</td><td>false</td><td>0</td><td>0</td><td>0</td><td>0</td><td>0</td><td>default_code</td><td>1</td><td>2020-01-15 00:00:00 UTC</td><td>NaN</td></tr><tr><td>7303</td><td>true</td><td>0</td><td>false</td><td>0</td><td>0</td><td>0</td><td>0</td><td>0</td><td>default_code</td><td>1</td><td>2020-01-15 00:00:00 UTC</td><td>NaN</td></tr><tr><td>7545</td><td>true</td><td>0</td><td>false</td><td>0</td><td>0</td><td>0</td><td>0</td><td>0</td><td>default_code</td><td>1</td><td>2020-01-13 00:00:00 UTC</td><td>NaN</td></tr><tr><td>7588</td><td>true</td><td>0</td><td>false</td><td>0</td><td>0</td><td>0</td><td>0</td><td>0</td><td>default_code</td><td>0</td><td>0</td><td>NaN</td></tr><tr><td>7822</td><td>true</td><td>0</td><td>false</td><td>0</td><td>0</td><td>0</td><td>0</td><td>0</td><td>default_code</td><td>1</td><td>2020-02-15 00:00:00 UTC</td><td>NaN</td></tr><tr><td>7974</td><td>true</td><td>0</td><td>false</td><td>0</td><td>0</td><td>0</td><td>0</td><td>0</td><td>default_PC</td><td>0</td><td>0</td><td>NaN</td></tr><tr><td>8022</td><td>false</td><td>0</td><td>false</td><td>0</td><td>0</td><td>0</td><td>0</td><td>0</td><td>default_code</td><td>0</td><td>0</td><td>NaN</td></tr><tr><td>9250</td><td>false</td><td>0</td><td>false</td><td>0</td><td>0</td><td>0</td><td>0</td><td>0</td><td>小双双jodie</td><td>0</td><td>0</td><td>NaN</td></tr><tr><td>9651</td><td>false</td><td>0</td><td>false</td><td>0</td><td>0</td><td>0</td><td>0</td><td>0</td><td>little nothing</td><td>0</td><td>0</td><td>NaN</td></tr><tr><td>11264</td><td>false</td><td>0</td><td>false</td><td>0</td><td>0</td><td>0</td><td>0</td><td>0</td><td>20-15-KOL-韦思嘉</td><td>0</td><td>0</td><td>NaN</td></tr><tr><td>11522</td><td>false</td><td>0</td><td>false</td><td>0</td><td>0</td><td>0</td><td>0</td><td>0</td><td>default_code</td><td>0</td><td>0</td><td>NaN</td></tr></table>\""
      ]
     },
     "metadata": {},
     "output_type": "display_data"
    },
    {
     "name": "stdout",
     "output_type": "stream",
     "text": [
      "user_id\n",
      "5139\n",
      "6180\n",
      "6479\n",
      "6770\n",
      "7063\n",
      "7295\n",
      "7303\n",
      "7545\n",
      "7588\n",
      "7822\n",
      "7974\n",
      "8022\n",
      "9250\n",
      "9651\n",
      "11264\n",
      "11522\n"
     ]
    }
   ],
   "source": [
    "#分类 v1,v2,v3 \n",
    "# - 过期 ：延长 + 短信\n",
    "# - 未过期 ：短信\n",
    "\n",
    "# 分类 未定盒 + 非一只马丁靴 \n",
    "\n",
    "\n",
    "# 次数为0\n",
    "table = data.filter do |x|  \n",
    "  if not(x[4]==1) and not((x[4]+x[5]+x[6]+x[7]==0)and(x[9]==\"一只马丁靴\" or x[9]==\"20-03-女神节-未购卡注册用户-申请通过-100\" or x[9]==\"20-03-同程艺龙员工-申请制通过-200\")) and (x[12].nan? ? true : x[12]>=20) then\n",
    "      x[2]==0\n",
    "  else\n",
    "      false\n",
    "  end\n",
    "end.clone \n",
    "puts table.size\n",
    "table.unshift %w[ user_id end qty valid v0 v1 v2 v3 staff source orders last_orders rate  ]\n",
    "puts_table table\n",
    "table.each do |x| puts x[0] end; nil"
   ]
  },
  {
   "cell_type": "code",
   "execution_count": 146,
   "metadata": {},
   "outputs": [
    {
     "name": "stdout",
     "output_type": "stream",
     "text": [
      "41\n"
     ]
    },
    {
     "data": {
      "text/html": [
       "<table><tr><td>user_id</td><td>end</td><td>qty</td><td>valid</td><td>v0</td><td>v1</td><td>v2</td><td>v3</td><td>staff</td><td>source</td><td>orders</td><td>last_orders</td><td>rate</td></tr><tr><td>241</td><td>true</td><td>2</td><td>false</td><td>0</td><td>0</td><td>1</td><td>0</td><td>0</td><td>default_code</td><td>3</td><td>2019-12-02 00:00:00 UTC</td><td>28.0</td></tr><tr><td>264</td><td>true</td><td>3</td><td>false</td><td>0</td><td>0</td><td>0</td><td>0</td><td>0</td><td>default_code</td><td>0</td><td>0</td><td>NaN</td></tr><tr><td>783</td><td>true</td><td>6</td><td>false</td><td>0</td><td>0</td><td>0</td><td>0</td><td>0</td><td>default_code</td><td>0</td><td>0</td><td>NaN</td></tr><tr><td>1103</td><td>true</td><td>2</td><td>false</td><td>0</td><td>0</td><td>0</td><td>1</td><td>0</td><td>default_code</td><td>2</td><td>2019-10-28 00:00:00 UTC</td><td>60.0</td></tr><tr><td>1169</td><td>true</td><td>3</td><td>false</td><td>0</td><td>0</td><td>0</td><td>0</td><td>0</td><td>default_code</td><td>0</td><td>0</td><td>NaN</td></tr><tr><td>1231</td><td>true</td><td>1</td><td>false</td><td>0</td><td>0</td><td>0</td><td>1</td><td>0</td><td>default_code</td><td>3</td><td>2020-01-15 00:00:00 UTC</td><td>35.29</td></tr><tr><td>1347</td><td>true</td><td>3</td><td>false</td><td>0</td><td>0</td><td>0</td><td>0</td><td>0</td><td>default_code</td><td>0</td><td>0</td><td>NaN</td></tr><tr><td>1724</td><td>true</td><td>2</td><td>false</td><td>0</td><td>0</td><td>0</td><td>1</td><td>0</td><td>default_code</td><td>2</td><td>2020-01-08 00:00:00 UTC</td><td>42.86</td></tr><tr><td>2005</td><td>true</td><td>2</td><td>false</td><td>0</td><td>0</td><td>0</td><td>1</td><td>0</td><td>default_code</td><td>2</td><td>2019-12-17 00:00:00 UTC</td><td>33.33</td></tr><tr><td>2097</td><td>true</td><td>3</td><td>false</td><td>0</td><td>0</td><td>0</td><td>0</td><td>0</td><td>ShouQiYueChe</td><td>0</td><td>0</td><td>NaN</td></tr><tr><td>2176</td><td>true</td><td>2</td><td>false</td><td>0</td><td>0</td><td>1</td><td>0</td><td>0</td><td>小咩社群</td><td>3</td><td>2020-02-28 00:00:00 UTC</td><td>25.0</td></tr><tr><td>2194</td><td>true</td><td>3</td><td>false</td><td>0</td><td>0</td><td>0</td><td>0</td><td>0</td><td>小咩社群</td><td>0</td><td>0</td><td>NaN</td></tr><tr><td>2230</td><td>true</td><td>1</td><td>false</td><td>0</td><td>0</td><td>1</td><td>0</td><td>0</td><td>小咩社群</td><td>3</td><td>2020-02-26 00:00:00 UTC</td><td>25.0</td></tr><tr><td>2249</td><td>true</td><td>3</td><td>false</td><td>0</td><td>0</td><td>0</td><td>0</td><td>0</td><td>小咩社群</td><td>0</td><td>0</td><td>NaN</td></tr><tr><td>2250</td><td>true</td><td>3</td><td>false</td><td>0</td><td>0</td><td>0</td><td>0</td><td>0</td><td>小咩社群</td><td>0</td><td>0</td><td>NaN</td></tr><tr><td>2291</td><td>true</td><td>2</td><td>false</td><td>0</td><td>0</td><td>0</td><td>1</td><td>0</td><td>YhouseAPP</td><td>2</td><td>2020-01-15 00:00:00 UTC</td><td>33.33</td></tr><tr><td>2298</td><td>true</td><td>2</td><td>false</td><td>0</td><td>0</td><td>1</td><td>0</td><td>0</td><td>小咩社群</td><td>3</td><td>2020-02-27 00:00:00 UTC</td><td>22.73</td></tr><tr><td>2445</td><td>true</td><td>3</td><td>false</td><td>0</td><td>0</td><td>0</td><td>0</td><td>0</td><td>default_code</td><td>0</td><td>0</td><td>NaN</td></tr><tr><td>2470</td><td>true</td><td>2</td><td>false</td><td>0</td><td>0</td><td>0</td><td>1</td><td>0</td><td>default_code</td><td>1</td><td>2019-12-14 00:00:00 UTC</td><td>50.0</td></tr><tr><td>2615</td><td>true</td><td>3</td><td>false</td><td>0</td><td>0</td><td>0</td><td>0</td><td>0</td><td>tuantuan</td><td>0</td><td>0</td><td>NaN</td></tr><tr><td>4725</td><td>true</td><td>3</td><td>false</td><td>0</td><td>0</td><td>0</td><td>0</td><td>0</td><td>default_code</td><td>1</td><td>2020-02-15 00:00:00 UTC</td><td>NaN</td></tr><tr><td>5264</td><td>true</td><td>3</td><td>false</td><td>0</td><td>0</td><td>0</td><td>0</td><td>0</td><td>default_code</td><td>0</td><td>0</td><td>NaN</td></tr><tr><td>5484</td><td>true</td><td>3</td><td>false</td><td>0</td><td>0</td><td>0</td><td>0</td><td>0</td><td>default_code</td><td>0</td><td>0</td><td>NaN</td></tr><tr><td>6143</td><td>true</td><td>3</td><td>false</td><td>0</td><td>0</td><td>0</td><td>0</td><td>0</td><td>行政联盟送季卡</td><td>0</td><td>0</td><td>NaN</td></tr><tr><td>6164</td><td>true</td><td>3</td><td>false</td><td>0</td><td>0</td><td>0</td><td>0</td><td>0</td><td>default_code</td><td>0</td><td>0</td><td>NaN</td></tr><tr><td>6180</td><td>true</td><td>0</td><td>false</td><td>0</td><td>0</td><td>0</td><td>0</td><td>0</td><td>行政联盟送季卡</td><td>1</td><td>2020-01-14 00:00:00 UTC</td><td>NaN</td></tr><tr><td>6479</td><td>true</td><td>0</td><td>false</td><td>0</td><td>0</td><td>0</td><td>0</td><td>0</td><td>default_code</td><td>1</td><td>2020-01-04 00:00:00 UTC</td><td>NaN</td></tr><tr><td>6723</td><td>true</td><td>3</td><td>false</td><td>0</td><td>0</td><td>0</td><td>0</td><td>0</td><td>员工卡-爱悦集1批 600个</td><td>0</td><td>0</td><td>NaN</td></tr><tr><td>6770</td><td>true</td><td>0</td><td>false</td><td>0</td><td>0</td><td>0</td><td>0</td><td>0</td><td>default_code</td><td>0</td><td>0</td><td>NaN</td></tr><tr><td>7063</td><td>true</td><td>0</td><td>false</td><td>0</td><td>0</td><td>0</td><td>0</td><td>0</td><td>default_code</td><td>1</td><td>2020-01-12 00:00:00 UTC</td><td>NaN</td></tr><tr><td>7295</td><td>true</td><td>0</td><td>false</td><td>0</td><td>0</td><td>0</td><td>0</td><td>0</td><td>default_code</td><td>1</td><td>2020-01-15 00:00:00 UTC</td><td>NaN</td></tr><tr><td>7303</td><td>true</td><td>0</td><td>false</td><td>0</td><td>0</td><td>0</td><td>0</td><td>0</td><td>default_code</td><td>1</td><td>2020-01-15 00:00:00 UTC</td><td>NaN</td></tr><tr><td>7313</td><td>true</td><td>3</td><td>false</td><td>0</td><td>0</td><td>0</td><td>0</td><td>0</td><td>default_code</td><td>1</td><td>2020-02-09 00:00:00 UTC</td><td>NaN</td></tr><tr><td>7545</td><td>true</td><td>0</td><td>false</td><td>0</td><td>0</td><td>0</td><td>0</td><td>0</td><td>default_code</td><td>1</td><td>2020-01-13 00:00:00 UTC</td><td>NaN</td></tr><tr><td>7588</td><td>true</td><td>0</td><td>false</td><td>0</td><td>0</td><td>0</td><td>0</td><td>0</td><td>default_code</td><td>0</td><td>0</td><td>NaN</td></tr><tr><td>7729</td><td>true</td><td>3</td><td>false</td><td>0</td><td>0</td><td>0</td><td>0</td><td>0</td><td>default_code</td><td>0</td><td>0</td><td>NaN</td></tr><tr><td>7753</td><td>true</td><td>3</td><td>false</td><td>0</td><td>0</td><td>0</td><td>0</td><td>0</td><td>default_code</td><td>0</td><td>0</td><td>NaN</td></tr><tr><td>7822</td><td>true</td><td>0</td><td>false</td><td>0</td><td>0</td><td>0</td><td>0</td><td>0</td><td>default_code</td><td>1</td><td>2020-02-15 00:00:00 UTC</td><td>NaN</td></tr><tr><td>7957</td><td>true</td><td>3</td><td>false</td><td>0</td><td>0</td><td>0</td><td>0</td><td>0</td><td>JISHENG_VIP</td><td>0</td><td>0</td><td>NaN</td></tr><tr><td>7974</td><td>true</td><td>0</td><td>false</td><td>0</td><td>0</td><td>0</td><td>0</td><td>0</td><td>default_PC</td><td>0</td><td>0</td><td>NaN</td></tr><tr><td>8017</td><td>true</td><td>3</td><td>false</td><td>0</td><td>0</td><td>0</td><td>0</td><td>0</td><td>default_code</td><td>0</td><td>0</td><td>NaN</td></tr></table>"
      ],
      "text/plain": [
       "\"<table><tr><td>user_id</td><td>end</td><td>qty</td><td>valid</td><td>v0</td><td>v1</td><td>v2</td><td>v3</td><td>staff</td><td>source</td><td>orders</td><td>last_orders</td><td>rate</td></tr><tr><td>241</td><td>true</td><td>2</td><td>false</td><td>0</td><td>0</td><td>1</td><td>0</td><td>0</td><td>default_code</td><td>3</td><td>2019-12-02 00:00:00 UTC</td><td>28.0</td></tr><tr><td>264</td><td>true</td><td>3</td><td>false</td><td>0</td><td>0</td><td>0</td><td>0</td><td>0</td><td>default_code</td><td>0</td><td>0</td><td>NaN</td></tr><tr><td>783</td><td>true</td><td>6</td><td>false</td><td>0</td><td>0</td><td>0</td><td>0</td><td>0</td><td>default_code</td><td>0</td><td>0</td><td>NaN</td></tr><tr><td>1103</td><td>true</td><td>2</td><td>false</td><td>0</td><td>0</td><td>0</td><td>1</td><td>0</td><td>default_code</td><td>2</td><td>2019-10-28 00:00:00 UTC</td><td>60.0</td></tr><tr><td>1169</td><td>true</td><td>3</td><td>false</td><td>0</td><td>0</td><td>0</td><td>0</td><td>0</td><td>default_code</td><td>0</td><td>0</td><td>NaN</td></tr><tr><td>1231</td><td>true</td><td>1</td><td>false</td><td>0</td><td>0</td><td>0</td><td>1</td><td>0</td><td>default_code</td><td>3</td><td>2020-01-15 00:00:00 UTC</td><td>35.29</td></tr><tr><td>1347</td><td>true</td><td>3</td><td>false</td><td>0</td><td>0</td><td>0</td><td>0</td><td>0</td><td>default_code</td><td>0</td><td>0</td><td>NaN</td></tr><tr><td>1724</td><td>true</td><td>2</td><td>false</td><td>0</td><td>0</td><td>0</td><td>1</td><td>0</td><td>default_code</td><td>2</td><td>2020-01-08 00:00:00 UTC</td><td>42.86</td></tr><tr><td>2005</td><td>true</td><td>2</td><td>false</td><td>0</td><td>0</td><td>0</td><td>1</td><td>0</td><td>default_code</td><td>2</td><td>2019-12-17 00:00:00 UTC</td><td>33.33</td></tr><tr><td>2097</td><td>true</td><td>3</td><td>false</td><td>0</td><td>0</td><td>0</td><td>0</td><td>0</td><td>ShouQiYueChe</td><td>0</td><td>0</td><td>NaN</td></tr><tr><td>2176</td><td>true</td><td>2</td><td>false</td><td>0</td><td>0</td><td>1</td><td>0</td><td>0</td><td>小咩社群</td><td>3</td><td>2020-02-28 00:00:00 UTC</td><td>25.0</td></tr><tr><td>2194</td><td>true</td><td>3</td><td>false</td><td>0</td><td>0</td><td>0</td><td>0</td><td>0</td><td>小咩社群</td><td>0</td><td>0</td><td>NaN</td></tr><tr><td>2230</td><td>true</td><td>1</td><td>false</td><td>0</td><td>0</td><td>1</td><td>0</td><td>0</td><td>小咩社群</td><td>3</td><td>2020-02-26 00:00:00 UTC</td><td>25.0</td></tr><tr><td>2249</td><td>true</td><td>3</td><td>false</td><td>0</td><td>0</td><td>0</td><td>0</td><td>0</td><td>小咩社群</td><td>0</td><td>0</td><td>NaN</td></tr><tr><td>2250</td><td>true</td><td>3</td><td>false</td><td>0</td><td>0</td><td>0</td><td>0</td><td>0</td><td>小咩社群</td><td>0</td><td>0</td><td>NaN</td></tr><tr><td>2291</td><td>true</td><td>2</td><td>false</td><td>0</td><td>0</td><td>0</td><td>1</td><td>0</td><td>YhouseAPP</td><td>2</td><td>2020-01-15 00:00:00 UTC</td><td>33.33</td></tr><tr><td>2298</td><td>true</td><td>2</td><td>false</td><td>0</td><td>0</td><td>1</td><td>0</td><td>0</td><td>小咩社群</td><td>3</td><td>2020-02-27 00:00:00 UTC</td><td>22.73</td></tr><tr><td>2445</td><td>true</td><td>3</td><td>false</td><td>0</td><td>0</td><td>0</td><td>0</td><td>0</td><td>default_code</td><td>0</td><td>0</td><td>NaN</td></tr><tr><td>2470</td><td>true</td><td>2</td><td>false</td><td>0</td><td>0</td><td>0</td><td>1</td><td>0</td><td>default_code</td><td>1</td><td>2019-12-14 00:00:00 UTC</td><td>50.0</td></tr><tr><td>2615</td><td>true</td><td>3</td><td>false</td><td>0</td><td>0</td><td>0</td><td>0</td><td>0</td><td>tuantuan</td><td>0</td><td>0</td><td>NaN</td></tr><tr><td>4725</td><td>true</td><td>3</td><td>false</td><td>0</td><td>0</td><td>0</td><td>0</td><td>0</td><td>default_code</td><td>1</td><td>2020-02-15 00:00:00 UTC</td><td>NaN</td></tr><tr><td>5264</td><td>true</td><td>3</td><td>false</td><td>0</td><td>0</td><td>0</td><td>0</td><td>0</td><td>default_code</td><td>0</td><td>0</td><td>NaN</td></tr><tr><td>5484</td><td>true</td><td>3</td><td>false</td><td>0</td><td>0</td><td>0</td><td>0</td><td>0</td><td>default_code</td><td>0</td><td>0</td><td>NaN</td></tr><tr><td>6143</td><td>true</td><td>3</td><td>false</td><td>0</td><td>0</td><td>0</td><td>0</td><td>0</td><td>行政联盟送季卡</td><td>0</td><td>0</td><td>NaN</td></tr><tr><td>6164</td><td>true</td><td>3</td><td>false</td><td>0</td><td>0</td><td>0</td><td>0</td><td>0</td><td>default_code</td><td>0</td><td>0</td><td>NaN</td></tr><tr><td>6180</td><td>true</td><td>0</td><td>false</td><td>0</td><td>0</td><td>0</td><td>0</td><td>0</td><td>行政联盟送季卡</td><td>1</td><td>2020-01-14 00:00:00 UTC</td><td>NaN</td></tr><tr><td>6479</td><td>true</td><td>0</td><td>false</td><td>0</td><td>0</td><td>0</td><td>0</td><td>0</td><td>default_code</td><td>1</td><td>2020-01-04 00:00:00 UTC</td><td>NaN</td></tr><tr><td>6723</td><td>true</td><td>3</td><td>false</td><td>0</td><td>0</td><td>0</td><td>0</td><td>0</td><td>员工卡-爱悦集1批 600个</td><td>0</td><td>0</td><td>NaN</td></tr><tr><td>6770</td><td>true</td><td>0</td><td>false</td><td>0</td><td>0</td><td>0</td><td>0</td><td>0</td><td>default_code</td><td>0</td><td>0</td><td>NaN</td></tr><tr><td>7063</td><td>true</td><td>0</td><td>false</td><td>0</td><td>0</td><td>0</td><td>0</td><td>0</td><td>default_code</td><td>1</td><td>2020-01-12 00:00:00 UTC</td><td>NaN</td></tr><tr><td>7295</td><td>true</td><td>0</td><td>false</td><td>0</td><td>0</td><td>0</td><td>0</td><td>0</td><td>default_code</td><td>1</td><td>2020-01-15 00:00:00 UTC</td><td>NaN</td></tr><tr><td>7303</td><td>true</td><td>0</td><td>false</td><td>0</td><td>0</td><td>0</td><td>0</td><td>0</td><td>default_code</td><td>1</td><td>2020-01-15 00:00:00 UTC</td><td>NaN</td></tr><tr><td>7313</td><td>true</td><td>3</td><td>false</td><td>0</td><td>0</td><td>0</td><td>0</td><td>0</td><td>default_code</td><td>1</td><td>2020-02-09 00:00:00 UTC</td><td>NaN</td></tr><tr><td>7545</td><td>true</td><td>0</td><td>false</td><td>0</td><td>0</td><td>0</td><td>0</td><td>0</td><td>default_code</td><td>1</td><td>2020-01-13 00:00:00 UTC</td><td>NaN</td></tr><tr><td>7588</td><td>true</td><td>0</td><td>false</td><td>0</td><td>0</td><td>0</td><td>0</td><td>0</td><td>default_code</td><td>0</td><td>0</td><td>NaN</td></tr><tr><td>7729</td><td>true</td><td>3</td><td>false</td><td>0</td><td>0</td><td>0</td><td>0</td><td>0</td><td>default_code</td><td>0</td><td>0</td><td>NaN</td></tr><tr><td>7753</td><td>true</td><td>3</td><td>false</td><td>0</td><td>0</td><td>0</td><td>0</td><td>0</td><td>default_code</td><td>0</td><td>0</td><td>NaN</td></tr><tr><td>7822</td><td>true</td><td>0</td><td>false</td><td>0</td><td>0</td><td>0</td><td>0</td><td>0</td><td>default_code</td><td>1</td><td>2020-02-15 00:00:00 UTC</td><td>NaN</td></tr><tr><td>7957</td><td>true</td><td>3</td><td>false</td><td>0</td><td>0</td><td>0</td><td>0</td><td>0</td><td>JISHENG_VIP</td><td>0</td><td>0</td><td>NaN</td></tr><tr><td>7974</td><td>true</td><td>0</td><td>false</td><td>0</td><td>0</td><td>0</td><td>0</td><td>0</td><td>default_PC</td><td>0</td><td>0</td><td>NaN</td></tr><tr><td>8017</td><td>true</td><td>3</td><td>false</td><td>0</td><td>0</td><td>0</td><td>0</td><td>0</td><td>default_code</td><td>0</td><td>0</td><td>NaN</td></tr></table>\""
      ]
     },
     "metadata": {},
     "output_type": "display_data"
    },
    {
     "name": "stdout",
     "output_type": "stream",
     "text": [
      "user_id\n",
      "241\n",
      "264\n",
      "783\n",
      "1103\n",
      "1169\n",
      "1231\n",
      "1347\n",
      "1724\n",
      "2005\n",
      "2097\n",
      "2176\n",
      "2194\n",
      "2230\n",
      "2249\n",
      "2250\n",
      "2291\n",
      "2298\n",
      "2445\n",
      "2470\n",
      "2615\n",
      "4725\n",
      "5264\n",
      "5484\n",
      "6143\n",
      "6164\n",
      "6180\n",
      "6479\n",
      "6723\n",
      "6770\n",
      "7063\n",
      "7295\n",
      "7303\n",
      "7313\n",
      "7545\n",
      "7588\n",
      "7729\n",
      "7753\n",
      "7822\n",
      "7957\n",
      "7974\n",
      "8017\n"
     ]
    }
   ],
   "source": [
    "#分类 v1,v2,v3 \n",
    "# - 过期 ：延长 + 短信\n",
    "# - 未过期 ：短信\n",
    "\n",
    "# 分类 未定盒 + 非一只马丁靴 \n",
    "\n",
    "\n",
    "# 过期\n",
    "table = data.filter do |x|  \n",
    "  if not(x[4]==1) and not((x[4]+x[5]+x[6]+x[7]==0)and(x[9]==\"一只马丁靴\" or x[9]==\"20-03-女神节-未购卡注册用户-申请通过-100\" or x[9]==\"20-03-同程艺龙员工-申请制通过-200\")) and (x[12].nan? ? true : x[12]>=20) then\n",
    "      x[1]\n",
    "  else\n",
    "      false\n",
    "  end\n",
    "end.clone \n",
    "puts table.size\n",
    "table.unshift %w[ user_id end qty valid v0 v1 v2 v3 staff source orders last_orders rate  ]\n",
    "puts_table table\n",
    "table.each do |x| puts x[0] end; nil"
   ]
  },
  {
   "cell_type": "code",
   "execution_count": 147,
   "metadata": {},
   "outputs": [
    {
     "name": "stdout",
     "output_type": "stream",
     "text": [
      "143\n"
     ]
    },
    {
     "data": {
      "text/html": [
       "<table><tr><td>user_id</td><td>end</td><td>qty</td><td>valid</td><td>v0</td><td>v1</td><td>v2</td><td>v3</td><td>staff</td><td>source</td><td>orders</td><td>last_orders</td><td>rate</td></tr><tr><td>145</td><td>false</td><td>19</td><td>true</td><td>0</td><td>0</td><td>1</td><td>0</td><td>0</td><td>default_code</td><td>2</td><td>2020-01-14 00:00:00 UTC</td><td>23.08</td></tr><tr><td>241</td><td>true</td><td>2</td><td>false</td><td>0</td><td>0</td><td>1</td><td>0</td><td>0</td><td>default_code</td><td>3</td><td>2019-12-02 00:00:00 UTC</td><td>28.0</td></tr><tr><td>264</td><td>true</td><td>3</td><td>false</td><td>0</td><td>0</td><td>0</td><td>0</td><td>0</td><td>default_code</td><td>0</td><td>0</td><td>NaN</td></tr><tr><td>278</td><td>false</td><td>10</td><td>true</td><td>0</td><td>0</td><td>1</td><td>0</td><td>0</td><td>default_code</td><td>6</td><td>2020-01-10 00:00:00 UTC</td><td>23.08</td></tr><tr><td>370</td><td>false</td><td>16</td><td>true</td><td>0</td><td>0</td><td>0</td><td>0</td><td>0</td><td>default_code</td><td>0</td><td>0</td><td>NaN</td></tr><tr><td>516</td><td>false</td><td>12</td><td>true</td><td>0</td><td>0</td><td>0</td><td>1</td><td>0</td><td>default_code</td><td>5</td><td>2020-02-28 00:00:00 UTC</td><td>34.29</td></tr><tr><td>783</td><td>true</td><td>6</td><td>false</td><td>0</td><td>0</td><td>0</td><td>0</td><td>0</td><td>default_code</td><td>0</td><td>0</td><td>NaN</td></tr><tr><td>801</td><td>false</td><td>5</td><td>true</td><td>0</td><td>0</td><td>1</td><td>0</td><td>0</td><td>default_code</td><td>2</td><td>2019-10-31 00:00:00 UTC</td><td>25.0</td></tr><tr><td>831</td><td>false</td><td>4</td><td>true</td><td>0</td><td>0</td><td>1</td><td>0</td><td>0</td><td>default_code</td><td>6</td><td>2020-03-22 00:00:00 UTC</td><td>24.39</td></tr><tr><td>877</td><td>false</td><td>11</td><td>true</td><td>0</td><td>0</td><td>1</td><td>0</td><td>0</td><td>default_code</td><td>5</td><td>2020-01-10 00:00:00 UTC</td><td>23.53</td></tr><tr><td>978</td><td>false</td><td>1</td><td>true</td><td>0</td><td>0</td><td>1</td><td>0</td><td>0</td><td>default_code</td><td>2</td><td>2019-11-22 00:00:00 UTC</td><td>23.08</td></tr><tr><td>1080</td><td>false</td><td>1</td><td>true</td><td>0</td><td>0</td><td>1</td><td>0</td><td>0</td><td>default_code</td><td>3</td><td>2019-12-02 00:00:00 UTC</td><td>26.32</td></tr><tr><td>1103</td><td>true</td><td>2</td><td>false</td><td>0</td><td>0</td><td>0</td><td>1</td><td>0</td><td>default_code</td><td>2</td><td>2019-10-28 00:00:00 UTC</td><td>60.0</td></tr><tr><td>1169</td><td>true</td><td>3</td><td>false</td><td>0</td><td>0</td><td>0</td><td>0</td><td>0</td><td>default_code</td><td>0</td><td>0</td><td>NaN</td></tr><tr><td>1171</td><td>false</td><td>2</td><td>true</td><td>0</td><td>0</td><td>1</td><td>0</td><td>0</td><td>default_code</td><td>1</td><td>2019-11-13 00:00:00 UTC</td><td>25.0</td></tr><tr><td>1231</td><td>true</td><td>1</td><td>false</td><td>0</td><td>0</td><td>0</td><td>1</td><td>0</td><td>default_code</td><td>3</td><td>2020-01-15 00:00:00 UTC</td><td>35.29</td></tr><tr><td>1347</td><td>true</td><td>3</td><td>false</td><td>0</td><td>0</td><td>0</td><td>0</td><td>0</td><td>default_code</td><td>0</td><td>0</td><td>NaN</td></tr><tr><td>1437</td><td>false</td><td>16</td><td>true</td><td>0</td><td>0</td><td>0</td><td>0</td><td>0</td><td>default_code</td><td>0</td><td>0</td><td>NaN</td></tr><tr><td>1724</td><td>true</td><td>2</td><td>false</td><td>0</td><td>0</td><td>0</td><td>1</td><td>0</td><td>default_code</td><td>2</td><td>2020-01-08 00:00:00 UTC</td><td>42.86</td></tr><tr><td>1851</td><td>false</td><td>2</td><td>true</td><td>0</td><td>0</td><td>1</td><td>0</td><td>0</td><td>default_code</td><td>1</td><td>2020-01-14 00:00:00 UTC</td><td>28.57</td></tr><tr><td>2005</td><td>true</td><td>2</td><td>false</td><td>0</td><td>0</td><td>0</td><td>1</td><td>0</td><td>default_code</td><td>2</td><td>2019-12-17 00:00:00 UTC</td><td>33.33</td></tr><tr><td>2095</td><td>false</td><td>3</td><td>true</td><td>0</td><td>0</td><td>0</td><td>1</td><td>0</td><td>default_code</td><td>4</td><td>2020-03-14 00:00:00 UTC</td><td>95.45</td></tr><tr><td>2097</td><td>true</td><td>3</td><td>false</td><td>0</td><td>0</td><td>0</td><td>0</td><td>0</td><td>ShouQiYueChe</td><td>0</td><td>0</td><td>NaN</td></tr><tr><td>2125</td><td>false</td><td>4</td><td>true</td><td>0</td><td>0</td><td>0</td><td>1</td><td>0</td><td>default_code</td><td>3</td><td>2020-02-28 00:00:00 UTC</td><td>38.89</td></tr><tr><td>2176</td><td>true</td><td>2</td><td>false</td><td>0</td><td>0</td><td>1</td><td>0</td><td>0</td><td>小咩社群</td><td>3</td><td>2020-02-28 00:00:00 UTC</td><td>25.0</td></tr><tr><td>2194</td><td>true</td><td>3</td><td>false</td><td>0</td><td>0</td><td>0</td><td>0</td><td>0</td><td>小咩社群</td><td>0</td><td>0</td><td>NaN</td></tr><tr><td>2228</td><td>false</td><td>2</td><td>true</td><td>0</td><td>0</td><td>0</td><td>1</td><td>0</td><td>小咩社群</td><td>1</td><td>2019-12-15 00:00:00 UTC</td><td>71.43</td></tr><tr><td>2230</td><td>true</td><td>1</td><td>false</td><td>0</td><td>0</td><td>1</td><td>0</td><td>0</td><td>小咩社群</td><td>3</td><td>2020-02-26 00:00:00 UTC</td><td>25.0</td></tr><tr><td>2249</td><td>true</td><td>3</td><td>false</td><td>0</td><td>0</td><td>0</td><td>0</td><td>0</td><td>小咩社群</td><td>0</td><td>0</td><td>NaN</td></tr><tr><td>2250</td><td>true</td><td>3</td><td>false</td><td>0</td><td>0</td><td>0</td><td>0</td><td>0</td><td>小咩社群</td><td>0</td><td>0</td><td>NaN</td></tr><tr><td>2252</td><td>false</td><td>1</td><td>true</td><td>0</td><td>0</td><td>1</td><td>0</td><td>0</td><td>小咩社群</td><td>2</td><td>2019-12-25 00:00:00 UTC</td><td>20.0</td></tr><tr><td>2291</td><td>true</td><td>2</td><td>false</td><td>0</td><td>0</td><td>0</td><td>1</td><td>0</td><td>YhouseAPP</td><td>2</td><td>2020-01-15 00:00:00 UTC</td><td>33.33</td></tr><tr><td>2298</td><td>true</td><td>2</td><td>false</td><td>0</td><td>0</td><td>1</td><td>0</td><td>0</td><td>小咩社群</td><td>3</td><td>2020-02-27 00:00:00 UTC</td><td>22.73</td></tr><tr><td>2326</td><td>false</td><td>2</td><td>true</td><td>0</td><td>0</td><td>1</td><td>0</td><td>0</td><td>小咩社群</td><td>1</td><td>2019-12-13 00:00:00 UTC</td><td>28.57</td></tr><tr><td>2445</td><td>true</td><td>3</td><td>false</td><td>0</td><td>0</td><td>0</td><td>0</td><td>0</td><td>default_code</td><td>0</td><td>0</td><td>NaN</td></tr><tr><td>2449</td><td>false</td><td>2</td><td>true</td><td>0</td><td>0</td><td>0</td><td>1</td><td>0</td><td>default_code</td><td>1</td><td>2020-03-09 00:00:00 UTC</td><td>50.0</td></tr><tr><td>2461</td><td>false</td><td>3</td><td>true</td><td>0</td><td>0</td><td>0</td><td>0</td><td>0</td><td>default_code</td><td>0</td><td>0</td><td>NaN</td></tr><tr><td>2470</td><td>true</td><td>2</td><td>false</td><td>0</td><td>0</td><td>0</td><td>1</td><td>0</td><td>default_code</td><td>1</td><td>2019-12-14 00:00:00 UTC</td><td>50.0</td></tr><tr><td>2615</td><td>true</td><td>3</td><td>false</td><td>0</td><td>0</td><td>0</td><td>0</td><td>0</td><td>tuantuan</td><td>0</td><td>0</td><td>NaN</td></tr><tr><td>2627</td><td>false</td><td>2</td><td>true</td><td>0</td><td>0</td><td>1</td><td>0</td><td>0</td><td>default_code</td><td>3</td><td>2020-02-29 00:00:00 UTC</td><td>23.81</td></tr><tr><td>2765</td><td>false</td><td>2</td><td>true</td><td>0</td><td>0</td><td>0</td><td>1</td><td>0</td><td>一只马丁靴</td><td>1</td><td>2019-12-28 00:00:00 UTC</td><td>42.86</td></tr><tr><td>2875</td><td>false</td><td>2</td><td>true</td><td>0</td><td>0</td><td>1</td><td>0</td><td>0</td><td>一只马丁靴</td><td>1</td><td>2019-12-30 00:00:00 UTC</td><td>20.0</td></tr><tr><td>3134</td><td>false</td><td>2</td><td>true</td><td>0</td><td>0</td><td>1</td><td>0</td><td>0</td><td>一只马丁靴</td><td>3</td><td>2020-02-27 00:00:00 UTC</td><td>23.81</td></tr><tr><td>3357</td><td>false</td><td>1</td><td>true</td><td>0</td><td>0</td><td>0</td><td>1</td><td>0</td><td>一只马丁靴</td><td>2</td><td>2020-03-18 00:00:00 UTC</td><td>41.67</td></tr><tr><td>3465</td><td>false</td><td>2</td><td>true</td><td>0</td><td>0</td><td>1</td><td>0</td><td>0</td><td>一只马丁靴</td><td>1</td><td>2020-01-02 00:00:00 UTC</td><td>20.0</td></tr><tr><td>3735</td><td>false</td><td>2</td><td>true</td><td>0</td><td>0</td><td>1</td><td>0</td><td>0</td><td>一只马丁靴</td><td>2</td><td>2020-02-28 00:00:00 UTC</td><td>25.0</td></tr><tr><td>3788</td><td>false</td><td>2</td><td>true</td><td>0</td><td>0</td><td>1</td><td>0</td><td>0</td><td>一只马丁靴</td><td>1</td><td>2019-12-22 00:00:00 UTC</td><td>20.0</td></tr><tr><td>3937</td><td>false</td><td>2</td><td>true</td><td>0</td><td>0</td><td>1</td><td>0</td><td>0</td><td>一只马丁靴</td><td>2</td><td>2020-02-22 00:00:00 UTC</td><td>25.0</td></tr><tr><td>4051</td><td>false</td><td>2</td><td>true</td><td>0</td><td>0</td><td>1</td><td>0</td><td>0</td><td>一只马丁靴</td><td>1</td><td>2019-12-30 00:00:00 UTC</td><td>20.0</td></tr><tr><td colspan='13'>&#8942;</td></tr><tr><td>8022</td><td>false</td><td>0</td><td>false</td><td>0</td><td>0</td><td>0</td><td>0</td><td>0</td><td>default_code</td><td>0</td><td>0</td><td>NaN</td></tr><tr><td>8041</td><td>false</td><td>2</td><td>true</td><td>0</td><td>0</td><td>0</td><td>1</td><td>0</td><td>default_code</td><td>1</td><td>2020-02-22 00:00:00 UTC</td><td>66.67</td></tr><tr><td>8229</td><td>false</td><td>2</td><td>true</td><td>0</td><td>0</td><td>0</td><td>1</td><td>0</td><td>default_code</td><td>1</td><td>2020-02-25 00:00:00 UTC</td><td>33.33</td></tr><tr><td>8664</td><td>false</td><td>3</td><td>true</td><td>0</td><td>0</td><td>0</td><td>1</td><td>0</td><td>小双双jodie</td><td>1</td><td>2020-03-20 00:00:00 UTC</td><td>60.0</td></tr><tr><td>8708</td><td>false</td><td>3</td><td>true</td><td>0</td><td>0</td><td>0</td><td>0</td><td>0</td><td>小双双jodie</td><td>0</td><td>0</td><td>NaN</td></tr><tr><td>8724</td><td>false</td><td>2</td><td>true</td><td>0</td><td>0</td><td>0</td><td>1</td><td>0</td><td>小双双jodie</td><td>1</td><td>2020-03-10 00:00:00 UTC</td><td>40.0</td></tr><tr><td>9125</td><td>false</td><td>3</td><td>true</td><td>0</td><td>0</td><td>0</td><td>0</td><td>0</td><td>小双双jodie</td><td>0</td><td>0</td><td>NaN</td></tr><tr><td>9226</td><td>false</td><td>3</td><td>true</td><td>0</td><td>0</td><td>0</td><td>0</td><td>0</td><td>小双双jodie</td><td>0</td><td>0</td><td>NaN</td></tr><tr><td>9229</td><td>false</td><td>3</td><td>true</td><td>0</td><td>0</td><td>0</td><td>0</td><td>0</td><td>小双双jodie</td><td>0</td><td>0</td><td>NaN</td></tr><tr><td>9250</td><td>false</td><td>0</td><td>false</td><td>0</td><td>0</td><td>0</td><td>0</td><td>0</td><td>小双双jodie</td><td>0</td><td>0</td><td>NaN</td></tr><tr><td>9300</td><td>false</td><td>3</td><td>true</td><td>0</td><td>0</td><td>0</td><td>0</td><td>0</td><td>default_code</td><td>0</td><td>0</td><td>NaN</td></tr><tr><td>9515</td><td>false</td><td>3</td><td>true</td><td>0</td><td>0</td><td>0</td><td>0</td><td>0</td><td>little nothing</td><td>0</td><td>0</td><td>NaN</td></tr><tr><td>9651</td><td>false</td><td>0</td><td>false</td><td>0</td><td>0</td><td>0</td><td>0</td><td>0</td><td>little nothing</td><td>0</td><td>0</td><td>NaN</td></tr><tr><td>9810</td><td>false</td><td>3</td><td>true</td><td>0</td><td>0</td><td>0</td><td>0</td><td>0</td><td>little nothing</td><td>0</td><td>0</td><td>NaN</td></tr><tr><td>9990</td><td>false</td><td>3</td><td>true</td><td>0</td><td>0</td><td>0</td><td>0</td><td>0</td><td>little nothing</td><td>0</td><td>0</td><td>NaN</td></tr><tr><td>10015</td><td>false</td><td>3</td><td>true</td><td>0</td><td>0</td><td>0</td><td>0</td><td>0</td><td>little nothing</td><td>0</td><td>0</td><td>NaN</td></tr><tr><td>10046</td><td>false</td><td>3</td><td>true</td><td>0</td><td>0</td><td>0</td><td>0</td><td>0</td><td>little nothing</td><td>0</td><td>0</td><td>NaN</td></tr><tr><td>10052</td><td>false</td><td>3</td><td>true</td><td>0</td><td>0</td><td>0</td><td>0</td><td>0</td><td>little nothing</td><td>0</td><td>0</td><td>NaN</td></tr><tr><td>10069</td><td>false</td><td>3</td><td>true</td><td>0</td><td>0</td><td>0</td><td>0</td><td>0</td><td>little nothing</td><td>0</td><td>0</td><td>NaN</td></tr><tr><td>10102</td><td>false</td><td>3</td><td>true</td><td>0</td><td>0</td><td>0</td><td>0</td><td>0</td><td>little nothing</td><td>0</td><td>0</td><td>NaN</td></tr><tr><td>10109</td><td>false</td><td>3</td><td>true</td><td>0</td><td>0</td><td>0</td><td>0</td><td>0</td><td>little nothing</td><td>0</td><td>0</td><td>NaN</td></tr><tr><td>10130</td><td>false</td><td>2</td><td>true</td><td>0</td><td>0</td><td>0</td><td>1</td><td>0</td><td>20-02-友邦保险-长虹善心3297组-客户75</td><td>1</td><td>2020-03-14 00:00:00 UTC</td><td>33.33</td></tr><tr><td>10286</td><td>false</td><td>3</td><td>true</td><td>0</td><td>0</td><td>0</td><td>0</td><td>0</td><td>default_code</td><td>0</td><td>0</td><td>NaN</td></tr><tr><td>10301</td><td>false</td><td>3</td><td>true</td><td>0</td><td>0</td><td>0</td><td>0</td><td>0</td><td>default_code</td><td>0</td><td>0</td><td>NaN</td></tr><tr><td>10460</td><td>false</td><td>3</td><td>true</td><td>0</td><td>0</td><td>0</td><td>0</td><td>0</td><td>default_code</td><td>0</td><td>0</td><td>NaN</td></tr><tr><td>10505</td><td>false</td><td>3</td><td>true</td><td>0</td><td>0</td><td>0</td><td>0</td><td>0</td><td>default_code</td><td>0</td><td>0</td><td>NaN</td></tr><tr><td>10524</td><td>false</td><td>3</td><td>true</td><td>0</td><td>0</td><td>0</td><td>0</td><td>0</td><td>default_code</td><td>0</td><td>0</td><td>NaN</td></tr><tr><td>10736</td><td>false</td><td>3</td><td>true</td><td>0</td><td>0</td><td>0</td><td>0</td><td>0</td><td>20-15-KOL-韦思嘉</td><td>0</td><td>0</td><td>NaN</td></tr><tr><td>10825</td><td>false</td><td>3</td><td>true</td><td>0</td><td>0</td><td>0</td><td>0</td><td>0</td><td>20-15-KOL-韦思嘉</td><td>0</td><td>0</td><td>NaN</td></tr><tr><td>10955</td><td>false</td><td>3</td><td>true</td><td>0</td><td>0</td><td>0</td><td>0</td><td>0</td><td>20-15-KOL-韦思嘉</td><td>0</td><td>0</td><td>NaN</td></tr><tr><td>10963</td><td>false</td><td>3</td><td>true</td><td>0</td><td>0</td><td>0</td><td>0</td><td>0</td><td>20-15-KOL-韦思嘉</td><td>0</td><td>0</td><td>NaN</td></tr><tr><td>11095</td><td>false</td><td>3</td><td>true</td><td>0</td><td>0</td><td>0</td><td>0</td><td>0</td><td>20-15-KOL-韦思嘉</td><td>0</td><td>0</td><td>NaN</td></tr><tr><td>11125</td><td>false</td><td>2</td><td>true</td><td>0</td><td>0</td><td>0</td><td>1</td><td>0</td><td>20-15-KOL-韦思嘉</td><td>1</td><td>2020-03-21 00:00:00 UTC</td><td>50.0</td></tr><tr><td>11210</td><td>false</td><td>2</td><td>true</td><td>0</td><td>0</td><td>1</td><td>0</td><td>0</td><td>20-15-KOL-韦思嘉</td><td>1</td><td>2020-03-21 00:00:00 UTC</td><td>20.0</td></tr><tr><td>11248</td><td>false</td><td>3</td><td>true</td><td>0</td><td>0</td><td>0</td><td>0</td><td>0</td><td>20-15-KOL-韦思嘉</td><td>0</td><td>0</td><td>NaN</td></tr><tr><td>11252</td><td>false</td><td>3</td><td>true</td><td>0</td><td>0</td><td>0</td><td>0</td><td>0</td><td>20-15-KOL-韦思嘉</td><td>0</td><td>0</td><td>NaN</td></tr><tr><td>11264</td><td>false</td><td>0</td><td>false</td><td>0</td><td>0</td><td>0</td><td>0</td><td>0</td><td>20-15-KOL-韦思嘉</td><td>0</td><td>0</td><td>NaN</td></tr><tr><td>11288</td><td>false</td><td>3</td><td>true</td><td>0</td><td>0</td><td>0</td><td>0</td><td>0</td><td>default_code</td><td>0</td><td>0</td><td>NaN</td></tr><tr><td>11347</td><td>false</td><td>3</td><td>true</td><td>0</td><td>0</td><td>0</td><td>0</td><td>0</td><td>20-15-KOL-韦思嘉</td><td>0</td><td>0</td><td>NaN</td></tr><tr><td>11387</td><td>false</td><td>16</td><td>true</td><td>0</td><td>0</td><td>0</td><td>0</td><td>0</td><td>20-15-KOL-韦思嘉</td><td>0</td><td>0</td><td>NaN</td></tr><tr><td>11389</td><td>false</td><td>3</td><td>true</td><td>0</td><td>0</td><td>0</td><td>0</td><td>0</td><td>20-15-KOL-韦思嘉</td><td>0</td><td>0</td><td>NaN</td></tr><tr><td>11394</td><td>false</td><td>3</td><td>true</td><td>0</td><td>0</td><td>0</td><td>0</td><td>0</td><td>20-15-KOL-韦思嘉</td><td>0</td><td>0</td><td>NaN</td></tr><tr><td>11446</td><td>false</td><td>3</td><td>true</td><td>0</td><td>0</td><td>0</td><td>0</td><td>0</td><td>20-15-KOL-韦思嘉</td><td>0</td><td>0</td><td>NaN</td></tr><tr><td>11522</td><td>false</td><td>0</td><td>false</td><td>0</td><td>0</td><td>0</td><td>0</td><td>0</td><td>default_code</td><td>0</td><td>0</td><td>NaN</td></tr><tr><td>11578</td><td>false</td><td>3</td><td>true</td><td>0</td><td>0</td><td>0</td><td>0</td><td>0</td><td>default_code</td><td>0</td><td>0</td><td>NaN</td></tr><tr><td>11910</td><td>false</td><td>3</td><td>true</td><td>0</td><td>0</td><td>0</td><td>0</td><td>0</td><td>default_code</td><td>0</td><td>0</td><td>NaN</td></tr><tr><td>12078</td><td>false</td><td>3</td><td>true</td><td>0</td><td>0</td><td>0</td><td>0</td><td>0</td><td>default_code</td><td>0</td><td>0</td><td>NaN</td></tr><tr><td>12099</td><td>false</td><td>3</td><td>true</td><td>0</td><td>0</td><td>0</td><td>0</td><td>0</td><td>20-15-KOL-韦思嘉</td><td>0</td><td>0</td><td>NaN</td></tr><tr><td>12611</td><td>false</td><td>3</td><td>true</td><td>0</td><td>0</td><td>0</td><td>0</td><td>0</td><td>20-04-KOL-gu_古妍</td><td>0</td><td>0</td><td>NaN</td></tr></table>"
      ],
      "text/plain": [
       "\"<table><tr><td>user_id</td><td>end</td><td>qty</td><td>valid</td><td>v0</td><td>v1</td><td>v2</td><td>v3</td><td>staff</td><td>source</td><td>orders</td><td>last_orders</td><td>rate</td></tr><tr><td>145</td><td>false</td><td>19</td><td>true</td><td>0</td><td>0</td><td>1</td><td>0</td><td>0</td><td>default_code</td><td>2</td><td>2020-01-14 00:00:00 UTC</td><td>23.08</td></tr><tr><td>241</td><td>true</td><td>2</td><td>false</td><td>0</td><td>0</td><td>1</td><td>0</td><td>0</td><td>default_code</td><td>3</td><td>2019-12-02 00:00:00 UTC</td><td>28.0</td></tr><tr><td>264</td><td>true</td><td>3</td><td>false</td><td>0</td><td>0</td><td>0</td><td>0</td><td>0</td><td>default_code</td><td>0</td><td>0</td><td>NaN</td></tr><tr><td>278</td><td>false</td><td>10</td><td>true</td><td>0</td><td>0</td><td>1</td><td>0</td><td>0</td><td>default_code</td><td>6</td><td>2020-01-10 00:00:00 UTC</td><td>23.08</td></tr><tr><td>370</td><td>false</td><td>16</td><td>true</td><td>0</td><td>0</td><td>0</td><td>0</td><td>0</td><td>default_code</td><td>0</td><td>0</td><td>NaN</td></tr><tr><td>516</td><td>false</td><td>12</td><td>true</td><td>0</td><td>0</td><td>0</td><td>1</td><td>0</td><td>default_code</td><td>5</td><td>2020-02-28 00:00:00 UTC</td><td>34.29</td></tr><tr><td>783</td><td>true</td><td>6</td><td>false</td><td>0</td><td>0</td><td>0</td><td>0</td><td>0</td><td>default_code</td><td>0</td><td>0</td><td>NaN</td></tr><tr><td>801</td><td>false</td><td>5</td><td>true</td><td>0</td><td>0</td><td>1</td><td>0</td><td>0</td><td>default_code</td><td>2</td><td>2019-10-31 00:00:00 UTC</td><td>25.0</td></tr><tr><td>831</td><td>false</td><td>4</td><td>true</td><td>0</td><td>0</td><td>1</td><td>0</td><td>0</td><td>default_code</td><td>6</td><td>2020-03-22 00:00:00 UTC</td><td>24.39</td></tr><tr><td>877</td><td>false</td><td>11</td><td>true</td><td>0</td><td>0</td><td>1</td><td>0</td><td>0</td><td>default_code</td><td>5</td><td>2020-01-10 00:00:00 UTC</td><td>23.53</td></tr><tr><td>978</td><td>false</td><td>1</td><td>true</td><td>0</td><td>0</td><td>1</td><td>0</td><td>0</td><td>default_code</td><td>2</td><td>2019-11-22 00:00:00 UTC</td><td>23.08</td></tr><tr><td>1080</td><td>false</td><td>1</td><td>true</td><td>0</td><td>0</td><td>1</td><td>0</td><td>0</td><td>default_code</td><td>3</td><td>2019-12-02 00:00:00 UTC</td><td>26.32</td></tr><tr><td>1103</td><td>true</td><td>2</td><td>false</td><td>0</td><td>0</td><td>0</td><td>1</td><td>0</td><td>default_code</td><td>2</td><td>2019-10-28 00:00:00 UTC</td><td>60.0</td></tr><tr><td>1169</td><td>true</td><td>3</td><td>false</td><td>0</td><td>0</td><td>0</td><td>0</td><td>0</td><td>default_code</td><td>0</td><td>0</td><td>NaN</td></tr><tr><td>1171</td><td>false</td><td>2</td><td>true</td><td>0</td><td>0</td><td>1</td><td>0</td><td>0</td><td>default_code</td><td>1</td><td>2019-11-13 00:00:00 UTC</td><td>25.0</td></tr><tr><td>1231</td><td>true</td><td>1</td><td>false</td><td>0</td><td>0</td><td>0</td><td>1</td><td>0</td><td>default_code</td><td>3</td><td>2020-01-15 00:00:00 UTC</td><td>35.29</td></tr><tr><td>1347</td><td>true</td><td>3</td><td>false</td><td>0</td><td>0</td><td>0</td><td>0</td><td>0</td><td>default_code</td><td>0</td><td>0</td><td>NaN</td></tr><tr><td>1437</td><td>false</td><td>16</td><td>true</td><td>0</td><td>0</td><td>0</td><td>0</td><td>0</td><td>default_code</td><td>0</td><td>0</td><td>NaN</td></tr><tr><td>1724</td><td>true</td><td>2</td><td>false</td><td>0</td><td>0</td><td>0</td><td>1</td><td>0</td><td>default_code</td><td>2</td><td>2020-01-08 00:00:00 UTC</td><td>42.86</td></tr><tr><td>1851</td><td>false</td><td>2</td><td>true</td><td>0</td><td>0</td><td>1</td><td>0</td><td>0</td><td>default_code</td><td>1</td><td>2020-01-14 00:00:00 UTC</td><td>28.57</td></tr><tr><td>2005</td><td>true</td><td>2</td><td>false</td><td>0</td><td>0</td><td>0</td><td>1</td><td>0</td><td>default_code</td><td>2</td><td>2019-12-17 00:00:00 UTC</td><td>33.33</td></tr><tr><td>2095</td><td>false</td><td>3</td><td>true</td><td>0</td><td>0</td><td>0</td><td>1</td><td>0</td><td>default_code</td><td>4</td><td>2020-03-14 00:00:00 UTC</td><td>95.45</td></tr><tr><td>2097</td><td>true</td><td>3</td><td>false</td><td>0</td><td>0</td><td>0</td><td>0</td><td>0</td><td>ShouQiYueChe</td><td>0</td><td>0</td><td>NaN</td></tr><tr><td>2125</td><td>false</td><td>4</td><td>true</td><td>0</td><td>0</td><td>0</td><td>1</td><td>0</td><td>default_code</td><td>3</td><td>2020-02-28 00:00:00 UTC</td><td>38.89</td></tr><tr><td>2176</td><td>true</td><td>2</td><td>false</td><td>0</td><td>0</td><td>1</td><td>0</td><td>0</td><td>小咩社群</td><td>3</td><td>2020-02-28 00:00:00 UTC</td><td>25.0</td></tr><tr><td>2194</td><td>true</td><td>3</td><td>false</td><td>0</td><td>0</td><td>0</td><td>0</td><td>0</td><td>小咩社群</td><td>0</td><td>0</td><td>NaN</td></tr><tr><td>2228</td><td>false</td><td>2</td><td>true</td><td>0</td><td>0</td><td>0</td><td>1</td><td>0</td><td>小咩社群</td><td>1</td><td>2019-12-15 00:00:00 UTC</td><td>71.43</td></tr><tr><td>2230</td><td>true</td><td>1</td><td>false</td><td>0</td><td>0</td><td>1</td><td>0</td><td>0</td><td>小咩社群</td><td>3</td><td>2020-02-26 00:00:00 UTC</td><td>25.0</td></tr><tr><td>2249</td><td>true</td><td>3</td><td>false</td><td>0</td><td>0</td><td>0</td><td>0</td><td>0</td><td>小咩社群</td><td>0</td><td>0</td><td>NaN</td></tr><tr><td>2250</td><td>true</td><td>3</td><td>false</td><td>0</td><td>0</td><td>0</td><td>0</td><td>0</td><td>小咩社群</td><td>0</td><td>0</td><td>NaN</td></tr><tr><td>2252</td><td>false</td><td>1</td><td>true</td><td>0</td><td>0</td><td>1</td><td>0</td><td>0</td><td>小咩社群</td><td>2</td><td>2019-12-25 00:00:00 UTC</td><td>20.0</td></tr><tr><td>2291</td><td>true</td><td>2</td><td>false</td><td>0</td><td>0</td><td>0</td><td>1</td><td>0</td><td>YhouseAPP</td><td>2</td><td>2020-01-15 00:00:00 UTC</td><td>33.33</td></tr><tr><td>2298</td><td>true</td><td>2</td><td>false</td><td>0</td><td>0</td><td>1</td><td>0</td><td>0</td><td>小咩社群</td><td>3</td><td>2020-02-27 00:00:00 UTC</td><td>22.73</td></tr><tr><td>2326</td><td>false</td><td>2</td><td>true</td><td>0</td><td>0</td><td>1</td><td>0</td><td>0</td><td>小咩社群</td><td>1</td><td>2019-12-13 00:00:00 UTC</td><td>28.57</td></tr><tr><td>2445</td><td>true</td><td>3</td><td>false</td><td>0</td><td>0</td><td>0</td><td>0</td><td>0</td><td>default_code</td><td>0</td><td>0</td><td>NaN</td></tr><tr><td>2449</td><td>false</td><td>2</td><td>true</td><td>0</td><td>0</td><td>0</td><td>1</td><td>0</td><td>default_code</td><td>1</td><td>2020-03-09 00:00:00 UTC</td><td>50.0</td></tr><tr><td>2461</td><td>false</td><td>3</td><td>true</td><td>0</td><td>0</td><td>0</td><td>0</td><td>0</td><td>default_code</td><td>0</td><td>0</td><td>NaN</td></tr><tr><td>2470</td><td>true</td><td>2</td><td>false</td><td>0</td><td>0</td><td>0</td><td>1</td><td>0</td><td>default_code</td><td>1</td><td>2019-12-14 00:00:00 UTC</td><td>50.0</td></tr><tr><td>2615</td><td>true</td><td>3</td><td>false</td><td>0</td><td>0</td><td>0</td><td>0</td><td>0</td><td>tuantuan</td><td>0</td><td>0</td><td>NaN</td></tr><tr><td>2627</td><td>false</td><td>2</td><td>true</td><td>0</td><td>0</td><td>1</td><td>0</td><td>0</td><td>default_code</td><td>3</td><td>2020-02-29 00:00:00 UTC</td><td>23.81</td></tr><tr><td>2765</td><td>false</td><td>2</td><td>true</td><td>0</td><td>0</td><td>0</td><td>1</td><td>0</td><td>一只马丁靴</td><td>1</td><td>2019-12-28 00:00:00 UTC</td><td>42.86</td></tr><tr><td>2875</td><td>false</td><td>2</td><td>true</td><td>0</td><td>0</td><td>1</td><td>0</td><td>0</td><td>一只马丁靴</td><td>1</td><td>2019-12-30 00:00:00 UTC</td><td>20.0</td></tr><tr><td>3134</td><td>false</td><td>2</td><td>true</td><td>0</td><td>0</td><td>1</td><td>0</td><td>0</td><td>一只马丁靴</td><td>3</td><td>2020-02-27 00:00:00 UTC</td><td>23.81</td></tr><tr><td>3357</td><td>false</td><td>1</td><td>true</td><td>0</td><td>0</td><td>0</td><td>1</td><td>0</td><td>一只马丁靴</td><td>2</td><td>2020-03-18 00:00:00 UTC</td><td>41.67</td></tr><tr><td>3465</td><td>false</td><td>2</td><td>true</td><td>0</td><td>0</td><td>1</td><td>0</td><td>0</td><td>一只马丁靴</td><td>1</td><td>2020-01-02 00:00:00 UTC</td><td>20.0</td></tr><tr><td>3735</td><td>false</td><td>2</td><td>true</td><td>0</td><td>0</td><td>1</td><td>0</td><td>0</td><td>一只马丁靴</td><td>2</td><td>2020-02-28 00:00:00 UTC</td><td>25.0</td></tr><tr><td>3788</td><td>false</td><td>2</td><td>true</td><td>0</td><td>0</td><td>1</td><td>0</td><td>0</td><td>一只马丁靴</td><td>1</td><td>2019-12-22 00:00:00 UTC</td><td>20.0</td></tr><tr><td>3937</td><td>false</td><td>2</td><td>true</td><td>0</td><td>0</td><td>1</td><td>0</td><td>0</td><td>一只马丁靴</td><td>2</td><td>2020-02-22 00:00:00 UTC</td><td>25.0</td></tr><tr><td>4051</td><td>false</td><td>2</td><td>true</td><td>0</td><td>0</td><td>1</td><td>0</td><td>0</td><td>一只马丁靴</td><td>1</td><td>2019-12-30 00:00:00 UTC</td><td>20.0</td></tr><tr><td colspan='13'>&#8942;</td></tr><tr><td>8022</td><td>false</td><td>0</td><td>false</td><td>0</td><td>0</td><td>0</td><td>0</td><td>0</td><td>default_code</td><td>0</td><td>0</td><td>NaN</td></tr><tr><td>8041</td><td>false</td><td>2</td><td>true</td><td>0</td><td>0</td><td>0</td><td>1</td><td>0</td><td>default_code</td><td>1</td><td>2020-02-22 00:00:00 UTC</td><td>66.67</td></tr><tr><td>8229</td><td>false</td><td>2</td><td>true</td><td>0</td><td>0</td><td>0</td><td>1</td><td>0</td><td>default_code</td><td>1</td><td>2020-02-25 00:00:00 UTC</td><td>33.33</td></tr><tr><td>8664</td><td>false</td><td>3</td><td>true</td><td>0</td><td>0</td><td>0</td><td>1</td><td>0</td><td>小双双jodie</td><td>1</td><td>2020-03-20 00:00:00 UTC</td><td>60.0</td></tr><tr><td>8708</td><td>false</td><td>3</td><td>true</td><td>0</td><td>0</td><td>0</td><td>0</td><td>0</td><td>小双双jodie</td><td>0</td><td>0</td><td>NaN</td></tr><tr><td>8724</td><td>false</td><td>2</td><td>true</td><td>0</td><td>0</td><td>0</td><td>1</td><td>0</td><td>小双双jodie</td><td>1</td><td>2020-03-10 00:00:00 UTC</td><td>40.0</td></tr><tr><td>9125</td><td>false</td><td>3</td><td>true</td><td>0</td><td>0</td><td>0</td><td>0</td><td>0</td><td>小双双jodie</td><td>0</td><td>0</td><td>NaN</td></tr><tr><td>9226</td><td>false</td><td>3</td><td>true</td><td>0</td><td>0</td><td>0</td><td>0</td><td>0</td><td>小双双jodie</td><td>0</td><td>0</td><td>NaN</td></tr><tr><td>9229</td><td>false</td><td>3</td><td>true</td><td>0</td><td>0</td><td>0</td><td>0</td><td>0</td><td>小双双jodie</td><td>0</td><td>0</td><td>NaN</td></tr><tr><td>9250</td><td>false</td><td>0</td><td>false</td><td>0</td><td>0</td><td>0</td><td>0</td><td>0</td><td>小双双jodie</td><td>0</td><td>0</td><td>NaN</td></tr><tr><td>9300</td><td>false</td><td>3</td><td>true</td><td>0</td><td>0</td><td>0</td><td>0</td><td>0</td><td>default_code</td><td>0</td><td>0</td><td>NaN</td></tr><tr><td>9515</td><td>false</td><td>3</td><td>true</td><td>0</td><td>0</td><td>0</td><td>0</td><td>0</td><td>little nothing</td><td>0</td><td>0</td><td>NaN</td></tr><tr><td>9651</td><td>false</td><td>0</td><td>false</td><td>0</td><td>0</td><td>0</td><td>0</td><td>0</td><td>little nothing</td><td>0</td><td>0</td><td>NaN</td></tr><tr><td>9810</td><td>false</td><td>3</td><td>true</td><td>0</td><td>0</td><td>0</td><td>0</td><td>0</td><td>little nothing</td><td>0</td><td>0</td><td>NaN</td></tr><tr><td>9990</td><td>false</td><td>3</td><td>true</td><td>0</td><td>0</td><td>0</td><td>0</td><td>0</td><td>little nothing</td><td>0</td><td>0</td><td>NaN</td></tr><tr><td>10015</td><td>false</td><td>3</td><td>true</td><td>0</td><td>0</td><td>0</td><td>0</td><td>0</td><td>little nothing</td><td>0</td><td>0</td><td>NaN</td></tr><tr><td>10046</td><td>false</td><td>3</td><td>true</td><td>0</td><td>0</td><td>0</td><td>0</td><td>0</td><td>little nothing</td><td>0</td><td>0</td><td>NaN</td></tr><tr><td>10052</td><td>false</td><td>3</td><td>true</td><td>0</td><td>0</td><td>0</td><td>0</td><td>0</td><td>little nothing</td><td>0</td><td>0</td><td>NaN</td></tr><tr><td>10069</td><td>false</td><td>3</td><td>true</td><td>0</td><td>0</td><td>0</td><td>0</td><td>0</td><td>little nothing</td><td>0</td><td>0</td><td>NaN</td></tr><tr><td>10102</td><td>false</td><td>3</td><td>true</td><td>0</td><td>0</td><td>0</td><td>0</td><td>0</td><td>little nothing</td><td>0</td><td>0</td><td>NaN</td></tr><tr><td>10109</td><td>false</td><td>3</td><td>true</td><td>0</td><td>0</td><td>0</td><td>0</td><td>0</td><td>little nothing</td><td>0</td><td>0</td><td>NaN</td></tr><tr><td>10130</td><td>false</td><td>2</td><td>true</td><td>0</td><td>0</td><td>0</td><td>1</td><td>0</td><td>20-02-友邦保险-长虹善心3297组-客户75</td><td>1</td><td>2020-03-14 00:00:00 UTC</td><td>33.33</td></tr><tr><td>10286</td><td>false</td><td>3</td><td>true</td><td>0</td><td>0</td><td>0</td><td>0</td><td>0</td><td>default_code</td><td>0</td><td>0</td><td>NaN</td></tr><tr><td>10301</td><td>false</td><td>3</td><td>true</td><td>0</td><td>0</td><td>0</td><td>0</td><td>0</td><td>default_code</td><td>0</td><td>0</td><td>NaN</td></tr><tr><td>10460</td><td>false</td><td>3</td><td>true</td><td>0</td><td>0</td><td>0</td><td>0</td><td>0</td><td>default_code</td><td>0</td><td>0</td><td>NaN</td></tr><tr><td>10505</td><td>false</td><td>3</td><td>true</td><td>0</td><td>0</td><td>0</td><td>0</td><td>0</td><td>default_code</td><td>0</td><td>0</td><td>NaN</td></tr><tr><td>10524</td><td>false</td><td>3</td><td>true</td><td>0</td><td>0</td><td>0</td><td>0</td><td>0</td><td>default_code</td><td>0</td><td>0</td><td>NaN</td></tr><tr><td>10736</td><td>false</td><td>3</td><td>true</td><td>0</td><td>0</td><td>0</td><td>0</td><td>0</td><td>20-15-KOL-韦思嘉</td><td>0</td><td>0</td><td>NaN</td></tr><tr><td>10825</td><td>false</td><td>3</td><td>true</td><td>0</td><td>0</td><td>0</td><td>0</td><td>0</td><td>20-15-KOL-韦思嘉</td><td>0</td><td>0</td><td>NaN</td></tr><tr><td>10955</td><td>false</td><td>3</td><td>true</td><td>0</td><td>0</td><td>0</td><td>0</td><td>0</td><td>20-15-KOL-韦思嘉</td><td>0</td><td>0</td><td>NaN</td></tr><tr><td>10963</td><td>false</td><td>3</td><td>true</td><td>0</td><td>0</td><td>0</td><td>0</td><td>0</td><td>20-15-KOL-韦思嘉</td><td>0</td><td>0</td><td>NaN</td></tr><tr><td>11095</td><td>false</td><td>3</td><td>true</td><td>0</td><td>0</td><td>0</td><td>0</td><td>0</td><td>20-15-KOL-韦思嘉</td><td>0</td><td>0</td><td>NaN</td></tr><tr><td>11125</td><td>false</td><td>2</td><td>true</td><td>0</td><td>0</td><td>0</td><td>1</td><td>0</td><td>20-15-KOL-韦思嘉</td><td>1</td><td>2020-03-21 00:00:00 UTC</td><td>50.0</td></tr><tr><td>11210</td><td>false</td><td>2</td><td>true</td><td>0</td><td>0</td><td>1</td><td>0</td><td>0</td><td>20-15-KOL-韦思嘉</td><td>1</td><td>2020-03-21 00:00:00 UTC</td><td>20.0</td></tr><tr><td>11248</td><td>false</td><td>3</td><td>true</td><td>0</td><td>0</td><td>0</td><td>0</td><td>0</td><td>20-15-KOL-韦思嘉</td><td>0</td><td>0</td><td>NaN</td></tr><tr><td>11252</td><td>false</td><td>3</td><td>true</td><td>0</td><td>0</td><td>0</td><td>0</td><td>0</td><td>20-15-KOL-韦思嘉</td><td>0</td><td>0</td><td>NaN</td></tr><tr><td>11264</td><td>false</td><td>0</td><td>false</td><td>0</td><td>0</td><td>0</td><td>0</td><td>0</td><td>20-15-KOL-韦思嘉</td><td>0</td><td>0</td><td>NaN</td></tr><tr><td>11288</td><td>false</td><td>3</td><td>true</td><td>0</td><td>0</td><td>0</td><td>0</td><td>0</td><td>default_code</td><td>0</td><td>0</td><td>NaN</td></tr><tr><td>11347</td><td>false</td><td>3</td><td>true</td><td>0</td><td>0</td><td>0</td><td>0</td><td>0</td><td>20-15-KOL-韦思嘉</td><td>0</td><td>0</td><td>NaN</td></tr><tr><td>11387</td><td>false</td><td>16</td><td>true</td><td>0</td><td>0</td><td>0</td><td>0</td><td>0</td><td>20-15-KOL-韦思嘉</td><td>0</td><td>0</td><td>NaN</td></tr><tr><td>11389</td><td>false</td><td>3</td><td>true</td><td>0</td><td>0</td><td>0</td><td>0</td><td>0</td><td>20-15-KOL-韦思嘉</td><td>0</td><td>0</td><td>NaN</td></tr><tr><td>11394</td><td>false</td><td>3</td><td>true</td><td>0</td><td>0</td><td>0</td><td>0</td><td>0</td><td>20-15-KOL-韦思嘉</td><td>0</td><td>0</td><td>NaN</td></tr><tr><td>11446</td><td>false</td><td>3</td><td>true</td><td>0</td><td>0</td><td>0</td><td>0</td><td>0</td><td>20-15-KOL-韦思嘉</td><td>0</td><td>0</td><td>NaN</td></tr><tr><td>11522</td><td>false</td><td>0</td><td>false</td><td>0</td><td>0</td><td>0</td><td>0</td><td>0</td><td>default_code</td><td>0</td><td>0</td><td>NaN</td></tr><tr><td>11578</td><td>false</td><td>3</td><td>true</td><td>0</td><td>0</td><td>0</td><td>0</td><td>0</td><td>default_code</td><td>0</td><td>0</td><td>NaN</td></tr><tr><td>11910</td><td>false</td><td>3</td><td>true</td><td>0</td><td>0</td><td>0</td><td>0</td><td>0</td><td>default_code</td><td>0</td><td>0</td><td>NaN</td></tr><tr><td>12078</td><td>false</td><td>3</td><td>true</td><td>0</td><td>0</td><td>0</td><td>0</td><td>0</td><td>default_code</td><td>0</td><td>0</td><td>NaN</td></tr><tr><td>12099</td><td>false</td><td>3</td><td>true</td><td>0</td><td>0</td><td>0</td><td>0</td><td>0</td><td>20-15-KOL-韦思嘉</td><td>0</td><td>0</td><td>NaN</td></tr><tr><td>12611</td><td>false</td><td>3</td><td>true</td><td>0</td><td>0</td><td>0</td><td>0</td><td>0</td><td>20-04-KOL-gu_古妍</td><td>0</td><td>0</td><td>NaN</td></tr></table>\""
      ]
     },
     "metadata": {},
     "output_type": "display_data"
    },
    {
     "name": "stdout",
     "output_type": "stream",
     "text": [
      "user_id\n",
      "145\n",
      "241\n",
      "264\n",
      "278\n",
      "370\n",
      "516\n",
      "783\n",
      "801\n",
      "831\n",
      "877\n",
      "978\n",
      "1080\n",
      "1103\n",
      "1169\n",
      "1171\n",
      "1231\n",
      "1347\n",
      "1437\n",
      "1724\n",
      "1851\n",
      "2005\n",
      "2095\n",
      "2097\n",
      "2125\n",
      "2176\n",
      "2194\n",
      "2228\n",
      "2230\n",
      "2249\n",
      "2250\n",
      "2252\n",
      "2291\n",
      "2298\n",
      "2326\n",
      "2445\n",
      "2449\n",
      "2461\n",
      "2470\n",
      "2615\n",
      "2627\n",
      "2765\n",
      "2875\n",
      "3134\n",
      "3357\n",
      "3465\n",
      "3735\n",
      "3788\n",
      "3937\n",
      "4051\n",
      "4081\n",
      "4131\n",
      "4176\n",
      "4629\n",
      "4725\n",
      "4797\n",
      "4949\n",
      "5057\n",
      "5089\n",
      "5139\n",
      "5154\n",
      "5230\n",
      "5264\n",
      "5347\n",
      "5484\n",
      "5584\n",
      "5812\n",
      "5922\n",
      "5983\n",
      "6012\n",
      "6143\n",
      "6164\n",
      "6180\n",
      "6346\n",
      "6401\n",
      "6412\n",
      "6479\n",
      "6687\n",
      "6723\n",
      "6770\n",
      "6920\n",
      "7063\n",
      "7295\n",
      "7303\n",
      "7313\n",
      "7545\n",
      "7588\n",
      "7729\n",
      "7753\n",
      "7778\n",
      "7822\n",
      "7957\n",
      "7974\n",
      "8017\n",
      "8022\n",
      "8041\n",
      "8229\n",
      "8664\n",
      "8708\n",
      "8724\n",
      "9125\n",
      "9226\n",
      "9229\n",
      "9250\n",
      "9300\n",
      "9515\n",
      "9651\n",
      "9810\n",
      "9990\n",
      "10015\n",
      "10046\n",
      "10052\n",
      "10069\n",
      "10102\n",
      "10109\n",
      "10130\n",
      "10286\n",
      "10301\n",
      "10460\n",
      "10505\n",
      "10524\n",
      "10736\n",
      "10825\n",
      "10955\n",
      "10963\n",
      "11095\n",
      "11125\n",
      "11210\n",
      "11248\n",
      "11252\n",
      "11264\n",
      "11288\n",
      "11347\n",
      "11387\n",
      "11389\n",
      "11394\n",
      "11446\n",
      "11522\n",
      "11578\n",
      "11910\n",
      "12078\n",
      "12099\n",
      "12611\n",
      "12872\n"
     ]
    }
   ],
   "source": [
    "#分类 v1,v2,v3 \n",
    "# - 过期 ：延长 + 短信\n",
    "# - 未过期 ：短信\n",
    "\n",
    "# 分类 未定盒 + 非一只马丁靴 \n",
    "\n",
    "\n",
    "# 过期\n",
    "table = data.filter do |x|  \n",
    "  if not(x[4]==1) and not((x[4]+x[5]+x[6]+x[7]==0)and(x[9]==\"一只马丁靴\" or x[9]==\"20-03-女神节-未购卡注册用户-申请通过-100\" or x[9]==\"20-03-同程艺龙员工-申请制通过-200\")) and (x[12].nan? ? true : x[12]>=20) then\n",
    "      true\n",
    "  else\n",
    "      false\n",
    "  end\n",
    "end.clone \n",
    "puts table.size\n",
    "table.unshift %w[ user_id end qty valid v0 v1 v2 v3 staff source orders last_orders rate  ]\n",
    "puts_table table\n",
    "table.each do |x| puts x[0] end; nil"
   ]
  },
  {
   "cell_type": "code",
   "execution_count": null,
   "metadata": {},
   "outputs": [],
   "source": []
  }
 ],
 "metadata": {
  "kernelspec": {
   "display_name": "Ruby 2.7.0",
   "language": "ruby",
   "name": "ruby"
  },
  "language_info": {
   "file_extension": ".rb",
   "mimetype": "application/x-ruby",
   "name": "ruby",
   "version": "2.7.0"
  }
 },
 "nbformat": 4,
 "nbformat_minor": 4
}
