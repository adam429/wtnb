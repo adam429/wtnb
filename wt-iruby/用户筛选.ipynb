{
 "cells": [
  {
   "cell_type": "code",
   "execution_count": 2,
   "metadata": {},
   "outputs": [
    {
     "data": {
      "text/html": [
       "<script src='https://unpkg.com/vue/dist/vue.js'></script>\n",
       "<script src='https://unpkg.com/chart.js@2.9.3/dist/Chart.bundle.js'></script>\n",
       "<script src='https://unpkg.com/vue-chartkick@0.5.1/dist/vue-chartkick.js'></script>\n",
       "<script src='https://unpkg.com/element-ui/lib/index.js'></script>\n"
      ],
      "text/plain": [
       "\"<script src='https://unpkg.com/vue/dist/vue.js'></script>\\n<script src='https://unpkg.com/chart.js@2.9.3/dist/Chart.bundle.js'></script>\\n<script src='https://unpkg.com/vue-chartkick@0.5.1/dist/vue-chartkick.js'></script>\\n<script src='https://unpkg.com/element-ui/lib/index.js'></script>\\n\""
      ]
     },
     "metadata": {},
     "output_type": "display_data"
    },
    {
     "data": {
      "text/html": [
       "<link rel='stylesheet' href='https://unpkg.com/element-ui/lib/theme-chalk/index.css'>\n"
      ],
      "text/plain": [
       "\"<link rel='stylesheet' href='https://unpkg.com/element-ui/lib/theme-chalk/index.css'>\\n\""
      ]
     },
     "metadata": {},
     "output_type": "display_data"
    }
   ],
   "source": [
    "## 设置数据库 & 定义数据模型\n",
    "    \n",
    "load './wtnb/wtnb.rb'\n",
    "load './wtnb/wtmodel.rb'\n",
    "\n",
    "IRuby.display IRuby.html(include_js)\n",
    "IRuby.display IRuby.html(include_css)\n",
    "nil"
   ]
  },
  {
   "cell_type": "code",
   "execution_count": 3,
   "metadata": {},
   "outputs": [],
   "source": [
    "group = Store[\"group_marriage\"]\n",
    "nil"
   ]
  },
  {
   "cell_type": "code",
   "execution_count": 4,
   "metadata": {},
   "outputs": [
    {
     "data": {
      "text/html": [
       "<h1>人群预定情况</h1>"
      ],
      "text/plain": [
       "\"<h1>人群预定情况</h1>\""
      ]
     },
     "metadata": {},
     "output_type": "display_data"
    },
    {
     "data": {
      "text/html": [
       "\n",
       "<div id=\"app_SWWnGxVxtT\">\n",
       "<el-container>\n",
       "  <el-container>\n",
       "    <el-header>\n",
       "      <el-row :gutter=\"24\">\n",
       "        <el-col :span=\"4\">\n",
       "          <el-button icon=\"el-icon-caret-left\" circle v-on:click=\"left\"></el-button>\n",
       "          <el-button icon=\"el-icon-caret-right\" circle v-on:click=\"right\"></el-button>\n",
       "        </el-col>\n",
       "\n",
       "        <el-col :span=\"20\">\n",
       "          <h1>[{{cur_url}}] {{ url[cur_url] }}</h1>\n",
       "        </el-col>\n",
       "      </el-row>\n",
       "    </el-header>\n",
       "    <el-main>\n",
       "      <el-divider></el-divider>\n",
       "      <iframe v-bind:src=\"url[cur_url]\" width=\"1400\" height=\"800\"></iframe>\n",
       "    </el-main>\n",
       "\n",
       "  </el-container>\n",
       "</el-container>\n",
       "</div>\n",
       "\n",
       "\n",
       "\n",
       "<script>\n",
       "  Vue.use(VueChartkick.use(Chart))\n",
       "\n",
       "  app = new Vue({\n",
       "    el: '#app_SWWnGxVxtT',\n",
       "    data: {\n",
       "      url: [\"http://localhost:3000/user/633\",\"http://localhost:3000/user/843\",\"http://localhost:3000/user/2622\",\"http://localhost:3000/user/2982\",\"http://localhost:3000/user/3152\",\"http://localhost:3000/user/3391\",\"http://localhost:3000/user/3456\",\"http://localhost:3000/user/3624\",\"http://localhost:3000/user/4130\",\"http://localhost:3000/user/4369\",\"http://localhost:3000/user/4500\",\"http://localhost:3000/user/4927\",\"http://localhost:3000/user/5122\",\"http://localhost:3000/user/5864\",\"http://localhost:3000/user/5899\",\"http://localhost:3000/user/5971\",\"http://localhost:3000/user/6833\",\"http://localhost:3000/user/7060\",\"http://localhost:3000/user/7168\",\"http://localhost:3000/user/7288\",\"http://localhost:3000/user/7321\",\"http://localhost:3000/user/7642\",\"http://localhost:3000/user/8006\",\"http://localhost:3000/user/10231\",\"http://localhost:3000/user/11182\",\"http://localhost:3000/user/12221\",\"http://localhost:3000/user/12303\",\"http://localhost:3000/user/12395\"],\n",
       "      cur_url: 0\n",
       "    },\n",
       "    methods: {\n",
       "      left: function() {\n",
       "        this.cur_url -= 1\n",
       "        if (this.cur_url<0) this.cur_url = this.url.length-1\n",
       "      },\n",
       "      right: function() {\n",
       "        this.cur_url += 1\n",
       "        if (this.cur_url>=this.url.length) this.cur_url = 0\n",
       "      },\n",
       "      keyhandler: function() {\n",
       "        console.log(event.keyCode)\n",
       "        if (event.keyCode == 37) {\n",
       "        \tthis.left()\n",
       "        } else if (event.keyCode == 39) {\n",
       "        \tthis.right()\n",
       "        }\n",
       "      }\n",
       "    },\n",
       "    mounted () {\n",
       "      document.addEventListener(\"keyup\", this.keyhandler);\n",
       "    }\n",
       "  })\n",
       "</script>"
      ],
      "text/plain": [
       "\"\\n<div id=\\\"app_SWWnGxVxtT\\\">\\n<el-container>\\n  <el-container>\\n    <el-header>\\n      <el-row :gutter=\\\"24\\\">\\n        <el-col :span=\\\"4\\\">\\n          <el-button icon=\\\"el-icon-caret-left\\\" circle v-on:click=\\\"left\\\"></el-button>\\n          <el-button icon=\\\"el-icon-caret-right\\\" circle v-on:click=\\\"right\\\"></el-button>\\n        </el-col>\\n\\n        <el-col :span=\\\"20\\\">\\n          <h1>[{{cur_url}}] {{ url[cur_url] }}</h1>\\n        </el-col>\\n      </el-row>\\n    </el-header>\\n    <el-main>\\n      <el-divider></el-divider>\\n      <iframe v-bind:src=\\\"url[cur_url]\\\" width=\\\"1400\\\" height=\\\"800\\\"></iframe>\\n    </el-main>\\n\\n  </el-container>\\n</el-container>\\n</div>\\n\\n\\n\\n<script>\\n  Vue.use(VueChartkick.use(Chart))\\n\\n  app = new Vue({\\n    el: '#app_SWWnGxVxtT',\\n    data: {\\n      url: [\\\"http://localhost:3000/user/633\\\",\\\"http://localhost:3000/user/843\\\",\\\"http://localhost:3000/user/2622\\\",\\\"http://localhost:3000/user/2982\\\",\\\"http://localhost:3000/user/3152\\\",\\\"http://localhost:3000/user/3391\\\",\\\"http://localhost:3000/user/3456\\\",\\\"http://localhost:3000/user/3624\\\",\\\"http://localhost:3000/user/4130\\\",\\\"http://localhost:3000/user/4369\\\",\\\"http://localhost:3000/user/4500\\\",\\\"http://localhost:3000/user/4927\\\",\\\"http://localhost:3000/user/5122\\\",\\\"http://localhost:3000/user/5864\\\",\\\"http://localhost:3000/user/5899\\\",\\\"http://localhost:3000/user/5971\\\",\\\"http://localhost:3000/user/6833\\\",\\\"http://localhost:3000/user/7060\\\",\\\"http://localhost:3000/user/7168\\\",\\\"http://localhost:3000/user/7288\\\",\\\"http://localhost:3000/user/7321\\\",\\\"http://localhost:3000/user/7642\\\",\\\"http://localhost:3000/user/8006\\\",\\\"http://localhost:3000/user/10231\\\",\\\"http://localhost:3000/user/11182\\\",\\\"http://localhost:3000/user/12221\\\",\\\"http://localhost:3000/user/12303\\\",\\\"http://localhost:3000/user/12395\\\"],\\n      cur_url: 0\\n    },\\n    methods: {\\n      left: function() {\\n        this.cur_url -= 1\\n        if (this.cur_url<0) this.cur_url = this.url.length-1\\n      },\\n      right: function() {\\n        this.cur_url += 1\\n        if (this.cur_url>=this.url.length) this.cur_url = 0\\n      },\\n      keyhandler: function() {\\n        console.log(event.keyCode)\\n        if (event.keyCode == 37) {\\n        \\tthis.left()\\n        } else if (event.keyCode == 39) {\\n        \\tthis.right()\\n        }\\n      }\\n    },\\n    mounted () {\\n      document.addEventListener(\\\"keyup\\\", this.keyhandler);\\n    }\\n  })\\n</script>\""
      ]
     },
     "metadata": {},
     "output_type": "display_data"
    },
    {
     "name": "stdout",
     "output_type": "stream",
     "text": [
      "{\n",
      "     3447\u001b[0;37m => \u001b[0m\u001b[0;32m2020-03-22 19:16:39 UTC\u001b[0m,\n",
      "     8734\u001b[0;37m => \u001b[0m\u001b[0;32m2020-04-15 16:05:36 UTC\u001b[0m,\n",
      "    11779\u001b[0;37m => \u001b[0m\u001b[0;32m2020-04-21 12:59:16 UTC\u001b[0m,\n",
      "    13071\u001b[0;37m => \u001b[0m\u001b[0;32m2020-04-22 21:38:52 UTC\u001b[0m,\n",
      "     6966\u001b[0;37m => \u001b[0m\u001b[0;32m2020-04-22 22:02:17 UTC\u001b[0m,\n",
      "    13195\u001b[0;37m => \u001b[0m\u001b[0;32m2020-04-24 09:54:46 UTC\u001b[0m,\n",
      "     9125\u001b[0;37m => \u001b[0m\u001b[0;32m2020-04-24 14:03:48 UTC\u001b[0m\n",
      "}\n"
     ]
    }
   ],
   "source": [
    "puts_header \"人群预定情况\"\n",
    "\n",
    "url = group[\"已育\"].orders.inhouse.where(\"expect_day >= ? and expect_day<=? \",Time.now+10.day, Time.now+20.day).order(:expect_day).user.\n",
    "    filter do |x| x.property.staff.count==0 end.\n",
    "    filter do |x|  x.source!=\"little nothing\" and x.source!=\"小双双jodie\"  end.\n",
    "    filter do |x|  /不合格/.match(x.property.style.value.first)==nil  end.\n",
    "    map do |x| \"http://localhost:3000/user/#{x.id}\" end\n",
    "puts_display render(\"左右浏览网页\",{:url=>url})\n",
    "\n",
    "nil\n",
    "\n",
    "\n",
    "\n",
    "ap (group[\"已育\"].orders.inhouse.where(\"expect_day >= ? and expect_day<=? \",Time.now, Time.now+10.day).order(:expect_day).user.\n",
    "    filter do |x| x.property.staff.count==0 end.map do |x| [x.id,x.orders.product.order(:expect_day).last.create_time] end.sort do |x,y| x[1]<=>y[1] end.to_h)\n",
    "\n"
   ]
  },
  {
   "cell_type": "code",
   "execution_count": 80,
   "metadata": {},
   "outputs": [
    {
     "data": {
      "text/plain": [
       "{\"code\"=>0, \"message\"=>\"OK\", \"data\"=>\"\"}"
      ]
     },
     "execution_count": 80,
     "metadata": {},
     "output_type": "execute_result"
    }
   ],
   "source": [
    "## 把用户分配到订单\n",
    "user_list = [11288,12221,11182,7060,6833,5899,3456,3391,2982,5122,4927,4500,4369,4262,4130,3699,5864,5393,5329,9995,8006,7642,7321,7288,7168,12264]\n",
    "BMS.updateMatchingDivision(user_list.join(\",\")) "
   ]
  },
  {
   "cell_type": "code",
   "execution_count": 116,
   "metadata": {},
   "outputs": [
    {
     "data": {
      "text/html": [
       "<table><tr><td>张博博</td><td>15385185182</td></tr><tr><td>陈通靖</td><td>15888776849</td></tr><tr><td>洪柳</td><td>18811726158</td></tr><tr><td>潘小潘?</td><td>13595062167</td></tr><tr><td>胡七七</td><td>15171348019</td></tr><tr><td>漫漫</td><td>17774911211</td></tr><tr><td>Lana</td><td>18900371613</td></tr><tr><td>0+10</td><td>13551238631</td></tr><tr><td>糖糖</td><td>13787211735</td></tr><tr><td>little snail</td><td>15063058047</td></tr><tr><td>aishang兔兔</td><td>15093795677</td></tr><tr><td>我陷啊陷</td><td>16604113197</td></tr><tr><td>R.夏橙子</td><td>18114000135</td></tr><tr><td>天气好好</td><td>18771947191</td></tr><tr><td>水玉</td><td>18302620423</td></tr><tr><td>J</td><td>18224023017</td></tr><tr><td>Molly</td><td>13723853471</td></tr><tr><td>✨little girl。</td><td>15500190718</td></tr><tr><td>simple</td><td>15279764699</td></tr><tr><td>凌</td><td>18307555096</td></tr><tr><td>噼里啪啦哄</td><td>15201805205</td></tr><tr><td>肉肉壹</td><td>15990029960</td></tr><tr><td>?Fqr?</td><td>13524064600</td></tr><tr><td>舒然</td><td>18825237860</td></tr><tr><td>晓洪</td><td>18611896155</td></tr><tr><td>FennyFenty</td><td>13817293590</td></tr><tr><td>兔子萝卜</td><td>13269303527</td></tr><tr><td>小可恶</td><td>18850158804</td></tr></table>"
      ],
      "text/plain": [
       "\"<table><tr><td>张博博</td><td>15385185182</td></tr><tr><td>陈通靖</td><td>15888776849</td></tr><tr><td>洪柳</td><td>18811726158</td></tr><tr><td>潘小潘?</td><td>13595062167</td></tr><tr><td>胡七七</td><td>15171348019</td></tr><tr><td>漫漫</td><td>17774911211</td></tr><tr><td>Lana</td><td>18900371613</td></tr><tr><td>0+10</td><td>13551238631</td></tr><tr><td>糖糖</td><td>13787211735</td></tr><tr><td>little snail</td><td>15063058047</td></tr><tr><td>aishang兔兔</td><td>15093795677</td></tr><tr><td>我陷啊陷</td><td>16604113197</td></tr><tr><td>R.夏橙子</td><td>18114000135</td></tr><tr><td>天气好好</td><td>18771947191</td></tr><tr><td>水玉</td><td>18302620423</td></tr><tr><td>J</td><td>18224023017</td></tr><tr><td>Molly</td><td>13723853471</td></tr><tr><td>✨little girl。</td><td>15500190718</td></tr><tr><td>simple</td><td>15279764699</td></tr><tr><td>凌</td><td>18307555096</td></tr><tr><td>噼里啪啦哄</td><td>15201805205</td></tr><tr><td>肉肉壹</td><td>15990029960</td></tr><tr><td>?Fqr?</td><td>13524064600</td></tr><tr><td>舒然</td><td>18825237860</td></tr><tr><td>晓洪</td><td>18611896155</td></tr><tr><td>FennyFenty</td><td>13817293590</td></tr><tr><td>兔子萝卜</td><td>13269303527</td></tr><tr><td>小可恶</td><td>18850158804</td></tr></table>\""
      ]
     },
     "metadata": {},
     "output_type": "display_data"
    }
   ],
   "source": [
    "puts_table (User.where(matching_division:10).orders.product.order(:expect_day).where(status:[5,10]).user.map do |x|\n",
    "   [x.wx_nickname,x.phone]\n",
    "end)"
   ]
  },
  {
   "cell_type": "code",
   "execution_count": null,
   "metadata": {},
   "outputs": [],
   "source": []
  },
  {
   "cell_type": "code",
   "execution_count": null,
   "metadata": {},
   "outputs": [],
   "source": []
  },
  {
   "cell_type": "code",
   "execution_count": null,
   "metadata": {},
   "outputs": [],
   "source": []
  },
  {
   "cell_type": "code",
   "execution_count": 111,
   "metadata": {},
   "outputs": [
    {
     "data": {
      "text/html": [
       "<h1>用户刺激</h1>"
      ],
      "text/plain": [
       "\"<h1>用户刺激</h1>\""
      ]
     },
     "metadata": {},
     "output_type": "display_data"
    },
    {
     "data": {
      "text/html": [
       "<table><tr><td>user_id</td><td>end</td><td>qty</td><td>valid</td><td>v0</td><td>v1</td><td>v2</td><td>v3</td><td>staff</td><td>source</td><td>orders</td><td>last_orders</td><td>rate</td></tr><tr><td>145</td><td>false</td><td>19</td><td>true</td><td>0</td><td>0</td><td>1</td><td>0</td><td>0</td><td>default_code</td><td>2</td><td>2020-01-14 00:00:00 UTC</td><td>23.08</td></tr><tr><td>147</td><td>false</td><td>15</td><td>true</td><td>1</td><td>0</td><td>0</td><td>0</td><td>0</td><td>default_code</td><td>1</td><td>2019-09-23 00:00:00 UTC</td><td>0.0</td></tr><tr><td>231</td><td>true</td><td>1</td><td>false</td><td>1</td><td>0</td><td>0</td><td>0</td><td>0</td><td>default_code</td><td>3</td><td>2019-12-01 00:00:00 UTC</td><td>0.0</td></tr><tr><td>241</td><td>true</td><td>2</td><td>false</td><td>0</td><td>0</td><td>1</td><td>0</td><td>0</td><td>default_code</td><td>3</td><td>2019-12-02 00:00:00 UTC</td><td>28.0</td></tr><tr><td>264</td><td>true</td><td>3</td><td>false</td><td>0</td><td>0</td><td>0</td><td>0</td><td>0</td><td>default_code</td><td>0</td><td>0</td><td>NaN</td></tr><tr><td>278</td><td>false</td><td>10</td><td>true</td><td>0</td><td>0</td><td>1</td><td>0</td><td>0</td><td>default_code</td><td>6</td><td>2020-01-10 00:00:00 UTC</td><td>23.08</td></tr><tr><td>337</td><td>true</td><td>2</td><td>false</td><td>1</td><td>0</td><td>0</td><td>0</td><td>0</td><td>default_code</td><td>1</td><td>2019-09-24 00:00:00 UTC</td><td>0.0</td></tr><tr><td>342</td><td>true</td><td>1</td><td>false</td><td>1</td><td>0</td><td>0</td><td>0</td><td>0</td><td>default_code</td><td>2</td><td>2019-12-06 00:00:00 UTC</td><td>6.25</td></tr><tr><td>370</td><td>false</td><td>16</td><td>true</td><td>0</td><td>0</td><td>0</td><td>0</td><td>0</td><td>default_code</td><td>0</td><td>0</td><td>NaN</td></tr><tr><td>474</td><td>true</td><td>2</td><td>false</td><td>1</td><td>0</td><td>0</td><td>0</td><td>0</td><td>default_code</td><td>1</td><td>2019-09-25 00:00:00 UTC</td><td>0.0</td></tr><tr><td>515</td><td>false</td><td>2</td><td>true</td><td>0</td><td>1</td><td>0</td><td>0</td><td>0</td><td>default_code</td><td>1</td><td>2019-09-24 00:00:00 UTC</td><td>16.67</td></tr><tr><td>516</td><td>false</td><td>12</td><td>true</td><td>0</td><td>0</td><td>0</td><td>1</td><td>0</td><td>default_code</td><td>5</td><td>2020-02-28 00:00:00 UTC</td><td>34.29</td></tr><tr><td>547</td><td>false</td><td>10</td><td>true</td><td>0</td><td>1</td><td>0</td><td>0</td><td>0</td><td>default_code</td><td>7</td><td>2020-02-27 00:00:00 UTC</td><td>12.24</td></tr><tr><td>583</td><td>false</td><td>1</td><td>true</td><td>0</td><td>1</td><td>0</td><td>0</td><td>0</td><td>default_code</td><td>2</td><td>2019-10-20 00:00:00 UTC</td><td>18.75</td></tr><tr><td>630</td><td>false</td><td>15</td><td>true</td><td>0</td><td>1</td><td>0</td><td>0</td><td>0</td><td>default_code</td><td>1</td><td>2019-09-27 00:00:00 UTC</td><td>12.5</td></tr><tr><td>632</td><td>true</td><td>2</td><td>false</td><td>1</td><td>0</td><td>0</td><td>0</td><td>0</td><td>default_code</td><td>2</td><td>2019-09-25 00:00:00 UTC</td><td>0.0</td></tr><tr><td>655</td><td>false</td><td>2</td><td>true</td><td>0</td><td>1</td><td>0</td><td>0</td><td>0</td><td>MF17</td><td>1</td><td>2019-10-06 00:00:00 UTC</td><td>14.29</td></tr><tr><td>715</td><td>false</td><td>1</td><td>true</td><td>0</td><td>1</td><td>0</td><td>0</td><td>0</td><td>default_code</td><td>2</td><td>2019-10-30 00:00:00 UTC</td><td>13.33</td></tr><tr><td>727</td><td>true</td><td>1</td><td>false</td><td>1</td><td>0</td><td>0</td><td>0</td><td>0</td><td>default_code</td><td>2</td><td>2019-12-20 00:00:00 UTC</td><td>0.0</td></tr><tr><td>783</td><td>true</td><td>6</td><td>false</td><td>0</td><td>0</td><td>0</td><td>0</td><td>0</td><td>default_code</td><td>0</td><td>0</td><td>NaN</td></tr><tr><td>786</td><td>true</td><td>1</td><td>false</td><td>1</td><td>0</td><td>0</td><td>0</td><td>0</td><td>default_code</td><td>2</td><td>2020-01-02 00:00:00 UTC</td><td>0.0</td></tr><tr><td>801</td><td>false</td><td>5</td><td>true</td><td>0</td><td>0</td><td>1</td><td>0</td><td>0</td><td>default_code</td><td>2</td><td>2019-10-31 00:00:00 UTC</td><td>25.0</td></tr><tr><td>828</td><td>false</td><td>0</td><td>false</td><td>1</td><td>0</td><td>0</td><td>0</td><td>0</td><td>default_code</td><td>3</td><td>2020-02-10 00:00:00 UTC</td><td>7.69</td></tr><tr><td>831</td><td>false</td><td>4</td><td>true</td><td>0</td><td>0</td><td>1</td><td>0</td><td>0</td><td>default_code</td><td>6</td><td>2020-03-22 00:00:00 UTC</td><td>24.39</td></tr><tr><td>838</td><td>true</td><td>1</td><td>false</td><td>1</td><td>0</td><td>0</td><td>0</td><td>0</td><td>default_code</td><td>2</td><td>2019-10-12 00:00:00 UTC</td><td>0.0</td></tr><tr><td>855</td><td>true</td><td>0</td><td>false</td><td>1</td><td>0</td><td>0</td><td>0</td><td>0</td><td>default_code</td><td>3</td><td>2019-11-13 00:00:00 UTC</td><td>4.76</td></tr><tr><td>858</td><td>false</td><td>15</td><td>true</td><td>1</td><td>0</td><td>0</td><td>0</td><td>0</td><td>default_code</td><td>1</td><td>2019-10-06 00:00:00 UTC</td><td>0.0</td></tr><tr><td>877</td><td>false</td><td>11</td><td>true</td><td>0</td><td>0</td><td>1</td><td>0</td><td>0</td><td>default_code</td><td>5</td><td>2020-01-10 00:00:00 UTC</td><td>23.53</td></tr><tr><td>927</td><td>false</td><td>15</td><td>true</td><td>0</td><td>1</td><td>0</td><td>0</td><td>0</td><td>default_code</td><td>1</td><td>2019-10-04 00:00:00 UTC</td><td>11.11</td></tr><tr><td>978</td><td>false</td><td>1</td><td>true</td><td>0</td><td>0</td><td>1</td><td>0</td><td>0</td><td>default_code</td><td>2</td><td>2019-11-22 00:00:00 UTC</td><td>23.08</td></tr><tr><td>1029</td><td>true</td><td>1</td><td>false</td><td>0</td><td>1</td><td>0</td><td>0</td><td>0</td><td>default_code</td><td>3</td><td>2019-11-14 00:00:00 UTC</td><td>18.18</td></tr><tr><td>1052</td><td>false</td><td>1</td><td>true</td><td>1</td><td>0</td><td>0</td><td>0</td><td>0</td><td>default_code</td><td>2</td><td>2019-11-05 00:00:00 UTC</td><td>7.14</td></tr><tr><td>1073</td><td>true</td><td>1</td><td>false</td><td>0</td><td>1</td><td>0</td><td>0</td><td>0</td><td>default_code</td><td>3</td><td>2019-11-25 00:00:00 UTC</td><td>17.65</td></tr><tr><td>1080</td><td>false</td><td>1</td><td>true</td><td>0</td><td>0</td><td>1</td><td>0</td><td>0</td><td>default_code</td><td>3</td><td>2019-12-02 00:00:00 UTC</td><td>26.32</td></tr><tr><td>1103</td><td>true</td><td>2</td><td>false</td><td>0</td><td>0</td><td>0</td><td>1</td><td>0</td><td>default_code</td><td>2</td><td>2019-10-28 00:00:00 UTC</td><td>60.0</td></tr><tr><td>1106</td><td>true</td><td>1</td><td>false</td><td>1</td><td>0</td><td>0</td><td>0</td><td>0</td><td>default_code</td><td>2</td><td>2019-11-10 00:00:00 UTC</td><td>0.0</td></tr><tr><td>1169</td><td>true</td><td>3</td><td>false</td><td>0</td><td>0</td><td>0</td><td>0</td><td>0</td><td>default_code</td><td>0</td><td>0</td><td>NaN</td></tr><tr><td>1171</td><td>false</td><td>2</td><td>true</td><td>0</td><td>0</td><td>1</td><td>0</td><td>0</td><td>default_code</td><td>1</td><td>2019-11-13 00:00:00 UTC</td><td>25.0</td></tr><tr><td>1201</td><td>false</td><td>2</td><td>true</td><td>0</td><td>1</td><td>0</td><td>0</td><td>0</td><td>default_code</td><td>1</td><td>2019-11-12 00:00:00 UTC</td><td>14.29</td></tr><tr><td>1231</td><td>true</td><td>1</td><td>false</td><td>0</td><td>0</td><td>0</td><td>1</td><td>0</td><td>default_code</td><td>3</td><td>2020-01-15 00:00:00 UTC</td><td>35.29</td></tr><tr><td>1305</td><td>false</td><td>15</td><td>true</td><td>0</td><td>1</td><td>0</td><td>0</td><td>0</td><td>default_code</td><td>1</td><td>2019-11-10 00:00:00 UTC</td><td>16.67</td></tr><tr><td>1347</td><td>true</td><td>3</td><td>false</td><td>0</td><td>0</td><td>0</td><td>0</td><td>0</td><td>default_code</td><td>0</td><td>0</td><td>NaN</td></tr><tr><td>1368</td><td>true</td><td>1</td><td>false</td><td>1</td><td>0</td><td>0</td><td>0</td><td>0</td><td>default_code</td><td>2</td><td>2019-11-26 00:00:00 UTC</td><td>0.0</td></tr><tr><td>1437</td><td>false</td><td>16</td><td>true</td><td>0</td><td>0</td><td>0</td><td>0</td><td>0</td><td>default_code</td><td>0</td><td>0</td><td>NaN</td></tr><tr><td>1586</td><td>true</td><td>1</td><td>false</td><td>1</td><td>0</td><td>0</td><td>0</td><td>0</td><td>JISHENG_VIP</td><td>2</td><td>2020-01-09 00:00:00 UTC</td><td>0.0</td></tr><tr><td>1624</td><td>false</td><td>15</td><td>true</td><td>1</td><td>0</td><td>0</td><td>0</td><td>0</td><td>JISHENG_VIP</td><td>1</td><td>2019-11-22 00:00:00 UTC</td><td>0.0</td></tr><tr><td>1724</td><td>true</td><td>2</td><td>false</td><td>0</td><td>0</td><td>0</td><td>1</td><td>0</td><td>default_code</td><td>2</td><td>2020-01-08 00:00:00 UTC</td><td>42.86</td></tr><tr><td>1732</td><td>false</td><td>1</td><td>true</td><td>1</td><td>0</td><td>0</td><td>0</td><td>0</td><td>zoe111-ZOE专属</td><td>2</td><td>2019-12-25 00:00:00 UTC</td><td>7.69</td></tr><tr><td>1800</td><td>true</td><td>1</td><td>false</td><td>1</td><td>0</td><td>0</td><td>0</td><td>0</td><td>default_code</td><td>2</td><td>2020-02-22 00:00:00 UTC</td><td>7.14</td></tr><tr><td colspan='13'>&#8942;</td></tr><tr><td>9235</td><td>false</td><td>2</td><td>true</td><td>1</td><td>0</td><td>0</td><td>0</td><td>0</td><td>小双双jodie</td><td>1</td><td>2020-03-21 00:00:00 UTC</td><td>0.0</td></tr><tr><td>9250</td><td>false</td><td>0</td><td>false</td><td>0</td><td>0</td><td>0</td><td>0</td><td>0</td><td>小双双jodie</td><td>0</td><td>0</td><td>NaN</td></tr><tr><td>9300</td><td>false</td><td>3</td><td>true</td><td>0</td><td>0</td><td>0</td><td>0</td><td>0</td><td>default_code</td><td>0</td><td>0</td><td>NaN</td></tr><tr><td>9515</td><td>false</td><td>3</td><td>true</td><td>0</td><td>0</td><td>0</td><td>0</td><td>0</td><td>little nothing</td><td>0</td><td>0</td><td>NaN</td></tr><tr><td>9585</td><td>false</td><td>2</td><td>true</td><td>0</td><td>1</td><td>0</td><td>0</td><td>0</td><td>little nothing</td><td>1</td><td>2020-03-24 00:00:00 UTC</td><td>12.5</td></tr><tr><td>9633</td><td>false</td><td>2</td><td>true</td><td>1</td><td>0</td><td>0</td><td>0</td><td>0</td><td>little nothing</td><td>1</td><td>2020-03-24 00:00:00 UTC</td><td>0.0</td></tr><tr><td>9651</td><td>false</td><td>0</td><td>false</td><td>0</td><td>0</td><td>0</td><td>0</td><td>0</td><td>little nothing</td><td>0</td><td>0</td><td>NaN</td></tr><tr><td>9810</td><td>false</td><td>3</td><td>true</td><td>0</td><td>0</td><td>0</td><td>0</td><td>0</td><td>little nothing</td><td>0</td><td>0</td><td>NaN</td></tr><tr><td>9990</td><td>false</td><td>3</td><td>true</td><td>0</td><td>0</td><td>0</td><td>0</td><td>0</td><td>little nothing</td><td>0</td><td>0</td><td>NaN</td></tr><tr><td>10015</td><td>false</td><td>3</td><td>true</td><td>0</td><td>0</td><td>0</td><td>0</td><td>0</td><td>little nothing</td><td>0</td><td>0</td><td>NaN</td></tr><tr><td>10046</td><td>false</td><td>3</td><td>true</td><td>0</td><td>0</td><td>0</td><td>0</td><td>0</td><td>little nothing</td><td>0</td><td>0</td><td>NaN</td></tr><tr><td>10052</td><td>false</td><td>3</td><td>true</td><td>0</td><td>0</td><td>0</td><td>0</td><td>0</td><td>little nothing</td><td>0</td><td>0</td><td>NaN</td></tr><tr><td>10069</td><td>false</td><td>3</td><td>true</td><td>0</td><td>0</td><td>0</td><td>0</td><td>0</td><td>little nothing</td><td>0</td><td>0</td><td>NaN</td></tr><tr><td>10102</td><td>false</td><td>3</td><td>true</td><td>0</td><td>0</td><td>0</td><td>0</td><td>0</td><td>little nothing</td><td>0</td><td>0</td><td>NaN</td></tr><tr><td>10109</td><td>false</td><td>3</td><td>true</td><td>0</td><td>0</td><td>0</td><td>0</td><td>0</td><td>little nothing</td><td>0</td><td>0</td><td>NaN</td></tr><tr><td>10130</td><td>false</td><td>2</td><td>true</td><td>0</td><td>0</td><td>0</td><td>1</td><td>0</td><td>20-02-友邦保险-长虹善心3297组-客户75</td><td>1</td><td>2020-03-14 00:00:00 UTC</td><td>33.33</td></tr><tr><td>10286</td><td>false</td><td>3</td><td>true</td><td>0</td><td>0</td><td>0</td><td>0</td><td>0</td><td>default_code</td><td>0</td><td>0</td><td>NaN</td></tr><tr><td>10301</td><td>false</td><td>3</td><td>true</td><td>0</td><td>0</td><td>0</td><td>0</td><td>0</td><td>default_code</td><td>0</td><td>0</td><td>NaN</td></tr><tr><td>10460</td><td>false</td><td>3</td><td>true</td><td>0</td><td>0</td><td>0</td><td>0</td><td>0</td><td>default_code</td><td>0</td><td>0</td><td>NaN</td></tr><tr><td>10505</td><td>false</td><td>3</td><td>true</td><td>0</td><td>0</td><td>0</td><td>0</td><td>0</td><td>default_code</td><td>0</td><td>0</td><td>NaN</td></tr><tr><td>10524</td><td>false</td><td>3</td><td>true</td><td>0</td><td>0</td><td>0</td><td>0</td><td>0</td><td>default_code</td><td>0</td><td>0</td><td>NaN</td></tr><tr><td>10736</td><td>false</td><td>3</td><td>true</td><td>0</td><td>0</td><td>0</td><td>0</td><td>0</td><td>20-15-KOL-韦思嘉</td><td>0</td><td>0</td><td>NaN</td></tr><tr><td>10825</td><td>false</td><td>3</td><td>true</td><td>0</td><td>0</td><td>0</td><td>0</td><td>0</td><td>20-15-KOL-韦思嘉</td><td>0</td><td>0</td><td>NaN</td></tr><tr><td>10914</td><td>false</td><td>2</td><td>true</td><td>0</td><td>1</td><td>0</td><td>0</td><td>0</td><td>20-15-KOL-韦思嘉</td><td>1</td><td>2020-03-24 00:00:00 UTC</td><td>16.67</td></tr><tr><td>10955</td><td>false</td><td>3</td><td>true</td><td>0</td><td>0</td><td>0</td><td>0</td><td>0</td><td>20-15-KOL-韦思嘉</td><td>0</td><td>0</td><td>NaN</td></tr><tr><td>10963</td><td>false</td><td>3</td><td>true</td><td>0</td><td>0</td><td>0</td><td>0</td><td>0</td><td>20-15-KOL-韦思嘉</td><td>0</td><td>0</td><td>NaN</td></tr><tr><td>11001</td><td>false</td><td>15</td><td>true</td><td>0</td><td>1</td><td>0</td><td>0</td><td>0</td><td>20-15-KOL-韦思嘉</td><td>1</td><td>2020-03-18 00:00:00 UTC</td><td>16.67</td></tr><tr><td>11095</td><td>false</td><td>3</td><td>true</td><td>0</td><td>0</td><td>0</td><td>0</td><td>0</td><td>20-15-KOL-韦思嘉</td><td>0</td><td>0</td><td>NaN</td></tr><tr><td>11125</td><td>false</td><td>2</td><td>true</td><td>0</td><td>0</td><td>0</td><td>1</td><td>0</td><td>20-15-KOL-韦思嘉</td><td>1</td><td>2020-03-21 00:00:00 UTC</td><td>50.0</td></tr><tr><td>11155</td><td>false</td><td>2</td><td>true</td><td>1</td><td>0</td><td>0</td><td>0</td><td>0</td><td>default_code</td><td>1</td><td>2020-03-20 00:00:00 UTC</td><td>0.0</td></tr><tr><td>11210</td><td>false</td><td>2</td><td>true</td><td>0</td><td>0</td><td>1</td><td>0</td><td>0</td><td>20-15-KOL-韦思嘉</td><td>1</td><td>2020-03-21 00:00:00 UTC</td><td>20.0</td></tr><tr><td>11242</td><td>false</td><td>2</td><td>true</td><td>1</td><td>0</td><td>0</td><td>0</td><td>0</td><td>default_code</td><td>1</td><td>2020-03-21 00:00:00 UTC</td><td>0.0</td></tr><tr><td>11248</td><td>false</td><td>3</td><td>true</td><td>0</td><td>0</td><td>0</td><td>0</td><td>0</td><td>20-15-KOL-韦思嘉</td><td>0</td><td>0</td><td>NaN</td></tr><tr><td>11252</td><td>false</td><td>3</td><td>true</td><td>0</td><td>0</td><td>0</td><td>0</td><td>0</td><td>20-15-KOL-韦思嘉</td><td>0</td><td>0</td><td>NaN</td></tr><tr><td>11264</td><td>false</td><td>0</td><td>false</td><td>0</td><td>0</td><td>0</td><td>0</td><td>0</td><td>20-15-KOL-韦思嘉</td><td>0</td><td>0</td><td>NaN</td></tr><tr><td>11288</td><td>false</td><td>3</td><td>true</td><td>0</td><td>0</td><td>0</td><td>0</td><td>0</td><td>default_code</td><td>0</td><td>0</td><td>NaN</td></tr><tr><td>11347</td><td>false</td><td>3</td><td>true</td><td>0</td><td>0</td><td>0</td><td>0</td><td>0</td><td>20-15-KOL-韦思嘉</td><td>0</td><td>0</td><td>NaN</td></tr><tr><td>11387</td><td>false</td><td>16</td><td>true</td><td>0</td><td>0</td><td>0</td><td>0</td><td>0</td><td>20-15-KOL-韦思嘉</td><td>0</td><td>0</td><td>NaN</td></tr><tr><td>11389</td><td>false</td><td>3</td><td>true</td><td>0</td><td>0</td><td>0</td><td>0</td><td>0</td><td>20-15-KOL-韦思嘉</td><td>0</td><td>0</td><td>NaN</td></tr><tr><td>11394</td><td>false</td><td>3</td><td>true</td><td>0</td><td>0</td><td>0</td><td>0</td><td>0</td><td>20-15-KOL-韦思嘉</td><td>0</td><td>0</td><td>NaN</td></tr><tr><td>11446</td><td>false</td><td>3</td><td>true</td><td>0</td><td>0</td><td>0</td><td>0</td><td>0</td><td>20-15-KOL-韦思嘉</td><td>0</td><td>0</td><td>NaN</td></tr><tr><td>11522</td><td>false</td><td>0</td><td>false</td><td>0</td><td>0</td><td>0</td><td>0</td><td>0</td><td>default_code</td><td>0</td><td>0</td><td>NaN</td></tr><tr><td>11578</td><td>false</td><td>3</td><td>true</td><td>0</td><td>0</td><td>0</td><td>0</td><td>0</td><td>default_code</td><td>0</td><td>0</td><td>NaN</td></tr><tr><td>11910</td><td>false</td><td>3</td><td>true</td><td>0</td><td>0</td><td>0</td><td>0</td><td>0</td><td>default_code</td><td>0</td><td>0</td><td>NaN</td></tr><tr><td>12048</td><td>false</td><td>16</td><td>true</td><td>0</td><td>0</td><td>0</td><td>0</td><td>0</td><td>一只马丁靴</td><td>0</td><td>0</td><td>NaN</td></tr><tr><td>12078</td><td>false</td><td>3</td><td>true</td><td>0</td><td>0</td><td>0</td><td>0</td><td>0</td><td>default_code</td><td>0</td><td>0</td><td>NaN</td></tr><tr><td>12099</td><td>false</td><td>3</td><td>true</td><td>0</td><td>0</td><td>0</td><td>0</td><td>0</td><td>20-15-KOL-韦思嘉</td><td>0</td><td>0</td><td>NaN</td></tr><tr><td>12488</td><td>false</td><td>3</td><td>true</td><td>0</td><td>0</td><td>0</td><td>0</td><td>0</td><td>一只马丁靴</td><td>0</td><td>0</td><td>NaN</td></tr><tr><td>12611</td><td>false</td><td>3</td><td>true</td><td>0</td><td>0</td><td>0</td><td>0</td><td>0</td><td>20-04-KOL-gu_古妍</td><td>0</td><td>0</td><td>NaN</td></tr></table>"
      ],
      "text/plain": [
       "\"<table><tr><td>user_id</td><td>end</td><td>qty</td><td>valid</td><td>v0</td><td>v1</td><td>v2</td><td>v3</td><td>staff</td><td>source</td><td>orders</td><td>last_orders</td><td>rate</td></tr><tr><td>145</td><td>false</td><td>19</td><td>true</td><td>0</td><td>0</td><td>1</td><td>0</td><td>0</td><td>default_code</td><td>2</td><td>2020-01-14 00:00:00 UTC</td><td>23.08</td></tr><tr><td>147</td><td>false</td><td>15</td><td>true</td><td>1</td><td>0</td><td>0</td><td>0</td><td>0</td><td>default_code</td><td>1</td><td>2019-09-23 00:00:00 UTC</td><td>0.0</td></tr><tr><td>231</td><td>true</td><td>1</td><td>false</td><td>1</td><td>0</td><td>0</td><td>0</td><td>0</td><td>default_code</td><td>3</td><td>2019-12-01 00:00:00 UTC</td><td>0.0</td></tr><tr><td>241</td><td>true</td><td>2</td><td>false</td><td>0</td><td>0</td><td>1</td><td>0</td><td>0</td><td>default_code</td><td>3</td><td>2019-12-02 00:00:00 UTC</td><td>28.0</td></tr><tr><td>264</td><td>true</td><td>3</td><td>false</td><td>0</td><td>0</td><td>0</td><td>0</td><td>0</td><td>default_code</td><td>0</td><td>0</td><td>NaN</td></tr><tr><td>278</td><td>false</td><td>10</td><td>true</td><td>0</td><td>0</td><td>1</td><td>0</td><td>0</td><td>default_code</td><td>6</td><td>2020-01-10 00:00:00 UTC</td><td>23.08</td></tr><tr><td>337</td><td>true</td><td>2</td><td>false</td><td>1</td><td>0</td><td>0</td><td>0</td><td>0</td><td>default_code</td><td>1</td><td>2019-09-24 00:00:00 UTC</td><td>0.0</td></tr><tr><td>342</td><td>true</td><td>1</td><td>false</td><td>1</td><td>0</td><td>0</td><td>0</td><td>0</td><td>default_code</td><td>2</td><td>2019-12-06 00:00:00 UTC</td><td>6.25</td></tr><tr><td>370</td><td>false</td><td>16</td><td>true</td><td>0</td><td>0</td><td>0</td><td>0</td><td>0</td><td>default_code</td><td>0</td><td>0</td><td>NaN</td></tr><tr><td>474</td><td>true</td><td>2</td><td>false</td><td>1</td><td>0</td><td>0</td><td>0</td><td>0</td><td>default_code</td><td>1</td><td>2019-09-25 00:00:00 UTC</td><td>0.0</td></tr><tr><td>515</td><td>false</td><td>2</td><td>true</td><td>0</td><td>1</td><td>0</td><td>0</td><td>0</td><td>default_code</td><td>1</td><td>2019-09-24 00:00:00 UTC</td><td>16.67</td></tr><tr><td>516</td><td>false</td><td>12</td><td>true</td><td>0</td><td>0</td><td>0</td><td>1</td><td>0</td><td>default_code</td><td>5</td><td>2020-02-28 00:00:00 UTC</td><td>34.29</td></tr><tr><td>547</td><td>false</td><td>10</td><td>true</td><td>0</td><td>1</td><td>0</td><td>0</td><td>0</td><td>default_code</td><td>7</td><td>2020-02-27 00:00:00 UTC</td><td>12.24</td></tr><tr><td>583</td><td>false</td><td>1</td><td>true</td><td>0</td><td>1</td><td>0</td><td>0</td><td>0</td><td>default_code</td><td>2</td><td>2019-10-20 00:00:00 UTC</td><td>18.75</td></tr><tr><td>630</td><td>false</td><td>15</td><td>true</td><td>0</td><td>1</td><td>0</td><td>0</td><td>0</td><td>default_code</td><td>1</td><td>2019-09-27 00:00:00 UTC</td><td>12.5</td></tr><tr><td>632</td><td>true</td><td>2</td><td>false</td><td>1</td><td>0</td><td>0</td><td>0</td><td>0</td><td>default_code</td><td>2</td><td>2019-09-25 00:00:00 UTC</td><td>0.0</td></tr><tr><td>655</td><td>false</td><td>2</td><td>true</td><td>0</td><td>1</td><td>0</td><td>0</td><td>0</td><td>MF17</td><td>1</td><td>2019-10-06 00:00:00 UTC</td><td>14.29</td></tr><tr><td>715</td><td>false</td><td>1</td><td>true</td><td>0</td><td>1</td><td>0</td><td>0</td><td>0</td><td>default_code</td><td>2</td><td>2019-10-30 00:00:00 UTC</td><td>13.33</td></tr><tr><td>727</td><td>true</td><td>1</td><td>false</td><td>1</td><td>0</td><td>0</td><td>0</td><td>0</td><td>default_code</td><td>2</td><td>2019-12-20 00:00:00 UTC</td><td>0.0</td></tr><tr><td>783</td><td>true</td><td>6</td><td>false</td><td>0</td><td>0</td><td>0</td><td>0</td><td>0</td><td>default_code</td><td>0</td><td>0</td><td>NaN</td></tr><tr><td>786</td><td>true</td><td>1</td><td>false</td><td>1</td><td>0</td><td>0</td><td>0</td><td>0</td><td>default_code</td><td>2</td><td>2020-01-02 00:00:00 UTC</td><td>0.0</td></tr><tr><td>801</td><td>false</td><td>5</td><td>true</td><td>0</td><td>0</td><td>1</td><td>0</td><td>0</td><td>default_code</td><td>2</td><td>2019-10-31 00:00:00 UTC</td><td>25.0</td></tr><tr><td>828</td><td>false</td><td>0</td><td>false</td><td>1</td><td>0</td><td>0</td><td>0</td><td>0</td><td>default_code</td><td>3</td><td>2020-02-10 00:00:00 UTC</td><td>7.69</td></tr><tr><td>831</td><td>false</td><td>4</td><td>true</td><td>0</td><td>0</td><td>1</td><td>0</td><td>0</td><td>default_code</td><td>6</td><td>2020-03-22 00:00:00 UTC</td><td>24.39</td></tr><tr><td>838</td><td>true</td><td>1</td><td>false</td><td>1</td><td>0</td><td>0</td><td>0</td><td>0</td><td>default_code</td><td>2</td><td>2019-10-12 00:00:00 UTC</td><td>0.0</td></tr><tr><td>855</td><td>true</td><td>0</td><td>false</td><td>1</td><td>0</td><td>0</td><td>0</td><td>0</td><td>default_code</td><td>3</td><td>2019-11-13 00:00:00 UTC</td><td>4.76</td></tr><tr><td>858</td><td>false</td><td>15</td><td>true</td><td>1</td><td>0</td><td>0</td><td>0</td><td>0</td><td>default_code</td><td>1</td><td>2019-10-06 00:00:00 UTC</td><td>0.0</td></tr><tr><td>877</td><td>false</td><td>11</td><td>true</td><td>0</td><td>0</td><td>1</td><td>0</td><td>0</td><td>default_code</td><td>5</td><td>2020-01-10 00:00:00 UTC</td><td>23.53</td></tr><tr><td>927</td><td>false</td><td>15</td><td>true</td><td>0</td><td>1</td><td>0</td><td>0</td><td>0</td><td>default_code</td><td>1</td><td>2019-10-04 00:00:00 UTC</td><td>11.11</td></tr><tr><td>978</td><td>false</td><td>1</td><td>true</td><td>0</td><td>0</td><td>1</td><td>0</td><td>0</td><td>default_code</td><td>2</td><td>2019-11-22 00:00:00 UTC</td><td>23.08</td></tr><tr><td>1029</td><td>true</td><td>1</td><td>false</td><td>0</td><td>1</td><td>0</td><td>0</td><td>0</td><td>default_code</td><td>3</td><td>2019-11-14 00:00:00 UTC</td><td>18.18</td></tr><tr><td>1052</td><td>false</td><td>1</td><td>true</td><td>1</td><td>0</td><td>0</td><td>0</td><td>0</td><td>default_code</td><td>2</td><td>2019-11-05 00:00:00 UTC</td><td>7.14</td></tr><tr><td>1073</td><td>true</td><td>1</td><td>false</td><td>0</td><td>1</td><td>0</td><td>0</td><td>0</td><td>default_code</td><td>3</td><td>2019-11-25 00:00:00 UTC</td><td>17.65</td></tr><tr><td>1080</td><td>false</td><td>1</td><td>true</td><td>0</td><td>0</td><td>1</td><td>0</td><td>0</td><td>default_code</td><td>3</td><td>2019-12-02 00:00:00 UTC</td><td>26.32</td></tr><tr><td>1103</td><td>true</td><td>2</td><td>false</td><td>0</td><td>0</td><td>0</td><td>1</td><td>0</td><td>default_code</td><td>2</td><td>2019-10-28 00:00:00 UTC</td><td>60.0</td></tr><tr><td>1106</td><td>true</td><td>1</td><td>false</td><td>1</td><td>0</td><td>0</td><td>0</td><td>0</td><td>default_code</td><td>2</td><td>2019-11-10 00:00:00 UTC</td><td>0.0</td></tr><tr><td>1169</td><td>true</td><td>3</td><td>false</td><td>0</td><td>0</td><td>0</td><td>0</td><td>0</td><td>default_code</td><td>0</td><td>0</td><td>NaN</td></tr><tr><td>1171</td><td>false</td><td>2</td><td>true</td><td>0</td><td>0</td><td>1</td><td>0</td><td>0</td><td>default_code</td><td>1</td><td>2019-11-13 00:00:00 UTC</td><td>25.0</td></tr><tr><td>1201</td><td>false</td><td>2</td><td>true</td><td>0</td><td>1</td><td>0</td><td>0</td><td>0</td><td>default_code</td><td>1</td><td>2019-11-12 00:00:00 UTC</td><td>14.29</td></tr><tr><td>1231</td><td>true</td><td>1</td><td>false</td><td>0</td><td>0</td><td>0</td><td>1</td><td>0</td><td>default_code</td><td>3</td><td>2020-01-15 00:00:00 UTC</td><td>35.29</td></tr><tr><td>1305</td><td>false</td><td>15</td><td>true</td><td>0</td><td>1</td><td>0</td><td>0</td><td>0</td><td>default_code</td><td>1</td><td>2019-11-10 00:00:00 UTC</td><td>16.67</td></tr><tr><td>1347</td><td>true</td><td>3</td><td>false</td><td>0</td><td>0</td><td>0</td><td>0</td><td>0</td><td>default_code</td><td>0</td><td>0</td><td>NaN</td></tr><tr><td>1368</td><td>true</td><td>1</td><td>false</td><td>1</td><td>0</td><td>0</td><td>0</td><td>0</td><td>default_code</td><td>2</td><td>2019-11-26 00:00:00 UTC</td><td>0.0</td></tr><tr><td>1437</td><td>false</td><td>16</td><td>true</td><td>0</td><td>0</td><td>0</td><td>0</td><td>0</td><td>default_code</td><td>0</td><td>0</td><td>NaN</td></tr><tr><td>1586</td><td>true</td><td>1</td><td>false</td><td>1</td><td>0</td><td>0</td><td>0</td><td>0</td><td>JISHENG_VIP</td><td>2</td><td>2020-01-09 00:00:00 UTC</td><td>0.0</td></tr><tr><td>1624</td><td>false</td><td>15</td><td>true</td><td>1</td><td>0</td><td>0</td><td>0</td><td>0</td><td>JISHENG_VIP</td><td>1</td><td>2019-11-22 00:00:00 UTC</td><td>0.0</td></tr><tr><td>1724</td><td>true</td><td>2</td><td>false</td><td>0</td><td>0</td><td>0</td><td>1</td><td>0</td><td>default_code</td><td>2</td><td>2020-01-08 00:00:00 UTC</td><td>42.86</td></tr><tr><td>1732</td><td>false</td><td>1</td><td>true</td><td>1</td><td>0</td><td>0</td><td>0</td><td>0</td><td>zoe111-ZOE专属</td><td>2</td><td>2019-12-25 00:00:00 UTC</td><td>7.69</td></tr><tr><td>1800</td><td>true</td><td>1</td><td>false</td><td>1</td><td>0</td><td>0</td><td>0</td><td>0</td><td>default_code</td><td>2</td><td>2020-02-22 00:00:00 UTC</td><td>7.14</td></tr><tr><td colspan='13'>&#8942;</td></tr><tr><td>9235</td><td>false</td><td>2</td><td>true</td><td>1</td><td>0</td><td>0</td><td>0</td><td>0</td><td>小双双jodie</td><td>1</td><td>2020-03-21 00:00:00 UTC</td><td>0.0</td></tr><tr><td>9250</td><td>false</td><td>0</td><td>false</td><td>0</td><td>0</td><td>0</td><td>0</td><td>0</td><td>小双双jodie</td><td>0</td><td>0</td><td>NaN</td></tr><tr><td>9300</td><td>false</td><td>3</td><td>true</td><td>0</td><td>0</td><td>0</td><td>0</td><td>0</td><td>default_code</td><td>0</td><td>0</td><td>NaN</td></tr><tr><td>9515</td><td>false</td><td>3</td><td>true</td><td>0</td><td>0</td><td>0</td><td>0</td><td>0</td><td>little nothing</td><td>0</td><td>0</td><td>NaN</td></tr><tr><td>9585</td><td>false</td><td>2</td><td>true</td><td>0</td><td>1</td><td>0</td><td>0</td><td>0</td><td>little nothing</td><td>1</td><td>2020-03-24 00:00:00 UTC</td><td>12.5</td></tr><tr><td>9633</td><td>false</td><td>2</td><td>true</td><td>1</td><td>0</td><td>0</td><td>0</td><td>0</td><td>little nothing</td><td>1</td><td>2020-03-24 00:00:00 UTC</td><td>0.0</td></tr><tr><td>9651</td><td>false</td><td>0</td><td>false</td><td>0</td><td>0</td><td>0</td><td>0</td><td>0</td><td>little nothing</td><td>0</td><td>0</td><td>NaN</td></tr><tr><td>9810</td><td>false</td><td>3</td><td>true</td><td>0</td><td>0</td><td>0</td><td>0</td><td>0</td><td>little nothing</td><td>0</td><td>0</td><td>NaN</td></tr><tr><td>9990</td><td>false</td><td>3</td><td>true</td><td>0</td><td>0</td><td>0</td><td>0</td><td>0</td><td>little nothing</td><td>0</td><td>0</td><td>NaN</td></tr><tr><td>10015</td><td>false</td><td>3</td><td>true</td><td>0</td><td>0</td><td>0</td><td>0</td><td>0</td><td>little nothing</td><td>0</td><td>0</td><td>NaN</td></tr><tr><td>10046</td><td>false</td><td>3</td><td>true</td><td>0</td><td>0</td><td>0</td><td>0</td><td>0</td><td>little nothing</td><td>0</td><td>0</td><td>NaN</td></tr><tr><td>10052</td><td>false</td><td>3</td><td>true</td><td>0</td><td>0</td><td>0</td><td>0</td><td>0</td><td>little nothing</td><td>0</td><td>0</td><td>NaN</td></tr><tr><td>10069</td><td>false</td><td>3</td><td>true</td><td>0</td><td>0</td><td>0</td><td>0</td><td>0</td><td>little nothing</td><td>0</td><td>0</td><td>NaN</td></tr><tr><td>10102</td><td>false</td><td>3</td><td>true</td><td>0</td><td>0</td><td>0</td><td>0</td><td>0</td><td>little nothing</td><td>0</td><td>0</td><td>NaN</td></tr><tr><td>10109</td><td>false</td><td>3</td><td>true</td><td>0</td><td>0</td><td>0</td><td>0</td><td>0</td><td>little nothing</td><td>0</td><td>0</td><td>NaN</td></tr><tr><td>10130</td><td>false</td><td>2</td><td>true</td><td>0</td><td>0</td><td>0</td><td>1</td><td>0</td><td>20-02-友邦保险-长虹善心3297组-客户75</td><td>1</td><td>2020-03-14 00:00:00 UTC</td><td>33.33</td></tr><tr><td>10286</td><td>false</td><td>3</td><td>true</td><td>0</td><td>0</td><td>0</td><td>0</td><td>0</td><td>default_code</td><td>0</td><td>0</td><td>NaN</td></tr><tr><td>10301</td><td>false</td><td>3</td><td>true</td><td>0</td><td>0</td><td>0</td><td>0</td><td>0</td><td>default_code</td><td>0</td><td>0</td><td>NaN</td></tr><tr><td>10460</td><td>false</td><td>3</td><td>true</td><td>0</td><td>0</td><td>0</td><td>0</td><td>0</td><td>default_code</td><td>0</td><td>0</td><td>NaN</td></tr><tr><td>10505</td><td>false</td><td>3</td><td>true</td><td>0</td><td>0</td><td>0</td><td>0</td><td>0</td><td>default_code</td><td>0</td><td>0</td><td>NaN</td></tr><tr><td>10524</td><td>false</td><td>3</td><td>true</td><td>0</td><td>0</td><td>0</td><td>0</td><td>0</td><td>default_code</td><td>0</td><td>0</td><td>NaN</td></tr><tr><td>10736</td><td>false</td><td>3</td><td>true</td><td>0</td><td>0</td><td>0</td><td>0</td><td>0</td><td>20-15-KOL-韦思嘉</td><td>0</td><td>0</td><td>NaN</td></tr><tr><td>10825</td><td>false</td><td>3</td><td>true</td><td>0</td><td>0</td><td>0</td><td>0</td><td>0</td><td>20-15-KOL-韦思嘉</td><td>0</td><td>0</td><td>NaN</td></tr><tr><td>10914</td><td>false</td><td>2</td><td>true</td><td>0</td><td>1</td><td>0</td><td>0</td><td>0</td><td>20-15-KOL-韦思嘉</td><td>1</td><td>2020-03-24 00:00:00 UTC</td><td>16.67</td></tr><tr><td>10955</td><td>false</td><td>3</td><td>true</td><td>0</td><td>0</td><td>0</td><td>0</td><td>0</td><td>20-15-KOL-韦思嘉</td><td>0</td><td>0</td><td>NaN</td></tr><tr><td>10963</td><td>false</td><td>3</td><td>true</td><td>0</td><td>0</td><td>0</td><td>0</td><td>0</td><td>20-15-KOL-韦思嘉</td><td>0</td><td>0</td><td>NaN</td></tr><tr><td>11001</td><td>false</td><td>15</td><td>true</td><td>0</td><td>1</td><td>0</td><td>0</td><td>0</td><td>20-15-KOL-韦思嘉</td><td>1</td><td>2020-03-18 00:00:00 UTC</td><td>16.67</td></tr><tr><td>11095</td><td>false</td><td>3</td><td>true</td><td>0</td><td>0</td><td>0</td><td>0</td><td>0</td><td>20-15-KOL-韦思嘉</td><td>0</td><td>0</td><td>NaN</td></tr><tr><td>11125</td><td>false</td><td>2</td><td>true</td><td>0</td><td>0</td><td>0</td><td>1</td><td>0</td><td>20-15-KOL-韦思嘉</td><td>1</td><td>2020-03-21 00:00:00 UTC</td><td>50.0</td></tr><tr><td>11155</td><td>false</td><td>2</td><td>true</td><td>1</td><td>0</td><td>0</td><td>0</td><td>0</td><td>default_code</td><td>1</td><td>2020-03-20 00:00:00 UTC</td><td>0.0</td></tr><tr><td>11210</td><td>false</td><td>2</td><td>true</td><td>0</td><td>0</td><td>1</td><td>0</td><td>0</td><td>20-15-KOL-韦思嘉</td><td>1</td><td>2020-03-21 00:00:00 UTC</td><td>20.0</td></tr><tr><td>11242</td><td>false</td><td>2</td><td>true</td><td>1</td><td>0</td><td>0</td><td>0</td><td>0</td><td>default_code</td><td>1</td><td>2020-03-21 00:00:00 UTC</td><td>0.0</td></tr><tr><td>11248</td><td>false</td><td>3</td><td>true</td><td>0</td><td>0</td><td>0</td><td>0</td><td>0</td><td>20-15-KOL-韦思嘉</td><td>0</td><td>0</td><td>NaN</td></tr><tr><td>11252</td><td>false</td><td>3</td><td>true</td><td>0</td><td>0</td><td>0</td><td>0</td><td>0</td><td>20-15-KOL-韦思嘉</td><td>0</td><td>0</td><td>NaN</td></tr><tr><td>11264</td><td>false</td><td>0</td><td>false</td><td>0</td><td>0</td><td>0</td><td>0</td><td>0</td><td>20-15-KOL-韦思嘉</td><td>0</td><td>0</td><td>NaN</td></tr><tr><td>11288</td><td>false</td><td>3</td><td>true</td><td>0</td><td>0</td><td>0</td><td>0</td><td>0</td><td>default_code</td><td>0</td><td>0</td><td>NaN</td></tr><tr><td>11347</td><td>false</td><td>3</td><td>true</td><td>0</td><td>0</td><td>0</td><td>0</td><td>0</td><td>20-15-KOL-韦思嘉</td><td>0</td><td>0</td><td>NaN</td></tr><tr><td>11387</td><td>false</td><td>16</td><td>true</td><td>0</td><td>0</td><td>0</td><td>0</td><td>0</td><td>20-15-KOL-韦思嘉</td><td>0</td><td>0</td><td>NaN</td></tr><tr><td>11389</td><td>false</td><td>3</td><td>true</td><td>0</td><td>0</td><td>0</td><td>0</td><td>0</td><td>20-15-KOL-韦思嘉</td><td>0</td><td>0</td><td>NaN</td></tr><tr><td>11394</td><td>false</td><td>3</td><td>true</td><td>0</td><td>0</td><td>0</td><td>0</td><td>0</td><td>20-15-KOL-韦思嘉</td><td>0</td><td>0</td><td>NaN</td></tr><tr><td>11446</td><td>false</td><td>3</td><td>true</td><td>0</td><td>0</td><td>0</td><td>0</td><td>0</td><td>20-15-KOL-韦思嘉</td><td>0</td><td>0</td><td>NaN</td></tr><tr><td>11522</td><td>false</td><td>0</td><td>false</td><td>0</td><td>0</td><td>0</td><td>0</td><td>0</td><td>default_code</td><td>0</td><td>0</td><td>NaN</td></tr><tr><td>11578</td><td>false</td><td>3</td><td>true</td><td>0</td><td>0</td><td>0</td><td>0</td><td>0</td><td>default_code</td><td>0</td><td>0</td><td>NaN</td></tr><tr><td>11910</td><td>false</td><td>3</td><td>true</td><td>0</td><td>0</td><td>0</td><td>0</td><td>0</td><td>default_code</td><td>0</td><td>0</td><td>NaN</td></tr><tr><td>12048</td><td>false</td><td>16</td><td>true</td><td>0</td><td>0</td><td>0</td><td>0</td><td>0</td><td>一只马丁靴</td><td>0</td><td>0</td><td>NaN</td></tr><tr><td>12078</td><td>false</td><td>3</td><td>true</td><td>0</td><td>0</td><td>0</td><td>0</td><td>0</td><td>default_code</td><td>0</td><td>0</td><td>NaN</td></tr><tr><td>12099</td><td>false</td><td>3</td><td>true</td><td>0</td><td>0</td><td>0</td><td>0</td><td>0</td><td>20-15-KOL-韦思嘉</td><td>0</td><td>0</td><td>NaN</td></tr><tr><td>12488</td><td>false</td><td>3</td><td>true</td><td>0</td><td>0</td><td>0</td><td>0</td><td>0</td><td>一只马丁靴</td><td>0</td><td>0</td><td>NaN</td></tr><tr><td>12611</td><td>false</td><td>3</td><td>true</td><td>0</td><td>0</td><td>0</td><td>0</td><td>0</td><td>20-04-KOL-gu_古妍</td><td>0</td><td>0</td><td>NaN</td></tr></table>\""
      ]
     },
     "metadata": {},
     "output_type": "display_data"
    }
   ],
   "source": [
    "puts_header \"用户刺激\"\n",
    "\n",
    "data = group[\"已育\"].map do |x|\n",
    "  osize = x.orders.product.size\n",
    " [\n",
    "    x.id,\n",
    "    x.user_member_subscribe.end_time < Time.now(),\n",
    "    x.user_member_subscribe.subscribe_qty,\n",
    "    x.valid,\n",
    "    x.property.v0.count,\n",
    "    x.property.v1.count,\n",
    "    x.property.v2.count,\n",
    "    x.property.v3.count,\n",
    "    x.property.staff.count,\n",
    "    x.source,\n",
    "    osize,\n",
    "    osize>0 ? x.orders.product.order(:expect_day).last.expect_day : 0,\n",
    "    (x.purchase_rate * 100).round(2),\n",
    " ]\n",
    "end.filter do |x| x[8]==0  and  (x[11]==0 or (Time.now() - x[11] > 30.days))  end\n",
    "\n",
    "table = data.clone\n",
    "table.unshift %w[ user_id end qty valid v0 v1 v2 v3 staff source orders last_orders rate  ]\n",
    "puts_table table "
   ]
  },
  {
   "cell_type": "code",
   "execution_count": 145,
   "metadata": {},
   "outputs": [
    {
     "name": "stdout",
     "output_type": "stream",
     "text": [
      "16\n"
     ]
    },
    {
     "data": {
      "text/html": [
       "<table><tr><td>user_id</td><td>end</td><td>qty</td><td>valid</td><td>v0</td><td>v1</td><td>v2</td><td>v3</td><td>staff</td><td>source</td><td>orders</td><td>last_orders</td><td>rate</td></tr><tr><td>5139</td><td>false</td><td>0</td><td>false</td><td>0</td><td>0</td><td>0</td><td>1</td><td>0</td><td>一只马丁靴</td><td>2</td><td>2020-02-29 00:00:00 UTC</td><td>33.33</td></tr><tr><td>6180</td><td>true</td><td>0</td><td>false</td><td>0</td><td>0</td><td>0</td><td>0</td><td>0</td><td>行政联盟送季卡</td><td>1</td><td>2020-01-14 00:00:00 UTC</td><td>NaN</td></tr><tr><td>6479</td><td>true</td><td>0</td><td>false</td><td>0</td><td>0</td><td>0</td><td>0</td><td>0</td><td>default_code</td><td>1</td><td>2020-01-04 00:00:00 UTC</td><td>NaN</td></tr><tr><td>6770</td><td>true</td><td>0</td><td>false</td><td>0</td><td>0</td><td>0</td><td>0</td><td>0</td><td>default_code</td><td>0</td><td>0</td><td>NaN</td></tr><tr><td>7063</td><td>true</td><td>0</td><td>false</td><td>0</td><td>0</td><td>0</td><td>0</td><td>0</td><td>default_code</td><td>1</td><td>2020-01-12 00:00:00 UTC</td><td>NaN</td></tr><tr><td>7295</td><td>true</td><td>0</td><td>false</td><td>0</td><td>0</td><td>0</td><td>0</td><td>0</td><td>default_code</td><td>1</td><td>2020-01-15 00:00:00 UTC</td><td>NaN</td></tr><tr><td>7303</td><td>true</td><td>0</td><td>false</td><td>0</td><td>0</td><td>0</td><td>0</td><td>0</td><td>default_code</td><td>1</td><td>2020-01-15 00:00:00 UTC</td><td>NaN</td></tr><tr><td>7545</td><td>true</td><td>0</td><td>false</td><td>0</td><td>0</td><td>0</td><td>0</td><td>0</td><td>default_code</td><td>1</td><td>2020-01-13 00:00:00 UTC</td><td>NaN</td></tr><tr><td>7588</td><td>true</td><td>0</td><td>false</td><td>0</td><td>0</td><td>0</td><td>0</td><td>0</td><td>default_code</td><td>0</td><td>0</td><td>NaN</td></tr><tr><td>7822</td><td>true</td><td>0</td><td>false</td><td>0</td><td>0</td><td>0</td><td>0</td><td>0</td><td>default_code</td><td>1</td><td>2020-02-15 00:00:00 UTC</td><td>NaN</td></tr><tr><td>7974</td><td>true</td><td>0</td><td>false</td><td>0</td><td>0</td><td>0</td><td>0</td><td>0</td><td>default_PC</td><td>0</td><td>0</td><td>NaN</td></tr><tr><td>8022</td><td>false</td><td>0</td><td>false</td><td>0</td><td>0</td><td>0</td><td>0</td><td>0</td><td>default_code</td><td>0</td><td>0</td><td>NaN</td></tr><tr><td>9250</td><td>false</td><td>0</td><td>false</td><td>0</td><td>0</td><td>0</td><td>0</td><td>0</td><td>小双双jodie</td><td>0</td><td>0</td><td>NaN</td></tr><tr><td>9651</td><td>false</td><td>0</td><td>false</td><td>0</td><td>0</td><td>0</td><td>0</td><td>0</td><td>little nothing</td><td>0</td><td>0</td><td>NaN</td></tr><tr><td>11264</td><td>false</td><td>0</td><td>false</td><td>0</td><td>0</td><td>0</td><td>0</td><td>0</td><td>20-15-KOL-韦思嘉</td><td>0</td><td>0</td><td>NaN</td></tr><tr><td>11522</td><td>false</td><td>0</td><td>false</td><td>0</td><td>0</td><td>0</td><td>0</td><td>0</td><td>default_code</td><td>0</td><td>0</td><td>NaN</td></tr></table>"
      ],
      "text/plain": [
       "\"<table><tr><td>user_id</td><td>end</td><td>qty</td><td>valid</td><td>v0</td><td>v1</td><td>v2</td><td>v3</td><td>staff</td><td>source</td><td>orders</td><td>last_orders</td><td>rate</td></tr><tr><td>5139</td><td>false</td><td>0</td><td>false</td><td>0</td><td>0</td><td>0</td><td>1</td><td>0</td><td>一只马丁靴</td><td>2</td><td>2020-02-29 00:00:00 UTC</td><td>33.33</td></tr><tr><td>6180</td><td>true</td><td>0</td><td>false</td><td>0</td><td>0</td><td>0</td><td>0</td><td>0</td><td>行政联盟送季卡</td><td>1</td><td>2020-01-14 00:00:00 UTC</td><td>NaN</td></tr><tr><td>6479</td><td>true</td><td>0</td><td>false</td><td>0</td><td>0</td><td>0</td><td>0</td><td>0</td><td>default_code</td><td>1</td><td>2020-01-04 00:00:00 UTC</td><td>NaN</td></tr><tr><td>6770</td><td>true</td><td>0</td><td>false</td><td>0</td><td>0</td><td>0</td><td>0</td><td>0</td><td>default_code</td><td>0</td><td>0</td><td>NaN</td></tr><tr><td>7063</td><td>true</td><td>0</td><td>false</td><td>0</td><td>0</td><td>0</td><td>0</td><td>0</td><td>default_code</td><td>1</td><td>2020-01-12 00:00:00 UTC</td><td>NaN</td></tr><tr><td>7295</td><td>true</td><td>0</td><td>false</td><td>0</td><td>0</td><td>0</td><td>0</td><td>0</td><td>default_code</td><td>1</td><td>2020-01-15 00:00:00 UTC</td><td>NaN</td></tr><tr><td>7303</td><td>true</td><td>0</td><td>false</td><td>0</td><td>0</td><td>0</td><td>0</td><td>0</td><td>default_code</td><td>1</td><td>2020-01-15 00:00:00 UTC</td><td>NaN</td></tr><tr><td>7545</td><td>true</td><td>0</td><td>false</td><td>0</td><td>0</td><td>0</td><td>0</td><td>0</td><td>default_code</td><td>1</td><td>2020-01-13 00:00:00 UTC</td><td>NaN</td></tr><tr><td>7588</td><td>true</td><td>0</td><td>false</td><td>0</td><td>0</td><td>0</td><td>0</td><td>0</td><td>default_code</td><td>0</td><td>0</td><td>NaN</td></tr><tr><td>7822</td><td>true</td><td>0</td><td>false</td><td>0</td><td>0</td><td>0</td><td>0</td><td>0</td><td>default_code</td><td>1</td><td>2020-02-15 00:00:00 UTC</td><td>NaN</td></tr><tr><td>7974</td><td>true</td><td>0</td><td>false</td><td>0</td><td>0</td><td>0</td><td>0</td><td>0</td><td>default_PC</td><td>0</td><td>0</td><td>NaN</td></tr><tr><td>8022</td><td>false</td><td>0</td><td>false</td><td>0</td><td>0</td><td>0</td><td>0</td><td>0</td><td>default_code</td><td>0</td><td>0</td><td>NaN</td></tr><tr><td>9250</td><td>false</td><td>0</td><td>false</td><td>0</td><td>0</td><td>0</td><td>0</td><td>0</td><td>小双双jodie</td><td>0</td><td>0</td><td>NaN</td></tr><tr><td>9651</td><td>false</td><td>0</td><td>false</td><td>0</td><td>0</td><td>0</td><td>0</td><td>0</td><td>little nothing</td><td>0</td><td>0</td><td>NaN</td></tr><tr><td>11264</td><td>false</td><td>0</td><td>false</td><td>0</td><td>0</td><td>0</td><td>0</td><td>0</td><td>20-15-KOL-韦思嘉</td><td>0</td><td>0</td><td>NaN</td></tr><tr><td>11522</td><td>false</td><td>0</td><td>false</td><td>0</td><td>0</td><td>0</td><td>0</td><td>0</td><td>default_code</td><td>0</td><td>0</td><td>NaN</td></tr></table>\""
      ]
     },
     "metadata": {},
     "output_type": "display_data"
    },
    {
     "name": "stdout",
     "output_type": "stream",
     "text": [
      "user_id\n",
      "5139\n",
      "6180\n",
      "6479\n",
      "6770\n",
      "7063\n",
      "7295\n",
      "7303\n",
      "7545\n",
      "7588\n",
      "7822\n",
      "7974\n",
      "8022\n",
      "9250\n",
      "9651\n",
      "11264\n",
      "11522\n"
     ]
    }
   ],
   "source": [
    "#分类 v1,v2,v3 \n",
    "# - 过期 ：延长 + 短信\n",
    "# - 未过期 ：短信\n",
    "\n",
    "# 分类 未定盒 + 非一只马丁靴 \n",
    "\n",
    "\n",
    "# 次数为0\n",
    "table = data.filter do |x|  \n",
    "  if not(x[4]==1) and not((x[4]+x[5]+x[6]+x[7]==0)and(x[9]==\"一只马丁靴\" or x[9]==\"20-03-女神节-未购卡注册用户-申请通过-100\" or x[9]==\"20-03-同程艺龙员工-申请制通过-200\")) and (x[12].nan? ? true : x[12]>=20) then\n",
    "      x[2]==0\n",
    "  else\n",
    "      false\n",
    "  end\n",
    "end.clone \n",
    "puts table.size\n",
    "table.unshift %w[ user_id end qty valid v0 v1 v2 v3 staff source orders last_orders rate  ]\n",
    "puts_table table\n",
    "table.each do |x| puts x[0] end; nil"
   ]
  },
  {
   "cell_type": "code",
   "execution_count": 146,
   "metadata": {},
   "outputs": [
    {
     "name": "stdout",
     "output_type": "stream",
     "text": [
      "41\n"
     ]
    },
    {
     "data": {
      "text/html": [
       "<table><tr><td>user_id</td><td>end</td><td>qty</td><td>valid</td><td>v0</td><td>v1</td><td>v2</td><td>v3</td><td>staff</td><td>source</td><td>orders</td><td>last_orders</td><td>rate</td></tr><tr><td>241</td><td>true</td><td>2</td><td>false</td><td>0</td><td>0</td><td>1</td><td>0</td><td>0</td><td>default_code</td><td>3</td><td>2019-12-02 00:00:00 UTC</td><td>28.0</td></tr><tr><td>264</td><td>true</td><td>3</td><td>false</td><td>0</td><td>0</td><td>0</td><td>0</td><td>0</td><td>default_code</td><td>0</td><td>0</td><td>NaN</td></tr><tr><td>783</td><td>true</td><td>6</td><td>false</td><td>0</td><td>0</td><td>0</td><td>0</td><td>0</td><td>default_code</td><td>0</td><td>0</td><td>NaN</td></tr><tr><td>1103</td><td>true</td><td>2</td><td>false</td><td>0</td><td>0</td><td>0</td><td>1</td><td>0</td><td>default_code</td><td>2</td><td>2019-10-28 00:00:00 UTC</td><td>60.0</td></tr><tr><td>1169</td><td>true</td><td>3</td><td>false</td><td>0</td><td>0</td><td>0</td><td>0</td><td>0</td><td>default_code</td><td>0</td><td>0</td><td>NaN</td></tr><tr><td>1231</td><td>true</td><td>1</td><td>false</td><td>0</td><td>0</td><td>0</td><td>1</td><td>0</td><td>default_code</td><td>3</td><td>2020-01-15 00:00:00 UTC</td><td>35.29</td></tr><tr><td>1347</td><td>true</td><td>3</td><td>false</td><td>0</td><td>0</td><td>0</td><td>0</td><td>0</td><td>default_code</td><td>0</td><td>0</td><td>NaN</td></tr><tr><td>1724</td><td>true</td><td>2</td><td>false</td><td>0</td><td>0</td><td>0</td><td>1</td><td>0</td><td>default_code</td><td>2</td><td>2020-01-08 00:00:00 UTC</td><td>42.86</td></tr><tr><td>2005</td><td>true</td><td>2</td><td>false</td><td>0</td><td>0</td><td>0</td><td>1</td><td>0</td><td>default_code</td><td>2</td><td>2019-12-17 00:00:00 UTC</td><td>33.33</td></tr><tr><td>2097</td><td>true</td><td>3</td><td>false</td><td>0</td><td>0</td><td>0</td><td>0</td><td>0</td><td>ShouQiYueChe</td><td>0</td><td>0</td><td>NaN</td></tr><tr><td>2176</td><td>true</td><td>2</td><td>false</td><td>0</td><td>0</td><td>1</td><td>0</td><td>0</td><td>小咩社群</td><td>3</td><td>2020-02-28 00:00:00 UTC</td><td>25.0</td></tr><tr><td>2194</td><td>true</td><td>3</td><td>false</td><td>0</td><td>0</td><td>0</td><td>0</td><td>0</td><td>小咩社群</td><td>0</td><td>0</td><td>NaN</td></tr><tr><td>2230</td><td>true</td><td>1</td><td>false</td><td>0</td><td>0</td><td>1</td><td>0</td><td>0</td><td>小咩社群</td><td>3</td><td>2020-02-26 00:00:00 UTC</td><td>25.0</td></tr><tr><td>2249</td><td>true</td><td>3</td><td>false</td><td>0</td><td>0</td><td>0</td><td>0</td><td>0</td><td>小咩社群</td><td>0</td><td>0</td><td>NaN</td></tr><tr><td>2250</td><td>true</td><td>3</td><td>false</td><td>0</td><td>0</td><td>0</td><td>0</td><td>0</td><td>小咩社群</td><td>0</td><td>0</td><td>NaN</td></tr><tr><td>2291</td><td>true</td><td>2</td><td>false</td><td>0</td><td>0</td><td>0</td><td>1</td><td>0</td><td>YhouseAPP</td><td>2</td><td>2020-01-15 00:00:00 UTC</td><td>33.33</td></tr><tr><td>2298</td><td>true</td><td>2</td><td>false</td><td>0</td><td>0</td><td>1</td><td>0</td><td>0</td><td>小咩社群</td><td>3</td><td>2020-02-27 00:00:00 UTC</td><td>22.73</td></tr><tr><td>2445</td><td>true</td><td>3</td><td>false</td><td>0</td><td>0</td><td>0</td><td>0</td><td>0</td><td>default_code</td><td>0</td><td>0</td><td>NaN</td></tr><tr><td>2470</td><td>true</td><td>2</td><td>false</td><td>0</td><td>0</td><td>0</td><td>1</td><td>0</td><td>default_code</td><td>1</td><td>2019-12-14 00:00:00 UTC</td><td>50.0</td></tr><tr><td>2615</td><td>true</td><td>3</td><td>false</td><td>0</td><td>0</td><td>0</td><td>0</td><td>0</td><td>tuantuan</td><td>0</td><td>0</td><td>NaN</td></tr><tr><td>4725</td><td>true</td><td>3</td><td>false</td><td>0</td><td>0</td><td>0</td><td>0</td><td>0</td><td>default_code</td><td>1</td><td>2020-02-15 00:00:00 UTC</td><td>NaN</td></tr><tr><td>5264</td><td>true</td><td>3</td><td>false</td><td>0</td><td>0</td><td>0</td><td>0</td><td>0</td><td>default_code</td><td>0</td><td>0</td><td>NaN</td></tr><tr><td>5484</td><td>true</td><td>3</td><td>false</td><td>0</td><td>0</td><td>0</td><td>0</td><td>0</td><td>default_code</td><td>0</td><td>0</td><td>NaN</td></tr><tr><td>6143</td><td>true</td><td>3</td><td>false</td><td>0</td><td>0</td><td>0</td><td>0</td><td>0</td><td>行政联盟送季卡</td><td>0</td><td>0</td><td>NaN</td></tr><tr><td>6164</td><td>true</td><td>3</td><td>false</td><td>0</td><td>0</td><td>0</td><td>0</td><td>0</td><td>default_code</td><td>0</td><td>0</td><td>NaN</td></tr><tr><td>6180</td><td>true</td><td>0</td><td>false</td><td>0</td><td>0</td><td>0</td><td>0</td><td>0</td><td>行政联盟送季卡</td><td>1</td><td>2020-01-14 00:00:00 UTC</td><td>NaN</td></tr><tr><td>6479</td><td>true</td><td>0</td><td>false</td><td>0</td><td>0</td><td>0</td><td>0</td><td>0</td><td>default_code</td><td>1</td><td>2020-01-04 00:00:00 UTC</td><td>NaN</td></tr><tr><td>6723</td><td>true</td><td>3</td><td>false</td><td>0</td><td>0</td><td>0</td><td>0</td><td>0</td><td>员工卡-爱悦集1批 600个</td><td>0</td><td>0</td><td>NaN</td></tr><tr><td>6770</td><td>true</td><td>0</td><td>false</td><td>0</td><td>0</td><td>0</td><td>0</td><td>0</td><td>default_code</td><td>0</td><td>0</td><td>NaN</td></tr><tr><td>7063</td><td>true</td><td>0</td><td>false</td><td>0</td><td>0</td><td>0</td><td>0</td><td>0</td><td>default_code</td><td>1</td><td>2020-01-12 00:00:00 UTC</td><td>NaN</td></tr><tr><td>7295</td><td>true</td><td>0</td><td>false</td><td>0</td><td>0</td><td>0</td><td>0</td><td>0</td><td>default_code</td><td>1</td><td>2020-01-15 00:00:00 UTC</td><td>NaN</td></tr><tr><td>7303</td><td>true</td><td>0</td><td>false</td><td>0</td><td>0</td><td>0</td><td>0</td><td>0</td><td>default_code</td><td>1</td><td>2020-01-15 00:00:00 UTC</td><td>NaN</td></tr><tr><td>7313</td><td>true</td><td>3</td><td>false</td><td>0</td><td>0</td><td>0</td><td>0</td><td>0</td><td>default_code</td><td>1</td><td>2020-02-09 00:00:00 UTC</td><td>NaN</td></tr><tr><td>7545</td><td>true</td><td>0</td><td>false</td><td>0</td><td>0</td><td>0</td><td>0</td><td>0</td><td>default_code</td><td>1</td><td>2020-01-13 00:00:00 UTC</td><td>NaN</td></tr><tr><td>7588</td><td>true</td><td>0</td><td>false</td><td>0</td><td>0</td><td>0</td><td>0</td><td>0</td><td>default_code</td><td>0</td><td>0</td><td>NaN</td></tr><tr><td>7729</td><td>true</td><td>3</td><td>false</td><td>0</td><td>0</td><td>0</td><td>0</td><td>0</td><td>default_code</td><td>0</td><td>0</td><td>NaN</td></tr><tr><td>7753</td><td>true</td><td>3</td><td>false</td><td>0</td><td>0</td><td>0</td><td>0</td><td>0</td><td>default_code</td><td>0</td><td>0</td><td>NaN</td></tr><tr><td>7822</td><td>true</td><td>0</td><td>false</td><td>0</td><td>0</td><td>0</td><td>0</td><td>0</td><td>default_code</td><td>1</td><td>2020-02-15 00:00:00 UTC</td><td>NaN</td></tr><tr><td>7957</td><td>true</td><td>3</td><td>false</td><td>0</td><td>0</td><td>0</td><td>0</td><td>0</td><td>JISHENG_VIP</td><td>0</td><td>0</td><td>NaN</td></tr><tr><td>7974</td><td>true</td><td>0</td><td>false</td><td>0</td><td>0</td><td>0</td><td>0</td><td>0</td><td>default_PC</td><td>0</td><td>0</td><td>NaN</td></tr><tr><td>8017</td><td>true</td><td>3</td><td>false</td><td>0</td><td>0</td><td>0</td><td>0</td><td>0</td><td>default_code</td><td>0</td><td>0</td><td>NaN</td></tr></table>"
      ],
      "text/plain": [
       "\"<table><tr><td>user_id</td><td>end</td><td>qty</td><td>valid</td><td>v0</td><td>v1</td><td>v2</td><td>v3</td><td>staff</td><td>source</td><td>orders</td><td>last_orders</td><td>rate</td></tr><tr><td>241</td><td>true</td><td>2</td><td>false</td><td>0</td><td>0</td><td>1</td><td>0</td><td>0</td><td>default_code</td><td>3</td><td>2019-12-02 00:00:00 UTC</td><td>28.0</td></tr><tr><td>264</td><td>true</td><td>3</td><td>false</td><td>0</td><td>0</td><td>0</td><td>0</td><td>0</td><td>default_code</td><td>0</td><td>0</td><td>NaN</td></tr><tr><td>783</td><td>true</td><td>6</td><td>false</td><td>0</td><td>0</td><td>0</td><td>0</td><td>0</td><td>default_code</td><td>0</td><td>0</td><td>NaN</td></tr><tr><td>1103</td><td>true</td><td>2</td><td>false</td><td>0</td><td>0</td><td>0</td><td>1</td><td>0</td><td>default_code</td><td>2</td><td>2019-10-28 00:00:00 UTC</td><td>60.0</td></tr><tr><td>1169</td><td>true</td><td>3</td><td>false</td><td>0</td><td>0</td><td>0</td><td>0</td><td>0</td><td>default_code</td><td>0</td><td>0</td><td>NaN</td></tr><tr><td>1231</td><td>true</td><td>1</td><td>false</td><td>0</td><td>0</td><td>0</td><td>1</td><td>0</td><td>default_code</td><td>3</td><td>2020-01-15 00:00:00 UTC</td><td>35.29</td></tr><tr><td>1347</td><td>true</td><td>3</td><td>false</td><td>0</td><td>0</td><td>0</td><td>0</td><td>0</td><td>default_code</td><td>0</td><td>0</td><td>NaN</td></tr><tr><td>1724</td><td>true</td><td>2</td><td>false</td><td>0</td><td>0</td><td>0</td><td>1</td><td>0</td><td>default_code</td><td>2</td><td>2020-01-08 00:00:00 UTC</td><td>42.86</td></tr><tr><td>2005</td><td>true</td><td>2</td><td>false</td><td>0</td><td>0</td><td>0</td><td>1</td><td>0</td><td>default_code</td><td>2</td><td>2019-12-17 00:00:00 UTC</td><td>33.33</td></tr><tr><td>2097</td><td>true</td><td>3</td><td>false</td><td>0</td><td>0</td><td>0</td><td>0</td><td>0</td><td>ShouQiYueChe</td><td>0</td><td>0</td><td>NaN</td></tr><tr><td>2176</td><td>true</td><td>2</td><td>false</td><td>0</td><td>0</td><td>1</td><td>0</td><td>0</td><td>小咩社群</td><td>3</td><td>2020-02-28 00:00:00 UTC</td><td>25.0</td></tr><tr><td>2194</td><td>true</td><td>3</td><td>false</td><td>0</td><td>0</td><td>0</td><td>0</td><td>0</td><td>小咩社群</td><td>0</td><td>0</td><td>NaN</td></tr><tr><td>2230</td><td>true</td><td>1</td><td>false</td><td>0</td><td>0</td><td>1</td><td>0</td><td>0</td><td>小咩社群</td><td>3</td><td>2020-02-26 00:00:00 UTC</td><td>25.0</td></tr><tr><td>2249</td><td>true</td><td>3</td><td>false</td><td>0</td><td>0</td><td>0</td><td>0</td><td>0</td><td>小咩社群</td><td>0</td><td>0</td><td>NaN</td></tr><tr><td>2250</td><td>true</td><td>3</td><td>false</td><td>0</td><td>0</td><td>0</td><td>0</td><td>0</td><td>小咩社群</td><td>0</td><td>0</td><td>NaN</td></tr><tr><td>2291</td><td>true</td><td>2</td><td>false</td><td>0</td><td>0</td><td>0</td><td>1</td><td>0</td><td>YhouseAPP</td><td>2</td><td>2020-01-15 00:00:00 UTC</td><td>33.33</td></tr><tr><td>2298</td><td>true</td><td>2</td><td>false</td><td>0</td><td>0</td><td>1</td><td>0</td><td>0</td><td>小咩社群</td><td>3</td><td>2020-02-27 00:00:00 UTC</td><td>22.73</td></tr><tr><td>2445</td><td>true</td><td>3</td><td>false</td><td>0</td><td>0</td><td>0</td><td>0</td><td>0</td><td>default_code</td><td>0</td><td>0</td><td>NaN</td></tr><tr><td>2470</td><td>true</td><td>2</td><td>false</td><td>0</td><td>0</td><td>0</td><td>1</td><td>0</td><td>default_code</td><td>1</td><td>2019-12-14 00:00:00 UTC</td><td>50.0</td></tr><tr><td>2615</td><td>true</td><td>3</td><td>false</td><td>0</td><td>0</td><td>0</td><td>0</td><td>0</td><td>tuantuan</td><td>0</td><td>0</td><td>NaN</td></tr><tr><td>4725</td><td>true</td><td>3</td><td>false</td><td>0</td><td>0</td><td>0</td><td>0</td><td>0</td><td>default_code</td><td>1</td><td>2020-02-15 00:00:00 UTC</td><td>NaN</td></tr><tr><td>5264</td><td>true</td><td>3</td><td>false</td><td>0</td><td>0</td><td>0</td><td>0</td><td>0</td><td>default_code</td><td>0</td><td>0</td><td>NaN</td></tr><tr><td>5484</td><td>true</td><td>3</td><td>false</td><td>0</td><td>0</td><td>0</td><td>0</td><td>0</td><td>default_code</td><td>0</td><td>0</td><td>NaN</td></tr><tr><td>6143</td><td>true</td><td>3</td><td>false</td><td>0</td><td>0</td><td>0</td><td>0</td><td>0</td><td>行政联盟送季卡</td><td>0</td><td>0</td><td>NaN</td></tr><tr><td>6164</td><td>true</td><td>3</td><td>false</td><td>0</td><td>0</td><td>0</td><td>0</td><td>0</td><td>default_code</td><td>0</td><td>0</td><td>NaN</td></tr><tr><td>6180</td><td>true</td><td>0</td><td>false</td><td>0</td><td>0</td><td>0</td><td>0</td><td>0</td><td>行政联盟送季卡</td><td>1</td><td>2020-01-14 00:00:00 UTC</td><td>NaN</td></tr><tr><td>6479</td><td>true</td><td>0</td><td>false</td><td>0</td><td>0</td><td>0</td><td>0</td><td>0</td><td>default_code</td><td>1</td><td>2020-01-04 00:00:00 UTC</td><td>NaN</td></tr><tr><td>6723</td><td>true</td><td>3</td><td>false</td><td>0</td><td>0</td><td>0</td><td>0</td><td>0</td><td>员工卡-爱悦集1批 600个</td><td>0</td><td>0</td><td>NaN</td></tr><tr><td>6770</td><td>true</td><td>0</td><td>false</td><td>0</td><td>0</td><td>0</td><td>0</td><td>0</td><td>default_code</td><td>0</td><td>0</td><td>NaN</td></tr><tr><td>7063</td><td>true</td><td>0</td><td>false</td><td>0</td><td>0</td><td>0</td><td>0</td><td>0</td><td>default_code</td><td>1</td><td>2020-01-12 00:00:00 UTC</td><td>NaN</td></tr><tr><td>7295</td><td>true</td><td>0</td><td>false</td><td>0</td><td>0</td><td>0</td><td>0</td><td>0</td><td>default_code</td><td>1</td><td>2020-01-15 00:00:00 UTC</td><td>NaN</td></tr><tr><td>7303</td><td>true</td><td>0</td><td>false</td><td>0</td><td>0</td><td>0</td><td>0</td><td>0</td><td>default_code</td><td>1</td><td>2020-01-15 00:00:00 UTC</td><td>NaN</td></tr><tr><td>7313</td><td>true</td><td>3</td><td>false</td><td>0</td><td>0</td><td>0</td><td>0</td><td>0</td><td>default_code</td><td>1</td><td>2020-02-09 00:00:00 UTC</td><td>NaN</td></tr><tr><td>7545</td><td>true</td><td>0</td><td>false</td><td>0</td><td>0</td><td>0</td><td>0</td><td>0</td><td>default_code</td><td>1</td><td>2020-01-13 00:00:00 UTC</td><td>NaN</td></tr><tr><td>7588</td><td>true</td><td>0</td><td>false</td><td>0</td><td>0</td><td>0</td><td>0</td><td>0</td><td>default_code</td><td>0</td><td>0</td><td>NaN</td></tr><tr><td>7729</td><td>true</td><td>3</td><td>false</td><td>0</td><td>0</td><td>0</td><td>0</td><td>0</td><td>default_code</td><td>0</td><td>0</td><td>NaN</td></tr><tr><td>7753</td><td>true</td><td>3</td><td>false</td><td>0</td><td>0</td><td>0</td><td>0</td><td>0</td><td>default_code</td><td>0</td><td>0</td><td>NaN</td></tr><tr><td>7822</td><td>true</td><td>0</td><td>false</td><td>0</td><td>0</td><td>0</td><td>0</td><td>0</td><td>default_code</td><td>1</td><td>2020-02-15 00:00:00 UTC</td><td>NaN</td></tr><tr><td>7957</td><td>true</td><td>3</td><td>false</td><td>0</td><td>0</td><td>0</td><td>0</td><td>0</td><td>JISHENG_VIP</td><td>0</td><td>0</td><td>NaN</td></tr><tr><td>7974</td><td>true</td><td>0</td><td>false</td><td>0</td><td>0</td><td>0</td><td>0</td><td>0</td><td>default_PC</td><td>0</td><td>0</td><td>NaN</td></tr><tr><td>8017</td><td>true</td><td>3</td><td>false</td><td>0</td><td>0</td><td>0</td><td>0</td><td>0</td><td>default_code</td><td>0</td><td>0</td><td>NaN</td></tr></table>\""
      ]
     },
     "metadata": {},
     "output_type": "display_data"
    },
    {
     "name": "stdout",
     "output_type": "stream",
     "text": [
      "user_id\n",
      "241\n",
      "264\n",
      "783\n",
      "1103\n",
      "1169\n",
      "1231\n",
      "1347\n",
      "1724\n",
      "2005\n",
      "2097\n",
      "2176\n",
      "2194\n",
      "2230\n",
      "2249\n",
      "2250\n",
      "2291\n",
      "2298\n",
      "2445\n",
      "2470\n",
      "2615\n",
      "4725\n",
      "5264\n",
      "5484\n",
      "6143\n",
      "6164\n",
      "6180\n",
      "6479\n",
      "6723\n",
      "6770\n",
      "7063\n",
      "7295\n",
      "7303\n",
      "7313\n",
      "7545\n",
      "7588\n",
      "7729\n",
      "7753\n",
      "7822\n",
      "7957\n",
      "7974\n",
      "8017\n"
     ]
    }
   ],
   "source": [
    "#分类 v1,v2,v3 \n",
    "# - 过期 ：延长 + 短信\n",
    "# - 未过期 ：短信\n",
    "\n",
    "# 分类 未定盒 + 非一只马丁靴 \n",
    "\n",
    "\n",
    "# 过期\n",
    "table = data.filter do |x|  \n",
    "  if not(x[4]==1) and not((x[4]+x[5]+x[6]+x[7]==0)and(x[9]==\"一只马丁靴\" or x[9]==\"20-03-女神节-未购卡注册用户-申请通过-100\" or x[9]==\"20-03-同程艺龙员工-申请制通过-200\")) and (x[12].nan? ? true : x[12]>=20) then\n",
    "      x[1]\n",
    "  else\n",
    "      false\n",
    "  end\n",
    "end.clone \n",
    "puts table.size\n",
    "table.unshift %w[ user_id end qty valid v0 v1 v2 v3 staff source orders last_orders rate  ]\n",
    "puts_table table\n",
    "table.each do |x| puts x[0] end; nil"
   ]
  },
  {
   "cell_type": "code",
   "execution_count": 147,
   "metadata": {},
   "outputs": [
    {
     "name": "stdout",
     "output_type": "stream",
     "text": [
      "143\n"
     ]
    },
    {
     "data": {
      "text/html": [
       "<table><tr><td>user_id</td><td>end</td><td>qty</td><td>valid</td><td>v0</td><td>v1</td><td>v2</td><td>v3</td><td>staff</td><td>source</td><td>orders</td><td>last_orders</td><td>rate</td></tr><tr><td>145</td><td>false</td><td>19</td><td>true</td><td>0</td><td>0</td><td>1</td><td>0</td><td>0</td><td>default_code</td><td>2</td><td>2020-01-14 00:00:00 UTC</td><td>23.08</td></tr><tr><td>241</td><td>true</td><td>2</td><td>false</td><td>0</td><td>0</td><td>1</td><td>0</td><td>0</td><td>default_code</td><td>3</td><td>2019-12-02 00:00:00 UTC</td><td>28.0</td></tr><tr><td>264</td><td>true</td><td>3</td><td>false</td><td>0</td><td>0</td><td>0</td><td>0</td><td>0</td><td>default_code</td><td>0</td><td>0</td><td>NaN</td></tr><tr><td>278</td><td>false</td><td>10</td><td>true</td><td>0</td><td>0</td><td>1</td><td>0</td><td>0</td><td>default_code</td><td>6</td><td>2020-01-10 00:00:00 UTC</td><td>23.08</td></tr><tr><td>370</td><td>false</td><td>16</td><td>true</td><td>0</td><td>0</td><td>0</td><td>0</td><td>0</td><td>default_code</td><td>0</td><td>0</td><td>NaN</td></tr><tr><td>516</td><td>false</td><td>12</td><td>true</td><td>0</td><td>0</td><td>0</td><td>1</td><td>0</td><td>default_code</td><td>5</td><td>2020-02-28 00:00:00 UTC</td><td>34.29</td></tr><tr><td>783</td><td>true</td><td>6</td><td>false</td><td>0</td><td>0</td><td>0</td><td>0</td><td>0</td><td>default_code</td><td>0</td><td>0</td><td>NaN</td></tr><tr><td>801</td><td>false</td><td>5</td><td>true</td><td>0</td><td>0</td><td>1</td><td>0</td><td>0</td><td>default_code</td><td>2</td><td>2019-10-31 00:00:00 UTC</td><td>25.0</td></tr><tr><td>831</td><td>false</td><td>4</td><td>true</td><td>0</td><td>0</td><td>1</td><td>0</td><td>0</td><td>default_code</td><td>6</td><td>2020-03-22 00:00:00 UTC</td><td>24.39</td></tr><tr><td>877</td><td>false</td><td>11</td><td>true</td><td>0</td><td>0</td><td>1</td><td>0</td><td>0</td><td>default_code</td><td>5</td><td>2020-01-10 00:00:00 UTC</td><td>23.53</td></tr><tr><td>978</td><td>false</td><td>1</td><td>true</td><td>0</td><td>0</td><td>1</td><td>0</td><td>0</td><td>default_code</td><td>2</td><td>2019-11-22 00:00:00 UTC</td><td>23.08</td></tr><tr><td>1080</td><td>false</td><td>1</td><td>true</td><td>0</td><td>0</td><td>1</td><td>0</td><td>0</td><td>default_code</td><td>3</td><td>2019-12-02 00:00:00 UTC</td><td>26.32</td></tr><tr><td>1103</td><td>true</td><td>2</td><td>false</td><td>0</td><td>0</td><td>0</td><td>1</td><td>0</td><td>default_code</td><td>2</td><td>2019-10-28 00:00:00 UTC</td><td>60.0</td></tr><tr><td>1169</td><td>true</td><td>3</td><td>false</td><td>0</td><td>0</td><td>0</td><td>0</td><td>0</td><td>default_code</td><td>0</td><td>0</td><td>NaN</td></tr><tr><td>1171</td><td>false</td><td>2</td><td>true</td><td>0</td><td>0</td><td>1</td><td>0</td><td>0</td><td>default_code</td><td>1</td><td>2019-11-13 00:00:00 UTC</td><td>25.0</td></tr><tr><td>1231</td><td>true</td><td>1</td><td>false</td><td>0</td><td>0</td><td>0</td><td>1</td><td>0</td><td>default_code</td><td>3</td><td>2020-01-15 00:00:00 UTC</td><td>35.29</td></tr><tr><td>1347</td><td>true</td><td>3</td><td>false</td><td>0</td><td>0</td><td>0</td><td>0</td><td>0</td><td>default_code</td><td>0</td><td>0</td><td>NaN</td></tr><tr><td>1437</td><td>false</td><td>16</td><td>true</td><td>0</td><td>0</td><td>0</td><td>0</td><td>0</td><td>default_code</td><td>0</td><td>0</td><td>NaN</td></tr><tr><td>1724</td><td>true</td><td>2</td><td>false</td><td>0</td><td>0</td><td>0</td><td>1</td><td>0</td><td>default_code</td><td>2</td><td>2020-01-08 00:00:00 UTC</td><td>42.86</td></tr><tr><td>1851</td><td>false</td><td>2</td><td>true</td><td>0</td><td>0</td><td>1</td><td>0</td><td>0</td><td>default_code</td><td>1</td><td>2020-01-14 00:00:00 UTC</td><td>28.57</td></tr><tr><td>2005</td><td>true</td><td>2</td><td>false</td><td>0</td><td>0</td><td>0</td><td>1</td><td>0</td><td>default_code</td><td>2</td><td>2019-12-17 00:00:00 UTC</td><td>33.33</td></tr><tr><td>2095</td><td>false</td><td>3</td><td>true</td><td>0</td><td>0</td><td>0</td><td>1</td><td>0</td><td>default_code</td><td>4</td><td>2020-03-14 00:00:00 UTC</td><td>95.45</td></tr><tr><td>2097</td><td>true</td><td>3</td><td>false</td><td>0</td><td>0</td><td>0</td><td>0</td><td>0</td><td>ShouQiYueChe</td><td>0</td><td>0</td><td>NaN</td></tr><tr><td>2125</td><td>false</td><td>4</td><td>true</td><td>0</td><td>0</td><td>0</td><td>1</td><td>0</td><td>default_code</td><td>3</td><td>2020-02-28 00:00:00 UTC</td><td>38.89</td></tr><tr><td>2176</td><td>true</td><td>2</td><td>false</td><td>0</td><td>0</td><td>1</td><td>0</td><td>0</td><td>小咩社群</td><td>3</td><td>2020-02-28 00:00:00 UTC</td><td>25.0</td></tr><tr><td>2194</td><td>true</td><td>3</td><td>false</td><td>0</td><td>0</td><td>0</td><td>0</td><td>0</td><td>小咩社群</td><td>0</td><td>0</td><td>NaN</td></tr><tr><td>2228</td><td>false</td><td>2</td><td>true</td><td>0</td><td>0</td><td>0</td><td>1</td><td>0</td><td>小咩社群</td><td>1</td><td>2019-12-15 00:00:00 UTC</td><td>71.43</td></tr><tr><td>2230</td><td>true</td><td>1</td><td>false</td><td>0</td><td>0</td><td>1</td><td>0</td><td>0</td><td>小咩社群</td><td>3</td><td>2020-02-26 00:00:00 UTC</td><td>25.0</td></tr><tr><td>2249</td><td>true</td><td>3</td><td>false</td><td>0</td><td>0</td><td>0</td><td>0</td><td>0</td><td>小咩社群</td><td>0</td><td>0</td><td>NaN</td></tr><tr><td>2250</td><td>true</td><td>3</td><td>false</td><td>0</td><td>0</td><td>0</td><td>0</td><td>0</td><td>小咩社群</td><td>0</td><td>0</td><td>NaN</td></tr><tr><td>2252</td><td>false</td><td>1</td><td>true</td><td>0</td><td>0</td><td>1</td><td>0</td><td>0</td><td>小咩社群</td><td>2</td><td>2019-12-25 00:00:00 UTC</td><td>20.0</td></tr><tr><td>2291</td><td>true</td><td>2</td><td>false</td><td>0</td><td>0</td><td>0</td><td>1</td><td>0</td><td>YhouseAPP</td><td>2</td><td>2020-01-15 00:00:00 UTC</td><td>33.33</td></tr><tr><td>2298</td><td>true</td><td>2</td><td>false</td><td>0</td><td>0</td><td>1</td><td>0</td><td>0</td><td>小咩社群</td><td>3</td><td>2020-02-27 00:00:00 UTC</td><td>22.73</td></tr><tr><td>2326</td><td>false</td><td>2</td><td>true</td><td>0</td><td>0</td><td>1</td><td>0</td><td>0</td><td>小咩社群</td><td>1</td><td>2019-12-13 00:00:00 UTC</td><td>28.57</td></tr><tr><td>2445</td><td>true</td><td>3</td><td>false</td><td>0</td><td>0</td><td>0</td><td>0</td><td>0</td><td>default_code</td><td>0</td><td>0</td><td>NaN</td></tr><tr><td>2449</td><td>false</td><td>2</td><td>true</td><td>0</td><td>0</td><td>0</td><td>1</td><td>0</td><td>default_code</td><td>1</td><td>2020-03-09 00:00:00 UTC</td><td>50.0</td></tr><tr><td>2461</td><td>false</td><td>3</td><td>true</td><td>0</td><td>0</td><td>0</td><td>0</td><td>0</td><td>default_code</td><td>0</td><td>0</td><td>NaN</td></tr><tr><td>2470</td><td>true</td><td>2</td><td>false</td><td>0</td><td>0</td><td>0</td><td>1</td><td>0</td><td>default_code</td><td>1</td><td>2019-12-14 00:00:00 UTC</td><td>50.0</td></tr><tr><td>2615</td><td>true</td><td>3</td><td>false</td><td>0</td><td>0</td><td>0</td><td>0</td><td>0</td><td>tuantuan</td><td>0</td><td>0</td><td>NaN</td></tr><tr><td>2627</td><td>false</td><td>2</td><td>true</td><td>0</td><td>0</td><td>1</td><td>0</td><td>0</td><td>default_code</td><td>3</td><td>2020-02-29 00:00:00 UTC</td><td>23.81</td></tr><tr><td>2765</td><td>false</td><td>2</td><td>true</td><td>0</td><td>0</td><td>0</td><td>1</td><td>0</td><td>一只马丁靴</td><td>1</td><td>2019-12-28 00:00:00 UTC</td><td>42.86</td></tr><tr><td>2875</td><td>false</td><td>2</td><td>true</td><td>0</td><td>0</td><td>1</td><td>0</td><td>0</td><td>一只马丁靴</td><td>1</td><td>2019-12-30 00:00:00 UTC</td><td>20.0</td></tr><tr><td>3134</td><td>false</td><td>2</td><td>true</td><td>0</td><td>0</td><td>1</td><td>0</td><td>0</td><td>一只马丁靴</td><td>3</td><td>2020-02-27 00:00:00 UTC</td><td>23.81</td></tr><tr><td>3357</td><td>false</td><td>1</td><td>true</td><td>0</td><td>0</td><td>0</td><td>1</td><td>0</td><td>一只马丁靴</td><td>2</td><td>2020-03-18 00:00:00 UTC</td><td>41.67</td></tr><tr><td>3465</td><td>false</td><td>2</td><td>true</td><td>0</td><td>0</td><td>1</td><td>0</td><td>0</td><td>一只马丁靴</td><td>1</td><td>2020-01-02 00:00:00 UTC</td><td>20.0</td></tr><tr><td>3735</td><td>false</td><td>2</td><td>true</td><td>0</td><td>0</td><td>1</td><td>0</td><td>0</td><td>一只马丁靴</td><td>2</td><td>2020-02-28 00:00:00 UTC</td><td>25.0</td></tr><tr><td>3788</td><td>false</td><td>2</td><td>true</td><td>0</td><td>0</td><td>1</td><td>0</td><td>0</td><td>一只马丁靴</td><td>1</td><td>2019-12-22 00:00:00 UTC</td><td>20.0</td></tr><tr><td>3937</td><td>false</td><td>2</td><td>true</td><td>0</td><td>0</td><td>1</td><td>0</td><td>0</td><td>一只马丁靴</td><td>2</td><td>2020-02-22 00:00:00 UTC</td><td>25.0</td></tr><tr><td>4051</td><td>false</td><td>2</td><td>true</td><td>0</td><td>0</td><td>1</td><td>0</td><td>0</td><td>一只马丁靴</td><td>1</td><td>2019-12-30 00:00:00 UTC</td><td>20.0</td></tr><tr><td colspan='13'>&#8942;</td></tr><tr><td>8022</td><td>false</td><td>0</td><td>false</td><td>0</td><td>0</td><td>0</td><td>0</td><td>0</td><td>default_code</td><td>0</td><td>0</td><td>NaN</td></tr><tr><td>8041</td><td>false</td><td>2</td><td>true</td><td>0</td><td>0</td><td>0</td><td>1</td><td>0</td><td>default_code</td><td>1</td><td>2020-02-22 00:00:00 UTC</td><td>66.67</td></tr><tr><td>8229</td><td>false</td><td>2</td><td>true</td><td>0</td><td>0</td><td>0</td><td>1</td><td>0</td><td>default_code</td><td>1</td><td>2020-02-25 00:00:00 UTC</td><td>33.33</td></tr><tr><td>8664</td><td>false</td><td>3</td><td>true</td><td>0</td><td>0</td><td>0</td><td>1</td><td>0</td><td>小双双jodie</td><td>1</td><td>2020-03-20 00:00:00 UTC</td><td>60.0</td></tr><tr><td>8708</td><td>false</td><td>3</td><td>true</td><td>0</td><td>0</td><td>0</td><td>0</td><td>0</td><td>小双双jodie</td><td>0</td><td>0</td><td>NaN</td></tr><tr><td>8724</td><td>false</td><td>2</td><td>true</td><td>0</td><td>0</td><td>0</td><td>1</td><td>0</td><td>小双双jodie</td><td>1</td><td>2020-03-10 00:00:00 UTC</td><td>40.0</td></tr><tr><td>9125</td><td>false</td><td>3</td><td>true</td><td>0</td><td>0</td><td>0</td><td>0</td><td>0</td><td>小双双jodie</td><td>0</td><td>0</td><td>NaN</td></tr><tr><td>9226</td><td>false</td><td>3</td><td>true</td><td>0</td><td>0</td><td>0</td><td>0</td><td>0</td><td>小双双jodie</td><td>0</td><td>0</td><td>NaN</td></tr><tr><td>9229</td><td>false</td><td>3</td><td>true</td><td>0</td><td>0</td><td>0</td><td>0</td><td>0</td><td>小双双jodie</td><td>0</td><td>0</td><td>NaN</td></tr><tr><td>9250</td><td>false</td><td>0</td><td>false</td><td>0</td><td>0</td><td>0</td><td>0</td><td>0</td><td>小双双jodie</td><td>0</td><td>0</td><td>NaN</td></tr><tr><td>9300</td><td>false</td><td>3</td><td>true</td><td>0</td><td>0</td><td>0</td><td>0</td><td>0</td><td>default_code</td><td>0</td><td>0</td><td>NaN</td></tr><tr><td>9515</td><td>false</td><td>3</td><td>true</td><td>0</td><td>0</td><td>0</td><td>0</td><td>0</td><td>little nothing</td><td>0</td><td>0</td><td>NaN</td></tr><tr><td>9651</td><td>false</td><td>0</td><td>false</td><td>0</td><td>0</td><td>0</td><td>0</td><td>0</td><td>little nothing</td><td>0</td><td>0</td><td>NaN</td></tr><tr><td>9810</td><td>false</td><td>3</td><td>true</td><td>0</td><td>0</td><td>0</td><td>0</td><td>0</td><td>little nothing</td><td>0</td><td>0</td><td>NaN</td></tr><tr><td>9990</td><td>false</td><td>3</td><td>true</td><td>0</td><td>0</td><td>0</td><td>0</td><td>0</td><td>little nothing</td><td>0</td><td>0</td><td>NaN</td></tr><tr><td>10015</td><td>false</td><td>3</td><td>true</td><td>0</td><td>0</td><td>0</td><td>0</td><td>0</td><td>little nothing</td><td>0</td><td>0</td><td>NaN</td></tr><tr><td>10046</td><td>false</td><td>3</td><td>true</td><td>0</td><td>0</td><td>0</td><td>0</td><td>0</td><td>little nothing</td><td>0</td><td>0</td><td>NaN</td></tr><tr><td>10052</td><td>false</td><td>3</td><td>true</td><td>0</td><td>0</td><td>0</td><td>0</td><td>0</td><td>little nothing</td><td>0</td><td>0</td><td>NaN</td></tr><tr><td>10069</td><td>false</td><td>3</td><td>true</td><td>0</td><td>0</td><td>0</td><td>0</td><td>0</td><td>little nothing</td><td>0</td><td>0</td><td>NaN</td></tr><tr><td>10102</td><td>false</td><td>3</td><td>true</td><td>0</td><td>0</td><td>0</td><td>0</td><td>0</td><td>little nothing</td><td>0</td><td>0</td><td>NaN</td></tr><tr><td>10109</td><td>false</td><td>3</td><td>true</td><td>0</td><td>0</td><td>0</td><td>0</td><td>0</td><td>little nothing</td><td>0</td><td>0</td><td>NaN</td></tr><tr><td>10130</td><td>false</td><td>2</td><td>true</td><td>0</td><td>0</td><td>0</td><td>1</td><td>0</td><td>20-02-友邦保险-长虹善心3297组-客户75</td><td>1</td><td>2020-03-14 00:00:00 UTC</td><td>33.33</td></tr><tr><td>10286</td><td>false</td><td>3</td><td>true</td><td>0</td><td>0</td><td>0</td><td>0</td><td>0</td><td>default_code</td><td>0</td><td>0</td><td>NaN</td></tr><tr><td>10301</td><td>false</td><td>3</td><td>true</td><td>0</td><td>0</td><td>0</td><td>0</td><td>0</td><td>default_code</td><td>0</td><td>0</td><td>NaN</td></tr><tr><td>10460</td><td>false</td><td>3</td><td>true</td><td>0</td><td>0</td><td>0</td><td>0</td><td>0</td><td>default_code</td><td>0</td><td>0</td><td>NaN</td></tr><tr><td>10505</td><td>false</td><td>3</td><td>true</td><td>0</td><td>0</td><td>0</td><td>0</td><td>0</td><td>default_code</td><td>0</td><td>0</td><td>NaN</td></tr><tr><td>10524</td><td>false</td><td>3</td><td>true</td><td>0</td><td>0</td><td>0</td><td>0</td><td>0</td><td>default_code</td><td>0</td><td>0</td><td>NaN</td></tr><tr><td>10736</td><td>false</td><td>3</td><td>true</td><td>0</td><td>0</td><td>0</td><td>0</td><td>0</td><td>20-15-KOL-韦思嘉</td><td>0</td><td>0</td><td>NaN</td></tr><tr><td>10825</td><td>false</td><td>3</td><td>true</td><td>0</td><td>0</td><td>0</td><td>0</td><td>0</td><td>20-15-KOL-韦思嘉</td><td>0</td><td>0</td><td>NaN</td></tr><tr><td>10955</td><td>false</td><td>3</td><td>true</td><td>0</td><td>0</td><td>0</td><td>0</td><td>0</td><td>20-15-KOL-韦思嘉</td><td>0</td><td>0</td><td>NaN</td></tr><tr><td>10963</td><td>false</td><td>3</td><td>true</td><td>0</td><td>0</td><td>0</td><td>0</td><td>0</td><td>20-15-KOL-韦思嘉</td><td>0</td><td>0</td><td>NaN</td></tr><tr><td>11095</td><td>false</td><td>3</td><td>true</td><td>0</td><td>0</td><td>0</td><td>0</td><td>0</td><td>20-15-KOL-韦思嘉</td><td>0</td><td>0</td><td>NaN</td></tr><tr><td>11125</td><td>false</td><td>2</td><td>true</td><td>0</td><td>0</td><td>0</td><td>1</td><td>0</td><td>20-15-KOL-韦思嘉</td><td>1</td><td>2020-03-21 00:00:00 UTC</td><td>50.0</td></tr><tr><td>11210</td><td>false</td><td>2</td><td>true</td><td>0</td><td>0</td><td>1</td><td>0</td><td>0</td><td>20-15-KOL-韦思嘉</td><td>1</td><td>2020-03-21 00:00:00 UTC</td><td>20.0</td></tr><tr><td>11248</td><td>false</td><td>3</td><td>true</td><td>0</td><td>0</td><td>0</td><td>0</td><td>0</td><td>20-15-KOL-韦思嘉</td><td>0</td><td>0</td><td>NaN</td></tr><tr><td>11252</td><td>false</td><td>3</td><td>true</td><td>0</td><td>0</td><td>0</td><td>0</td><td>0</td><td>20-15-KOL-韦思嘉</td><td>0</td><td>0</td><td>NaN</td></tr><tr><td>11264</td><td>false</td><td>0</td><td>false</td><td>0</td><td>0</td><td>0</td><td>0</td><td>0</td><td>20-15-KOL-韦思嘉</td><td>0</td><td>0</td><td>NaN</td></tr><tr><td>11288</td><td>false</td><td>3</td><td>true</td><td>0</td><td>0</td><td>0</td><td>0</td><td>0</td><td>default_code</td><td>0</td><td>0</td><td>NaN</td></tr><tr><td>11347</td><td>false</td><td>3</td><td>true</td><td>0</td><td>0</td><td>0</td><td>0</td><td>0</td><td>20-15-KOL-韦思嘉</td><td>0</td><td>0</td><td>NaN</td></tr><tr><td>11387</td><td>false</td><td>16</td><td>true</td><td>0</td><td>0</td><td>0</td><td>0</td><td>0</td><td>20-15-KOL-韦思嘉</td><td>0</td><td>0</td><td>NaN</td></tr><tr><td>11389</td><td>false</td><td>3</td><td>true</td><td>0</td><td>0</td><td>0</td><td>0</td><td>0</td><td>20-15-KOL-韦思嘉</td><td>0</td><td>0</td><td>NaN</td></tr><tr><td>11394</td><td>false</td><td>3</td><td>true</td><td>0</td><td>0</td><td>0</td><td>0</td><td>0</td><td>20-15-KOL-韦思嘉</td><td>0</td><td>0</td><td>NaN</td></tr><tr><td>11446</td><td>false</td><td>3</td><td>true</td><td>0</td><td>0</td><td>0</td><td>0</td><td>0</td><td>20-15-KOL-韦思嘉</td><td>0</td><td>0</td><td>NaN</td></tr><tr><td>11522</td><td>false</td><td>0</td><td>false</td><td>0</td><td>0</td><td>0</td><td>0</td><td>0</td><td>default_code</td><td>0</td><td>0</td><td>NaN</td></tr><tr><td>11578</td><td>false</td><td>3</td><td>true</td><td>0</td><td>0</td><td>0</td><td>0</td><td>0</td><td>default_code</td><td>0</td><td>0</td><td>NaN</td></tr><tr><td>11910</td><td>false</td><td>3</td><td>true</td><td>0</td><td>0</td><td>0</td><td>0</td><td>0</td><td>default_code</td><td>0</td><td>0</td><td>NaN</td></tr><tr><td>12078</td><td>false</td><td>3</td><td>true</td><td>0</td><td>0</td><td>0</td><td>0</td><td>0</td><td>default_code</td><td>0</td><td>0</td><td>NaN</td></tr><tr><td>12099</td><td>false</td><td>3</td><td>true</td><td>0</td><td>0</td><td>0</td><td>0</td><td>0</td><td>20-15-KOL-韦思嘉</td><td>0</td><td>0</td><td>NaN</td></tr><tr><td>12611</td><td>false</td><td>3</td><td>true</td><td>0</td><td>0</td><td>0</td><td>0</td><td>0</td><td>20-04-KOL-gu_古妍</td><td>0</td><td>0</td><td>NaN</td></tr></table>"
      ],
      "text/plain": [
       "\"<table><tr><td>user_id</td><td>end</td><td>qty</td><td>valid</td><td>v0</td><td>v1</td><td>v2</td><td>v3</td><td>staff</td><td>source</td><td>orders</td><td>last_orders</td><td>rate</td></tr><tr><td>145</td><td>false</td><td>19</td><td>true</td><td>0</td><td>0</td><td>1</td><td>0</td><td>0</td><td>default_code</td><td>2</td><td>2020-01-14 00:00:00 UTC</td><td>23.08</td></tr><tr><td>241</td><td>true</td><td>2</td><td>false</td><td>0</td><td>0</td><td>1</td><td>0</td><td>0</td><td>default_code</td><td>3</td><td>2019-12-02 00:00:00 UTC</td><td>28.0</td></tr><tr><td>264</td><td>true</td><td>3</td><td>false</td><td>0</td><td>0</td><td>0</td><td>0</td><td>0</td><td>default_code</td><td>0</td><td>0</td><td>NaN</td></tr><tr><td>278</td><td>false</td><td>10</td><td>true</td><td>0</td><td>0</td><td>1</td><td>0</td><td>0</td><td>default_code</td><td>6</td><td>2020-01-10 00:00:00 UTC</td><td>23.08</td></tr><tr><td>370</td><td>false</td><td>16</td><td>true</td><td>0</td><td>0</td><td>0</td><td>0</td><td>0</td><td>default_code</td><td>0</td><td>0</td><td>NaN</td></tr><tr><td>516</td><td>false</td><td>12</td><td>true</td><td>0</td><td>0</td><td>0</td><td>1</td><td>0</td><td>default_code</td><td>5</td><td>2020-02-28 00:00:00 UTC</td><td>34.29</td></tr><tr><td>783</td><td>true</td><td>6</td><td>false</td><td>0</td><td>0</td><td>0</td><td>0</td><td>0</td><td>default_code</td><td>0</td><td>0</td><td>NaN</td></tr><tr><td>801</td><td>false</td><td>5</td><td>true</td><td>0</td><td>0</td><td>1</td><td>0</td><td>0</td><td>default_code</td><td>2</td><td>2019-10-31 00:00:00 UTC</td><td>25.0</td></tr><tr><td>831</td><td>false</td><td>4</td><td>true</td><td>0</td><td>0</td><td>1</td><td>0</td><td>0</td><td>default_code</td><td>6</td><td>2020-03-22 00:00:00 UTC</td><td>24.39</td></tr><tr><td>877</td><td>false</td><td>11</td><td>true</td><td>0</td><td>0</td><td>1</td><td>0</td><td>0</td><td>default_code</td><td>5</td><td>2020-01-10 00:00:00 UTC</td><td>23.53</td></tr><tr><td>978</td><td>false</td><td>1</td><td>true</td><td>0</td><td>0</td><td>1</td><td>0</td><td>0</td><td>default_code</td><td>2</td><td>2019-11-22 00:00:00 UTC</td><td>23.08</td></tr><tr><td>1080</td><td>false</td><td>1</td><td>true</td><td>0</td><td>0</td><td>1</td><td>0</td><td>0</td><td>default_code</td><td>3</td><td>2019-12-02 00:00:00 UTC</td><td>26.32</td></tr><tr><td>1103</td><td>true</td><td>2</td><td>false</td><td>0</td><td>0</td><td>0</td><td>1</td><td>0</td><td>default_code</td><td>2</td><td>2019-10-28 00:00:00 UTC</td><td>60.0</td></tr><tr><td>1169</td><td>true</td><td>3</td><td>false</td><td>0</td><td>0</td><td>0</td><td>0</td><td>0</td><td>default_code</td><td>0</td><td>0</td><td>NaN</td></tr><tr><td>1171</td><td>false</td><td>2</td><td>true</td><td>0</td><td>0</td><td>1</td><td>0</td><td>0</td><td>default_code</td><td>1</td><td>2019-11-13 00:00:00 UTC</td><td>25.0</td></tr><tr><td>1231</td><td>true</td><td>1</td><td>false</td><td>0</td><td>0</td><td>0</td><td>1</td><td>0</td><td>default_code</td><td>3</td><td>2020-01-15 00:00:00 UTC</td><td>35.29</td></tr><tr><td>1347</td><td>true</td><td>3</td><td>false</td><td>0</td><td>0</td><td>0</td><td>0</td><td>0</td><td>default_code</td><td>0</td><td>0</td><td>NaN</td></tr><tr><td>1437</td><td>false</td><td>16</td><td>true</td><td>0</td><td>0</td><td>0</td><td>0</td><td>0</td><td>default_code</td><td>0</td><td>0</td><td>NaN</td></tr><tr><td>1724</td><td>true</td><td>2</td><td>false</td><td>0</td><td>0</td><td>0</td><td>1</td><td>0</td><td>default_code</td><td>2</td><td>2020-01-08 00:00:00 UTC</td><td>42.86</td></tr><tr><td>1851</td><td>false</td><td>2</td><td>true</td><td>0</td><td>0</td><td>1</td><td>0</td><td>0</td><td>default_code</td><td>1</td><td>2020-01-14 00:00:00 UTC</td><td>28.57</td></tr><tr><td>2005</td><td>true</td><td>2</td><td>false</td><td>0</td><td>0</td><td>0</td><td>1</td><td>0</td><td>default_code</td><td>2</td><td>2019-12-17 00:00:00 UTC</td><td>33.33</td></tr><tr><td>2095</td><td>false</td><td>3</td><td>true</td><td>0</td><td>0</td><td>0</td><td>1</td><td>0</td><td>default_code</td><td>4</td><td>2020-03-14 00:00:00 UTC</td><td>95.45</td></tr><tr><td>2097</td><td>true</td><td>3</td><td>false</td><td>0</td><td>0</td><td>0</td><td>0</td><td>0</td><td>ShouQiYueChe</td><td>0</td><td>0</td><td>NaN</td></tr><tr><td>2125</td><td>false</td><td>4</td><td>true</td><td>0</td><td>0</td><td>0</td><td>1</td><td>0</td><td>default_code</td><td>3</td><td>2020-02-28 00:00:00 UTC</td><td>38.89</td></tr><tr><td>2176</td><td>true</td><td>2</td><td>false</td><td>0</td><td>0</td><td>1</td><td>0</td><td>0</td><td>小咩社群</td><td>3</td><td>2020-02-28 00:00:00 UTC</td><td>25.0</td></tr><tr><td>2194</td><td>true</td><td>3</td><td>false</td><td>0</td><td>0</td><td>0</td><td>0</td><td>0</td><td>小咩社群</td><td>0</td><td>0</td><td>NaN</td></tr><tr><td>2228</td><td>false</td><td>2</td><td>true</td><td>0</td><td>0</td><td>0</td><td>1</td><td>0</td><td>小咩社群</td><td>1</td><td>2019-12-15 00:00:00 UTC</td><td>71.43</td></tr><tr><td>2230</td><td>true</td><td>1</td><td>false</td><td>0</td><td>0</td><td>1</td><td>0</td><td>0</td><td>小咩社群</td><td>3</td><td>2020-02-26 00:00:00 UTC</td><td>25.0</td></tr><tr><td>2249</td><td>true</td><td>3</td><td>false</td><td>0</td><td>0</td><td>0</td><td>0</td><td>0</td><td>小咩社群</td><td>0</td><td>0</td><td>NaN</td></tr><tr><td>2250</td><td>true</td><td>3</td><td>false</td><td>0</td><td>0</td><td>0</td><td>0</td><td>0</td><td>小咩社群</td><td>0</td><td>0</td><td>NaN</td></tr><tr><td>2252</td><td>false</td><td>1</td><td>true</td><td>0</td><td>0</td><td>1</td><td>0</td><td>0</td><td>小咩社群</td><td>2</td><td>2019-12-25 00:00:00 UTC</td><td>20.0</td></tr><tr><td>2291</td><td>true</td><td>2</td><td>false</td><td>0</td><td>0</td><td>0</td><td>1</td><td>0</td><td>YhouseAPP</td><td>2</td><td>2020-01-15 00:00:00 UTC</td><td>33.33</td></tr><tr><td>2298</td><td>true</td><td>2</td><td>false</td><td>0</td><td>0</td><td>1</td><td>0</td><td>0</td><td>小咩社群</td><td>3</td><td>2020-02-27 00:00:00 UTC</td><td>22.73</td></tr><tr><td>2326</td><td>false</td><td>2</td><td>true</td><td>0</td><td>0</td><td>1</td><td>0</td><td>0</td><td>小咩社群</td><td>1</td><td>2019-12-13 00:00:00 UTC</td><td>28.57</td></tr><tr><td>2445</td><td>true</td><td>3</td><td>false</td><td>0</td><td>0</td><td>0</td><td>0</td><td>0</td><td>default_code</td><td>0</td><td>0</td><td>NaN</td></tr><tr><td>2449</td><td>false</td><td>2</td><td>true</td><td>0</td><td>0</td><td>0</td><td>1</td><td>0</td><td>default_code</td><td>1</td><td>2020-03-09 00:00:00 UTC</td><td>50.0</td></tr><tr><td>2461</td><td>false</td><td>3</td><td>true</td><td>0</td><td>0</td><td>0</td><td>0</td><td>0</td><td>default_code</td><td>0</td><td>0</td><td>NaN</td></tr><tr><td>2470</td><td>true</td><td>2</td><td>false</td><td>0</td><td>0</td><td>0</td><td>1</td><td>0</td><td>default_code</td><td>1</td><td>2019-12-14 00:00:00 UTC</td><td>50.0</td></tr><tr><td>2615</td><td>true</td><td>3</td><td>false</td><td>0</td><td>0</td><td>0</td><td>0</td><td>0</td><td>tuantuan</td><td>0</td><td>0</td><td>NaN</td></tr><tr><td>2627</td><td>false</td><td>2</td><td>true</td><td>0</td><td>0</td><td>1</td><td>0</td><td>0</td><td>default_code</td><td>3</td><td>2020-02-29 00:00:00 UTC</td><td>23.81</td></tr><tr><td>2765</td><td>false</td><td>2</td><td>true</td><td>0</td><td>0</td><td>0</td><td>1</td><td>0</td><td>一只马丁靴</td><td>1</td><td>2019-12-28 00:00:00 UTC</td><td>42.86</td></tr><tr><td>2875</td><td>false</td><td>2</td><td>true</td><td>0</td><td>0</td><td>1</td><td>0</td><td>0</td><td>一只马丁靴</td><td>1</td><td>2019-12-30 00:00:00 UTC</td><td>20.0</td></tr><tr><td>3134</td><td>false</td><td>2</td><td>true</td><td>0</td><td>0</td><td>1</td><td>0</td><td>0</td><td>一只马丁靴</td><td>3</td><td>2020-02-27 00:00:00 UTC</td><td>23.81</td></tr><tr><td>3357</td><td>false</td><td>1</td><td>true</td><td>0</td><td>0</td><td>0</td><td>1</td><td>0</td><td>一只马丁靴</td><td>2</td><td>2020-03-18 00:00:00 UTC</td><td>41.67</td></tr><tr><td>3465</td><td>false</td><td>2</td><td>true</td><td>0</td><td>0</td><td>1</td><td>0</td><td>0</td><td>一只马丁靴</td><td>1</td><td>2020-01-02 00:00:00 UTC</td><td>20.0</td></tr><tr><td>3735</td><td>false</td><td>2</td><td>true</td><td>0</td><td>0</td><td>1</td><td>0</td><td>0</td><td>一只马丁靴</td><td>2</td><td>2020-02-28 00:00:00 UTC</td><td>25.0</td></tr><tr><td>3788</td><td>false</td><td>2</td><td>true</td><td>0</td><td>0</td><td>1</td><td>0</td><td>0</td><td>一只马丁靴</td><td>1</td><td>2019-12-22 00:00:00 UTC</td><td>20.0</td></tr><tr><td>3937</td><td>false</td><td>2</td><td>true</td><td>0</td><td>0</td><td>1</td><td>0</td><td>0</td><td>一只马丁靴</td><td>2</td><td>2020-02-22 00:00:00 UTC</td><td>25.0</td></tr><tr><td>4051</td><td>false</td><td>2</td><td>true</td><td>0</td><td>0</td><td>1</td><td>0</td><td>0</td><td>一只马丁靴</td><td>1</td><td>2019-12-30 00:00:00 UTC</td><td>20.0</td></tr><tr><td colspan='13'>&#8942;</td></tr><tr><td>8022</td><td>false</td><td>0</td><td>false</td><td>0</td><td>0</td><td>0</td><td>0</td><td>0</td><td>default_code</td><td>0</td><td>0</td><td>NaN</td></tr><tr><td>8041</td><td>false</td><td>2</td><td>true</td><td>0</td><td>0</td><td>0</td><td>1</td><td>0</td><td>default_code</td><td>1</td><td>2020-02-22 00:00:00 UTC</td><td>66.67</td></tr><tr><td>8229</td><td>false</td><td>2</td><td>true</td><td>0</td><td>0</td><td>0</td><td>1</td><td>0</td><td>default_code</td><td>1</td><td>2020-02-25 00:00:00 UTC</td><td>33.33</td></tr><tr><td>8664</td><td>false</td><td>3</td><td>true</td><td>0</td><td>0</td><td>0</td><td>1</td><td>0</td><td>小双双jodie</td><td>1</td><td>2020-03-20 00:00:00 UTC</td><td>60.0</td></tr><tr><td>8708</td><td>false</td><td>3</td><td>true</td><td>0</td><td>0</td><td>0</td><td>0</td><td>0</td><td>小双双jodie</td><td>0</td><td>0</td><td>NaN</td></tr><tr><td>8724</td><td>false</td><td>2</td><td>true</td><td>0</td><td>0</td><td>0</td><td>1</td><td>0</td><td>小双双jodie</td><td>1</td><td>2020-03-10 00:00:00 UTC</td><td>40.0</td></tr><tr><td>9125</td><td>false</td><td>3</td><td>true</td><td>0</td><td>0</td><td>0</td><td>0</td><td>0</td><td>小双双jodie</td><td>0</td><td>0</td><td>NaN</td></tr><tr><td>9226</td><td>false</td><td>3</td><td>true</td><td>0</td><td>0</td><td>0</td><td>0</td><td>0</td><td>小双双jodie</td><td>0</td><td>0</td><td>NaN</td></tr><tr><td>9229</td><td>false</td><td>3</td><td>true</td><td>0</td><td>0</td><td>0</td><td>0</td><td>0</td><td>小双双jodie</td><td>0</td><td>0</td><td>NaN</td></tr><tr><td>9250</td><td>false</td><td>0</td><td>false</td><td>0</td><td>0</td><td>0</td><td>0</td><td>0</td><td>小双双jodie</td><td>0</td><td>0</td><td>NaN</td></tr><tr><td>9300</td><td>false</td><td>3</td><td>true</td><td>0</td><td>0</td><td>0</td><td>0</td><td>0</td><td>default_code</td><td>0</td><td>0</td><td>NaN</td></tr><tr><td>9515</td><td>false</td><td>3</td><td>true</td><td>0</td><td>0</td><td>0</td><td>0</td><td>0</td><td>little nothing</td><td>0</td><td>0</td><td>NaN</td></tr><tr><td>9651</td><td>false</td><td>0</td><td>false</td><td>0</td><td>0</td><td>0</td><td>0</td><td>0</td><td>little nothing</td><td>0</td><td>0</td><td>NaN</td></tr><tr><td>9810</td><td>false</td><td>3</td><td>true</td><td>0</td><td>0</td><td>0</td><td>0</td><td>0</td><td>little nothing</td><td>0</td><td>0</td><td>NaN</td></tr><tr><td>9990</td><td>false</td><td>3</td><td>true</td><td>0</td><td>0</td><td>0</td><td>0</td><td>0</td><td>little nothing</td><td>0</td><td>0</td><td>NaN</td></tr><tr><td>10015</td><td>false</td><td>3</td><td>true</td><td>0</td><td>0</td><td>0</td><td>0</td><td>0</td><td>little nothing</td><td>0</td><td>0</td><td>NaN</td></tr><tr><td>10046</td><td>false</td><td>3</td><td>true</td><td>0</td><td>0</td><td>0</td><td>0</td><td>0</td><td>little nothing</td><td>0</td><td>0</td><td>NaN</td></tr><tr><td>10052</td><td>false</td><td>3</td><td>true</td><td>0</td><td>0</td><td>0</td><td>0</td><td>0</td><td>little nothing</td><td>0</td><td>0</td><td>NaN</td></tr><tr><td>10069</td><td>false</td><td>3</td><td>true</td><td>0</td><td>0</td><td>0</td><td>0</td><td>0</td><td>little nothing</td><td>0</td><td>0</td><td>NaN</td></tr><tr><td>10102</td><td>false</td><td>3</td><td>true</td><td>0</td><td>0</td><td>0</td><td>0</td><td>0</td><td>little nothing</td><td>0</td><td>0</td><td>NaN</td></tr><tr><td>10109</td><td>false</td><td>3</td><td>true</td><td>0</td><td>0</td><td>0</td><td>0</td><td>0</td><td>little nothing</td><td>0</td><td>0</td><td>NaN</td></tr><tr><td>10130</td><td>false</td><td>2</td><td>true</td><td>0</td><td>0</td><td>0</td><td>1</td><td>0</td><td>20-02-友邦保险-长虹善心3297组-客户75</td><td>1</td><td>2020-03-14 00:00:00 UTC</td><td>33.33</td></tr><tr><td>10286</td><td>false</td><td>3</td><td>true</td><td>0</td><td>0</td><td>0</td><td>0</td><td>0</td><td>default_code</td><td>0</td><td>0</td><td>NaN</td></tr><tr><td>10301</td><td>false</td><td>3</td><td>true</td><td>0</td><td>0</td><td>0</td><td>0</td><td>0</td><td>default_code</td><td>0</td><td>0</td><td>NaN</td></tr><tr><td>10460</td><td>false</td><td>3</td><td>true</td><td>0</td><td>0</td><td>0</td><td>0</td><td>0</td><td>default_code</td><td>0</td><td>0</td><td>NaN</td></tr><tr><td>10505</td><td>false</td><td>3</td><td>true</td><td>0</td><td>0</td><td>0</td><td>0</td><td>0</td><td>default_code</td><td>0</td><td>0</td><td>NaN</td></tr><tr><td>10524</td><td>false</td><td>3</td><td>true</td><td>0</td><td>0</td><td>0</td><td>0</td><td>0</td><td>default_code</td><td>0</td><td>0</td><td>NaN</td></tr><tr><td>10736</td><td>false</td><td>3</td><td>true</td><td>0</td><td>0</td><td>0</td><td>0</td><td>0</td><td>20-15-KOL-韦思嘉</td><td>0</td><td>0</td><td>NaN</td></tr><tr><td>10825</td><td>false</td><td>3</td><td>true</td><td>0</td><td>0</td><td>0</td><td>0</td><td>0</td><td>20-15-KOL-韦思嘉</td><td>0</td><td>0</td><td>NaN</td></tr><tr><td>10955</td><td>false</td><td>3</td><td>true</td><td>0</td><td>0</td><td>0</td><td>0</td><td>0</td><td>20-15-KOL-韦思嘉</td><td>0</td><td>0</td><td>NaN</td></tr><tr><td>10963</td><td>false</td><td>3</td><td>true</td><td>0</td><td>0</td><td>0</td><td>0</td><td>0</td><td>20-15-KOL-韦思嘉</td><td>0</td><td>0</td><td>NaN</td></tr><tr><td>11095</td><td>false</td><td>3</td><td>true</td><td>0</td><td>0</td><td>0</td><td>0</td><td>0</td><td>20-15-KOL-韦思嘉</td><td>0</td><td>0</td><td>NaN</td></tr><tr><td>11125</td><td>false</td><td>2</td><td>true</td><td>0</td><td>0</td><td>0</td><td>1</td><td>0</td><td>20-15-KOL-韦思嘉</td><td>1</td><td>2020-03-21 00:00:00 UTC</td><td>50.0</td></tr><tr><td>11210</td><td>false</td><td>2</td><td>true</td><td>0</td><td>0</td><td>1</td><td>0</td><td>0</td><td>20-15-KOL-韦思嘉</td><td>1</td><td>2020-03-21 00:00:00 UTC</td><td>20.0</td></tr><tr><td>11248</td><td>false</td><td>3</td><td>true</td><td>0</td><td>0</td><td>0</td><td>0</td><td>0</td><td>20-15-KOL-韦思嘉</td><td>0</td><td>0</td><td>NaN</td></tr><tr><td>11252</td><td>false</td><td>3</td><td>true</td><td>0</td><td>0</td><td>0</td><td>0</td><td>0</td><td>20-15-KOL-韦思嘉</td><td>0</td><td>0</td><td>NaN</td></tr><tr><td>11264</td><td>false</td><td>0</td><td>false</td><td>0</td><td>0</td><td>0</td><td>0</td><td>0</td><td>20-15-KOL-韦思嘉</td><td>0</td><td>0</td><td>NaN</td></tr><tr><td>11288</td><td>false</td><td>3</td><td>true</td><td>0</td><td>0</td><td>0</td><td>0</td><td>0</td><td>default_code</td><td>0</td><td>0</td><td>NaN</td></tr><tr><td>11347</td><td>false</td><td>3</td><td>true</td><td>0</td><td>0</td><td>0</td><td>0</td><td>0</td><td>20-15-KOL-韦思嘉</td><td>0</td><td>0</td><td>NaN</td></tr><tr><td>11387</td><td>false</td><td>16</td><td>true</td><td>0</td><td>0</td><td>0</td><td>0</td><td>0</td><td>20-15-KOL-韦思嘉</td><td>0</td><td>0</td><td>NaN</td></tr><tr><td>11389</td><td>false</td><td>3</td><td>true</td><td>0</td><td>0</td><td>0</td><td>0</td><td>0</td><td>20-15-KOL-韦思嘉</td><td>0</td><td>0</td><td>NaN</td></tr><tr><td>11394</td><td>false</td><td>3</td><td>true</td><td>0</td><td>0</td><td>0</td><td>0</td><td>0</td><td>20-15-KOL-韦思嘉</td><td>0</td><td>0</td><td>NaN</td></tr><tr><td>11446</td><td>false</td><td>3</td><td>true</td><td>0</td><td>0</td><td>0</td><td>0</td><td>0</td><td>20-15-KOL-韦思嘉</td><td>0</td><td>0</td><td>NaN</td></tr><tr><td>11522</td><td>false</td><td>0</td><td>false</td><td>0</td><td>0</td><td>0</td><td>0</td><td>0</td><td>default_code</td><td>0</td><td>0</td><td>NaN</td></tr><tr><td>11578</td><td>false</td><td>3</td><td>true</td><td>0</td><td>0</td><td>0</td><td>0</td><td>0</td><td>default_code</td><td>0</td><td>0</td><td>NaN</td></tr><tr><td>11910</td><td>false</td><td>3</td><td>true</td><td>0</td><td>0</td><td>0</td><td>0</td><td>0</td><td>default_code</td><td>0</td><td>0</td><td>NaN</td></tr><tr><td>12078</td><td>false</td><td>3</td><td>true</td><td>0</td><td>0</td><td>0</td><td>0</td><td>0</td><td>default_code</td><td>0</td><td>0</td><td>NaN</td></tr><tr><td>12099</td><td>false</td><td>3</td><td>true</td><td>0</td><td>0</td><td>0</td><td>0</td><td>0</td><td>20-15-KOL-韦思嘉</td><td>0</td><td>0</td><td>NaN</td></tr><tr><td>12611</td><td>false</td><td>3</td><td>true</td><td>0</td><td>0</td><td>0</td><td>0</td><td>0</td><td>20-04-KOL-gu_古妍</td><td>0</td><td>0</td><td>NaN</td></tr></table>\""
      ]
     },
     "metadata": {},
     "output_type": "display_data"
    },
    {
     "name": "stdout",
     "output_type": "stream",
     "text": [
      "user_id\n",
      "145\n",
      "241\n",
      "264\n",
      "278\n",
      "370\n",
      "516\n",
      "783\n",
      "801\n",
      "831\n",
      "877\n",
      "978\n",
      "1080\n",
      "1103\n",
      "1169\n",
      "1171\n",
      "1231\n",
      "1347\n",
      "1437\n",
      "1724\n",
      "1851\n",
      "2005\n",
      "2095\n",
      "2097\n",
      "2125\n",
      "2176\n",
      "2194\n",
      "2228\n",
      "2230\n",
      "2249\n",
      "2250\n",
      "2252\n",
      "2291\n",
      "2298\n",
      "2326\n",
      "2445\n",
      "2449\n",
      "2461\n",
      "2470\n",
      "2615\n",
      "2627\n",
      "2765\n",
      "2875\n",
      "3134\n",
      "3357\n",
      "3465\n",
      "3735\n",
      "3788\n",
      "3937\n",
      "4051\n",
      "4081\n",
      "4131\n",
      "4176\n",
      "4629\n",
      "4725\n",
      "4797\n",
      "4949\n",
      "5057\n",
      "5089\n",
      "5139\n",
      "5154\n",
      "5230\n",
      "5264\n",
      "5347\n",
      "5484\n",
      "5584\n",
      "5812\n",
      "5922\n",
      "5983\n",
      "6012\n",
      "6143\n",
      "6164\n",
      "6180\n",
      "6346\n",
      "6401\n",
      "6412\n",
      "6479\n",
      "6687\n",
      "6723\n",
      "6770\n",
      "6920\n",
      "7063\n",
      "7295\n",
      "7303\n",
      "7313\n",
      "7545\n",
      "7588\n",
      "7729\n",
      "7753\n",
      "7778\n",
      "7822\n",
      "7957\n",
      "7974\n",
      "8017\n",
      "8022\n",
      "8041\n",
      "8229\n",
      "8664\n",
      "8708\n",
      "8724\n",
      "9125\n",
      "9226\n",
      "9229\n",
      "9250\n",
      "9300\n",
      "9515\n",
      "9651\n",
      "9810\n",
      "9990\n",
      "10015\n",
      "10046\n",
      "10052\n",
      "10069\n",
      "10102\n",
      "10109\n",
      "10130\n",
      "10286\n",
      "10301\n",
      "10460\n",
      "10505\n",
      "10524\n",
      "10736\n",
      "10825\n",
      "10955\n",
      "10963\n",
      "11095\n",
      "11125\n",
      "11210\n",
      "11248\n",
      "11252\n",
      "11264\n",
      "11288\n",
      "11347\n",
      "11387\n",
      "11389\n",
      "11394\n",
      "11446\n",
      "11522\n",
      "11578\n",
      "11910\n",
      "12078\n",
      "12099\n",
      "12611\n",
      "12872\n"
     ]
    }
   ],
   "source": [
    "#分类 v1,v2,v3 \n",
    "# - 过期 ：延长 + 短信\n",
    "# - 未过期 ：短信\n",
    "\n",
    "# 分类 未定盒 + 非一只马丁靴 \n",
    "\n",
    "\n",
    "# 过期\n",
    "table = data.filter do |x|  \n",
    "  if not(x[4]==1) and not((x[4]+x[5]+x[6]+x[7]==0)and(x[9]==\"一只马丁靴\" or x[9]==\"20-03-女神节-未购卡注册用户-申请通过-100\" or x[9]==\"20-03-同程艺龙员工-申请制通过-200\")) and (x[12].nan? ? true : x[12]>=20) then\n",
    "      true\n",
    "  else\n",
    "      false\n",
    "  end\n",
    "end.clone \n",
    "puts table.size\n",
    "table.unshift %w[ user_id end qty valid v0 v1 v2 v3 staff source orders last_orders rate  ]\n",
    "puts_table table\n",
    "table.each do |x| puts x[0] end; nil"
   ]
  },
  {
   "cell_type": "code",
   "execution_count": null,
   "metadata": {},
   "outputs": [],
   "source": []
  }
 ],
 "metadata": {
  "kernelspec": {
   "display_name": "Ruby 2.7.0",
   "language": "ruby",
   "name": "ruby"
  },
  "language_info": {
   "file_extension": ".rb",
   "mimetype": "application/x-ruby",
   "name": "ruby",
   "version": "2.7.0"
  }
 },
 "nbformat": 4,
 "nbformat_minor": 4
}
