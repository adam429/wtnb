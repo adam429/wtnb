{
 "cells": [
  {
   "cell_type": "code",
   "execution_count": 1,
   "metadata": {},
   "outputs": [
    {
     "data": {
      "text/html": [
       "<script src='https://unpkg.com/vue/dist/vue.js'></script>\n",
       "<script src='https://unpkg.com/chart.js@2.9.3/dist/Chart.bundle.js'></script>\n",
       "<script src='https://unpkg.com/vue-chartkick@0.5.1/dist/vue-chartkick.js'></script>\n",
       "<script src='https://unpkg.com/element-ui/lib/index.js'></script>\n"
      ],
      "text/plain": [
       "\"<script src='https://unpkg.com/vue/dist/vue.js'></script>\\n<script src='https://unpkg.com/chart.js@2.9.3/dist/Chart.bundle.js'></script>\\n<script src='https://unpkg.com/vue-chartkick@0.5.1/dist/vue-chartkick.js'></script>\\n<script src='https://unpkg.com/element-ui/lib/index.js'></script>\\n\""
      ]
     },
     "metadata": {},
     "output_type": "display_data"
    },
    {
     "data": {
      "text/html": [
       "<link rel='stylesheet' href='https://unpkg.com/element-ui/lib/theme-chalk/index.css'>\n"
      ],
      "text/plain": [
       "\"<link rel='stylesheet' href='https://unpkg.com/element-ui/lib/theme-chalk/index.css'>\\n\""
      ]
     },
     "metadata": {},
     "output_type": "display_data"
    }
   ],
   "source": [
    "## 设置数据库 & 定义数据模型\n",
    "    \n",
    "load './wtnb/wtnb.rb'\n",
    "load './wtnb/wtmodel.rb'\n",
    "load './wtnb/view.rb'\n",
    "\n",
    "IRuby.display IRuby.html(include_js)\n",
    "IRuby.display IRuby.html(include_css)\n",
    "nil"
   ]
  },
  {
   "cell_type": "code",
   "execution_count": null,
   "metadata": {},
   "outputs": [
    {
     "ename": "Mysql2::Error::ConnectionError",
     "evalue": "Can't connect to MySQL server on 'rm-8vbtg4245h6l1l01ago.mysql.zhangbei.rds.aliyuncs.com' (60)",
     "output_type": "error",
     "traceback": [
      "\u001b[31mMysql2::Error::ConnectionError\u001b[0m: Can't connect to MySQL server on 'rm-8vbtg4245h6l1l01ago.mysql.zhangbei.rds.aliyuncs.com' (60)",
      "/Users/adam429/.rbenv/versions/2.7.0/lib/ruby/gems/2.7.0/gems/mysql2-0.5.3/lib/mysql2/client.rb:90:in `connect'",
      "/Users/adam429/.rbenv/versions/2.7.0/lib/ruby/gems/2.7.0/gems/mysql2-0.5.3/lib/mysql2/client.rb:90:in `initialize'",
      "/Users/adam429/.rbenv/versions/2.7.0/lib/ruby/gems/2.7.0/gems/activerecord-6.0.2.2/lib/active_record/connection_adapters/mysql2_adapter.rb:24:in `new'",
      "/Users/adam429/.rbenv/versions/2.7.0/lib/ruby/gems/2.7.0/gems/activerecord-6.0.2.2/lib/active_record/connection_adapters/mysql2_adapter.rb:24:in `mysql2_connection'",
      "/Users/adam429/.rbenv/versions/2.7.0/lib/ruby/gems/2.7.0/gems/activerecord-6.0.2.2/lib/active_record/connection_adapters/abstract/connection_pool.rb:889:in `new_connection'",
      "/Users/adam429/.rbenv/versions/2.7.0/lib/ruby/gems/2.7.0/gems/activerecord-6.0.2.2/lib/active_record/connection_adapters/abstract/connection_pool.rb:933:in `checkout_new_connection'",
      "/Users/adam429/.rbenv/versions/2.7.0/lib/ruby/gems/2.7.0/gems/activerecord-6.0.2.2/lib/active_record/connection_adapters/abstract/connection_pool.rb:912:in `try_to_checkout_new_connection'",
      "/Users/adam429/.rbenv/versions/2.7.0/lib/ruby/gems/2.7.0/gems/activerecord-6.0.2.2/lib/active_record/connection_adapters/abstract/connection_pool.rb:873:in `acquire_connection'",
      "/Users/adam429/.rbenv/versions/2.7.0/lib/ruby/gems/2.7.0/gems/activerecord-6.0.2.2/lib/active_record/connection_adapters/abstract/connection_pool.rb:595:in `checkout'",
      "/Users/adam429/.rbenv/versions/2.7.0/lib/ruby/gems/2.7.0/gems/activerecord-6.0.2.2/lib/active_record/connection_adapters/abstract/connection_pool.rb:439:in `connection'",
      "/Users/adam429/.rbenv/versions/2.7.0/lib/ruby/gems/2.7.0/gems/activerecord-6.0.2.2/lib/active_record/connection_adapters/abstract/connection_pool.rb:1121:in `retrieve_connection'",
      "/Users/adam429/.rbenv/versions/2.7.0/lib/ruby/gems/2.7.0/gems/activerecord-6.0.2.2/lib/active_record/connection_handling.rb:238:in `retrieve_connection'",
      "/Users/adam429/.rbenv/versions/2.7.0/lib/ruby/gems/2.7.0/gems/activerecord-6.0.2.2/lib/active_record/connection_handling.rb:206:in `connection'",
      "/Users/adam429/.rbenv/versions/2.7.0/lib/ruby/gems/2.7.0/gems/activerecord-6.0.2.2/lib/active_record/model_schema.rb:340:in `table_exists?'",
      "/Users/adam429/.rbenv/versions/2.7.0/lib/ruby/gems/2.7.0/gems/activerecord-6.0.2.2/lib/active_record/attribute_methods/primary_key.rb:92:in `get_primary_key'",
      "/Users/adam429/.rbenv/versions/2.7.0/lib/ruby/gems/2.7.0/gems/activerecord-6.0.2.2/lib/active_record/attribute_methods/primary_key.rb:80:in `reset_primary_key'",
      "/Users/adam429/.rbenv/versions/2.7.0/lib/ruby/gems/2.7.0/gems/activerecord-6.0.2.2/lib/active_record/attribute_methods/primary_key.rb:68:in `primary_key'",
      "/Users/adam429/.rbenv/versions/2.7.0/lib/ruby/gems/2.7.0/gems/activerecord-6.0.2.2/lib/active_record/attribute_methods/primary_key.rb:82:in `reset_primary_key'",
      "/Users/adam429/.rbenv/versions/2.7.0/lib/ruby/gems/2.7.0/gems/activerecord-6.0.2.2/lib/active_record/attribute_methods/primary_key.rb:68:in `primary_key'",
      "/Users/adam429/.rbenv/versions/2.7.0/lib/ruby/gems/2.7.0/gems/activerecord-6.0.2.2/lib/active_record/core.rb:161:in `find'",
      "(pry):209:in `<main>'",
      "/Users/adam429/.rbenv/versions/2.7.0/lib/ruby/gems/2.7.0/gems/pry-0.13.0/lib/pry/pry_instance.rb:290:in `eval'",
      "/Users/adam429/.rbenv/versions/2.7.0/lib/ruby/gems/2.7.0/gems/pry-0.13.0/lib/pry/pry_instance.rb:290:in `evaluate_ruby'",
      "/Users/adam429/.rbenv/versions/2.7.0/lib/ruby/gems/2.7.0/gems/pry-0.13.0/lib/pry/pry_instance.rb:659:in `handle_line'",
      "/Users/adam429/.rbenv/versions/2.7.0/lib/ruby/gems/2.7.0/gems/pry-0.13.0/lib/pry/pry_instance.rb:261:in `block (2 levels) in eval'",
      "/Users/adam429/.rbenv/versions/2.7.0/lib/ruby/gems/2.7.0/gems/pry-0.13.0/lib/pry/pry_instance.rb:260:in `catch'",
      "/Users/adam429/.rbenv/versions/2.7.0/lib/ruby/gems/2.7.0/gems/pry-0.13.0/lib/pry/pry_instance.rb:260:in `block in eval'",
      "/Users/adam429/.rbenv/versions/2.7.0/lib/ruby/gems/2.7.0/gems/pry-0.13.0/lib/pry/pry_instance.rb:259:in `catch'",
      "/Users/adam429/.rbenv/versions/2.7.0/lib/ruby/gems/2.7.0/gems/pry-0.13.0/lib/pry/pry_instance.rb:259:in `eval'",
      "/Users/adam429/.rbenv/versions/2.7.0/lib/ruby/gems/2.7.0/gems/iruby-0.4.0/lib/iruby/backend.rb:66:in `eval'",
      "/Users/adam429/.rbenv/versions/2.7.0/lib/ruby/gems/2.7.0/gems/iruby-0.4.0/lib/iruby/backend.rb:12:in `eval'",
      "/Users/adam429/.rbenv/versions/2.7.0/lib/ruby/gems/2.7.0/gems/iruby-0.4.0/lib/iruby/kernel.rb:90:in `execute_request'",
      "/Users/adam429/.rbenv/versions/2.7.0/lib/ruby/gems/2.7.0/gems/iruby-0.4.0/lib/iruby/kernel.rb:49:in `dispatch'",
      "/Users/adam429/.rbenv/versions/2.7.0/lib/ruby/gems/2.7.0/gems/iruby-0.4.0/lib/iruby/kernel.rb:38:in `run'",
      "/Users/adam429/.rbenv/versions/2.7.0/lib/ruby/gems/2.7.0/gems/iruby-0.4.0/lib/iruby/command.rb:110:in `run_kernel'",
      "/Users/adam429/.rbenv/versions/2.7.0/lib/ruby/gems/2.7.0/gems/iruby-0.4.0/lib/iruby/command.rb:40:in `run'",
      "/Users/adam429/.rbenv/versions/2.7.0/lib/ruby/gems/2.7.0/gems/iruby-0.4.0/bin/iruby:5:in `<top (required)>'",
      "/Users/adam429/.rbenv/versions/2.7.0/bin/iruby:23:in `load'",
      "/Users/adam429/.rbenv/versions/2.7.0/bin/iruby:23:in `<main>'"
     ]
    }
   ],
   "source": [
    "## 引入人群  & 商品\n",
    "\n",
    "group = Store[\"group_marriage\"]\n",
    "product = Store[\"product_shortlist\"]\n",
    "product_top_send = Store[\"product_top_send\"]\n",
    "product_top_purchase = Store[\"product_top_purchase\"]\n",
    "\n",
    "user_id = 455\n",
    "\n",
    "user = User.find(user_id)\n",
    "spu_filter = %w[\n",
    "20138\n",
    "10161\n",
    "20138\n",
    "20789\n",
    "20136\n",
    "20717\n",
    "20745\n",
    "20786\n",
    "20787\n",
    "20934\n",
    "20258\n",
    "20259\n",
    "10162\n",
    "20137\n",
    "20741\n",
    "20744\n",
    "20788\n",
    "20906\n",
    "20908\n",
    "20912\n",
    "20157\n",
    "20176\n",
    "20217\n",
    "20343\n",
    "20783\n",
    "20785\n",
    "20793\n",
    "20851\n",
    "20875\n",
    "20882\n",
    "10143\n",
    "20781\n",
    "20782\n",
    "20784\n",
    "20081\n",
    "20120\n",
    "20121\n",
    "20351\n",
    "20606\n",
    "20076\n",
    "20194\n",
    "20195\n",
    "20205\n",
    "10112\n",
    "10113\n",
    "10145\n",
    "10267\n",
    "10284\n",
    "10285\n",
    "10286\n",
    "10295\n",
    "10306\n",
    "10333\n",
    "10343\n",
    "20037\n",
    "20141\n",
    "20150\n",
    "20157\n",
    "20177\n",
    "20350\n",
    "20580\n",
    "20672\n",
    "20745\n",
    "20846\n",
    "20851\n",
    "20874\n",
    "20882\n",
    "20910\n",
    "20934\n",
    "20944\n",
    "20945\n",
    "21041\n",
    "21049\n",
    "21055\n",
    "21056\n",
    "21060\n",
    "21062\n",
    "10003\n",
    "10348\n",
    "20088\n",
    "20144\n",
    "20159\n",
    "20171\n",
    "20173\n",
    "20676\n",
    "20677\n",
    "20693\n",
    "20713\n",
    "20744\n",
    "20762\n",
    "20788\n",
    "20810\n",
    "20845\n",
    "20860\n",
    "20870\n",
    "20925\n",
    "20960\n",
    "21010\n",
    "21070\n",
    "21071\n",
    "21108\n",
    "21111\n",
    "10192\n",
    "10057\n",
    "10066\n",
    "10069\n",
    "10239\n",
    "10240\n",
    "10290\n",
    "10326\n",
    "20044\n",
    "20046\n",
    "20054\n",
    "20070\n",
    "20279\n",
    "20320\n",
    "20595\n",
    "20656\n",
    "20665\n",
    "20798\n",
    "20818\n",
    "20824\n",
    "20896\n",
    "21021\n",
    "21028\n",
    "21075\n",
    "]\n",
    "nil\n"
   ]
  },
  {
   "cell_type": "code",
   "execution_count": 4,
   "metadata": {},
   "outputs": [
    {
     "data": {
      "text/html": [
       "<h1>用户档案</h1>"
      ],
      "text/plain": [
       "\"<h1>用户档案</h1>\""
      ]
     },
     "metadata": {},
     "output_type": "display_data"
    },
    {
     "data": {
      "text/html": [
       "\n",
       "<div id=\"app_bd25greevb\">\n",
       "<el-container>\n",
       "  <el-container>\n",
       "    <el-header>\n",
       "      <el-row :gutter=\"24\">\n",
       "        <el-col :span=\"4\">\n",
       "          <el-button icon=\"el-icon-caret-left\" circle v-on:click=\"left\"></el-button>\n",
       "          <el-button icon=\"el-icon-caret-right\" circle v-on:click=\"right\"></el-button>\n",
       "        </el-col>\n",
       "\n",
       "        <el-col :span=\"20\">\n",
       "          <h1>[{{cur_url}}] {{ url[cur_url] }}</h1>\n",
       "        </el-col>\n",
       "      </el-row>\n",
       "    </el-header>\n",
       "    <el-main>\n",
       "      <el-divider></el-divider>\n",
       "      <iframe v-bind:src=\"url[cur_url]\" width=\"1400\" height=\"800\"></iframe>\n",
       "    </el-main>\n",
       "\n",
       "  </el-container>\n",
       "</el-container>\n",
       "</div>\n",
       "\n",
       "\n",
       "\n",
       "<script>\n",
       "  Vue.use(VueChartkick.use(Chart))\n",
       "\n",
       "  app = new Vue({\n",
       "    el: '#app_bd25greevb',\n",
       "    data: {\n",
       "      url: [\"http://localhost:3000/user/455\"],\n",
       "      cur_url: 0\n",
       "    },\n",
       "    methods: {\n",
       "      left: function() {\n",
       "        this.cur_url -= 1\n",
       "        if (this.cur_url<0) this.cur_url = this.url.length-1\n",
       "      },\n",
       "      right: function() {\n",
       "        this.cur_url += 1\n",
       "        if (this.cur_url>=this.url.length) this.cur_url = 0\n",
       "      },\n",
       "      keyhandler: function() {\n",
       "        console.log(event.keyCode)\n",
       "        if (event.keyCode == 37) {\n",
       "        \tthis.left()\n",
       "        } else if (event.keyCode == 39) {\n",
       "        \tthis.right()\n",
       "        }\n",
       "      }\n",
       "    },\n",
       "    mounted () {\n",
       "      document.addEventListener(\"keyup\", this.keyhandler);\n",
       "    }\n",
       "  })\n",
       "</script>"
      ],
      "text/plain": [
       "\"\\n<div id=\\\"app_bd25greevb\\\">\\n<el-container>\\n  <el-container>\\n    <el-header>\\n      <el-row :gutter=\\\"24\\\">\\n        <el-col :span=\\\"4\\\">\\n          <el-button icon=\\\"el-icon-caret-left\\\" circle v-on:click=\\\"left\\\"></el-button>\\n          <el-button icon=\\\"el-icon-caret-right\\\" circle v-on:click=\\\"right\\\"></el-button>\\n        </el-col>\\n\\n        <el-col :span=\\\"20\\\">\\n          <h1>[{{cur_url}}] {{ url[cur_url] }}</h1>\\n        </el-col>\\n      </el-row>\\n    </el-header>\\n    <el-main>\\n      <el-divider></el-divider>\\n      <iframe v-bind:src=\\\"url[cur_url]\\\" width=\\\"1400\\\" height=\\\"800\\\"></iframe>\\n    </el-main>\\n\\n  </el-container>\\n</el-container>\\n</div>\\n\\n\\n\\n<script>\\n  Vue.use(VueChartkick.use(Chart))\\n\\n  app = new Vue({\\n    el: '#app_bd25greevb',\\n    data: {\\n      url: [\\\"http://localhost:3000/user/455\\\"],\\n      cur_url: 0\\n    },\\n    methods: {\\n      left: function() {\\n        this.cur_url -= 1\\n        if (this.cur_url<0) this.cur_url = this.url.length-1\\n      },\\n      right: function() {\\n        this.cur_url += 1\\n        if (this.cur_url>=this.url.length) this.cur_url = 0\\n      },\\n      keyhandler: function() {\\n        console.log(event.keyCode)\\n        if (event.keyCode == 37) {\\n        \\tthis.left()\\n        } else if (event.keyCode == 39) {\\n        \\tthis.right()\\n        }\\n      }\\n    },\\n    mounted () {\\n      document.addEventListener(\\\"keyup\\\", this.keyhandler);\\n    }\\n  })\\n</script>\""
      ]
     },
     "metadata": {},
     "output_type": "display_data"
    }
   ],
   "source": [
    "puts_header \"用户档案\"\n",
    "\n",
    "url = [\"http://localhost:3000/user/#{user_id}\"]\n",
    "puts_display render(\"左右浏览网页\",{:url=>url})\n",
    "\n",
    "nil"
   ]
  },
  {
   "cell_type": "code",
   "execution_count": 17,
   "metadata": {},
   "outputs": [
    {
     "data": {
      "text/html": [
       "<h1>用户历史购买商品</h1>"
      ],
      "text/plain": [
       "\"<h1>用户历史购买商品</h1>\""
      ]
     },
     "metadata": {},
     "output_type": "display_data"
    },
    {
     "data": {
      "text/html": [
       "<table><tr><td>SPU</td><td>Name</td><td>Price</td><td>Stock</td><td>Image</td><td>全体购买转化率</td><td>组别购买转化率</td><td>全部入盒=A</td><td>组别入盒=B</td><td>入盒比例=A/B</td><td>图片数量</td><td>QRCode</td></tr><tr><td><a href='https://console.wetry.shop/productDetail/1'>10000</a></td><td>季卡</td><td>129.0</td><td>0</td><td></td><td>1.0</td><td>1.0</td><td>2700</td><td>579</td><td>4.66</td><td>0</td><td><img src='https://image.wetry.shop/product/spu/10000/productDetailPageWxCode.jpg' width='150'/></td></tr><tr><td><a href='https://console.wetry.shop/productDetail/3'>10002</a></td><td>年卡</td><td>399.0</td><td>0</td><td></td><td>1.0</td><td>1.0</td><td>335</td><td>72</td><td>4.65</td><td>0</td><td><img src='https://image.wetry.shop/product/spu/10002/productDetailPageWxCode.jpg' width='150'/></td></tr><tr><td><a href='https://console.wetry.shop/productDetail/154'>10003</a></td><td>黑色哈伦小脚长裤</td><td>288.0</td><td>1</td><td><img src='https://image.wetry.shop/product/spu/10003/10003_a.jpg' width='150'/></td><td>0.19</td><td>0.33</td><td>27</td><td>6</td><td>4.5</td><td>1</td><td><img src='https://image.wetry.shop/product/spu/10003/productDetailPageWxCode.jpg' width='150'/></td></tr><tr><td><a href='https://console.wetry.shop/productDetail/156'>10005</a></td><td>黑色修身小脚裤</td><td>328.0</td><td>1</td><td><img src='https://image.wetry.shop/product/spu/10005/10005_a.jpg' width='150'/></td><td>0.21</td><td>0.19</td><td>39</td><td>16</td><td>2.44</td><td>1</td><td><img src='https://image.wetry.shop/product/spu/10005/productDetailPageWxCode.jpg' width='150'/></td></tr><tr><td><a href='https://console.wetry.shop/productDetail/169'>10061</a></td><td>凑单神器-菱形格女袜</td><td>28.0</td><td>1</td><td><img src='https://retry-image.oss-cn-zhangjiakou.aliyuncs.com/product/spu/e9924db2-e686-4968-8369-7d4958b4cad4.png' width='150'/></td><td>0.41</td><td>0.47</td><td>70</td><td>19</td><td>3.68</td><td>1</td><td><img src='https://image.wetry.shop/product/spu/10061/productDetailPageWxCode.jpg' width='150'/></td></tr><tr><td><a href='https://console.wetry.shop/productDetail/45'>10113</a></td><td>黑色假两件式职业感连衣裙</td><td>328.0</td><td>4</td><td><img src='https://image.wetry.shop/product/spu/10113/10113_a.jpg' width='150'/></td><td>0.04</td><td>0.14</td><td>24</td><td>7</td><td>3.43</td><td>5</td><td><img src='https://image.wetry.shop/product/spu/10113/productDetailPageWxCode.jpg' width='150'/></td></tr><tr><td><a href='https://console.wetry.shop/productDetail/136'>10218</a></td><td>白色方头细腰带</td><td>48.0</td><td>61</td><td><img src='http://image.wetry.shop/product/spu/10218/10218_a.jpg' width='150'/></td><td>0.22</td><td>0.19</td><td>174</td><td>32</td><td>5.44</td><td>1</td><td><img src='https://image.wetry.shop/product/spu/10218/productDetailPageWxCode.jpg' width='150'/></td></tr><tr><td><a href='https://console.wetry.shop/productDetail/395'>10341</a>(候选)</td><td>博主同款极致显瘦牛仔长裤</td><td>238.0</td><td>29</td><td><img src='https://retry-image.oss-cn-zhangjiakou.aliyuncs.com/product/spu/1efe183d-996c-4414-ae01-e154314aac9a.jpg' width='150'/></td><td>0.35</td><td>0.39</td><td>276</td><td>61</td><td>4.52</td><td>2</td><td><img src='https://image.wetry.shop/product/spu/10341/productDetailPageWxCode.jpg' width='150'/></td></tr><tr><td><a href='https://console.wetry.shop/productDetail/414'>20043</a></td><td>交叉围裹V领羊绒打底上衣</td><td>528.0</td><td>0</td><td><img src='https://retry-image.oss-cn-zhangjiakou.aliyuncs.com/product/spu/18aa0133-dc16-4998-8bde-6462c35ac8f5.jpg' width='150'/></td><td>0.27</td><td>0.5</td><td>37</td><td>12</td><td>3.08</td><td>2</td><td><img src='https://image.wetry.shop/product/spu/20043/productDetailPageWxCode.jpg' width='150'/></td></tr><tr><td><a href='https://console.wetry.shop/productDetail/480'>20106</a></td><td>奶白色超轻廓形羽绒服</td><td>668.0</td><td>1</td><td><img src='https://retry-image.oss-cn-zhangjiakou.aliyuncs.com/product/spu/ca42cefb-5e06-4148-9208-25780b85ebe3.png' width='150'/></td><td>0.14</td><td>0.13</td><td>21</td><td>8</td><td>2.63</td><td>1</td><td><img src='https://image.wetry.shop/product/spu/20106/productDetailPageWxCode.jpg' width='150'/></td></tr><tr><td><a href='https://console.wetry.shop/productDetail/526'>20151</a></td><td>黑色粗花呢风A字半裙</td><td>288.0</td><td>1</td><td><img src='https://retry-image.oss-cn-zhangjiakou.aliyuncs.com/product/spu/e14d3266-ec15-4b20-80b4-426aecef6910.jpg' width='150'/></td><td>0.2</td><td>0.33</td><td>41</td><td>9</td><td>4.56</td><td>2</td><td><img src='https://image.wetry.shop/product/spu/20151/productDetailPageWxCode.jpg' width='150'/></td></tr><tr><td><a href='https://console.wetry.shop/productDetail/675'>20300</a></td><td>莫兰迪蓝色领结衬衫</td><td>268.0</td><td>4</td><td><img src='https://retry-image.oss-cn-zhangjiakou.aliyuncs.com/product/spu/fa991221-ced8-45c7-a2e6-4f0c81947cfb.jpg' width='150'/></td><td>0.27</td><td>0.28</td><td>49</td><td>18</td><td>2.72</td><td>2</td><td><img src='https://image.wetry.shop/product/spu/20300/productDetailPageWxCode.jpg' width='150'/></td></tr><tr><td><a href='https://console.wetry.shop/productDetail/1033'>20658</a></td><td>卡其色针织裙套装</td><td>538.0</td><td>5</td><td><img src='https://retry-image.oss-cn-zhangjiakou.aliyuncs.com/product/spu/d86ab798-2a25-4e66-b8cc-52bca080be6c.png' width='150'/></td><td>0.14</td><td>0.31</td><td>37</td><td>13</td><td>2.85</td><td>1</td><td><img src='https://image.wetry.shop/product/spu/20658/productDetailPageWxCode.jpg' width='150'/></td></tr><tr><td><a href='https://console.wetry.shop/productDetail/1288'>20913</a></td><td>博主同款薄荷绿色过膝裙</td><td>258.0</td><td>2</td><td><img src='https://retry-image.oss-cn-zhangjiakou.aliyuncs.com/product/spu/89d5c3ea-e638-4fd4-887a-000bfac97372.jpg' width='150'/></td><td>0.14</td><td>0.33</td><td>14</td><td>3</td><td>4.67</td><td>1</td><td><img src='https://image.wetry.shop/product/spu/20913/productDetailPageWxCode.jpg' width='150'/></td></tr><tr><td><a href='https://console.wetry.shop/productDetail/1404'>21029</a></td><td>舒适大圆领T恤</td><td>108.0</td><td>5</td><td><img src='https://retry-image.oss-cn-zhangjiakou.aliyuncs.com/product/spu/41482883-d3c0-4c28-a483-f20e22286877.png' width='150'/></td><td>0.22</td><td>0.5</td><td>9</td><td>4</td><td>2.25</td><td>1</td><td><img src='https://image.wetry.shop/product/spu/21029/productDetailPageWxCode.jpg' width='150'/></td></tr></table>"
      ],
      "text/plain": [
       "\"<table><tr><td>SPU</td><td>Name</td><td>Price</td><td>Stock</td><td>Image</td><td>全体购买转化率</td><td>组别购买转化率</td><td>全部入盒=A</td><td>组别入盒=B</td><td>入盒比例=A/B</td><td>图片数量</td><td>QRCode</td></tr><tr><td><a href='https://console.wetry.shop/productDetail/1'>10000</a></td><td>季卡</td><td>129.0</td><td>0</td><td></td><td>1.0</td><td>1.0</td><td>2700</td><td>579</td><td>4.66</td><td>0</td><td><img src='https://image.wetry.shop/product/spu/10000/productDetailPageWxCode.jpg' width='150'/></td></tr><tr><td><a href='https://console.wetry.shop/productDetail/3'>10002</a></td><td>年卡</td><td>399.0</td><td>0</td><td></td><td>1.0</td><td>1.0</td><td>335</td><td>72</td><td>4.65</td><td>0</td><td><img src='https://image.wetry.shop/product/spu/10002/productDetailPageWxCode.jpg' width='150'/></td></tr><tr><td><a href='https://console.wetry.shop/productDetail/154'>10003</a></td><td>黑色哈伦小脚长裤</td><td>288.0</td><td>1</td><td><img src='https://image.wetry.shop/product/spu/10003/10003_a.jpg' width='150'/></td><td>0.19</td><td>0.33</td><td>27</td><td>6</td><td>4.5</td><td>1</td><td><img src='https://image.wetry.shop/product/spu/10003/productDetailPageWxCode.jpg' width='150'/></td></tr><tr><td><a href='https://console.wetry.shop/productDetail/156'>10005</a></td><td>黑色修身小脚裤</td><td>328.0</td><td>1</td><td><img src='https://image.wetry.shop/product/spu/10005/10005_a.jpg' width='150'/></td><td>0.21</td><td>0.19</td><td>39</td><td>16</td><td>2.44</td><td>1</td><td><img src='https://image.wetry.shop/product/spu/10005/productDetailPageWxCode.jpg' width='150'/></td></tr><tr><td><a href='https://console.wetry.shop/productDetail/169'>10061</a></td><td>凑单神器-菱形格女袜</td><td>28.0</td><td>1</td><td><img src='https://retry-image.oss-cn-zhangjiakou.aliyuncs.com/product/spu/e9924db2-e686-4968-8369-7d4958b4cad4.png' width='150'/></td><td>0.41</td><td>0.47</td><td>70</td><td>19</td><td>3.68</td><td>1</td><td><img src='https://image.wetry.shop/product/spu/10061/productDetailPageWxCode.jpg' width='150'/></td></tr><tr><td><a href='https://console.wetry.shop/productDetail/45'>10113</a></td><td>黑色假两件式职业感连衣裙</td><td>328.0</td><td>4</td><td><img src='https://image.wetry.shop/product/spu/10113/10113_a.jpg' width='150'/></td><td>0.04</td><td>0.14</td><td>24</td><td>7</td><td>3.43</td><td>5</td><td><img src='https://image.wetry.shop/product/spu/10113/productDetailPageWxCode.jpg' width='150'/></td></tr><tr><td><a href='https://console.wetry.shop/productDetail/136'>10218</a></td><td>白色方头细腰带</td><td>48.0</td><td>61</td><td><img src='http://image.wetry.shop/product/spu/10218/10218_a.jpg' width='150'/></td><td>0.22</td><td>0.19</td><td>174</td><td>32</td><td>5.44</td><td>1</td><td><img src='https://image.wetry.shop/product/spu/10218/productDetailPageWxCode.jpg' width='150'/></td></tr><tr><td><a href='https://console.wetry.shop/productDetail/395'>10341</a>(候选)</td><td>博主同款极致显瘦牛仔长裤</td><td>238.0</td><td>29</td><td><img src='https://retry-image.oss-cn-zhangjiakou.aliyuncs.com/product/spu/1efe183d-996c-4414-ae01-e154314aac9a.jpg' width='150'/></td><td>0.35</td><td>0.39</td><td>276</td><td>61</td><td>4.52</td><td>2</td><td><img src='https://image.wetry.shop/product/spu/10341/productDetailPageWxCode.jpg' width='150'/></td></tr><tr><td><a href='https://console.wetry.shop/productDetail/414'>20043</a></td><td>交叉围裹V领羊绒打底上衣</td><td>528.0</td><td>0</td><td><img src='https://retry-image.oss-cn-zhangjiakou.aliyuncs.com/product/spu/18aa0133-dc16-4998-8bde-6462c35ac8f5.jpg' width='150'/></td><td>0.27</td><td>0.5</td><td>37</td><td>12</td><td>3.08</td><td>2</td><td><img src='https://image.wetry.shop/product/spu/20043/productDetailPageWxCode.jpg' width='150'/></td></tr><tr><td><a href='https://console.wetry.shop/productDetail/480'>20106</a></td><td>奶白色超轻廓形羽绒服</td><td>668.0</td><td>1</td><td><img src='https://retry-image.oss-cn-zhangjiakou.aliyuncs.com/product/spu/ca42cefb-5e06-4148-9208-25780b85ebe3.png' width='150'/></td><td>0.14</td><td>0.13</td><td>21</td><td>8</td><td>2.63</td><td>1</td><td><img src='https://image.wetry.shop/product/spu/20106/productDetailPageWxCode.jpg' width='150'/></td></tr><tr><td><a href='https://console.wetry.shop/productDetail/526'>20151</a></td><td>黑色粗花呢风A字半裙</td><td>288.0</td><td>1</td><td><img src='https://retry-image.oss-cn-zhangjiakou.aliyuncs.com/product/spu/e14d3266-ec15-4b20-80b4-426aecef6910.jpg' width='150'/></td><td>0.2</td><td>0.33</td><td>41</td><td>9</td><td>4.56</td><td>2</td><td><img src='https://image.wetry.shop/product/spu/20151/productDetailPageWxCode.jpg' width='150'/></td></tr><tr><td><a href='https://console.wetry.shop/productDetail/675'>20300</a></td><td>莫兰迪蓝色领结衬衫</td><td>268.0</td><td>4</td><td><img src='https://retry-image.oss-cn-zhangjiakou.aliyuncs.com/product/spu/fa991221-ced8-45c7-a2e6-4f0c81947cfb.jpg' width='150'/></td><td>0.27</td><td>0.28</td><td>49</td><td>18</td><td>2.72</td><td>2</td><td><img src='https://image.wetry.shop/product/spu/20300/productDetailPageWxCode.jpg' width='150'/></td></tr><tr><td><a href='https://console.wetry.shop/productDetail/1033'>20658</a></td><td>卡其色针织裙套装</td><td>538.0</td><td>5</td><td><img src='https://retry-image.oss-cn-zhangjiakou.aliyuncs.com/product/spu/d86ab798-2a25-4e66-b8cc-52bca080be6c.png' width='150'/></td><td>0.14</td><td>0.31</td><td>37</td><td>13</td><td>2.85</td><td>1</td><td><img src='https://image.wetry.shop/product/spu/20658/productDetailPageWxCode.jpg' width='150'/></td></tr><tr><td><a href='https://console.wetry.shop/productDetail/1288'>20913</a></td><td>博主同款薄荷绿色过膝裙</td><td>258.0</td><td>2</td><td><img src='https://retry-image.oss-cn-zhangjiakou.aliyuncs.com/product/spu/89d5c3ea-e638-4fd4-887a-000bfac97372.jpg' width='150'/></td><td>0.14</td><td>0.33</td><td>14</td><td>3</td><td>4.67</td><td>1</td><td><img src='https://image.wetry.shop/product/spu/20913/productDetailPageWxCode.jpg' width='150'/></td></tr><tr><td><a href='https://console.wetry.shop/productDetail/1404'>21029</a></td><td>舒适大圆领T恤</td><td>108.0</td><td>5</td><td><img src='https://retry-image.oss-cn-zhangjiakou.aliyuncs.com/product/spu/41482883-d3c0-4c28-a483-f20e22286877.png' width='150'/></td><td>0.22</td><td>0.5</td><td>9</td><td>4</td><td>2.25</td><td>1</td><td><img src='https://image.wetry.shop/product/spu/21029/productDetailPageWxCode.jpg' width='150'/></td></tr></table>\""
      ]
     },
     "metadata": {},
     "output_type": "display_data"
    }
   ],
   "source": [
    "puts_header \"用户历史购买商品\"\n",
    "\n",
    "data = Order.where(member_id:user_id).finish_purchase.item.sold.product_spu\n",
    "\n",
    "table = data.map do |x|\n",
    "    [ \"<a href='https://console.wetry.shop/productDetail/#{x.id}'>#{x.spu}</a>\" + (product.id.index(x.id) ? \"(候选)\" : \"\") ,\n",
    "     x.product_name,\n",
    "     x.member_price,\n",
    "     x.warehouse.unsold.count,\n",
    "     x.picture.keep.url,\n",
    "     ratio(Orders.finish_purchase.item.keep.where(spu:x.spu).sold.size, Orders.finish_purchase.item.keep.where(spu:x.spu).size),\n",
    "     ratio(Orders.where(member_id:group[\"已育\"].id).finish_purchase.item.keep.where(spu:x.spu).sold.size, Orders.where(member_id:group[\"已育\"].id).finish_purchase.item.keep.where(spu:x.spu).size),\n",
    "     Orders.finish_purchase.item.keep.where(spu:x.spu).size,\n",
    "     Orders.where(member_id:group[\"已育\"].id).finish_purchase.item.keep.where(spu:x.spu).size,\n",
    "     ratio(Orders.finish_purchase.item.keep.where(spu:x.spu).size,Orders.where(member_id:group[\"已育\"].id).finish_purchase.item.keep.where(spu:x.spu).size),        \n",
    "     x.picture.keep.size,\n",
    "     \"https://image.wetry.shop/product/spu/#{x.spu}/productDetailPageWxCode.jpg\"\n",
    "    ] end\n",
    "table = table.unshift([\"SPU\",\"Name\",\"Price\", \"Stock\",\"Image\",\"全体购买转化率\",\"组别购买转化率\",\"全部入盒=A\",\"组别入盒=B\",\"入盒比例=A/B\",\"图片数量\",\"QRCode\"])\n",
    "puts_table table"
   ]
  },
  {
   "cell_type": "code",
   "execution_count": 53,
   "metadata": {},
   "outputs": [
    {
     "data": {
      "text/html": [
       "<h1>用户历史对商品评价</h1>"
      ],
      "text/plain": [
       "\"<h1>用户历史对商品评价</h1>\""
      ]
     },
     "metadata": {},
     "output_type": "display_data"
    },
    {
     "data": {
      "text/html": [
       "<table><tr><td>SPU</td><td>Name</td><td>Price</td><td>Stock</td><td>Image</td><td>全体购买转化率</td><td>组别购买转化率</td><td>全部入盒=A</td><td>组别入盒=B</td><td>入盒比例=A/B</td><td>图片数量</td><td>QRCode</td><td>用户评价</td></tr><tr><td><a href='https://console.wetry.shop/productDetail/4'>10071</a></td><td>橙色V领口设计感连衣裙</td><td>288.0</td><td>0</td><td><img src='https://image.wetry.shop/product/spu/10071/10071_a.jpg' width='150'/></td><td>0.29</td><td>0.29</td><td>24</td><td>7</td><td>3.43</td><td>6</td><td><img src='https://image.wetry.shop/product/spu/10071/productDetailPageWxCode.jpg' width='150'/></td><td>颜色图案|实物颜色太暗了</td></tr><tr><td><a href='https://console.wetry.shop/productDetail/15'>10082</a></td><td>卡其色系带西服外套</td><td>298.0</td><td>5</td><td><img src='https://image.wetry.shop/product/spu/10082/%20%2010082_a.jpg' width='150'/></td><td>0.09</td><td>0.1</td><td>106</td><td>29</td><td>3.66</td><td>2</td><td><img src='https://image.wetry.shop/product/spu/10082/productDetailPageWxCode.jpg' width='150'/></td><td>面料|大了一码。另外有点皱</td></tr><tr><td><a href='https://console.wetry.shop/productDetail/317'>10294</a></td><td>设计感牛仔阔腿裤</td><td>268.0</td><td>14</td><td><img src='https://image.wetry.shop/product/spu/10294/10294_a.jpg' width='150'/></td><td>0.18</td><td>0.0</td><td>117</td><td>18</td><td>6.5</td><td>1</td><td><img src='https://image.wetry.shop/product/spu/10294/productDetailPageWxCode.jpg' width='150'/></td><td>长度|长度拖地了。。</td></tr><tr><td><a href='https://console.wetry.shop/productDetail/626'>20251</a></td><td>驼色收腰长款连衣裙</td><td>568.0</td><td>6</td><td><img src='https://retry-image.oss-cn-zhangjiakou.aliyuncs.com/product/spu/a474a4a9-1922-44e3-b943-3ba00e4bab29.jpg' width='150'/></td><td>0.08</td><td>0.08</td><td>24</td><td>13</td><td>1.85</td><td>2</td><td><img src='https://image.wetry.shop/product/spu/20251/productDetailPageWxCode.jpg' width='150'/></td><td>价格|上身感觉一般</td></tr><tr><td><a href='https://console.wetry.shop/productDetail/642'>20267</a></td><td>白色一字领连衣裙</td><td>528.0</td><td>1</td><td><img src='https://retry-image.oss-cn-zhangjiakou.aliyuncs.com/product/spu/e3c8ae4e-6ca6-4e35-a9bd-e6ddaa0e3ed7.jpg' width='150'/></td><td>0.15</td><td>0.0</td><td>20</td><td>3</td><td>6.67</td><td>2</td><td><img src='https://image.wetry.shop/product/spu/20267/productDetailPageWxCode.jpg' width='150'/></td><td>尺码|大了一码</td></tr><tr><td><a href='https://console.wetry.shop/productDetail/639'>20264</a></td><td>V领口羊毛打底上衣</td><td>258.0</td><td>0</td><td><img src='https://retry-image.oss-cn-zhangjiakou.aliyuncs.com/product/spu/c572f36c-2cfc-4283-a602-9860162c5bc6.png' width='150'/></td><td>0.19</td><td>0.2</td><td>27</td><td>5</td><td>5.4</td><td>1</td><td><img src='https://image.wetry.shop/product/spu/20264/productDetailPageWxCode.jpg' width='150'/></td><td>颜色图案|颜色太暗，而且有点太贴身</td></tr><tr><td><a href='https://console.wetry.shop/productDetail/718'>20343</a></td><td>拼色围裹连衣裙</td><td>988.0</td><td>2</td><td><img src='https://retry-image.oss-cn-zhangjiakou.aliyuncs.com/product/spu/2964609a-14cc-499a-bda4-5c71e82ccf61.png' width='150'/></td><td>0.0</td><td>0.0</td><td>15</td><td>5</td><td>3.0</td><td>2</td><td><img src='https://image.wetry.shop/product/spu/20343/productDetailPageWxCode.jpg' width='150'/></td><td>价格|太贴身，显小肚子。价格也有点高了。</td></tr><tr><td><a href='https://console.wetry.shop/productDetail/1101'>20726</a></td><td>白色垂坠感长裤</td><td>298.0</td><td>4</td><td><img src='https://retry-image.oss-cn-zhangjiakou.aliyuncs.com/product/spu/4d5bdec6-e9b5-4ff3-bc9e-ebaea8026357.jpg' width='150'/></td><td>0.1</td><td>0.0</td><td>31</td><td>5</td><td>6.2</td><td>2</td><td><img src='https://image.wetry.shop/product/spu/20726/productDetailPageWxCode.jpg' width='150'/></td><td>面料|面料太透，而且穿上显得胯很宽</td></tr><tr><td><a href='https://console.wetry.shop/productDetail/1383'>21008</a></td><td>法式复古风方领口连衣裙</td><td>358.0</td><td>5</td><td><img src='https://retry-image.oss-cn-zhangjiakou.aliyuncs.com/product/spu/d5620580-3fba-4968-be68-561533b04524.png' width='150'/></td><td>0.0</td><td>0.0</td><td>3</td><td>1</td><td>3.0</td><td>1</td><td><img src='https://image.wetry.shop/product/spu/21008/productDetailPageWxCode.jpg' width='150'/></td><td>颜色图案|</td></tr><tr><td><a href='https://console.wetry.shop/productDetail/1436'>21061</a></td><td>法式复古印花围裹裙</td><td>598.0</td><td>4</td><td><img src='https://retry-image.oss-cn-zhangjiakou.aliyuncs.com/product/spu/962c20bb-519a-4e1d-baae-107718fdb839.jpg' width='150'/></td><td>0.0</td><td>0.0</td><td>6</td><td>2</td><td>3.0</td><td>2</td><td><img src='https://image.wetry.shop/product/spu/21061/productDetailPageWxCode.jpg' width='150'/></td><td>颜色图案|</td></tr><tr><td><a href='https://console.wetry.shop/productDetail/1437'>21062</a></td><td>法式复古波点连衣裙</td><td>548.0</td><td>9</td><td><img src='https://retry-image.oss-cn-zhangjiakou.aliyuncs.com/product/spu/35edf05e-4a9e-47fc-9637-f63fb746eadd.jpg' width='150'/></td><td>0.0</td><td>0.0</td><td>13</td><td>6</td><td>2.17</td><td>2</td><td><img src='https://image.wetry.shop/product/spu/21062/productDetailPageWxCode.jpg' width='150'/></td><td>颜色图案|</td></tr><tr><td><a href='https://console.wetry.shop/productDetail/1454'>21079</a></td><td>韩国白色显瘦魔法T恤</td><td>138.0</td><td>5</td><td><img src='https://retry-image.oss-cn-zhangjiakou.aliyuncs.com/product/spu/8a06af9e-1535-487c-9c02-c6fa6ceade40.png' width='150'/></td><td>0.09</td><td>0.0</td><td>11</td><td>3</td><td>3.67</td><td>1</td><td><img src='https://image.wetry.shop/product/spu/21079/productDetailPageWxCode.jpg' width='150'/></td><td>面料|太薄了，有点透，而且感觉版型不好</td></tr><tr><td><a href='https://console.wetry.shop/productDetail/1086'>20711</a></td><td>绿色V领衬衫</td><td>208.0</td><td>2</td><td><img src='https://retry-image.oss-cn-zhangjiakou.aliyuncs.com/product/spu/5ca471b5-4029-4225-b7e3-4ae3ae67626f.png' width='150'/></td><td>0.12</td><td>0.25</td><td>17</td><td>4</td><td>4.25</td><td>1</td><td><img src='https://image.wetry.shop/product/spu/20711/productDetailPageWxCode.jpg' width='150'/></td><td>|不要耸肩设计的，身材本来就肩宽。</td></tr><tr><td><a href='https://console.wetry.shop/productDetail/1117'>20742</a></td><td>博主同款系带缎面上衣</td><td>1099.0</td><td>3</td><td><img src='https://retry-image.oss-cn-zhangjiakou.aliyuncs.com/product/spu/df73560b-c581-4427-9f44-eaa4f275a5b6.jpg' width='150'/></td><td>0.13</td><td>0.0</td><td>30</td><td>9</td><td>3.33</td><td>2</td><td><img src='https://image.wetry.shop/product/spu/20742/productDetailPageWxCode.jpg' width='150'/></td><td>|穿上身这个设计不好打理，显得繁复</td></tr><tr><td><a href='https://console.wetry.shop/productDetail/1486'>21111</a></td><td>设计感不对称黑色百褶裙</td><td>218.0</td><td>5</td><td><img src='https://retry-image.oss-cn-zhangjiakou.aliyuncs.com/product/spu/7b3cf14d-22ce-4f3a-b74c-78a6e2bbd862.png' width='150'/></td><td>0.0</td><td>0.0</td><td>6</td><td>2</td><td>3.0</td><td>1</td><td><img src='https://image.wetry.shop/product/spu/21111/productDetailPageWxCode.jpg' width='150'/></td><td>|没研究清楚哪边是正</td></tr></table>"
      ],
      "text/plain": [
       "\"<table><tr><td>SPU</td><td>Name</td><td>Price</td><td>Stock</td><td>Image</td><td>全体购买转化率</td><td>组别购买转化率</td><td>全部入盒=A</td><td>组别入盒=B</td><td>入盒比例=A/B</td><td>图片数量</td><td>QRCode</td><td>用户评价</td></tr><tr><td><a href='https://console.wetry.shop/productDetail/4'>10071</a></td><td>橙色V领口设计感连衣裙</td><td>288.0</td><td>0</td><td><img src='https://image.wetry.shop/product/spu/10071/10071_a.jpg' width='150'/></td><td>0.29</td><td>0.29</td><td>24</td><td>7</td><td>3.43</td><td>6</td><td><img src='https://image.wetry.shop/product/spu/10071/productDetailPageWxCode.jpg' width='150'/></td><td>颜色图案|实物颜色太暗了</td></tr><tr><td><a href='https://console.wetry.shop/productDetail/15'>10082</a></td><td>卡其色系带西服外套</td><td>298.0</td><td>5</td><td><img src='https://image.wetry.shop/product/spu/10082/%20%2010082_a.jpg' width='150'/></td><td>0.09</td><td>0.1</td><td>106</td><td>29</td><td>3.66</td><td>2</td><td><img src='https://image.wetry.shop/product/spu/10082/productDetailPageWxCode.jpg' width='150'/></td><td>面料|大了一码。另外有点皱</td></tr><tr><td><a href='https://console.wetry.shop/productDetail/317'>10294</a></td><td>设计感牛仔阔腿裤</td><td>268.0</td><td>14</td><td><img src='https://image.wetry.shop/product/spu/10294/10294_a.jpg' width='150'/></td><td>0.18</td><td>0.0</td><td>117</td><td>18</td><td>6.5</td><td>1</td><td><img src='https://image.wetry.shop/product/spu/10294/productDetailPageWxCode.jpg' width='150'/></td><td>长度|长度拖地了。。</td></tr><tr><td><a href='https://console.wetry.shop/productDetail/626'>20251</a></td><td>驼色收腰长款连衣裙</td><td>568.0</td><td>6</td><td><img src='https://retry-image.oss-cn-zhangjiakou.aliyuncs.com/product/spu/a474a4a9-1922-44e3-b943-3ba00e4bab29.jpg' width='150'/></td><td>0.08</td><td>0.08</td><td>24</td><td>13</td><td>1.85</td><td>2</td><td><img src='https://image.wetry.shop/product/spu/20251/productDetailPageWxCode.jpg' width='150'/></td><td>价格|上身感觉一般</td></tr><tr><td><a href='https://console.wetry.shop/productDetail/642'>20267</a></td><td>白色一字领连衣裙</td><td>528.0</td><td>1</td><td><img src='https://retry-image.oss-cn-zhangjiakou.aliyuncs.com/product/spu/e3c8ae4e-6ca6-4e35-a9bd-e6ddaa0e3ed7.jpg' width='150'/></td><td>0.15</td><td>0.0</td><td>20</td><td>3</td><td>6.67</td><td>2</td><td><img src='https://image.wetry.shop/product/spu/20267/productDetailPageWxCode.jpg' width='150'/></td><td>尺码|大了一码</td></tr><tr><td><a href='https://console.wetry.shop/productDetail/639'>20264</a></td><td>V领口羊毛打底上衣</td><td>258.0</td><td>0</td><td><img src='https://retry-image.oss-cn-zhangjiakou.aliyuncs.com/product/spu/c572f36c-2cfc-4283-a602-9860162c5bc6.png' width='150'/></td><td>0.19</td><td>0.2</td><td>27</td><td>5</td><td>5.4</td><td>1</td><td><img src='https://image.wetry.shop/product/spu/20264/productDetailPageWxCode.jpg' width='150'/></td><td>颜色图案|颜色太暗，而且有点太贴身</td></tr><tr><td><a href='https://console.wetry.shop/productDetail/718'>20343</a></td><td>拼色围裹连衣裙</td><td>988.0</td><td>2</td><td><img src='https://retry-image.oss-cn-zhangjiakou.aliyuncs.com/product/spu/2964609a-14cc-499a-bda4-5c71e82ccf61.png' width='150'/></td><td>0.0</td><td>0.0</td><td>15</td><td>5</td><td>3.0</td><td>2</td><td><img src='https://image.wetry.shop/product/spu/20343/productDetailPageWxCode.jpg' width='150'/></td><td>价格|太贴身，显小肚子。价格也有点高了。</td></tr><tr><td><a href='https://console.wetry.shop/productDetail/1101'>20726</a></td><td>白色垂坠感长裤</td><td>298.0</td><td>4</td><td><img src='https://retry-image.oss-cn-zhangjiakou.aliyuncs.com/product/spu/4d5bdec6-e9b5-4ff3-bc9e-ebaea8026357.jpg' width='150'/></td><td>0.1</td><td>0.0</td><td>31</td><td>5</td><td>6.2</td><td>2</td><td><img src='https://image.wetry.shop/product/spu/20726/productDetailPageWxCode.jpg' width='150'/></td><td>面料|面料太透，而且穿上显得胯很宽</td></tr><tr><td><a href='https://console.wetry.shop/productDetail/1383'>21008</a></td><td>法式复古风方领口连衣裙</td><td>358.0</td><td>5</td><td><img src='https://retry-image.oss-cn-zhangjiakou.aliyuncs.com/product/spu/d5620580-3fba-4968-be68-561533b04524.png' width='150'/></td><td>0.0</td><td>0.0</td><td>3</td><td>1</td><td>3.0</td><td>1</td><td><img src='https://image.wetry.shop/product/spu/21008/productDetailPageWxCode.jpg' width='150'/></td><td>颜色图案|</td></tr><tr><td><a href='https://console.wetry.shop/productDetail/1436'>21061</a></td><td>法式复古印花围裹裙</td><td>598.0</td><td>4</td><td><img src='https://retry-image.oss-cn-zhangjiakou.aliyuncs.com/product/spu/962c20bb-519a-4e1d-baae-107718fdb839.jpg' width='150'/></td><td>0.0</td><td>0.0</td><td>6</td><td>2</td><td>3.0</td><td>2</td><td><img src='https://image.wetry.shop/product/spu/21061/productDetailPageWxCode.jpg' width='150'/></td><td>颜色图案|</td></tr><tr><td><a href='https://console.wetry.shop/productDetail/1437'>21062</a></td><td>法式复古波点连衣裙</td><td>548.0</td><td>9</td><td><img src='https://retry-image.oss-cn-zhangjiakou.aliyuncs.com/product/spu/35edf05e-4a9e-47fc-9637-f63fb746eadd.jpg' width='150'/></td><td>0.0</td><td>0.0</td><td>13</td><td>6</td><td>2.17</td><td>2</td><td><img src='https://image.wetry.shop/product/spu/21062/productDetailPageWxCode.jpg' width='150'/></td><td>颜色图案|</td></tr><tr><td><a href='https://console.wetry.shop/productDetail/1454'>21079</a></td><td>韩国白色显瘦魔法T恤</td><td>138.0</td><td>5</td><td><img src='https://retry-image.oss-cn-zhangjiakou.aliyuncs.com/product/spu/8a06af9e-1535-487c-9c02-c6fa6ceade40.png' width='150'/></td><td>0.09</td><td>0.0</td><td>11</td><td>3</td><td>3.67</td><td>1</td><td><img src='https://image.wetry.shop/product/spu/21079/productDetailPageWxCode.jpg' width='150'/></td><td>面料|太薄了，有点透，而且感觉版型不好</td></tr><tr><td><a href='https://console.wetry.shop/productDetail/1086'>20711</a></td><td>绿色V领衬衫</td><td>208.0</td><td>2</td><td><img src='https://retry-image.oss-cn-zhangjiakou.aliyuncs.com/product/spu/5ca471b5-4029-4225-b7e3-4ae3ae67626f.png' width='150'/></td><td>0.12</td><td>0.25</td><td>17</td><td>4</td><td>4.25</td><td>1</td><td><img src='https://image.wetry.shop/product/spu/20711/productDetailPageWxCode.jpg' width='150'/></td><td>|不要耸肩设计的，身材本来就肩宽。</td></tr><tr><td><a href='https://console.wetry.shop/productDetail/1117'>20742</a></td><td>博主同款系带缎面上衣</td><td>1099.0</td><td>3</td><td><img src='https://retry-image.oss-cn-zhangjiakou.aliyuncs.com/product/spu/df73560b-c581-4427-9f44-eaa4f275a5b6.jpg' width='150'/></td><td>0.13</td><td>0.0</td><td>30</td><td>9</td><td>3.33</td><td>2</td><td><img src='https://image.wetry.shop/product/spu/20742/productDetailPageWxCode.jpg' width='150'/></td><td>|穿上身这个设计不好打理，显得繁复</td></tr><tr><td><a href='https://console.wetry.shop/productDetail/1486'>21111</a></td><td>设计感不对称黑色百褶裙</td><td>218.0</td><td>5</td><td><img src='https://retry-image.oss-cn-zhangjiakou.aliyuncs.com/product/spu/7b3cf14d-22ce-4f3a-b74c-78a6e2bbd862.png' width='150'/></td><td>0.0</td><td>0.0</td><td>6</td><td>2</td><td>3.0</td><td>1</td><td><img src='https://image.wetry.shop/product/spu/21111/productDetailPageWxCode.jpg' width='150'/></td><td>|没研究清楚哪边是正</td></tr></table>\""
      ]
     },
     "metadata": {},
     "output_type": "display_data"
    }
   ],
   "source": [
    "puts_header \"用户历史对商品评价\"\n",
    "\n",
    "\n",
    "feedback1 = user.orders.product.order_feedback_detail.keep.pluck(:spu,:order_feedback_tag_name).to_h\n",
    "feedback2 = user.orders.product.order_feedback.keep.pluck(:order_item_id,:text).map do |x| [Item.find(x[0]).spu,x[1]] end.to_h\n",
    "\n",
    "table =(feedback1.to_a.map do |x| x[0] end + feedback2.to_a.map do |x| x[0] end).uniq.map do |y|\n",
    "     x=ProductSpu.where(spu:y).first\n",
    "        [ \"<a href='https://console.wetry.shop/productDetail/#{x.id}'>#{x.spu}</a>\" + (product.id.index(x.id) ? \"(候选)\" : \"\") ,\n",
    "     x.product_name,\n",
    "     x.member_price,\n",
    "     x.warehouse.unsold.count,\n",
    "     x.picture.keep.url,\n",
    "     ratio(Orders.finish_purchase.item.keep.where(spu:x.spu).sold.size, Orders.finish_purchase.item.keep.where(spu:x.spu).size),\n",
    "     ratio(Orders.where(member_id:group[\"已育\"].id).finish_purchase.item.keep.where(spu:x.spu).sold.size, Orders.where(member_id:group[\"已育\"].id).finish_purchase.item.keep.where(spu:x.spu).size),\n",
    "     Orders.finish_purchase.item.keep.where(spu:x.spu).size,\n",
    "     Orders.where(member_id:group[\"已育\"].id).finish_purchase.item.keep.where(spu:x.spu).size,\n",
    "     ratio(Orders.finish_purchase.item.keep.where(spu:x.spu).size,Orders.where(member_id:group[\"已育\"].id).finish_purchase.item.keep.where(spu:x.spu).size),        \n",
    "     x.picture.keep.size,\n",
    "     \"https://image.wetry.shop/product/spu/#{x.spu}/productDetailPageWxCode.jpg\",\n",
    "    feedback1[x.spu].to_s + \"|\" +  feedback2[x.spu].to_s\n",
    "    ] end\n",
    "table = table.unshift([\"SPU\",\"Name\",\"Price\", \"Stock\",\"Image\",\"全体购买转化率\",\"组别购买转化率\",\"全部入盒=A\",\"组别入盒=B\",\"入盒比例=A/B\",\"图片数量\",\"QRCode\",\"用户评价\"])\n",
    "puts_table table"
   ]
  },
  {
   "cell_type": "code",
   "execution_count": null,
   "metadata": {},
   "outputs": [
    {
     "ename": "NoMethodError",
     "evalue": "undefined method `product' for main:Object",
     "output_type": "error",
     "traceback": [
      "\u001b[31mNoMethodError\u001b[0m: undefined method `product' for main:Object",
      "/Users/adam429/Dropbox/Project/2020 WeTryCube/wtnb/wt-iruby/wtnb/database.rb:60:in `method_missing'",
      "(pry):12:in `<main>'",
      "/Users/adam429/.rbenv/versions/2.7.0/lib/ruby/gems/2.7.0/gems/pry-0.13.0/lib/pry/pry_instance.rb:290:in `eval'",
      "/Users/adam429/.rbenv/versions/2.7.0/lib/ruby/gems/2.7.0/gems/pry-0.13.0/lib/pry/pry_instance.rb:290:in `evaluate_ruby'",
      "/Users/adam429/.rbenv/versions/2.7.0/lib/ruby/gems/2.7.0/gems/pry-0.13.0/lib/pry/pry_instance.rb:659:in `handle_line'",
      "/Users/adam429/.rbenv/versions/2.7.0/lib/ruby/gems/2.7.0/gems/pry-0.13.0/lib/pry/pry_instance.rb:261:in `block (2 levels) in eval'",
      "/Users/adam429/.rbenv/versions/2.7.0/lib/ruby/gems/2.7.0/gems/pry-0.13.0/lib/pry/pry_instance.rb:260:in `catch'",
      "/Users/adam429/.rbenv/versions/2.7.0/lib/ruby/gems/2.7.0/gems/pry-0.13.0/lib/pry/pry_instance.rb:260:in `block in eval'",
      "/Users/adam429/.rbenv/versions/2.7.0/lib/ruby/gems/2.7.0/gems/pry-0.13.0/lib/pry/pry_instance.rb:259:in `catch'",
      "/Users/adam429/.rbenv/versions/2.7.0/lib/ruby/gems/2.7.0/gems/pry-0.13.0/lib/pry/pry_instance.rb:259:in `eval'",
      "/Users/adam429/.rbenv/versions/2.7.0/lib/ruby/gems/2.7.0/gems/iruby-0.4.0/lib/iruby/backend.rb:66:in `eval'",
      "/Users/adam429/.rbenv/versions/2.7.0/lib/ruby/gems/2.7.0/gems/iruby-0.4.0/lib/iruby/backend.rb:12:in `eval'",
      "/Users/adam429/.rbenv/versions/2.7.0/lib/ruby/gems/2.7.0/gems/iruby-0.4.0/lib/iruby/kernel.rb:90:in `execute_request'",
      "/Users/adam429/.rbenv/versions/2.7.0/lib/ruby/gems/2.7.0/gems/iruby-0.4.0/lib/iruby/kernel.rb:49:in `dispatch'",
      "/Users/adam429/.rbenv/versions/2.7.0/lib/ruby/gems/2.7.0/gems/iruby-0.4.0/lib/iruby/kernel.rb:38:in `run'",
      "/Users/adam429/.rbenv/versions/2.7.0/lib/ruby/gems/2.7.0/gems/iruby-0.4.0/lib/iruby/command.rb:110:in `run_kernel'",
      "/Users/adam429/.rbenv/versions/2.7.0/lib/ruby/gems/2.7.0/gems/iruby-0.4.0/lib/iruby/command.rb:40:in `run'",
      "/Users/adam429/.rbenv/versions/2.7.0/lib/ruby/gems/2.7.0/gems/iruby-0.4.0/bin/iruby:5:in `<top (required)>'",
      "/Users/adam429/.rbenv/versions/2.7.0/bin/iruby:23:in `load'",
      "/Users/adam429/.rbenv/versions/2.7.0/bin/iruby:23:in `<main>'"
     ]
    }
   ],
   "source": [
    "# 筛选用户可搭配商品列表\n",
    "\n",
    "list = (product.pluck(:spu) + product_top_send.pluck(:spu) + product_top_purchase.pluck(:spu)).uniq\n",
    "\n",
    "# 过滤历史订单的商品\n",
    "list = list.filter do |x| user.orders.item.pluck(:spu).index(x).nil? end\n",
    "\n",
    "# 过滤排雷订单的商品\n",
    "list = list.filter do |x| spu_filter.index(x).nil? end\n",
    "\n",
    "# 过滤下架的商品\n",
    "list = list.filter do |x| \n",
    "    p = ProductSpu.where(spu:x).first;\n",
    "    (p.status==2 and /设计感|缎面|亮片|泡泡袖|花边|褶皱/.match(p.product_name).nil?) end\n",
    "\n",
    "\n",
    "\n",
    "\n",
    "# 匹配列表\n",
    "list = list.map do |x|\n",
    "    [x,product.where(spu:x).count,product_top_send.where(spu:x).count,product_top_purchase.where(spu:x).count]\n",
    "end.sort do |x,y|  -1*((x[1]*100+x[2]*10+x[3])<=>(y[1]*100+y[2]*10+y[3])) end\n",
    "\n",
    "puts_header \"推荐给用户的商品\"\n",
    "\n",
    "table = list.map do |y|\n",
    "     x=ProductSpu.where(spu:y[0]).first\n",
    "        [ \"<a href='https://console.wetry.shop/productDetail/#{x.id}'>#{x.spu}</a>\" + (product.id.index(x.id) ? \"(候选)\" : \"\") +\n",
    "            (x.property.featured.count>0 ? \"(主推)\" : \"\"),\n",
    "     x.product_name,\n",
    "     x.member_price,\n",
    "     x.warehouse.where(status:1).count,\n",
    "     x.picture.keep.url,\n",
    "     ratio(Orders.finish_purchase.item.keep.where(spu:x.spu).sold.size, Orders.finish_purchase.item.keep.where(spu:x.spu).size),\n",
    "     ratio(Orders.where(member_id:group[\"已育\"].id).finish_purchase.item.keep.where(spu:x.spu).sold.size, Orders.where(member_id:group[\"已育\"].id).finish_purchase.item.keep.where(spu:x.spu).size),\n",
    "     Orders.finish_purchase.item.keep.where(spu:x.spu).size,\n",
    "     Orders.where(member_id:group[\"已育\"].id).finish_purchase.item.keep.where(spu:x.spu).size,\n",
    "     ratio(Orders.finish_purchase.item.keep.where(spu:x.spu).size,Orders.where(member_id:group[\"已育\"].id).finish_purchase.item.keep.where(spu:x.spu).size),        \n",
    "     x.picture.keep.size,\n",
    "     \"https://image.wetry.shop/product/spu/#{x.spu}/productDetailPageWxCode.jpg\",\n",
    "     \"<span style='color:red'>#{(y[1]==1 ? \"【手工挑选】\" : \"\") + (y[2]==1 ? \"【群体Top发盒】\" : \"\")  + (y[3]==1 ? \"【群体Top购买】\" : \"\")}</span>\"\n",
    "    ] end\n",
    "table = table.unshift([\"SPU\",\"Name\",\"Price\", \"Stock\",\"Image\",\"全体购买转化率\",\"组别购买转化率\",\"全部入盒=A\",\"组别入盒=B\",\"入盒比例=A/B\",\"图片数量\",\"QRCode\",\"推荐来源\"])\n",
    "\n",
    "nil\n"
   ]
  },
  {
   "cell_type": "code",
   "execution_count": 163,
   "metadata": {},
   "outputs": [
    {
     "data": {
      "text/html": [
       "<table><tr><td>SPU</td><td>Name</td><td>Price</td><td>Stock</td><td>Image</td><td>全体购买转化率</td><td>组别购买转化率</td><td>全部入盒=A</td><td>组别入盒=B</td><td>入盒比例=A/B</td><td>图片数量</td><td>QRCode</td><td>推荐来源</td></tr><tr><td><a href='https://console.wetry.shop/productDetail/1030'>20655</a>(候选)(主推)</td><td>高腰微喇显瘦牛仔裤</td><td>198.0</td><td>18</td><td><img src='https://retry-image.oss-cn-zhangjiakou.aliyuncs.com/product/spu/a9e8f097-92e5-4934-9364-ce940d149f27.jpg' width='150'/></td><td>0.33</td><td>0.32</td><td>101</td><td>28</td><td>3.61</td><td>2</td><td><img src='https://image.wetry.shop/product/spu/20655/productDetailPageWxCode.jpg' width='150'/></td><td><span style='color:red'>【手工挑选】【群体Top发盒】【群体Top购买】</span></td></tr><tr><td><a href='https://console.wetry.shop/productDetail/1395'>21020</a>(候选)(主推)</td><td>春日暖黄休闲衬衫</td><td>218.0</td><td>0</td><td><img src='https://retry-image.oss-cn-zhangjiakou.aliyuncs.com/product/spu/dd552b39-6342-4790-99f6-c81be8fe43ae.png' width='150'/></td><td>0.47</td><td>0.5</td><td>17</td><td>6</td><td>2.83</td><td>1</td><td><img src='https://image.wetry.shop/product/spu/21020/productDetailPageWxCode.jpg' width='150'/></td><td><span style='color:red'>【手工挑选】【群体Top购买】</span></td></tr><tr><td><a href='https://console.wetry.shop/productDetail/1107'>20732</a>(候选)(主推)</td><td>浅蓝色阔腿牛仔裤</td><td>328.0</td><td>25</td><td><img src='https://retry-image.oss-cn-zhangjiakou.aliyuncs.com/product/spu/ccdafc72-ee66-4cae-bada-e8c03b4c3fff.jpg' width='150'/></td><td>0.33</td><td>0.5</td><td>51</td><td>8</td><td>6.38</td><td>2</td><td><img src='https://image.wetry.shop/product/spu/20732/productDetailPageWxCode.jpg' width='150'/></td><td><span style='color:red'>【手工挑选】【群体Top购买】</span></td></tr><tr><td><a href='https://console.wetry.shop/productDetail/110'>10190</a>(候选)</td><td>莫兰迪色平领口羊绒针织吊带</td><td>138.0</td><td>7</td><td><img src='https://image.wetry.shop/product/spu/10190/10190_a.jpg' width='150'/></td><td>0.27</td><td>0.33</td><td>49</td><td>9</td><td>5.44</td><td>7</td><td><img src='https://image.wetry.shop/product/spu/10190/productDetailPageWxCode.jpg' width='150'/></td><td><span style='color:red'>【手工挑选】【群体Top购买】</span></td></tr><tr><td><a href='https://console.wetry.shop/productDetail/1097'>20722</a>(候选)(主推)</td><td>复古蓝色小哈伦牛仔裤</td><td>268.0</td><td>9</td><td><img src='https://retry-image.oss-cn-zhangjiakou.aliyuncs.com/product/spu/9554780c-0c64-48c8-8f6b-aef36df0f93d.jpg' width='150'/></td><td>0.21</td><td>0.23</td><td>66</td><td>13</td><td>5.08</td><td>2</td><td><img src='https://image.wetry.shop/product/spu/20722/productDetailPageWxCode.jpg' width='150'/></td><td><span style='color:red'>【手工挑选】</span></td></tr><tr><td><a href='https://console.wetry.shop/productDetail/1110'>20735</a>(候选)</td><td>Voila百搭显瘦质感T恤</td><td>158.0</td><td>0</td><td><img src='https://retry-image.oss-cn-zhangjiakou.aliyuncs.com/product/spu/6fa14408-ee06-4612-bb77-295807d01d39.jpg' width='150'/></td><td>0.19</td><td>0.31</td><td>62</td><td>13</td><td>4.77</td><td>3</td><td><img src='https://image.wetry.shop/product/spu/20735/productDetailPageWxCode.jpg' width='150'/></td><td><span style='color:red'>【手工挑选】</span></td></tr><tr><td><a href='https://console.wetry.shop/productDetail/1111'>20736</a>(候选)</td><td>白色人物图案T恤</td><td>148.0</td><td>2</td><td><img src='https://retry-image.oss-cn-zhangjiakou.aliyuncs.com/product/spu/c8bbf25e-070f-4a97-b0f6-25492665aede.png' width='150'/></td><td>0.27</td><td>0.33</td><td>33</td><td>6</td><td>5.5</td><td>1</td><td><img src='https://image.wetry.shop/product/spu/20736/productDetailPageWxCode.jpg' width='150'/></td><td><span style='color:red'>【手工挑选】</span></td></tr><tr><td><a href='https://console.wetry.shop/productDetail/1184'>20809</a>(候选)(主推)</td><td>慵懒风杏色云朵裤</td><td>288.0</td><td>0</td><td><img src='https://retry-image.oss-cn-zhangjiakou.aliyuncs.com/product/spu/0d74f50e-05e9-4478-ab7b-0f70d954107b.jpg' width='150'/></td><td>0.27</td><td>0.5</td><td>30</td><td>4</td><td>7.5</td><td>2</td><td><img src='https://image.wetry.shop/product/spu/20809/productDetailPageWxCode.jpg' width='150'/></td><td><span style='color:red'>【手工挑选】</span></td></tr><tr><td><a href='https://console.wetry.shop/productDetail/1190'>20815</a>(候选)</td><td>纽扣款针织衫</td><td>178.0</td><td>6</td><td><img src='https://retry-image.oss-cn-zhangjiakou.aliyuncs.com/product/spu/41958952-4ce2-4e04-9836-c566303b2e05.jpg' width='150'/></td><td>0.33</td><td>0.5</td><td>9</td><td>2</td><td>4.5</td><td>2</td><td><img src='https://image.wetry.shop/product/spu/20815/productDetailPageWxCode.jpg' width='150'/></td><td><span style='color:red'>【手工挑选】</span></td></tr><tr><td><a href='https://console.wetry.shop/productDetail/1197'>20822</a>(候选)</td><td>博主同款杏色围裹式上衣</td><td>989.0</td><td>0</td><td><img src='https://retry-image.oss-cn-zhangjiakou.aliyuncs.com/product/spu/e3df4064-f534-4ddc-99fa-fdb68db8f581.jpg' width='150'/></td><td>0.25</td><td>0.33</td><td>16</td><td>3</td><td>5.33</td><td>5</td><td><img src='https://image.wetry.shop/product/spu/20822/productDetailPageWxCode.jpg' width='150'/></td><td><span style='color:red'>【手工挑选】</span></td></tr><tr><td><a href='https://console.wetry.shop/productDetail/1317'>20942</a>(候选)</td><td>法式复古淡黄色针织开衫</td><td>158.0</td><td>3</td><td><img src='https://retry-image.oss-cn-zhangjiakou.aliyuncs.com/product/spu/ae09b494-7532-4b15-afb5-d8de5cfe8efc.png' width='150'/></td><td>0.16</td><td>0.5</td><td>19</td><td>2</td><td>9.5</td><td>1</td><td><img src='https://image.wetry.shop/product/spu/20942/productDetailPageWxCode.jpg' width='150'/></td><td><span style='color:red'>【手工挑选】</span></td></tr><tr><td><a href='https://console.wetry.shop/productDetail/1340'>20965</a>(候选)</td><td>浅草绿色法式复古短款开衫</td><td>128.0</td><td>5</td><td><img src='https://retry-image.oss-cn-zhangjiakou.aliyuncs.com/product/spu/1625f41a-bf42-4c64-adae-ee7643cb6a43.png' width='150'/></td><td>0.29</td><td>0.33</td><td>14</td><td>3</td><td>4.67</td><td>1</td><td><img src='https://image.wetry.shop/product/spu/20965/productDetailPageWxCode.jpg' width='150'/></td><td><span style='color:red'>【手工挑选】</span></td></tr><tr><td><a href='https://console.wetry.shop/productDetail/1356'>20981</a>(候选)(主推)</td><td>博主同款极致显瘦牛仔长裤</td><td>268.0</td><td>10</td><td><img src='https://retry-image.oss-cn-zhangjiakou.aliyuncs.com/product/spu/96a02a78-700c-4473-901c-5e40018d2054.jpg' width='150'/></td><td>0.29</td><td>0.4</td><td>21</td><td>5</td><td>4.2</td><td>2</td><td><img src='https://image.wetry.shop/product/spu/20981/productDetailPageWxCode.jpg' width='150'/></td><td><span style='color:red'>【手工挑选】</span></td></tr><tr><td><a href='https://console.wetry.shop/productDetail/1401'>21026</a>(候选)</td><td>舒适垂坠休闲阔腿裤</td><td>188.0</td><td>5</td><td><img src='https://retry-image.oss-cn-zhangjiakou.aliyuncs.com/product/spu/ea6e2771-074f-49aa-a68a-19cb9bd2e479.png' width='150'/></td><td>0.2</td><td>0.33</td><td>10</td><td>3</td><td>3.33</td><td>1</td><td><img src='https://image.wetry.shop/product/spu/21026/productDetailPageWxCode.jpg' width='150'/></td><td><span style='color:red'>【手工挑选】</span></td></tr><tr><td><a href='https://console.wetry.shop/productDetail/1442'>21067</a>(候选)(主推)</td><td>复古浅蓝色九分牛仔直筒裤</td><td>268.0</td><td>2</td><td><img src='https://retry-image.oss-cn-zhangjiakou.aliyuncs.com/product/spu/ac269b00-1541-4532-9714-667b3925510f.png' width='150'/></td><td>0.18</td><td>0.33</td><td>17</td><td>3</td><td>5.67</td><td>1</td><td><img src='https://image.wetry.shop/product/spu/21067/productDetailPageWxCode.jpg' width='150'/></td><td><span style='color:red'>【手工挑选】</span></td></tr><tr><td><a href='https://console.wetry.shop/productDetail/40'>10108</a>(候选)</td><td>白色俏皮感长袖T恤</td><td>178.0</td><td>4</td><td><img src='https://image.wetry.shop/product/spu/10108/10108_a.jpg' width='150'/></td><td>0.22</td><td>0.22</td><td>36</td><td>9</td><td>4.0</td><td>5</td><td><img src='https://image.wetry.shop/product/spu/10108/productDetailPageWxCode.jpg' width='150'/></td><td><span style='color:red'>【手工挑选】</span></td></tr><tr><td><a href='https://console.wetry.shop/productDetail/113'>10193</a>(候选)</td><td>牛油果色平领口羊绒针织吊带</td><td>138.0</td><td>7</td><td><img src='https://image.wetry.shop/product/spu/10193/10193_a.jpg' width='150'/></td><td>0.37</td><td>0.5</td><td>41</td><td>8</td><td>5.13</td><td>5</td><td><img src='https://image.wetry.shop/product/spu/10193/productDetailPageWxCode.jpg' width='150'/></td><td><span style='color:red'>【手工挑选】</span></td></tr><tr><td><a href='https://console.wetry.shop/productDetail/1029'>20654</a>(候选)</td><td>显瘦水洗微喇牛仔裤</td><td>188.0</td><td>5</td><td><img src='https://retry-image.oss-cn-zhangjiakou.aliyuncs.com/product/spu/4f02dd0a-67e7-49f0-9c1f-32f71ec945c8.jpeg' width='150'/></td><td>0.2</td><td>0.38</td><td>61</td><td>8</td><td>7.63</td><td>1</td><td><img src='https://image.wetry.shop/product/spu/20654/productDetailPageWxCode.jpg' width='150'/></td><td><span style='color:red'>【手工挑选】</span></td></tr><tr><td><a href='https://console.wetry.shop/productDetail/1032'>20657</a>(候选)</td><td>浅灰色针织裙套装</td><td>538.0</td><td>7</td><td><img src='https://retry-image.oss-cn-zhangjiakou.aliyuncs.com/product/spu/c68c1506-ee9c-4e16-b7d1-ee1451b94c83.jpg' width='150'/></td><td>0.18</td><td>0.27</td><td>17</td><td>11</td><td>1.55</td><td>3</td><td><img src='https://image.wetry.shop/product/spu/20657/productDetailPageWxCode.jpg' width='150'/></td><td><span style='color:red'>【手工挑选】</span></td></tr><tr><td><a href='https://console.wetry.shop/productDetail/355'>20001</a></td><td>YESNO字母耳钉</td><td>58.0</td><td>9</td><td><img src='https://retry-image.oss-cn-zhangjiakou.aliyuncs.com/product/spu/d8c677b0-5ada-45e9-afd9-cfce6afe008a.png' width='150'/></td><td>0.28</td><td>0.3</td><td>145</td><td>33</td><td>4.39</td><td>1</td><td><img src='https://image.wetry.shop/product/spu/20001/productDetailPageWxCode.jpg' width='150'/></td><td><span style='color:red'>【群体Top发盒】【群体Top购买】</span></td></tr><tr><td><a href='https://console.wetry.shop/productDetail/199'>10248</a></td><td>黑色短款针织开衫</td><td>268.0</td><td>0</td><td><img src='https://image.wetry.shop/product/spu/10248/10248_a.jpg' width='150'/></td><td>0.26</td><td>0.21</td><td>77</td><td>19</td><td>4.05</td><td>1</td><td><img src='https://image.wetry.shop/product/spu/10248/productDetailPageWxCode.jpg' width='150'/></td><td><span style='color:red'>【群体Top发盒】</span></td></tr><tr><td><a href='https://console.wetry.shop/productDetail/479'>20105</a></td><td>奶白色显瘦牛仔长裤</td><td>348.0</td><td>1</td><td><img src='https://retry-image.oss-cn-zhangjiakou.aliyuncs.com/product/spu/390393df-f3cd-4210-bd26-b00656a7d67a.png' width='150'/></td><td>0.17</td><td>0.11</td><td>89</td><td>27</td><td>3.3</td><td>1</td><td><img src='https://image.wetry.shop/product/spu/20105/productDetailPageWxCode.jpg' width='150'/></td><td><span style='color:red'>【群体Top发盒】</span></td></tr><tr><td><a href='https://console.wetry.shop/productDetail/1053'>20678</a>(主推)</td><td>干练职业显瘦西装裤</td><td>328.0</td><td>12</td><td><img src='https://retry-image.oss-cn-zhangjiakou.aliyuncs.com/product/spu/cd0ff93b-b9bc-4c78-98eb-b28ae6ebc5c1.jpg' width='150'/></td><td>0.18</td><td>0.19</td><td>164</td><td>42</td><td>3.9</td><td>2</td><td><img src='https://image.wetry.shop/product/spu/20678/productDetailPageWxCode.jpg' width='150'/></td><td><span style='color:red'>【群体Top发盒】</span></td></tr><tr><td><a href='https://console.wetry.shop/productDetail/1089'>20714</a></td><td>牛仔显瘦长裤</td><td>298.0</td><td>3</td><td><img src='https://retry-image.oss-cn-zhangjiakou.aliyuncs.com/product/spu/08070092-eb10-4b81-9caf-f3b5b773fd63.jpg' width='150'/></td><td>0.23</td><td>0.29</td><td>73</td><td>21</td><td>3.48</td><td>2</td><td><img src='https://image.wetry.shop/product/spu/20714/productDetailPageWxCode.jpg' width='150'/></td><td><span style='color:red'>【群体Top发盒】</span></td></tr><tr><td><a href='https://console.wetry.shop/productDetail/178'>10070</a></td><td>凑单神器-绢混平纹袜</td><td>28.0</td><td>1</td><td><img src='https://retry-image.oss-cn-zhangjiakou.aliyuncs.com/product/spu/9262d74e-bee7-44c6-9d1e-2d55d387508c.png' width='150'/></td><td>0.35</td><td>0.26</td><td>83</td><td>19</td><td>4.37</td><td>1</td><td><img src='https://image.wetry.shop/product/spu/10070/productDetailPageWxCode.jpg' width='150'/></td><td><span style='color:red'>【群体Top发盒】</span></td></tr><tr><td><a href='https://console.wetry.shop/productDetail/1098'>20723</a>(主推)</td><td>复古蓝色九分牛仔直筒裤</td><td>268.0</td><td>1</td><td><img src='https://retry-image.oss-cn-zhangjiakou.aliyuncs.com/product/spu/b338407d-8f2a-4137-b45c-bb978db5d5d9.jpg' width='150'/></td><td>0.38</td><td>0.64</td><td>50</td><td>14</td><td>3.57</td><td>2</td><td><img src='https://image.wetry.shop/product/spu/20723/productDetailPageWxCode.jpg' width='150'/></td><td><span style='color:red'>【群体Top购买】</span></td></tr><tr><td><a href='https://console.wetry.shop/productDetail/175'>10067</a></td><td>凑单神器-净色网眼提花短筒女袜</td><td>28.0</td><td>5</td><td><img src='https://retry-image.oss-cn-zhangjiakou.aliyuncs.com/product/spu/21aea09f-5ba5-4e35-9a77-b96f33c36f44.png' width='150'/></td><td>0.42</td><td>0.31</td><td>59</td><td>16</td><td>3.69</td><td>1</td><td><img src='https://image.wetry.shop/product/spu/10067/productDetailPageWxCode.jpg' width='150'/></td><td><span style='color:red'>【群体Top购买】</span></td></tr><tr><td><a href='https://console.wetry.shop/productDetail/111'>10191</a></td><td>莫兰迪色平领口羊绒针织吊带</td><td>138.0</td><td>2</td><td><img src='https://image.wetry.shop/product/spu/10191/10191_a.jpg' width='150'/></td><td>0.23</td><td>0.42</td><td>71</td><td>12</td><td>5.92</td><td>6</td><td><img src='https://image.wetry.shop/product/spu/10191/productDetailPageWxCode.jpg' width='150'/></td><td><span style='color:red'>【群体Top购买】</span></td></tr><tr><td><a href='https://console.wetry.shop/productDetail/186'>10235</a></td><td>黑色V领拼色修身打底衫</td><td>238.0</td><td>0</td><td><img src='https://image.wetry.shop/product/spu/10235/10235_a.jpg' width='150'/></td><td>0.3</td><td>0.33</td><td>30</td><td>12</td><td>2.5</td><td>1</td><td><img src='https://image.wetry.shop/product/spu/10235/productDetailPageWxCode.jpg' width='150'/></td><td><span style='color:red'>【群体Top购买】</span></td></tr><tr><td><a href='https://console.wetry.shop/productDetail/366'>20012</a></td><td>珍珠爱心耳钉</td><td>48.0</td><td>1</td><td><img src='https://retry-image.oss-cn-zhangjiakou.aliyuncs.com/product/spu/c1b8004d-83ad-489a-abe5-0733e50ba47c.png' width='150'/></td><td>0.4</td><td>0.43</td><td>80</td><td>14</td><td>5.71</td><td>1</td><td><img src='https://image.wetry.shop/product/spu/20012/productDetailPageWxCode.jpg' width='150'/></td><td><span style='color:red'>【群体Top购买】</span></td></tr><tr><td><a href='https://console.wetry.shop/productDetail/637'>20262</a></td><td>温柔杏色V领口羊绒上衣</td><td>498.0</td><td>0</td><td><img src='https://retry-image.oss-cn-zhangjiakou.aliyuncs.com/product/spu/0e660db2-5306-48e3-97e0-3838b6555309.jpg' width='150'/></td><td>0.29</td><td>0.4</td><td>28</td><td>10</td><td>2.8</td><td>2</td><td><img src='https://image.wetry.shop/product/spu/20262/productDetailPageWxCode.jpg' width='150'/></td><td><span style='color:red'>【群体Top购买】</span></td></tr></table>"
      ],
      "text/plain": [
       "\"<table><tr><td>SPU</td><td>Name</td><td>Price</td><td>Stock</td><td>Image</td><td>全体购买转化率</td><td>组别购买转化率</td><td>全部入盒=A</td><td>组别入盒=B</td><td>入盒比例=A/B</td><td>图片数量</td><td>QRCode</td><td>推荐来源</td></tr><tr><td><a href='https://console.wetry.shop/productDetail/1030'>20655</a>(候选)(主推)</td><td>高腰微喇显瘦牛仔裤</td><td>198.0</td><td>18</td><td><img src='https://retry-image.oss-cn-zhangjiakou.aliyuncs.com/product/spu/a9e8f097-92e5-4934-9364-ce940d149f27.jpg' width='150'/></td><td>0.33</td><td>0.32</td><td>101</td><td>28</td><td>3.61</td><td>2</td><td><img src='https://image.wetry.shop/product/spu/20655/productDetailPageWxCode.jpg' width='150'/></td><td><span style='color:red'>【手工挑选】【群体Top发盒】【群体Top购买】</span></td></tr><tr><td><a href='https://console.wetry.shop/productDetail/1395'>21020</a>(候选)(主推)</td><td>春日暖黄休闲衬衫</td><td>218.0</td><td>0</td><td><img src='https://retry-image.oss-cn-zhangjiakou.aliyuncs.com/product/spu/dd552b39-6342-4790-99f6-c81be8fe43ae.png' width='150'/></td><td>0.47</td><td>0.5</td><td>17</td><td>6</td><td>2.83</td><td>1</td><td><img src='https://image.wetry.shop/product/spu/21020/productDetailPageWxCode.jpg' width='150'/></td><td><span style='color:red'>【手工挑选】【群体Top购买】</span></td></tr><tr><td><a href='https://console.wetry.shop/productDetail/1107'>20732</a>(候选)(主推)</td><td>浅蓝色阔腿牛仔裤</td><td>328.0</td><td>25</td><td><img src='https://retry-image.oss-cn-zhangjiakou.aliyuncs.com/product/spu/ccdafc72-ee66-4cae-bada-e8c03b4c3fff.jpg' width='150'/></td><td>0.33</td><td>0.5</td><td>51</td><td>8</td><td>6.38</td><td>2</td><td><img src='https://image.wetry.shop/product/spu/20732/productDetailPageWxCode.jpg' width='150'/></td><td><span style='color:red'>【手工挑选】【群体Top购买】</span></td></tr><tr><td><a href='https://console.wetry.shop/productDetail/110'>10190</a>(候选)</td><td>莫兰迪色平领口羊绒针织吊带</td><td>138.0</td><td>7</td><td><img src='https://image.wetry.shop/product/spu/10190/10190_a.jpg' width='150'/></td><td>0.27</td><td>0.33</td><td>49</td><td>9</td><td>5.44</td><td>7</td><td><img src='https://image.wetry.shop/product/spu/10190/productDetailPageWxCode.jpg' width='150'/></td><td><span style='color:red'>【手工挑选】【群体Top购买】</span></td></tr><tr><td><a href='https://console.wetry.shop/productDetail/1097'>20722</a>(候选)(主推)</td><td>复古蓝色小哈伦牛仔裤</td><td>268.0</td><td>9</td><td><img src='https://retry-image.oss-cn-zhangjiakou.aliyuncs.com/product/spu/9554780c-0c64-48c8-8f6b-aef36df0f93d.jpg' width='150'/></td><td>0.21</td><td>0.23</td><td>66</td><td>13</td><td>5.08</td><td>2</td><td><img src='https://image.wetry.shop/product/spu/20722/productDetailPageWxCode.jpg' width='150'/></td><td><span style='color:red'>【手工挑选】</span></td></tr><tr><td><a href='https://console.wetry.shop/productDetail/1110'>20735</a>(候选)</td><td>Voila百搭显瘦质感T恤</td><td>158.0</td><td>0</td><td><img src='https://retry-image.oss-cn-zhangjiakou.aliyuncs.com/product/spu/6fa14408-ee06-4612-bb77-295807d01d39.jpg' width='150'/></td><td>0.19</td><td>0.31</td><td>62</td><td>13</td><td>4.77</td><td>3</td><td><img src='https://image.wetry.shop/product/spu/20735/productDetailPageWxCode.jpg' width='150'/></td><td><span style='color:red'>【手工挑选】</span></td></tr><tr><td><a href='https://console.wetry.shop/productDetail/1111'>20736</a>(候选)</td><td>白色人物图案T恤</td><td>148.0</td><td>2</td><td><img src='https://retry-image.oss-cn-zhangjiakou.aliyuncs.com/product/spu/c8bbf25e-070f-4a97-b0f6-25492665aede.png' width='150'/></td><td>0.27</td><td>0.33</td><td>33</td><td>6</td><td>5.5</td><td>1</td><td><img src='https://image.wetry.shop/product/spu/20736/productDetailPageWxCode.jpg' width='150'/></td><td><span style='color:red'>【手工挑选】</span></td></tr><tr><td><a href='https://console.wetry.shop/productDetail/1184'>20809</a>(候选)(主推)</td><td>慵懒风杏色云朵裤</td><td>288.0</td><td>0</td><td><img src='https://retry-image.oss-cn-zhangjiakou.aliyuncs.com/product/spu/0d74f50e-05e9-4478-ab7b-0f70d954107b.jpg' width='150'/></td><td>0.27</td><td>0.5</td><td>30</td><td>4</td><td>7.5</td><td>2</td><td><img src='https://image.wetry.shop/product/spu/20809/productDetailPageWxCode.jpg' width='150'/></td><td><span style='color:red'>【手工挑选】</span></td></tr><tr><td><a href='https://console.wetry.shop/productDetail/1190'>20815</a>(候选)</td><td>纽扣款针织衫</td><td>178.0</td><td>6</td><td><img src='https://retry-image.oss-cn-zhangjiakou.aliyuncs.com/product/spu/41958952-4ce2-4e04-9836-c566303b2e05.jpg' width='150'/></td><td>0.33</td><td>0.5</td><td>9</td><td>2</td><td>4.5</td><td>2</td><td><img src='https://image.wetry.shop/product/spu/20815/productDetailPageWxCode.jpg' width='150'/></td><td><span style='color:red'>【手工挑选】</span></td></tr><tr><td><a href='https://console.wetry.shop/productDetail/1197'>20822</a>(候选)</td><td>博主同款杏色围裹式上衣</td><td>989.0</td><td>0</td><td><img src='https://retry-image.oss-cn-zhangjiakou.aliyuncs.com/product/spu/e3df4064-f534-4ddc-99fa-fdb68db8f581.jpg' width='150'/></td><td>0.25</td><td>0.33</td><td>16</td><td>3</td><td>5.33</td><td>5</td><td><img src='https://image.wetry.shop/product/spu/20822/productDetailPageWxCode.jpg' width='150'/></td><td><span style='color:red'>【手工挑选】</span></td></tr><tr><td><a href='https://console.wetry.shop/productDetail/1317'>20942</a>(候选)</td><td>法式复古淡黄色针织开衫</td><td>158.0</td><td>3</td><td><img src='https://retry-image.oss-cn-zhangjiakou.aliyuncs.com/product/spu/ae09b494-7532-4b15-afb5-d8de5cfe8efc.png' width='150'/></td><td>0.16</td><td>0.5</td><td>19</td><td>2</td><td>9.5</td><td>1</td><td><img src='https://image.wetry.shop/product/spu/20942/productDetailPageWxCode.jpg' width='150'/></td><td><span style='color:red'>【手工挑选】</span></td></tr><tr><td><a href='https://console.wetry.shop/productDetail/1340'>20965</a>(候选)</td><td>浅草绿色法式复古短款开衫</td><td>128.0</td><td>5</td><td><img src='https://retry-image.oss-cn-zhangjiakou.aliyuncs.com/product/spu/1625f41a-bf42-4c64-adae-ee7643cb6a43.png' width='150'/></td><td>0.29</td><td>0.33</td><td>14</td><td>3</td><td>4.67</td><td>1</td><td><img src='https://image.wetry.shop/product/spu/20965/productDetailPageWxCode.jpg' width='150'/></td><td><span style='color:red'>【手工挑选】</span></td></tr><tr><td><a href='https://console.wetry.shop/productDetail/1356'>20981</a>(候选)(主推)</td><td>博主同款极致显瘦牛仔长裤</td><td>268.0</td><td>10</td><td><img src='https://retry-image.oss-cn-zhangjiakou.aliyuncs.com/product/spu/96a02a78-700c-4473-901c-5e40018d2054.jpg' width='150'/></td><td>0.29</td><td>0.4</td><td>21</td><td>5</td><td>4.2</td><td>2</td><td><img src='https://image.wetry.shop/product/spu/20981/productDetailPageWxCode.jpg' width='150'/></td><td><span style='color:red'>【手工挑选】</span></td></tr><tr><td><a href='https://console.wetry.shop/productDetail/1401'>21026</a>(候选)</td><td>舒适垂坠休闲阔腿裤</td><td>188.0</td><td>5</td><td><img src='https://retry-image.oss-cn-zhangjiakou.aliyuncs.com/product/spu/ea6e2771-074f-49aa-a68a-19cb9bd2e479.png' width='150'/></td><td>0.2</td><td>0.33</td><td>10</td><td>3</td><td>3.33</td><td>1</td><td><img src='https://image.wetry.shop/product/spu/21026/productDetailPageWxCode.jpg' width='150'/></td><td><span style='color:red'>【手工挑选】</span></td></tr><tr><td><a href='https://console.wetry.shop/productDetail/1442'>21067</a>(候选)(主推)</td><td>复古浅蓝色九分牛仔直筒裤</td><td>268.0</td><td>2</td><td><img src='https://retry-image.oss-cn-zhangjiakou.aliyuncs.com/product/spu/ac269b00-1541-4532-9714-667b3925510f.png' width='150'/></td><td>0.18</td><td>0.33</td><td>17</td><td>3</td><td>5.67</td><td>1</td><td><img src='https://image.wetry.shop/product/spu/21067/productDetailPageWxCode.jpg' width='150'/></td><td><span style='color:red'>【手工挑选】</span></td></tr><tr><td><a href='https://console.wetry.shop/productDetail/40'>10108</a>(候选)</td><td>白色俏皮感长袖T恤</td><td>178.0</td><td>4</td><td><img src='https://image.wetry.shop/product/spu/10108/10108_a.jpg' width='150'/></td><td>0.22</td><td>0.22</td><td>36</td><td>9</td><td>4.0</td><td>5</td><td><img src='https://image.wetry.shop/product/spu/10108/productDetailPageWxCode.jpg' width='150'/></td><td><span style='color:red'>【手工挑选】</span></td></tr><tr><td><a href='https://console.wetry.shop/productDetail/113'>10193</a>(候选)</td><td>牛油果色平领口羊绒针织吊带</td><td>138.0</td><td>7</td><td><img src='https://image.wetry.shop/product/spu/10193/10193_a.jpg' width='150'/></td><td>0.37</td><td>0.5</td><td>41</td><td>8</td><td>5.13</td><td>5</td><td><img src='https://image.wetry.shop/product/spu/10193/productDetailPageWxCode.jpg' width='150'/></td><td><span style='color:red'>【手工挑选】</span></td></tr><tr><td><a href='https://console.wetry.shop/productDetail/1029'>20654</a>(候选)</td><td>显瘦水洗微喇牛仔裤</td><td>188.0</td><td>5</td><td><img src='https://retry-image.oss-cn-zhangjiakou.aliyuncs.com/product/spu/4f02dd0a-67e7-49f0-9c1f-32f71ec945c8.jpeg' width='150'/></td><td>0.2</td><td>0.38</td><td>61</td><td>8</td><td>7.63</td><td>1</td><td><img src='https://image.wetry.shop/product/spu/20654/productDetailPageWxCode.jpg' width='150'/></td><td><span style='color:red'>【手工挑选】</span></td></tr><tr><td><a href='https://console.wetry.shop/productDetail/1032'>20657</a>(候选)</td><td>浅灰色针织裙套装</td><td>538.0</td><td>7</td><td><img src='https://retry-image.oss-cn-zhangjiakou.aliyuncs.com/product/spu/c68c1506-ee9c-4e16-b7d1-ee1451b94c83.jpg' width='150'/></td><td>0.18</td><td>0.27</td><td>17</td><td>11</td><td>1.55</td><td>3</td><td><img src='https://image.wetry.shop/product/spu/20657/productDetailPageWxCode.jpg' width='150'/></td><td><span style='color:red'>【手工挑选】</span></td></tr><tr><td><a href='https://console.wetry.shop/productDetail/355'>20001</a></td><td>YESNO字母耳钉</td><td>58.0</td><td>9</td><td><img src='https://retry-image.oss-cn-zhangjiakou.aliyuncs.com/product/spu/d8c677b0-5ada-45e9-afd9-cfce6afe008a.png' width='150'/></td><td>0.28</td><td>0.3</td><td>145</td><td>33</td><td>4.39</td><td>1</td><td><img src='https://image.wetry.shop/product/spu/20001/productDetailPageWxCode.jpg' width='150'/></td><td><span style='color:red'>【群体Top发盒】【群体Top购买】</span></td></tr><tr><td><a href='https://console.wetry.shop/productDetail/199'>10248</a></td><td>黑色短款针织开衫</td><td>268.0</td><td>0</td><td><img src='https://image.wetry.shop/product/spu/10248/10248_a.jpg' width='150'/></td><td>0.26</td><td>0.21</td><td>77</td><td>19</td><td>4.05</td><td>1</td><td><img src='https://image.wetry.shop/product/spu/10248/productDetailPageWxCode.jpg' width='150'/></td><td><span style='color:red'>【群体Top发盒】</span></td></tr><tr><td><a href='https://console.wetry.shop/productDetail/479'>20105</a></td><td>奶白色显瘦牛仔长裤</td><td>348.0</td><td>1</td><td><img src='https://retry-image.oss-cn-zhangjiakou.aliyuncs.com/product/spu/390393df-f3cd-4210-bd26-b00656a7d67a.png' width='150'/></td><td>0.17</td><td>0.11</td><td>89</td><td>27</td><td>3.3</td><td>1</td><td><img src='https://image.wetry.shop/product/spu/20105/productDetailPageWxCode.jpg' width='150'/></td><td><span style='color:red'>【群体Top发盒】</span></td></tr><tr><td><a href='https://console.wetry.shop/productDetail/1053'>20678</a>(主推)</td><td>干练职业显瘦西装裤</td><td>328.0</td><td>12</td><td><img src='https://retry-image.oss-cn-zhangjiakou.aliyuncs.com/product/spu/cd0ff93b-b9bc-4c78-98eb-b28ae6ebc5c1.jpg' width='150'/></td><td>0.18</td><td>0.19</td><td>164</td><td>42</td><td>3.9</td><td>2</td><td><img src='https://image.wetry.shop/product/spu/20678/productDetailPageWxCode.jpg' width='150'/></td><td><span style='color:red'>【群体Top发盒】</span></td></tr><tr><td><a href='https://console.wetry.shop/productDetail/1089'>20714</a></td><td>牛仔显瘦长裤</td><td>298.0</td><td>3</td><td><img src='https://retry-image.oss-cn-zhangjiakou.aliyuncs.com/product/spu/08070092-eb10-4b81-9caf-f3b5b773fd63.jpg' width='150'/></td><td>0.23</td><td>0.29</td><td>73</td><td>21</td><td>3.48</td><td>2</td><td><img src='https://image.wetry.shop/product/spu/20714/productDetailPageWxCode.jpg' width='150'/></td><td><span style='color:red'>【群体Top发盒】</span></td></tr><tr><td><a href='https://console.wetry.shop/productDetail/178'>10070</a></td><td>凑单神器-绢混平纹袜</td><td>28.0</td><td>1</td><td><img src='https://retry-image.oss-cn-zhangjiakou.aliyuncs.com/product/spu/9262d74e-bee7-44c6-9d1e-2d55d387508c.png' width='150'/></td><td>0.35</td><td>0.26</td><td>83</td><td>19</td><td>4.37</td><td>1</td><td><img src='https://image.wetry.shop/product/spu/10070/productDetailPageWxCode.jpg' width='150'/></td><td><span style='color:red'>【群体Top发盒】</span></td></tr><tr><td><a href='https://console.wetry.shop/productDetail/1098'>20723</a>(主推)</td><td>复古蓝色九分牛仔直筒裤</td><td>268.0</td><td>1</td><td><img src='https://retry-image.oss-cn-zhangjiakou.aliyuncs.com/product/spu/b338407d-8f2a-4137-b45c-bb978db5d5d9.jpg' width='150'/></td><td>0.38</td><td>0.64</td><td>50</td><td>14</td><td>3.57</td><td>2</td><td><img src='https://image.wetry.shop/product/spu/20723/productDetailPageWxCode.jpg' width='150'/></td><td><span style='color:red'>【群体Top购买】</span></td></tr><tr><td><a href='https://console.wetry.shop/productDetail/175'>10067</a></td><td>凑单神器-净色网眼提花短筒女袜</td><td>28.0</td><td>5</td><td><img src='https://retry-image.oss-cn-zhangjiakou.aliyuncs.com/product/spu/21aea09f-5ba5-4e35-9a77-b96f33c36f44.png' width='150'/></td><td>0.42</td><td>0.31</td><td>59</td><td>16</td><td>3.69</td><td>1</td><td><img src='https://image.wetry.shop/product/spu/10067/productDetailPageWxCode.jpg' width='150'/></td><td><span style='color:red'>【群体Top购买】</span></td></tr><tr><td><a href='https://console.wetry.shop/productDetail/111'>10191</a></td><td>莫兰迪色平领口羊绒针织吊带</td><td>138.0</td><td>2</td><td><img src='https://image.wetry.shop/product/spu/10191/10191_a.jpg' width='150'/></td><td>0.23</td><td>0.42</td><td>71</td><td>12</td><td>5.92</td><td>6</td><td><img src='https://image.wetry.shop/product/spu/10191/productDetailPageWxCode.jpg' width='150'/></td><td><span style='color:red'>【群体Top购买】</span></td></tr><tr><td><a href='https://console.wetry.shop/productDetail/186'>10235</a></td><td>黑色V领拼色修身打底衫</td><td>238.0</td><td>0</td><td><img src='https://image.wetry.shop/product/spu/10235/10235_a.jpg' width='150'/></td><td>0.3</td><td>0.33</td><td>30</td><td>12</td><td>2.5</td><td>1</td><td><img src='https://image.wetry.shop/product/spu/10235/productDetailPageWxCode.jpg' width='150'/></td><td><span style='color:red'>【群体Top购买】</span></td></tr><tr><td><a href='https://console.wetry.shop/productDetail/366'>20012</a></td><td>珍珠爱心耳钉</td><td>48.0</td><td>1</td><td><img src='https://retry-image.oss-cn-zhangjiakou.aliyuncs.com/product/spu/c1b8004d-83ad-489a-abe5-0733e50ba47c.png' width='150'/></td><td>0.4</td><td>0.43</td><td>80</td><td>14</td><td>5.71</td><td>1</td><td><img src='https://image.wetry.shop/product/spu/20012/productDetailPageWxCode.jpg' width='150'/></td><td><span style='color:red'>【群体Top购买】</span></td></tr><tr><td><a href='https://console.wetry.shop/productDetail/637'>20262</a></td><td>温柔杏色V领口羊绒上衣</td><td>498.0</td><td>0</td><td><img src='https://retry-image.oss-cn-zhangjiakou.aliyuncs.com/product/spu/0e660db2-5306-48e3-97e0-3838b6555309.jpg' width='150'/></td><td>0.29</td><td>0.4</td><td>28</td><td>10</td><td>2.8</td><td>2</td><td><img src='https://image.wetry.shop/product/spu/20262/productDetailPageWxCode.jpg' width='150'/></td><td><span style='color:red'>【群体Top购买】</span></td></tr></table>\""
      ]
     },
     "metadata": {},
     "output_type": "display_data"
    }
   ],
   "source": [
    "puts_table table"
   ]
  },
  {
   "cell_type": "code",
   "execution_count": 130,
   "metadata": {},
   "outputs": [
    {
     "data": {
      "text/plain": [
       "1"
      ]
     },
     "execution_count": 130,
     "metadata": {},
     "output_type": "execute_result"
    }
   ],
   "source": [
    "ProductSpu.where(spu:21020).property.featured.count"
   ]
  },
  {
   "cell_type": "code",
   "execution_count": 154,
   "metadata": {},
   "outputs": [
    {
     "data": {
      "text/plain": [
       "0"
      ]
     },
     "execution_count": 154,
     "metadata": {},
     "output_type": "execute_result"
    }
   ],
   "source": [
    "# 筛选用户可搭配商品列表\n",
    "\n",
    "list = (product.pluck(:spu) + product_top_send.pluck(:spu) + product_top_purchase.pluck(:spu)).uniq\n",
    "\n",
    "# 过滤历史订单的商品\n",
    "list = list.filter do |x| user.orders.item.pluck(:spu).index(x).nil? end\n",
    "\n",
    "# 过滤排雷订单的商品\n",
    "list = list.filter do |x| spu_filter.index(x).nil? end\n",
    "\n",
    "# 过滤下架的商品\n",
    "list = list.filter do |x| \n",
    "    p = ProductSpu.where(spu:x).first\n",
    "    (p.status==2 and /设计感|缎面|亮片|泡泡袖|花边|褶皱/.match(p.product_name).nil?) end\n",
    "\n"
   ]
  },
  {
   "cell_type": "code",
   "execution_count": 156,
   "metadata": {},
   "outputs": [
    {
     "data": {
      "text/plain": [
       "[\"10108\", \"10190\", \"10193\", \"20654\", \"20655\", \"20657\", \"20716\", \"20722\", \"20732\", \"20735\", \"20736\", \"20809\", \"20815\", \"20822\", \"20942\", \"20965\", \"20981\", \"20999\", \"21011\", \"21020\", \"21026\", \"21052\", \"21067\", \"10065\", \"10070\", \"10194\", \"10195\", \"10236\", \"10248\", \"20001\", \"20105\", \"20678\", \"20714\", \"20746\", \"10053\", \"10064\", \"10067\", \"10191\", \"10235\", \"10305\", \"20012\", \"20095\", \"20118\", \"20262\", \"20295\", \"20587\", \"20723\"]"
      ]
     },
     "execution_count": 156,
     "metadata": {},
     "output_type": "execute_result"
    }
   ],
   "source": [
    "list = (product.pluck(:spu) + product_top_send.pluck(:spu) + product_top_purchase.pluck(:spu)).uniq\n",
    "\n",
    "# 过滤历史订单的商品\n",
    "list = list.filter do |x| user.orders.item.pluck(:spu).index(x).nil? end\n",
    "\n",
    "# 过滤排雷订单的商品\n",
    "list = list.filter do |x| spu_filter.index(x).nil? end\n"
   ]
  },
  {
   "cell_type": "code",
   "execution_count": 161,
   "metadata": {},
   "outputs": [
    {
     "data": {
      "text/plain": [
       "[\"10108\", \"10190\", \"10193\", \"20654\", \"20655\", \"20657\", \"20722\", \"20732\", \"20735\", \"20736\", \"20809\", \"20815\", \"20822\", \"20942\", \"20965\", \"20981\", \"21020\", \"21026\", \"21067\", \"10070\", \"10248\", \"20001\", \"20105\", \"20678\", \"20714\", \"10067\", \"10191\", \"10235\", \"20012\", \"20262\", \"20723\"]"
      ]
     },
     "execution_count": 161,
     "metadata": {},
     "output_type": "execute_result"
    }
   ],
   "source": [
    "# 过滤下架的商品\n",
    "list = list.filter do |x| \n",
    "    p = ProductSpu.where(spu:x).first\n",
    "    p.status==2 and /设计感|缎面|亮片|泡泡袖|花边|褶皱/.match(p.product_name).nil? end\n"
   ]
  },
  {
   "cell_type": "code",
   "execution_count": null,
   "metadata": {},
   "outputs": [],
   "source": []
  }
 ],
 "metadata": {
  "kernelspec": {
   "display_name": "Ruby 2.7.0",
   "language": "ruby",
   "name": "ruby"
  },
  "language_info": {
   "file_extension": ".rb",
   "mimetype": "application/x-ruby",
   "name": "ruby",
   "version": "2.7.0"
  }
 },
 "nbformat": 4,
 "nbformat_minor": 4
}
