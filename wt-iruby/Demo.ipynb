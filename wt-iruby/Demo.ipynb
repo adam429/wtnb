{
 "cells": [
  {
   "cell_type": "code",
   "execution_count": 1,
   "metadata": {},
   "outputs": [],
   "source": [
    "# Demo"
   ]
  },
  {
   "cell_type": "code",
   "execution_count": 3,
   "metadata": {},
   "outputs": [
    {
     "data": {
      "text/html": [
       "<script src='https://unpkg.com/vue/dist/vue.js'></script>\n",
       "<script src='https://unpkg.com/chart.js@2.9.3/dist/Chart.bundle.js'></script>\n",
       "<script src='https://unpkg.com/vue-chartkick@0.5.1/dist/vue-chartkick.js'></script>\n",
       "<script src='https://unpkg.com/element-ui/lib/index.js'></script>\n"
      ],
      "text/plain": [
       "\"<script src='https://unpkg.com/vue/dist/vue.js'></script>\\n<script src='https://unpkg.com/chart.js@2.9.3/dist/Chart.bundle.js'></script>\\n<script src='https://unpkg.com/vue-chartkick@0.5.1/dist/vue-chartkick.js'></script>\\n<script src='https://unpkg.com/element-ui/lib/index.js'></script>\\n\""
      ]
     },
     "metadata": {},
     "output_type": "display_data"
    },
    {
     "data": {
      "text/html": [
       "<link rel='stylesheet' href='https://unpkg.com/element-ui/lib/theme-chalk/index.css'>\n"
      ],
      "text/plain": [
       "\"<link rel='stylesheet' href='https://unpkg.com/element-ui/lib/theme-chalk/index.css'>\\n\""
      ]
     },
     "metadata": {},
     "output_type": "display_data"
    },
    {
     "data": {
      "text/plain": [
       "true"
      ]
     },
     "execution_count": 3,
     "metadata": {},
     "output_type": "execute_result"
    }
   ],
   "source": [
    "## 设置数据库 & 定义数据模型\n",
    "    \n",
    "load './wtnb/wtnb.rb'\n",
    "load './wtnb/wtmodel.rb'\n",
    "\n",
    "IRuby.display IRuby.html(include_js)\n",
    "IRuby.display IRuby.html(include_css)\n",
    "\n",
    "nil\n",
    "\n",
    "connect_db(\"online\")\n",
    "enable_cache"
   ]
  },
  {
   "cell_type": "code",
   "execution_count": 4,
   "metadata": {},
   "outputs": [
    {
     "data": {
      "text/html": [
       "<h1>获取订单购买转化率</h1>"
      ],
      "text/plain": [
       "\"<h1>获取订单购买转化率</h1>\""
      ]
     },
     "metadata": {},
     "output_type": "display_data"
    },
    {
     "data": {
      "text/html": [
       "<span style='color:red'>全体订单</span>购买转化率: 0.19"
      ],
      "text/plain": [
       "\"<span style='color:red'>全体订单</span>购买转化率: 0.19\""
      ]
     },
     "metadata": {},
     "output_type": "display_data"
    }
   ],
   "source": [
    "puts_header \"获取订单购买转化率\"\n",
    "\n",
    "purchase_rate = Orders.product.where(\"status>=35\").purchase_rate.round(2).to_s\n",
    "puts_display \"<span style='color:red'>全体订单</span>购买转化率: \" + purchase_rate"
   ]
  },
  {
   "cell_type": "code",
   "execution_count": 5,
   "metadata": {},
   "outputs": [
    {
     "name": "stdout",
     "output_type": "stream",
     "text": [
      "按照月份的完成订单数\n",
      "{\n",
      "       nil\u001b[0;37m => \u001b[0m1,\n",
      "    201909\u001b[0;37m => \u001b[0m109,\n",
      "    201910\u001b[0;37m => \u001b[0m221,\n",
      "    201911\u001b[0;37m => \u001b[0m196,\n",
      "    201912\u001b[0;37m => \u001b[0m623,\n",
      "    202001\u001b[0;37m => \u001b[0m567,\n",
      "    202002\u001b[0;37m => \u001b[0m204,\n",
      "    202003\u001b[0;37m => \u001b[0m513,\n",
      "    202004\u001b[0;37m => \u001b[0m758,\n",
      "    202005\u001b[0;37m => \u001b[0m4\n",
      "}\n"
     ]
    },
    {
     "data": {
      "text/plain": [
       "{nil=>1, 201909=>109, 201910=>221, 201911=>196, 201912=>623, 202001=>567, 202002=>204, 202003=>513, 202004=>758, 202005=>4}"
      ]
     },
     "execution_count": 5,
     "metadata": {},
     "output_type": "execute_result"
    }
   ],
   "source": [
    "puts \"按照月份的完成订单数\"\n",
    "data= Orders.product.where(\"status>=35\").group(\"year(expect_day)*100+month(expect_day)\").count\n",
    "ap data"
   ]
  },
  {
   "cell_type": "code",
   "execution_count": 6,
   "metadata": {},
   "outputs": [
    {
     "data": {
      "text/html": [
       "<div id=\"chart-1\" style=\"height: 300px; width: 100%; text-align: center; color: #999; line-height: 300px; font-size: 14px; font-family: 'Lucida Grande', 'Lucida Sans Unicode', Verdana, Arial, Helvetica, sans-serif;\">Loading...</div><script type=\"text/javascript\">\n",
       "  new Chartkick[\"LineChart\"](\"chart-1\", [[null,1],[201909,109],[201910,221],[201911,196],[201912,623],[202001,567],[202002,204],[202003,513],[202004,758],[202005,4]], {\"color\":[\"#60acfc\",\"#32d3eb\",\"#5bc49f\",\"#feb64d\",\"#ff7c7c\",\"#9287e7\"]});\n",
       "</script>\n"
      ],
      "text/plain": [
       "\"<div id=\\\"chart-1\\\" style=\\\"height: 300px; width: 100%; text-align: center; color: #999; line-height: 300px; font-size: 14px; font-family: 'Lucida Grande', 'Lucida Sans Unicode', Verdana, Arial, Helvetica, sans-serif;\\\">Loading...</div><script type=\\\"text/javascript\\\">\\n  new Chartkick[\\\"LineChart\\\"](\\\"chart-1\\\", [[null,1],[201909,109],[201910,221],[201911,196],[201912,623],[202001,567],[202002,204],[202003,513],[202004,758],[202005,4]], {\\\"color\\\":[\\\"#60acfc\\\",\\\"#32d3eb\\\",\\\"#5bc49f\\\",\\\"#feb64d\\\",\\\"#ff7c7c\\\",\\\"#9287e7\\\"]});\\n</script>\\n\""
      ]
     },
     "metadata": {},
     "output_type": "display_data"
    }
   ],
   "source": [
    "puts_display line_chart(data,color:color)"
   ]
  },
  {
   "cell_type": "code",
   "execution_count": 7,
   "metadata": {},
   "outputs": [
    {
     "data": {
      "text/plain": [
       "[[201909, 0.20076726342711], [201910, 0.22419252691576946], [201911, 0.22180731889469754], [201912, 0.16221873364730507], [202001, 0.21645021645021645], [202002, 0.23328025477707007], [202003, 0.17440758293838862], [202004, 0.15782801605746882], [202005, 0.07692307692307693]]"
      ]
     },
     "execution_count": 7,
     "metadata": {},
     "output_type": "execute_result"
    }
   ],
   "source": [
    "pdata = data.map do |x|\n",
    "  if x[0] then\n",
    "      [ \n",
    "          x[0],\n",
    "          Orders.\n",
    "              product.\n",
    "              where(\"status>=35\").\n",
    "              where(\"year(expect_day)*100+month(expect_day) = #{x[0]}\").\n",
    "              purchase_rate\n",
    "      ]\n",
    "  end\n",
    "end[1,data.size-1]\n"
   ]
  },
  {
   "cell_type": "code",
   "execution_count": 8,
   "metadata": {},
   "outputs": [
    {
     "data": {
      "text/html": [
       "<h1>按照月份的购买转化率</h1>"
      ],
      "text/plain": [
       "\"<h1>按照月份的购买转化率</h1>\""
      ]
     },
     "metadata": {},
     "output_type": "display_data"
    },
    {
     "data": {
      "text/html": [
       "<div id=\"chart-2\" style=\"height: 300px; width: 100%; text-align: center; color: #999; line-height: 300px; font-size: 14px; font-family: 'Lucida Grande', 'Lucida Sans Unicode', Verdana, Arial, Helvetica, sans-serif;\">Loading...</div><script type=\"text/javascript\">\n",
       "  new Chartkick[\"ColumnChart\"](\"chart-2\", [[201909,0.20076726342711],[201910,0.22419252691576946],[201911,0.22180731889469754],[201912,0.16221873364730507],[202001,0.21645021645021645],[202002,0.23328025477707007],[202003,0.17440758293838862],[202004,0.15782801605746882],[202005,0.07692307692307693]], {\"color\":[\"#60acfc\",\"#32d3eb\",\"#5bc49f\",\"#feb64d\",\"#ff7c7c\",\"#9287e7\"]});\n",
       "</script>\n"
      ],
      "text/plain": [
       "\"<div id=\\\"chart-2\\\" style=\\\"height: 300px; width: 100%; text-align: center; color: #999; line-height: 300px; font-size: 14px; font-family: 'Lucida Grande', 'Lucida Sans Unicode', Verdana, Arial, Helvetica, sans-serif;\\\">Loading...</div><script type=\\\"text/javascript\\\">\\n  new Chartkick[\\\"ColumnChart\\\"](\\\"chart-2\\\", [[201909,0.20076726342711],[201910,0.22419252691576946],[201911,0.22180731889469754],[201912,0.16221873364730507],[202001,0.21645021645021645],[202002,0.23328025477707007],[202003,0.17440758293838862],[202004,0.15782801605746882],[202005,0.07692307692307693]], {\\\"color\\\":[\\\"#60acfc\\\",\\\"#32d3eb\\\",\\\"#5bc49f\\\",\\\"#feb64d\\\",\\\"#ff7c7c\\\",\\\"#9287e7\\\"]});\\n</script>\\n\""
      ]
     },
     "metadata": {},
     "output_type": "display_data"
    }
   ],
   "source": [
    "puts_header \"按照月份的购买转化率\"\n",
    "\n",
    "puts_display column_chart(pdata,color:color)"
   ]
  },
  {
   "cell_type": "code",
   "execution_count": 9,
   "metadata": {},
   "outputs": [
    {
     "data": {
      "text/html": [
       "<h1>4月获客渠道</h1>"
      ],
      "text/plain": [
       "\"<h1>4月获客渠道</h1>\""
      ]
     },
     "metadata": {},
     "output_type": "display_data"
    },
    {
     "data": {
      "text/html": [
       "<div id=\"chart-3\" style=\"height: 300px; width: 100%; text-align: center; color: #999; line-height: 300px; font-size: 14px; font-family: 'Lucida Grande', 'Lucida Sans Unicode', Verdana, Arial, Helvetica, sans-serif;\">Loading...</div><script type=\"text/javascript\">\n",
       "  new Chartkick[\"PieChart\"](\"chart-3\", [[\"20-04-KOL-知心\",23],[\"20-04-KOL-小甜椒Rukia\",20],[\"default_code\",16],[\"20-04-KOL-小姨妈\",14],[\"20-04-KOL-Michelle伊伊\",14]], {\"color\":[\"#60acfc\",\"#32d3eb\",\"#5bc49f\",\"#feb64d\",\"#ff7c7c\",\"#9287e7\"]});\n",
       "</script>\n"
      ],
      "text/plain": [
       "\"<div id=\\\"chart-3\\\" style=\\\"height: 300px; width: 100%; text-align: center; color: #999; line-height: 300px; font-size: 14px; font-family: 'Lucida Grande', 'Lucida Sans Unicode', Verdana, Arial, Helvetica, sans-serif;\\\">Loading...</div><script type=\\\"text/javascript\\\">\\n  new Chartkick[\\\"PieChart\\\"](\\\"chart-3\\\", [[\\\"20-04-KOL-知心\\\",23],[\\\"20-04-KOL-小甜椒Rukia\\\",20],[\\\"default_code\\\",16],[\\\"20-04-KOL-小姨妈\\\",14],[\\\"20-04-KOL-Michelle伊伊\\\",14]], {\\\"color\\\":[\\\"#60acfc\\\",\\\"#32d3eb\\\",\\\"#5bc49f\\\",\\\"#feb64d\\\",\\\"#ff7c7c\\\",\\\"#9287e7\\\"]});\\n</script>\\n\""
      ]
     },
     "metadata": {},
     "output_type": "display_data"
    }
   ],
   "source": [
    "source = User.member.\n",
    "    where(\"year(create_time)*100+month(create_time) = 202004\").\n",
    "    group(:source).\n",
    "    count.sort do |x,y| -1*(x[1]<=>y[1]) \n",
    "end[0,5].to_h\n",
    "\n",
    "puts_header \"4月获客渠道\"\n",
    "puts_display pie_chart(source,color:color)"
   ]
  },
  {
   "cell_type": "code",
   "execution_count": 10,
   "metadata": {},
   "outputs": [
    {
     "name": "stdout",
     "output_type": "stream",
     "text": [
      "{\n",
      "                      \"id\"\u001b[0;37m => \u001b[0m7176,\n",
      "                \"order_no\"\u001b[0;37m => \u001b[0m\u001b[0;33m\"20042400720\"\u001b[0m,\n",
      "                 \"box_num\"\u001b[0;37m => \u001b[0m11,\n",
      "                  \"box_no\"\u001b[0;37m => \u001b[0m\u001b[1;31mnil\u001b[0m,\n",
      "                    \"type\"\u001b[0;37m => \u001b[0m2,\n",
      "               \"member_id\"\u001b[0;37m => \u001b[0m142,\n",
      "                 \"message\"\u001b[0;37m => \u001b[0m\u001b[0;33m\"\"\u001b[0m,\n",
      "              \"expect_day\"\u001b[0;37m => \u001b[0m\u001b[0;32m2020-05-07 00:00:00 UTC\u001b[0m,\n",
      "                \"province\"\u001b[0;37m => \u001b[0m\u001b[0;33m\"上海市\"\u001b[0m,\n",
      "                    \"city\"\u001b[0;37m => \u001b[0m\u001b[0;33m\"上海市\"\u001b[0m,\n",
      "                \"district\"\u001b[0;37m => \u001b[0m\u001b[0;33m\"静安区\"\u001b[0m,\n",
      "                    \"addr\"\u001b[0;37m => \u001b[0m\u001b[0;33m\"安远路899弄华纺小区25号502室\"\u001b[0m,\n",
      "           \"addr_username\"\u001b[0;37m => \u001b[0m\u001b[0;33m\"汤\"\u001b[0m,\n",
      "              \"addr_phone\"\u001b[0;37m => \u001b[0m\u001b[0;33m\"18620465012\"\u001b[0m,\n",
      "                   \"total\"\u001b[0;37m => \u001b[0m1,\n",
      "              \"select_num\"\u001b[0;37m => \u001b[0m\u001b[1;31mnil\u001b[0m,\n",
      "                  \"amount\"\u001b[0;37m => \u001b[0m\u001b[1;31mnil\u001b[0m,\n",
      "                \"discount\"\u001b[0;37m => \u001b[0m\u001b[1;31mnil\u001b[0m,\n",
      "           \"discount_paid\"\u001b[0;37m => \u001b[0m\u001b[1;31mnil\u001b[0m,\n",
      "             \"amount_real\"\u001b[0;37m => \u001b[0m\u001b[1;31mnil\u001b[0m,\n",
      "             \"amount_paid\"\u001b[0;37m => \u001b[0m\u001b[1;31mnil\u001b[0m,\n",
      "       \"amount_supplement\"\u001b[0;37m => \u001b[0m\u001b[1;31mnil\u001b[0m,\n",
      "       \"exception_comment\"\u001b[0;37m => \u001b[0m\u001b[0;33m\"test\"\u001b[0m,\n",
      "                  \"status\"\u001b[0;37m => \u001b[0m-1,\n",
      "           \"last_pay_time\"\u001b[0;37m => \u001b[0m\u001b[1;31mnil\u001b[0m,\n",
      "            \"package_flag\"\u001b[0;37m => \u001b[0m\u001b[1;31mnil\u001b[0m,\n",
      "            \"logistics_no\"\u001b[0;37m => \u001b[0m\u001b[1;31mnil\u001b[0m,\n",
      "     \"return_logistics_no\"\u001b[0;37m => \u001b[0m\u001b[1;31mnil\u001b[0m,\n",
      "               \"send_time\"\u001b[0;37m => \u001b[0m\u001b[1;31mnil\u001b[0m,\n",
      "           \"returned_time\"\u001b[0;37m => \u001b[0m\u001b[1;31mnil\u001b[0m,\n",
      "           \"complete_time\"\u001b[0;37m => \u001b[0m\u001b[1;31mnil\u001b[0m,\n",
      "                 \"comment\"\u001b[0;37m => \u001b[0m\u001b[1;31mnil\u001b[0m,\n",
      "           \"comment_other\"\u001b[0;37m => \u001b[0m\u001b[1;31mnil\u001b[0m,\n",
      "           \"print_message\"\u001b[0;37m => \u001b[0m\u001b[1;31mnil\u001b[0m,\n",
      "          \"preview_status\"\u001b[0;37m => \u001b[0m\u001b[1;31mnil\u001b[0m,\n",
      "      \"preview_start_time\"\u001b[0;37m => \u001b[0m\u001b[1;31mnil\u001b[0m,\n",
      "          \"dress_occasion\"\u001b[0;37m => \u001b[0m\u001b[0;33m\"\"\u001b[0m,\n",
      "           \"like_category\"\u001b[0;37m => \u001b[0m\u001b[0;33m\"spring,T恤,衬衫,连衣裙\"\u001b[0m,\n",
      "    \"like_category_detail\"\u001b[0;37m => \u001b[0m\u001b[0;33m\"spring,T恤;衬衫;连衣裙\"\u001b[0m,\n",
      "              \"stylist_id\"\u001b[0;37m => \u001b[0m4,\n",
      "                    \"sign\"\u001b[0;37m => \u001b[0m\u001b[1;31mnil\u001b[0m,\n",
      "                  \"remark\"\u001b[0;37m => \u001b[0m\u001b[1;31mnil\u001b[0m,\n",
      "             \"create_time\"\u001b[0;37m => \u001b[0m\u001b[0;32m2020-04-24 12:41:17 UTC\u001b[0m,\n",
      "               \"create_at\"\u001b[0;37m => \u001b[0m1,\n",
      "             \"update_time\"\u001b[0;37m => \u001b[0m\u001b[0;32m2020-04-24 15:11:47 UTC\u001b[0m,\n",
      "               \"update_at\"\u001b[0;37m => \u001b[0m14,\n",
      "             \"remove_flag\"\u001b[0;37m => \u001b[0m\u001b[0;33m\"\\x00\"\u001b[0m,\n",
      "               \"sign_time\"\u001b[0;37m => \u001b[0m\u001b[1;31mnil\u001b[0m,\n",
      "        \"appointment_time\"\u001b[0;37m => \u001b[0m\u001b[1;31mnil\u001b[0m,\n",
      "        \"dislike_category\"\u001b[0;37m => \u001b[0m\u001b[0;33m\"牛仔裤,西装裤\"\u001b[0m,\n",
      "                  \"images\"\u001b[0;37m => \u001b[0m\u001b[0;33m\"\"\u001b[0m,\n",
      "                   \"color\"\u001b[0;37m => \u001b[0m\u001b[0;33m\"暖色\"\u001b[0m,\n",
      "               \"hold_flag\"\u001b[0;37m => \u001b[0m\u001b[0;33m\"\\x00\"\u001b[0m,\n",
      "             \"match_count\"\u001b[0;37m => \u001b[0m1,\n",
      "        \"active_coupon_id\"\u001b[0;37m => \u001b[0m\u001b[1;31mnil\u001b[0m\n",
      "}\n"
     ]
    },
    {
     "data": {
      "text/plain": [
       "{\"id\"=>7176, \"order_no\"=>\"20042400720\", \"box_num\"=>11, \"box_no\"=>nil, \"type\"=>2, \"member_id\"=>142, \"message\"=>\"\", \"expect_day\"=>2020-05-07 00:00:00 UTC, \"province\"=>\"上海市\", \"city\"=>\"上海市\", \"district\"=>\"静安区\", \"addr\"=>\"安远路899弄华纺小区25号502室\", \"addr_username\"=>\"汤\", \"addr_phone\"=>\"18620465012\", \"total\"=>1, \"select_num\"=>nil, \"amount\"=>nil, \"discount\"=>nil, \"discount_paid\"=>nil, \"amount_real\"=>nil, \"amount_paid\"=>nil, \"amount_supplement\"=>nil, \"exception_comment\"=>\"test\", \"status\"=>-1, \"last_pay_time\"=>nil, \"package_flag\"=>nil, \"logistics_no\"=>nil, \"return_logistics_no\"=>nil, \"send_time\"=>nil, \"returned_time\"=>nil, \"complete_time\"=>nil, \"comment\"=>nil, \"comment_other\"=>nil, \"print_message\"=>nil, \"preview_status\"=>nil, \"preview_start_time\"=>nil, \"dress_occasion\"=>\"\", \"like_category\"=>\"spring,T恤,衬衫,连衣裙\", \"like_category_detail\"=>\"spring,T恤;衬衫;连衣裙\", \"stylist_id\"=>4, \"sign\"=>nil, \"remark\"=>nil, \"create_time\"=>2020-04-24 12:41:17 UTC, \"create_at\"=>1, \"update_time\"=>2020-04-24 15:11:47 UTC, \"update_at\"=>14, \"remove_flag\"=>\"\\x00\", \"sign_time\"=>nil, \"appointment_time\"=>nil, \"dislike_category\"=>\"牛仔裤,西装裤\", \"images\"=>\"\", \"color\"=>\"暖色\", \"hold_flag\"=>\"\\x00\", \"match_count\"=>1, \"active_coupon_id\"=>nil}"
      ]
     },
     "execution_count": 10,
     "metadata": {},
     "output_type": "execute_result"
    }
   ],
   "source": [
    "ap User.where(phone:18620465012).orders.last.attributes"
   ]
  }
 ],
 "metadata": {
  "kernelspec": {
   "display_name": "Ruby 2.7.0",
   "language": "ruby",
   "name": "ruby"
  },
  "language_info": {
   "file_extension": ".rb",
   "mimetype": "application/x-ruby",
   "name": "ruby",
   "version": "2.7.0"
  }
 },
 "nbformat": 4,
 "nbformat_minor": 4
}
