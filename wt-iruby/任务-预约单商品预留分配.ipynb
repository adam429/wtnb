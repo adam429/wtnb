{
 "cells": [
  {
   "cell_type": "code",
   "execution_count": 1,
   "metadata": {},
   "outputs": [
    {
     "data": {
      "text/html": [
       "<script src='https://unpkg.com/vue/dist/vue.js'></script>\n",
       "<script src='https://unpkg.com/chart.js@2.9.3/dist/Chart.bundle.js'></script>\n",
       "<script src='https://unpkg.com/vue-chartkick@0.5.1/dist/vue-chartkick.js'></script>\n",
       "<script src='https://unpkg.com/element-ui/lib/index.js'></script>\n"
      ],
      "text/plain": [
       "\"<script src='https://unpkg.com/vue/dist/vue.js'></script>\\n<script src='https://unpkg.com/chart.js@2.9.3/dist/Chart.bundle.js'></script>\\n<script src='https://unpkg.com/vue-chartkick@0.5.1/dist/vue-chartkick.js'></script>\\n<script src='https://unpkg.com/element-ui/lib/index.js'></script>\\n\""
      ]
     },
     "metadata": {},
     "output_type": "display_data"
    },
    {
     "data": {
      "text/html": [
       "<link rel='stylesheet' href='https://unpkg.com/element-ui/lib/theme-chalk/index.css'>\n"
      ],
      "text/plain": [
       "\"<link rel='stylesheet' href='https://unpkg.com/element-ui/lib/theme-chalk/index.css'>\\n\""
      ]
     },
     "metadata": {},
     "output_type": "display_data"
    },
    {
     "data": {
      "text/plain": [
       "true"
      ]
     },
     "execution_count": 1,
     "metadata": {},
     "output_type": "execute_result"
    }
   ],
   "source": [
    "## 设置数据库 & 定义数据模型\n",
    "    \n",
    "load './wtnb/wtnb.rb'\n",
    "load './wtnb/wtmodel.rb'\n",
    "load './wtnb/wtbms.rb'\n",
    "\n",
    "\n",
    "IRuby.display IRuby.html(include_js)\n",
    "IRuby.display IRuby.html(include_css)\n",
    "\n",
    "ActiveRecord::Base.logger = nil\n",
    "\n",
    "nil\n",
    "\n",
    "connect_db(\"online\")\n",
    "enable_cache()"
   ]
  },
  {
   "cell_type": "code",
   "execution_count": 41,
   "metadata": {},
   "outputs": [],
   "source": [
    "#获取预约商品列表\n",
    "\n",
    "loop do \n",
    "    modify = false\n",
    "\n",
    "    ret1 = BMS.api_call(\"https://console.wetry.shop/console/product/SelfSelection/getSelfSelectionProductList\",{\"currentPage\": 1, \"canMatchFlag\": 1, \"pageSize\": 400})\n",
    "    if ret1[\"data\"][\"list\"]\n",
    "        ret1[\"data\"][\"list\"].each do |x|\n",
    "            spu = x[\"spu\"]\n",
    "            size = x[\"size\"]\n",
    "\n",
    "            #通过商品获取订单\n",
    "            ret2 = BMS.api_call(\"https://console.wetry.shop/console/order/order/getSaleList\",{\"currentPage\": 1, \"pageSize\": 400, \"spu\": spu, \"size\": size})\n",
    "\n",
    "            # 选type=3 更早的订单\n",
    "            order_list = ret2[\"data\"][\"list\"].map do |x| x[\"orderNo\"] end\n",
    "            order_no = Orders.where(order_no:order_list).where(type:3).order(\"type desc, create_time\").where(status:5).first\n",
    "            \n",
    "\n",
    "            if order_no then\n",
    "\n",
    "                # 添加到订单\n",
    "                puts \"添加到订单 #{order_no.order_no} #{spu}#{size}\"\n",
    "                BMS.addOrderItem(order_no.order_no,spu,size)\n",
    "                modify = true\n",
    "            end\n",
    "        end\n",
    "    end\n",
    "    break unless modify\n",
    "\n",
    "    puts \".\"\n",
    "end"
   ]
  },
  {
   "cell_type": "code",
   "execution_count": null,
   "metadata": {},
   "outputs": [],
   "source": []
  }
 ],
 "metadata": {
  "kernelspec": {
   "display_name": "Ruby 2.7.0",
   "language": "ruby",
   "name": "ruby"
  },
  "language_info": {
   "file_extension": ".rb",
   "mimetype": "application/x-ruby",
   "name": "ruby",
   "version": "2.7.0"
  }
 },
 "nbformat": 4,
 "nbformat_minor": 4
}
