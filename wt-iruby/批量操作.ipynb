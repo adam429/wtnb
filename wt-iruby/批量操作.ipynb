{
 "cells": [
  {
   "cell_type": "code",
   "execution_count": 3,
   "metadata": {},
   "outputs": [
    {
     "data": {
      "text/html": [
       "<script src='https://unpkg.com/vue/dist/vue.js'></script>\n",
       "<script src='https://unpkg.com/chart.js@2.9.3/dist/Chart.bundle.js'></script>\n",
       "<script src='https://unpkg.com/vue-chartkick@0.5.1/dist/vue-chartkick.js'></script>\n",
       "<script src='https://unpkg.com/element-ui/lib/index.js'></script>\n"
      ],
      "text/plain": [
       "\"<script src='https://unpkg.com/vue/dist/vue.js'></script>\\n<script src='https://unpkg.com/chart.js@2.9.3/dist/Chart.bundle.js'></script>\\n<script src='https://unpkg.com/vue-chartkick@0.5.1/dist/vue-chartkick.js'></script>\\n<script src='https://unpkg.com/element-ui/lib/index.js'></script>\\n\""
      ]
     },
     "metadata": {},
     "output_type": "display_data"
    },
    {
     "data": {
      "text/html": [
       "<link rel='stylesheet' href='https://unpkg.com/element-ui/lib/theme-chalk/index.css'>\n"
      ],
      "text/plain": [
       "\"<link rel='stylesheet' href='https://unpkg.com/element-ui/lib/theme-chalk/index.css'>\\n\""
      ]
     },
     "metadata": {},
     "output_type": "display_data"
    }
   ],
   "source": [
    "## 设置数据库 & 定义数据模型\n",
    "    \n",
    "load './wtnb/wtnb.rb'\n",
    "load './wtnb/wtmodel.rb'\n",
    "\n",
    "IRuby.display IRuby.html(include_js)\n",
    "IRuby.display IRuby.html(include_css)\n",
    "nil"
   ]
  },
  {
   "cell_type": "code",
   "execution_count": 37,
   "metadata": {},
   "outputs": [
    {
     "data": {
      "text/html": [
       "<h1>查询售卖状态</h1>"
      ],
      "text/plain": [
       "\"<h1>查询售卖状态</h1>\""
      ]
     },
     "metadata": {},
     "output_type": "display_data"
    }
   ],
   "source": [
    "puts_header \"查询售卖状态\"\n",
    "nil"
   ]
  },
  {
   "cell_type": "code",
   "execution_count": 29,
   "metadata": {},
   "outputs": [
    {
     "data": {
      "text/html": [
       "<table><tr><td>20042300672</td><td>陈宏</td><td>13819485124</td><td>名城公馆3幢1单元603</td><td>30</td><td>3</td><td>SF1162631775602</td></tr><tr><td>20042300673</td><td>郭蕊</td><td>13913471610</td><td>鼓楼晶典8号楼2504</td><td>30</td><td>3</td><td>SF1162631693634</td></tr><tr><td>20042300674</td><td>王丽雯</td><td>15349515888</td><td>亲水街艾依公馆</td><td>30</td><td>3</td><td>SF1162632255456</td></tr><tr><td>20042300675</td><td>邢娜</td><td>13730885271</td><td>交大归谷建设派2栋1单元</td><td>30</td><td>3</td><td>SF1162631588467</td></tr><tr><td>20042300676</td><td>王丽雯</td><td>15349515888</td><td>亲水街艾依公馆\n",
       "</td><td>30</td><td>3</td><td>SF1162631625355</td></tr><tr><td>20042300677</td><td>吕炎林</td><td>13380221803</td><td>张槎二路69号玉景园4幢1001</td><td>30</td><td>3</td><td>SF1162631801476</td></tr><tr><td>20042300678</td><td>胡维</td><td>13917095087</td><td>虹梅南路1770弄39号101室</td><td>25</td><td>3</td><td>SF1162658602089</td></tr><tr><td>20042300679</td><td>李向峰</td><td>13909386266</td><td>秦城区天庆嘉园</td><td>30</td><td>3</td><td>SF1162632242584</td></tr><tr><td>20042300680</td><td>刘沁</td><td>18501362973</td><td>高碑店铭基国际创业园A01</td><td>5</td><td>3</td><td></td></tr><tr><td>20042500778</td><td>郭蕊</td><td>13913471610</td><td>鼓楼晶典8号楼2504</td><td>5</td><td>3</td><td></td></tr><tr><td>20042500786</td><td>胡维</td><td>13917095087</td><td>虹梅南路1770弄39号101室</td><td>25</td><td>3</td><td>SF1162653581321</td></tr></table>"
      ],
      "text/plain": [
       "\"<table><tr><td>20042300672</td><td>陈宏</td><td>13819485124</td><td>名城公馆3幢1单元603</td><td>30</td><td>3</td><td>SF1162631775602</td></tr><tr><td>20042300673</td><td>郭蕊</td><td>13913471610</td><td>鼓楼晶典8号楼2504</td><td>30</td><td>3</td><td>SF1162631693634</td></tr><tr><td>20042300674</td><td>王丽雯</td><td>15349515888</td><td>亲水街艾依公馆</td><td>30</td><td>3</td><td>SF1162632255456</td></tr><tr><td>20042300675</td><td>邢娜</td><td>13730885271</td><td>交大归谷建设派2栋1单元</td><td>30</td><td>3</td><td>SF1162631588467</td></tr><tr><td>20042300676</td><td>王丽雯</td><td>15349515888</td><td>亲水街艾依公馆\\n</td><td>30</td><td>3</td><td>SF1162631625355</td></tr><tr><td>20042300677</td><td>吕炎林</td><td>13380221803</td><td>张槎二路69号玉景园4幢1001</td><td>30</td><td>3</td><td>SF1162631801476</td></tr><tr><td>20042300678</td><td>胡维</td><td>13917095087</td><td>虹梅南路1770弄39号101室</td><td>25</td><td>3</td><td>SF1162658602089</td></tr><tr><td>20042300679</td><td>李向峰</td><td>13909386266</td><td>秦城区天庆嘉园</td><td>30</td><td>3</td><td>SF1162632242584</td></tr><tr><td>20042300680</td><td>刘沁</td><td>18501362973</td><td>高碑店铭基国际创业园A01</td><td>5</td><td>3</td><td></td></tr><tr><td>20042500778</td><td>郭蕊</td><td>13913471610</td><td>鼓楼晶典8号楼2504</td><td>5</td><td>3</td><td></td></tr><tr><td>20042500786</td><td>胡维</td><td>13917095087</td><td>虹梅南路1770弄39号101室</td><td>25</td><td>3</td><td>SF1162653581321</td></tr></table>\""
      ]
     },
     "metadata": {},
     "output_type": "display_data"
    }
   ],
   "source": [
    "# 查询售卖订单状态\n",
    "phone = %w[13917095087 13819485124 13913471610 13909386266 13380221803 15349515888 18501362973 13730885271]\n",
    "puts_table (Order.where(addr_phone:phone).where(\"status>0\").map do |x|\n",
    "    [x.order_no, x.addr_username, x.addr_phone, x.addr,x.status,x.type,x.logistics_no]\n",
    "end)"
   ]
  },
  {
   "cell_type": "code",
   "execution_count": 42,
   "metadata": {},
   "outputs": [
    {
     "data": {
      "text/html": [
       "<table><tr><td>20042500777</td><td>李涛</td><td>18602298080</td><td>解放南路518号万科水晶城7-5-304</td><td>25</td><td>3</td><td>SF1162653078240</td></tr><tr><td>20042500778</td><td>郭蕊</td><td>13913471610</td><td>鼓楼晶典8号楼2504</td><td>5</td><td>3</td><td></td></tr><tr><td>20042500779</td><td>唐思汝</td><td>18618132884</td><td>望京花家地北里17号楼15单元102</td><td>25</td><td>3</td><td>SF1162653150629</td></tr><tr><td>20042500781</td><td>郑天利</td><td>13858181198</td><td>凤凰山路1号路南湖丽景东门</td><td>5</td><td>3</td><td></td></tr><tr><td>20042500782</td><td>李程</td><td>13524396219</td><td>东泉路64弄16号401室</td><td>30</td><td>3</td><td>SF1162653088011</td></tr><tr><td>20042500783</td><td>所继红</td><td>13903330705</td><td>海逸世家39栋2单元2104</td><td>5</td><td>3</td><td></td></tr><tr><td>20042500784</td><td>南太铉</td><td>15607336515</td><td>碧玉花园竹园4-9</td><td>25</td><td>3</td><td>SF1162653854811</td></tr><tr><td>20042500786</td><td>胡维</td><td>13917095087</td><td>虹梅南路1770弄39号101室</td><td>25</td><td>3</td><td>SF1162653581321</td></tr></table>"
      ],
      "text/plain": [
       "\"<table><tr><td>20042500777</td><td>李涛</td><td>18602298080</td><td>解放南路518号万科水晶城7-5-304</td><td>25</td><td>3</td><td>SF1162653078240</td></tr><tr><td>20042500778</td><td>郭蕊</td><td>13913471610</td><td>鼓楼晶典8号楼2504</td><td>5</td><td>3</td><td></td></tr><tr><td>20042500779</td><td>唐思汝</td><td>18618132884</td><td>望京花家地北里17号楼15单元102</td><td>25</td><td>3</td><td>SF1162653150629</td></tr><tr><td>20042500781</td><td>郑天利</td><td>13858181198</td><td>凤凰山路1号路南湖丽景东门</td><td>5</td><td>3</td><td></td></tr><tr><td>20042500782</td><td>李程</td><td>13524396219</td><td>东泉路64弄16号401室</td><td>30</td><td>3</td><td>SF1162653088011</td></tr><tr><td>20042500783</td><td>所继红</td><td>13903330705</td><td>海逸世家39栋2单元2104</td><td>5</td><td>3</td><td></td></tr><tr><td>20042500784</td><td>南太铉</td><td>15607336515</td><td>碧玉花园竹园4-9</td><td>25</td><td>3</td><td>SF1162653854811</td></tr><tr><td>20042500786</td><td>胡维</td><td>13917095087</td><td>虹梅南路1770弄39号101室</td><td>25</td><td>3</td><td>SF1162653581321</td></tr></table>\""
      ]
     },
     "metadata": {},
     "output_type": "display_data"
    },
    {
     "data": {
      "text/plain": [
       "1167"
      ]
     },
     "execution_count": 42,
     "metadata": {},
     "output_type": "execute_result"
    }
   ],
   "source": [
    "puts_table (Order.where(member_id:1722).where(\"status>0\").where(type:3).map do |x|\n",
    "    [x.order_no, x.addr_username, x.addr_phone, x.addr,x.status,x.type,x.logistics_no]\n",
    "end)\n",
    "puts_table (Order.where(member_id:1722).where(\"status>0\").where(type:3).map do |x|\n",
    "    [x.order_no, x.addr_username, x.addr_phone, x.addr,x.status,x.type,x.logistics_no]\n",
    "end), :file => \"list.html\"\n"
   ]
  },
  {
   "cell_type": "code",
   "execution_count": 38,
   "metadata": {},
   "outputs": [
    {
     "data": {
      "text/html": [
       "<h1>批量退款</h1>"
      ],
      "text/plain": [
       "\"<h1>批量退款</h1>\""
      ]
     },
     "metadata": {},
     "output_type": "display_data"
    }
   ],
   "source": [
    "puts_header \"批量退款\"\n",
    "nil"
   ]
  },
  {
   "cell_type": "code",
   "execution_count": null,
   "metadata": {},
   "outputs": [],
   "source": []
  }
 ],
 "metadata": {
  "kernelspec": {
   "display_name": "Ruby 2.7.0",
   "language": "ruby",
   "name": "ruby"
  },
  "language_info": {
   "file_extension": ".rb",
   "mimetype": "application/x-ruby",
   "name": "ruby",
   "version": "2.7.0"
  }
 },
 "nbformat": 4,
 "nbformat_minor": 4
}
