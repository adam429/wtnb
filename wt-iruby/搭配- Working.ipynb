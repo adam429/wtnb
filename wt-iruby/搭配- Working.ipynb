{
 "cells": [
  {
   "cell_type": "code",
   "execution_count": 1,
   "metadata": {},
   "outputs": [
    {
     "data": {
      "text/html": [
       "<script src='https://unpkg.com/vue/dist/vue.js'></script>\n",
       "<script src='https://unpkg.com/chart.js@2.9.3/dist/Chart.bundle.js'></script>\n",
       "<script src='https://unpkg.com/vue-chartkick@0.5.1/dist/vue-chartkick.js'></script>\n",
       "<script src='https://unpkg.com/element-ui/lib/index.js'></script>\n"
      ],
      "text/plain": [
       "\"<script src='https://unpkg.com/vue/dist/vue.js'></script>\\n<script src='https://unpkg.com/chart.js@2.9.3/dist/Chart.bundle.js'></script>\\n<script src='https://unpkg.com/vue-chartkick@0.5.1/dist/vue-chartkick.js'></script>\\n<script src='https://unpkg.com/element-ui/lib/index.js'></script>\\n\""
      ]
     },
     "metadata": {},
     "output_type": "display_data"
    },
    {
     "data": {
      "text/html": [
       "<link rel='stylesheet' href='https://unpkg.com/element-ui/lib/theme-chalk/index.css'>\n"
      ],
      "text/plain": [
       "\"<link rel='stylesheet' href='https://unpkg.com/element-ui/lib/theme-chalk/index.css'>\\n\""
      ]
     },
     "metadata": {},
     "output_type": "display_data"
    },
    {
     "data": {
      "text/plain": [
       "{}"
      ]
     },
     "execution_count": 1,
     "metadata": {},
     "output_type": "execute_result"
    }
   ],
   "source": [
    "## 设置数据库 & 定义数据模型\n",
    "    \n",
    "load './wtnb/wtnb.rb'\n",
    "load './wtnb/wtmodel.rb'\n",
    "load './wtnb/view.rb'\n",
    "load './wtnb/wtbms.rb'\n",
    "\n",
    "IRuby.display IRuby.html(include_js)\n",
    "IRuby.display IRuby.html(include_css)\n",
    "nil\n",
    "\n",
    "connect_db(\"online\")\n",
    "disable_cache"
   ]
  },
  {
   "cell_type": "code",
   "execution_count": 2,
   "metadata": {},
   "outputs": [
    {
     "data": {
      "text/html": [
       "<table><tr><td>2982</td><td>15385185182</td><td><a href='https://console.wetry.shop/orderDetail/20032501708'>20032501708</a></td><td>5</td><td></td><td>2020-05-07</td><td>张女士</td><td>0</td><td>0</td><td>0</td></tr><tr><td>4500</td><td>13787211735</td><td><a href='https://console.wetry.shop/orderDetail/20032901848'>20032901848</a></td><td>5</td><td></td><td>2020-05-08</td><td>谭娟</td><td>0</td><td>0</td><td>0</td></tr><tr><td>10529</td><td>13917124950</td><td><a href='https://console.wetry.shop/orderDetail/20042700888'>20042700888</a></td><td>10</td><td></td><td>2020-05-08</td><td>夏琰</td><td>0</td><td>4</td><td>4</td></tr><tr><td>10367</td><td>15624967695</td><td><a href='https://console.wetry.shop/orderDetail/20042300666'>20042300666</a></td><td>12</td><td></td><td>2020-04-29</td><td>周婧一</td><td>0</td><td>5</td><td>6</td></tr><tr><td>13446</td><td>13916084740</td><td><a href='https://console.wetry.shop/orderDetail/20042700943'>20042700943</a></td><td>12</td><td></td><td>2020-04-29</td><td>付女士</td><td>0</td><td>6</td><td>6</td></tr><tr><td>455</td><td>18801372016</td><td><a href='https://console.wetry.shop/orderDetail/20042801006'>20042801006</a></td><td>15</td><td></td><td>2020-04-30</td><td>魏萌</td><td>0</td><td>8</td><td>8</td></tr><tr><td>13293</td><td>18350201808</td><td><a href='https://console.wetry.shop/orderDetail/20042400759'>20042400759</a></td><td>15</td><td></td><td>2020-04-30</td><td>熊毅</td><td>0</td><td>5</td><td>6</td></tr><tr><td>13411</td><td>18618375204</td><td><a href='https://console.wetry.shop/orderDetail/20042700944'>20042700944</a></td><td>15</td><td></td><td>2020-04-30</td><td>何女士</td><td>0</td><td>7</td><td>7</td></tr></table>"
      ],
      "text/plain": [
       "\"<table><tr><td>2982</td><td>15385185182</td><td><a href='https://console.wetry.shop/orderDetail/20032501708'>20032501708</a></td><td>5</td><td></td><td>2020-05-07</td><td>张女士</td><td>0</td><td>0</td><td>0</td></tr><tr><td>4500</td><td>13787211735</td><td><a href='https://console.wetry.shop/orderDetail/20032901848'>20032901848</a></td><td>5</td><td></td><td>2020-05-08</td><td>谭娟</td><td>0</td><td>0</td><td>0</td></tr><tr><td>10529</td><td>13917124950</td><td><a href='https://console.wetry.shop/orderDetail/20042700888'>20042700888</a></td><td>10</td><td></td><td>2020-05-08</td><td>夏琰</td><td>0</td><td>4</td><td>4</td></tr><tr><td>10367</td><td>15624967695</td><td><a href='https://console.wetry.shop/orderDetail/20042300666'>20042300666</a></td><td>12</td><td></td><td>2020-04-29</td><td>周婧一</td><td>0</td><td>5</td><td>6</td></tr><tr><td>13446</td><td>13916084740</td><td><a href='https://console.wetry.shop/orderDetail/20042700943'>20042700943</a></td><td>12</td><td></td><td>2020-04-29</td><td>付女士</td><td>0</td><td>6</td><td>6</td></tr><tr><td>455</td><td>18801372016</td><td><a href='https://console.wetry.shop/orderDetail/20042801006'>20042801006</a></td><td>15</td><td></td><td>2020-04-30</td><td>魏萌</td><td>0</td><td>8</td><td>8</td></tr><tr><td>13293</td><td>18350201808</td><td><a href='https://console.wetry.shop/orderDetail/20042400759'>20042400759</a></td><td>15</td><td></td><td>2020-04-30</td><td>熊毅</td><td>0</td><td>5</td><td>6</td></tr><tr><td>13411</td><td>18618375204</td><td><a href='https://console.wetry.shop/orderDetail/20042700944'>20042700944</a></td><td>15</td><td></td><td>2020-04-30</td><td>何女士</td><td>0</td><td>7</td><td>7</td></tr></table>\""
      ]
     },
     "metadata": {},
     "output_type": "display_data"
    }
   ],
   "source": [
    "table=Order.where(\"stylist_id=10 or stylist_id=11 or order_no='20042300681'\").order(:status,:expect_day).where(\"status<=15\").where(\"status>0\").\n",
    "        pluck(:member_id,:order_no,:status,:hold_flag,:expect_day,:addr_username,:addr_phone,:select_num,:total).\n",
    "        pmap do |x| \n",
    "            [x[0],x[6] , \"<a href='https://console.wetry.shop/orderDetail/#{x[1]}'>#{x[1]}</a>\",x[2],((x[3]==\"\\x01\")? \"hold\" : \"\" ),x[4].to_s(:db)[0,10],x[5],Order.where(order_no:x[1]).item.keep.sold.count,Order.where(order_no:x[1]).item.keep.count,Order.where(order_no:x[1]).item.count] end\n",
    "puts_table table   "
   ]
  },
  {
   "cell_type": "code",
   "execution_count": 5,
   "metadata": {},
   "outputs": [
    {
     "data": {
      "text/plain": [
       "\"20042700888\""
      ]
     },
     "execution_count": 5,
     "metadata": {},
     "output_type": "execute_result"
    }
   ],
   "source": [
    "user_id = 10529\n",
    "order_no = User.find(user_id).orders.product.keep.order(:expect_day).last.order_no"
   ]
  },
  {
   "cell_type": "code",
   "execution_count": null,
   "metadata": {},
   "outputs": [
    {
     "ename": "ActiveRecord::StatementInvalid",
     "evalue": "Mysql2::Error::ConnectionError: Lost connection to MySQL server during query",
     "output_type": "error",
     "traceback": [
      "\u001b[31mActiveRecord::StatementInvalid\u001b[0m: Mysql2::Error::ConnectionError: Lost connection to MySQL server during query",
      "/Users/adam429/.rbenv/versions/2.7.0/lib/ruby/gems/2.7.0/gems/mysql2-0.5.3/lib/mysql2/client.rb:131:in `_query'",
      "/Users/adam429/.rbenv/versions/2.7.0/lib/ruby/gems/2.7.0/gems/mysql2-0.5.3/lib/mysql2/client.rb:131:in `block in query'",
      "/Users/adam429/.rbenv/versions/2.7.0/lib/ruby/gems/2.7.0/gems/mysql2-0.5.3/lib/mysql2/client.rb:130:in `handle_interrupt'",
      "/Users/adam429/.rbenv/versions/2.7.0/lib/ruby/gems/2.7.0/gems/mysql2-0.5.3/lib/mysql2/client.rb:130:in `query'",
      "/Users/adam429/.rbenv/versions/2.7.0/lib/ruby/gems/2.7.0/gems/activerecord-6.0.2.2/lib/active_record/connection_adapters/abstract_mysql_adapter.rb:202:in `block (2 levels) in execute'",
      "/Users/adam429/.rbenv/versions/2.7.0/lib/ruby/gems/2.7.0/gems/activesupport-6.0.2.2/lib/active_support/dependencies/interlock.rb:48:in `block in permit_concurrent_loads'",
      "/Users/adam429/.rbenv/versions/2.7.0/lib/ruby/gems/2.7.0/gems/activesupport-6.0.2.2/lib/active_support/concurrency/share_lock.rb:187:in `yield_shares'",
      "/Users/adam429/.rbenv/versions/2.7.0/lib/ruby/gems/2.7.0/gems/activesupport-6.0.2.2/lib/active_support/dependencies/interlock.rb:47:in `permit_concurrent_loads'",
      "/Users/adam429/.rbenv/versions/2.7.0/lib/ruby/gems/2.7.0/gems/activerecord-6.0.2.2/lib/active_record/connection_adapters/abstract_mysql_adapter.rb:201:in `block in execute'",
      "/Users/adam429/.rbenv/versions/2.7.0/lib/ruby/gems/2.7.0/gems/activerecord-6.0.2.2/lib/active_record/connection_adapters/abstract_adapter.rb:718:in `block (2 levels) in log'",
      "/Users/adam429/.rbenv/versions/2.7.0/lib/ruby/gems/2.7.0/gems/activerecord-6.0.2.2/lib/active_record/connection_adapters/abstract_adapter.rb:717:in `synchronize'",
      "/Users/adam429/.rbenv/versions/2.7.0/lib/ruby/gems/2.7.0/gems/activerecord-6.0.2.2/lib/active_record/connection_adapters/abstract_adapter.rb:717:in `block in log'",
      "/Users/adam429/.rbenv/versions/2.7.0/lib/ruby/gems/2.7.0/gems/activesupport-6.0.2.2/lib/active_support/notifications/instrumenter.rb:24:in `instrument'",
      "/Users/adam429/.rbenv/versions/2.7.0/lib/ruby/gems/2.7.0/gems/activerecord-6.0.2.2/lib/active_record/connection_adapters/abstract_adapter.rb:708:in `log'",
      "/Users/adam429/.rbenv/versions/2.7.0/lib/ruby/gems/2.7.0/gems/activerecord-6.0.2.2/lib/active_record/connection_adapters/abstract_mysql_adapter.rb:200:in `execute'",
      "/Users/adam429/.rbenv/versions/2.7.0/lib/ruby/gems/2.7.0/gems/activerecord-6.0.2.2/lib/active_record/connection_adapters/mysql/database_statements.rb:41:in `execute'",
      "/Users/adam429/.rbenv/versions/2.7.0/lib/ruby/gems/2.7.0/gems/activerecord-6.0.2.2/lib/active_record/connection_adapters/abstract_mysql_adapter.rb:211:in `execute_and_free'",
      "/Users/adam429/.rbenv/versions/2.7.0/lib/ruby/gems/2.7.0/gems/activerecord-6.0.2.2/lib/active_record/connection_adapters/mysql/database_statements.rb:46:in `exec_query'",
      "/Users/adam429/.rbenv/versions/2.7.0/lib/ruby/gems/2.7.0/gems/activerecord-6.0.2.2/lib/active_record/connection_adapters/abstract/database_statements.rb:487:in `select'",
      "/Users/adam429/.rbenv/versions/2.7.0/lib/ruby/gems/2.7.0/gems/activerecord-6.0.2.2/lib/active_record/connection_adapters/abstract/database_statements.rb:70:in `select_all'",
      "/Users/adam429/.rbenv/versions/2.7.0/lib/ruby/gems/2.7.0/gems/activerecord-6.0.2.2/lib/active_record/connection_adapters/abstract/query_cache.rb:107:in `select_all'",
      "/Users/adam429/.rbenv/versions/2.7.0/lib/ruby/gems/2.7.0/gems/activerecord-6.0.2.2/lib/active_record/connection_adapters/mysql/database_statements.rb:12:in `select_all'",
      "/Users/adam429/.rbenv/versions/2.7.0/lib/ruby/gems/2.7.0/gems/activerecord-6.0.2.2/lib/active_record/querying.rb:46:in `find_by_sql'",
      "/Users/adam429/.rbenv/versions/2.7.0/lib/ruby/gems/2.7.0/gems/activerecord-6.0.2.2/lib/active_record/statement_cache.rb:134:in `execute'",
      "/Users/adam429/.rbenv/versions/2.7.0/lib/ruby/gems/2.7.0/gems/activerecord-6.0.2.2/lib/active_record/core.rb:175:in `find'",
      "<main>:9:in `<main>'",
      "/Users/adam429/.rbenv/versions/2.7.0/lib/ruby/gems/2.7.0/gems/iruby-0.4.0/lib/iruby/backend.rb:44:in `eval'",
      "/Users/adam429/.rbenv/versions/2.7.0/lib/ruby/gems/2.7.0/gems/iruby-0.4.0/lib/iruby/backend.rb:44:in `eval'",
      "/Users/adam429/.rbenv/versions/2.7.0/lib/ruby/gems/2.7.0/gems/iruby-0.4.0/lib/iruby/backend.rb:12:in `eval'",
      "/Users/adam429/.rbenv/versions/2.7.0/lib/ruby/gems/2.7.0/gems/iruby-0.4.0/lib/iruby/kernel.rb:90:in `execute_request'",
      "/Users/adam429/.rbenv/versions/2.7.0/lib/ruby/gems/2.7.0/gems/iruby-0.4.0/lib/iruby/kernel.rb:49:in `dispatch'",
      "/Users/adam429/.rbenv/versions/2.7.0/lib/ruby/gems/2.7.0/gems/iruby-0.4.0/lib/iruby/kernel.rb:38:in `run'",
      "/Users/adam429/.rbenv/versions/2.7.0/lib/ruby/gems/2.7.0/gems/iruby-0.4.0/lib/iruby/command.rb:110:in `run_kernel'",
      "/Users/adam429/.rbenv/versions/2.7.0/lib/ruby/gems/2.7.0/gems/iruby-0.4.0/lib/iruby/command.rb:40:in `run'",
      "/Users/adam429/.rbenv/versions/2.7.0/lib/ruby/gems/2.7.0/gems/iruby-0.4.0/bin/iruby:5:in `<top (required)>'",
      "/Users/adam429/.rbenv/versions/2.7.0/bin/iruby:23:in `load'",
      "/Users/adam429/.rbenv/versions/2.7.0/bin/iruby:23:in `<main>'"
     ]
    }
   ],
   "source": [
    "## 引入人群  & 商品\n",
    "\n",
    "group = Store[\"group_marriage\"]\n",
    "product = Store[\"product_shortlist\"]\n",
    "product_top_send = Store[\"product_top_send\"]\n",
    "product_top_purchase = Store[\"product_top_purchase\"]\n",
    "product_data = Store[\"product_data\"]\n",
    "product_featured = Store[\"product_featured\"]\n",
    "\n",
    "user = User.find(user_id)\n",
    "spu_filter = BMS.getMemberFilterJson(user_id)[\"data\"]\n",
    "nil\n",
    "\n"
   ]
  },
  {
   "cell_type": "code",
   "execution_count": 7,
   "metadata": {},
   "outputs": [
    {
     "data": {
      "text/html": [
       "<h1>用户档案</h1>"
      ],
      "text/plain": [
       "\"<h1>用户档案</h1>\""
      ]
     },
     "metadata": {},
     "output_type": "display_data"
    },
    {
     "data": {
      "text/html": [
       "<a href='http://localhost:3000/user/10529'>10529</a>"
      ],
      "text/plain": [
       "\"<a href='http://localhost:3000/user/10529'>10529</a>\""
      ]
     },
     "metadata": {},
     "output_type": "display_data"
    },
    {
     "data": {
      "text/html": [
       "\n",
       "<div id=\"app_8nhQtqJVpe\">\n",
       "<el-container>\n",
       "  <el-container>\n",
       "    <el-header>\n",
       "      <el-row :gutter=\"24\">\n",
       "        <el-col :span=\"4\">\n",
       "          <el-button icon=\"el-icon-caret-left\" circle v-on:click=\"left\"></el-button>\n",
       "          <el-button icon=\"el-icon-caret-right\" circle v-on:click=\"right\"></el-button>\n",
       "        </el-col>\n",
       "\n",
       "        <el-col :span=\"20\">\n",
       "          <h1>[{{cur_url}}] {{ url[cur_url] }}</h1>\n",
       "        </el-col>\n",
       "      </el-row>\n",
       "    </el-header>\n",
       "    <el-main>\n",
       "      <el-divider></el-divider>\n",
       "      <iframe v-bind:src=\"url[cur_url]\" width=\"1400\" height=\"800\"></iframe>\n",
       "    </el-main>\n",
       "\n",
       "  </el-container>\n",
       "</el-container>\n",
       "</div>\n",
       "\n",
       "\n",
       "\n",
       "<script>\n",
       "  Vue.use(VueChartkick.use(Chart))\n",
       "\n",
       "  app = new Vue({\n",
       "    el: '#app_8nhQtqJVpe',\n",
       "    data: {\n",
       "      url: [\"http://localhost:3000/user/10529\"],\n",
       "      cur_url: 0\n",
       "    },\n",
       "    methods: {\n",
       "      left: function() {\n",
       "        this.cur_url -= 1\n",
       "        if (this.cur_url<0) this.cur_url = this.url.length-1\n",
       "      },\n",
       "      right: function() {\n",
       "        this.cur_url += 1\n",
       "        if (this.cur_url>=this.url.length) this.cur_url = 0\n",
       "      },\n",
       "      keyhandler: function() {\n",
       "        console.log(event.keyCode)\n",
       "        if (event.keyCode == 37) {\n",
       "        \tthis.left()\n",
       "        } else if (event.keyCode == 39) {\n",
       "        \tthis.right()\n",
       "        }\n",
       "      }\n",
       "    },\n",
       "    mounted () {\n",
       "      document.addEventListener(\"keyup\", this.keyhandler);\n",
       "    }\n",
       "  })\n",
       "</script>"
      ],
      "text/plain": [
       "\"\\n<div id=\\\"app_8nhQtqJVpe\\\">\\n<el-container>\\n  <el-container>\\n    <el-header>\\n      <el-row :gutter=\\\"24\\\">\\n        <el-col :span=\\\"4\\\">\\n          <el-button icon=\\\"el-icon-caret-left\\\" circle v-on:click=\\\"left\\\"></el-button>\\n          <el-button icon=\\\"el-icon-caret-right\\\" circle v-on:click=\\\"right\\\"></el-button>\\n        </el-col>\\n\\n        <el-col :span=\\\"20\\\">\\n          <h1>[{{cur_url}}] {{ url[cur_url] }}</h1>\\n        </el-col>\\n      </el-row>\\n    </el-header>\\n    <el-main>\\n      <el-divider></el-divider>\\n      <iframe v-bind:src=\\\"url[cur_url]\\\" width=\\\"1400\\\" height=\\\"800\\\"></iframe>\\n    </el-main>\\n\\n  </el-container>\\n</el-container>\\n</div>\\n\\n\\n\\n<script>\\n  Vue.use(VueChartkick.use(Chart))\\n\\n  app = new Vue({\\n    el: '#app_8nhQtqJVpe',\\n    data: {\\n      url: [\\\"http://localhost:3000/user/10529\\\"],\\n      cur_url: 0\\n    },\\n    methods: {\\n      left: function() {\\n        this.cur_url -= 1\\n        if (this.cur_url<0) this.cur_url = this.url.length-1\\n      },\\n      right: function() {\\n        this.cur_url += 1\\n        if (this.cur_url>=this.url.length) this.cur_url = 0\\n      },\\n      keyhandler: function() {\\n        console.log(event.keyCode)\\n        if (event.keyCode == 37) {\\n        \\tthis.left()\\n        } else if (event.keyCode == 39) {\\n        \\tthis.right()\\n        }\\n      }\\n    },\\n    mounted () {\\n      document.addEventListener(\\\"keyup\\\", this.keyhandler);\\n    }\\n  })\\n</script>\""
      ]
     },
     "metadata": {},
     "output_type": "display_data"
    }
   ],
   "source": [
    "puts_header \"用户档案\"\n",
    "url = [\"http://localhost:3000/user/#{user_id}\"]\n",
    "puts_display \"<a href='#{url.first}'>#{user_id}</a>\"\n",
    "puts_display render(\"左右浏览网页\",{:url=>url})\n",
    "\n",
    "nil"
   ]
  },
  {
   "cell_type": "code",
   "execution_count": 8,
   "metadata": {},
   "outputs": [
    {
     "data": {
      "text/html": [
       "<h1>用户历史购买商品</h1>"
      ],
      "text/plain": [
       "\"<h1>用户历史购买商品</h1>\""
      ]
     },
     "metadata": {},
     "output_type": "display_data"
    },
    {
     "data": {
      "text/html": [
       "<table><tr><td>SPU</td><td>Name</td><td>Price</td><td>Stock</td><td>Image</td><td>全体购买转化率</td><td>组别购买转化率</td><td>全部入盒=A</td><td>组别入盒=B</td><td>入盒比例=A/B</td><td>图片数量</td><td>QRCode</td></tr><tr><td><a href='https://console.wetry.shop/productDetail/1'>10000</a></td><td>季卡</td><td>129.0</td><td>0</td><td></td><td>1.0</td><td>1.0</td><td>2719</td><td>580</td><td>4.69</td><td>0</td><td><img src='https://image.wetry.shop/product/spu/10000/productDetailPageWxCode.jpg' width='150'/></td></tr></table>"
      ],
      "text/plain": [
       "\"<table><tr><td>SPU</td><td>Name</td><td>Price</td><td>Stock</td><td>Image</td><td>全体购买转化率</td><td>组别购买转化率</td><td>全部入盒=A</td><td>组别入盒=B</td><td>入盒比例=A/B</td><td>图片数量</td><td>QRCode</td></tr><tr><td><a href='https://console.wetry.shop/productDetail/1'>10000</a></td><td>季卡</td><td>129.0</td><td>0</td><td></td><td>1.0</td><td>1.0</td><td>2719</td><td>580</td><td>4.69</td><td>0</td><td><img src='https://image.wetry.shop/product/spu/10000/productDetailPageWxCode.jpg' width='150'/></td></tr></table>\""
      ]
     },
     "metadata": {},
     "output_type": "display_data"
    }
   ],
   "source": [
    "puts_header \"用户历史购买商品\"\n",
    "\n",
    "data = Order.where(member_id:user_id).finish_purchase.item.sold.product_spu\n",
    "\n",
    "table = data.map do |x|\n",
    "   ret = product_data[x.spu]\n",
    "   ret  \n",
    "end\n",
    "table = table.unshift([\"SPU\",\"Name\",\"Price\", \"Stock\",\"Image\",\"全体购买转化率\",\"组别购买转化率\",\"全部入盒=A\",\"组别入盒=B\",\"入盒比例=A/B\",\"图片数量\",\"QRCode\"])\n",
    "puts_table table"
   ]
  },
  {
   "cell_type": "code",
   "execution_count": 9,
   "metadata": {},
   "outputs": [
    {
     "data": {
      "text/html": [
       "<h1>用户历史对商品评价</h1>"
      ],
      "text/plain": [
       "\"<h1>用户历史对商品评价</h1>\""
      ]
     },
     "metadata": {},
     "output_type": "display_data"
    },
    {
     "data": {
      "text/html": [
       "<table><tr><td>SPU</td><td>Name</td><td>Price</td><td>Stock</td><td>Image</td><td>全体购买转化率</td><td>组别购买转化率</td><td>全部入盒=A</td><td>组别入盒=B</td><td>入盒比例=A/B</td><td>图片数量</td><td>QRCode</td><td>用户评价</td></tr><tr><td><a href='https://console.wetry.shop/productDetail/47'>10115</a></td><td>黑白系带职业感连衣裙</td><td>328.0</td><td>1</td><td><img src='https://image.wetry.shop/product/spu/10115/10115_a.jpg' width='150'/></td><td>0.15</td><td>0.1</td><td>39</td><td>10</td><td>3.9</td><td>6</td><td><img src='https://image.wetry.shop/product/spu/10115/productDetailPageWxCode.jpg' width='150'/></td><td>款式基础|纯OL风格，和我自己的风格有差异</td></tr><tr><td><a href='https://console.wetry.shop/productDetail/516'>20141</a></td><td>黑白拼色设计感衬衫</td><td>388.0</td><td>1</td><td><img src='https://retry-image.oss-cn-zhangjiakou.aliyuncs.com/product/spu/448e5899-83ba-4ea4-859e-f35b56daa748.jpg' width='150'/></td><td>0.16</td><td>0.14</td><td>19</td><td>7</td><td>2.71</td><td>2</td><td><img src='https://image.wetry.shop/product/spu/20141/productDetailPageWxCode.jpg' width='150'/></td><td>款式基础|很OL，颜色太黑，有点沉闷</td></tr><tr><td><a href='https://console.wetry.shop/productDetail/1162'>20787</a></td><td>白色光泽感解构衬衫</td><td>1499.0</td><td>8</td><td><img src='https://retry-image.oss-cn-zhangjiakou.aliyuncs.com/product/spu/8a4bf0db-cc4f-4d67-b32f-cf26f8b71bc5.jpg' width='150'/></td><td>0.05</td><td>0.0</td><td>21</td><td>5</td><td>4.2</td><td>4</td><td><img src='https://image.wetry.shop/product/spu/20787/productDetailPageWxCode.jpg' width='150'/></td><td>款式基础|样子太宽大了，感觉像妈妈的睡衣，和价格相比，性价比太低</td></tr><tr><td><a href='https://console.wetry.shop/productDetail/1385'>21010</a>(主推)</td><td>超级显瘦百搭黑色神裤</td><td>288.0</td><td>36</td><td><img src='https://retry-image.oss-cn-zhangjiakou.aliyuncs.com/product/spu/34e3ff00-48bd-4961-ba20-8703abe8b976.jpg' width='150'/></td><td>0.11</td><td>0.08</td><td>47</td><td>13</td><td>3.62</td><td>2</td><td><img src='https://image.wetry.shop/product/spu/21010/productDetailPageWxCode.jpg' width='150'/></td><td>尺码|性价比低，尺码有点小了</td></tr><tr><td><a href='https://console.wetry.shop/productDetail/1431'>21056</a></td><td>荷叶边通勤感连衣裙</td><td>488.0</td><td>8</td><td><img src='https://retry-image.oss-cn-zhangjiakou.aliyuncs.com/product/spu/6e3b826a-aaca-4d7b-b74c-6c35cd732a48.jpg' width='150'/></td><td>0.0</td><td>0.0</td><td>6</td><td>4</td><td>1.5</td><td>2</td><td><img src='https://image.wetry.shop/product/spu/21056/productDetailPageWxCode.jpg' width='150'/></td><td>款式基础|纯OL风，和我的风格有差异，纯黑色也太沉闷</td></tr><tr><td><a href='https://console.wetry.shop/productDetail/1228'>20853</a></td><td>杏色A字摆半裙</td><td>248.0</td><td>3</td><td><img src='https://retry-image.oss-cn-zhangjiakou.aliyuncs.com/product/spu/f613d8df-f797-4854-ae36-43dae808747d.jpg' width='150'/></td><td>0.2</td><td>0.0</td><td>15</td><td>3</td><td>5.0</td><td>2</td><td><img src='https://image.wetry.shop/product/spu/20853/productDetailPageWxCode.jpg' width='150'/></td><td>|家里有同款同色的裙子了</td></tr><tr><td><a href='https://console.wetry.shop/productDetail/1275'>20900</a></td><td>琥珀色夸张耳饰</td><td>168.0</td><td>2</td><td><img src='https://retry-image.oss-cn-zhangjiakou.aliyuncs.com/product/spu/13d2a727-fce9-4bec-8000-70662d51c3bf.png' width='150'/></td><td>0.0</td><td>0.0</td><td>6</td><td>1</td><td>6.0</td><td>1</td><td><img src='https://image.wetry.shop/product/spu/20900/productDetailPageWxCode.jpg' width='150'/></td><td>|性价比太低</td></tr></table>"
      ],
      "text/plain": [
       "\"<table><tr><td>SPU</td><td>Name</td><td>Price</td><td>Stock</td><td>Image</td><td>全体购买转化率</td><td>组别购买转化率</td><td>全部入盒=A</td><td>组别入盒=B</td><td>入盒比例=A/B</td><td>图片数量</td><td>QRCode</td><td>用户评价</td></tr><tr><td><a href='https://console.wetry.shop/productDetail/47'>10115</a></td><td>黑白系带职业感连衣裙</td><td>328.0</td><td>1</td><td><img src='https://image.wetry.shop/product/spu/10115/10115_a.jpg' width='150'/></td><td>0.15</td><td>0.1</td><td>39</td><td>10</td><td>3.9</td><td>6</td><td><img src='https://image.wetry.shop/product/spu/10115/productDetailPageWxCode.jpg' width='150'/></td><td>款式基础|纯OL风格，和我自己的风格有差异</td></tr><tr><td><a href='https://console.wetry.shop/productDetail/516'>20141</a></td><td>黑白拼色设计感衬衫</td><td>388.0</td><td>1</td><td><img src='https://retry-image.oss-cn-zhangjiakou.aliyuncs.com/product/spu/448e5899-83ba-4ea4-859e-f35b56daa748.jpg' width='150'/></td><td>0.16</td><td>0.14</td><td>19</td><td>7</td><td>2.71</td><td>2</td><td><img src='https://image.wetry.shop/product/spu/20141/productDetailPageWxCode.jpg' width='150'/></td><td>款式基础|很OL，颜色太黑，有点沉闷</td></tr><tr><td><a href='https://console.wetry.shop/productDetail/1162'>20787</a></td><td>白色光泽感解构衬衫</td><td>1499.0</td><td>8</td><td><img src='https://retry-image.oss-cn-zhangjiakou.aliyuncs.com/product/spu/8a4bf0db-cc4f-4d67-b32f-cf26f8b71bc5.jpg' width='150'/></td><td>0.05</td><td>0.0</td><td>21</td><td>5</td><td>4.2</td><td>4</td><td><img src='https://image.wetry.shop/product/spu/20787/productDetailPageWxCode.jpg' width='150'/></td><td>款式基础|样子太宽大了，感觉像妈妈的睡衣，和价格相比，性价比太低</td></tr><tr><td><a href='https://console.wetry.shop/productDetail/1385'>21010</a>(主推)</td><td>超级显瘦百搭黑色神裤</td><td>288.0</td><td>36</td><td><img src='https://retry-image.oss-cn-zhangjiakou.aliyuncs.com/product/spu/34e3ff00-48bd-4961-ba20-8703abe8b976.jpg' width='150'/></td><td>0.11</td><td>0.08</td><td>47</td><td>13</td><td>3.62</td><td>2</td><td><img src='https://image.wetry.shop/product/spu/21010/productDetailPageWxCode.jpg' width='150'/></td><td>尺码|性价比低，尺码有点小了</td></tr><tr><td><a href='https://console.wetry.shop/productDetail/1431'>21056</a></td><td>荷叶边通勤感连衣裙</td><td>488.0</td><td>8</td><td><img src='https://retry-image.oss-cn-zhangjiakou.aliyuncs.com/product/spu/6e3b826a-aaca-4d7b-b74c-6c35cd732a48.jpg' width='150'/></td><td>0.0</td><td>0.0</td><td>6</td><td>4</td><td>1.5</td><td>2</td><td><img src='https://image.wetry.shop/product/spu/21056/productDetailPageWxCode.jpg' width='150'/></td><td>款式基础|纯OL风，和我的风格有差异，纯黑色也太沉闷</td></tr><tr><td><a href='https://console.wetry.shop/productDetail/1228'>20853</a></td><td>杏色A字摆半裙</td><td>248.0</td><td>3</td><td><img src='https://retry-image.oss-cn-zhangjiakou.aliyuncs.com/product/spu/f613d8df-f797-4854-ae36-43dae808747d.jpg' width='150'/></td><td>0.2</td><td>0.0</td><td>15</td><td>3</td><td>5.0</td><td>2</td><td><img src='https://image.wetry.shop/product/spu/20853/productDetailPageWxCode.jpg' width='150'/></td><td>|家里有同款同色的裙子了</td></tr><tr><td><a href='https://console.wetry.shop/productDetail/1275'>20900</a></td><td>琥珀色夸张耳饰</td><td>168.0</td><td>2</td><td><img src='https://retry-image.oss-cn-zhangjiakou.aliyuncs.com/product/spu/13d2a727-fce9-4bec-8000-70662d51c3bf.png' width='150'/></td><td>0.0</td><td>0.0</td><td>6</td><td>1</td><td>6.0</td><td>1</td><td><img src='https://image.wetry.shop/product/spu/20900/productDetailPageWxCode.jpg' width='150'/></td><td>|性价比太低</td></tr></table>\""
      ]
     },
     "metadata": {},
     "output_type": "display_data"
    }
   ],
   "source": [
    "puts_header \"用户历史对商品评价\"\n",
    "\n",
    "\n",
    "feedback1 = user.orders.product.order_feedback_detail.keep.pluck(:spu,:order_feedback_tag_name).to_h\n",
    "feedback2 = user.orders.product.order_feedback.keep.pluck(:order_item_id,:text).map do |x| [Item.find(x[0]).spu,x[1]] end.to_h\n",
    "\n",
    "table =(feedback1.to_a.map do |x| x[0] end + feedback2.to_a.map do |x| x[0] end).uniq.map do |y|\n",
    "     x=ProductSpu.where(spu:y).first\n",
    "        (product_data[x.spu] or [\"\"]*12) + [ feedback1[x.spu].to_s + \"|\" +  feedback2[x.spu].to_s ] end\n",
    "table = table.unshift([\"SPU\",\"Name\",\"Price\", \"Stock\",\"Image\",\"全体购买转化率\",\"组别购买转化率\",\"全部入盒=A\",\"组别入盒=B\",\"入盒比例=A/B\",\"图片数量\",\"QRCode\",\"用户评价\"])\n",
    "puts_table table"
   ]
  },
  {
   "cell_type": "code",
   "execution_count": 79,
   "metadata": {},
   "outputs": [
    {
     "name": "stdout",
     "output_type": "stream",
     "text": [
      "6 seconds\n"
     ]
    }
   ],
   "source": [
    "list = []\n",
    "\n",
    "time {\n",
    "\n",
    "# 筛选用户可搭配商品列表\n",
    "\n",
    "list = (product.pluck(:spu) + product_top_send.pluck(:spu) + product_top_purchase.pluck(:spu) + product_featured.pluck(:spu)).uniq\n",
    "\n",
    "# 过滤历史订单的商品\n",
    "list = list.pfilter do |x| user.orders.where(\"status<=10\").item.pluck(:spu).index(x).nil? end\n",
    "\n",
    "# 过滤排雷订单的商品\n",
    "list = list.pfilter do |x| spu_filter.index(x).nil? end\n",
    "\n",
    "# 过滤下架的商品\n",
    "plist = list.pfilter do |x| \n",
    "    p = ProductSpu.where(spu:x).first;\n",
    "    (p.status==2 and /缎面|亮片|泡泡袖|花边|褶皱/.match(p.product_name).nil?) end\n",
    "\n",
    "# 匹配列表\n",
    "list = plist.pmap do |x|\n",
    "  [x,product.where(spu:x).count,product_top_send.where(spu:x).count,product_top_purchase.where(spu:x).count,product_featured.where(spu:x).count,\n",
    "      ProductSpu.where(spu:x).first.category[1] + \"|\" + ProductSpu.where(spu:x).first.category[0], ProductSpu.where(spu:x).first.category_id,ProductSpu.where(spu:x).first.parent_category_id ]\n",
    "end\n",
    "\n",
    "}\n",
    "nil"
   ]
  },
  {
   "cell_type": "code",
   "execution_count": 80,
   "metadata": {},
   "outputs": [],
   "source": [
    "list = list.sort do |x,y|  -1*((-x[7]*100000-x[6]*1000+x[1]*100+(x[2]+x[3]+x[4])*10)<=>(-y[7]*100000-y[6]*1000+y[1]*100+(y[2]+y[3]+y[4])*10)) end\n",
    "nil"
   ]
  },
  {
   "cell_type": "code",
   "execution_count": 81,
   "metadata": {},
   "outputs": [
    {
     "name": "stdout",
     "output_type": "stream",
     "text": [
      "5 seconds\n"
     ]
    },
    {
     "data": {
      "text/html": [
       "\n",
       "  <div id=\"app_owsw3RmdEP\">\n",
       "    <el-form ref=\"form\" :model=\"form\" :inline=\"true\">\n",
       "      <el-form-item label=\"关键字\">\n",
       "        <el-input v-on:input=\"inputEvent\" v-model=\"form.name\"></el-input>\n",
       "      </el-form-item>\n",
       "      <el-form-item>\n",
       "        <el-button type=\"primary\" v-on:click=\"onSubmit\">搜索</el-button>\n",
       "        <el-button v-on:click=\"initTableData\">取消</el-button>\n",
       "      </el-form-item>\n",
       "    </el-form>\n",
       "\n",
       "    <el-table :data=\"tableData\" stripe style=\"width: 100%;\">\n",
       "      <el-table-column v-for=\"prop in thead\" :key=\"prop\" :label=\"prop\" :fixed=\"prop === '操作' ? 'right' : ''\">\n",
       "        <template slot-scope=\"scope\">\n",
       "          <div v-html=\"scope.row[prop]\" style=\"font-size: 12px\"></div>\n",
       "        </template>\n",
       "      </el-table-column>\n",
       "    </el-table>\n",
       "\n",
       "  </div>\n",
       "  <!-- <script src=\"https://unpkg.com/vue/dist/vue.js\"></script>\n",
       "  <script src=\"https://unpkg.com/element-ui/lib/index.js\"></script> -->\n",
       "  \n",
       "<script>\n",
       "    new Vue({\n",
       "      el: '#app_owsw3RmdEP',\n",
       "      data: function () {\n",
       "        return {\n",
       "          form: {\n",
       "            name: '',\n",
       "          },\n",
       "          thead: [\"SPU\",\"Name\",\"Price\",\"Stock\",\"Image\",\"全体购买转化率\",\"组别购买转化率\",\"全部入盒=A\",\"组别入盒=B\",\"入盒比例=A/B\",\"尺码\",\"用户适合尺码\",\"推荐来源\",\"Category\",\"操作\"],\n",
       "          allTableData: [],\n",
       "          savedTableData: [[\"SPU\",\"Name\",\"Price\",\"Stock\",\"Image\",\"全体购买转化率\",\"组别购买转化率\",\"全部入盒=A\",\"组别入盒=B\",\"入盒比例=A/B\",\"尺码\",\"用户适合尺码\",\"推荐来源\",\"Category\",\"操作\"],[\"\\u003ca href='https://console.wetry.shop/productDetail/136'\\u003e10218\\u003c/a\\u003e\",\"白色方头细腰带\",\"48.0\",50,\"\\u003cimg src='http://image.wetry.shop/product/spu/10218/10218_a.jpg' width='150'/\\u003e\",0.22,0.19,175,32,5.47,[\"F\"],\"F\",\"\\u003cspan style='color:red'\\u003e【手工挑选】\\u003c/span\\u003e\",\"配饰|腰带\",\"\\u003ca href='http://localhost:3000/bms/addOrderItem?order_no=20042700888\\u0026spu=10218\\u0026size=F'\\u003e添加\\u003c/a\\u003e\"],[\"\\u003ca href='https://console.wetry.shop/productDetail/355'\\u003e20001\\u003c/a\\u003e\",\"YESNO字母耳钉\",\"58.0\",7,\"\\u003cimg src='https://retry-image.oss-cn-zhangjiakou.aliyuncs.com/product/spu/d8c677b0-5ada-45e9-afd9-cfce6afe008a.png' width='150'/\\u003e\",0.27,0.29,146,34,4.29,[\"F\"],\"F\",\"\\u003cspan style='color:red'\\u003e【手工挑选】【群体Top发盒】【群体Top购买】\\u003c/span\\u003e\",\"首饰|耳环\",\"\\u003ca href='http://localhost:3000/bms/addOrderItem?order_no=20042700888\\u0026spu=20001\\u0026size=F'\\u003e添加\\u003c/a\\u003e\"],[\"\\u003ca href='https://console.wetry.shop/productDetail/357'\\u003e20003\\u003c/a\\u003e\",\"交叉珍珠耳钉\",\"48.0\",13,\"\\u003cimg src='https://retry-image.oss-cn-zhangjiakou.aliyuncs.com/product/spu/1b8a91e3-fb23-4ea7-9a0d-fbe2627602f3.png' width='150'/\\u003e\",0.33,0.3,43,10,4.3,[\"F\"],\"F\",\"\\u003cspan style='color:red'\\u003e【手工挑选】\\u003c/span\\u003e\",\"首饰|耳环\",\"\\u003ca href='http://localhost:3000/bms/addOrderItem?order_no=20042700888\\u0026spu=20003\\u0026size=F'\\u003e添加\\u003c/a\\u003e\"],[\"\\u003ca href='https://console.wetry.shop/productDetail/709'\\u003e20334\\u003c/a\\u003e\",\"粉色冰淇淋耳钉\",\"48.0\",7,\"\\u003cimg src='https://retry-image.oss-cn-zhangjiakou.aliyuncs.com/product/spu/bc0955bc-8e9b-4c13-988c-5a24ed90d3c2.png' width='150'/\\u003e\",0.33,0.33,33,6,5.5,[\"F\"],\"F\",\"\\u003cspan style='color:red'\\u003e【手工挑选】\\u003c/span\\u003e\",\"首饰|耳环\",\"\\u003ca href='http://localhost:3000/bms/addOrderItem?order_no=20042700888\\u0026spu=20334\\u0026size=F'\\u003e添加\\u003c/a\\u003e\"],[\"\\u003ca href='https://console.wetry.shop/productDetail/366'\\u003e20012\\u003c/a\\u003e\",\"珍珠爱心耳钉\",\"48.0\",1,\"\\u003cimg src='https://retry-image.oss-cn-zhangjiakou.aliyuncs.com/product/spu/c1b8004d-83ad-489a-abe5-0733e50ba47c.png' width='150'/\\u003e\",0.4,0.43,82,14,5.86,[\"F\"],\"F\",\"\\u003cspan style='color:red'\\u003e【群体Top购买】\\u003c/span\\u003e\",\"首饰|耳环\",\"\\u003ca href='http://localhost:3000/bms/addOrderItem?order_no=20042700888\\u0026spu=20012\\u0026size=F'\\u003e添加\\u003c/a\\u003e\"],[\"\\u003ca href='https://console.wetry.shop/productDetail/110'\\u003e10190\\u003c/a\\u003e(候选)\",\"莫兰迪色平领口羊绒针织吊带\",\"138.0\",3,\"\\u003cimg src='https://image.wetry.shop/product/spu/10190/10190_a.jpg' width='150'/\\u003e\",0.26,0.3,50,10,5.0,[\"F\"],\"F\",\"\\u003cspan style='color:red'\\u003e【手工挑选】\\u003c/span\\u003e\",\"上装|吊带背心\",\"\\u003ca href='http://localhost:3000/bms/addOrderItem?order_no=20042700888\\u0026spu=10190\\u0026size=F'\\u003e添加\\u003c/a\\u003e\"],[\"\\u003ca href='https://console.wetry.shop/productDetail/112'\\u003e10192\\u003c/a\\u003e\",\"黑色平领口羊绒针织吊带\",\"138.0\",4,\"\\u003cimg src='https://image.wetry.shop/product/spu/10192/10192_a.jpg' width='150'/\\u003e\",0.15,0.14,81,21,3.86,[\"F\"],\"F\",\"\\u003cspan style='color:red'\\u003e【手工挑选】\\u003c/span\\u003e\",\"上装|吊带背心\",\"\\u003ca href='http://localhost:3000/bms/addOrderItem?order_no=20042700888\\u0026spu=10192\\u0026size=F'\\u003e添加\\u003c/a\\u003e\"],[\"\\u003ca href='https://console.wetry.shop/productDetail/113'\\u003e10193\\u003c/a\\u003e(候选)\",\"牛油果色平领口羊绒针织吊带\",\"138.0\",6,\"\\u003cimg src='https://image.wetry.shop/product/spu/10193/10193_a.jpg' width='150'/\\u003e\",0.37,0.5,41,8,5.13,[\"F\"],\"F\",\"\\u003cspan style='color:red'\\u003e【手工挑选】\\u003c/span\\u003e\",\"上装|吊带背心\",\"\\u003ca href='http://localhost:3000/bms/addOrderItem?order_no=20042700888\\u0026spu=10193\\u0026size=F'\\u003e添加\\u003c/a\\u003e\"],[\"\\u003ca href='https://console.wetry.shop/productDetail/1190'\\u003e20815\\u003c/a\\u003e(候选)\",\"纽扣款针织衫\",\"178.0\",5,\"\\u003cimg src='https://retry-image.oss-cn-zhangjiakou.aliyuncs.com/product/spu/41958952-4ce2-4e04-9836-c566303b2e05.jpg' width='150'/\\u003e\",0.33,0.5,9,2,4.5,[\"F\"],\"F\",\"\\u003cspan style='color:red'\\u003e【手工挑选】\\u003c/span\\u003e\",\"上装|打底衫\",\"\\u003ca href='http://localhost:3000/bms/addOrderItem?order_no=20042700888\\u0026spu=20815\\u0026size=F'\\u003e添加\\u003c/a\\u003e\"],[\"\\u003ca href='https://console.wetry.shop/productDetail/1440'\\u003e21065\\u003c/a\\u003e(主推)\",\"天丝羊毛高品质超薄防嗮面膜T恤\",\"198.0\",2,\"\\u003cimg src='https://retry-image.oss-cn-zhangjiakou.aliyuncs.com/product/spu/412e16d5-7e66-4d33-8f09-cfd3f4f29e17.jpg' width='150'/\\u003e\",0.27,0.33,15,3,5.0,[\"F\"],\"F\",\"\\u003cspan style='color:red'\\u003e【主推】\\u003c/span\\u003e\",\"上装|打底衫\",\"\\u003ca href='http://localhost:3000/bms/addOrderItem?order_no=20042700888\\u0026spu=21065\\u0026size=F'\\u003e添加\\u003c/a\\u003e\"],[\"\\u003ca href='https://console.wetry.shop/productDetail/1396'\\u003e21021\\u003c/a\\u003e\",\"大圆领修身短款T恤\",\"108.0\",1,\"\\u003cimg src='https://retry-image.oss-cn-zhangjiakou.aliyuncs.com/product/spu/d06e428f-fce4-4e02-80e7-5419bd9a2a69.png' width='150'/\\u003e\",0.17,0.0,12,1,12.0,[\"F\"],\"F\",\"\\u003cspan style='color:red'\\u003e【手工挑选】\\u003c/span\\u003e\",\"上装|T恤\",\"\\u003ca href='http://localhost:3000/bms/addOrderItem?order_no=20042700888\\u0026spu=21021\\u0026size=F'\\u003e添加\\u003c/a\\u003e\"],[\"\\u003ca href='https://console.wetry.shop/productDetail/40'\\u003e10108\\u003c/a\\u003e(候选)\",\"白色俏皮感长袖T恤\",\"178.0\",2,\"\\u003cimg src='https://image.wetry.shop/product/spu/10108/10108_a.jpg' width='150'/\\u003e\",0.22,0.22,36,9,4.0,[\"F\"],\"F\",\"\\u003cspan style='color:red'\\u003e【手工挑选】\\u003c/span\\u003e\",\"上装|T恤\",\"\\u003ca href='http://localhost:3000/bms/addOrderItem?order_no=20042700888\\u0026spu=10108\\u0026size=F'\\u003e添加\\u003c/a\\u003e\"],[\"\\u003ca href='https://console.wetry.shop/productDetail/1402'\\u003e21027\\u003c/a\\u003e\",\"舒适大圆领T恤\",\"108.0\",1,\"\\u003cimg src='https://retry-image.oss-cn-zhangjiakou.aliyuncs.com/product/spu/63417448-8adf-407a-bf97-7474982e13f0.png' width='150'/\\u003e\",0.2,0.13,20,8,2.5,[\"F\"],\"F\",\"\\u003cspan style='color:red'\\u003e【手工挑选】\\u003c/span\\u003e\",\"上装|T恤\",\"\\u003ca href='http://localhost:3000/bms/addOrderItem?order_no=20042700888\\u0026spu=21027\\u0026size=F'\\u003e添加\\u003c/a\\u003e\"],[\"\\u003ca href='https://console.wetry.shop/productDetail/1395'\\u003e21020\\u003c/a\\u003e(候选)(主推)\",\"春日暖黄休闲衬衫\",\"218.0\",2,\"\\u003cimg src='https://retry-image.oss-cn-zhangjiakou.aliyuncs.com/product/spu/dd552b39-6342-4790-99f6-c81be8fe43ae.png' width='150'/\\u003e\",0.43,0.44,28,9,3.11,[\"F\"],\"F\",\"\\u003cspan style='color:red'\\u003e【手工挑选】【群体Top发盒】【主推】\\u003c/span\\u003e\",\"上装|衬衫衬衣\",\"\\u003ca href='http://localhost:3000/bms/addOrderItem?order_no=20042700888\\u0026spu=21020\\u0026size=F'\\u003e添加\\u003c/a\\u003e\"],[\"\\u003ca href='https://console.wetry.shop/productDetail/1495'\\u003e21120\\u003c/a\\u003e\",\"春日珍珠白休闲衬衫\",\"238.0\",3,\"\\u003cimg src='https://retry-image.oss-cn-zhangjiakou.aliyuncs.com/product/spu/f884f569-b990-4239-a3d1-b784b85d3723.png' width='150'/\\u003e\",0.13,0.0,8,2,4.0,[\"F\"],\"F\",\"\\u003cspan style='color:red'\\u003e【手工挑选】\\u003c/span\\u003e\",\"上装|衬衫衬衣\",\"\\u003ca href='http://localhost:3000/bms/addOrderItem?order_no=20042700888\\u0026spu=21120\\u0026size=F'\\u003e添加\\u003c/a\\u003e\"],[\"\\u003ca href='https://console.wetry.shop/productDetail/1490'\\u003e21115\\u003c/a\\u003e\",\"白色小仙女打底上衣\",\"148.0\",2,\"\\u003cimg src='https://retry-image.oss-cn-zhangjiakou.aliyuncs.com/product/spu/0b58cb69-150e-45da-a4e0-2deeed156fff.png' width='150'/\\u003e\",0.17,0,6,0,0,[\"S\",\"M\"],\"S\",\"\\u003cspan style='color:red'\\u003e【手工挑选】\\u003c/span\\u003e\",\"上装|上衣\",\"\\u003ca href='http://localhost:3000/bms/addOrderItem?order_no=20042700888\\u0026spu=21115\\u0026size=S'\\u003e添加\\u003c/a\\u003e\"],[\"\\u003ca href='https://console.wetry.shop/productDetail/673'\\u003e20298\\u003c/a\\u003e\",\"杏色钉珠两件套上衣\",\"238.0\",8,\"\\u003cimg src='https://retry-image.oss-cn-zhangjiakou.aliyuncs.com/product/spu/09072546-bd11-4854-bb8d-248549e56844.jpg' width='150'/\\u003e\",0.14,0.1,72,10,7.2,[\"F\"],\"F\",\"\\u003cspan style='color:red'\\u003e【手工挑选】\\u003c/span\\u003e\",\"上装|上衣\",\"\\u003ca href='http://localhost:3000/bms/addOrderItem?order_no=20042700888\\u0026spu=20298\\u0026size=F'\\u003e添加\\u003c/a\\u003e\"],[\"\\u003ca href='https://console.wetry.shop/productDetail/415'\\u003e20044\\u003c/a\\u003e\",\"交叉围裹V领羊绒毛衣\",\"498.0\",1,\"\\u003cimg src='https://retry-image.oss-cn-zhangjiakou.aliyuncs.com/product/spu/e659b18a-87b6-4296-b076-8249c0fbbb64.jpg' width='150'/\\u003e\",0.19,0.22,62,23,2.7,[\"F\"],\"F\",\"\\u003cspan style='color:red'\\u003e【群体Top发盒】\\u003c/span\\u003e\",\"上装|羊绒衫\",\"\\u003ca href='http://localhost:3000/bms/addOrderItem?order_no=20042700888\\u0026spu=20044\\u0026size=F'\\u003e添加\\u003c/a\\u003e\"],[\"\\u003ca href='https://console.wetry.shop/productDetail/1317'\\u003e20942\\u003c/a\\u003e\",\"法式复古淡黄色针织开衫\",\"158.0\",2,\"\\u003cimg src='https://retry-image.oss-cn-zhangjiakou.aliyuncs.com/product/spu/ae09b494-7532-4b15-afb5-d8de5cfe8efc.png' width='150'/\\u003e\",0.14,0.33,22,3,7.33,[\"均码\",\"F\"],\"F\",\"\\u003cspan style='color:red'\\u003e【手工挑选】\\u003c/span\\u003e\",\"上装|针织衫\",\"\\u003ca href='http://localhost:3000/bms/addOrderItem?order_no=20042700888\\u0026spu=20942\\u0026size=F'\\u003e添加\\u003c/a\\u003e\"],[\"\\u003ca href='https://console.wetry.shop/productDetail/441'\\u003e20070\\u003c/a\\u003e\",\"超柔软细坑条修身打底衫\",\"258.0\",2,\"\\u003cimg src='https://retry-image.oss-cn-zhangjiakou.aliyuncs.com/product/spu/ea755dbf-f6c4-416c-b305-7413dba5b1a3.jpg' width='150'/\\u003e\",0.19,0.24,81,29,2.79,[\"F\"],\"F\",\"\\u003cspan style='color:red'\\u003e【群体Top发盒】\\u003c/span\\u003e\",\"上装|针织衫\",\"\\u003ca href='http://localhost:3000/bms/addOrderItem?order_no=20042700888\\u0026spu=20070\\u0026size=F'\\u003e添加\\u003c/a\\u003e\"],[\"\\u003ca href='https://console.wetry.shop/productDetail/1107'\\u003e20732\\u003c/a\\u003e(候选)(主推)\",\"浅蓝色阔腿牛仔裤\",\"328.0\",16,\"\\u003cimg src='https://retry-image.oss-cn-zhangjiakou.aliyuncs.com/product/spu/ccdafc72-ee66-4cae-bada-e8c03b4c3fff.jpg' width='150'/\\u003e\",0.31,0.5,61,10,6.1,[\"S\",\"M\"],\"S\",\"\\u003cspan style='color:red'\\u003e【手工挑选】【群体Top发盒】【群体Top购买】【主推】\\u003c/span\\u003e\",\"下装裤|牛仔长裤\",\"\\u003ca href='http://localhost:3000/bms/addOrderItem?order_no=20042700888\\u0026spu=20732\\u0026size=S'\\u003e添加\\u003c/a\\u003e\"],[\"\\u003ca href='https://console.wetry.shop/productDetail/1097'\\u003e20722\\u003c/a\\u003e(候选)(主推)\",\"复古蓝色小哈伦牛仔裤\",\"268.0\",3,\"\\u003cimg src='https://retry-image.oss-cn-zhangjiakou.aliyuncs.com/product/spu/9554780c-0c64-48c8-8f6b-aef36df0f93d.jpg' width='150'/\\u003e\",0.23,0.29,69,14,4.93,[\"M\",\"XL\"],\"M\",\"\\u003cspan style='color:red'\\u003e【手工挑选】【群体Top发盒】【主推】\\u003c/span\\u003e\",\"下装裤|牛仔长裤\",\"\\u003ca href='http://localhost:3000/bms/addOrderItem?order_no=20042700888\\u0026spu=20722\\u0026size=M'\\u003e添加\\u003c/a\\u003e\"],[\"\\u003ca href='https://console.wetry.shop/productDetail/1030'\\u003e20655\\u003c/a\\u003e(候选)(主推)\",\"高腰微喇显瘦牛仔裤\",\"198.0\",12,\"\\u003cimg src='https://retry-image.oss-cn-zhangjiakou.aliyuncs.com/product/spu/a9e8f097-92e5-4934-9364-ce940d149f27.jpg' width='150'/\\u003e\",0.31,0.31,106,29,3.66,[\"S\",\"M\",\"L\",\"XL\"],\"S\",\"\\u003cspan style='color:red'\\u003e【手工挑选】【群体Top发盒】【主推】\\u003c/span\\u003e\",\"下装裤|牛仔长裤\",\"\\u003ca href='http://localhost:3000/bms/addOrderItem?order_no=20042700888\\u0026spu=20655\\u0026size=S'\\u003e添加\\u003c/a\\u003e\"],[\"\\u003ca href='https://console.wetry.shop/productDetail/1385'\\u003e21010\\u003c/a\\u003e(主推)\",\"超级显瘦百搭黑色神裤\",\"288.0\",26,\"\\u003cimg src='https://retry-image.oss-cn-zhangjiakou.aliyuncs.com/product/spu/34e3ff00-48bd-4961-ba20-8703abe8b976.jpg' width='150'/\\u003e\",0.11,0.08,47,13,3.62,[\"S\",\"M\",\"L\"],\"S\",\"\\u003cspan style='color:red'\\u003e【主推】\\u003c/span\\u003e\",\"下装裤|运动裤\",\"\\u003ca href='http://localhost:3000/bms/addOrderItem?order_no=20042700888\\u0026spu=21010\\u0026size=S'\\u003e添加\\u003c/a\\u003e\"],[\"\\u003ca href='https://console.wetry.shop/productDetail/395'\\u003e10341\\u003c/a\\u003e(候选)(主推)\",\"博主同款极致显瘦牛仔长裤\",\"238.0\",7,\"\\u003cimg src='https://retry-image.oss-cn-zhangjiakou.aliyuncs.com/product/spu/1efe183d-996c-4414-ae01-e154314aac9a.jpg' width='150'/\\u003e\",0.35,0.39,276,61,4.52,[\"M\",\"L\"],\"M\",\"\\u003cspan style='color:red'\\u003e【手工挑选】【群体Top发盒】【群体Top购买】【主推】\\u003c/span\\u003e\",\"下装裤|阔腿裤\",\"\\u003ca href='http://localhost:3000/bms/addOrderItem?order_no=20042700888\\u0026spu=10341\\u0026size=M'\\u003e添加\\u003c/a\\u003e\"],[\"\\u003ca href='https://console.wetry.shop/productDetail/1185'\\u003e20810\\u003c/a\\u003e(主推)\",\"显瘦女神款长款\",\"288.0\",5,\"\\u003cimg src='https://retry-image.oss-cn-zhangjiakou.aliyuncs.com/product/spu/a60f9202-43c7-477c-aa48-6c1d80ef7909.png' width='150'/\\u003e\",0.31,0.17,26,6,4.33,[\"S\",\"M\"],\"S\",\"\\u003cspan style='color:red'\\u003e【手工挑选】【主推】\\u003c/span\\u003e\",\"下装裤|阔腿裤\",\"\\u003ca href='http://localhost:3000/bms/addOrderItem?order_no=20042700888\\u0026spu=20810\\u0026size=S'\\u003e添加\\u003c/a\\u003e\"],[\"\\u003ca href='https://console.wetry.shop/productDetail/1379'\\u003e21004\\u003c/a\\u003e(主推)\",\"撞色压线A字长款半裙\",\"288.0\",6,\"\\u003cimg src='https://retry-image.oss-cn-zhangjiakou.aliyuncs.com/product/spu/a5736ae8-c682-404b-a8e6-0a99ec7666c1.jpg' width='150'/\\u003e\",0.12,0.0,17,2,8.5,[\"S\",\"M\"],\"S\",\"\\u003cspan style='color:red'\\u003e【手工挑选】【主推】\\u003c/span\\u003e\",\"下装裙|A字裙\",\"\\u003ca href='http://localhost:3000/bms/addOrderItem?order_no=20042700888\\u0026spu=21004\\u0026size=S'\\u003e添加\\u003c/a\\u003e\"],[\"\\u003ca href='https://console.wetry.shop/productDetail/1228'\\u003e20853\\u003c/a\\u003e\",\"杏色A字摆半裙\",\"248.0\",2,\"\\u003cimg src='https://retry-image.oss-cn-zhangjiakou.aliyuncs.com/product/spu/f613d8df-f797-4854-ae36-43dae808747d.jpg' width='150'/\\u003e\",0.2,0.0,15,3,5.0,[\"S\"],\"S\",\"\\u003cspan style='color:red'\\u003e【手工挑选】\\u003c/span\\u003e\",\"下装裙|A字裙\",\"\\u003ca href='http://localhost:3000/bms/addOrderItem?order_no=20042700888\\u0026spu=20853\\u0026size=S'\\u003e添加\\u003c/a\\u003e\"],[\"\\u003ca href='https://console.wetry.shop/productDetail/1444'\\u003e21069\\u003c/a\\u003e(主推)\",\"超显瘦杏色高腰设计感半裙（含腰带）\",\"368.0\",1,\"\\u003cimg src='https://retry-image.oss-cn-zhangjiakou.aliyuncs.com/product/spu/7fa81919-e3c4-4ae8-bf0f-b3337db43881.png' width='150'/\\u003e\",0.2,0.0,20,3,6.67,[\"M\"],\"M\",\"\\u003cspan style='color:red'\\u003e【手工挑选】【主推】\\u003c/span\\u003e\",\"下装裙|不对称以及垂褶裙\",\"\\u003ca href='http://localhost:3000/bms/addOrderItem?order_no=20042700888\\u0026spu=21069\\u0026size=M'\\u003e添加\\u003c/a\\u003e\"],[\"\\u003ca href='https://console.wetry.shop/productDetail/1445'\\u003e21070\\u003c/a\\u003e(主推)\",\"超显瘦黑色高腰设计感半裙（含腰带）\",\"368.0\",8,\"\\u003cimg src='https://retry-image.oss-cn-zhangjiakou.aliyuncs.com/product/spu/c043d805-8ac6-43c9-8753-7fed8881b499.jpg' width='150'/\\u003e\",0.13,0.14,30,7,4.29,[\"S\",\"M\",\"XL\"],\"S\",\"\\u003cspan style='color:red'\\u003e【手工挑选】【主推】\\u003c/span\\u003e\",\"下装裙|不对称以及垂褶裙\",\"\\u003ca href='http://localhost:3000/bms/addOrderItem?order_no=20042700888\\u0026spu=21070\\u0026size=S'\\u003e添加\\u003c/a\\u003e\"],[\"\\u003ca href='https://console.wetry.shop/productDetail/1152'\\u003e20777\\u003c/a\\u003e(主推)\",\"淡黄色真丝感A字中裙\",\"268.0\",2,\"\\u003cimg src='https://retry-image.oss-cn-zhangjiakou.aliyuncs.com/product/spu/c9e4ff94-4251-45eb-8cc6-807ecf2f3945.jpg' width='150'/\\u003e\",0.18,0.11,51,9,5.67,[\"S\",\"M\"],\"S\",\"\\u003cspan style='color:red'\\u003e【手工挑选】【主推】\\u003c/span\\u003e\",\"下装裙|伞裙\",\"\\u003ca href='http://localhost:3000/bms/addOrderItem?order_no=20042700888\\u0026spu=20777\\u0026size=S'\\u003e添加\\u003c/a\\u003e\"],[\"\\u003ca href='https://console.wetry.shop/productDetail/1178'\\u003e20803\\u003c/a\\u003e(主推)\",\"法式复古V领连衣裙\",\"328.0\",1,\"\\u003cimg src='https://retry-image.oss-cn-zhangjiakou.aliyuncs.com/product/spu/65dcbd09-b69d-4f09-9d1e-3eeaa17c3a55.png' width='150'/\\u003e\",0.21,0.2,33,5,6.6,[\"S\"],\"S\",\"\\u003cspan style='color:red'\\u003e【手工挑选】【主推】\\u003c/span\\u003e\",\"连衣裙|梭织连衣裙\",\"\\u003ca href='http://localhost:3000/bms/addOrderItem?order_no=20042700888\\u0026spu=20803\\u0026size=S'\\u003e添加\\u003c/a\\u003e\"],[\"\\u003ca href='https://console.wetry.shop/productDetail/1338'\\u003e20963\\u003c/a\\u003e\",\"法式复古浪漫碎花连衣裙\",\"268.0\",2,\"\\u003cimg src='https://retry-image.oss-cn-zhangjiakou.aliyuncs.com/product/spu/143c62b9-7230-444d-b39a-73c733a78700.png' width='150'/\\u003e\",0.25,0.0,12,1,12.0,[\"S\"],\"S\",\"\\u003cspan style='color:red'\\u003e【手工挑选】\\u003c/span\\u003e\",\"连衣裙|梭织连衣裙\",\"\\u003ca href='http://localhost:3000/bms/addOrderItem?order_no=20042700888\\u0026spu=20963\\u0026size=S'\\u003e添加\\u003c/a\\u003e\"],[\"\\u003ca href='https://console.wetry.shop/productDetail/1447'\\u003e21072\\u003c/a\\u003e\",\"淡蓝色防嗮开衫\",\"318.0\",1,\"\\u003cimg src='https://retry-image.oss-cn-zhangjiakou.aliyuncs.com/product/spu/e8af6c13-090c-4d01-aad8-f5e355876404.jpg' width='150'/\\u003e\",0.06,0.0,18,7,2.57,[\"F\"],\"F\",\"\\u003cspan style='color:red'\\u003e【手工挑选】\\u003c/span\\u003e\",\"外套|薄开衫\",\"\\u003ca href='http://localhost:3000/bms/addOrderItem?order_no=20042700888\\u0026spu=21072\\u0026size=F'\\u003e添加\\u003c/a\\u003e\"],[\"\\u003ca href='https://console.wetry.shop/productDetail/1318'\\u003e20943\\u003c/a\\u003e\",\"质感杏粉色西服外套\",\"468.0\",1,\"\\u003cimg src='https://retry-image.oss-cn-zhangjiakou.aliyuncs.com/product/spu/b4a0cff0-a869-4388-aecd-af845c3c544c.jpeg' width='150'/\\u003e\",0.11,0.4,35,5,7.0,[\"S\"],\"S\",\"\\u003cspan style='color:red'\\u003e【手工挑选】\\u003c/span\\u003e\",\"外套|西装外套\",\"\\u003ca href='http://localhost:3000/bms/addOrderItem?order_no=20042700888\\u0026spu=20943\\u0026size=S'\\u003e添加\\u003c/a\\u003e\"],[\"\\u003ca href='https://console.wetry.shop/productDetail/285'\\u003e10262\\u003c/a\\u003e\",\"千鸟格修身长外套\",\"448.0\",7,\"\\u003cimg src='https://image.wetry.shop/product/spu/10262/10262_a.jpg' width='150'/\\u003e\",0.12,0.17,57,18,3.17,[\"S\",\"M\",\"L\"],\"S\",\"\\u003cspan style='color:red'\\u003e【手工挑选】\\u003c/span\\u003e\",\"大衣|长款大衣\",\"\\u003ca href='http://localhost:3000/bms/addOrderItem?order_no=20042700888\\u0026spu=10262\\u0026size=S'\\u003e添加\\u003c/a\\u003e\"],[\"\\u003ca href='https://console.wetry.shop/productDetail/1032'\\u003e20657\\u003c/a\\u003e(候选)\",\"浅灰色针织裙套装\",\"538.0\",7,\"\\u003cimg src='https://retry-image.oss-cn-zhangjiakou.aliyuncs.com/product/spu/c68c1506-ee9c-4e16-b7d1-ee1451b94c83.jpg' width='150'/\\u003e\",0.18,0.27,17,11,1.55,[\"S\",\"M\"],\"S\",\"\\u003cspan style='color:red'\\u003e【手工挑选】\\u003c/span\\u003e\",\"套装|上衣裙装套装\",\"\\u003ca href='http://localhost:3000/bms/addOrderItem?order_no=20042700888\\u0026spu=20657\\u0026size=S'\\u003e添加\\u003c/a\\u003e\"],[\"\\u003ca href='https://console.wetry.shop/productDetail/1033'\\u003e20658\\u003c/a\\u003e\",\"卡其色针织裙套装\",\"538.0\",5,\"\\u003cimg src='https://retry-image.oss-cn-zhangjiakou.aliyuncs.com/product/spu/d86ab798-2a25-4e66-b8cc-52bca080be6c.png' width='150'/\\u003e\",0.14,0.31,37,13,2.85,[\"S\",\"M\"],\"S\",\"\\u003cspan style='color:red'\\u003e【群体Top购买】\\u003c/span\\u003e\",\"套装|上衣裙装套装\",\"\\u003ca href='http://localhost:3000/bms/addOrderItem?order_no=20042700888\\u0026spu=20658\\u0026size=S'\\u003e添加\\u003c/a\\u003e\"],[\"\\u003ca href='https://console.wetry.shop/productDetail/168'\\u003e10060\\u003c/a\\u003e\",\"凑单神器-点点女袜\",\"28.0\",7,\"\\u003cimg src='https://retry-image.oss-cn-zhangjiakou.aliyuncs.com/product/spu/e9db6491-ef82-450e-a914-153a4dae058f.png' width='150'/\\u003e\",0.28,0.19,78,16,4.88,[\"F\"],\"F\",\"\\u003cspan style='color:red'\\u003e【手工挑选】\\u003c/span\\u003e\",\"内衣|短袜\",\"\\u003ca href='http://localhost:3000/bms/addOrderItem?order_no=20042700888\\u0026spu=10060\\u0026size=F'\\u003e添加\\u003c/a\\u003e\"],[\"\\u003ca href='https://console.wetry.shop/productDetail/170'\\u003e10062\\u003c/a\\u003e\",\"凑单神器-横条女袜\",\"28.0\",24,\"\\u003cimg src='https://retry-image.oss-cn-zhangjiakou.aliyuncs.com/product/spu/8a30e0a0-0782-4a60-829a-05c5e34287ca.png' width='150'/\\u003e\",0.26,0.0,23,6,3.83,[\"F\"],\"F\",\"\\u003cspan style='color:red'\\u003e【手工挑选】\\u003c/span\\u003e\",\"内衣|短袜\",\"\\u003ca href='http://localhost:3000/bms/addOrderItem?order_no=20042700888\\u0026spu=10062\\u0026size=F'\\u003e添加\\u003c/a\\u003e\"],[\"\\u003ca href='https://console.wetry.shop/productDetail/167'\\u003e10059\\u003c/a\\u003e\",\"凑单神器-点点女袜\",\"28.0\",17,\"\\u003cimg src='https://retry-image.oss-cn-zhangjiakou.aliyuncs.com/product/spu/9142fc81-d099-4db1-a2ee-9a9bf3a8919c.png' width='150'/\\u003e\",0.32,0.29,37,7,5.29,[\"F\"],\"F\",\"\\u003cspan style='color:red'\\u003e【手工挑选】\\u003c/span\\u003e\",\"内衣|短袜\",\"\\u003ca href='http://localhost:3000/bms/addOrderItem?order_no=20042700888\\u0026spu=10059\\u0026size=F'\\u003e添加\\u003c/a\\u003e\"],[\"\\u003ca href='https://console.wetry.shop/productDetail/169'\\u003e10061\\u003c/a\\u003e\",\"凑单神器-菱形格女袜\",\"28.0\",1,\"\\u003cimg src='https://retry-image.oss-cn-zhangjiakou.aliyuncs.com/product/spu/e9924db2-e686-4968-8369-7d4958b4cad4.png' width='150'/\\u003e\",0.41,0.45,71,20,3.55,[\"F\"],\"F\",\"\\u003cspan style='color:red'\\u003e【群体Top发盒】【群体Top购买】\\u003c/span\\u003e\",\"内衣|短袜\",\"\\u003ca href='http://localhost:3000/bms/addOrderItem?order_no=20042700888\\u0026spu=10061\\u0026size=F'\\u003e添加\\u003c/a\\u003e\"],[\"\\u003ca href='https://console.wetry.shop/productDetail/177'\\u003e10069\\u003c/a\\u003e\",\"凑单神器-绢混平纹袜\",\"28.0\",1,\"\\u003cimg src='https://retry-image.oss-cn-zhangjiakou.aliyuncs.com/product/spu/818c2f62-e472-4d54-aad0-7ad10e8e4808.png' width='150'/\\u003e\",0.54,0.36,46,11,4.18,[\"F\"],\"F\",\"\\u003cspan style='color:red'\\u003e【群体Top发盒】【群体Top购买】\\u003c/span\\u003e\",\"内衣|短袜\",\"\\u003ca href='http://localhost:3000/bms/addOrderItem?order_no=20042700888\\u0026spu=10069\\u0026size=F'\\u003e添加\\u003c/a\\u003e\"],[\"\\u003ca href='https://console.wetry.shop/productDetail/209'\\u003e10258\\u003c/a\\u003e\",\"日本进口天鹅绒超薄丝袜（白皙）\",\"58.0\",20,\"\\u003cimg src='' width='150'/\\u003e\",0.45,0.5,22,8,2.75,[\"F\"],\"F\",\"\\u003cspan style='color:red'\\u003e【手工挑选】\\u003c/span\\u003e\",\"内衣|丝袜\",\"\\u003ca href='http://localhost:3000/bms/addOrderItem?order_no=20042700888\\u0026spu=10258\\u0026size=F'\\u003e添加\\u003c/a\\u003e\"]],\n",
       "          tableData: null\n",
       "        }\n",
       "      },\n",
       "      created() {\n",
       "      },\n",
       "      methods: {\n",
       "        inputEvent({ type, target }) {\n",
       "          // this.onSubmit()\n",
       "        },\n",
       "        clearData(){\n",
       "          this.form.name = ''\n",
       "          this.tableData = allTableData\n",
       "        },\n",
       "        initTableData() {\n",
       "          let tableData = []\n",
       "          let tbody = this.savedTableData.slice(1)\n",
       "          for (let line of tbody) {\n",
       "            let obj = {}\n",
       "            for (let index in this.thead) {\n",
       "              obj[this.thead[index]] = line[index]\n",
       "            }\n",
       "            tableData.push(obj)\n",
       "          }\n",
       "          this.allTableData = tableData\n",
       "          this.tableData = tableData\n",
       "        },\n",
       "        onSubmit() {\n",
       "          this.initTableData()\n",
       "          let tableData = []\n",
       "          for (let index in this.tableData) {\n",
       "            let data = this.tableData[index]\n",
       "            if (\n",
       "              (data.Name.match(this.form.name) && data.Name.match(this.form.name).length > 0)||\n",
       "              (data.SPU.match(this.form.name) && data.SPU.match(this.form.name).length > 0) ||\n",
       "              (data.Category.match(this.form.name) && data.Category.match(this.form.name).length > 0)\n",
       "            )\n",
       "\n",
       "            {\n",
       "              tableData.push(data)\n",
       "            }\n",
       "          }\n",
       "          this.tableData = tableData\n",
       "        },\n",
       "      }\n",
       "    })\n",
       "  </script>"
      ],
      "text/plain": [
       "\"\\n  <div id=\\\"app_owsw3RmdEP\\\">\\n    <el-form ref=\\\"form\\\" :model=\\\"form\\\" :inline=\\\"true\\\">\\n      <el-form-item label=\\\"关键字\\\">\\n        <el-input v-on:input=\\\"inputEvent\\\" v-model=\\\"form.name\\\"></el-input>\\n      </el-form-item>\\n      <el-form-item>\\n        <el-button type=\\\"primary\\\" v-on:click=\\\"onSubmit\\\">搜索</el-button>\\n        <el-button v-on:click=\\\"initTableData\\\">取消</el-button>\\n      </el-form-item>\\n    </el-form>\\n\\n    <el-table :data=\\\"tableData\\\" stripe style=\\\"width: 100%;\\\">\\n      <el-table-column v-for=\\\"prop in thead\\\" :key=\\\"prop\\\" :label=\\\"prop\\\" :fixed=\\\"prop === '操作' ? 'right' : ''\\\">\\n        <template slot-scope=\\\"scope\\\">\\n          <div v-html=\\\"scope.row[prop]\\\" style=\\\"font-size: 12px\\\"></div>\\n        </template>\\n      </el-table-column>\\n    </el-table>\\n\\n  </div>\\n  <!-- <script src=\\\"https://unpkg.com/vue/dist/vue.js\\\"></script>\\n  <script src=\\\"https://unpkg.com/element-ui/lib/index.js\\\"></script> -->\\n  \\n<script>\\n    new Vue({\\n      el: '#app_owsw3RmdEP',\\n      data: function () {\\n        return {\\n          form: {\\n            name: '',\\n          },\\n          thead: [\\\"SPU\\\",\\\"Name\\\",\\\"Price\\\",\\\"Stock\\\",\\\"Image\\\",\\\"全体购买转化率\\\",\\\"组别购买转化率\\\",\\\"全部入盒=A\\\",\\\"组别入盒=B\\\",\\\"入盒比例=A/B\\\",\\\"尺码\\\",\\\"用户适合尺码\\\",\\\"推荐来源\\\",\\\"Category\\\",\\\"操作\\\"],\\n          allTableData: [],\\n          savedTableData: [[\\\"SPU\\\",\\\"Name\\\",\\\"Price\\\",\\\"Stock\\\",\\\"Image\\\",\\\"全体购买转化率\\\",\\\"组别购买转化率\\\",\\\"全部入盒=A\\\",\\\"组别入盒=B\\\",\\\"入盒比例=A/B\\\",\\\"尺码\\\",\\\"用户适合尺码\\\",\\\"推荐来源\\\",\\\"Category\\\",\\\"操作\\\"],[\\\"\\\\u003ca href='https://console.wetry.shop/productDetail/136'\\\\u003e10218\\\\u003c/a\\\\u003e\\\",\\\"白色方头细腰带\\\",\\\"48.0\\\",50,\\\"\\\\u003cimg src='http://image.wetry.shop/product/spu/10218/10218_a.jpg' width='150'/\\\\u003e\\\",0.22,0.19,175,32,5.47,[\\\"F\\\"],\\\"F\\\",\\\"\\\\u003cspan style='color:red'\\\\u003e【手工挑选】\\\\u003c/span\\\\u003e\\\",\\\"配饰|腰带\\\",\\\"\\\\u003ca href='http://localhost:3000/bms/addOrderItem?order_no=20042700888\\\\u0026spu=10218\\\\u0026size=F'\\\\u003e添加\\\\u003c/a\\\\u003e\\\"],[\\\"\\\\u003ca href='https://console.wetry.shop/productDetail/355'\\\\u003e20001\\\\u003c/a\\\\u003e\\\",\\\"YESNO字母耳钉\\\",\\\"58.0\\\",7,\\\"\\\\u003cimg src='https://retry-image.oss-cn-zhangjiakou.aliyuncs.com/product/spu/d8c677b0-5ada-45e9-afd9-cfce6afe008a.png' width='150'/\\\\u003e\\\",0.27,0.29,146,34,4.29,[\\\"F\\\"],\\\"F\\\",\\\"\\\\u003cspan style='color:red'\\\\u003e【手工挑选】【群体Top发盒】【群体Top购买】\\\\u003c/span\\\\u003e\\\",\\\"首饰|耳环\\\",\\\"\\\\u003ca href='http://localhost:3000/bms/addOrderItem?order_no=20042700888\\\\u0026spu=20001\\\\u0026size=F'\\\\u003e添加\\\\u003c/a\\\\u003e\\\"],[\\\"\\\\u003ca href='https://console.wetry.shop/productDetail/357'\\\\u003e20003\\\\u003c/a\\\\u003e\\\",\\\"交叉珍珠耳钉\\\",\\\"48.0\\\",13,\\\"\\\\u003cimg src='https://retry-image.oss-cn-zhangjiakou.aliyuncs.com/product/spu/1b8a91e3-fb23-4ea7-9a0d-fbe2627602f3.png' width='150'/\\\\u003e\\\",0.33,0.3,43,10,4.3,[\\\"F\\\"],\\\"F\\\",\\\"\\\\u003cspan style='color:red'\\\\u003e【手工挑选】\\\\u003c/span\\\\u003e\\\",\\\"首饰|耳环\\\",\\\"\\\\u003ca href='http://localhost:3000/bms/addOrderItem?order_no=20042700888\\\\u0026spu=20003\\\\u0026size=F'\\\\u003e添加\\\\u003c/a\\\\u003e\\\"],[\\\"\\\\u003ca href='https://console.wetry.shop/productDetail/709'\\\\u003e20334\\\\u003c/a\\\\u003e\\\",\\\"粉色冰淇淋耳钉\\\",\\\"48.0\\\",7,\\\"\\\\u003cimg src='https://retry-image.oss-cn-zhangjiakou.aliyuncs.com/product/spu/bc0955bc-8e9b-4c13-988c-5a24ed90d3c2.png' width='150'/\\\\u003e\\\",0.33,0.33,33,6,5.5,[\\\"F\\\"],\\\"F\\\",\\\"\\\\u003cspan style='color:red'\\\\u003e【手工挑选】\\\\u003c/span\\\\u003e\\\",\\\"首饰|耳环\\\",\\\"\\\\u003ca href='http://localhost:3000/bms/addOrderItem?order_no=20042700888\\\\u0026spu=20334\\\\u0026size=F'\\\\u003e添加\\\\u003c/a\\\\u003e\\\"],[\\\"\\\\u003ca href='https://console.wetry.shop/productDetail/366'\\\\u003e20012\\\\u003c/a\\\\u003e\\\",\\\"珍珠爱心耳钉\\\",\\\"48.0\\\",1,\\\"\\\\u003cimg src='https://retry-image.oss-cn-zhangjiakou.aliyuncs.com/product/spu/c1b8004d-83ad-489a-abe5-0733e50ba47c.png' width='150'/\\\\u003e\\\",0.4,0.43,82,14,5.86,[\\\"F\\\"],\\\"F\\\",\\\"\\\\u003cspan style='color:red'\\\\u003e【群体Top购买】\\\\u003c/span\\\\u003e\\\",\\\"首饰|耳环\\\",\\\"\\\\u003ca href='http://localhost:3000/bms/addOrderItem?order_no=20042700888\\\\u0026spu=20012\\\\u0026size=F'\\\\u003e添加\\\\u003c/a\\\\u003e\\\"],[\\\"\\\\u003ca href='https://console.wetry.shop/productDetail/110'\\\\u003e10190\\\\u003c/a\\\\u003e(候选)\\\",\\\"莫兰迪色平领口羊绒针织吊带\\\",\\\"138.0\\\",3,\\\"\\\\u003cimg src='https://image.wetry.shop/product/spu/10190/10190_a.jpg' width='150'/\\\\u003e\\\",0.26,0.3,50,10,5.0,[\\\"F\\\"],\\\"F\\\",\\\"\\\\u003cspan style='color:red'\\\\u003e【手工挑选】\\\\u003c/span\\\\u003e\\\",\\\"上装|吊带背心\\\",\\\"\\\\u003ca href='http://localhost:3000/bms/addOrderItem?order_no=20042700888\\\\u0026spu=10190\\\\u0026size=F'\\\\u003e添加\\\\u003c/a\\\\u003e\\\"],[\\\"\\\\u003ca href='https://console.wetry.shop/productDetail/112'\\\\u003e10192\\\\u003c/a\\\\u003e\\\",\\\"黑色平领口羊绒针织吊带\\\",\\\"138.0\\\",4,\\\"\\\\u003cimg src='https://image.wetry.shop/product/spu/10192/10192_a.jpg' width='150'/\\\\u003e\\\",0.15,0.14,81,21,3.86,[\\\"F\\\"],\\\"F\\\",\\\"\\\\u003cspan style='color:red'\\\\u003e【手工挑选】\\\\u003c/span\\\\u003e\\\",\\\"上装|吊带背心\\\",\\\"\\\\u003ca href='http://localhost:3000/bms/addOrderItem?order_no=20042700888\\\\u0026spu=10192\\\\u0026size=F'\\\\u003e添加\\\\u003c/a\\\\u003e\\\"],[\\\"\\\\u003ca href='https://console.wetry.shop/productDetail/113'\\\\u003e10193\\\\u003c/a\\\\u003e(候选)\\\",\\\"牛油果色平领口羊绒针织吊带\\\",\\\"138.0\\\",6,\\\"\\\\u003cimg src='https://image.wetry.shop/product/spu/10193/10193_a.jpg' width='150'/\\\\u003e\\\",0.37,0.5,41,8,5.13,[\\\"F\\\"],\\\"F\\\",\\\"\\\\u003cspan style='color:red'\\\\u003e【手工挑选】\\\\u003c/span\\\\u003e\\\",\\\"上装|吊带背心\\\",\\\"\\\\u003ca href='http://localhost:3000/bms/addOrderItem?order_no=20042700888\\\\u0026spu=10193\\\\u0026size=F'\\\\u003e添加\\\\u003c/a\\\\u003e\\\"],[\\\"\\\\u003ca href='https://console.wetry.shop/productDetail/1190'\\\\u003e20815\\\\u003c/a\\\\u003e(候选)\\\",\\\"纽扣款针织衫\\\",\\\"178.0\\\",5,\\\"\\\\u003cimg src='https://retry-image.oss-cn-zhangjiakou.aliyuncs.com/product/spu/41958952-4ce2-4e04-9836-c566303b2e05.jpg' width='150'/\\\\u003e\\\",0.33,0.5,9,2,4.5,[\\\"F\\\"],\\\"F\\\",\\\"\\\\u003cspan style='color:red'\\\\u003e【手工挑选】\\\\u003c/span\\\\u003e\\\",\\\"上装|打底衫\\\",\\\"\\\\u003ca href='http://localhost:3000/bms/addOrderItem?order_no=20042700888\\\\u0026spu=20815\\\\u0026size=F'\\\\u003e添加\\\\u003c/a\\\\u003e\\\"],[\\\"\\\\u003ca href='https://console.wetry.shop/productDetail/1440'\\\\u003e21065\\\\u003c/a\\\\u003e(主推)\\\",\\\"天丝羊毛高品质超薄防嗮面膜T恤\\\",\\\"198.0\\\",2,\\\"\\\\u003cimg src='https://retry-image.oss-cn-zhangjiakou.aliyuncs.com/product/spu/412e16d5-7e66-4d33-8f09-cfd3f4f29e17.jpg' width='150'/\\\\u003e\\\",0.27,0.33,15,3,5.0,[\\\"F\\\"],\\\"F\\\",\\\"\\\\u003cspan style='color:red'\\\\u003e【主推】\\\\u003c/span\\\\u003e\\\",\\\"上装|打底衫\\\",\\\"\\\\u003ca href='http://localhost:3000/bms/addOrderItem?order_no=20042700888\\\\u0026spu=21065\\\\u0026size=F'\\\\u003e添加\\\\u003c/a\\\\u003e\\\"],[\\\"\\\\u003ca href='https://console.wetry.shop/productDetail/1396'\\\\u003e21021\\\\u003c/a\\\\u003e\\\",\\\"大圆领修身短款T恤\\\",\\\"108.0\\\",1,\\\"\\\\u003cimg src='https://retry-image.oss-cn-zhangjiakou.aliyuncs.com/product/spu/d06e428f-fce4-4e02-80e7-5419bd9a2a69.png' width='150'/\\\\u003e\\\",0.17,0.0,12,1,12.0,[\\\"F\\\"],\\\"F\\\",\\\"\\\\u003cspan style='color:red'\\\\u003e【手工挑选】\\\\u003c/span\\\\u003e\\\",\\\"上装|T恤\\\",\\\"\\\\u003ca href='http://localhost:3000/bms/addOrderItem?order_no=20042700888\\\\u0026spu=21021\\\\u0026size=F'\\\\u003e添加\\\\u003c/a\\\\u003e\\\"],[\\\"\\\\u003ca href='https://console.wetry.shop/productDetail/40'\\\\u003e10108\\\\u003c/a\\\\u003e(候选)\\\",\\\"白色俏皮感长袖T恤\\\",\\\"178.0\\\",2,\\\"\\\\u003cimg src='https://image.wetry.shop/product/spu/10108/10108_a.jpg' width='150'/\\\\u003e\\\",0.22,0.22,36,9,4.0,[\\\"F\\\"],\\\"F\\\",\\\"\\\\u003cspan style='color:red'\\\\u003e【手工挑选】\\\\u003c/span\\\\u003e\\\",\\\"上装|T恤\\\",\\\"\\\\u003ca href='http://localhost:3000/bms/addOrderItem?order_no=20042700888\\\\u0026spu=10108\\\\u0026size=F'\\\\u003e添加\\\\u003c/a\\\\u003e\\\"],[\\\"\\\\u003ca href='https://console.wetry.shop/productDetail/1402'\\\\u003e21027\\\\u003c/a\\\\u003e\\\",\\\"舒适大圆领T恤\\\",\\\"108.0\\\",1,\\\"\\\\u003cimg src='https://retry-image.oss-cn-zhangjiakou.aliyuncs.com/product/spu/63417448-8adf-407a-bf97-7474982e13f0.png' width='150'/\\\\u003e\\\",0.2,0.13,20,8,2.5,[\\\"F\\\"],\\\"F\\\",\\\"\\\\u003cspan style='color:red'\\\\u003e【手工挑选】\\\\u003c/span\\\\u003e\\\",\\\"上装|T恤\\\",\\\"\\\\u003ca href='http://localhost:3000/bms/addOrderItem?order_no=20042700888\\\\u0026spu=21027\\\\u0026size=F'\\\\u003e添加\\\\u003c/a\\\\u003e\\\"],[\\\"\\\\u003ca href='https://console.wetry.shop/productDetail/1395'\\\\u003e21020\\\\u003c/a\\\\u003e(候选)(主推)\\\",\\\"春日暖黄休闲衬衫\\\",\\\"218.0\\\",2,\\\"\\\\u003cimg src='https://retry-image.oss-cn-zhangjiakou.aliyuncs.com/product/spu/dd552b39-6342-4790-99f6-c81be8fe43ae.png' width='150'/\\\\u003e\\\",0.43,0.44,28,9,3.11,[\\\"F\\\"],\\\"F\\\",\\\"\\\\u003cspan style='color:red'\\\\u003e【手工挑选】【群体Top发盒】【主推】\\\\u003c/span\\\\u003e\\\",\\\"上装|衬衫衬衣\\\",\\\"\\\\u003ca href='http://localhost:3000/bms/addOrderItem?order_no=20042700888\\\\u0026spu=21020\\\\u0026size=F'\\\\u003e添加\\\\u003c/a\\\\u003e\\\"],[\\\"\\\\u003ca href='https://console.wetry.shop/productDetail/1495'\\\\u003e21120\\\\u003c/a\\\\u003e\\\",\\\"春日珍珠白休闲衬衫\\\",\\\"238.0\\\",3,\\\"\\\\u003cimg src='https://retry-image.oss-cn-zhangjiakou.aliyuncs.com/product/spu/f884f569-b990-4239-a3d1-b784b85d3723.png' width='150'/\\\\u003e\\\",0.13,0.0,8,2,4.0,[\\\"F\\\"],\\\"F\\\",\\\"\\\\u003cspan style='color:red'\\\\u003e【手工挑选】\\\\u003c/span\\\\u003e\\\",\\\"上装|衬衫衬衣\\\",\\\"\\\\u003ca href='http://localhost:3000/bms/addOrderItem?order_no=20042700888\\\\u0026spu=21120\\\\u0026size=F'\\\\u003e添加\\\\u003c/a\\\\u003e\\\"],[\\\"\\\\u003ca href='https://console.wetry.shop/productDetail/1490'\\\\u003e21115\\\\u003c/a\\\\u003e\\\",\\\"白色小仙女打底上衣\\\",\\\"148.0\\\",2,\\\"\\\\u003cimg src='https://retry-image.oss-cn-zhangjiakou.aliyuncs.com/product/spu/0b58cb69-150e-45da-a4e0-2deeed156fff.png' width='150'/\\\\u003e\\\",0.17,0,6,0,0,[\\\"S\\\",\\\"M\\\"],\\\"S\\\",\\\"\\\\u003cspan style='color:red'\\\\u003e【手工挑选】\\\\u003c/span\\\\u003e\\\",\\\"上装|上衣\\\",\\\"\\\\u003ca href='http://localhost:3000/bms/addOrderItem?order_no=20042700888\\\\u0026spu=21115\\\\u0026size=S'\\\\u003e添加\\\\u003c/a\\\\u003e\\\"],[\\\"\\\\u003ca href='https://console.wetry.shop/productDetail/673'\\\\u003e20298\\\\u003c/a\\\\u003e\\\",\\\"杏色钉珠两件套上衣\\\",\\\"238.0\\\",8,\\\"\\\\u003cimg src='https://retry-image.oss-cn-zhangjiakou.aliyuncs.com/product/spu/09072546-bd11-4854-bb8d-248549e56844.jpg' width='150'/\\\\u003e\\\",0.14,0.1,72,10,7.2,[\\\"F\\\"],\\\"F\\\",\\\"\\\\u003cspan style='color:red'\\\\u003e【手工挑选】\\\\u003c/span\\\\u003e\\\",\\\"上装|上衣\\\",\\\"\\\\u003ca href='http://localhost:3000/bms/addOrderItem?order_no=20042700888\\\\u0026spu=20298\\\\u0026size=F'\\\\u003e添加\\\\u003c/a\\\\u003e\\\"],[\\\"\\\\u003ca href='https://console.wetry.shop/productDetail/415'\\\\u003e20044\\\\u003c/a\\\\u003e\\\",\\\"交叉围裹V领羊绒毛衣\\\",\\\"498.0\\\",1,\\\"\\\\u003cimg src='https://retry-image.oss-cn-zhangjiakou.aliyuncs.com/product/spu/e659b18a-87b6-4296-b076-8249c0fbbb64.jpg' width='150'/\\\\u003e\\\",0.19,0.22,62,23,2.7,[\\\"F\\\"],\\\"F\\\",\\\"\\\\u003cspan style='color:red'\\\\u003e【群体Top发盒】\\\\u003c/span\\\\u003e\\\",\\\"上装|羊绒衫\\\",\\\"\\\\u003ca href='http://localhost:3000/bms/addOrderItem?order_no=20042700888\\\\u0026spu=20044\\\\u0026size=F'\\\\u003e添加\\\\u003c/a\\\\u003e\\\"],[\\\"\\\\u003ca href='https://console.wetry.shop/productDetail/1317'\\\\u003e20942\\\\u003c/a\\\\u003e\\\",\\\"法式复古淡黄色针织开衫\\\",\\\"158.0\\\",2,\\\"\\\\u003cimg src='https://retry-image.oss-cn-zhangjiakou.aliyuncs.com/product/spu/ae09b494-7532-4b15-afb5-d8de5cfe8efc.png' width='150'/\\\\u003e\\\",0.14,0.33,22,3,7.33,[\\\"均码\\\",\\\"F\\\"],\\\"F\\\",\\\"\\\\u003cspan style='color:red'\\\\u003e【手工挑选】\\\\u003c/span\\\\u003e\\\",\\\"上装|针织衫\\\",\\\"\\\\u003ca href='http://localhost:3000/bms/addOrderItem?order_no=20042700888\\\\u0026spu=20942\\\\u0026size=F'\\\\u003e添加\\\\u003c/a\\\\u003e\\\"],[\\\"\\\\u003ca href='https://console.wetry.shop/productDetail/441'\\\\u003e20070\\\\u003c/a\\\\u003e\\\",\\\"超柔软细坑条修身打底衫\\\",\\\"258.0\\\",2,\\\"\\\\u003cimg src='https://retry-image.oss-cn-zhangjiakou.aliyuncs.com/product/spu/ea755dbf-f6c4-416c-b305-7413dba5b1a3.jpg' width='150'/\\\\u003e\\\",0.19,0.24,81,29,2.79,[\\\"F\\\"],\\\"F\\\",\\\"\\\\u003cspan style='color:red'\\\\u003e【群体Top发盒】\\\\u003c/span\\\\u003e\\\",\\\"上装|针织衫\\\",\\\"\\\\u003ca href='http://localhost:3000/bms/addOrderItem?order_no=20042700888\\\\u0026spu=20070\\\\u0026size=F'\\\\u003e添加\\\\u003c/a\\\\u003e\\\"],[\\\"\\\\u003ca href='https://console.wetry.shop/productDetail/1107'\\\\u003e20732\\\\u003c/a\\\\u003e(候选)(主推)\\\",\\\"浅蓝色阔腿牛仔裤\\\",\\\"328.0\\\",16,\\\"\\\\u003cimg src='https://retry-image.oss-cn-zhangjiakou.aliyuncs.com/product/spu/ccdafc72-ee66-4cae-bada-e8c03b4c3fff.jpg' width='150'/\\\\u003e\\\",0.31,0.5,61,10,6.1,[\\\"S\\\",\\\"M\\\"],\\\"S\\\",\\\"\\\\u003cspan style='color:red'\\\\u003e【手工挑选】【群体Top发盒】【群体Top购买】【主推】\\\\u003c/span\\\\u003e\\\",\\\"下装裤|牛仔长裤\\\",\\\"\\\\u003ca href='http://localhost:3000/bms/addOrderItem?order_no=20042700888\\\\u0026spu=20732\\\\u0026size=S'\\\\u003e添加\\\\u003c/a\\\\u003e\\\"],[\\\"\\\\u003ca href='https://console.wetry.shop/productDetail/1097'\\\\u003e20722\\\\u003c/a\\\\u003e(候选)(主推)\\\",\\\"复古蓝色小哈伦牛仔裤\\\",\\\"268.0\\\",3,\\\"\\\\u003cimg src='https://retry-image.oss-cn-zhangjiakou.aliyuncs.com/product/spu/9554780c-0c64-48c8-8f6b-aef36df0f93d.jpg' width='150'/\\\\u003e\\\",0.23,0.29,69,14,4.93,[\\\"M\\\",\\\"XL\\\"],\\\"M\\\",\\\"\\\\u003cspan style='color:red'\\\\u003e【手工挑选】【群体Top发盒】【主推】\\\\u003c/span\\\\u003e\\\",\\\"下装裤|牛仔长裤\\\",\\\"\\\\u003ca href='http://localhost:3000/bms/addOrderItem?order_no=20042700888\\\\u0026spu=20722\\\\u0026size=M'\\\\u003e添加\\\\u003c/a\\\\u003e\\\"],[\\\"\\\\u003ca href='https://console.wetry.shop/productDetail/1030'\\\\u003e20655\\\\u003c/a\\\\u003e(候选)(主推)\\\",\\\"高腰微喇显瘦牛仔裤\\\",\\\"198.0\\\",12,\\\"\\\\u003cimg src='https://retry-image.oss-cn-zhangjiakou.aliyuncs.com/product/spu/a9e8f097-92e5-4934-9364-ce940d149f27.jpg' width='150'/\\\\u003e\\\",0.31,0.31,106,29,3.66,[\\\"S\\\",\\\"M\\\",\\\"L\\\",\\\"XL\\\"],\\\"S\\\",\\\"\\\\u003cspan style='color:red'\\\\u003e【手工挑选】【群体Top发盒】【主推】\\\\u003c/span\\\\u003e\\\",\\\"下装裤|牛仔长裤\\\",\\\"\\\\u003ca href='http://localhost:3000/bms/addOrderItem?order_no=20042700888\\\\u0026spu=20655\\\\u0026size=S'\\\\u003e添加\\\\u003c/a\\\\u003e\\\"],[\\\"\\\\u003ca href='https://console.wetry.shop/productDetail/1385'\\\\u003e21010\\\\u003c/a\\\\u003e(主推)\\\",\\\"超级显瘦百搭黑色神裤\\\",\\\"288.0\\\",26,\\\"\\\\u003cimg src='https://retry-image.oss-cn-zhangjiakou.aliyuncs.com/product/spu/34e3ff00-48bd-4961-ba20-8703abe8b976.jpg' width='150'/\\\\u003e\\\",0.11,0.08,47,13,3.62,[\\\"S\\\",\\\"M\\\",\\\"L\\\"],\\\"S\\\",\\\"\\\\u003cspan style='color:red'\\\\u003e【主推】\\\\u003c/span\\\\u003e\\\",\\\"下装裤|运动裤\\\",\\\"\\\\u003ca href='http://localhost:3000/bms/addOrderItem?order_no=20042700888\\\\u0026spu=21010\\\\u0026size=S'\\\\u003e添加\\\\u003c/a\\\\u003e\\\"],[\\\"\\\\u003ca href='https://console.wetry.shop/productDetail/395'\\\\u003e10341\\\\u003c/a\\\\u003e(候选)(主推)\\\",\\\"博主同款极致显瘦牛仔长裤\\\",\\\"238.0\\\",7,\\\"\\\\u003cimg src='https://retry-image.oss-cn-zhangjiakou.aliyuncs.com/product/spu/1efe183d-996c-4414-ae01-e154314aac9a.jpg' width='150'/\\\\u003e\\\",0.35,0.39,276,61,4.52,[\\\"M\\\",\\\"L\\\"],\\\"M\\\",\\\"\\\\u003cspan style='color:red'\\\\u003e【手工挑选】【群体Top发盒】【群体Top购买】【主推】\\\\u003c/span\\\\u003e\\\",\\\"下装裤|阔腿裤\\\",\\\"\\\\u003ca href='http://localhost:3000/bms/addOrderItem?order_no=20042700888\\\\u0026spu=10341\\\\u0026size=M'\\\\u003e添加\\\\u003c/a\\\\u003e\\\"],[\\\"\\\\u003ca href='https://console.wetry.shop/productDetail/1185'\\\\u003e20810\\\\u003c/a\\\\u003e(主推)\\\",\\\"显瘦女神款长款\\\",\\\"288.0\\\",5,\\\"\\\\u003cimg src='https://retry-image.oss-cn-zhangjiakou.aliyuncs.com/product/spu/a60f9202-43c7-477c-aa48-6c1d80ef7909.png' width='150'/\\\\u003e\\\",0.31,0.17,26,6,4.33,[\\\"S\\\",\\\"M\\\"],\\\"S\\\",\\\"\\\\u003cspan style='color:red'\\\\u003e【手工挑选】【主推】\\\\u003c/span\\\\u003e\\\",\\\"下装裤|阔腿裤\\\",\\\"\\\\u003ca href='http://localhost:3000/bms/addOrderItem?order_no=20042700888\\\\u0026spu=20810\\\\u0026size=S'\\\\u003e添加\\\\u003c/a\\\\u003e\\\"],[\\\"\\\\u003ca href='https://console.wetry.shop/productDetail/1379'\\\\u003e21004\\\\u003c/a\\\\u003e(主推)\\\",\\\"撞色压线A字长款半裙\\\",\\\"288.0\\\",6,\\\"\\\\u003cimg src='https://retry-image.oss-cn-zhangjiakou.aliyuncs.com/product/spu/a5736ae8-c682-404b-a8e6-0a99ec7666c1.jpg' width='150'/\\\\u003e\\\",0.12,0.0,17,2,8.5,[\\\"S\\\",\\\"M\\\"],\\\"S\\\",\\\"\\\\u003cspan style='color:red'\\\\u003e【手工挑选】【主推】\\\\u003c/span\\\\u003e\\\",\\\"下装裙|A字裙\\\",\\\"\\\\u003ca href='http://localhost:3000/bms/addOrderItem?order_no=20042700888\\\\u0026spu=21004\\\\u0026size=S'\\\\u003e添加\\\\u003c/a\\\\u003e\\\"],[\\\"\\\\u003ca href='https://console.wetry.shop/productDetail/1228'\\\\u003e20853\\\\u003c/a\\\\u003e\\\",\\\"杏色A字摆半裙\\\",\\\"248.0\\\",2,\\\"\\\\u003cimg src='https://retry-image.oss-cn-zhangjiakou.aliyuncs.com/product/spu/f613d8df-f797-4854-ae36-43dae808747d.jpg' width='150'/\\\\u003e\\\",0.2,0.0,15,3,5.0,[\\\"S\\\"],\\\"S\\\",\\\"\\\\u003cspan style='color:red'\\\\u003e【手工挑选】\\\\u003c/span\\\\u003e\\\",\\\"下装裙|A字裙\\\",\\\"\\\\u003ca href='http://localhost:3000/bms/addOrderItem?order_no=20042700888\\\\u0026spu=20853\\\\u0026size=S'\\\\u003e添加\\\\u003c/a\\\\u003e\\\"],[\\\"\\\\u003ca href='https://console.wetry.shop/productDetail/1444'\\\\u003e21069\\\\u003c/a\\\\u003e(主推)\\\",\\\"超显瘦杏色高腰设计感半裙（含腰带）\\\",\\\"368.0\\\",1,\\\"\\\\u003cimg src='https://retry-image.oss-cn-zhangjiakou.aliyuncs.com/product/spu/7fa81919-e3c4-4ae8-bf0f-b3337db43881.png' width='150'/\\\\u003e\\\",0.2,0.0,20,3,6.67,[\\\"M\\\"],\\\"M\\\",\\\"\\\\u003cspan style='color:red'\\\\u003e【手工挑选】【主推】\\\\u003c/span\\\\u003e\\\",\\\"下装裙|不对称以及垂褶裙\\\",\\\"\\\\u003ca href='http://localhost:3000/bms/addOrderItem?order_no=20042700888\\\\u0026spu=21069\\\\u0026size=M'\\\\u003e添加\\\\u003c/a\\\\u003e\\\"],[\\\"\\\\u003ca href='https://console.wetry.shop/productDetail/1445'\\\\u003e21070\\\\u003c/a\\\\u003e(主推)\\\",\\\"超显瘦黑色高腰设计感半裙（含腰带）\\\",\\\"368.0\\\",8,\\\"\\\\u003cimg src='https://retry-image.oss-cn-zhangjiakou.aliyuncs.com/product/spu/c043d805-8ac6-43c9-8753-7fed8881b499.jpg' width='150'/\\\\u003e\\\",0.13,0.14,30,7,4.29,[\\\"S\\\",\\\"M\\\",\\\"XL\\\"],\\\"S\\\",\\\"\\\\u003cspan style='color:red'\\\\u003e【手工挑选】【主推】\\\\u003c/span\\\\u003e\\\",\\\"下装裙|不对称以及垂褶裙\\\",\\\"\\\\u003ca href='http://localhost:3000/bms/addOrderItem?order_no=20042700888\\\\u0026spu=21070\\\\u0026size=S'\\\\u003e添加\\\\u003c/a\\\\u003e\\\"],[\\\"\\\\u003ca href='https://console.wetry.shop/productDetail/1152'\\\\u003e20777\\\\u003c/a\\\\u003e(主推)\\\",\\\"淡黄色真丝感A字中裙\\\",\\\"268.0\\\",2,\\\"\\\\u003cimg src='https://retry-image.oss-cn-zhangjiakou.aliyuncs.com/product/spu/c9e4ff94-4251-45eb-8cc6-807ecf2f3945.jpg' width='150'/\\\\u003e\\\",0.18,0.11,51,9,5.67,[\\\"S\\\",\\\"M\\\"],\\\"S\\\",\\\"\\\\u003cspan style='color:red'\\\\u003e【手工挑选】【主推】\\\\u003c/span\\\\u003e\\\",\\\"下装裙|伞裙\\\",\\\"\\\\u003ca href='http://localhost:3000/bms/addOrderItem?order_no=20042700888\\\\u0026spu=20777\\\\u0026size=S'\\\\u003e添加\\\\u003c/a\\\\u003e\\\"],[\\\"\\\\u003ca href='https://console.wetry.shop/productDetail/1178'\\\\u003e20803\\\\u003c/a\\\\u003e(主推)\\\",\\\"法式复古V领连衣裙\\\",\\\"328.0\\\",1,\\\"\\\\u003cimg src='https://retry-image.oss-cn-zhangjiakou.aliyuncs.com/product/spu/65dcbd09-b69d-4f09-9d1e-3eeaa17c3a55.png' width='150'/\\\\u003e\\\",0.21,0.2,33,5,6.6,[\\\"S\\\"],\\\"S\\\",\\\"\\\\u003cspan style='color:red'\\\\u003e【手工挑选】【主推】\\\\u003c/span\\\\u003e\\\",\\\"连衣裙|梭织连衣裙\\\",\\\"\\\\u003ca href='http://localhost:3000/bms/addOrderItem?order_no=20042700888\\\\u0026spu=20803\\\\u0026size=S'\\\\u003e添加\\\\u003c/a\\\\u003e\\\"],[\\\"\\\\u003ca href='https://console.wetry.shop/productDetail/1338'\\\\u003e20963\\\\u003c/a\\\\u003e\\\",\\\"法式复古浪漫碎花连衣裙\\\",\\\"268.0\\\",2,\\\"\\\\u003cimg src='https://retry-image.oss-cn-zhangjiakou.aliyuncs.com/product/spu/143c62b9-7230-444d-b39a-73c733a78700.png' width='150'/\\\\u003e\\\",0.25,0.0,12,1,12.0,[\\\"S\\\"],\\\"S\\\",\\\"\\\\u003cspan style='color:red'\\\\u003e【手工挑选】\\\\u003c/span\\\\u003e\\\",\\\"连衣裙|梭织连衣裙\\\",\\\"\\\\u003ca href='http://localhost:3000/bms/addOrderItem?order_no=20042700888\\\\u0026spu=20963\\\\u0026size=S'\\\\u003e添加\\\\u003c/a\\\\u003e\\\"],[\\\"\\\\u003ca href='https://console.wetry.shop/productDetail/1447'\\\\u003e21072\\\\u003c/a\\\\u003e\\\",\\\"淡蓝色防嗮开衫\\\",\\\"318.0\\\",1,\\\"\\\\u003cimg src='https://retry-image.oss-cn-zhangjiakou.aliyuncs.com/product/spu/e8af6c13-090c-4d01-aad8-f5e355876404.jpg' width='150'/\\\\u003e\\\",0.06,0.0,18,7,2.57,[\\\"F\\\"],\\\"F\\\",\\\"\\\\u003cspan style='color:red'\\\\u003e【手工挑选】\\\\u003c/span\\\\u003e\\\",\\\"外套|薄开衫\\\",\\\"\\\\u003ca href='http://localhost:3000/bms/addOrderItem?order_no=20042700888\\\\u0026spu=21072\\\\u0026size=F'\\\\u003e添加\\\\u003c/a\\\\u003e\\\"],[\\\"\\\\u003ca href='https://console.wetry.shop/productDetail/1318'\\\\u003e20943\\\\u003c/a\\\\u003e\\\",\\\"质感杏粉色西服外套\\\",\\\"468.0\\\",1,\\\"\\\\u003cimg src='https://retry-image.oss-cn-zhangjiakou.aliyuncs.com/product/spu/b4a0cff0-a869-4388-aecd-af845c3c544c.jpeg' width='150'/\\\\u003e\\\",0.11,0.4,35,5,7.0,[\\\"S\\\"],\\\"S\\\",\\\"\\\\u003cspan style='color:red'\\\\u003e【手工挑选】\\\\u003c/span\\\\u003e\\\",\\\"外套|西装外套\\\",\\\"\\\\u003ca href='http://localhost:3000/bms/addOrderItem?order_no=20042700888\\\\u0026spu=20943\\\\u0026size=S'\\\\u003e添加\\\\u003c/a\\\\u003e\\\"],[\\\"\\\\u003ca href='https://console.wetry.shop/productDetail/285'\\\\u003e10262\\\\u003c/a\\\\u003e\\\",\\\"千鸟格修身长外套\\\",\\\"448.0\\\",7,\\\"\\\\u003cimg src='https://image.wetry.shop/product/spu/10262/10262_a.jpg' width='150'/\\\\u003e\\\",0.12,0.17,57,18,3.17,[\\\"S\\\",\\\"M\\\",\\\"L\\\"],\\\"S\\\",\\\"\\\\u003cspan style='color:red'\\\\u003e【手工挑选】\\\\u003c/span\\\\u003e\\\",\\\"大衣|长款大衣\\\",\\\"\\\\u003ca href='http://localhost:3000/bms/addOrderItem?order_no=20042700888\\\\u0026spu=10262\\\\u0026size=S'\\\\u003e添加\\\\u003c/a\\\\u003e\\\"],[\\\"\\\\u003ca href='https://console.wetry.shop/productDetail/1032'\\\\u003e20657\\\\u003c/a\\\\u003e(候选)\\\",\\\"浅灰色针织裙套装\\\",\\\"538.0\\\",7,\\\"\\\\u003cimg src='https://retry-image.oss-cn-zhangjiakou.aliyuncs.com/product/spu/c68c1506-ee9c-4e16-b7d1-ee1451b94c83.jpg' width='150'/\\\\u003e\\\",0.18,0.27,17,11,1.55,[\\\"S\\\",\\\"M\\\"],\\\"S\\\",\\\"\\\\u003cspan style='color:red'\\\\u003e【手工挑选】\\\\u003c/span\\\\u003e\\\",\\\"套装|上衣裙装套装\\\",\\\"\\\\u003ca href='http://localhost:3000/bms/addOrderItem?order_no=20042700888\\\\u0026spu=20657\\\\u0026size=S'\\\\u003e添加\\\\u003c/a\\\\u003e\\\"],[\\\"\\\\u003ca href='https://console.wetry.shop/productDetail/1033'\\\\u003e20658\\\\u003c/a\\\\u003e\\\",\\\"卡其色针织裙套装\\\",\\\"538.0\\\",5,\\\"\\\\u003cimg src='https://retry-image.oss-cn-zhangjiakou.aliyuncs.com/product/spu/d86ab798-2a25-4e66-b8cc-52bca080be6c.png' width='150'/\\\\u003e\\\",0.14,0.31,37,13,2.85,[\\\"S\\\",\\\"M\\\"],\\\"S\\\",\\\"\\\\u003cspan style='color:red'\\\\u003e【群体Top购买】\\\\u003c/span\\\\u003e\\\",\\\"套装|上衣裙装套装\\\",\\\"\\\\u003ca href='http://localhost:3000/bms/addOrderItem?order_no=20042700888\\\\u0026spu=20658\\\\u0026size=S'\\\\u003e添加\\\\u003c/a\\\\u003e\\\"],[\\\"\\\\u003ca href='https://console.wetry.shop/productDetail/168'\\\\u003e10060\\\\u003c/a\\\\u003e\\\",\\\"凑单神器-点点女袜\\\",\\\"28.0\\\",7,\\\"\\\\u003cimg src='https://retry-image.oss-cn-zhangjiakou.aliyuncs.com/product/spu/e9db6491-ef82-450e-a914-153a4dae058f.png' width='150'/\\\\u003e\\\",0.28,0.19,78,16,4.88,[\\\"F\\\"],\\\"F\\\",\\\"\\\\u003cspan style='color:red'\\\\u003e【手工挑选】\\\\u003c/span\\\\u003e\\\",\\\"内衣|短袜\\\",\\\"\\\\u003ca href='http://localhost:3000/bms/addOrderItem?order_no=20042700888\\\\u0026spu=10060\\\\u0026size=F'\\\\u003e添加\\\\u003c/a\\\\u003e\\\"],[\\\"\\\\u003ca href='https://console.wetry.shop/productDetail/170'\\\\u003e10062\\\\u003c/a\\\\u003e\\\",\\\"凑单神器-横条女袜\\\",\\\"28.0\\\",24,\\\"\\\\u003cimg src='https://retry-image.oss-cn-zhangjiakou.aliyuncs.com/product/spu/8a30e0a0-0782-4a60-829a-05c5e34287ca.png' width='150'/\\\\u003e\\\",0.26,0.0,23,6,3.83,[\\\"F\\\"],\\\"F\\\",\\\"\\\\u003cspan style='color:red'\\\\u003e【手工挑选】\\\\u003c/span\\\\u003e\\\",\\\"内衣|短袜\\\",\\\"\\\\u003ca href='http://localhost:3000/bms/addOrderItem?order_no=20042700888\\\\u0026spu=10062\\\\u0026size=F'\\\\u003e添加\\\\u003c/a\\\\u003e\\\"],[\\\"\\\\u003ca href='https://console.wetry.shop/productDetail/167'\\\\u003e10059\\\\u003c/a\\\\u003e\\\",\\\"凑单神器-点点女袜\\\",\\\"28.0\\\",17,\\\"\\\\u003cimg src='https://retry-image.oss-cn-zhangjiakou.aliyuncs.com/product/spu/9142fc81-d099-4db1-a2ee-9a9bf3a8919c.png' width='150'/\\\\u003e\\\",0.32,0.29,37,7,5.29,[\\\"F\\\"],\\\"F\\\",\\\"\\\\u003cspan style='color:red'\\\\u003e【手工挑选】\\\\u003c/span\\\\u003e\\\",\\\"内衣|短袜\\\",\\\"\\\\u003ca href='http://localhost:3000/bms/addOrderItem?order_no=20042700888\\\\u0026spu=10059\\\\u0026size=F'\\\\u003e添加\\\\u003c/a\\\\u003e\\\"],[\\\"\\\\u003ca href='https://console.wetry.shop/productDetail/169'\\\\u003e10061\\\\u003c/a\\\\u003e\\\",\\\"凑单神器-菱形格女袜\\\",\\\"28.0\\\",1,\\\"\\\\u003cimg src='https://retry-image.oss-cn-zhangjiakou.aliyuncs.com/product/spu/e9924db2-e686-4968-8369-7d4958b4cad4.png' width='150'/\\\\u003e\\\",0.41,0.45,71,20,3.55,[\\\"F\\\"],\\\"F\\\",\\\"\\\\u003cspan style='color:red'\\\\u003e【群体Top发盒】【群体Top购买】\\\\u003c/span\\\\u003e\\\",\\\"内衣|短袜\\\",\\\"\\\\u003ca href='http://localhost:3000/bms/addOrderItem?order_no=20042700888\\\\u0026spu=10061\\\\u0026size=F'\\\\u003e添加\\\\u003c/a\\\\u003e\\\"],[\\\"\\\\u003ca href='https://console.wetry.shop/productDetail/177'\\\\u003e10069\\\\u003c/a\\\\u003e\\\",\\\"凑单神器-绢混平纹袜\\\",\\\"28.0\\\",1,\\\"\\\\u003cimg src='https://retry-image.oss-cn-zhangjiakou.aliyuncs.com/product/spu/818c2f62-e472-4d54-aad0-7ad10e8e4808.png' width='150'/\\\\u003e\\\",0.54,0.36,46,11,4.18,[\\\"F\\\"],\\\"F\\\",\\\"\\\\u003cspan style='color:red'\\\\u003e【群体Top发盒】【群体Top购买】\\\\u003c/span\\\\u003e\\\",\\\"内衣|短袜\\\",\\\"\\\\u003ca href='http://localhost:3000/bms/addOrderItem?order_no=20042700888\\\\u0026spu=10069\\\\u0026size=F'\\\\u003e添加\\\\u003c/a\\\\u003e\\\"],[\\\"\\\\u003ca href='https://console.wetry.shop/productDetail/209'\\\\u003e10258\\\\u003c/a\\\\u003e\\\",\\\"日本进口天鹅绒超薄丝袜（白皙）\\\",\\\"58.0\\\",20,\\\"\\\\u003cimg src='' width='150'/\\\\u003e\\\",0.45,0.5,22,8,2.75,[\\\"F\\\"],\\\"F\\\",\\\"\\\\u003cspan style='color:red'\\\\u003e【手工挑选】\\\\u003c/span\\\\u003e\\\",\\\"内衣|丝袜\\\",\\\"\\\\u003ca href='http://localhost:3000/bms/addOrderItem?order_no=20042700888\\\\u0026spu=10258\\\\u0026size=F'\\\\u003e添加\\\\u003c/a\\\\u003e\\\"]],\\n          tableData: null\\n        }\\n      },\\n      created() {\\n      },\\n      methods: {\\n        inputEvent({ type, target }) {\\n          // this.onSubmit()\\n        },\\n        clearData(){\\n          this.form.name = ''\\n          this.tableData = allTableData\\n        },\\n        initTableData() {\\n          let tableData = []\\n          let tbody = this.savedTableData.slice(1)\\n          for (let line of tbody) {\\n            let obj = {}\\n            for (let index in this.thead) {\\n              obj[this.thead[index]] = line[index]\\n            }\\n            tableData.push(obj)\\n          }\\n          this.allTableData = tableData\\n          this.tableData = tableData\\n        },\\n        onSubmit() {\\n          this.initTableData()\\n          let tableData = []\\n          for (let index in this.tableData) {\\n            let data = this.tableData[index]\\n            if (\\n              (data.Name.match(this.form.name) && data.Name.match(this.form.name).length > 0)||\\n              (data.SPU.match(this.form.name) && data.SPU.match(this.form.name).length > 0) ||\\n              (data.Category.match(this.form.name) && data.Category.match(this.form.name).length > 0)\\n            )\\n\\n            {\\n              tableData.push(data)\\n            }\\n          }\\n          this.tableData = tableData\\n        },\\n      }\\n    })\\n  </script>\""
      ]
     },
     "metadata": {},
     "output_type": "display_data"
    }
   ],
   "source": [
    "table = []\n",
    "time {\n",
    "    table = list.pmap do |y|\n",
    "          ret = product_data[y[0]] + [  \"<span style='color:red'>#{(y[1]==1 ? \"【手工挑选】\" : \"\") + (y[2]==1 ? \"【群体Top发盒】\" : \"\")  + (y[3]==1 ? \"【群体Top购买】\" : \"\")  + (y[4]==1 ? \"【主推】\" : \"\")}</span>\"] \n",
    "           # 更新库存 和 尺码\n",
    "          ret[3] = ProductSpu.where(spu:y[0]).warehouse.where(status:1).count\n",
    "          ret[10] = ProductSpu.where(spu:y[0]).warehouse.where(status:1).product_sku.map do |x| x.size end \n",
    "          ret[11] = user.check_size(y[0])\n",
    "          ret[4] = \"<img src='#{ret[4]}' width='150'/>\"\n",
    "          ret << y[5]\n",
    "          ret << \"<a href='http://localhost:3000/bms/addOrderItem?order_no=#{order_no}&spu=#{y[0]}&size=#{ret[11]}'>添加</a>\"\n",
    "\n",
    "       end\n",
    "    table = table.filter do |x| x[3]>0 and x[11]!=\"\" end\n",
    "    table = table.unshift([\"SPU\",\"Name\",\"Price\", \"Stock\",\"Image\",\"全体购买转化率\",\"组别购买转化率\",\"全部入盒=A\",\"组别入盒=B\",\"入盒比例=A/B\",\"尺码\",\"用户适合尺码\",\"推荐来源\",\"Category\",\"操作\"])\n",
    "\n",
    "    nil\n",
    "}\n",
    "\n",
    "puts_header \"推荐给用户商品\"\n",
    "puts_display render(\"推荐给用户商品\",{:table=>table})"
   ]
  },
  {
   "cell_type": "code",
   "execution_count": 84,
   "metadata": {},
   "outputs": [
    {
     "name": "stdout",
     "output_type": "stream",
     "text": [
      "1 seconds\n"
     ]
    },
    {
     "data": {
      "text/html": [
       "<h1>推荐给用户商品-所有</h1>"
      ],
      "text/plain": [
       "\"<h1>推荐给用户商品-所有</h1>\""
      ]
     },
     "metadata": {},
     "output_type": "display_data"
    },
    {
     "data": {
      "text/html": [
       "\n",
       "  <div id=\"app_SKbtxXxUEL\">\n",
       "    <el-form ref=\"form\" :model=\"form\" :inline=\"true\">\n",
       "      <el-form-item label=\"关键字\">\n",
       "        <el-input v-on:input=\"inputEvent\" v-model=\"form.name\"></el-input>\n",
       "      </el-form-item>\n",
       "      <el-form-item>\n",
       "        <el-button type=\"primary\" v-on:click=\"onSubmit\">搜索</el-button>\n",
       "        <el-button v-on:click=\"initTableData\">取消</el-button>\n",
       "      </el-form-item>\n",
       "    </el-form>\n",
       "\n",
       "    <el-table :data=\"tableData\" stripe style=\"width: 100%;\">\n",
       "      <el-table-column v-for=\"prop in thead\" :key=\"prop\" :label=\"prop\" :fixed=\"prop === '操作' ? 'right' : ''\">\n",
       "        <template slot-scope=\"scope\">\n",
       "          <div v-html=\"scope.row[prop]\" style=\"font-size: 12px\"></div>\n",
       "        </template>\n",
       "      </el-table-column>\n",
       "    </el-table>\n",
       "\n",
       "  </div>\n",
       "  <!-- <script src=\"https://unpkg.com/vue/dist/vue.js\"></script>\n",
       "  <script src=\"https://unpkg.com/element-ui/lib/index.js\"></script> -->\n",
       "  \n",
       "<script>\n",
       "    new Vue({\n",
       "      el: '#app_SKbtxXxUEL',\n",
       "      data: function () {\n",
       "        return {\n",
       "          form: {\n",
       "            name: '',\n",
       "          },\n",
       "          thead: [\"SPU\",\"Name\",\"Price\",\"Stock\",\"Image\",\"全体购买转化率\",\"组别购买转化率\",\"全部入盒=A\",\"组别入盒=B\",\"入盒比例=A/B\",\"尺码\",\"用户适合尺码\",\"推荐来源\",\"Category\",\"操作\"],\n",
       "          allTableData: [],\n",
       "          savedTableData: [[\"SPU\",\"Name\",\"Price\",\"Stock\",\"Image\",\"全体购买转化率\",\"组别购买转化率\",\"全部入盒=A\",\"组别入盒=B\",\"入盒比例=A/B\",\"尺码\",\"用户适合尺码\",\"推荐来源\",\"Category\",\"操作\"],[\"\\u003ca href='https://console.wetry.shop/productDetail/177'\\u003e10069\\u003c/a\\u003e\",\"凑单神器-绢混平纹袜\",\"28.0\",1,\"\\u003cimg src='https://retry-image.oss-cn-zhangjiakou.aliyuncs.com/product/spu/818c2f62-e472-4d54-aad0-7ad10e8e4808.png' width='150'/\\u003e\",0.54,0.36,46,11,4.18,[\"F\"],\"F\",\"\\u003cspan style='color:red'\\u003e【群体Top发盒】【群体Top购买】\\u003c/span\\u003e\",\"内衣|短袜\",\"\\u003ca href='http://localhost:3000/bms/addOrderItem?order_no=20042700888\\u0026spu=10069\\u0026size=F'\\u003e添加\\u003c/a\\u003e\"],[\"\\u003ca href='https://console.wetry.shop/productDetail/209'\\u003e10258\\u003c/a\\u003e\",\"日本进口天鹅绒超薄丝袜（白皙）\",\"58.0\",20,\"\\u003cimg src='' width='150'/\\u003e\",0.45,0.5,22,8,2.75,[\"F\"],\"F\",\"\\u003cspan style='color:red'\\u003e【手工挑选】\\u003c/span\\u003e\",\"内衣|丝袜\",\"\\u003ca href='http://localhost:3000/bms/addOrderItem?order_no=20042700888\\u0026spu=10258\\u0026size=F'\\u003e添加\\u003c/a\\u003e\"]],\n",
       "          tableData: null\n",
       "        }\n",
       "      },\n",
       "      created() {\n",
       "      },\n",
       "      methods: {\n",
       "        inputEvent({ type, target }) {\n",
       "          // this.onSubmit()\n",
       "        },\n",
       "        clearData(){\n",
       "          this.form.name = ''\n",
       "          this.tableData = allTableData\n",
       "        },\n",
       "        initTableData() {\n",
       "          let tableData = []\n",
       "          let tbody = this.savedTableData.slice(1)\n",
       "          for (let line of tbody) {\n",
       "            let obj = {}\n",
       "            for (let index in this.thead) {\n",
       "              obj[this.thead[index]] = line[index]\n",
       "            }\n",
       "            tableData.push(obj)\n",
       "          }\n",
       "          this.allTableData = tableData\n",
       "          this.tableData = tableData\n",
       "        },\n",
       "        onSubmit() {\n",
       "          this.initTableData()\n",
       "          let tableData = []\n",
       "          for (let index in this.tableData) {\n",
       "            let data = this.tableData[index]\n",
       "            if (\n",
       "              (data.Name.match(this.form.name) && data.Name.match(this.form.name).length > 0)||\n",
       "              (data.SPU.match(this.form.name) && data.SPU.match(this.form.name).length > 0) ||\n",
       "              (data.Category.match(this.form.name) && data.Category.match(this.form.name).length > 0)\n",
       "            )\n",
       "\n",
       "            {\n",
       "              tableData.push(data)\n",
       "            }\n",
       "          }\n",
       "          this.tableData = tableData\n",
       "        },\n",
       "      }\n",
       "    })\n",
       "  </script>"
      ],
      "text/plain": [
       "\"\\n  <div id=\\\"app_SKbtxXxUEL\\\">\\n    <el-form ref=\\\"form\\\" :model=\\\"form\\\" :inline=\\\"true\\\">\\n      <el-form-item label=\\\"关键字\\\">\\n        <el-input v-on:input=\\\"inputEvent\\\" v-model=\\\"form.name\\\"></el-input>\\n      </el-form-item>\\n      <el-form-item>\\n        <el-button type=\\\"primary\\\" v-on:click=\\\"onSubmit\\\">搜索</el-button>\\n        <el-button v-on:click=\\\"initTableData\\\">取消</el-button>\\n      </el-form-item>\\n    </el-form>\\n\\n    <el-table :data=\\\"tableData\\\" stripe style=\\\"width: 100%;\\\">\\n      <el-table-column v-for=\\\"prop in thead\\\" :key=\\\"prop\\\" :label=\\\"prop\\\" :fixed=\\\"prop === '操作' ? 'right' : ''\\\">\\n        <template slot-scope=\\\"scope\\\">\\n          <div v-html=\\\"scope.row[prop]\\\" style=\\\"font-size: 12px\\\"></div>\\n        </template>\\n      </el-table-column>\\n    </el-table>\\n\\n  </div>\\n  <!-- <script src=\\\"https://unpkg.com/vue/dist/vue.js\\\"></script>\\n  <script src=\\\"https://unpkg.com/element-ui/lib/index.js\\\"></script> -->\\n  \\n<script>\\n    new Vue({\\n      el: '#app_SKbtxXxUEL',\\n      data: function () {\\n        return {\\n          form: {\\n            name: '',\\n          },\\n          thead: [\\\"SPU\\\",\\\"Name\\\",\\\"Price\\\",\\\"Stock\\\",\\\"Image\\\",\\\"全体购买转化率\\\",\\\"组别购买转化率\\\",\\\"全部入盒=A\\\",\\\"组别入盒=B\\\",\\\"入盒比例=A/B\\\",\\\"尺码\\\",\\\"用户适合尺码\\\",\\\"推荐来源\\\",\\\"Category\\\",\\\"操作\\\"],\\n          allTableData: [],\\n          savedTableData: [[\\\"SPU\\\",\\\"Name\\\",\\\"Price\\\",\\\"Stock\\\",\\\"Image\\\",\\\"全体购买转化率\\\",\\\"组别购买转化率\\\",\\\"全部入盒=A\\\",\\\"组别入盒=B\\\",\\\"入盒比例=A/B\\\",\\\"尺码\\\",\\\"用户适合尺码\\\",\\\"推荐来源\\\",\\\"Category\\\",\\\"操作\\\"],[\\\"\\\\u003ca href='https://console.wetry.shop/productDetail/177'\\\\u003e10069\\\\u003c/a\\\\u003e\\\",\\\"凑单神器-绢混平纹袜\\\",\\\"28.0\\\",1,\\\"\\\\u003cimg src='https://retry-image.oss-cn-zhangjiakou.aliyuncs.com/product/spu/818c2f62-e472-4d54-aad0-7ad10e8e4808.png' width='150'/\\\\u003e\\\",0.54,0.36,46,11,4.18,[\\\"F\\\"],\\\"F\\\",\\\"\\\\u003cspan style='color:red'\\\\u003e【群体Top发盒】【群体Top购买】\\\\u003c/span\\\\u003e\\\",\\\"内衣|短袜\\\",\\\"\\\\u003ca href='http://localhost:3000/bms/addOrderItem?order_no=20042700888\\\\u0026spu=10069\\\\u0026size=F'\\\\u003e添加\\\\u003c/a\\\\u003e\\\"],[\\\"\\\\u003ca href='https://console.wetry.shop/productDetail/209'\\\\u003e10258\\\\u003c/a\\\\u003e\\\",\\\"日本进口天鹅绒超薄丝袜（白皙）\\\",\\\"58.0\\\",20,\\\"\\\\u003cimg src='' width='150'/\\\\u003e\\\",0.45,0.5,22,8,2.75,[\\\"F\\\"],\\\"F\\\",\\\"\\\\u003cspan style='color:red'\\\\u003e【手工挑选】\\\\u003c/span\\\\u003e\\\",\\\"内衣|丝袜\\\",\\\"\\\\u003ca href='http://localhost:3000/bms/addOrderItem?order_no=20042700888\\\\u0026spu=10258\\\\u0026size=F'\\\\u003e添加\\\\u003c/a\\\\u003e\\\"]],\\n          tableData: null\\n        }\\n      },\\n      created() {\\n      },\\n      methods: {\\n        inputEvent({ type, target }) {\\n          // this.onSubmit()\\n        },\\n        clearData(){\\n          this.form.name = ''\\n          this.tableData = allTableData\\n        },\\n        initTableData() {\\n          let tableData = []\\n          let tbody = this.savedTableData.slice(1)\\n          for (let line of tbody) {\\n            let obj = {}\\n            for (let index in this.thead) {\\n              obj[this.thead[index]] = line[index]\\n            }\\n            tableData.push(obj)\\n          }\\n          this.allTableData = tableData\\n          this.tableData = tableData\\n        },\\n        onSubmit() {\\n          this.initTableData()\\n          let tableData = []\\n          for (let index in this.tableData) {\\n            let data = this.tableData[index]\\n            if (\\n              (data.Name.match(this.form.name) && data.Name.match(this.form.name).length > 0)||\\n              (data.SPU.match(this.form.name) && data.SPU.match(this.form.name).length > 0) ||\\n              (data.Category.match(this.form.name) && data.Category.match(this.form.name).length > 0)\\n            )\\n\\n            {\\n              tableData.push(data)\\n            }\\n          }\\n          this.tableData = tableData\\n        },\\n      }\\n    })\\n  </script>\""
      ]
     },
     "metadata": {},
     "output_type": "display_data"
    }
   ],
   "source": [
    "list = [\"10069\",\"10258\",\"10278\"]\n",
    "\n",
    "# 过滤历史订单的商品\n",
    "list = list.pfilter do |x| user.orders.where(\"status<=10\").item.pluck(:spu).index(x).nil? end\n",
    "\n",
    "# 过滤排雷订单的商品\n",
    "list = list.pfilter do |x| spu_filter.index(x).nil? end\n",
    "\n",
    "# 过滤下架的商品\n",
    "plist = list.pfilter do |x| \n",
    "    p = ProductSpu.where(spu:x).first;\n",
    "    (p.status==2 and /缎面|亮片|泡泡袖|花边|褶皱/.match(p.product_name).nil?) end\n",
    "\n",
    "# 匹配列表\n",
    "list = plist.pmap do |x|\n",
    "  [x,product.where(spu:x).count,product_top_send.where(spu:x).count,product_top_purchase.where(spu:x).count,product_featured.where(spu:x).count,\n",
    "      ProductSpu.where(spu:x).first.category[1] + \"|\" + ProductSpu.where(spu:x).first.category[0], ProductSpu.where(spu:x).first.category_id,ProductSpu.where(spu:x).first.parent_category_id ]\n",
    "end\n",
    "\n",
    "all_table = []\n",
    "time {\n",
    "    all_table = list.pmap do |y|\n",
    "          ret = product_data[y[0]] + [  \"<span style='color:red'>#{(y[1]==1 ? \"【手工挑选】\" : \"\") + (y[2]==1 ? \"【群体Top发盒】\" : \"\")  + (y[3]==1 ? \"【群体Top购买】\" : \"\")  + (y[4]==1 ? \"【主推】\" : \"\")}</span>\"] \n",
    "           # 更新库存 和 尺码\n",
    "          ret[3] = ProductSpu.where(spu:y[0]).warehouse.where(status:1).count\n",
    "          ret[10] = ProductSpu.where(spu:y[0]).warehouse.where(status:1).product_sku.map do |x| x.size end \n",
    "          ret[11] = user.check_size(y[0])\n",
    "          ret[4] = \"<img src='#{ret[4]}' width='150'/>\"\n",
    "          ret << y[5]\n",
    "          ret << \"<a href='http://localhost:3000/bms/addOrderItem?order_no=#{order_no}&spu=#{y[0]}&size=#{ret[11]}'>添加</a>\"\n",
    "\n",
    "       end\n",
    "    all_table = all_table.filter do |x| x[3]>0 and x[11]!=\"\" end\n",
    "    all_table = all_table.unshift([\"SPU\",\"Name\",\"Price\", \"Stock\",\"Image\",\"全体购买转化率\",\"组别购买转化率\",\"全部入盒=A\",\"组别入盒=B\",\"入盒比例=A/B\",\"尺码\",\"用户适合尺码\",\"推荐来源\",\"Category\",\"操作\"])\n",
    "\n",
    "    nil\n",
    "}\n",
    "\n",
    "puts_header \"推荐给用户商品-所有\"\n",
    "puts_display render(\"推荐给用户商品\",{:table=>all_table})"
   ]
  },
  {
   "cell_type": "code",
   "execution_count": 35,
   "metadata": {},
   "outputs": [
    {
     "data": {
      "text/html": [
       "<h1>用户搭配中商品列表</h1>"
      ],
      "text/plain": [
       "\"<h1>用户搭配中商品列表</h1>\""
      ]
     },
     "metadata": {},
     "output_type": "display_data"
    },
    {
     "data": {
      "text/html": [
       "<h1>spring,连衣裙,开衫,休闲裤</h1>"
      ],
      "text/plain": [
       "\"<h1>spring,连衣裙,开衫,休闲裤</h1>\""
      ]
     },
     "metadata": {},
     "output_type": "display_data"
    },
    {
     "data": {
      "text/html": [
       "<a href='https://console.wetry.shop/matchDetail/20042700888'>进入搭配</a>"
      ],
      "text/plain": [
       "\"<a href='https://console.wetry.shop/matchDetail/20042700888'>进入搭配</a>\""
      ]
     },
     "metadata": {},
     "output_type": "display_data"
    },
    {
     "name": "stdout",
     "output_type": "stream",
     "text": [
      "上身尺码[\"S\"]\n",
      "下身尺码[\"27\", \"26\"]\n",
      "下身尺码[\"M\", \"S\"]\n"
     ]
    },
    {
     "data": {
      "text/html": [
       "<table><tr><td>编号</td><td>尺码</td><td>SPU</td><td>Name</td><td>Price</td><td>Stock</td><td>Image</td><td>全体购买转化率</td><td>组别购买转化率</td><td>全部入盒=A</td><td>组别入盒=B</td><td>入盒比例=A/B</td><td>图片数量</td><td>QRCode</td><td></td></tr><tr><td>1</td><td>27</td><td><a href='https://console.wetry.shop/productDetail/1091'>20716</a>(候选)(主推)</td><td>设计感显瘦微喇西装裤</td><td>298.0</td><td>2</td><td><img src='https://retry-image.oss-cn-zhangjiakou.aliyuncs.com/product/spu/052194d2-593f-49ce-97e4-7092412d2347.jpg' width='150'/></td><td>0.28</td><td>0.29</td><td>64</td><td>17</td><td>3.76</td><td>2</td><td><img src='https://image.wetry.shop/product/spu/20716/productDetailPageWxCode.jpg' width='150'/></td><td><a href='http://localhost:3000/bms/deleteOrderItem?order_no=20042700888&spu=20716'>删除</a></td></tr><tr><td>2</td><td>S</td><td><a href='https://console.wetry.shop/productDetail/317'>10294</a>(主推)</td><td>设计感牛仔阔腿裤</td><td>268.0</td><td>0</td><td><img src='https://image.wetry.shop/product/spu/10294/10294_a.jpg' width='150'/></td><td>0.18</td><td>0.0</td><td>119</td><td>18</td><td>6.61</td><td>1</td><td><img src='https://image.wetry.shop/product/spu/10294/productDetailPageWxCode.jpg' width='150'/></td><td><a href='http://localhost:3000/bms/deleteOrderItem?order_no=20042700888&spu=10294'>删除</a></td></tr><tr><td>3</td><td>F</td><td><a href='https://console.wetry.shop/productDetail/1363'>20988</a>(主推)</td><td>夏日百搭黄色花苞半裙</td><td>318.0</td><td>5</td><td><img src='https://retry-image.oss-cn-zhangjiakou.aliyuncs.com/product/spu/54286591-8c65-42d8-8c20-c189ab742836.jpg' width='150'/></td><td>0.0</td><td>0.0</td><td>6</td><td>1</td><td>6.0</td><td>2</td><td><img src='https://image.wetry.shop/product/spu/20988/productDetailPageWxCode.jpg' width='150'/></td><td><a href='http://localhost:3000/bms/deleteOrderItem?order_no=20042700888&spu=20988'>删除</a></td></tr><tr><td>4</td><td>S</td><td><a href='https://console.wetry.shop/productDetail/1153'>20778</a></td><td>真丝感A字中裙</td><td>268.0</td><td>4</td><td><img src='https://retry-image.oss-cn-zhangjiakou.aliyuncs.com/product/spu/a852d1c3-eb1b-4bcb-9ad0-5b83a9bb6c9e.jpg' width='150'/></td><td>0.16</td><td>0.14</td><td>25</td><td>7</td><td>3.57</td><td>2</td><td><img src='https://image.wetry.shop/product/spu/20778/productDetailPageWxCode.jpg' width='150'/></td><td><a href='http://localhost:3000/bms/deleteOrderItem?order_no=20042700888&spu=20778'>删除</a></td></tr></table>"
      ],
      "text/plain": [
       "\"<table><tr><td>编号</td><td>尺码</td><td>SPU</td><td>Name</td><td>Price</td><td>Stock</td><td>Image</td><td>全体购买转化率</td><td>组别购买转化率</td><td>全部入盒=A</td><td>组别入盒=B</td><td>入盒比例=A/B</td><td>图片数量</td><td>QRCode</td><td></td></tr><tr><td>1</td><td>27</td><td><a href='https://console.wetry.shop/productDetail/1091'>20716</a>(候选)(主推)</td><td>设计感显瘦微喇西装裤</td><td>298.0</td><td>2</td><td><img src='https://retry-image.oss-cn-zhangjiakou.aliyuncs.com/product/spu/052194d2-593f-49ce-97e4-7092412d2347.jpg' width='150'/></td><td>0.28</td><td>0.29</td><td>64</td><td>17</td><td>3.76</td><td>2</td><td><img src='https://image.wetry.shop/product/spu/20716/productDetailPageWxCode.jpg' width='150'/></td><td><a href='http://localhost:3000/bms/deleteOrderItem?order_no=20042700888&spu=20716'>删除</a></td></tr><tr><td>2</td><td>S</td><td><a href='https://console.wetry.shop/productDetail/317'>10294</a>(主推)</td><td>设计感牛仔阔腿裤</td><td>268.0</td><td>0</td><td><img src='https://image.wetry.shop/product/spu/10294/10294_a.jpg' width='150'/></td><td>0.18</td><td>0.0</td><td>119</td><td>18</td><td>6.61</td><td>1</td><td><img src='https://image.wetry.shop/product/spu/10294/productDetailPageWxCode.jpg' width='150'/></td><td><a href='http://localhost:3000/bms/deleteOrderItem?order_no=20042700888&spu=10294'>删除</a></td></tr><tr><td>3</td><td>F</td><td><a href='https://console.wetry.shop/productDetail/1363'>20988</a>(主推)</td><td>夏日百搭黄色花苞半裙</td><td>318.0</td><td>5</td><td><img src='https://retry-image.oss-cn-zhangjiakou.aliyuncs.com/product/spu/54286591-8c65-42d8-8c20-c189ab742836.jpg' width='150'/></td><td>0.0</td><td>0.0</td><td>6</td><td>1</td><td>6.0</td><td>2</td><td><img src='https://image.wetry.shop/product/spu/20988/productDetailPageWxCode.jpg' width='150'/></td><td><a href='http://localhost:3000/bms/deleteOrderItem?order_no=20042700888&spu=20988'>删除</a></td></tr><tr><td>4</td><td>S</td><td><a href='https://console.wetry.shop/productDetail/1153'>20778</a></td><td>真丝感A字中裙</td><td>268.0</td><td>4</td><td><img src='https://retry-image.oss-cn-zhangjiakou.aliyuncs.com/product/spu/a852d1c3-eb1b-4bcb-9ad0-5b83a9bb6c9e.jpg' width='150'/></td><td>0.16</td><td>0.14</td><td>25</td><td>7</td><td>3.57</td><td>2</td><td><img src='https://image.wetry.shop/product/spu/20778/productDetailPageWxCode.jpg' width='150'/></td><td><a href='http://localhost:3000/bms/deleteOrderItem?order_no=20042700888&spu=20778'>删除</a></td></tr></table>\""
      ]
     },
     "metadata": {},
     "output_type": "display_data"
    }
   ],
   "source": [
    "# 用户搭配中商品列表\n",
    "\n",
    "puts_header \"用户搭配中商品列表\"\n",
    "puts_header Order.where(order_no:order_no).first.like_category\n",
    "puts_display \"<a href='https://console.wetry.shop/matchDetail/#{order_no}'>进入搭配</a>\"\n",
    "\n",
    "puts \"上身尺码#{user.up_size}\"\n",
    "puts \"下身尺码#{user.lo_size}\"\n",
    "puts \"下身尺码#{user.low_size}\"\n",
    "\n",
    "\n",
    "table = []\n",
    "\n",
    "index=0\n",
    "table = Order.where(order_no:order_no).item.map do |y|\n",
    "    index+=1\n",
    "     x=ProductSpu.where(spu:y.spu).first\n",
    "      ret = product_data[x.spu].clone\n",
    "      ret.unshift(y.size)\n",
    "      ret.unshift(index)\n",
    "      ret << \"<a href='http://localhost:3000/bms/deleteOrderItem?order_no=#{order_no}&spu=#{y.spu}'>删除</a>\"\n",
    "   end\n",
    "\n",
    "table = table.unshift([\"编号\",\"尺码\",\"SPU\",\"Name\",\"Price\", \"Stock\",\"Image\",\"全体购买转化率\",\"组别购买转化率\",\"全部入盒=A\",\"组别入盒=B\",\"入盒比例=A/B\",\"图片数量\",\"QRCode\"])\n",
    "\n",
    "puts_table table\n"
   ]
  },
  {
   "cell_type": "code",
   "execution_count": 30,
   "metadata": {},
   "outputs": [
    {
     "data": {
      "text/plain": [
       "{\"code\"=>0, \"message\"=>\"OK\", \"data\"=>1}"
      ]
     },
     "execution_count": 30,
     "metadata": {},
     "output_type": "execute_result"
    }
   ],
   "source": [
    "# 自动搭配推荐\n",
    "\n",
    "BMS.matchNextBox(order_no)"
   ]
  },
  {
   "cell_type": "code",
   "execution_count": 33,
   "metadata": {},
   "outputs": [
    {
     "name": "stdout",
     "output_type": "stream",
     "text": [
      "1\n"
     ]
    }
   ],
   "source": [
    "# 移除低购买转化率\n",
    "\n",
    "Order.where(order_no:order_no).item.product_spu.each do |x|\n",
    "    ret=product_data[x.spu]\n",
    "    BMS.deleteOrderItem(order_no,x.spu)  if (ret[6]<=0.15) or (ret[8]<=10)\n",
    "end\n",
    "puts Order.where(order_no:order_no).item.size"
   ]
  },
  {
   "cell_type": "code",
   "execution_count": 416,
   "metadata": {},
   "outputs": [
    {
     "data": {
      "text/plain": [
       "[]"
      ]
     },
     "execution_count": 416,
     "metadata": {},
     "output_type": "execute_result"
    }
   ],
   "source": [
    "#初始化 \n",
    "\n",
    "sku = []"
   ]
  },
  {
   "cell_type": "code",
   "execution_count": 418,
   "metadata": {},
   "outputs": [
    {
     "name": "stdout",
     "output_type": "stream",
     "text": [
      "2 seconds\n",
      "3\n"
     ]
    }
   ],
   "source": [
    "# 开始迭代自动搭配\n",
    "\n",
    "BMS.matchNextBox(order_no) # 自动搭配推荐\n",
    "time {\n",
    "    Order.where(order_no:order_no).item.product_spu.pmap do |x|\n",
    "        ret=product_data[x.spu]\n",
    "        BMS.deleteOrderItem(order_no,x.spu)  if (ret[6]<=0.15) or (ret[8]<=10)\n",
    "    end\n",
    "}\n",
    "sku += Order.where(order_no:order_no).item.pluck(:sku)\n",
    "sku.uniq!\n",
    "\n",
    "puts sku.size"
   ]
  },
  {
   "cell_type": "code",
   "execution_count": 419,
   "metadata": {},
   "outputs": [
    {
     "data": {
      "text/plain": [
       "[\"2071313\", \"2073504\", \"2067613\"]"
      ]
     },
     "execution_count": 419,
     "metadata": {},
     "output_type": "execute_result"
    }
   ],
   "source": [
    "# 把backlog放到订单里去\n",
    "\n",
    "Order.where(order_no:order_no).item.product_spu.each do |x|\n",
    "    BMS.deleteOrderItem(order_no,x.spu) \n",
    "end\n",
    "\n",
    "sku.each do |x| \n",
    "   item = ProductSku.where(sku:x).first\n",
    "   BMS.addOrderItem(order_no,item.spu,item.size)\n",
    "end"
   ]
  },
  {
   "cell_type": "code",
   "execution_count": 346,
   "metadata": {},
   "outputs": [
    {
     "data": {
      "text/plain": [
       "[{\"code\"=>0, \"message\"=>\"OK\", \"data\"=>\"\"}, {\"code\"=>0, \"message\"=>\"OK\", \"data\"=>\"\"}]"
      ]
     },
     "execution_count": 346,
     "metadata": {},
     "output_type": "execute_result"
    }
   ],
   "source": [
    "# 移除商品\n",
    "\n",
    "[20992,20961].map do |x|\n",
    "  BMS.deleteOrderItem(order_no,x)\n",
    "end"
   ]
  },
  {
   "cell_type": "code",
   "execution_count": 463,
   "metadata": {},
   "outputs": [
    {
     "data": {
      "text/plain": [
       "[20734, 20902, 20814]"
      ]
     },
     "execution_count": 463,
     "metadata": {},
     "output_type": "execute_result"
    }
   ],
   "source": [
    "# 添加商品\n",
    "\n",
    "[20734,20902,20814].each do |spu| \n",
    "    size = user.check_size(spu)\n",
    "    if size!=\"\" then\n",
    "        puts \"#{order_no} #{spu} #{size}\"\n",
    "        puts BMS.addOrderItem(order_no,spu,size)\n",
    "    end\n",
    "end\n"
   ]
  },
  {
   "cell_type": "code",
   "execution_count": 423,
   "metadata": {},
   "outputs": [
    {
     "data": {
      "text/plain": [
       "{\"code\"=>0, \"message\"=>\"OK\", \"data\"=>\"\"}"
      ]
     },
     "execution_count": 423,
     "metadata": {},
     "output_type": "execute_result"
    }
   ],
   "source": [
    "# 删除所有look并 完成搭配\n",
    "\n",
    "BMS.api_call(\"https://console.wetry.shop/console/order/order/getLooks\",{ \"orderNo\": order_no})[\"data\"].each do |x|\n",
    "    BMS.api_call(\"https://console.wetry.shop/console/order/order/deleteLook\", {\"id\": x[\"id\"]})\n",
    "end\n",
    "\n",
    "BMS.matchComplete(order_no)"
   ]
  },
  {
   "cell_type": "code",
   "execution_count": null,
   "metadata": {},
   "outputs": [],
   "source": [
    "#改期到今天天发货\n",
    "\n",
    "BMS.updateSendTime(order_no,(Time.now()),\"和用户沟通一致，发货时间提前\")"
   ]
  },
  {
   "cell_type": "code",
   "execution_count": 380,
   "metadata": {},
   "outputs": [
    {
     "data": {
      "text/plain": [
       "\"https://console.wetry.shop/console/order/order/updateSendTime\""
      ]
     },
     "execution_count": 380,
     "metadata": {},
     "output_type": "execute_result"
    }
   ],
   "source": [
    "#改期到明天发货\n",
    "\n",
    "BMS.updateSendTime(order_no,(Time.now()+1.day),\"和用户沟通一致，发货时间提前\")"
   ]
  },
  {
   "cell_type": "code",
   "execution_count": null,
   "metadata": {},
   "outputs": [],
   "source": []
  },
  {
   "cell_type": "code",
   "execution_count": 458,
   "metadata": {},
   "outputs": [
    {
     "data": {
      "text/plain": [
       "\"20042801006\""
      ]
     },
     "execution_count": 458,
     "metadata": {},
     "output_type": "execute_result"
    }
   ],
   "source": [
    "order_no = User.find(455).orders.last.order_no"
   ]
  },
  {
   "cell_type": "code",
   "execution_count": 439,
   "metadata": {},
   "outputs": [
    {
     "data": {
      "text/html": [
       "<table><tr><td><a href='http://localhost:3000/product/10124'>10124 </a></td></tr><tr><td><a href='http://localhost:3000/product/21068'>21068 </a></td></tr><tr><td><a href='http://localhost:3000/product/20816'>20816 </a></td></tr><tr><td><a href='http://localhost:3000/product/20902'>20902 </a></td></tr><tr><td><a href='http://localhost:3000/product/20903'>20903 </a></td></tr><tr><td><a href='http://localhost:3000/product/20814'>20814 </a></td></tr><tr><td><a href='http://localhost:3000/product/20734'>20734 </a></td></tr><tr><td><a href='http://localhost:3000/product/10124'>10124 </a></td></tr><tr><td><a href='http://localhost:3000/product/10132'>10132 </a></td></tr><tr><td><a href='http://localhost:3000/product/10135'>10135 </a></td></tr><tr><td><a href='http://localhost:3000/product/20105'>20105 </a></td></tr></table>"
      ],
      "text/plain": [
       "\"<table><tr><td><a href='http://localhost:3000/product/10124'>10124 </a></td></tr><tr><td><a href='http://localhost:3000/product/21068'>21068 </a></td></tr><tr><td><a href='http://localhost:3000/product/20816'>20816 </a></td></tr><tr><td><a href='http://localhost:3000/product/20902'>20902 </a></td></tr><tr><td><a href='http://localhost:3000/product/20903'>20903 </a></td></tr><tr><td><a href='http://localhost:3000/product/20814'>20814 </a></td></tr><tr><td><a href='http://localhost:3000/product/20734'>20734 </a></td></tr><tr><td><a href='http://localhost:3000/product/10124'>10124 </a></td></tr><tr><td><a href='http://localhost:3000/product/10132'>10132 </a></td></tr><tr><td><a href='http://localhost:3000/product/10135'>10135 </a></td></tr><tr><td><a href='http://localhost:3000/product/20105'>20105 </a></td></tr></table>\""
      ]
     },
     "metadata": {},
     "output_type": "display_data"
    }
   ],
   "source": [
    "puts_table ([10124,21068,20816,20902,20903,20814,20734,10124,10132,10135,20105].map do |x| [\"<a href='http://localhost:3000/product/#{x}'>#{x} </a>\"] end)\n"
   ]
  },
  {
   "cell_type": "code",
   "execution_count": null,
   "metadata": {},
   "outputs": [],
   "source": [
    "[10195]"
   ]
  }
 ],
 "metadata": {
  "kernelspec": {
   "display_name": "Ruby 2.7.0",
   "language": "ruby",
   "name": "ruby"
  },
  "language_info": {
   "file_extension": ".rb",
   "mimetype": "application/x-ruby",
   "name": "ruby",
   "version": "2.7.0"
  }
 },
 "nbformat": 4,
 "nbformat_minor": 4
}
