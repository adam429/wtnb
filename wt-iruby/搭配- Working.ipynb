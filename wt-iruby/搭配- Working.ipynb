{
 "cells": [
  {
   "cell_type": "code",
   "execution_count": 357,
   "metadata": {},
   "outputs": [
    {
     "data": {
      "text/html": [
       "<script src='https://unpkg.com/vue/dist/vue.js'></script>\n",
       "<script src='https://unpkg.com/chart.js@2.9.3/dist/Chart.bundle.js'></script>\n",
       "<script src='https://unpkg.com/vue-chartkick@0.5.1/dist/vue-chartkick.js'></script>\n",
       "<script src='https://unpkg.com/element-ui/lib/index.js'></script>\n"
      ],
      "text/plain": [
       "\"<script src='https://unpkg.com/vue/dist/vue.js'></script>\\n<script src='https://unpkg.com/chart.js@2.9.3/dist/Chart.bundle.js'></script>\\n<script src='https://unpkg.com/vue-chartkick@0.5.1/dist/vue-chartkick.js'></script>\\n<script src='https://unpkg.com/element-ui/lib/index.js'></script>\\n\""
      ]
     },
     "metadata": {},
     "output_type": "display_data"
    },
    {
     "data": {
      "text/html": [
       "<link rel='stylesheet' href='https://unpkg.com/element-ui/lib/theme-chalk/index.css'>\n"
      ],
      "text/plain": [
       "\"<link rel='stylesheet' href='https://unpkg.com/element-ui/lib/theme-chalk/index.css'>\\n\""
      ]
     },
     "metadata": {},
     "output_type": "display_data"
    }
   ],
   "source": [
    "## 设置数据库 & 定义数据模型\n",
    "    \n",
    "load './wtnb/wtnb.rb'\n",
    "load './wtnb/wtmodel.rb'\n",
    "load './wtnb/view.rb'\n",
    "load './wtnb/wtbms.rb'\n",
    "\n",
    "IRuby.display IRuby.html(include_js)\n",
    "IRuby.display IRuby.html(include_css)\n",
    "nil"
   ]
  },
  {
   "cell_type": "code",
   "execution_count": 413,
   "metadata": {},
   "outputs": [
    {
     "data": {
      "text/plain": [
       "[4130, 3391, 3447, 5864, 7288]"
      ]
     },
     "execution_count": 413,
     "metadata": {},
     "output_type": "execute_result"
    }
   ],
   "source": [
    "user_list = %w[13013 10749 3792 11110 9723]\n",
    "phone_list = %w[ 17774911211 15888776849 18811726158 18771947191 15279764699]\n",
    "\n",
    "user_list = phone_list.map do |x| User.where(phone:x).first.id end"
   ]
  },
  {
   "cell_type": "code",
   "execution_count": 435,
   "metadata": {},
   "outputs": [
    {
     "data": {
      "text/plain": [
       "\"20042400751\""
      ]
     },
     "execution_count": 435,
     "metadata": {},
     "output_type": "execute_result"
    }
   ],
   "source": [
    "user_id = 7288\n",
    "order_no = User.find(user_id).orders.product.keep.order(:expect_day).last.order_no"
   ]
  },
  {
   "cell_type": "code",
   "execution_count": 436,
   "metadata": {},
   "outputs": [],
   "source": [
    "## 引入人群  & 商品\n",
    "\n",
    "group = Store[\"group_marriage\"]\n",
    "product = Store[\"product_shortlist\"]\n",
    "product_top_send = Store[\"product_top_send\"]\n",
    "product_top_purchase = Store[\"product_top_purchase\"]\n",
    "product_data = Store[\"product_data\"]\n",
    "product_featured = Store[\"product_featured\"]\n",
    "\n",
    "user = User.find(user_id)\n",
    "spu_filter = BMS.getMemberFilterJson(user_id)[\"data\"]\n",
    "nil\n",
    "\n"
   ]
  },
  {
   "cell_type": "code",
   "execution_count": 437,
   "metadata": {},
   "outputs": [
    {
     "data": {
      "text/html": [
       "<h1>用户档案</h1>"
      ],
      "text/plain": [
       "\"<h1>用户档案</h1>\""
      ]
     },
     "metadata": {},
     "output_type": "display_data"
    },
    {
     "data": {
      "text/html": [
       "<a href='http://localhost:3000/user/7288'>7288</a>"
      ],
      "text/plain": [
       "\"<a href='http://localhost:3000/user/7288'>7288</a>\""
      ]
     },
     "metadata": {},
     "output_type": "display_data"
    },
    {
     "data": {
      "text/html": [
       "\n",
       "<div id=\"app_EFUyU67pSt\">\n",
       "<el-container>\n",
       "  <el-container>\n",
       "    <el-header>\n",
       "      <el-row :gutter=\"24\">\n",
       "        <el-col :span=\"4\">\n",
       "          <el-button icon=\"el-icon-caret-left\" circle v-on:click=\"left\"></el-button>\n",
       "          <el-button icon=\"el-icon-caret-right\" circle v-on:click=\"right\"></el-button>\n",
       "        </el-col>\n",
       "\n",
       "        <el-col :span=\"20\">\n",
       "          <h1>[{{cur_url}}] {{ url[cur_url] }}</h1>\n",
       "        </el-col>\n",
       "      </el-row>\n",
       "    </el-header>\n",
       "    <el-main>\n",
       "      <el-divider></el-divider>\n",
       "      <iframe v-bind:src=\"url[cur_url]\" width=\"1400\" height=\"800\"></iframe>\n",
       "    </el-main>\n",
       "\n",
       "  </el-container>\n",
       "</el-container>\n",
       "</div>\n",
       "\n",
       "\n",
       "\n",
       "<script>\n",
       "  Vue.use(VueChartkick.use(Chart))\n",
       "\n",
       "  app = new Vue({\n",
       "    el: '#app_EFUyU67pSt',\n",
       "    data: {\n",
       "      url: [\"http://localhost:3000/user/7288\"],\n",
       "      cur_url: 0\n",
       "    },\n",
       "    methods: {\n",
       "      left: function() {\n",
       "        this.cur_url -= 1\n",
       "        if (this.cur_url<0) this.cur_url = this.url.length-1\n",
       "      },\n",
       "      right: function() {\n",
       "        this.cur_url += 1\n",
       "        if (this.cur_url>=this.url.length) this.cur_url = 0\n",
       "      },\n",
       "      keyhandler: function() {\n",
       "        console.log(event.keyCode)\n",
       "        if (event.keyCode == 37) {\n",
       "        \tthis.left()\n",
       "        } else if (event.keyCode == 39) {\n",
       "        \tthis.right()\n",
       "        }\n",
       "      }\n",
       "    },\n",
       "    mounted () {\n",
       "      document.addEventListener(\"keyup\", this.keyhandler);\n",
       "    }\n",
       "  })\n",
       "</script>"
      ],
      "text/plain": [
       "\"\\n<div id=\\\"app_EFUyU67pSt\\\">\\n<el-container>\\n  <el-container>\\n    <el-header>\\n      <el-row :gutter=\\\"24\\\">\\n        <el-col :span=\\\"4\\\">\\n          <el-button icon=\\\"el-icon-caret-left\\\" circle v-on:click=\\\"left\\\"></el-button>\\n          <el-button icon=\\\"el-icon-caret-right\\\" circle v-on:click=\\\"right\\\"></el-button>\\n        </el-col>\\n\\n        <el-col :span=\\\"20\\\">\\n          <h1>[{{cur_url}}] {{ url[cur_url] }}</h1>\\n        </el-col>\\n      </el-row>\\n    </el-header>\\n    <el-main>\\n      <el-divider></el-divider>\\n      <iframe v-bind:src=\\\"url[cur_url]\\\" width=\\\"1400\\\" height=\\\"800\\\"></iframe>\\n    </el-main>\\n\\n  </el-container>\\n</el-container>\\n</div>\\n\\n\\n\\n<script>\\n  Vue.use(VueChartkick.use(Chart))\\n\\n  app = new Vue({\\n    el: '#app_EFUyU67pSt',\\n    data: {\\n      url: [\\\"http://localhost:3000/user/7288\\\"],\\n      cur_url: 0\\n    },\\n    methods: {\\n      left: function() {\\n        this.cur_url -= 1\\n        if (this.cur_url<0) this.cur_url = this.url.length-1\\n      },\\n      right: function() {\\n        this.cur_url += 1\\n        if (this.cur_url>=this.url.length) this.cur_url = 0\\n      },\\n      keyhandler: function() {\\n        console.log(event.keyCode)\\n        if (event.keyCode == 37) {\\n        \\tthis.left()\\n        } else if (event.keyCode == 39) {\\n        \\tthis.right()\\n        }\\n      }\\n    },\\n    mounted () {\\n      document.addEventListener(\\\"keyup\\\", this.keyhandler);\\n    }\\n  })\\n</script>\""
      ]
     },
     "metadata": {},
     "output_type": "display_data"
    }
   ],
   "source": [
    "puts_header \"用户档案\"\n",
    "url = [\"http://localhost:3000/user/#{user_id}\"]\n",
    "puts_display \"<a href='#{url.first}'>#{user_id}</a>\"\n",
    "puts_display render(\"左右浏览网页\",{:url=>url})\n",
    "\n",
    "nil"
   ]
  },
  {
   "cell_type": "code",
   "execution_count": 438,
   "metadata": {},
   "outputs": [
    {
     "data": {
      "text/html": [
       "<h1>用户历史购买商品</h1>"
      ],
      "text/plain": [
       "\"<h1>用户历史购买商品</h1>\""
      ]
     },
     "metadata": {},
     "output_type": "display_data"
    },
    {
     "data": {
      "text/html": [
       "<table><tr><td>SPU</td><td>Name</td><td>Price</td><td>Stock</td><td>Image</td><td>全体购买转化率</td><td>组别购买转化率</td><td>全部入盒=A</td><td>组别入盒=B</td><td>入盒比例=A/B</td><td>图片数量</td><td>QRCode</td></tr><tr><td><a href='https://console.wetry.shop/productDetail/2'>10001</a></td><td>半年卡</td><td>299.0</td><td>0</td><td></td><td>1.0</td><td>1.0</td><td>55</td><td>13</td><td>4.23</td><td>0</td><td><img src='https://image.wetry.shop/product/spu/10001/productDetailPageWxCode.jpg' width='150'/></td></tr><tr><td><a href='https://console.wetry.shop/productDetail/1321'>20946</a></td><td>法式复古方领口上衣</td><td>138.0</td><td>1</td><td><img src='https://retry-image.oss-cn-zhangjiakou.aliyuncs.com/product/spu/df22b509-0d12-4195-aa4a-b642e2de71e9.jpg' width='150'/></td><td>0.5</td><td>1.0</td><td>6</td><td>1</td><td>6.0</td><td>1</td><td><img src='https://image.wetry.shop/product/spu/20946/productDetailPageWxCode.jpg' width='150'/></td></tr><tr><td><a href='https://console.wetry.shop/productDetail/1489'>21114</a></td><td>淡黄色色廓形T恤</td><td>88.0</td><td>0</td><td><img src='https://retry-image.oss-cn-zhangjiakou.aliyuncs.com/product/spu/06327450-a625-40a8-8b44-fe17363ef2ae.png' width='150'/></td><td>0.08</td><td>0.25</td><td>12</td><td>4</td><td>3.0</td><td>1</td><td><img src='https://image.wetry.shop/product/spu/21114/productDetailPageWxCode.jpg' width='150'/></td></tr></table>"
      ],
      "text/plain": [
       "\"<table><tr><td>SPU</td><td>Name</td><td>Price</td><td>Stock</td><td>Image</td><td>全体购买转化率</td><td>组别购买转化率</td><td>全部入盒=A</td><td>组别入盒=B</td><td>入盒比例=A/B</td><td>图片数量</td><td>QRCode</td></tr><tr><td><a href='https://console.wetry.shop/productDetail/2'>10001</a></td><td>半年卡</td><td>299.0</td><td>0</td><td></td><td>1.0</td><td>1.0</td><td>55</td><td>13</td><td>4.23</td><td>0</td><td><img src='https://image.wetry.shop/product/spu/10001/productDetailPageWxCode.jpg' width='150'/></td></tr><tr><td><a href='https://console.wetry.shop/productDetail/1321'>20946</a></td><td>法式复古方领口上衣</td><td>138.0</td><td>1</td><td><img src='https://retry-image.oss-cn-zhangjiakou.aliyuncs.com/product/spu/df22b509-0d12-4195-aa4a-b642e2de71e9.jpg' width='150'/></td><td>0.5</td><td>1.0</td><td>6</td><td>1</td><td>6.0</td><td>1</td><td><img src='https://image.wetry.shop/product/spu/20946/productDetailPageWxCode.jpg' width='150'/></td></tr><tr><td><a href='https://console.wetry.shop/productDetail/1489'>21114</a></td><td>淡黄色色廓形T恤</td><td>88.0</td><td>0</td><td><img src='https://retry-image.oss-cn-zhangjiakou.aliyuncs.com/product/spu/06327450-a625-40a8-8b44-fe17363ef2ae.png' width='150'/></td><td>0.08</td><td>0.25</td><td>12</td><td>4</td><td>3.0</td><td>1</td><td><img src='https://image.wetry.shop/product/spu/21114/productDetailPageWxCode.jpg' width='150'/></td></tr></table>\""
      ]
     },
     "metadata": {},
     "output_type": "display_data"
    }
   ],
   "source": [
    "puts_header \"用户历史购买商品\"\n",
    "\n",
    "data = Order.where(member_id:user_id).finish_purchase.item.sold.product_spu\n",
    "\n",
    "table = data.map do |x|\n",
    "   ret = product_data[x.spu]\n",
    "   ret  \n",
    "end\n",
    "table = table.unshift([\"SPU\",\"Name\",\"Price\", \"Stock\",\"Image\",\"全体购买转化率\",\"组别购买转化率\",\"全部入盒=A\",\"组别入盒=B\",\"入盒比例=A/B\",\"图片数量\",\"QRCode\"])\n",
    "puts_table table"
   ]
  },
  {
   "cell_type": "code",
   "execution_count": 439,
   "metadata": {},
   "outputs": [
    {
     "data": {
      "text/html": [
       "<h1>用户历史对商品评价</h1>"
      ],
      "text/plain": [
       "\"<h1>用户历史对商品评价</h1>\""
      ]
     },
     "metadata": {},
     "output_type": "display_data"
    },
    {
     "data": {
      "text/html": [
       "<table><tr><td>SPU</td><td>Name</td><td>Price</td><td>Stock</td><td>Image</td><td>全体购买转化率</td><td>组别购买转化率</td><td>全部入盒=A</td><td>组别入盒=B</td><td>入盒比例=A/B</td><td>图片数量</td><td>QRCode</td><td>用户评价</td></tr><tr><td><a href='https://console.wetry.shop/productDetail/1097'>20722</a>(候选)(主推)</td><td>复古蓝色小哈伦牛仔裤</td><td>268.0</td><td>4</td><td><img src='https://retry-image.oss-cn-zhangjiakou.aliyuncs.com/product/spu/9554780c-0c64-48c8-8f6b-aef36df0f93d.jpg' width='150'/></td><td>0.23</td><td>0.29</td><td>69</td><td>14</td><td>4.93</td><td>2</td><td><img src='https://image.wetry.shop/product/spu/20722/productDetailPageWxCode.jpg' width='150'/></td><td>|大了</td></tr><tr><td><a href='https://console.wetry.shop/productDetail/1199'>20824</a></td><td>极致显瘦修身感开衫</td><td>198.0</td><td>0</td><td><img src='https://retry-image.oss-cn-zhangjiakou.aliyuncs.com/product/spu/6504e09a-d810-4cc7-ac0c-765331f6ddca.png' width='150'/></td><td>0.1</td><td>0.0</td><td>20</td><td>5</td><td>4.0</td><td>1</td><td><img src='https://image.wetry.shop/product/spu/20824/productDetailPageWxCode.jpg' width='150'/></td><td>|扣子</td></tr><tr><td><a href='https://console.wetry.shop/productDetail/1233'>20858</a></td><td>虾粉色净版卫衣</td><td>228.0</td><td>1</td><td><img src='https://retry-image.oss-cn-zhangjiakou.aliyuncs.com/product/spu/a2cae866-9fdd-49bf-ab57-350db991e478.png' width='150'/></td><td>0.22</td><td>0.5</td><td>9</td><td>2</td><td>4.5</td><td>1</td><td><img src='https://image.wetry.shop/product/spu/20858/productDetailPageWxCode.jpg' width='150'/></td><td>|大了显胖</td></tr><tr><td><a href='https://console.wetry.shop/productDetail/1312'>20937</a></td><td>灰色 超A风运动裤</td><td>268.0</td><td>5</td><td><img src='https://retry-image.oss-cn-zhangjiakou.aliyuncs.com/product/spu/0fa254a1-8962-4b49-b206-84d83d804e02.png' width='150'/></td><td>0.33</td><td>0.5</td><td>3</td><td>2</td><td>1.5</td><td>1</td><td><img src='https://image.wetry.shop/product/spu/20937/productDetailPageWxCode.jpg' width='150'/></td><td>|颜色不喜欢</td></tr></table>"
      ],
      "text/plain": [
       "\"<table><tr><td>SPU</td><td>Name</td><td>Price</td><td>Stock</td><td>Image</td><td>全体购买转化率</td><td>组别购买转化率</td><td>全部入盒=A</td><td>组别入盒=B</td><td>入盒比例=A/B</td><td>图片数量</td><td>QRCode</td><td>用户评价</td></tr><tr><td><a href='https://console.wetry.shop/productDetail/1097'>20722</a>(候选)(主推)</td><td>复古蓝色小哈伦牛仔裤</td><td>268.0</td><td>4</td><td><img src='https://retry-image.oss-cn-zhangjiakou.aliyuncs.com/product/spu/9554780c-0c64-48c8-8f6b-aef36df0f93d.jpg' width='150'/></td><td>0.23</td><td>0.29</td><td>69</td><td>14</td><td>4.93</td><td>2</td><td><img src='https://image.wetry.shop/product/spu/20722/productDetailPageWxCode.jpg' width='150'/></td><td>|大了</td></tr><tr><td><a href='https://console.wetry.shop/productDetail/1199'>20824</a></td><td>极致显瘦修身感开衫</td><td>198.0</td><td>0</td><td><img src='https://retry-image.oss-cn-zhangjiakou.aliyuncs.com/product/spu/6504e09a-d810-4cc7-ac0c-765331f6ddca.png' width='150'/></td><td>0.1</td><td>0.0</td><td>20</td><td>5</td><td>4.0</td><td>1</td><td><img src='https://image.wetry.shop/product/spu/20824/productDetailPageWxCode.jpg' width='150'/></td><td>|扣子</td></tr><tr><td><a href='https://console.wetry.shop/productDetail/1233'>20858</a></td><td>虾粉色净版卫衣</td><td>228.0</td><td>1</td><td><img src='https://retry-image.oss-cn-zhangjiakou.aliyuncs.com/product/spu/a2cae866-9fdd-49bf-ab57-350db991e478.png' width='150'/></td><td>0.22</td><td>0.5</td><td>9</td><td>2</td><td>4.5</td><td>1</td><td><img src='https://image.wetry.shop/product/spu/20858/productDetailPageWxCode.jpg' width='150'/></td><td>|大了显胖</td></tr><tr><td><a href='https://console.wetry.shop/productDetail/1312'>20937</a></td><td>灰色 超A风运动裤</td><td>268.0</td><td>5</td><td><img src='https://retry-image.oss-cn-zhangjiakou.aliyuncs.com/product/spu/0fa254a1-8962-4b49-b206-84d83d804e02.png' width='150'/></td><td>0.33</td><td>0.5</td><td>3</td><td>2</td><td>1.5</td><td>1</td><td><img src='https://image.wetry.shop/product/spu/20937/productDetailPageWxCode.jpg' width='150'/></td><td>|颜色不喜欢</td></tr></table>\""
      ]
     },
     "metadata": {},
     "output_type": "display_data"
    }
   ],
   "source": [
    "puts_header \"用户历史对商品评价\"\n",
    "\n",
    "\n",
    "feedback1 = user.orders.product.order_feedback_detail.keep.pluck(:spu,:order_feedback_tag_name).to_h\n",
    "feedback2 = user.orders.product.order_feedback.keep.pluck(:order_item_id,:text).map do |x| [Item.find(x[0]).spu,x[1]] end.to_h\n",
    "\n",
    "table =(feedback1.to_a.map do |x| x[0] end + feedback2.to_a.map do |x| x[0] end).uniq.map do |y|\n",
    "     x=ProductSpu.where(spu:y).first\n",
    "        (product_data[x.spu] or [\"\"]*12) + [ feedback1[x.spu].to_s + \"|\" +  feedback2[x.spu].to_s ] end\n",
    "table = table.unshift([\"SPU\",\"Name\",\"Price\", \"Stock\",\"Image\",\"全体购买转化率\",\"组别购买转化率\",\"全部入盒=A\",\"组别入盒=B\",\"入盒比例=A/B\",\"图片数量\",\"QRCode\",\"用户评价\"])\n",
    "puts_table table"
   ]
  },
  {
   "cell_type": "code",
   "execution_count": 440,
   "metadata": {},
   "outputs": [],
   "source": [
    "# 筛选用户可搭配商品列表\n",
    "\n",
    "list = (product.pluck(:spu) + product_top_send.pluck(:spu) + product_top_purchase.pluck(:spu) + product_featured.pluck(:spu)).uniq\n",
    "\n",
    "# 过滤历史订单的商品\n",
    "list = list.filter do |x| user.orders.item.pluck(:spu).index(x).nil? end\n",
    "\n",
    "# 过滤排雷订单的商品\n",
    "list = list.filter do |x| spu_filter.index(x).nil? end\n",
    "\n",
    "# 过滤下架的商品\n",
    "plist = list.filter do |x| \n",
    "    p = ProductSpu.where(spu:x).first;\n",
    "    (p.status==2 and /设计感|缎面|亮片|泡泡袖|花边|褶皱/.match(p.product_name).nil?) end\n",
    "\n",
    "\n",
    "\n",
    "# 匹配列表\n",
    "list = plist.map do |x|\n",
    "  [x,product.where(spu:x).count,product_top_send.where(spu:x).count,product_top_purchase.where(spu:x).count,product_featured.where(spu:x).count,ProductSpu.where(spu:x).first.category[1]]\n",
    "end.sort do |x,y|  -1*((x[1]*100+(x[2]+x[3]+x[4])*10)<=>(y[1]*100+(y[2]+y[3]+y[4])*10)) end\n",
    "\n",
    "nil"
   ]
  },
  {
   "cell_type": "code",
   "execution_count": 441,
   "metadata": {},
   "outputs": [],
   "source": [
    "require 'digest/sha1'\n",
    "\n",
    "list = list.sort do |x,y|  -1*(Digest::SHA1.hexdigest(x[5]).gsub(/a|b|c|d|e|f/,\"\").to_i+(x[1]*100+(x[2]+x[3]+x[4])*10)<=>(Digest::SHA1.hexdigest(y[5]).gsub(/a|b|c|d|e|f/,\"\").to_i+y[1]*100+(y[2]+y[3]+y[4])*10)) end\n",
    "nil"
   ]
  },
  {
   "cell_type": "code",
   "execution_count": 442,
   "metadata": {},
   "outputs": [
    {
     "data": {
      "text/html": [
       "<h1>推荐给用户的商品</h1>"
      ],
      "text/plain": [
       "\"<h1>推荐给用户的商品</h1>\""
      ]
     },
     "metadata": {},
     "output_type": "display_data"
    },
    {
     "data": {
      "text/html": [
       "<table><tr><td>SPU</td><td>Name</td><td>Price</td><td>Stock</td><td>Image</td><td>全体购买转化率</td><td>组别购买转化率</td><td>全部入盒=A</td><td>组别入盒=B</td><td>入盒比例=A/B</td><td>尺码</td><td>用户适合尺码</td><td>推荐来源</td><td></td></tr><tr><td><a href='https://console.wetry.shop/productDetail/1107'>20732</a>(候选)(主推)</td><td>浅蓝色阔腿牛仔裤</td><td>328.0</td><td>16</td><td><img src='https://retry-image.oss-cn-zhangjiakou.aliyuncs.com/product/spu/ccdafc72-ee66-4cae-bada-e8c03b4c3fff.jpg' width='150'/></td><td>0.31</td><td>0.5</td><td>61</td><td>10</td><td>6.1</td><td>[\"S\", \"M\"]</td><td>M</td><td><span style='color:red'>【手工挑选】【群体Top发盒】【群体Top购买】【主推】</span></td><td><a href='http://localhost:3000/bms/addOrderItem?order_no=20042400751&spu=20732&size=M'>添加</a></td></tr><tr><td><a href='https://console.wetry.shop/productDetail/1385'>21010</a>(主推)</td><td>超级显瘦百搭黑色神裤</td><td>288.0</td><td>35</td><td><img src='https://retry-image.oss-cn-zhangjiakou.aliyuncs.com/product/spu/34e3ff00-48bd-4961-ba20-8703abe8b976.jpg' width='150'/></td><td>0.11</td><td>0.08</td><td>47</td><td>13</td><td>3.62</td><td>[\"S\", \"M\", \"L\"]</td><td>M</td><td><span style='color:red'>【主推】</span></td><td><a href='http://localhost:3000/bms/addOrderItem?order_no=20042400751&spu=21010&size=M'>添加</a></td></tr><tr><td><a href='https://console.wetry.shop/productDetail/1441'>21066</a>(主推)</td><td>复古浅蓝色牛仔长裤</td><td>268.0</td><td>5</td><td><img src='https://retry-image.oss-cn-zhangjiakou.aliyuncs.com/product/spu/d626aafd-7d17-4619-9bb2-54a89a59aa30.png' width='150'/></td><td>0.04</td><td>0.0</td><td>23</td><td>7</td><td>3.29</td><td>[\"S\", \"M\", \"L\"]</td><td>M</td><td><span style='color:red'>【主推】</span></td><td><a href='http://localhost:3000/bms/addOrderItem?order_no=20042400751&spu=21066&size=M'>添加</a></td></tr><tr><td><a href='https://console.wetry.shop/productDetail/1185'>20810</a>(主推)</td><td>显瘦女神款长款</td><td>288.0</td><td>5</td><td><img src='https://retry-image.oss-cn-zhangjiakou.aliyuncs.com/product/spu/a60f9202-43c7-477c-aa48-6c1d80ef7909.png' width='150'/></td><td>0.31</td><td>0.17</td><td>26</td><td>6</td><td>4.33</td><td>[\"S\", \"M\"]</td><td>M</td><td><span style='color:red'>【主推】</span></td><td><a href='http://localhost:3000/bms/addOrderItem?order_no=20042400751&spu=20810&size=M'>添加</a></td></tr><tr><td><a href='https://console.wetry.shop/productDetail/1362'>20987</a>(候选)(主推)</td><td>夏日百搭白色花苞半裙</td><td>318.0</td><td>2</td><td><img src='https://retry-image.oss-cn-zhangjiakou.aliyuncs.com/product/spu/0aaee3eb-2558-4fd7-a523-6a5214e397c3.jpg' width='150'/></td><td>0.25</td><td>0.5</td><td>24</td><td>2</td><td>12.0</td><td>[\"F\"]</td><td>F</td><td><span style='color:red'>【手工挑选】【主推】</span></td><td><a href='http://localhost:3000/bms/addOrderItem?order_no=20042400751&spu=20987&size=F'>添加</a></td></tr><tr><td><a href='https://console.wetry.shop/productDetail/1363'>20988</a>(主推)</td><td>夏日百搭黄色花苞半裙</td><td>318.0</td><td>6</td><td><img src='https://retry-image.oss-cn-zhangjiakou.aliyuncs.com/product/spu/54286591-8c65-42d8-8c20-c189ab742836.jpg' width='150'/></td><td>0.0</td><td>0.0</td><td>6</td><td>1</td><td>6.0</td><td>[\"F\"]</td><td>F</td><td><span style='color:red'>【主推】</span></td><td><a href='http://localhost:3000/bms/addOrderItem?order_no=20042400751&spu=20988&size=F'>添加</a></td></tr><tr><td><a href='https://console.wetry.shop/productDetail/1379'>21004</a>(主推)</td><td>撞色压线A字长款半裙</td><td>288.0</td><td>7</td><td><img src='https://retry-image.oss-cn-zhangjiakou.aliyuncs.com/product/spu/a5736ae8-c682-404b-a8e6-0a99ec7666c1.jpg' width='150'/></td><td>0.12</td><td>0.0</td><td>17</td><td>2</td><td>8.5</td><td>[\"S\", \"M\"]</td><td>M</td><td><span style='color:red'>【主推】</span></td><td><a href='http://localhost:3000/bms/addOrderItem?order_no=20042400751&spu=21004&size=M'>添加</a></td></tr><tr><td><a href='https://console.wetry.shop/productDetail/1319'>20944</a>(候选)(主推)</td><td>黑色V领口显瘦打底衫</td><td>138.0</td><td>6</td><td><img src='https://retry-image.oss-cn-zhangjiakou.aliyuncs.com/product/spu/6448661b-7c62-4d11-8de2-5dd297cff657.png' width='150'/></td><td>0.29</td><td>0.32</td><td>58</td><td>19</td><td>3.05</td><td>[\"M\", \"均码\", \"F\"]</td><td>F</td><td><span style='color:red'>【手工挑选】【群体Top发盒】【主推】</span></td><td><a href='http://localhost:3000/bms/addOrderItem?order_no=20042400751&spu=20944&size=F'>添加</a></td></tr><tr><td><a href='https://console.wetry.shop/productDetail/110'>10190</a>(候选)</td><td>莫兰迪色平领口羊绒针织吊带</td><td>138.0</td><td>5</td><td><img src='https://image.wetry.shop/product/spu/10190/10190_a.jpg' width='150'/></td><td>0.26</td><td>0.3</td><td>50</td><td>10</td><td>5.0</td><td>[\"F\"]</td><td>F</td><td><span style='color:red'>【手工挑选】</span></td><td><a href='http://localhost:3000/bms/addOrderItem?order_no=20042400751&spu=10190&size=F'>添加</a></td></tr><tr><td><a href='https://console.wetry.shop/productDetail/40'>10108</a>(候选)</td><td>白色俏皮感长袖T恤</td><td>178.0</td><td>3</td><td><img src='https://image.wetry.shop/product/spu/10108/10108_a.jpg' width='150'/></td><td>0.22</td><td>0.22</td><td>36</td><td>9</td><td>4.0</td><td>[\"F\"]</td><td>F</td><td><span style='color:red'>【手工挑选】</span></td><td><a href='http://localhost:3000/bms/addOrderItem?order_no=20042400751&spu=10108&size=F'>添加</a></td></tr><tr><td><a href='https://console.wetry.shop/productDetail/113'>10193</a>(候选)</td><td>牛油果色平领口羊绒针织吊带</td><td>138.0</td><td>7</td><td><img src='https://image.wetry.shop/product/spu/10193/10193_a.jpg' width='150'/></td><td>0.37</td><td>0.5</td><td>41</td><td>8</td><td>5.13</td><td>[\"F\"]</td><td>F</td><td><span style='color:red'>【手工挑选】</span></td><td><a href='http://localhost:3000/bms/addOrderItem?order_no=20042400751&spu=10193&size=F'>添加</a></td></tr><tr><td><a href='https://console.wetry.shop/productDetail/1190'>20815</a>(候选)</td><td>纽扣款针织衫</td><td>178.0</td><td>6</td><td><img src='https://retry-image.oss-cn-zhangjiakou.aliyuncs.com/product/spu/41958952-4ce2-4e04-9836-c566303b2e05.jpg' width='150'/></td><td>0.33</td><td>0.5</td><td>9</td><td>2</td><td>4.5</td><td>[\"F\"]</td><td>F</td><td><span style='color:red'>【手工挑选】</span></td><td><a href='http://localhost:3000/bms/addOrderItem?order_no=20042400751&spu=20815&size=F'>添加</a></td></tr><tr><td><a href='https://console.wetry.shop/productDetail/441'>20070</a></td><td>超柔软细坑条修身打底衫</td><td>258.0</td><td>2</td><td><img src='https://retry-image.oss-cn-zhangjiakou.aliyuncs.com/product/spu/ea755dbf-f6c4-416c-b305-7413dba5b1a3.jpg' width='150'/></td><td>0.19</td><td>0.24</td><td>81</td><td>29</td><td>2.79</td><td>[\"F\"]</td><td>F</td><td><span style='color:red'>【群体Top发盒】</span></td><td><a href='http://localhost:3000/bms/addOrderItem?order_no=20042400751&spu=20070&size=F'>添加</a></td></tr><tr><td><a href='https://console.wetry.shop/productDetail/1440'>21065</a>(主推)</td><td>天丝羊毛高品质超薄防嗮面膜T恤</td><td>198.0</td><td>1</td><td><img src='https://retry-image.oss-cn-zhangjiakou.aliyuncs.com/product/spu/412e16d5-7e66-4d33-8f09-cfd3f4f29e17.jpg' width='150'/></td><td>0.27</td><td>0.33</td><td>15</td><td>3</td><td>5.0</td><td>[\"F\"]</td><td>F</td><td><span style='color:red'>【主推】</span></td><td><a href='http://localhost:3000/bms/addOrderItem?order_no=20042400751&spu=21065&size=F'>添加</a></td></tr><tr><td><a href='https://console.wetry.shop/productDetail/111'>10191</a></td><td>莫兰迪色平领口羊绒针织吊带</td><td>138.0</td><td>1</td><td><img src='https://image.wetry.shop/product/spu/10191/10191_a.jpg' width='150'/></td><td>0.23</td><td>0.42</td><td>71</td><td>12</td><td>5.92</td><td>[\"F\"]</td><td>F</td><td><span style='color:red'>【群体Top购买】</span></td><td><a href='http://localhost:3000/bms/addOrderItem?order_no=20042400751&spu=10191&size=F'>添加</a></td></tr><tr><td><a href='https://console.wetry.shop/productDetail/415'>20044</a></td><td>交叉围裹V领羊绒毛衣</td><td>498.0</td><td>1</td><td><img src='https://retry-image.oss-cn-zhangjiakou.aliyuncs.com/product/spu/e659b18a-87b6-4296-b076-8249c0fbbb64.jpg' width='150'/></td><td>0.19</td><td>0.22</td><td>62</td><td>23</td><td>2.7</td><td>[\"F\"]</td><td>F</td><td><span style='color:red'>【群体Top发盒】</span></td><td><a href='http://localhost:3000/bms/addOrderItem?order_no=20042400751&spu=20044&size=F'>添加</a></td></tr><tr><td><a href='https://console.wetry.shop/productDetail/1367'>20992</a>(候选)(主推)</td><td>灰色时髦运动短裤套装</td><td>348.0</td><td>8</td><td><img src='https://retry-image.oss-cn-zhangjiakou.aliyuncs.com/product/spu/6550192e-a75f-4a1a-803e-21a7ad630a5b.jpg' width='150'/></td><td>0.33</td><td>0.67</td><td>9</td><td>3</td><td>3.0</td><td>[\"S\", \"M\"]</td><td>S</td><td><span style='color:red'>【手工挑选】【主推】</span></td><td><a href='http://localhost:3000/bms/addOrderItem?order_no=20042400751&spu=20992&size=S'>添加</a></td></tr><tr><td><a href='https://console.wetry.shop/productDetail/1032'>20657</a>(候选)</td><td>浅灰色针织裙套装</td><td>538.0</td><td>7</td><td><img src='https://retry-image.oss-cn-zhangjiakou.aliyuncs.com/product/spu/c68c1506-ee9c-4e16-b7d1-ee1451b94c83.jpg' width='150'/></td><td>0.18</td><td>0.27</td><td>17</td><td>11</td><td>1.55</td><td>[\"S\", \"M\"]</td><td>S</td><td><span style='color:red'>【手工挑选】</span></td><td><a href='http://localhost:3000/bms/addOrderItem?order_no=20042400751&spu=20657&size=S'>添加</a></td></tr><tr><td><a href='https://console.wetry.shop/productDetail/1033'>20658</a></td><td>卡其色针织裙套装</td><td>538.0</td><td>5</td><td><img src='https://retry-image.oss-cn-zhangjiakou.aliyuncs.com/product/spu/d86ab798-2a25-4e66-b8cc-52bca080be6c.png' width='150'/></td><td>0.14</td><td>0.31</td><td>37</td><td>13</td><td>2.85</td><td>[\"S\", \"M\"]</td><td>S</td><td><span style='color:red'>【群体Top购买】</span></td><td><a href='http://localhost:3000/bms/addOrderItem?order_no=20042400751&spu=20658&size=S'>添加</a></td></tr><tr><td><a href='https://console.wetry.shop/productDetail/355'>20001</a></td><td>YESNO字母耳钉</td><td>58.0</td><td>7</td><td><img src='https://retry-image.oss-cn-zhangjiakou.aliyuncs.com/product/spu/d8c677b0-5ada-45e9-afd9-cfce6afe008a.png' width='150'/></td><td>0.27</td><td>0.29</td><td>146</td><td>34</td><td>4.29</td><td>[\"F\"]</td><td>F</td><td><span style='color:red'>【群体Top发盒】【群体Top购买】</span></td><td><a href='http://localhost:3000/bms/addOrderItem?order_no=20042400751&spu=20001&size=F'>添加</a></td></tr></table>"
      ],
      "text/plain": [
       "\"<table><tr><td>SPU</td><td>Name</td><td>Price</td><td>Stock</td><td>Image</td><td>全体购买转化率</td><td>组别购买转化率</td><td>全部入盒=A</td><td>组别入盒=B</td><td>入盒比例=A/B</td><td>尺码</td><td>用户适合尺码</td><td>推荐来源</td><td></td></tr><tr><td><a href='https://console.wetry.shop/productDetail/1107'>20732</a>(候选)(主推)</td><td>浅蓝色阔腿牛仔裤</td><td>328.0</td><td>16</td><td><img src='https://retry-image.oss-cn-zhangjiakou.aliyuncs.com/product/spu/ccdafc72-ee66-4cae-bada-e8c03b4c3fff.jpg' width='150'/></td><td>0.31</td><td>0.5</td><td>61</td><td>10</td><td>6.1</td><td>[\\\"S\\\", \\\"M\\\"]</td><td>M</td><td><span style='color:red'>【手工挑选】【群体Top发盒】【群体Top购买】【主推】</span></td><td><a href='http://localhost:3000/bms/addOrderItem?order_no=20042400751&spu=20732&size=M'>添加</a></td></tr><tr><td><a href='https://console.wetry.shop/productDetail/1385'>21010</a>(主推)</td><td>超级显瘦百搭黑色神裤</td><td>288.0</td><td>35</td><td><img src='https://retry-image.oss-cn-zhangjiakou.aliyuncs.com/product/spu/34e3ff00-48bd-4961-ba20-8703abe8b976.jpg' width='150'/></td><td>0.11</td><td>0.08</td><td>47</td><td>13</td><td>3.62</td><td>[\\\"S\\\", \\\"M\\\", \\\"L\\\"]</td><td>M</td><td><span style='color:red'>【主推】</span></td><td><a href='http://localhost:3000/bms/addOrderItem?order_no=20042400751&spu=21010&size=M'>添加</a></td></tr><tr><td><a href='https://console.wetry.shop/productDetail/1441'>21066</a>(主推)</td><td>复古浅蓝色牛仔长裤</td><td>268.0</td><td>5</td><td><img src='https://retry-image.oss-cn-zhangjiakou.aliyuncs.com/product/spu/d626aafd-7d17-4619-9bb2-54a89a59aa30.png' width='150'/></td><td>0.04</td><td>0.0</td><td>23</td><td>7</td><td>3.29</td><td>[\\\"S\\\", \\\"M\\\", \\\"L\\\"]</td><td>M</td><td><span style='color:red'>【主推】</span></td><td><a href='http://localhost:3000/bms/addOrderItem?order_no=20042400751&spu=21066&size=M'>添加</a></td></tr><tr><td><a href='https://console.wetry.shop/productDetail/1185'>20810</a>(主推)</td><td>显瘦女神款长款</td><td>288.0</td><td>5</td><td><img src='https://retry-image.oss-cn-zhangjiakou.aliyuncs.com/product/spu/a60f9202-43c7-477c-aa48-6c1d80ef7909.png' width='150'/></td><td>0.31</td><td>0.17</td><td>26</td><td>6</td><td>4.33</td><td>[\\\"S\\\", \\\"M\\\"]</td><td>M</td><td><span style='color:red'>【主推】</span></td><td><a href='http://localhost:3000/bms/addOrderItem?order_no=20042400751&spu=20810&size=M'>添加</a></td></tr><tr><td><a href='https://console.wetry.shop/productDetail/1362'>20987</a>(候选)(主推)</td><td>夏日百搭白色花苞半裙</td><td>318.0</td><td>2</td><td><img src='https://retry-image.oss-cn-zhangjiakou.aliyuncs.com/product/spu/0aaee3eb-2558-4fd7-a523-6a5214e397c3.jpg' width='150'/></td><td>0.25</td><td>0.5</td><td>24</td><td>2</td><td>12.0</td><td>[\\\"F\\\"]</td><td>F</td><td><span style='color:red'>【手工挑选】【主推】</span></td><td><a href='http://localhost:3000/bms/addOrderItem?order_no=20042400751&spu=20987&size=F'>添加</a></td></tr><tr><td><a href='https://console.wetry.shop/productDetail/1363'>20988</a>(主推)</td><td>夏日百搭黄色花苞半裙</td><td>318.0</td><td>6</td><td><img src='https://retry-image.oss-cn-zhangjiakou.aliyuncs.com/product/spu/54286591-8c65-42d8-8c20-c189ab742836.jpg' width='150'/></td><td>0.0</td><td>0.0</td><td>6</td><td>1</td><td>6.0</td><td>[\\\"F\\\"]</td><td>F</td><td><span style='color:red'>【主推】</span></td><td><a href='http://localhost:3000/bms/addOrderItem?order_no=20042400751&spu=20988&size=F'>添加</a></td></tr><tr><td><a href='https://console.wetry.shop/productDetail/1379'>21004</a>(主推)</td><td>撞色压线A字长款半裙</td><td>288.0</td><td>7</td><td><img src='https://retry-image.oss-cn-zhangjiakou.aliyuncs.com/product/spu/a5736ae8-c682-404b-a8e6-0a99ec7666c1.jpg' width='150'/></td><td>0.12</td><td>0.0</td><td>17</td><td>2</td><td>8.5</td><td>[\\\"S\\\", \\\"M\\\"]</td><td>M</td><td><span style='color:red'>【主推】</span></td><td><a href='http://localhost:3000/bms/addOrderItem?order_no=20042400751&spu=21004&size=M'>添加</a></td></tr><tr><td><a href='https://console.wetry.shop/productDetail/1319'>20944</a>(候选)(主推)</td><td>黑色V领口显瘦打底衫</td><td>138.0</td><td>6</td><td><img src='https://retry-image.oss-cn-zhangjiakou.aliyuncs.com/product/spu/6448661b-7c62-4d11-8de2-5dd297cff657.png' width='150'/></td><td>0.29</td><td>0.32</td><td>58</td><td>19</td><td>3.05</td><td>[\\\"M\\\", \\\"均码\\\", \\\"F\\\"]</td><td>F</td><td><span style='color:red'>【手工挑选】【群体Top发盒】【主推】</span></td><td><a href='http://localhost:3000/bms/addOrderItem?order_no=20042400751&spu=20944&size=F'>添加</a></td></tr><tr><td><a href='https://console.wetry.shop/productDetail/110'>10190</a>(候选)</td><td>莫兰迪色平领口羊绒针织吊带</td><td>138.0</td><td>5</td><td><img src='https://image.wetry.shop/product/spu/10190/10190_a.jpg' width='150'/></td><td>0.26</td><td>0.3</td><td>50</td><td>10</td><td>5.0</td><td>[\\\"F\\\"]</td><td>F</td><td><span style='color:red'>【手工挑选】</span></td><td><a href='http://localhost:3000/bms/addOrderItem?order_no=20042400751&spu=10190&size=F'>添加</a></td></tr><tr><td><a href='https://console.wetry.shop/productDetail/40'>10108</a>(候选)</td><td>白色俏皮感长袖T恤</td><td>178.0</td><td>3</td><td><img src='https://image.wetry.shop/product/spu/10108/10108_a.jpg' width='150'/></td><td>0.22</td><td>0.22</td><td>36</td><td>9</td><td>4.0</td><td>[\\\"F\\\"]</td><td>F</td><td><span style='color:red'>【手工挑选】</span></td><td><a href='http://localhost:3000/bms/addOrderItem?order_no=20042400751&spu=10108&size=F'>添加</a></td></tr><tr><td><a href='https://console.wetry.shop/productDetail/113'>10193</a>(候选)</td><td>牛油果色平领口羊绒针织吊带</td><td>138.0</td><td>7</td><td><img src='https://image.wetry.shop/product/spu/10193/10193_a.jpg' width='150'/></td><td>0.37</td><td>0.5</td><td>41</td><td>8</td><td>5.13</td><td>[\\\"F\\\"]</td><td>F</td><td><span style='color:red'>【手工挑选】</span></td><td><a href='http://localhost:3000/bms/addOrderItem?order_no=20042400751&spu=10193&size=F'>添加</a></td></tr><tr><td><a href='https://console.wetry.shop/productDetail/1190'>20815</a>(候选)</td><td>纽扣款针织衫</td><td>178.0</td><td>6</td><td><img src='https://retry-image.oss-cn-zhangjiakou.aliyuncs.com/product/spu/41958952-4ce2-4e04-9836-c566303b2e05.jpg' width='150'/></td><td>0.33</td><td>0.5</td><td>9</td><td>2</td><td>4.5</td><td>[\\\"F\\\"]</td><td>F</td><td><span style='color:red'>【手工挑选】</span></td><td><a href='http://localhost:3000/bms/addOrderItem?order_no=20042400751&spu=20815&size=F'>添加</a></td></tr><tr><td><a href='https://console.wetry.shop/productDetail/441'>20070</a></td><td>超柔软细坑条修身打底衫</td><td>258.0</td><td>2</td><td><img src='https://retry-image.oss-cn-zhangjiakou.aliyuncs.com/product/spu/ea755dbf-f6c4-416c-b305-7413dba5b1a3.jpg' width='150'/></td><td>0.19</td><td>0.24</td><td>81</td><td>29</td><td>2.79</td><td>[\\\"F\\\"]</td><td>F</td><td><span style='color:red'>【群体Top发盒】</span></td><td><a href='http://localhost:3000/bms/addOrderItem?order_no=20042400751&spu=20070&size=F'>添加</a></td></tr><tr><td><a href='https://console.wetry.shop/productDetail/1440'>21065</a>(主推)</td><td>天丝羊毛高品质超薄防嗮面膜T恤</td><td>198.0</td><td>1</td><td><img src='https://retry-image.oss-cn-zhangjiakou.aliyuncs.com/product/spu/412e16d5-7e66-4d33-8f09-cfd3f4f29e17.jpg' width='150'/></td><td>0.27</td><td>0.33</td><td>15</td><td>3</td><td>5.0</td><td>[\\\"F\\\"]</td><td>F</td><td><span style='color:red'>【主推】</span></td><td><a href='http://localhost:3000/bms/addOrderItem?order_no=20042400751&spu=21065&size=F'>添加</a></td></tr><tr><td><a href='https://console.wetry.shop/productDetail/111'>10191</a></td><td>莫兰迪色平领口羊绒针织吊带</td><td>138.0</td><td>1</td><td><img src='https://image.wetry.shop/product/spu/10191/10191_a.jpg' width='150'/></td><td>0.23</td><td>0.42</td><td>71</td><td>12</td><td>5.92</td><td>[\\\"F\\\"]</td><td>F</td><td><span style='color:red'>【群体Top购买】</span></td><td><a href='http://localhost:3000/bms/addOrderItem?order_no=20042400751&spu=10191&size=F'>添加</a></td></tr><tr><td><a href='https://console.wetry.shop/productDetail/415'>20044</a></td><td>交叉围裹V领羊绒毛衣</td><td>498.0</td><td>1</td><td><img src='https://retry-image.oss-cn-zhangjiakou.aliyuncs.com/product/spu/e659b18a-87b6-4296-b076-8249c0fbbb64.jpg' width='150'/></td><td>0.19</td><td>0.22</td><td>62</td><td>23</td><td>2.7</td><td>[\\\"F\\\"]</td><td>F</td><td><span style='color:red'>【群体Top发盒】</span></td><td><a href='http://localhost:3000/bms/addOrderItem?order_no=20042400751&spu=20044&size=F'>添加</a></td></tr><tr><td><a href='https://console.wetry.shop/productDetail/1367'>20992</a>(候选)(主推)</td><td>灰色时髦运动短裤套装</td><td>348.0</td><td>8</td><td><img src='https://retry-image.oss-cn-zhangjiakou.aliyuncs.com/product/spu/6550192e-a75f-4a1a-803e-21a7ad630a5b.jpg' width='150'/></td><td>0.33</td><td>0.67</td><td>9</td><td>3</td><td>3.0</td><td>[\\\"S\\\", \\\"M\\\"]</td><td>S</td><td><span style='color:red'>【手工挑选】【主推】</span></td><td><a href='http://localhost:3000/bms/addOrderItem?order_no=20042400751&spu=20992&size=S'>添加</a></td></tr><tr><td><a href='https://console.wetry.shop/productDetail/1032'>20657</a>(候选)</td><td>浅灰色针织裙套装</td><td>538.0</td><td>7</td><td><img src='https://retry-image.oss-cn-zhangjiakou.aliyuncs.com/product/spu/c68c1506-ee9c-4e16-b7d1-ee1451b94c83.jpg' width='150'/></td><td>0.18</td><td>0.27</td><td>17</td><td>11</td><td>1.55</td><td>[\\\"S\\\", \\\"M\\\"]</td><td>S</td><td><span style='color:red'>【手工挑选】</span></td><td><a href='http://localhost:3000/bms/addOrderItem?order_no=20042400751&spu=20657&size=S'>添加</a></td></tr><tr><td><a href='https://console.wetry.shop/productDetail/1033'>20658</a></td><td>卡其色针织裙套装</td><td>538.0</td><td>5</td><td><img src='https://retry-image.oss-cn-zhangjiakou.aliyuncs.com/product/spu/d86ab798-2a25-4e66-b8cc-52bca080be6c.png' width='150'/></td><td>0.14</td><td>0.31</td><td>37</td><td>13</td><td>2.85</td><td>[\\\"S\\\", \\\"M\\\"]</td><td>S</td><td><span style='color:red'>【群体Top购买】</span></td><td><a href='http://localhost:3000/bms/addOrderItem?order_no=20042400751&spu=20658&size=S'>添加</a></td></tr><tr><td><a href='https://console.wetry.shop/productDetail/355'>20001</a></td><td>YESNO字母耳钉</td><td>58.0</td><td>7</td><td><img src='https://retry-image.oss-cn-zhangjiakou.aliyuncs.com/product/spu/d8c677b0-5ada-45e9-afd9-cfce6afe008a.png' width='150'/></td><td>0.27</td><td>0.29</td><td>146</td><td>34</td><td>4.29</td><td>[\\\"F\\\"]</td><td>F</td><td><span style='color:red'>【群体Top发盒】【群体Top购买】</span></td><td><a href='http://localhost:3000/bms/addOrderItem?order_no=20042400751&spu=20001&size=F'>添加</a></td></tr></table>\""
      ]
     },
     "metadata": {},
     "output_type": "display_data"
    }
   ],
   "source": [
    "table = list.map do |y|\n",
    "      ret = product_data[y[0]] + [  \"<span style='color:red'>#{(y[1]==1 ? \"【手工挑选】\" : \"\") + (y[2]==1 ? \"【群体Top发盒】\" : \"\")  + (y[3]==1 ? \"【群体Top购买】\" : \"\")  + (y[4]==1 ? \"【主推】\" : \"\")}</span>\"] \n",
    "       # 更新库存 和 尺码\n",
    "      ret[3] = ProductSpu.where(spu:y[0]).warehouse.where(status:1).count\n",
    "      ret[10] = ProductSpu.where(spu:y[0]).warehouse.where(status:1).product_sku.map do |x| x.size end \n",
    "      ret[11] = user.check_size(y[0])\n",
    "      ret << \"<a href='http://localhost:3000/bms/addOrderItem?order_no=#{order_no}&spu=#{y[0]}&size=#{ret[11]}'>添加</a>\"\n",
    "    \n",
    "   end\n",
    "table = table.filter do |x| x[3]>0 and x[11]!=\"\" end\n",
    "table = table.unshift([\"SPU\",\"Name\",\"Price\", \"Stock\",\"Image\",\"全体购买转化率\",\"组别购买转化率\",\"全部入盒=A\",\"组别入盒=B\",\"入盒比例=A/B\",\"尺码\",\"用户适合尺码\",\"推荐来源\"])\n",
    "\n",
    "nil\n",
    "puts_header \"推荐给用户的商品\"\n",
    "puts_table table"
   ]
  },
  {
   "cell_type": "code",
   "execution_count": 454,
   "metadata": {},
   "outputs": [
    {
     "data": {
      "text/html": [
       "<h1>用户搭配中商品列表</h1>"
      ],
      "text/plain": [
       "\"<h1>用户搭配中商品列表</h1>\""
      ]
     },
     "metadata": {},
     "output_type": "display_data"
    },
    {
     "data": {
      "text/html": [
       "<h1>spring,衬衫,牛仔裤,休闲裤</h1>"
      ],
      "text/plain": [
       "\"<h1>spring,衬衫,牛仔裤,休闲裤</h1>\""
      ]
     },
     "metadata": {},
     "output_type": "display_data"
    },
    {
     "data": {
      "text/html": [
       "<a href='https://console.wetry.shop/matchDetail/20042400751'>进入搭配</a>"
      ],
      "text/plain": [
       "\"<a href='https://console.wetry.shop/matchDetail/20042400751'>进入搭配</a>\""
      ]
     },
     "metadata": {},
     "output_type": "display_data"
    },
    {
     "name": "stdout",
     "output_type": "stream",
     "text": [
      "上身尺码[\"XS\", \"S\"]\n",
      "下身尺码[\"28\", \"27\"]\n",
      "下身尺码[\"L\", \"M\"]\n"
     ]
    },
    {
     "data": {
      "text/html": [
       "<table><tr><td>编号</td><td>尺码</td><td>SPU</td><td>Name</td><td>Price</td><td>Stock</td><td>Image</td><td>全体购买转化率</td><td>组别购买转化率</td><td>全部入盒=A</td><td>组别入盒=B</td><td>入盒比例=A/B</td><td>图片数量</td><td>QRCode</td><td></td></tr><tr><td>1</td><td>M</td><td><a href='https://console.wetry.shop/productDetail/1386'>21011</a>(候选)(主推)</td><td>百搭显瘦款褶皱深蓝色休闲裤</td><td>288.0</td><td>10</td><td><img src='https://retry-image.oss-cn-zhangjiakou.aliyuncs.com/product/spu/3e989251-3970-4ad4-bd73-a16b17feb844.jpg' width='150'/></td><td>0.19</td><td>0.27</td><td>80</td><td>22</td><td>3.64</td><td>2</td><td><img src='https://image.wetry.shop/product/spu/21011/productDetailPageWxCode.jpg' width='150'/></td><td><a href='http://localhost:3000/bms/deleteOrderItem?order_no=20042400751&spu=21011'>删除</a></td></tr><tr><td>2</td><td>M</td><td><a href='https://console.wetry.shop/productDetail/1107'>20732</a>(候选)(主推)</td><td>浅蓝色阔腿牛仔裤</td><td>328.0</td><td>16</td><td><img src='https://retry-image.oss-cn-zhangjiakou.aliyuncs.com/product/spu/ccdafc72-ee66-4cae-bada-e8c03b4c3fff.jpg' width='150'/></td><td>0.31</td><td>0.5</td><td>61</td><td>10</td><td>6.1</td><td>2</td><td><img src='https://image.wetry.shop/product/spu/20732/productDetailPageWxCode.jpg' width='150'/></td><td><a href='http://localhost:3000/bms/deleteOrderItem?order_no=20042400751&spu=20732'>删除</a></td></tr><tr><td>3</td><td>F</td><td><a href='https://console.wetry.shop/productDetail/1319'>20944</a>(候选)(主推)</td><td>黑色V领口显瘦打底衫</td><td>138.0</td><td>13</td><td><img src='https://retry-image.oss-cn-zhangjiakou.aliyuncs.com/product/spu/6448661b-7c62-4d11-8de2-5dd297cff657.png' width='150'/></td><td>0.29</td><td>0.32</td><td>58</td><td>19</td><td>3.05</td><td>1</td><td><img src='https://image.wetry.shop/product/spu/20944/productDetailPageWxCode.jpg' width='150'/></td><td><a href='http://localhost:3000/bms/deleteOrderItem?order_no=20042400751&spu=20944'>删除</a></td></tr><tr><td>4</td><td>F</td><td><a href='https://console.wetry.shop/productDetail/110'>10190</a>(候选)</td><td>莫兰迪色平领口羊绒针织吊带</td><td>138.0</td><td>7</td><td><img src='https://image.wetry.shop/product/spu/10190/10190_a.jpg' width='150'/></td><td>0.26</td><td>0.3</td><td>50</td><td>10</td><td>5.0</td><td>7</td><td><img src='https://image.wetry.shop/product/spu/10190/productDetailPageWxCode.jpg' width='150'/></td><td><a href='http://localhost:3000/bms/deleteOrderItem?order_no=20042400751&spu=10190'>删除</a></td></tr><tr><td>5</td><td>S</td><td><a href='https://console.wetry.shop/productDetail/1367'>20992</a>(候选)(主推)</td><td>灰色时髦运动短裤套装</td><td>348.0</td><td>11</td><td><img src='https://retry-image.oss-cn-zhangjiakou.aliyuncs.com/product/spu/6550192e-a75f-4a1a-803e-21a7ad630a5b.jpg' width='150'/></td><td>0.33</td><td>0.67</td><td>9</td><td>3</td><td>3.0</td><td>2</td><td><img src='https://image.wetry.shop/product/spu/20992/productDetailPageWxCode.jpg' width='150'/></td><td><a href='http://localhost:3000/bms/deleteOrderItem?order_no=20042400751&spu=20992'>删除</a></td></tr><tr><td>6</td><td>M</td><td><a href='https://console.wetry.shop/productDetail/1441'>21066</a>(主推)</td><td>复古浅蓝色牛仔长裤</td><td>268.0</td><td>5</td><td><img src='https://retry-image.oss-cn-zhangjiakou.aliyuncs.com/product/spu/d626aafd-7d17-4619-9bb2-54a89a59aa30.png' width='150'/></td><td>0.04</td><td>0.0</td><td>23</td><td>7</td><td>3.29</td><td>1</td><td><img src='https://image.wetry.shop/product/spu/21066/productDetailPageWxCode.jpg' width='150'/></td><td><a href='http://localhost:3000/bms/deleteOrderItem?order_no=20042400751&spu=21066'>删除</a></td></tr></table>"
      ],
      "text/plain": [
       "\"<table><tr><td>编号</td><td>尺码</td><td>SPU</td><td>Name</td><td>Price</td><td>Stock</td><td>Image</td><td>全体购买转化率</td><td>组别购买转化率</td><td>全部入盒=A</td><td>组别入盒=B</td><td>入盒比例=A/B</td><td>图片数量</td><td>QRCode</td><td></td></tr><tr><td>1</td><td>M</td><td><a href='https://console.wetry.shop/productDetail/1386'>21011</a>(候选)(主推)</td><td>百搭显瘦款褶皱深蓝色休闲裤</td><td>288.0</td><td>10</td><td><img src='https://retry-image.oss-cn-zhangjiakou.aliyuncs.com/product/spu/3e989251-3970-4ad4-bd73-a16b17feb844.jpg' width='150'/></td><td>0.19</td><td>0.27</td><td>80</td><td>22</td><td>3.64</td><td>2</td><td><img src='https://image.wetry.shop/product/spu/21011/productDetailPageWxCode.jpg' width='150'/></td><td><a href='http://localhost:3000/bms/deleteOrderItem?order_no=20042400751&spu=21011'>删除</a></td></tr><tr><td>2</td><td>M</td><td><a href='https://console.wetry.shop/productDetail/1107'>20732</a>(候选)(主推)</td><td>浅蓝色阔腿牛仔裤</td><td>328.0</td><td>16</td><td><img src='https://retry-image.oss-cn-zhangjiakou.aliyuncs.com/product/spu/ccdafc72-ee66-4cae-bada-e8c03b4c3fff.jpg' width='150'/></td><td>0.31</td><td>0.5</td><td>61</td><td>10</td><td>6.1</td><td>2</td><td><img src='https://image.wetry.shop/product/spu/20732/productDetailPageWxCode.jpg' width='150'/></td><td><a href='http://localhost:3000/bms/deleteOrderItem?order_no=20042400751&spu=20732'>删除</a></td></tr><tr><td>3</td><td>F</td><td><a href='https://console.wetry.shop/productDetail/1319'>20944</a>(候选)(主推)</td><td>黑色V领口显瘦打底衫</td><td>138.0</td><td>13</td><td><img src='https://retry-image.oss-cn-zhangjiakou.aliyuncs.com/product/spu/6448661b-7c62-4d11-8de2-5dd297cff657.png' width='150'/></td><td>0.29</td><td>0.32</td><td>58</td><td>19</td><td>3.05</td><td>1</td><td><img src='https://image.wetry.shop/product/spu/20944/productDetailPageWxCode.jpg' width='150'/></td><td><a href='http://localhost:3000/bms/deleteOrderItem?order_no=20042400751&spu=20944'>删除</a></td></tr><tr><td>4</td><td>F</td><td><a href='https://console.wetry.shop/productDetail/110'>10190</a>(候选)</td><td>莫兰迪色平领口羊绒针织吊带</td><td>138.0</td><td>7</td><td><img src='https://image.wetry.shop/product/spu/10190/10190_a.jpg' width='150'/></td><td>0.26</td><td>0.3</td><td>50</td><td>10</td><td>5.0</td><td>7</td><td><img src='https://image.wetry.shop/product/spu/10190/productDetailPageWxCode.jpg' width='150'/></td><td><a href='http://localhost:3000/bms/deleteOrderItem?order_no=20042400751&spu=10190'>删除</a></td></tr><tr><td>5</td><td>S</td><td><a href='https://console.wetry.shop/productDetail/1367'>20992</a>(候选)(主推)</td><td>灰色时髦运动短裤套装</td><td>348.0</td><td>11</td><td><img src='https://retry-image.oss-cn-zhangjiakou.aliyuncs.com/product/spu/6550192e-a75f-4a1a-803e-21a7ad630a5b.jpg' width='150'/></td><td>0.33</td><td>0.67</td><td>9</td><td>3</td><td>3.0</td><td>2</td><td><img src='https://image.wetry.shop/product/spu/20992/productDetailPageWxCode.jpg' width='150'/></td><td><a href='http://localhost:3000/bms/deleteOrderItem?order_no=20042400751&spu=20992'>删除</a></td></tr><tr><td>6</td><td>M</td><td><a href='https://console.wetry.shop/productDetail/1441'>21066</a>(主推)</td><td>复古浅蓝色牛仔长裤</td><td>268.0</td><td>5</td><td><img src='https://retry-image.oss-cn-zhangjiakou.aliyuncs.com/product/spu/d626aafd-7d17-4619-9bb2-54a89a59aa30.png' width='150'/></td><td>0.04</td><td>0.0</td><td>23</td><td>7</td><td>3.29</td><td>1</td><td><img src='https://image.wetry.shop/product/spu/21066/productDetailPageWxCode.jpg' width='150'/></td><td><a href='http://localhost:3000/bms/deleteOrderItem?order_no=20042400751&spu=21066'>删除</a></td></tr></table>\""
      ]
     },
     "metadata": {},
     "output_type": "display_data"
    }
   ],
   "source": [
    "# 用户搭配中商品列表\n",
    "\n",
    "puts_header \"用户搭配中商品列表\"\n",
    "puts_header Order.where(order_no:order_no).first.like_category\n",
    "puts_display \"<a href='https://console.wetry.shop/matchDetail/#{order_no}'>进入搭配</a>\"\n",
    "\n",
    "puts \"上身尺码#{user.up_size}\"\n",
    "puts \"下身尺码#{user.lo_size}\"\n",
    "puts \"下身尺码#{user.low_size}\"\n",
    "\n",
    "\n",
    "table = []\n",
    "\n",
    "index=0\n",
    "table = Order.where(order_no:order_no).item.map do |y|\n",
    "    index+=1\n",
    "     x=ProductSpu.where(spu:y.spu).first\n",
    "      ret = product_data[x.spu].clone\n",
    "      ret.unshift(y.size)\n",
    "      ret.unshift(index)\n",
    "      ret << \"<a href='http://localhost:3000/bms/deleteOrderItem?order_no=#{order_no}&spu=#{y.spu}'>删除</a>\"\n",
    "   end\n",
    "\n",
    "table = table.unshift([\"编号\",\"尺码\",\"SPU\",\"Name\",\"Price\", \"Stock\",\"Image\",\"全体购买转化率\",\"组别购买转化率\",\"全部入盒=A\",\"组别入盒=B\",\"入盒比例=A/B\",\"图片数量\",\"QRCode\"])\n",
    "\n",
    "puts_table table\n"
   ]
  },
  {
   "cell_type": "markdown",
   "metadata": {},
   "source": [
    "## puts_header \"搭配操作\"\n",
    "nil"
   ]
  },
  {
   "cell_type": "code",
   "execution_count": 292,
   "metadata": {},
   "outputs": [
    {
     "data": {
      "text/plain": [
       "{\"code\"=>0, \"message\"=>\"OK\", \"data\"=>1}"
      ]
     },
     "execution_count": 292,
     "metadata": {},
     "output_type": "execute_result"
    }
   ],
   "source": [
    "# 自动搭配推荐\n",
    "\n",
    "BMS.matchNextBox(order_no)"
   ]
  },
  {
   "cell_type": "code",
   "execution_count": 446,
   "metadata": {},
   "outputs": [
    {
     "name": "stdout",
     "output_type": "stream",
     "text": [
      "0\n"
     ]
    }
   ],
   "source": [
    "# 移除低购买转化率\n",
    "\n",
    "Order.where(order_no:order_no).item.product_spu.each do |x|\n",
    "    ret=product_data[x.spu]\n",
    "    BMS.deleteOrderItem(order_no,x.spu)  if (ret[6]<=0.15) or (ret[8]<=10)\n",
    "end\n",
    "puts Order.where(order_no:order_no).item.size"
   ]
  },
  {
   "cell_type": "code",
   "execution_count": 444,
   "metadata": {},
   "outputs": [
    {
     "data": {
      "text/plain": [
       "[]"
      ]
     },
     "execution_count": 444,
     "metadata": {},
     "output_type": "execute_result"
    }
   ],
   "source": [
    "#初始化 \n",
    "\n",
    "sku = []"
   ]
  },
  {
   "cell_type": "code",
   "execution_count": 450,
   "metadata": {},
   "outputs": [
    {
     "name": "stdout",
     "output_type": "stream",
     "text": [
      "3\n"
     ]
    }
   ],
   "source": [
    "# 开始迭代自动搭配\n",
    "\n",
    "BMS.matchNextBox(order_no) # 自动搭配推荐\n",
    "Order.where(order_no:order_no).item.product_spu.each do |x|\n",
    "    ret=product_data[x.spu]\n",
    "    BMS.deleteOrderItem(order_no,x.spu)  if (ret[6]<=0.15) or (ret[8]<=10)\n",
    "end\n",
    "sku += Order.where(order_no:order_no).item.pluck(:sku)\n",
    "sku.uniq!\n",
    "\n",
    "puts sku.size"
   ]
  },
  {
   "cell_type": "code",
   "execution_count": 451,
   "metadata": {},
   "outputs": [
    {
     "data": {
      "text/plain": [
       "[\"2071313\", \"2067613\", \"2101104\"]"
      ]
     },
     "execution_count": 451,
     "metadata": {},
     "output_type": "execute_result"
    }
   ],
   "source": [
    "# 把backlog放到订单里去\n",
    "\n",
    "Order.where(order_no:order_no).item.product_spu.each do |x|\n",
    "    BMS.deleteOrderItem(order_no,x.spu) \n",
    "end\n",
    "\n",
    "sku.each do |x| \n",
    "   item = ProductSku.where(sku:x).first\n",
    "   BMS.addOrderItem(order_no,item.spu,item.size)\n",
    "end"
   ]
  },
  {
   "cell_type": "code",
   "execution_count": 221,
   "metadata": {},
   "outputs": [
    {
     "data": {
      "text/plain": [
       "[{\"code\"=>0, \"message\"=>\"OK\", \"data\"=>\"\"}, {\"code\"=>0, \"message\"=>\"OK\", \"data\"=>\"\"}]"
      ]
     },
     "execution_count": 221,
     "metadata": {},
     "output_type": "execute_result"
    }
   ],
   "source": [
    "# 移除商品\n",
    "\n",
    "[20001,20714].map do |x|\n",
    "  BMS.deleteOrderItem(order_no,x)\n",
    "end"
   ]
  },
  {
   "cell_type": "code",
   "execution_count": 240,
   "metadata": {},
   "outputs": [
    {
     "name": "stdout",
     "output_type": "stream",
     "text": [
      "20032901842 10057 F\n",
      "{\"code\"=>0, \"message\"=>\"OK\", \"data\"=>\"\"}\n"
     ]
    },
    {
     "data": {
      "text/plain": [
       "[10057]"
      ]
     },
     "execution_count": 240,
     "metadata": {},
     "output_type": "execute_result"
    }
   ],
   "source": [
    "# 添加商品\n",
    "\n",
    "[10057,].each do |spu| \n",
    "    size = user.check_size(spu)\n",
    "    if size!=\"\" then\n",
    "        puts \"#{order_no} #{spu} #{size}\"\n",
    "        puts BMS.addOrderItem(order_no,spu,size)\n",
    "    end\n",
    "end\n"
   ]
  },
  {
   "cell_type": "code",
   "execution_count": 455,
   "metadata": {},
   "outputs": [
    {
     "data": {
      "text/plain": [
       "{\"code\"=>0, \"message\"=>\"OK\", \"data\"=>\"\"}"
      ]
     },
     "execution_count": 455,
     "metadata": {},
     "output_type": "execute_result"
    }
   ],
   "source": [
    "#完成搭配\n",
    "\n",
    "BMS.matchComplete(order_no)"
   ]
  },
  {
   "cell_type": "code",
   "execution_count": null,
   "metadata": {},
   "outputs": [],
   "source": [
    "#改期到今天天发货\n",
    "\n",
    "BMS.updateSendTime(order_no,(Time.now()),\"和用户沟通一致，发货时间提前\")"
   ]
  },
  {
   "cell_type": "code",
   "execution_count": 456,
   "metadata": {},
   "outputs": [
    {
     "data": {
      "text/plain": [
       "{\"code\"=>0, \"message\"=>\"OK\", \"data\"=>\"\"}"
      ]
     },
     "execution_count": 456,
     "metadata": {},
     "output_type": "execute_result"
    }
   ],
   "source": [
    "#改期到明天发货\n",
    "\n",
    "BMS.updateSendTime(order_no,(Time.now()+1.day),\"和用户沟通一致，发货时间提前\")"
   ]
  },
  {
   "cell_type": "code",
   "execution_count": null,
   "metadata": {},
   "outputs": [],
   "source": []
  },
  {
   "cell_type": "code",
   "execution_count": 466,
   "metadata": {},
   "outputs": [
    {
     "data": {
      "text/html": [
       "<table><tr><td>20042400717</td><td>12</td><td>2020-04-26 00:00:00 UTC</td></tr><tr><td>20042400714</td><td>25</td><td>2020-04-26 00:00:00 UTC</td></tr><tr><td>20042100604</td><td>12</td><td>2020-04-26 00:00:00 UTC</td></tr><tr><td>20032301651</td><td>12</td><td>2020-04-26 00:00:00 UTC</td></tr><tr><td>20041900523</td><td>12</td><td>2020-04-26 00:00:00 UTC</td></tr><tr><td>20041700468</td><td>12</td><td>2020-04-26 00:00:00 UTC</td></tr><tr><td>20041300360</td><td>15</td><td>2020-04-26 00:00:00 UTC</td></tr></table>"
      ],
      "text/plain": [
       "\"<table><tr><td>20042400717</td><td>12</td><td>2020-04-26 00:00:00 UTC</td></tr><tr><td>20042400714</td><td>25</td><td>2020-04-26 00:00:00 UTC</td></tr><tr><td>20042100604</td><td>12</td><td>2020-04-26 00:00:00 UTC</td></tr><tr><td>20032301651</td><td>12</td><td>2020-04-26 00:00:00 UTC</td></tr><tr><td>20041900523</td><td>12</td><td>2020-04-26 00:00:00 UTC</td></tr><tr><td>20041700468</td><td>12</td><td>2020-04-26 00:00:00 UTC</td></tr><tr><td>20041300360</td><td>15</td><td>2020-04-26 00:00:00 UTC</td></tr></table>\""
      ]
     },
     "metadata": {},
     "output_type": "display_data"
    }
   ],
   "source": [
    "phone_list = %w[13817293590   18114000135 13524064600 15171348019  18850158804 18900371613 16604113197]\n",
    "puts_table (phone_list.map do |x| User.where(phone:x).orders.product.keep.last end.map do |x| [x.order_no,x.status,x.expect_day] end)"
   ]
  },
  {
   "cell_type": "code",
   "execution_count": 467,
   "metadata": {},
   "outputs": [
    {
     "data": {
      "text/plain": [
       "[\"20042400717\", \"20042400714\", \"20042100604\", \"20032301651\", \"20041900523\", \"20041700468\", \"20041300360\"]"
      ]
     },
     "execution_count": 467,
     "metadata": {},
     "output_type": "execute_result"
    }
   ],
   "source": [
    "(phone_list.map do |x| User.where(phone:x).orders.product.keep.last end.map do |x| x.order_no end)"
   ]
  },
  {
   "cell_type": "code",
   "execution_count": null,
   "metadata": {},
   "outputs": [],
   "source": []
  }
 ],
 "metadata": {
  "kernelspec": {
   "display_name": "Ruby 2.7.0",
   "language": "ruby",
   "name": "ruby"
  },
  "language_info": {
   "file_extension": ".rb",
   "mimetype": "application/x-ruby",
   "name": "ruby",
   "version": "2.7.0"
  }
 },
 "nbformat": 4,
 "nbformat_minor": 4
}
