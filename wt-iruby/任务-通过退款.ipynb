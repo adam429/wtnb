{
 "cells": [
  {
   "cell_type": "code",
   "execution_count": 5,
   "metadata": {},
   "outputs": [
    {
     "data": {
      "text/html": [
       "<script src='https://unpkg.com/vue/dist/vue.js'></script>\n",
       "<script src='https://unpkg.com/chart.js@2.9.3/dist/Chart.bundle.js'></script>\n",
       "<script src='https://unpkg.com/vue-chartkick@0.5.1/dist/vue-chartkick.js'></script>\n",
       "<script src='https://unpkg.com/element-ui/lib/index.js'></script>\n"
      ],
      "text/plain": [
       "\"<script src='https://unpkg.com/vue/dist/vue.js'></script>\\n<script src='https://unpkg.com/chart.js@2.9.3/dist/Chart.bundle.js'></script>\\n<script src='https://unpkg.com/vue-chartkick@0.5.1/dist/vue-chartkick.js'></script>\\n<script src='https://unpkg.com/element-ui/lib/index.js'></script>\\n\""
      ]
     },
     "metadata": {},
     "output_type": "display_data"
    },
    {
     "data": {
      "text/html": [
       "<link rel='stylesheet' href='https://unpkg.com/element-ui/lib/theme-chalk/index.css'>\n"
      ],
      "text/plain": [
       "\"<link rel='stylesheet' href='https://unpkg.com/element-ui/lib/theme-chalk/index.css'>\\n\""
      ]
     },
     "metadata": {},
     "output_type": "display_data"
    }
   ],
   "source": [
    "## 设置数据库 & 定义数据模型\n",
    "    \n",
    "load './wtnb/wtnb.rb'\n",
    "load './wtnb/wtmodel.rb'\n",
    "load './wtnb/wtbms.rb'\n",
    "\n",
    "\n",
    "IRuby.display IRuby.html(include_js)\n",
    "IRuby.display IRuby.html(include_css)\n",
    "\n",
    "ActiveRecord::Base.logger = nil\n",
    "\n",
    "nil\n",
    "\n",
    "connect_db(\"online\")\n",
    "enable_cache()"
   ]
  },
  {
   "cell_type": "code",
   "execution_count": 9,
   "metadata": {},
   "outputs": [],
   "source": [
    "ret = BMS.api_call(\"https://console.wetry.shop/console/pay/getPayRefundList\",{\"currentPage\": 1, \"pageSize\": 50})\n",
    "nil"
   ]
  },
  {
   "cell_type": "code",
   "execution_count": 33,
   "metadata": {},
   "outputs": [
    {
     "name": "stdout",
     "output_type": "stream",
     "text": [
      "{\"code\"=>2, \"message\"=>\"微信退款失败，失败原因:\", \"data\"=>\"\"}\n",
      "{\"code\"=>0, \"message\"=>\"OK\", \"data\"=>\"\"}\n",
      "{\"code\"=>0, \"message\"=>\"OK\", \"data\"=>\"\"}\n",
      "{\"code\"=>0, \"message\"=>\"OK\", \"data\"=>\"\"}\n",
      "{\"code\"=>0, \"message\"=>\"OK\", \"data\"=>\"\"}\n",
      "{\"code\"=>0, \"message\"=>\"OK\", \"data\"=>\"\"}\n",
      "{\"code\"=>0, \"message\"=>\"OK\", \"data\"=>\"\"}\n"
     ]
    },
    {
     "data": {
      "text/plain": [
       "[nil, nil, nil, nil, nil, nil, nil]"
      ]
     },
     "execution_count": 33,
     "metadata": {},
     "output_type": "execute_result"
    }
   ],
   "source": [
    "ret[\"data\"][\"list\"].filter {|x| x[\"statusName\"].match(/待审核/)}.pmap do |x|\n",
    "    puts BMS.api_call(\"https://console.wetry.shop/console/pay/reviewRefund\",{\"refundId\": \"#{x[\"id\"]}\", \"type\": 1, \"remark\": \"\"})\n",
    "end"
   ]
  },
  {
   "cell_type": "code",
   "execution_count": null,
   "metadata": {},
   "outputs": [],
   "source": []
  }
 ],
 "metadata": {
  "kernelspec": {
   "display_name": "Ruby 2.7.0",
   "language": "ruby",
   "name": "ruby"
  },
  "language_info": {
   "file_extension": ".rb",
   "mimetype": "application/x-ruby",
   "name": "ruby",
   "version": "2.7.0"
  }
 },
 "nbformat": 4,
 "nbformat_minor": 4
}
