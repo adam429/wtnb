{
 "cells": [
  {
   "cell_type": "code",
   "execution_count": 24,
   "metadata": {},
   "outputs": [
    {
     "data": {
      "text/html": [
       "<script src='https://unpkg.com/vue/dist/vue.js'></script>\n",
       "<script src='https://unpkg.com/chart.js@2.9.3/dist/Chart.bundle.js'></script>\n",
       "<script src='https://unpkg.com/vue-chartkick@0.5.1/dist/vue-chartkick.js'></script>\n",
       "<script src='https://unpkg.com/element-ui/lib/index.js'></script>\n"
      ],
      "text/plain": [
       "\"<script src='https://unpkg.com/vue/dist/vue.js'></script>\\n<script src='https://unpkg.com/chart.js@2.9.3/dist/Chart.bundle.js'></script>\\n<script src='https://unpkg.com/vue-chartkick@0.5.1/dist/vue-chartkick.js'></script>\\n<script src='https://unpkg.com/element-ui/lib/index.js'></script>\\n\""
      ]
     },
     "metadata": {},
     "output_type": "display_data"
    },
    {
     "data": {
      "text/html": [
       "<link rel='stylesheet' href='https://unpkg.com/element-ui/lib/theme-chalk/index.css'>\n"
      ],
      "text/plain": [
       "\"<link rel='stylesheet' href='https://unpkg.com/element-ui/lib/theme-chalk/index.css'>\\n\""
      ]
     },
     "metadata": {},
     "output_type": "display_data"
    }
   ],
   "source": [
    "## 设置数据库 & 定义数据模型\n",
    "    \n",
    "load './wtnb/wtnb.rb'\n",
    "load './wtnb/wtmodel.rb'\n",
    "\n",
    "IRuby.display IRuby.html(include_js)\n",
    "IRuby.display IRuby.html(include_css)\n",
    "nil"
   ]
  },
  {
   "cell_type": "code",
   "execution_count": 23,
   "metadata": {},
   "outputs": [
    {
     "data": {
      "text/plain": [
       "\"\""
      ]
     },
     "execution_count": 23,
     "metadata": {},
     "output_type": "execute_result"
    }
   ],
   "source": [
    "# x=User.find(455)\n",
    "# puts_to_file(render(\"用户档案\",{:user=>User.includes(:orders).find(x.id) }),\"output/user/#{x.id}.html\")\n",
    "# `cp -r output/. ../public/`"
   ]
  },
  {
   "cell_type": "code",
   "execution_count": 25,
   "metadata": {},
   "outputs": [
    {
     "data": {
      "text/plain": [
       "\"\""
      ]
     },
     "execution_count": 25,
     "metadata": {},
     "output_type": "execute_result"
    }
   ],
   "source": [
    "# 生成静态文件\n",
    "\n",
    "group[\"已育\"].each {|x| \n",
    "   puts_to_file(render(\"用户档案\",{:user=>User.includes(:orders).find(x.id) }),\"output/user/#{x.id}.html\")\n",
    "}\n",
    "\n",
    "group[\"其他\"].each {|x| \n",
    "   puts_to_file(render(\"用户档案\",{:user=>User.includes(:orders).find(x.id) }),\"output/user/#{x.id}.html\")\n",
    "}\n",
    "\n",
    "`cp -r output/. ../public/`"
   ]
  },
  {
   "cell_type": "code",
   "execution_count": 17,
   "metadata": {},
   "outputs": [
    {
     "data": {
      "text/html": [
       "<h1>左右浏览网页</h1>"
      ],
      "text/plain": [
       "\"<h1>左右浏览网页</h1>\""
      ]
     },
     "metadata": {},
     "output_type": "display_data"
    },
    {
     "data": {
      "text/html": [
       "\n",
       "<div id=\"app_EP9VjFbhOE\">\n",
       "<el-container>\n",
       "  <el-container>\n",
       "    <el-header>\n",
       "      <el-row :gutter=\"24\">\n",
       "        <el-col :span=\"4\">\n",
       "          <el-button icon=\"el-icon-caret-left\" circle v-on:click=\"left\"></el-button>\n",
       "          <el-button icon=\"el-icon-caret-right\" circle v-on:click=\"right\"></el-button>\n",
       "        </el-col>\n",
       "\n",
       "        <el-col :span=\"20\">\n",
       "          <h1>[{{cur_url}}] {{ url[cur_url] }}</h1>\n",
       "        </el-col>\n",
       "      </el-row>\n",
       "    </el-header>\n",
       "    <el-main>\n",
       "      <el-divider></el-divider>\n",
       "      <iframe v-bind:src=\"url[cur_url]\" width=\"1400\" height=\"800\"></iframe>\n",
       "    </el-main>\n",
       "\n",
       "  </el-container>\n",
       "</el-container>\n",
       "</div>\n",
       "\n",
       "\n",
       "\n",
       "<script>\n",
       "  Vue.use(VueChartkick.use(Chart))\n",
       "\n",
       "  app = new Vue({\n",
       "    el: '#app_EP9VjFbhOE',\n",
       "    data: {\n",
       "      url: [\"http://localhost:3000/user/115\",\"http://localhost:3000/user/144\",\"http://localhost:3000/user/145\",\"http://localhost:3000/user/147\",\"http://localhost:3000/user/231\",\"http://localhost:3000/user/241\",\"http://localhost:3000/user/264\",\"http://localhost:3000/user/278\",\"http://localhost:3000/user/337\",\"http://localhost:3000/user/342\",\"http://localhost:3000/user/370\",\"http://localhost:3000/user/455\",\"http://localhost:3000/user/474\",\"http://localhost:3000/user/515\",\"http://localhost:3000/user/516\",\"http://localhost:3000/user/529\",\"http://localhost:3000/user/547\",\"http://localhost:3000/user/557\",\"http://localhost:3000/user/575\",\"http://localhost:3000/user/583\",\"http://localhost:3000/user/630\",\"http://localhost:3000/user/632\",\"http://localhost:3000/user/633\",\"http://localhost:3000/user/655\",\"http://localhost:3000/user/715\",\"http://localhost:3000/user/727\",\"http://localhost:3000/user/783\",\"http://localhost:3000/user/786\",\"http://localhost:3000/user/801\",\"http://localhost:3000/user/828\",\"http://localhost:3000/user/831\",\"http://localhost:3000/user/838\",\"http://localhost:3000/user/843\",\"http://localhost:3000/user/855\",\"http://localhost:3000/user/858\",\"http://localhost:3000/user/861\",\"http://localhost:3000/user/877\",\"http://localhost:3000/user/927\",\"http://localhost:3000/user/978\",\"http://localhost:3000/user/1013\",\"http://localhost:3000/user/1029\",\"http://localhost:3000/user/1052\",\"http://localhost:3000/user/1073\",\"http://localhost:3000/user/1080\",\"http://localhost:3000/user/1103\",\"http://localhost:3000/user/1106\",\"http://localhost:3000/user/1168\",\"http://localhost:3000/user/1169\",\"http://localhost:3000/user/1171\",\"http://localhost:3000/user/1173\",\"http://localhost:3000/user/1201\",\"http://localhost:3000/user/1231\",\"http://localhost:3000/user/1305\",\"http://localhost:3000/user/1347\",\"http://localhost:3000/user/1368\",\"http://localhost:3000/user/1437\",\"http://localhost:3000/user/1497\",\"http://localhost:3000/user/1586\",\"http://localhost:3000/user/1624\",\"http://localhost:3000/user/1724\",\"http://localhost:3000/user/1732\",\"http://localhost:3000/user/1800\",\"http://localhost:3000/user/1817\",\"http://localhost:3000/user/1851\",\"http://localhost:3000/user/1872\",\"http://localhost:3000/user/1892\",\"http://localhost:3000/user/1948\",\"http://localhost:3000/user/1961\",\"http://localhost:3000/user/2005\",\"http://localhost:3000/user/2095\",\"http://localhost:3000/user/2097\",\"http://localhost:3000/user/2125\",\"http://localhost:3000/user/2175\",\"http://localhost:3000/user/2176\",\"http://localhost:3000/user/2178\",\"http://localhost:3000/user/2189\",\"http://localhost:3000/user/2194\",\"http://localhost:3000/user/2200\",\"http://localhost:3000/user/2202\",\"http://localhost:3000/user/2206\",\"http://localhost:3000/user/2214\",\"http://localhost:3000/user/2228\",\"http://localhost:3000/user/2230\",\"http://localhost:3000/user/2233\",\"http://localhost:3000/user/2240\",\"http://localhost:3000/user/2241\",\"http://localhost:3000/user/2243\",\"http://localhost:3000/user/2249\",\"http://localhost:3000/user/2250\",\"http://localhost:3000/user/2252\",\"http://localhost:3000/user/2262\",\"http://localhost:3000/user/2291\",\"http://localhost:3000/user/2298\",\"http://localhost:3000/user/2306\",\"http://localhost:3000/user/2315\",\"http://localhost:3000/user/2316\",\"http://localhost:3000/user/2323\",\"http://localhost:3000/user/2326\",\"http://localhost:3000/user/2437\",\"http://localhost:3000/user/2445\",\"http://localhost:3000/user/2449\",\"http://localhost:3000/user/2461\",\"http://localhost:3000/user/2470\",\"http://localhost:3000/user/2481\",\"http://localhost:3000/user/2482\",\"http://localhost:3000/user/2507\",\"http://localhost:3000/user/2523\",\"http://localhost:3000/user/2528\",\"http://localhost:3000/user/2572\",\"http://localhost:3000/user/2600\",\"http://localhost:3000/user/2607\",\"http://localhost:3000/user/2615\",\"http://localhost:3000/user/2622\",\"http://localhost:3000/user/2627\",\"http://localhost:3000/user/2736\",\"http://localhost:3000/user/2765\",\"http://localhost:3000/user/2801\",\"http://localhost:3000/user/2803\",\"http://localhost:3000/user/2835\",\"http://localhost:3000/user/2843\",\"http://localhost:3000/user/2873\",\"http://localhost:3000/user/2875\",\"http://localhost:3000/user/2935\",\"http://localhost:3000/user/2944\",\"http://localhost:3000/user/2969\",\"http://localhost:3000/user/2972\",\"http://localhost:3000/user/2974\",\"http://localhost:3000/user/2982\",\"http://localhost:3000/user/3002\",\"http://localhost:3000/user/3024\",\"http://localhost:3000/user/3096\",\"http://localhost:3000/user/3124\",\"http://localhost:3000/user/3128\",\"http://localhost:3000/user/3134\",\"http://localhost:3000/user/3137\",\"http://localhost:3000/user/3141\",\"http://localhost:3000/user/3152\",\"http://localhost:3000/user/3154\",\"http://localhost:3000/user/3171\",\"http://localhost:3000/user/3181\",\"http://localhost:3000/user/3185\",\"http://localhost:3000/user/3193\",\"http://localhost:3000/user/3231\",\"http://localhost:3000/user/3244\",\"http://localhost:3000/user/3250\",\"http://localhost:3000/user/3273\",\"http://localhost:3000/user/3290\",\"http://localhost:3000/user/3293\",\"http://localhost:3000/user/3315\",\"http://localhost:3000/user/3319\",\"http://localhost:3000/user/3347\",\"http://localhost:3000/user/3350\",\"http://localhost:3000/user/3357\",\"http://localhost:3000/user/3369\",\"http://localhost:3000/user/3391\",\"http://localhost:3000/user/3402\",\"http://localhost:3000/user/3421\",\"http://localhost:3000/user/3437\",\"http://localhost:3000/user/3440\",\"http://localhost:3000/user/3447\",\"http://localhost:3000/user/3456\",\"http://localhost:3000/user/3459\",\"http://localhost:3000/user/3465\",\"http://localhost:3000/user/3468\",\"http://localhost:3000/user/3470\",\"http://localhost:3000/user/3541\",\"http://localhost:3000/user/3552\",\"http://localhost:3000/user/3556\",\"http://localhost:3000/user/3565\",\"http://localhost:3000/user/3577\",\"http://localhost:3000/user/3605\",\"http://localhost:3000/user/3617\",\"http://localhost:3000/user/3621\",\"http://localhost:3000/user/3624\",\"http://localhost:3000/user/3630\",\"http://localhost:3000/user/3651\",\"http://localhost:3000/user/3676\",\"http://localhost:3000/user/3699\",\"http://localhost:3000/user/3702\",\"http://localhost:3000/user/3711\",\"http://localhost:3000/user/3721\",\"http://localhost:3000/user/3735\",\"http://localhost:3000/user/3739\",\"http://localhost:3000/user/3763\",\"http://localhost:3000/user/3788\",\"http://localhost:3000/user/3792\",\"http://localhost:3000/user/3810\",\"http://localhost:3000/user/3842\",\"http://localhost:3000/user/3865\",\"http://localhost:3000/user/3874\",\"http://localhost:3000/user/3886\",\"http://localhost:3000/user/3903\",\"http://localhost:3000/user/3905\",\"http://localhost:3000/user/3907\",\"http://localhost:3000/user/3911\",\"http://localhost:3000/user/3937\",\"http://localhost:3000/user/3941\",\"http://localhost:3000/user/3974\",\"http://localhost:3000/user/4008\",\"http://localhost:3000/user/4037\",\"http://localhost:3000/user/4051\",\"http://localhost:3000/user/4059\",\"http://localhost:3000/user/4062\",\"http://localhost:3000/user/4065\",\"http://localhost:3000/user/4081\",\"http://localhost:3000/user/4093\",\"http://localhost:3000/user/4105\",\"http://localhost:3000/user/4111\",\"http://localhost:3000/user/4115\",\"http://localhost:3000/user/4121\",\"http://localhost:3000/user/4130\",\"http://localhost:3000/user/4131\",\"http://localhost:3000/user/4142\",\"http://localhost:3000/user/4151\",\"http://localhost:3000/user/4176\",\"http://localhost:3000/user/4180\",\"http://localhost:3000/user/4203\",\"http://localhost:3000/user/4225\",\"http://localhost:3000/user/4226\",\"http://localhost:3000/user/4230\",\"http://localhost:3000/user/4242\",\"http://localhost:3000/user/4259\",\"http://localhost:3000/user/4262\",\"http://localhost:3000/user/4293\",\"http://localhost:3000/user/4306\",\"http://localhost:3000/user/4318\",\"http://localhost:3000/user/4322\",\"http://localhost:3000/user/4327\",\"http://localhost:3000/user/4335\",\"http://localhost:3000/user/4338\",\"http://localhost:3000/user/4342\",\"http://localhost:3000/user/4349\",\"http://localhost:3000/user/4355\",\"http://localhost:3000/user/4359\",\"http://localhost:3000/user/4369\",\"http://localhost:3000/user/4375\",\"http://localhost:3000/user/4390\",\"http://localhost:3000/user/4393\",\"http://localhost:3000/user/4408\",\"http://localhost:3000/user/4421\",\"http://localhost:3000/user/4431\",\"http://localhost:3000/user/4440\",\"http://localhost:3000/user/4443\",\"http://localhost:3000/user/4463\",\"http://localhost:3000/user/4485\",\"http://localhost:3000/user/4500\",\"http://localhost:3000/user/4504\",\"http://localhost:3000/user/4507\",\"http://localhost:3000/user/4525\",\"http://localhost:3000/user/4529\",\"http://localhost:3000/user/4553\",\"http://localhost:3000/user/4562\",\"http://localhost:3000/user/4622\",\"http://localhost:3000/user/4629\",\"http://localhost:3000/user/4644\",\"http://localhost:3000/user/4687\",\"http://localhost:3000/user/4691\",\"http://localhost:3000/user/4708\",\"http://localhost:3000/user/4720\",\"http://localhost:3000/user/4725\",\"http://localhost:3000/user/4750\",\"http://localhost:3000/user/4766\",\"http://localhost:3000/user/4767\",\"http://localhost:3000/user/4797\",\"http://localhost:3000/user/4800\",\"http://localhost:3000/user/4803\",\"http://localhost:3000/user/4816\",\"http://localhost:3000/user/4823\",\"http://localhost:3000/user/4843\",\"http://localhost:3000/user/4852\",\"http://localhost:3000/user/4860\",\"http://localhost:3000/user/4862\",\"http://localhost:3000/user/4870\",\"http://localhost:3000/user/4888\",\"http://localhost:3000/user/4890\",\"http://localhost:3000/user/4907\",\"http://localhost:3000/user/4925\",\"http://localhost:3000/user/4927\",\"http://localhost:3000/user/4942\",\"http://localhost:3000/user/4943\",\"http://localhost:3000/user/4949\",\"http://localhost:3000/user/5004\",\"http://localhost:3000/user/5057\",\"http://localhost:3000/user/5066\",\"http://localhost:3000/user/5089\",\"http://localhost:3000/user/5122\",\"http://localhost:3000/user/5139\",\"http://localhost:3000/user/5154\",\"http://localhost:3000/user/5219\",\"http://localhost:3000/user/5230\",\"http://localhost:3000/user/5264\",\"http://localhost:3000/user/5329\",\"http://localhost:3000/user/5347\",\"http://localhost:3000/user/5353\",\"http://localhost:3000/user/5361\",\"http://localhost:3000/user/5387\",\"http://localhost:3000/user/5393\",\"http://localhost:3000/user/5449\",\"http://localhost:3000/user/5454\",\"http://localhost:3000/user/5459\",\"http://localhost:3000/user/5482\",\"http://localhost:3000/user/5484\",\"http://localhost:3000/user/5507\",\"http://localhost:3000/user/5539\",\"http://localhost:3000/user/5566\",\"http://localhost:3000/user/5575\",\"http://localhost:3000/user/5577\",\"http://localhost:3000/user/5584\",\"http://localhost:3000/user/5588\",\"http://localhost:3000/user/5594\",\"http://localhost:3000/user/5599\",\"http://localhost:3000/user/5601\",\"http://localhost:3000/user/5640\",\"http://localhost:3000/user/5670\",\"http://localhost:3000/user/5682\",\"http://localhost:3000/user/5705\",\"http://localhost:3000/user/5727\",\"http://localhost:3000/user/5743\",\"http://localhost:3000/user/5767\",\"http://localhost:3000/user/5788\",\"http://localhost:3000/user/5802\",\"http://localhost:3000/user/5812\",\"http://localhost:3000/user/5817\",\"http://localhost:3000/user/5822\",\"http://localhost:3000/user/5841\",\"http://localhost:3000/user/5863\",\"http://localhost:3000/user/5864\",\"http://localhost:3000/user/5890\",\"http://localhost:3000/user/5899\",\"http://localhost:3000/user/5900\",\"http://localhost:3000/user/5922\",\"http://localhost:3000/user/5940\",\"http://localhost:3000/user/5956\",\"http://localhost:3000/user/5965\",\"http://localhost:3000/user/5971\",\"http://localhost:3000/user/5978\",\"http://localhost:3000/user/5982\",\"http://localhost:3000/user/5983\",\"http://localhost:3000/user/5999\",\"http://localhost:3000/user/6009\",\"http://localhost:3000/user/6012\",\"http://localhost:3000/user/6017\",\"http://localhost:3000/user/6027\",\"http://localhost:3000/user/6030\",\"http://localhost:3000/user/6034\",\"http://localhost:3000/user/6036\",\"http://localhost:3000/user/6066\",\"http://localhost:3000/user/6069\",\"http://localhost:3000/user/6087\",\"http://localhost:3000/user/6094\",\"http://localhost:3000/user/6106\",\"http://localhost:3000/user/6111\",\"http://localhost:3000/user/6143\",\"http://localhost:3000/user/6146\",\"http://localhost:3000/user/6161\",\"http://localhost:3000/user/6164\",\"http://localhost:3000/user/6170\",\"http://localhost:3000/user/6172\",\"http://localhost:3000/user/6180\",\"http://localhost:3000/user/6181\",\"http://localhost:3000/user/6188\",\"http://localhost:3000/user/6189\",\"http://localhost:3000/user/6211\",\"http://localhost:3000/user/6219\",\"http://localhost:3000/user/6251\",\"http://localhost:3000/user/6267\",\"http://localhost:3000/user/6303\",\"http://localhost:3000/user/6317\",\"http://localhost:3000/user/6342\",\"http://localhost:3000/user/6346\",\"http://localhost:3000/user/6366\",\"http://localhost:3000/user/6401\",\"http://localhost:3000/user/6412\",\"http://localhost:3000/user/6473\",\"http://localhost:3000/user/6479\",\"http://localhost:3000/user/6487\",\"http://localhost:3000/user/6502\",\"http://localhost:3000/user/6558\",\"http://localhost:3000/user/6587\",\"http://localhost:3000/user/6609\",\"http://localhost:3000/user/6647\",\"http://localhost:3000/user/6664\",\"http://localhost:3000/user/6687\",\"http://localhost:3000/user/6723\",\"http://localhost:3000/user/6751\",\"http://localhost:3000/user/6760\",\"http://localhost:3000/user/6770\",\"http://localhost:3000/user/6833\",\"http://localhost:3000/user/6870\",\"http://localhost:3000/user/6920\",\"http://localhost:3000/user/6934\",\"http://localhost:3000/user/6936\",\"http://localhost:3000/user/6966\",\"http://localhost:3000/user/6997\",\"http://localhost:3000/user/7015\",\"http://localhost:3000/user/7025\",\"http://localhost:3000/user/7060\",\"http://localhost:3000/user/7063\",\"http://localhost:3000/user/7084\",\"http://localhost:3000/user/7113\",\"http://localhost:3000/user/7116\",\"http://localhost:3000/user/7117\",\"http://localhost:3000/user/7136\",\"http://localhost:3000/user/7140\",\"http://localhost:3000/user/7147\",\"http://localhost:3000/user/7168\",\"http://localhost:3000/user/7172\",\"http://localhost:3000/user/7212\",\"http://localhost:3000/user/7250\",\"http://localhost:3000/user/7288\",\"http://localhost:3000/user/7295\",\"http://localhost:3000/user/7303\",\"http://localhost:3000/user/7313\",\"http://localhost:3000/user/7321\",\"http://localhost:3000/user/7333\",\"http://localhost:3000/user/7387\",\"http://localhost:3000/user/7404\",\"http://localhost:3000/user/7420\",\"http://localhost:3000/user/7426\",\"http://localhost:3000/user/7428\",\"http://localhost:3000/user/7467\",\"http://localhost:3000/user/7485\",\"http://localhost:3000/user/7545\",\"http://localhost:3000/user/7578\",\"http://localhost:3000/user/7588\",\"http://localhost:3000/user/7642\",\"http://localhost:3000/user/7678\",\"http://localhost:3000/user/7721\",\"http://localhost:3000/user/7729\",\"http://localhost:3000/user/7739\",\"http://localhost:3000/user/7751\",\"http://localhost:3000/user/7753\",\"http://localhost:3000/user/7778\",\"http://localhost:3000/user/7807\",\"http://localhost:3000/user/7822\",\"http://localhost:3000/user/7867\",\"http://localhost:3000/user/7901\",\"http://localhost:3000/user/7950\",\"http://localhost:3000/user/7953\",\"http://localhost:3000/user/7955\",\"http://localhost:3000/user/7957\",\"http://localhost:3000/user/7974\",\"http://localhost:3000/user/7976\",\"http://localhost:3000/user/8006\",\"http://localhost:3000/user/8017\",\"http://localhost:3000/user/8022\",\"http://localhost:3000/user/8032\",\"http://localhost:3000/user/8036\",\"http://localhost:3000/user/8041\",\"http://localhost:3000/user/8046\",\"http://localhost:3000/user/8087\",\"http://localhost:3000/user/8090\",\"http://localhost:3000/user/8118\",\"http://localhost:3000/user/8163\",\"http://localhost:3000/user/8229\",\"http://localhost:3000/user/8311\",\"http://localhost:3000/user/8330\",\"http://localhost:3000/user/8360\",\"http://localhost:3000/user/8379\",\"http://localhost:3000/user/8394\",\"http://localhost:3000/user/8473\",\"http://localhost:3000/user/8480\",\"http://localhost:3000/user/8482\",\"http://localhost:3000/user/8502\",\"http://localhost:3000/user/8530\",\"http://localhost:3000/user/8581\",\"http://localhost:3000/user/8587\",\"http://localhost:3000/user/8664\",\"http://localhost:3000/user/8672\",\"http://localhost:3000/user/8708\",\"http://localhost:3000/user/8718\",\"http://localhost:3000/user/8724\",\"http://localhost:3000/user/8734\",\"http://localhost:3000/user/8739\",\"http://localhost:3000/user/8749\",\"http://localhost:3000/user/8768\",\"http://localhost:3000/user/8810\",\"http://localhost:3000/user/8835\",\"http://localhost:3000/user/8844\",\"http://localhost:3000/user/8850\",\"http://localhost:3000/user/8880\",\"http://localhost:3000/user/8962\",\"http://localhost:3000/user/8971\",\"http://localhost:3000/user/8972\",\"http://localhost:3000/user/9010\",\"http://localhost:3000/user/9017\",\"http://localhost:3000/user/9033\",\"http://localhost:3000/user/9090\",\"http://localhost:3000/user/9109\",\"http://localhost:3000/user/9125\",\"http://localhost:3000/user/9177\",\"http://localhost:3000/user/9179\",\"http://localhost:3000/user/9202\",\"http://localhost:3000/user/9204\",\"http://localhost:3000/user/9209\",\"http://localhost:3000/user/9226\",\"http://localhost:3000/user/9229\",\"http://localhost:3000/user/9235\",\"http://localhost:3000/user/9250\",\"http://localhost:3000/user/9256\",\"http://localhost:3000/user/9284\",\"http://localhost:3000/user/9300\",\"http://localhost:3000/user/9306\",\"http://localhost:3000/user/9323\",\"http://localhost:3000/user/9349\",\"http://localhost:3000/user/9376\",\"http://localhost:3000/user/9385\",\"http://localhost:3000/user/9394\",\"http://localhost:3000/user/9452\",\"http://localhost:3000/user/9485\",\"http://localhost:3000/user/9492\",\"http://localhost:3000/user/9515\",\"http://localhost:3000/user/9522\",\"http://localhost:3000/user/9528\",\"http://localhost:3000/user/9555\",\"http://localhost:3000/user/9558\",\"http://localhost:3000/user/9585\",\"http://localhost:3000/user/9587\",\"http://localhost:3000/user/9613\",\"http://localhost:3000/user/9616\",\"http://localhost:3000/user/9633\",\"http://localhost:3000/user/9651\",\"http://localhost:3000/user/9665\",\"http://localhost:3000/user/9683\",\"http://localhost:3000/user/9690\",\"http://localhost:3000/user/9706\",\"http://localhost:3000/user/9723\",\"http://localhost:3000/user/9736\",\"http://localhost:3000/user/9749\",\"http://localhost:3000/user/9750\",\"http://localhost:3000/user/9792\",\"http://localhost:3000/user/9810\",\"http://localhost:3000/user/9875\",\"http://localhost:3000/user/9898\",\"http://localhost:3000/user/9928\",\"http://localhost:3000/user/9990\",\"http://localhost:3000/user/9995\",\"http://localhost:3000/user/10014\",\"http://localhost:3000/user/10015\",\"http://localhost:3000/user/10022\",\"http://localhost:3000/user/10023\",\"http://localhost:3000/user/10040\",\"http://localhost:3000/user/10041\",\"http://localhost:3000/user/10046\",\"http://localhost:3000/user/10052\",\"http://localhost:3000/user/10069\",\"http://localhost:3000/user/10102\",\"http://localhost:3000/user/10109\",\"http://localhost:3000/user/10111\",\"http://localhost:3000/user/10130\",\"http://localhost:3000/user/10152\",\"http://localhost:3000/user/10160\",\"http://localhost:3000/user/10231\",\"http://localhost:3000/user/10234\",\"http://localhost:3000/user/10236\",\"http://localhost:3000/user/10237\",\"http://localhost:3000/user/10245\",\"http://localhost:3000/user/10279\",\"http://localhost:3000/user/10286\",\"http://localhost:3000/user/10301\",\"http://localhost:3000/user/10315\",\"http://localhost:3000/user/10363\",\"http://localhost:3000/user/10413\",\"http://localhost:3000/user/10449\",\"http://localhost:3000/user/10450\",\"http://localhost:3000/user/10460\",\"http://localhost:3000/user/10478\",\"http://localhost:3000/user/10505\",\"http://localhost:3000/user/10509\",\"http://localhost:3000/user/10512\",\"http://localhost:3000/user/10524\",\"http://localhost:3000/user/10529\",\"http://localhost:3000/user/10579\",\"http://localhost:3000/user/10736\",\"http://localhost:3000/user/10749\",\"http://localhost:3000/user/10825\",\"http://localhost:3000/user/10872\",\"http://localhost:3000/user/10914\",\"http://localhost:3000/user/10955\",\"http://localhost:3000/user/10958\",\"http://localhost:3000/user/10963\",\"http://localhost:3000/user/10992\",\"http://localhost:3000/user/11001\",\"http://localhost:3000/user/11016\",\"http://localhost:3000/user/11095\",\"http://localhost:3000/user/11110\",\"http://localhost:3000/user/11125\",\"http://localhost:3000/user/11155\",\"http://localhost:3000/user/11182\",\"http://localhost:3000/user/11210\",\"http://localhost:3000/user/11242\",\"http://localhost:3000/user/11248\",\"http://localhost:3000/user/11252\",\"http://localhost:3000/user/11262\",\"http://localhost:3000/user/11264\",\"http://localhost:3000/user/11269\",\"http://localhost:3000/user/11286\",\"http://localhost:3000/user/11288\",\"http://localhost:3000/user/11294\",\"http://localhost:3000/user/11302\",\"http://localhost:3000/user/11342\",\"http://localhost:3000/user/11346\",\"http://localhost:3000/user/11347\",\"http://localhost:3000/user/11355\",\"http://localhost:3000/user/11360\",\"http://localhost:3000/user/11387\",\"http://localhost:3000/user/11389\",\"http://localhost:3000/user/11393\",\"http://localhost:3000/user/11394\",\"http://localhost:3000/user/11396\",\"http://localhost:3000/user/11402\",\"http://localhost:3000/user/11404\",\"http://localhost:3000/user/11446\",\"http://localhost:3000/user/11465\",\"http://localhost:3000/user/11520\",\"http://localhost:3000/user/11522\",\"http://localhost:3000/user/11536\",\"http://localhost:3000/user/11578\",\"http://localhost:3000/user/11631\",\"http://localhost:3000/user/11638\",\"http://localhost:3000/user/11656\",\"http://localhost:3000/user/11677\",\"http://localhost:3000/user/11685\",\"http://localhost:3000/user/11713\",\"http://localhost:3000/user/11744\",\"http://localhost:3000/user/11754\",\"http://localhost:3000/user/11761\",\"http://localhost:3000/user/11768\",\"http://localhost:3000/user/11779\",\"http://localhost:3000/user/11805\",\"http://localhost:3000/user/11826\",\"http://localhost:3000/user/11833\",\"http://localhost:3000/user/11868\",\"http://localhost:3000/user/11878\",\"http://localhost:3000/user/11904\",\"http://localhost:3000/user/11910\",\"http://localhost:3000/user/11917\",\"http://localhost:3000/user/12036\",\"http://localhost:3000/user/12046\",\"http://localhost:3000/user/12048\",\"http://localhost:3000/user/12060\",\"http://localhost:3000/user/12078\",\"http://localhost:3000/user/12099\",\"http://localhost:3000/user/12161\",\"http://localhost:3000/user/12188\",\"http://localhost:3000/user/12221\",\"http://localhost:3000/user/12263\",\"http://localhost:3000/user/12264\",\"http://localhost:3000/user/12303\",\"http://localhost:3000/user/12327\",\"http://localhost:3000/user/12391\",\"http://localhost:3000/user/12395\",\"http://localhost:3000/user/12488\",\"http://localhost:3000/user/12494\",\"http://localhost:3000/user/12505\",\"http://localhost:3000/user/12536\",\"http://localhost:3000/user/12542\",\"http://localhost:3000/user/12604\",\"http://localhost:3000/user/12611\",\"http://localhost:3000/user/12618\",\"http://localhost:3000/user/12711\",\"http://localhost:3000/user/12781\",\"http://localhost:3000/user/12833\",\"http://localhost:3000/user/12861\",\"http://localhost:3000/user/12864\",\"http://localhost:3000/user/12872\",\"http://localhost:3000/user/12896\",\"http://localhost:3000/user/13013\",\"http://localhost:3000/user/13071\",\"http://localhost:3000/user/13195\"],\n",
       "      cur_url: 0\n",
       "    },\n",
       "    methods: {\n",
       "      left: function() {\n",
       "        this.cur_url -= 1\n",
       "        if (this.cur_url<0) this.cur_url = this.url.length-1\n",
       "      },\n",
       "      right: function() {\n",
       "        this.cur_url += 1\n",
       "        if (this.cur_url>=this.url.length) this.cur_url = 0\n",
       "      },\n",
       "      keyhandler: function() {\n",
       "        console.log(event.keyCode)\n",
       "        if (event.keyCode == 37) {\n",
       "        \tthis.left()\n",
       "        } else if (event.keyCode == 39) {\n",
       "        \tthis.right()\n",
       "        }\n",
       "      }\n",
       "    },\n",
       "    mounted () {\n",
       "      document.addEventListener(\"keyup\", this.keyhandler);\n",
       "    }\n",
       "  })\n",
       "</script>"
      ],
      "text/plain": [
       "\"\\n<div id=\\\"app_EP9VjFbhOE\\\">\\n<el-container>\\n  <el-container>\\n    <el-header>\\n      <el-row :gutter=\\\"24\\\">\\n        <el-col :span=\\\"4\\\">\\n          <el-button icon=\\\"el-icon-caret-left\\\" circle v-on:click=\\\"left\\\"></el-button>\\n          <el-button icon=\\\"el-icon-caret-right\\\" circle v-on:click=\\\"right\\\"></el-button>\\n        </el-col>\\n\\n        <el-col :span=\\\"20\\\">\\n          <h1>[{{cur_url}}] {{ url[cur_url] }}</h1>\\n        </el-col>\\n      </el-row>\\n    </el-header>\\n    <el-main>\\n      <el-divider></el-divider>\\n      <iframe v-bind:src=\\\"url[cur_url]\\\" width=\\\"1400\\\" height=\\\"800\\\"></iframe>\\n    </el-main>\\n\\n  </el-container>\\n</el-container>\\n</div>\\n\\n\\n\\n<script>\\n  Vue.use(VueChartkick.use(Chart))\\n\\n  app = new Vue({\\n    el: '#app_EP9VjFbhOE',\\n    data: {\\n      url: [\\\"http://localhost:3000/user/115\\\",\\\"http://localhost:3000/user/144\\\",\\\"http://localhost:3000/user/145\\\",\\\"http://localhost:3000/user/147\\\",\\\"http://localhost:3000/user/231\\\",\\\"http://localhost:3000/user/241\\\",\\\"http://localhost:3000/user/264\\\",\\\"http://localhost:3000/user/278\\\",\\\"http://localhost:3000/user/337\\\",\\\"http://localhost:3000/user/342\\\",\\\"http://localhost:3000/user/370\\\",\\\"http://localhost:3000/user/455\\\",\\\"http://localhost:3000/user/474\\\",\\\"http://localhost:3000/user/515\\\",\\\"http://localhost:3000/user/516\\\",\\\"http://localhost:3000/user/529\\\",\\\"http://localhost:3000/user/547\\\",\\\"http://localhost:3000/user/557\\\",\\\"http://localhost:3000/user/575\\\",\\\"http://localhost:3000/user/583\\\",\\\"http://localhost:3000/user/630\\\",\\\"http://localhost:3000/user/632\\\",\\\"http://localhost:3000/user/633\\\",\\\"http://localhost:3000/user/655\\\",\\\"http://localhost:3000/user/715\\\",\\\"http://localhost:3000/user/727\\\",\\\"http://localhost:3000/user/783\\\",\\\"http://localhost:3000/user/786\\\",\\\"http://localhost:3000/user/801\\\",\\\"http://localhost:3000/user/828\\\",\\\"http://localhost:3000/user/831\\\",\\\"http://localhost:3000/user/838\\\",\\\"http://localhost:3000/user/843\\\",\\\"http://localhost:3000/user/855\\\",\\\"http://localhost:3000/user/858\\\",\\\"http://localhost:3000/user/861\\\",\\\"http://localhost:3000/user/877\\\",\\\"http://localhost:3000/user/927\\\",\\\"http://localhost:3000/user/978\\\",\\\"http://localhost:3000/user/1013\\\",\\\"http://localhost:3000/user/1029\\\",\\\"http://localhost:3000/user/1052\\\",\\\"http://localhost:3000/user/1073\\\",\\\"http://localhost:3000/user/1080\\\",\\\"http://localhost:3000/user/1103\\\",\\\"http://localhost:3000/user/1106\\\",\\\"http://localhost:3000/user/1168\\\",\\\"http://localhost:3000/user/1169\\\",\\\"http://localhost:3000/user/1171\\\",\\\"http://localhost:3000/user/1173\\\",\\\"http://localhost:3000/user/1201\\\",\\\"http://localhost:3000/user/1231\\\",\\\"http://localhost:3000/user/1305\\\",\\\"http://localhost:3000/user/1347\\\",\\\"http://localhost:3000/user/1368\\\",\\\"http://localhost:3000/user/1437\\\",\\\"http://localhost:3000/user/1497\\\",\\\"http://localhost:3000/user/1586\\\",\\\"http://localhost:3000/user/1624\\\",\\\"http://localhost:3000/user/1724\\\",\\\"http://localhost:3000/user/1732\\\",\\\"http://localhost:3000/user/1800\\\",\\\"http://localhost:3000/user/1817\\\",\\\"http://localhost:3000/user/1851\\\",\\\"http://localhost:3000/user/1872\\\",\\\"http://localhost:3000/user/1892\\\",\\\"http://localhost:3000/user/1948\\\",\\\"http://localhost:3000/user/1961\\\",\\\"http://localhost:3000/user/2005\\\",\\\"http://localhost:3000/user/2095\\\",\\\"http://localhost:3000/user/2097\\\",\\\"http://localhost:3000/user/2125\\\",\\\"http://localhost:3000/user/2175\\\",\\\"http://localhost:3000/user/2176\\\",\\\"http://localhost:3000/user/2178\\\",\\\"http://localhost:3000/user/2189\\\",\\\"http://localhost:3000/user/2194\\\",\\\"http://localhost:3000/user/2200\\\",\\\"http://localhost:3000/user/2202\\\",\\\"http://localhost:3000/user/2206\\\",\\\"http://localhost:3000/user/2214\\\",\\\"http://localhost:3000/user/2228\\\",\\\"http://localhost:3000/user/2230\\\",\\\"http://localhost:3000/user/2233\\\",\\\"http://localhost:3000/user/2240\\\",\\\"http://localhost:3000/user/2241\\\",\\\"http://localhost:3000/user/2243\\\",\\\"http://localhost:3000/user/2249\\\",\\\"http://localhost:3000/user/2250\\\",\\\"http://localhost:3000/user/2252\\\",\\\"http://localhost:3000/user/2262\\\",\\\"http://localhost:3000/user/2291\\\",\\\"http://localhost:3000/user/2298\\\",\\\"http://localhost:3000/user/2306\\\",\\\"http://localhost:3000/user/2315\\\",\\\"http://localhost:3000/user/2316\\\",\\\"http://localhost:3000/user/2323\\\",\\\"http://localhost:3000/user/2326\\\",\\\"http://localhost:3000/user/2437\\\",\\\"http://localhost:3000/user/2445\\\",\\\"http://localhost:3000/user/2449\\\",\\\"http://localhost:3000/user/2461\\\",\\\"http://localhost:3000/user/2470\\\",\\\"http://localhost:3000/user/2481\\\",\\\"http://localhost:3000/user/2482\\\",\\\"http://localhost:3000/user/2507\\\",\\\"http://localhost:3000/user/2523\\\",\\\"http://localhost:3000/user/2528\\\",\\\"http://localhost:3000/user/2572\\\",\\\"http://localhost:3000/user/2600\\\",\\\"http://localhost:3000/user/2607\\\",\\\"http://localhost:3000/user/2615\\\",\\\"http://localhost:3000/user/2622\\\",\\\"http://localhost:3000/user/2627\\\",\\\"http://localhost:3000/user/2736\\\",\\\"http://localhost:3000/user/2765\\\",\\\"http://localhost:3000/user/2801\\\",\\\"http://localhost:3000/user/2803\\\",\\\"http://localhost:3000/user/2835\\\",\\\"http://localhost:3000/user/2843\\\",\\\"http://localhost:3000/user/2873\\\",\\\"http://localhost:3000/user/2875\\\",\\\"http://localhost:3000/user/2935\\\",\\\"http://localhost:3000/user/2944\\\",\\\"http://localhost:3000/user/2969\\\",\\\"http://localhost:3000/user/2972\\\",\\\"http://localhost:3000/user/2974\\\",\\\"http://localhost:3000/user/2982\\\",\\\"http://localhost:3000/user/3002\\\",\\\"http://localhost:3000/user/3024\\\",\\\"http://localhost:3000/user/3096\\\",\\\"http://localhost:3000/user/3124\\\",\\\"http://localhost:3000/user/3128\\\",\\\"http://localhost:3000/user/3134\\\",\\\"http://localhost:3000/user/3137\\\",\\\"http://localhost:3000/user/3141\\\",\\\"http://localhost:3000/user/3152\\\",\\\"http://localhost:3000/user/3154\\\",\\\"http://localhost:3000/user/3171\\\",\\\"http://localhost:3000/user/3181\\\",\\\"http://localhost:3000/user/3185\\\",\\\"http://localhost:3000/user/3193\\\",\\\"http://localhost:3000/user/3231\\\",\\\"http://localhost:3000/user/3244\\\",\\\"http://localhost:3000/user/3250\\\",\\\"http://localhost:3000/user/3273\\\",\\\"http://localhost:3000/user/3290\\\",\\\"http://localhost:3000/user/3293\\\",\\\"http://localhost:3000/user/3315\\\",\\\"http://localhost:3000/user/3319\\\",\\\"http://localhost:3000/user/3347\\\",\\\"http://localhost:3000/user/3350\\\",\\\"http://localhost:3000/user/3357\\\",\\\"http://localhost:3000/user/3369\\\",\\\"http://localhost:3000/user/3391\\\",\\\"http://localhost:3000/user/3402\\\",\\\"http://localhost:3000/user/3421\\\",\\\"http://localhost:3000/user/3437\\\",\\\"http://localhost:3000/user/3440\\\",\\\"http://localhost:3000/user/3447\\\",\\\"http://localhost:3000/user/3456\\\",\\\"http://localhost:3000/user/3459\\\",\\\"http://localhost:3000/user/3465\\\",\\\"http://localhost:3000/user/3468\\\",\\\"http://localhost:3000/user/3470\\\",\\\"http://localhost:3000/user/3541\\\",\\\"http://localhost:3000/user/3552\\\",\\\"http://localhost:3000/user/3556\\\",\\\"http://localhost:3000/user/3565\\\",\\\"http://localhost:3000/user/3577\\\",\\\"http://localhost:3000/user/3605\\\",\\\"http://localhost:3000/user/3617\\\",\\\"http://localhost:3000/user/3621\\\",\\\"http://localhost:3000/user/3624\\\",\\\"http://localhost:3000/user/3630\\\",\\\"http://localhost:3000/user/3651\\\",\\\"http://localhost:3000/user/3676\\\",\\\"http://localhost:3000/user/3699\\\",\\\"http://localhost:3000/user/3702\\\",\\\"http://localhost:3000/user/3711\\\",\\\"http://localhost:3000/user/3721\\\",\\\"http://localhost:3000/user/3735\\\",\\\"http://localhost:3000/user/3739\\\",\\\"http://localhost:3000/user/3763\\\",\\\"http://localhost:3000/user/3788\\\",\\\"http://localhost:3000/user/3792\\\",\\\"http://localhost:3000/user/3810\\\",\\\"http://localhost:3000/user/3842\\\",\\\"http://localhost:3000/user/3865\\\",\\\"http://localhost:3000/user/3874\\\",\\\"http://localhost:3000/user/3886\\\",\\\"http://localhost:3000/user/3903\\\",\\\"http://localhost:3000/user/3905\\\",\\\"http://localhost:3000/user/3907\\\",\\\"http://localhost:3000/user/3911\\\",\\\"http://localhost:3000/user/3937\\\",\\\"http://localhost:3000/user/3941\\\",\\\"http://localhost:3000/user/3974\\\",\\\"http://localhost:3000/user/4008\\\",\\\"http://localhost:3000/user/4037\\\",\\\"http://localhost:3000/user/4051\\\",\\\"http://localhost:3000/user/4059\\\",\\\"http://localhost:3000/user/4062\\\",\\\"http://localhost:3000/user/4065\\\",\\\"http://localhost:3000/user/4081\\\",\\\"http://localhost:3000/user/4093\\\",\\\"http://localhost:3000/user/4105\\\",\\\"http://localhost:3000/user/4111\\\",\\\"http://localhost:3000/user/4115\\\",\\\"http://localhost:3000/user/4121\\\",\\\"http://localhost:3000/user/4130\\\",\\\"http://localhost:3000/user/4131\\\",\\\"http://localhost:3000/user/4142\\\",\\\"http://localhost:3000/user/4151\\\",\\\"http://localhost:3000/user/4176\\\",\\\"http://localhost:3000/user/4180\\\",\\\"http://localhost:3000/user/4203\\\",\\\"http://localhost:3000/user/4225\\\",\\\"http://localhost:3000/user/4226\\\",\\\"http://localhost:3000/user/4230\\\",\\\"http://localhost:3000/user/4242\\\",\\\"http://localhost:3000/user/4259\\\",\\\"http://localhost:3000/user/4262\\\",\\\"http://localhost:3000/user/4293\\\",\\\"http://localhost:3000/user/4306\\\",\\\"http://localhost:3000/user/4318\\\",\\\"http://localhost:3000/user/4322\\\",\\\"http://localhost:3000/user/4327\\\",\\\"http://localhost:3000/user/4335\\\",\\\"http://localhost:3000/user/4338\\\",\\\"http://localhost:3000/user/4342\\\",\\\"http://localhost:3000/user/4349\\\",\\\"http://localhost:3000/user/4355\\\",\\\"http://localhost:3000/user/4359\\\",\\\"http://localhost:3000/user/4369\\\",\\\"http://localhost:3000/user/4375\\\",\\\"http://localhost:3000/user/4390\\\",\\\"http://localhost:3000/user/4393\\\",\\\"http://localhost:3000/user/4408\\\",\\\"http://localhost:3000/user/4421\\\",\\\"http://localhost:3000/user/4431\\\",\\\"http://localhost:3000/user/4440\\\",\\\"http://localhost:3000/user/4443\\\",\\\"http://localhost:3000/user/4463\\\",\\\"http://localhost:3000/user/4485\\\",\\\"http://localhost:3000/user/4500\\\",\\\"http://localhost:3000/user/4504\\\",\\\"http://localhost:3000/user/4507\\\",\\\"http://localhost:3000/user/4525\\\",\\\"http://localhost:3000/user/4529\\\",\\\"http://localhost:3000/user/4553\\\",\\\"http://localhost:3000/user/4562\\\",\\\"http://localhost:3000/user/4622\\\",\\\"http://localhost:3000/user/4629\\\",\\\"http://localhost:3000/user/4644\\\",\\\"http://localhost:3000/user/4687\\\",\\\"http://localhost:3000/user/4691\\\",\\\"http://localhost:3000/user/4708\\\",\\\"http://localhost:3000/user/4720\\\",\\\"http://localhost:3000/user/4725\\\",\\\"http://localhost:3000/user/4750\\\",\\\"http://localhost:3000/user/4766\\\",\\\"http://localhost:3000/user/4767\\\",\\\"http://localhost:3000/user/4797\\\",\\\"http://localhost:3000/user/4800\\\",\\\"http://localhost:3000/user/4803\\\",\\\"http://localhost:3000/user/4816\\\",\\\"http://localhost:3000/user/4823\\\",\\\"http://localhost:3000/user/4843\\\",\\\"http://localhost:3000/user/4852\\\",\\\"http://localhost:3000/user/4860\\\",\\\"http://localhost:3000/user/4862\\\",\\\"http://localhost:3000/user/4870\\\",\\\"http://localhost:3000/user/4888\\\",\\\"http://localhost:3000/user/4890\\\",\\\"http://localhost:3000/user/4907\\\",\\\"http://localhost:3000/user/4925\\\",\\\"http://localhost:3000/user/4927\\\",\\\"http://localhost:3000/user/4942\\\",\\\"http://localhost:3000/user/4943\\\",\\\"http://localhost:3000/user/4949\\\",\\\"http://localhost:3000/user/5004\\\",\\\"http://localhost:3000/user/5057\\\",\\\"http://localhost:3000/user/5066\\\",\\\"http://localhost:3000/user/5089\\\",\\\"http://localhost:3000/user/5122\\\",\\\"http://localhost:3000/user/5139\\\",\\\"http://localhost:3000/user/5154\\\",\\\"http://localhost:3000/user/5219\\\",\\\"http://localhost:3000/user/5230\\\",\\\"http://localhost:3000/user/5264\\\",\\\"http://localhost:3000/user/5329\\\",\\\"http://localhost:3000/user/5347\\\",\\\"http://localhost:3000/user/5353\\\",\\\"http://localhost:3000/user/5361\\\",\\\"http://localhost:3000/user/5387\\\",\\\"http://localhost:3000/user/5393\\\",\\\"http://localhost:3000/user/5449\\\",\\\"http://localhost:3000/user/5454\\\",\\\"http://localhost:3000/user/5459\\\",\\\"http://localhost:3000/user/5482\\\",\\\"http://localhost:3000/user/5484\\\",\\\"http://localhost:3000/user/5507\\\",\\\"http://localhost:3000/user/5539\\\",\\\"http://localhost:3000/user/5566\\\",\\\"http://localhost:3000/user/5575\\\",\\\"http://localhost:3000/user/5577\\\",\\\"http://localhost:3000/user/5584\\\",\\\"http://localhost:3000/user/5588\\\",\\\"http://localhost:3000/user/5594\\\",\\\"http://localhost:3000/user/5599\\\",\\\"http://localhost:3000/user/5601\\\",\\\"http://localhost:3000/user/5640\\\",\\\"http://localhost:3000/user/5670\\\",\\\"http://localhost:3000/user/5682\\\",\\\"http://localhost:3000/user/5705\\\",\\\"http://localhost:3000/user/5727\\\",\\\"http://localhost:3000/user/5743\\\",\\\"http://localhost:3000/user/5767\\\",\\\"http://localhost:3000/user/5788\\\",\\\"http://localhost:3000/user/5802\\\",\\\"http://localhost:3000/user/5812\\\",\\\"http://localhost:3000/user/5817\\\",\\\"http://localhost:3000/user/5822\\\",\\\"http://localhost:3000/user/5841\\\",\\\"http://localhost:3000/user/5863\\\",\\\"http://localhost:3000/user/5864\\\",\\\"http://localhost:3000/user/5890\\\",\\\"http://localhost:3000/user/5899\\\",\\\"http://localhost:3000/user/5900\\\",\\\"http://localhost:3000/user/5922\\\",\\\"http://localhost:3000/user/5940\\\",\\\"http://localhost:3000/user/5956\\\",\\\"http://localhost:3000/user/5965\\\",\\\"http://localhost:3000/user/5971\\\",\\\"http://localhost:3000/user/5978\\\",\\\"http://localhost:3000/user/5982\\\",\\\"http://localhost:3000/user/5983\\\",\\\"http://localhost:3000/user/5999\\\",\\\"http://localhost:3000/user/6009\\\",\\\"http://localhost:3000/user/6012\\\",\\\"http://localhost:3000/user/6017\\\",\\\"http://localhost:3000/user/6027\\\",\\\"http://localhost:3000/user/6030\\\",\\\"http://localhost:3000/user/6034\\\",\\\"http://localhost:3000/user/6036\\\",\\\"http://localhost:3000/user/6066\\\",\\\"http://localhost:3000/user/6069\\\",\\\"http://localhost:3000/user/6087\\\",\\\"http://localhost:3000/user/6094\\\",\\\"http://localhost:3000/user/6106\\\",\\\"http://localhost:3000/user/6111\\\",\\\"http://localhost:3000/user/6143\\\",\\\"http://localhost:3000/user/6146\\\",\\\"http://localhost:3000/user/6161\\\",\\\"http://localhost:3000/user/6164\\\",\\\"http://localhost:3000/user/6170\\\",\\\"http://localhost:3000/user/6172\\\",\\\"http://localhost:3000/user/6180\\\",\\\"http://localhost:3000/user/6181\\\",\\\"http://localhost:3000/user/6188\\\",\\\"http://localhost:3000/user/6189\\\",\\\"http://localhost:3000/user/6211\\\",\\\"http://localhost:3000/user/6219\\\",\\\"http://localhost:3000/user/6251\\\",\\\"http://localhost:3000/user/6267\\\",\\\"http://localhost:3000/user/6303\\\",\\\"http://localhost:3000/user/6317\\\",\\\"http://localhost:3000/user/6342\\\",\\\"http://localhost:3000/user/6346\\\",\\\"http://localhost:3000/user/6366\\\",\\\"http://localhost:3000/user/6401\\\",\\\"http://localhost:3000/user/6412\\\",\\\"http://localhost:3000/user/6473\\\",\\\"http://localhost:3000/user/6479\\\",\\\"http://localhost:3000/user/6487\\\",\\\"http://localhost:3000/user/6502\\\",\\\"http://localhost:3000/user/6558\\\",\\\"http://localhost:3000/user/6587\\\",\\\"http://localhost:3000/user/6609\\\",\\\"http://localhost:3000/user/6647\\\",\\\"http://localhost:3000/user/6664\\\",\\\"http://localhost:3000/user/6687\\\",\\\"http://localhost:3000/user/6723\\\",\\\"http://localhost:3000/user/6751\\\",\\\"http://localhost:3000/user/6760\\\",\\\"http://localhost:3000/user/6770\\\",\\\"http://localhost:3000/user/6833\\\",\\\"http://localhost:3000/user/6870\\\",\\\"http://localhost:3000/user/6920\\\",\\\"http://localhost:3000/user/6934\\\",\\\"http://localhost:3000/user/6936\\\",\\\"http://localhost:3000/user/6966\\\",\\\"http://localhost:3000/user/6997\\\",\\\"http://localhost:3000/user/7015\\\",\\\"http://localhost:3000/user/7025\\\",\\\"http://localhost:3000/user/7060\\\",\\\"http://localhost:3000/user/7063\\\",\\\"http://localhost:3000/user/7084\\\",\\\"http://localhost:3000/user/7113\\\",\\\"http://localhost:3000/user/7116\\\",\\\"http://localhost:3000/user/7117\\\",\\\"http://localhost:3000/user/7136\\\",\\\"http://localhost:3000/user/7140\\\",\\\"http://localhost:3000/user/7147\\\",\\\"http://localhost:3000/user/7168\\\",\\\"http://localhost:3000/user/7172\\\",\\\"http://localhost:3000/user/7212\\\",\\\"http://localhost:3000/user/7250\\\",\\\"http://localhost:3000/user/7288\\\",\\\"http://localhost:3000/user/7295\\\",\\\"http://localhost:3000/user/7303\\\",\\\"http://localhost:3000/user/7313\\\",\\\"http://localhost:3000/user/7321\\\",\\\"http://localhost:3000/user/7333\\\",\\\"http://localhost:3000/user/7387\\\",\\\"http://localhost:3000/user/7404\\\",\\\"http://localhost:3000/user/7420\\\",\\\"http://localhost:3000/user/7426\\\",\\\"http://localhost:3000/user/7428\\\",\\\"http://localhost:3000/user/7467\\\",\\\"http://localhost:3000/user/7485\\\",\\\"http://localhost:3000/user/7545\\\",\\\"http://localhost:3000/user/7578\\\",\\\"http://localhost:3000/user/7588\\\",\\\"http://localhost:3000/user/7642\\\",\\\"http://localhost:3000/user/7678\\\",\\\"http://localhost:3000/user/7721\\\",\\\"http://localhost:3000/user/7729\\\",\\\"http://localhost:3000/user/7739\\\",\\\"http://localhost:3000/user/7751\\\",\\\"http://localhost:3000/user/7753\\\",\\\"http://localhost:3000/user/7778\\\",\\\"http://localhost:3000/user/7807\\\",\\\"http://localhost:3000/user/7822\\\",\\\"http://localhost:3000/user/7867\\\",\\\"http://localhost:3000/user/7901\\\",\\\"http://localhost:3000/user/7950\\\",\\\"http://localhost:3000/user/7953\\\",\\\"http://localhost:3000/user/7955\\\",\\\"http://localhost:3000/user/7957\\\",\\\"http://localhost:3000/user/7974\\\",\\\"http://localhost:3000/user/7976\\\",\\\"http://localhost:3000/user/8006\\\",\\\"http://localhost:3000/user/8017\\\",\\\"http://localhost:3000/user/8022\\\",\\\"http://localhost:3000/user/8032\\\",\\\"http://localhost:3000/user/8036\\\",\\\"http://localhost:3000/user/8041\\\",\\\"http://localhost:3000/user/8046\\\",\\\"http://localhost:3000/user/8087\\\",\\\"http://localhost:3000/user/8090\\\",\\\"http://localhost:3000/user/8118\\\",\\\"http://localhost:3000/user/8163\\\",\\\"http://localhost:3000/user/8229\\\",\\\"http://localhost:3000/user/8311\\\",\\\"http://localhost:3000/user/8330\\\",\\\"http://localhost:3000/user/8360\\\",\\\"http://localhost:3000/user/8379\\\",\\\"http://localhost:3000/user/8394\\\",\\\"http://localhost:3000/user/8473\\\",\\\"http://localhost:3000/user/8480\\\",\\\"http://localhost:3000/user/8482\\\",\\\"http://localhost:3000/user/8502\\\",\\\"http://localhost:3000/user/8530\\\",\\\"http://localhost:3000/user/8581\\\",\\\"http://localhost:3000/user/8587\\\",\\\"http://localhost:3000/user/8664\\\",\\\"http://localhost:3000/user/8672\\\",\\\"http://localhost:3000/user/8708\\\",\\\"http://localhost:3000/user/8718\\\",\\\"http://localhost:3000/user/8724\\\",\\\"http://localhost:3000/user/8734\\\",\\\"http://localhost:3000/user/8739\\\",\\\"http://localhost:3000/user/8749\\\",\\\"http://localhost:3000/user/8768\\\",\\\"http://localhost:3000/user/8810\\\",\\\"http://localhost:3000/user/8835\\\",\\\"http://localhost:3000/user/8844\\\",\\\"http://localhost:3000/user/8850\\\",\\\"http://localhost:3000/user/8880\\\",\\\"http://localhost:3000/user/8962\\\",\\\"http://localhost:3000/user/8971\\\",\\\"http://localhost:3000/user/8972\\\",\\\"http://localhost:3000/user/9010\\\",\\\"http://localhost:3000/user/9017\\\",\\\"http://localhost:3000/user/9033\\\",\\\"http://localhost:3000/user/9090\\\",\\\"http://localhost:3000/user/9109\\\",\\\"http://localhost:3000/user/9125\\\",\\\"http://localhost:3000/user/9177\\\",\\\"http://localhost:3000/user/9179\\\",\\\"http://localhost:3000/user/9202\\\",\\\"http://localhost:3000/user/9204\\\",\\\"http://localhost:3000/user/9209\\\",\\\"http://localhost:3000/user/9226\\\",\\\"http://localhost:3000/user/9229\\\",\\\"http://localhost:3000/user/9235\\\",\\\"http://localhost:3000/user/9250\\\",\\\"http://localhost:3000/user/9256\\\",\\\"http://localhost:3000/user/9284\\\",\\\"http://localhost:3000/user/9300\\\",\\\"http://localhost:3000/user/9306\\\",\\\"http://localhost:3000/user/9323\\\",\\\"http://localhost:3000/user/9349\\\",\\\"http://localhost:3000/user/9376\\\",\\\"http://localhost:3000/user/9385\\\",\\\"http://localhost:3000/user/9394\\\",\\\"http://localhost:3000/user/9452\\\",\\\"http://localhost:3000/user/9485\\\",\\\"http://localhost:3000/user/9492\\\",\\\"http://localhost:3000/user/9515\\\",\\\"http://localhost:3000/user/9522\\\",\\\"http://localhost:3000/user/9528\\\",\\\"http://localhost:3000/user/9555\\\",\\\"http://localhost:3000/user/9558\\\",\\\"http://localhost:3000/user/9585\\\",\\\"http://localhost:3000/user/9587\\\",\\\"http://localhost:3000/user/9613\\\",\\\"http://localhost:3000/user/9616\\\",\\\"http://localhost:3000/user/9633\\\",\\\"http://localhost:3000/user/9651\\\",\\\"http://localhost:3000/user/9665\\\",\\\"http://localhost:3000/user/9683\\\",\\\"http://localhost:3000/user/9690\\\",\\\"http://localhost:3000/user/9706\\\",\\\"http://localhost:3000/user/9723\\\",\\\"http://localhost:3000/user/9736\\\",\\\"http://localhost:3000/user/9749\\\",\\\"http://localhost:3000/user/9750\\\",\\\"http://localhost:3000/user/9792\\\",\\\"http://localhost:3000/user/9810\\\",\\\"http://localhost:3000/user/9875\\\",\\\"http://localhost:3000/user/9898\\\",\\\"http://localhost:3000/user/9928\\\",\\\"http://localhost:3000/user/9990\\\",\\\"http://localhost:3000/user/9995\\\",\\\"http://localhost:3000/user/10014\\\",\\\"http://localhost:3000/user/10015\\\",\\\"http://localhost:3000/user/10022\\\",\\\"http://localhost:3000/user/10023\\\",\\\"http://localhost:3000/user/10040\\\",\\\"http://localhost:3000/user/10041\\\",\\\"http://localhost:3000/user/10046\\\",\\\"http://localhost:3000/user/10052\\\",\\\"http://localhost:3000/user/10069\\\",\\\"http://localhost:3000/user/10102\\\",\\\"http://localhost:3000/user/10109\\\",\\\"http://localhost:3000/user/10111\\\",\\\"http://localhost:3000/user/10130\\\",\\\"http://localhost:3000/user/10152\\\",\\\"http://localhost:3000/user/10160\\\",\\\"http://localhost:3000/user/10231\\\",\\\"http://localhost:3000/user/10234\\\",\\\"http://localhost:3000/user/10236\\\",\\\"http://localhost:3000/user/10237\\\",\\\"http://localhost:3000/user/10245\\\",\\\"http://localhost:3000/user/10279\\\",\\\"http://localhost:3000/user/10286\\\",\\\"http://localhost:3000/user/10301\\\",\\\"http://localhost:3000/user/10315\\\",\\\"http://localhost:3000/user/10363\\\",\\\"http://localhost:3000/user/10413\\\",\\\"http://localhost:3000/user/10449\\\",\\\"http://localhost:3000/user/10450\\\",\\\"http://localhost:3000/user/10460\\\",\\\"http://localhost:3000/user/10478\\\",\\\"http://localhost:3000/user/10505\\\",\\\"http://localhost:3000/user/10509\\\",\\\"http://localhost:3000/user/10512\\\",\\\"http://localhost:3000/user/10524\\\",\\\"http://localhost:3000/user/10529\\\",\\\"http://localhost:3000/user/10579\\\",\\\"http://localhost:3000/user/10736\\\",\\\"http://localhost:3000/user/10749\\\",\\\"http://localhost:3000/user/10825\\\",\\\"http://localhost:3000/user/10872\\\",\\\"http://localhost:3000/user/10914\\\",\\\"http://localhost:3000/user/10955\\\",\\\"http://localhost:3000/user/10958\\\",\\\"http://localhost:3000/user/10963\\\",\\\"http://localhost:3000/user/10992\\\",\\\"http://localhost:3000/user/11001\\\",\\\"http://localhost:3000/user/11016\\\",\\\"http://localhost:3000/user/11095\\\",\\\"http://localhost:3000/user/11110\\\",\\\"http://localhost:3000/user/11125\\\",\\\"http://localhost:3000/user/11155\\\",\\\"http://localhost:3000/user/11182\\\",\\\"http://localhost:3000/user/11210\\\",\\\"http://localhost:3000/user/11242\\\",\\\"http://localhost:3000/user/11248\\\",\\\"http://localhost:3000/user/11252\\\",\\\"http://localhost:3000/user/11262\\\",\\\"http://localhost:3000/user/11264\\\",\\\"http://localhost:3000/user/11269\\\",\\\"http://localhost:3000/user/11286\\\",\\\"http://localhost:3000/user/11288\\\",\\\"http://localhost:3000/user/11294\\\",\\\"http://localhost:3000/user/11302\\\",\\\"http://localhost:3000/user/11342\\\",\\\"http://localhost:3000/user/11346\\\",\\\"http://localhost:3000/user/11347\\\",\\\"http://localhost:3000/user/11355\\\",\\\"http://localhost:3000/user/11360\\\",\\\"http://localhost:3000/user/11387\\\",\\\"http://localhost:3000/user/11389\\\",\\\"http://localhost:3000/user/11393\\\",\\\"http://localhost:3000/user/11394\\\",\\\"http://localhost:3000/user/11396\\\",\\\"http://localhost:3000/user/11402\\\",\\\"http://localhost:3000/user/11404\\\",\\\"http://localhost:3000/user/11446\\\",\\\"http://localhost:3000/user/11465\\\",\\\"http://localhost:3000/user/11520\\\",\\\"http://localhost:3000/user/11522\\\",\\\"http://localhost:3000/user/11536\\\",\\\"http://localhost:3000/user/11578\\\",\\\"http://localhost:3000/user/11631\\\",\\\"http://localhost:3000/user/11638\\\",\\\"http://localhost:3000/user/11656\\\",\\\"http://localhost:3000/user/11677\\\",\\\"http://localhost:3000/user/11685\\\",\\\"http://localhost:3000/user/11713\\\",\\\"http://localhost:3000/user/11744\\\",\\\"http://localhost:3000/user/11754\\\",\\\"http://localhost:3000/user/11761\\\",\\\"http://localhost:3000/user/11768\\\",\\\"http://localhost:3000/user/11779\\\",\\\"http://localhost:3000/user/11805\\\",\\\"http://localhost:3000/user/11826\\\",\\\"http://localhost:3000/user/11833\\\",\\\"http://localhost:3000/user/11868\\\",\\\"http://localhost:3000/user/11878\\\",\\\"http://localhost:3000/user/11904\\\",\\\"http://localhost:3000/user/11910\\\",\\\"http://localhost:3000/user/11917\\\",\\\"http://localhost:3000/user/12036\\\",\\\"http://localhost:3000/user/12046\\\",\\\"http://localhost:3000/user/12048\\\",\\\"http://localhost:3000/user/12060\\\",\\\"http://localhost:3000/user/12078\\\",\\\"http://localhost:3000/user/12099\\\",\\\"http://localhost:3000/user/12161\\\",\\\"http://localhost:3000/user/12188\\\",\\\"http://localhost:3000/user/12221\\\",\\\"http://localhost:3000/user/12263\\\",\\\"http://localhost:3000/user/12264\\\",\\\"http://localhost:3000/user/12303\\\",\\\"http://localhost:3000/user/12327\\\",\\\"http://localhost:3000/user/12391\\\",\\\"http://localhost:3000/user/12395\\\",\\\"http://localhost:3000/user/12488\\\",\\\"http://localhost:3000/user/12494\\\",\\\"http://localhost:3000/user/12505\\\",\\\"http://localhost:3000/user/12536\\\",\\\"http://localhost:3000/user/12542\\\",\\\"http://localhost:3000/user/12604\\\",\\\"http://localhost:3000/user/12611\\\",\\\"http://localhost:3000/user/12618\\\",\\\"http://localhost:3000/user/12711\\\",\\\"http://localhost:3000/user/12781\\\",\\\"http://localhost:3000/user/12833\\\",\\\"http://localhost:3000/user/12861\\\",\\\"http://localhost:3000/user/12864\\\",\\\"http://localhost:3000/user/12872\\\",\\\"http://localhost:3000/user/12896\\\",\\\"http://localhost:3000/user/13013\\\",\\\"http://localhost:3000/user/13071\\\",\\\"http://localhost:3000/user/13195\\\"],\\n      cur_url: 0\\n    },\\n    methods: {\\n      left: function() {\\n        this.cur_url -= 1\\n        if (this.cur_url<0) this.cur_url = this.url.length-1\\n      },\\n      right: function() {\\n        this.cur_url += 1\\n        if (this.cur_url>=this.url.length) this.cur_url = 0\\n      },\\n      keyhandler: function() {\\n        console.log(event.keyCode)\\n        if (event.keyCode == 37) {\\n        \\tthis.left()\\n        } else if (event.keyCode == 39) {\\n        \\tthis.right()\\n        }\\n      }\\n    },\\n    mounted () {\\n      document.addEventListener(\\\"keyup\\\", this.keyhandler);\\n    }\\n  })\\n</script>\""
      ]
     },
     "metadata": {},
     "output_type": "display_data"
    }
   ],
   "source": [
    "puts_header \"左右浏览网页\"\n",
    "\n",
    "url = group[\"已育\"].map do |x| \"http://localhost:3000/user/#{x.id}\" end\n",
    "puts_display render(\"左右浏览网页\",{:url=>url})\n",
    "\n",
    "nil"
   ]
  },
  {
   "cell_type": "code",
   "execution_count": 7,
   "metadata": {},
   "outputs": [
    {
     "data": {
      "text/plain": [
       ":show_graph"
      ]
     },
     "execution_count": 7,
     "metadata": {},
     "output_type": "execute_result"
    }
   ],
   "source": [
    "def show_graph(group,&block)\n",
    "   data=group.map do |k,v| [k,block.call(v)] end.to_h\n",
    "\n",
    "   sample = data.first\n",
    "   sample_data = sample[1]\n",
    "        \n",
    "   # 每个类别汇总成一个数字, 输出pie_chart\n",
    "   if sample_data.class==Integer then\n",
    "     return pie_chart(data,colors:color())   \n",
    "   elsif sample_data.class==Float then\n",
    "     return bar_chart(data,colors:color())   \n",
    "   elsif sample_data.class==Hash then\n",
    "      type_sample = sample_data.first[0].to_s\n",
    "       # 判断是否日期\n",
    "       if Time.zone.parse(type_sample) and Time.zone.parse(type_sample).to_s(:db)[0,10]==type_sample then\n",
    "           column_chart(data.to_a.map do |x| {:name=>x[0],:data=>x[1]} end,colors:color(),stacked: true)\n",
    "       else\n",
    "           return \"missing type1\"\n",
    "       end       \n",
    "   elsif sample_data.class==Array then\n",
    "       if sample_data[0].class == Integer or sample_data[0].class == Float then\n",
    "            all_data = data.to_a.map(&->(x){x[1]}).flatten\n",
    "            bin, *freq = all_data.histogram(10,:other_sets=>data.to_a.map(&->(x){x[1]}))\n",
    "            bin.map! do |x| x.round(2) end\n",
    "           \n",
    "            ret = \"\"\n",
    "            index=1\n",
    "            data.each do |k,v| \n",
    "                chart_data = [{name: k, data: bin.zip(freq[index]).to_h}]\n",
    "                ret += column_chart(chart_data,colors:color())\n",
    "                index+=1\n",
    "            end\n",
    "           return ret\n",
    "           \n",
    "       elsif sample_data[0].class == String\n",
    "            ret = \"\"\n",
    "            \n",
    "            all_data = data.to_a.map(&->(x){x[1]}).flatten          \n",
    "            if all_data.tally.size<=15\n",
    "               data.each do |k,v| \n",
    "                    chart_data = [{name: k, data: v.tally.sort }]\n",
    "                    ret += column_chart(chart_data,colors:color())\n",
    "               end\n",
    "            else\n",
    "               data.each do |k,v| \n",
    "                    chart_data = [{name: k, data: v.tally.sort do |x,y| -1*(x[1]<=>y[1]) end[0,16] }]\n",
    "                    ret += column_chart(chart_data,colors:color())\n",
    "               end\n",
    "            end\n",
    "           return ret\n",
    "       else\n",
    "           return \"missing type3\"           \n",
    "       end\n",
    "       \n",
    "   end\n",
    "       \n",
    "end"
   ]
  },
  {
   "cell_type": "code",
   "execution_count": 8,
   "metadata": {},
   "outputs": [
    {
     "data": {
      "text/html": [
       "<h1>人群占比</h1>"
      ],
      "text/plain": [
       "\"<h1>人群占比</h1>\""
      ]
     },
     "metadata": {},
     "output_type": "display_data"
    },
    {
     "data": {
      "text/html": [
       "<div id=\"chart-1\" style=\"height: 300px; width: 100%; text-align: center; color: #999; line-height: 300px; font-size: 14px; font-family: 'Lucida Grande', 'Lucida Sans Unicode', Verdana, Arial, Helvetica, sans-serif;\">Loading...</div><script type=\"text/javascript\">\n",
       "  new Chartkick[\"PieChart\"](\"chart-1\", [[\"已育\",669],[\"其他\",2305]], {\"colors\":[\"#60acfc\",\"#32d3eb\",\"#5bc49f\",\"#feb64d\",\"#ff7c7c\",\"#9287e7\"]});\n",
       "</script>\n"
      ],
      "text/plain": [
       "\"<div id=\\\"chart-1\\\" style=\\\"height: 300px; width: 100%; text-align: center; color: #999; line-height: 300px; font-size: 14px; font-family: 'Lucida Grande', 'Lucida Sans Unicode', Verdana, Arial, Helvetica, sans-serif;\\\">Loading...</div><script type=\\\"text/javascript\\\">\\n  new Chartkick[\\\"PieChart\\\"](\\\"chart-1\\\", [[\\\"已育\\\",669],[\\\"其他\\\",2305]], {\\\"colors\\\":[\\\"#60acfc\\\",\\\"#32d3eb\\\",\\\"#5bc49f\\\",\\\"#feb64d\\\",\\\"#ff7c7c\\\",\\\"#9287e7\\\"]});\\n</script>\\n\""
      ]
     },
     "metadata": {},
     "output_type": "display_data"
    }
   ],
   "source": [
    "puts_header \"人群占比\"\n",
    "puts_display show_graph(group, & ->(x) {x.count} )"
   ]
  },
  {
   "cell_type": "code",
   "execution_count": 9,
   "metadata": {},
   "outputs": [
    {
     "data": {
      "text/html": [
       "<h1>V3人群占比</h1>"
      ],
      "text/plain": [
       "\"<h1>V3人群占比</h1>\""
      ]
     },
     "metadata": {},
     "output_type": "display_data"
    },
    {
     "data": {
      "text/html": [
       "<div id=\"chart-2\" style=\"height: 300px; width: 100%; text-align: center; color: #999; line-height: 300px; font-size: 14px; font-family: 'Lucida Grande', 'Lucida Sans Unicode', Verdana, Arial, Helvetica, sans-serif;\">Loading...</div><script type=\"text/javascript\">\n",
       "  new Chartkick[\"PieChart\"](\"chart-2\", [[\"已育\",80],[\"其他\",251]], {\"colors\":[\"#60acfc\",\"#32d3eb\",\"#5bc49f\",\"#feb64d\",\"#ff7c7c\",\"#9287e7\"]});\n",
       "</script>\n"
      ],
      "text/plain": [
       "\"<div id=\\\"chart-2\\\" style=\\\"height: 300px; width: 100%; text-align: center; color: #999; line-height: 300px; font-size: 14px; font-family: 'Lucida Grande', 'Lucida Sans Unicode', Verdana, Arial, Helvetica, sans-serif;\\\">Loading...</div><script type=\\\"text/javascript\\\">\\n  new Chartkick[\\\"PieChart\\\"](\\\"chart-2\\\", [[\\\"已育\\\",80],[\\\"其他\\\",251]], {\\\"colors\\\":[\\\"#60acfc\\\",\\\"#32d3eb\\\",\\\"#5bc49f\\\",\\\"#feb64d\\\",\\\"#ff7c7c\\\",\\\"#9287e7\\\"]});\\n</script>\\n\""
      ]
     },
     "metadata": {},
     "output_type": "display_data"
    }
   ],
   "source": [
    "puts_header \"V3人群占比\"\n",
    "puts_display show_graph(group, & ->(x) { User.where(id:x.id).v3.count } )"
   ]
  },
  {
   "cell_type": "code",
   "execution_count": 294,
   "metadata": {},
   "outputs": [
    {
     "data": {
      "text/html": [
       "<h1>V2人群占比</h1>"
      ],
      "text/plain": [
       "\"<h1>V2人群占比</h1>\""
      ]
     },
     "metadata": {},
     "output_type": "display_data"
    },
    {
     "data": {
      "text/html": [
       "<div id=\"chart-191\" style=\"height: 300px; width: 100%; text-align: center; color: #999; line-height: 300px; font-size: 14px; font-family: 'Lucida Grande', 'Lucida Sans Unicode', Verdana, Arial, Helvetica, sans-serif;\">Loading...</div><script type=\"text/javascript\">\n",
       "  new Chartkick[\"PieChart\"](\"chart-191\", [[\"已育\",51],[\"其他\",151]], {\"colors\":[\"#60acfc\",\"#32d3eb\",\"#5bc49f\",\"#feb64d\",\"#ff7c7c\",\"#9287e7\"]});\n",
       "</script>\n"
      ],
      "text/plain": [
       "\"<div id=\\\"chart-191\\\" style=\\\"height: 300px; width: 100%; text-align: center; color: #999; line-height: 300px; font-size: 14px; font-family: 'Lucida Grande', 'Lucida Sans Unicode', Verdana, Arial, Helvetica, sans-serif;\\\">Loading...</div><script type=\\\"text/javascript\\\">\\n  new Chartkick[\\\"PieChart\\\"](\\\"chart-191\\\", [[\\\"已育\\\",51],[\\\"其他\\\",151]], {\\\"colors\\\":[\\\"#60acfc\\\",\\\"#32d3eb\\\",\\\"#5bc49f\\\",\\\"#feb64d\\\",\\\"#ff7c7c\\\",\\\"#9287e7\\\"]});\\n</script>\\n\""
      ]
     },
     "metadata": {},
     "output_type": "display_data"
    }
   ],
   "source": [
    "puts_header \"V2人群占比\"\n",
    "puts_display show_graph(group, & ->(x) { User.where(id:x.id).v2.count } )"
   ]
  },
  {
   "cell_type": "code",
   "execution_count": 295,
   "metadata": {},
   "outputs": [
    {
     "data": {
      "text/html": [
       "<h1>V1人群占比</h1>"
      ],
      "text/plain": [
       "\"<h1>V1人群占比</h1>\""
      ]
     },
     "metadata": {},
     "output_type": "display_data"
    },
    {
     "data": {
      "text/html": [
       "<div id=\"chart-192\" style=\"height: 300px; width: 100%; text-align: center; color: #999; line-height: 300px; font-size: 14px; font-family: 'Lucida Grande', 'Lucida Sans Unicode', Verdana, Arial, Helvetica, sans-serif;\">Loading...</div><script type=\"text/javascript\">\n",
       "  new Chartkick[\"PieChart\"](\"chart-192\", [[\"已育\",71],[\"其他\",250]], {\"colors\":[\"#60acfc\",\"#32d3eb\",\"#5bc49f\",\"#feb64d\",\"#ff7c7c\",\"#9287e7\"]});\n",
       "</script>\n"
      ],
      "text/plain": [
       "\"<div id=\\\"chart-192\\\" style=\\\"height: 300px; width: 100%; text-align: center; color: #999; line-height: 300px; font-size: 14px; font-family: 'Lucida Grande', 'Lucida Sans Unicode', Verdana, Arial, Helvetica, sans-serif;\\\">Loading...</div><script type=\\\"text/javascript\\\">\\n  new Chartkick[\\\"PieChart\\\"](\\\"chart-192\\\", [[\\\"已育\\\",71],[\\\"其他\\\",250]], {\\\"colors\\\":[\\\"#60acfc\\\",\\\"#32d3eb\\\",\\\"#5bc49f\\\",\\\"#feb64d\\\",\\\"#ff7c7c\\\",\\\"#9287e7\\\"]});\\n</script>\\n\""
      ]
     },
     "metadata": {},
     "output_type": "display_data"
    }
   ],
   "source": [
    "puts_header \"V1人群占比\"\n",
    "puts_display show_graph(group, & ->(x) { User.where(id:x.id).v1.count } )"
   ]
  },
  {
   "cell_type": "code",
   "execution_count": 296,
   "metadata": {},
   "outputs": [
    {
     "data": {
      "text/html": [
       "<h1>V0人群占比</h1>"
      ],
      "text/plain": [
       "\"<h1>V0人群占比</h1>\""
      ]
     },
     "metadata": {},
     "output_type": "display_data"
    },
    {
     "data": {
      "text/html": [
       "<div id=\"chart-193\" style=\"height: 300px; width: 100%; text-align: center; color: #999; line-height: 300px; font-size: 14px; font-family: 'Lucida Grande', 'Lucida Sans Unicode', Verdana, Arial, Helvetica, sans-serif;\">Loading...</div><script type=\"text/javascript\">\n",
       "  new Chartkick[\"PieChart\"](\"chart-193\", [[\"已育\",242],[\"其他\",882]], {\"colors\":[\"#60acfc\",\"#32d3eb\",\"#5bc49f\",\"#feb64d\",\"#ff7c7c\",\"#9287e7\"]});\n",
       "</script>\n"
      ],
      "text/plain": [
       "\"<div id=\\\"chart-193\\\" style=\\\"height: 300px; width: 100%; text-align: center; color: #999; line-height: 300px; font-size: 14px; font-family: 'Lucida Grande', 'Lucida Sans Unicode', Verdana, Arial, Helvetica, sans-serif;\\\">Loading...</div><script type=\\\"text/javascript\\\">\\n  new Chartkick[\\\"PieChart\\\"](\\\"chart-193\\\", [[\\\"已育\\\",242],[\\\"其他\\\",882]], {\\\"colors\\\":[\\\"#60acfc\\\",\\\"#32d3eb\\\",\\\"#5bc49f\\\",\\\"#feb64d\\\",\\\"#ff7c7c\\\",\\\"#9287e7\\\"]});\\n</script>\\n\""
      ]
     },
     "metadata": {},
     "output_type": "display_data"
    }
   ],
   "source": [
    "puts_header \"V0人群占比\"\n",
    "puts_display show_graph(group, & ->(x) { User.where(id:x.id).v0.count } )"
   ]
  },
  {
   "cell_type": "code",
   "execution_count": 297,
   "metadata": {},
   "outputs": [
    {
     "data": {
      "text/html": [
       "<h1>人群预定情况</h1>"
      ],
      "text/plain": [
       "\"<h1>人群预定情况</h1>\""
      ]
     },
     "metadata": {},
     "output_type": "display_data"
    },
    {
     "data": {
      "text/html": [
       "<div id=\"chart-194\" style=\"height: 300px; width: 100%; text-align: center; color: #999; line-height: 300px; font-size: 14px; font-family: 'Lucida Grande', 'Lucida Sans Unicode', Verdana, Arial, Helvetica, sans-serif;\">Loading...</div><script type=\"text/javascript\">\n",
       "  new Chartkick[\"ColumnChart\"](\"chart-194\", [{\"name\":\"已育\",\"data\":[[\"2020-04-23\",8],[\"2020-04-24\",5],[\"2020-04-25\",4],[\"2020-04-26\",2],[\"2020-04-28\",2],[\"2020-04-29\",1],[\"2020-04-30\",1],[\"2020-05-07\",9],[\"2020-05-08\",9],[\"2020-05-09\",6],[\"2020-05-11\",1],[\"2020-05-12\",7],[\"2020-05-13\",1]]},{\"name\":\"其他\",\"data\":[[\"2020-04-23\",20],[\"2020-04-24\",16],[\"2020-04-25\",17],[\"2020-04-26\",3],[\"2020-04-27\",2],[\"2020-04-28\",15],[\"2020-04-29\",8],[\"2020-04-30\",12],[\"2020-05-05\",1],[\"2020-05-06\",1],[\"2020-05-07\",42],[\"2020-05-08\",41],[\"2020-05-09\",14],[\"2020-05-10\",4],[\"2020-05-12\",14],[\"2020-05-13\",20]]}], {\"colors\":[\"#60acfc\",\"#32d3eb\",\"#5bc49f\",\"#feb64d\",\"#ff7c7c\",\"#9287e7\"],\"stacked\":true});\n",
       "</script>\n"
      ],
      "text/plain": [
       "\"<div id=\\\"chart-194\\\" style=\\\"height: 300px; width: 100%; text-align: center; color: #999; line-height: 300px; font-size: 14px; font-family: 'Lucida Grande', 'Lucida Sans Unicode', Verdana, Arial, Helvetica, sans-serif;\\\">Loading...</div><script type=\\\"text/javascript\\\">\\n  new Chartkick[\\\"ColumnChart\\\"](\\\"chart-194\\\", [{\\\"name\\\":\\\"已育\\\",\\\"data\\\":[[\\\"2020-04-23\\\",8],[\\\"2020-04-24\\\",5],[\\\"2020-04-25\\\",4],[\\\"2020-04-26\\\",2],[\\\"2020-04-28\\\",2],[\\\"2020-04-29\\\",1],[\\\"2020-04-30\\\",1],[\\\"2020-05-07\\\",9],[\\\"2020-05-08\\\",9],[\\\"2020-05-09\\\",6],[\\\"2020-05-11\\\",1],[\\\"2020-05-12\\\",7],[\\\"2020-05-13\\\",1]]},{\\\"name\\\":\\\"其他\\\",\\\"data\\\":[[\\\"2020-04-23\\\",20],[\\\"2020-04-24\\\",16],[\\\"2020-04-25\\\",17],[\\\"2020-04-26\\\",3],[\\\"2020-04-27\\\",2],[\\\"2020-04-28\\\",15],[\\\"2020-04-29\\\",8],[\\\"2020-04-30\\\",12],[\\\"2020-05-05\\\",1],[\\\"2020-05-06\\\",1],[\\\"2020-05-07\\\",42],[\\\"2020-05-08\\\",41],[\\\"2020-05-09\\\",14],[\\\"2020-05-10\\\",4],[\\\"2020-05-12\\\",14],[\\\"2020-05-13\\\",20]]}], {\\\"colors\\\":[\\\"#60acfc\\\",\\\"#32d3eb\\\",\\\"#5bc49f\\\",\\\"#feb64d\\\",\\\"#ff7c7c\\\",\\\"#9287e7\\\"],\\\"stacked\\\":true});\\n</script>\\n\""
      ]
     },
     "metadata": {},
     "output_type": "display_data"
    }
   ],
   "source": [
    "puts_header \"人群预定情况\"\n",
    "puts_display show_graph(group, & ->(x) {x.orders.inhouse.group(:expect_day).where(\"expect_day >= ? and expect_day<=? \",Time.now, Time.now+21.day).count.map {|k,v| [k.to_s(:db)[0,10],v]}.sort.to_h} )"
   ]
  },
  {
   "cell_type": "code",
   "execution_count": 298,
   "metadata": {},
   "outputs": [
    {
     "data": {
      "text/html": [
       "<h1>人群对比情况 - 购买转化率</h1>"
      ],
      "text/plain": [
       "\"<h1>人群对比情况 - 购买转化率</h1>\""
      ]
     },
     "metadata": {},
     "output_type": "display_data"
    },
    {
     "data": {
      "text/html": [
       "<div id=\"chart-195\" style=\"height: 300px; width: 100%; text-align: center; color: #999; line-height: 300px; font-size: 14px; font-family: 'Lucida Grande', 'Lucida Sans Unicode', Verdana, Arial, Helvetica, sans-serif;\">Loading...</div><script type=\"text/javascript\">\n",
       "  new Chartkick[\"BarChart\"](\"chart-195\", [[\"已育\",31.53],[\"其他\",28.96]], {\"colors\":[\"#60acfc\",\"#32d3eb\",\"#5bc49f\",\"#feb64d\",\"#ff7c7c\",\"#9287e7\"]});\n",
       "</script>\n"
      ],
      "text/plain": [
       "\"<div id=\\\"chart-195\\\" style=\\\"height: 300px; width: 100%; text-align: center; color: #999; line-height: 300px; font-size: 14px; font-family: 'Lucida Grande', 'Lucida Sans Unicode', Verdana, Arial, Helvetica, sans-serif;\\\">Loading...</div><script type=\\\"text/javascript\\\">\\n  new Chartkick[\\\"BarChart\\\"](\\\"chart-195\\\", [[\\\"已育\\\",31.53],[\\\"其他\\\",28.96]], {\\\"colors\\\":[\\\"#60acfc\\\",\\\"#32d3eb\\\",\\\"#5bc49f\\\",\\\"#feb64d\\\",\\\"#ff7c7c\\\",\\\"#9287e7\\\"]});\\n</script>\\n\""
      ]
     },
     "metadata": {},
     "output_type": "display_data"
    }
   ],
   "source": [
    "puts_header \"人群对比情况 - 购买转化率\"\n",
    "puts_display show_graph(group, & ->(x) { ratio(x.orders.finish_purchase.purchase_rate,0.01) } )"
   ]
  },
  {
   "cell_type": "code",
   "execution_count": 299,
   "metadata": {},
   "outputs": [
    {
     "data": {
      "text/html": [
       "<h1>人群对比情况 - 年龄分布</h1>"
      ],
      "text/plain": [
       "\"<h1>人群对比情况 - 年龄分布</h1>\""
      ]
     },
     "metadata": {},
     "output_type": "display_data"
    },
    {
     "data": {
      "text/html": [
       "<div id=\"chart-196\" style=\"height: 300px; width: 100%; text-align: center; color: #999; line-height: 300px; font-size: 14px; font-family: 'Lucida Grande', 'Lucida Sans Unicode', Verdana, Arial, Helvetica, sans-serif;\">Loading...</div><script type=\"text/javascript\">\n",
       "  new Chartkick[\"ColumnChart\"](\"chart-196\", [{\"name\":\"已育\",\"data\":[[17.35,0.0],[22.05,5.0],[26.75,150.0],[31.45,256.0],[36.15,164.0],[40.85,59.0],[45.55,12.0],[50.25,15.0],[54.95,5.0],[59.65,3.0]]}], {\"colors\":[\"#60acfc\",\"#32d3eb\",\"#5bc49f\",\"#feb64d\",\"#ff7c7c\",\"#9287e7\"]});\n",
       "</script>\n",
       "<div id=\"chart-197\" style=\"height: 300px; width: 100%; text-align: center; color: #999; line-height: 300px; font-size: 14px; font-family: 'Lucida Grande', 'Lucida Sans Unicode', Verdana, Arial, Helvetica, sans-serif;\">Loading...</div><script type=\"text/javascript\">\n",
       "  new Chartkick[\"ColumnChart\"](\"chart-197\", [{\"name\":\"其他\",\"data\":[[17.35,51.0],[22.05,586.0],[26.75,1001.0],[31.45,413.0],[36.15,148.0],[40.85,76.0],[45.55,9.0],[50.25,10.0],[54.95,5.0],[59.65,1.0]]}], {\"colors\":[\"#60acfc\",\"#32d3eb\",\"#5bc49f\",\"#feb64d\",\"#ff7c7c\",\"#9287e7\"]});\n",
       "</script>\n"
      ],
      "text/plain": [
       "\"<div id=\\\"chart-196\\\" style=\\\"height: 300px; width: 100%; text-align: center; color: #999; line-height: 300px; font-size: 14px; font-family: 'Lucida Grande', 'Lucida Sans Unicode', Verdana, Arial, Helvetica, sans-serif;\\\">Loading...</div><script type=\\\"text/javascript\\\">\\n  new Chartkick[\\\"ColumnChart\\\"](\\\"chart-196\\\", [{\\\"name\\\":\\\"已育\\\",\\\"data\\\":[[17.35,0.0],[22.05,5.0],[26.75,150.0],[31.45,256.0],[36.15,164.0],[40.85,59.0],[45.55,12.0],[50.25,15.0],[54.95,5.0],[59.65,3.0]]}], {\\\"colors\\\":[\\\"#60acfc\\\",\\\"#32d3eb\\\",\\\"#5bc49f\\\",\\\"#feb64d\\\",\\\"#ff7c7c\\\",\\\"#9287e7\\\"]});\\n</script>\\n<div id=\\\"chart-197\\\" style=\\\"height: 300px; width: 100%; text-align: center; color: #999; line-height: 300px; font-size: 14px; font-family: 'Lucida Grande', 'Lucida Sans Unicode', Verdana, Arial, Helvetica, sans-serif;\\\">Loading...</div><script type=\\\"text/javascript\\\">\\n  new Chartkick[\\\"ColumnChart\\\"](\\\"chart-197\\\", [{\\\"name\\\":\\\"其他\\\",\\\"data\\\":[[17.35,51.0],[22.05,586.0],[26.75,1001.0],[31.45,413.0],[36.15,148.0],[40.85,76.0],[45.55,9.0],[50.25,10.0],[54.95,5.0],[59.65,1.0]]}], {\\\"colors\\\":[\\\"#60acfc\\\",\\\"#32d3eb\\\",\\\"#5bc49f\\\",\\\"#feb64d\\\",\\\"#ff7c7c\\\",\\\"#9287e7\\\"]});\\n</script>\\n\""
      ]
     },
     "metadata": {},
     "output_type": "display_data"
    }
   ],
   "source": [
    "puts_header \"人群对比情况 - 年龄分布\"\n",
    "puts_display show_graph(group, & ->(x) {x.property.birth.value.map do |y| ((Time.now - Time.zone.parse(y))/3600/24/365).round end} )       \n"
   ]
  },
  {
   "cell_type": "code",
   "execution_count": 300,
   "metadata": {},
   "outputs": [
    {
     "data": {
      "text/html": [
       "<h1>人群对比情况 - 身高分布</h1>"
      ],
      "text/plain": [
       "\"<h1>人群对比情况 - 身高分布</h1>\""
      ]
     },
     "metadata": {},
     "output_type": "display_data"
    },
    {
     "data": {
      "text/html": [
       "<div id=\"chart-198\" style=\"height: 300px; width: 100%; text-align: center; color: #999; line-height: 300px; font-size: 14px; font-family: 'Lucida Grande', 'Lucida Sans Unicode', Verdana, Arial, Helvetica, sans-serif;\">Loading...</div><script type=\"text/javascript\">\n",
       "  new Chartkick[\"ColumnChart\"](\"chart-198\", [{\"name\":\"已育\",\"data\":[[136.75,0.0],[142.25,0.0],[147.75,10.0],[153.25,62.0],[158.75,236.0],[164.25,215.0],[169.75,127.0],[175.25,14.0],[180.75,2.0],[186.25,0.0]]}], {\"colors\":[\"#60acfc\",\"#32d3eb\",\"#5bc49f\",\"#feb64d\",\"#ff7c7c\",\"#9287e7\"]});\n",
       "</script>\n",
       "<div id=\"chart-199\" style=\"height: 300px; width: 100%; text-align: center; color: #999; line-height: 300px; font-size: 14px; font-family: 'Lucida Grande', 'Lucida Sans Unicode', Verdana, Arial, Helvetica, sans-serif;\">Loading...</div><script type=\"text/javascript\">\n",
       "  new Chartkick[\"ColumnChart\"](\"chart-199\", [{\"name\":\"其他\",\"data\":[[136.75,1.0],[142.25,0.0],[147.75,29.0],[153.25,178.0],[158.75,799.0],[164.25,796.0],[169.75,425.0],[175.25,61.0],[180.75,8.0],[186.25,1.0]]}], {\"colors\":[\"#60acfc\",\"#32d3eb\",\"#5bc49f\",\"#feb64d\",\"#ff7c7c\",\"#9287e7\"]});\n",
       "</script>\n"
      ],
      "text/plain": [
       "\"<div id=\\\"chart-198\\\" style=\\\"height: 300px; width: 100%; text-align: center; color: #999; line-height: 300px; font-size: 14px; font-family: 'Lucida Grande', 'Lucida Sans Unicode', Verdana, Arial, Helvetica, sans-serif;\\\">Loading...</div><script type=\\\"text/javascript\\\">\\n  new Chartkick[\\\"ColumnChart\\\"](\\\"chart-198\\\", [{\\\"name\\\":\\\"已育\\\",\\\"data\\\":[[136.75,0.0],[142.25,0.0],[147.75,10.0],[153.25,62.0],[158.75,236.0],[164.25,215.0],[169.75,127.0],[175.25,14.0],[180.75,2.0],[186.25,0.0]]}], {\\\"colors\\\":[\\\"#60acfc\\\",\\\"#32d3eb\\\",\\\"#5bc49f\\\",\\\"#feb64d\\\",\\\"#ff7c7c\\\",\\\"#9287e7\\\"]});\\n</script>\\n<div id=\\\"chart-199\\\" style=\\\"height: 300px; width: 100%; text-align: center; color: #999; line-height: 300px; font-size: 14px; font-family: 'Lucida Grande', 'Lucida Sans Unicode', Verdana, Arial, Helvetica, sans-serif;\\\">Loading...</div><script type=\\\"text/javascript\\\">\\n  new Chartkick[\\\"ColumnChart\\\"](\\\"chart-199\\\", [{\\\"name\\\":\\\"其他\\\",\\\"data\\\":[[136.75,1.0],[142.25,0.0],[147.75,29.0],[153.25,178.0],[158.75,799.0],[164.25,796.0],[169.75,425.0],[175.25,61.0],[180.75,8.0],[186.25,1.0]]}], {\\\"colors\\\":[\\\"#60acfc\\\",\\\"#32d3eb\\\",\\\"#5bc49f\\\",\\\"#feb64d\\\",\\\"#ff7c7c\\\",\\\"#9287e7\\\"]});\\n</script>\\n\""
      ]
     },
     "metadata": {},
     "output_type": "display_data"
    }
   ],
   "source": [
    "puts_header \"人群对比情况 - 身高分布\"\n",
    "puts_display show_graph(group, & ->(x) {x.property.heigth.value.map(&:to_i) } )       "
   ]
  },
  {
   "cell_type": "code",
   "execution_count": 301,
   "metadata": {},
   "outputs": [
    {
     "data": {
      "text/html": [
       "<h1>人群对比情况 - 体重分布</h1>"
      ],
      "text/plain": [
       "\"<h1>人群对比情况 - 体重分布</h1>\""
      ]
     },
     "metadata": {},
     "output_type": "display_data"
    },
    {
     "data": {
      "text/html": [
       "<div id=\"chart-200\" style=\"height: 300px; width: 100%; text-align: center; color: #999; line-height: 300px; font-size: 14px; font-family: 'Lucida Grande', 'Lucida Sans Unicode', Verdana, Arial, Helvetica, sans-serif;\">Loading...</div><script type=\"text/javascript\">\n",
       "  new Chartkick[\"ColumnChart\"](\"chart-200\", [{\"name\":\"已育\",\"data\":[[4.0,0.0],[12.0,0.0],[20.0,0.0],[28.0,0.0],[36.0,2.0],[44.0,99.0],[52.0,318.0],[60.0,173.0],[68.0,62.0],[76.0,12.0]]}], {\"colors\":[\"#60acfc\",\"#32d3eb\",\"#5bc49f\",\"#feb64d\",\"#ff7c7c\",\"#9287e7\"]});\n",
       "</script>\n",
       "<div id=\"chart-201\" style=\"height: 300px; width: 100%; text-align: center; color: #999; line-height: 300px; font-size: 14px; font-family: 'Lucida Grande', 'Lucida Sans Unicode', Verdana, Arial, Helvetica, sans-serif;\">Loading...</div><script type=\"text/javascript\">\n",
       "  new Chartkick[\"ColumnChart\"](\"chart-201\", [{\"name\":\"其他\",\"data\":[[4.0,1.0],[12.0,0.0],[20.0,0.0],[28.0,0.0],[36.0,10.0],[44.0,496.0],[52.0,1230.0],[60.0,441.0],[68.0,95.0],[76.0,24.0]]}], {\"colors\":[\"#60acfc\",\"#32d3eb\",\"#5bc49f\",\"#feb64d\",\"#ff7c7c\",\"#9287e7\"]});\n",
       "</script>\n"
      ],
      "text/plain": [
       "\"<div id=\\\"chart-200\\\" style=\\\"height: 300px; width: 100%; text-align: center; color: #999; line-height: 300px; font-size: 14px; font-family: 'Lucida Grande', 'Lucida Sans Unicode', Verdana, Arial, Helvetica, sans-serif;\\\">Loading...</div><script type=\\\"text/javascript\\\">\\n  new Chartkick[\\\"ColumnChart\\\"](\\\"chart-200\\\", [{\\\"name\\\":\\\"已育\\\",\\\"data\\\":[[4.0,0.0],[12.0,0.0],[20.0,0.0],[28.0,0.0],[36.0,2.0],[44.0,99.0],[52.0,318.0],[60.0,173.0],[68.0,62.0],[76.0,12.0]]}], {\\\"colors\\\":[\\\"#60acfc\\\",\\\"#32d3eb\\\",\\\"#5bc49f\\\",\\\"#feb64d\\\",\\\"#ff7c7c\\\",\\\"#9287e7\\\"]});\\n</script>\\n<div id=\\\"chart-201\\\" style=\\\"height: 300px; width: 100%; text-align: center; color: #999; line-height: 300px; font-size: 14px; font-family: 'Lucida Grande', 'Lucida Sans Unicode', Verdana, Arial, Helvetica, sans-serif;\\\">Loading...</div><script type=\\\"text/javascript\\\">\\n  new Chartkick[\\\"ColumnChart\\\"](\\\"chart-201\\\", [{\\\"name\\\":\\\"其他\\\",\\\"data\\\":[[4.0,1.0],[12.0,0.0],[20.0,0.0],[28.0,0.0],[36.0,10.0],[44.0,496.0],[52.0,1230.0],[60.0,441.0],[68.0,95.0],[76.0,24.0]]}], {\\\"colors\\\":[\\\"#60acfc\\\",\\\"#32d3eb\\\",\\\"#5bc49f\\\",\\\"#feb64d\\\",\\\"#ff7c7c\\\",\\\"#9287e7\\\"]});\\n</script>\\n\""
      ]
     },
     "metadata": {},
     "output_type": "display_data"
    }
   ],
   "source": [
    "puts_header \"人群对比情况 - 体重分布\"\n",
    "puts_display show_graph(group, & ->(x) {x.property.weight.value.map(&:to_i) } )       "
   ]
  },
  {
   "cell_type": "code",
   "execution_count": 302,
   "metadata": {},
   "outputs": [
    {
     "data": {
      "text/html": [
       "<h1>人群对比情况 - 罩杯分布</h1>"
      ],
      "text/plain": [
       "\"<h1>人群对比情况 - 罩杯分布</h1>\""
      ]
     },
     "metadata": {},
     "output_type": "display_data"
    },
    {
     "data": {
      "text/html": [
       "<div id=\"chart-202\" style=\"height: 300px; width: 100%; text-align: center; color: #999; line-height: 300px; font-size: 14px; font-family: 'Lucida Grande', 'Lucida Sans Unicode', Verdana, Arial, Helvetica, sans-serif;\">Loading...</div><script type=\"text/javascript\">\n",
       "  new Chartkick[\"ColumnChart\"](\"chart-202\", [{\"name\":\"已育\",\"data\":[[\"\",3],[\"A\",192],[\"B\",315],[\"C\",109],[\"D\",26],[\"E\",9],[\"F\",2],[\"G\",3]]}], {\"colors\":[\"#60acfc\",\"#32d3eb\",\"#5bc49f\",\"#feb64d\",\"#ff7c7c\",\"#9287e7\"]});\n",
       "</script>\n",
       "<div id=\"chart-203\" style=\"height: 300px; width: 100%; text-align: center; color: #999; line-height: 300px; font-size: 14px; font-family: 'Lucida Grande', 'Lucida Sans Unicode', Verdana, Arial, Helvetica, sans-serif;\">Loading...</div><script type=\"text/javascript\">\n",
       "  new Chartkick[\"ColumnChart\"](\"chart-203\", [{\"name\":\"其他\",\"data\":[[\"\",6],[\"A\",758],[\"B\",1038],[\"C\",361],[\"D\",85],[\"E\",24],[\"F\",5],[\"G\",4]]}], {\"colors\":[\"#60acfc\",\"#32d3eb\",\"#5bc49f\",\"#feb64d\",\"#ff7c7c\",\"#9287e7\"]});\n",
       "</script>\n"
      ],
      "text/plain": [
       "\"<div id=\\\"chart-202\\\" style=\\\"height: 300px; width: 100%; text-align: center; color: #999; line-height: 300px; font-size: 14px; font-family: 'Lucida Grande', 'Lucida Sans Unicode', Verdana, Arial, Helvetica, sans-serif;\\\">Loading...</div><script type=\\\"text/javascript\\\">\\n  new Chartkick[\\\"ColumnChart\\\"](\\\"chart-202\\\", [{\\\"name\\\":\\\"已育\\\",\\\"data\\\":[[\\\"\\\",3],[\\\"A\\\",192],[\\\"B\\\",315],[\\\"C\\\",109],[\\\"D\\\",26],[\\\"E\\\",9],[\\\"F\\\",2],[\\\"G\\\",3]]}], {\\\"colors\\\":[\\\"#60acfc\\\",\\\"#32d3eb\\\",\\\"#5bc49f\\\",\\\"#feb64d\\\",\\\"#ff7c7c\\\",\\\"#9287e7\\\"]});\\n</script>\\n<div id=\\\"chart-203\\\" style=\\\"height: 300px; width: 100%; text-align: center; color: #999; line-height: 300px; font-size: 14px; font-family: 'Lucida Grande', 'Lucida Sans Unicode', Verdana, Arial, Helvetica, sans-serif;\\\">Loading...</div><script type=\\\"text/javascript\\\">\\n  new Chartkick[\\\"ColumnChart\\\"](\\\"chart-203\\\", [{\\\"name\\\":\\\"其他\\\",\\\"data\\\":[[\\\"\\\",6],[\\\"A\\\",758],[\\\"B\\\",1038],[\\\"C\\\",361],[\\\"D\\\",85],[\\\"E\\\",24],[\\\"F\\\",5],[\\\"G\\\",4]]}], {\\\"colors\\\":[\\\"#60acfc\\\",\\\"#32d3eb\\\",\\\"#5bc49f\\\",\\\"#feb64d\\\",\\\"#ff7c7c\\\",\\\"#9287e7\\\"]});\\n</script>\\n\""
      ]
     },
     "metadata": {},
     "output_type": "display_data"
    }
   ],
   "source": [
    "puts_header \"人群对比情况 - 罩杯分布\"\n",
    "puts_display show_graph(group, & ->(x) {x.property.cup.value })"
   ]
  },
  {
   "cell_type": "code",
   "execution_count": 303,
   "metadata": {},
   "outputs": [
    {
     "data": {
      "text/html": [
       "<h1>人群对比情况 - 职业分布</h1>"
      ],
      "text/plain": [
       "\"<h1>人群对比情况 - 职业分布</h1>\""
      ]
     },
     "metadata": {},
     "output_type": "display_data"
    },
    {
     "data": {
      "text/html": [
       "<div id=\"chart-204\" style=\"height: 300px; width: 100%; text-align: center; color: #999; line-height: 300px; font-size: 14px; font-family: 'Lucida Grande', 'Lucida Sans Unicode', Verdana, Arial, Helvetica, sans-serif;\">Loading...</div><script type=\"text/javascript\">\n",
       "  new Chartkick[\"ColumnChart\"](\"chart-204\", [{\"name\":\"已育\",\"data\":[[\"其他\",209],[\"政府/事业单位/社会保障\",119],[\"职员\",118],[\"金融/投资/银行/保险/财务/咨询\",80],[\"教育/培训/科研\",77],[\"自由职业\",64],[\"互联网/电子商务/通信/软件\",59],[\"家庭主妇\",54],[\"人事/财务/行政\",43],[\"医疗/卫生/制药\",39],[\"小学/中学教师\",36],[\"商贸/批发零售/消费/制造\",32],[\"地产/建筑/装修\",31],[\"人事/财务/行政职员\",27],[\"广告/媒体\",25],[\"部门/项目经理\",21]]}], {\"colors\":[\"#60acfc\",\"#32d3eb\",\"#5bc49f\",\"#feb64d\",\"#ff7c7c\",\"#9287e7\"]});\n",
       "</script>\n",
       "<div id=\"chart-205\" style=\"height: 300px; width: 100%; text-align: center; color: #999; line-height: 300px; font-size: 14px; font-family: 'Lucida Grande', 'Lucida Sans Unicode', Verdana, Arial, Helvetica, sans-serif;\">Loading...</div><script type=\"text/javascript\">\n",
       "  new Chartkick[\"ColumnChart\"](\"chart-205\", [{\"name\":\"其他\",\"data\":[[\"其他\",534],[\"学生\",365],[\"互联网/电子商务/通信/软件\",341],[\"职员\",299],[\"金融/投资/银行/保险/财务/咨询\",297],[\"大学在读\",249],[\"教育/培训/科研\",219],[\"政府/事业单位/社会保障\",204],[\"自由职业\",154],[\"设计师\",142],[\"广告/媒体\",125],[\"人事/财务/行政\",104],[\"运营/市场/产品\",100],[\"地产/建筑/装修\",97],[\"小学/中学教师\",94],[\"商贸/批发零售/消费/制造\",94]]}], {\"colors\":[\"#60acfc\",\"#32d3eb\",\"#5bc49f\",\"#feb64d\",\"#ff7c7c\",\"#9287e7\"]});\n",
       "</script>\n"
      ],
      "text/plain": [
       "\"<div id=\\\"chart-204\\\" style=\\\"height: 300px; width: 100%; text-align: center; color: #999; line-height: 300px; font-size: 14px; font-family: 'Lucida Grande', 'Lucida Sans Unicode', Verdana, Arial, Helvetica, sans-serif;\\\">Loading...</div><script type=\\\"text/javascript\\\">\\n  new Chartkick[\\\"ColumnChart\\\"](\\\"chart-204\\\", [{\\\"name\\\":\\\"已育\\\",\\\"data\\\":[[\\\"其他\\\",209],[\\\"政府/事业单位/社会保障\\\",119],[\\\"职员\\\",118],[\\\"金融/投资/银行/保险/财务/咨询\\\",80],[\\\"教育/培训/科研\\\",77],[\\\"自由职业\\\",64],[\\\"互联网/电子商务/通信/软件\\\",59],[\\\"家庭主妇\\\",54],[\\\"人事/财务/行政\\\",43],[\\\"医疗/卫生/制药\\\",39],[\\\"小学/中学教师\\\",36],[\\\"商贸/批发零售/消费/制造\\\",32],[\\\"地产/建筑/装修\\\",31],[\\\"人事/财务/行政职员\\\",27],[\\\"广告/媒体\\\",25],[\\\"部门/项目经理\\\",21]]}], {\\\"colors\\\":[\\\"#60acfc\\\",\\\"#32d3eb\\\",\\\"#5bc49f\\\",\\\"#feb64d\\\",\\\"#ff7c7c\\\",\\\"#9287e7\\\"]});\\n</script>\\n<div id=\\\"chart-205\\\" style=\\\"height: 300px; width: 100%; text-align: center; color: #999; line-height: 300px; font-size: 14px; font-family: 'Lucida Grande', 'Lucida Sans Unicode', Verdana, Arial, Helvetica, sans-serif;\\\">Loading...</div><script type=\\\"text/javascript\\\">\\n  new Chartkick[\\\"ColumnChart\\\"](\\\"chart-205\\\", [{\\\"name\\\":\\\"其他\\\",\\\"data\\\":[[\\\"其他\\\",534],[\\\"学生\\\",365],[\\\"互联网/电子商务/通信/软件\\\",341],[\\\"职员\\\",299],[\\\"金融/投资/银行/保险/财务/咨询\\\",297],[\\\"大学在读\\\",249],[\\\"教育/培训/科研\\\",219],[\\\"政府/事业单位/社会保障\\\",204],[\\\"自由职业\\\",154],[\\\"设计师\\\",142],[\\\"广告/媒体\\\",125],[\\\"人事/财务/行政\\\",104],[\\\"运营/市场/产品\\\",100],[\\\"地产/建筑/装修\\\",97],[\\\"小学/中学教师\\\",94],[\\\"商贸/批发零售/消费/制造\\\",94]]}], {\\\"colors\\\":[\\\"#60acfc\\\",\\\"#32d3eb\\\",\\\"#5bc49f\\\",\\\"#feb64d\\\",\\\"#ff7c7c\\\",\\\"#9287e7\\\"]});\\n</script>\\n\""
      ]
     },
     "metadata": {},
     "output_type": "display_data"
    }
   ],
   "source": [
    "puts_header \"人群对比情况 - 职业分布\"\n",
    "puts_display show_graph(group, & ->(x) {x.property.occupation.value.map{|x| x.split(\",\")}.flatten })"
   ]
  },
  {
   "cell_type": "code",
   "execution_count": 304,
   "metadata": {},
   "outputs": [
    {
     "data": {
      "text/html": [
       "<h1>人群对比情况 - 日常风格分布</h1>"
      ],
      "text/plain": [
       "\"<h1>人群对比情况 - 日常风格分布</h1>\""
      ]
     },
     "metadata": {},
     "output_type": "display_data"
    },
    {
     "data": {
      "text/html": [
       "<div id=\"chart-206\" style=\"height: 300px; width: 100%; text-align: center; color: #999; line-height: 300px; font-size: 14px; font-family: 'Lucida Grande', 'Lucida Sans Unicode', Verdana, Arial, Helvetica, sans-serif;\">Loading...</div><script type=\"text/javascript\">\n",
       "  new Chartkick[\"ColumnChart\"](\"chart-206\", [{\"name\":\"已育\",\"data\":[[\"设计感OL\",365],[\"轻奢简约OL\",314],[\"时装周街拍girl\",252],[\"温柔小姐姐\",231],[\"优衣库女孩\",197],[\"法式复古\",150],[\"韩系淑女\",144],[\"高级名媛OL\",111],[\"美式复古\",92],[\"时髦潮酷\",84],[\"日系森女\",78],[\"清新田园\",67],[\"超A时髦girl\",60],[\"学院派少女\",52],[\"暗黑酷女孩\",51],[\"街头潮酷\",10]]}], {\"colors\":[\"#60acfc\",\"#32d3eb\",\"#5bc49f\",\"#feb64d\",\"#ff7c7c\",\"#9287e7\"]});\n",
       "</script>\n",
       "<div id=\"chart-207\" style=\"height: 300px; width: 100%; text-align: center; color: #999; line-height: 300px; font-size: 14px; font-family: 'Lucida Grande', 'Lucida Sans Unicode', Verdana, Arial, Helvetica, sans-serif;\">Loading...</div><script type=\"text/javascript\">\n",
       "  new Chartkick[\"ColumnChart\"](\"chart-207\", [{\"name\":\"其他\",\"data\":[[\"设计感OL\",1049],[\"轻奢简约OL\",845],[\"时装周街拍girl\",791],[\"温柔小姐姐\",769],[\"优衣库女孩\",721],[\"法式复古\",700],[\"美式复古\",484],[\"韩系淑女\",478],[\"日系森女\",431],[\"时髦潮酷\",386],[\"学院派少女\",346],[\"高级名媛OL\",343],[\"暗黑酷女孩\",278],[\"清新田园\",271],[\"超A时髦girl\",232],[\"街头潮酷\",73]]}], {\"colors\":[\"#60acfc\",\"#32d3eb\",\"#5bc49f\",\"#feb64d\",\"#ff7c7c\",\"#9287e7\"]});\n",
       "</script>\n"
      ],
      "text/plain": [
       "\"<div id=\\\"chart-206\\\" style=\\\"height: 300px; width: 100%; text-align: center; color: #999; line-height: 300px; font-size: 14px; font-family: 'Lucida Grande', 'Lucida Sans Unicode', Verdana, Arial, Helvetica, sans-serif;\\\">Loading...</div><script type=\\\"text/javascript\\\">\\n  new Chartkick[\\\"ColumnChart\\\"](\\\"chart-206\\\", [{\\\"name\\\":\\\"已育\\\",\\\"data\\\":[[\\\"设计感OL\\\",365],[\\\"轻奢简约OL\\\",314],[\\\"时装周街拍girl\\\",252],[\\\"温柔小姐姐\\\",231],[\\\"优衣库女孩\\\",197],[\\\"法式复古\\\",150],[\\\"韩系淑女\\\",144],[\\\"高级名媛OL\\\",111],[\\\"美式复古\\\",92],[\\\"时髦潮酷\\\",84],[\\\"日系森女\\\",78],[\\\"清新田园\\\",67],[\\\"超A时髦girl\\\",60],[\\\"学院派少女\\\",52],[\\\"暗黑酷女孩\\\",51],[\\\"街头潮酷\\\",10]]}], {\\\"colors\\\":[\\\"#60acfc\\\",\\\"#32d3eb\\\",\\\"#5bc49f\\\",\\\"#feb64d\\\",\\\"#ff7c7c\\\",\\\"#9287e7\\\"]});\\n</script>\\n<div id=\\\"chart-207\\\" style=\\\"height: 300px; width: 100%; text-align: center; color: #999; line-height: 300px; font-size: 14px; font-family: 'Lucida Grande', 'Lucida Sans Unicode', Verdana, Arial, Helvetica, sans-serif;\\\">Loading...</div><script type=\\\"text/javascript\\\">\\n  new Chartkick[\\\"ColumnChart\\\"](\\\"chart-207\\\", [{\\\"name\\\":\\\"其他\\\",\\\"data\\\":[[\\\"设计感OL\\\",1049],[\\\"轻奢简约OL\\\",845],[\\\"时装周街拍girl\\\",791],[\\\"温柔小姐姐\\\",769],[\\\"优衣库女孩\\\",721],[\\\"法式复古\\\",700],[\\\"美式复古\\\",484],[\\\"韩系淑女\\\",478],[\\\"日系森女\\\",431],[\\\"时髦潮酷\\\",386],[\\\"学院派少女\\\",346],[\\\"高级名媛OL\\\",343],[\\\"暗黑酷女孩\\\",278],[\\\"清新田园\\\",271],[\\\"超A时髦girl\\\",232],[\\\"街头潮酷\\\",73]]}], {\\\"colors\\\":[\\\"#60acfc\\\",\\\"#32d3eb\\\",\\\"#5bc49f\\\",\\\"#feb64d\\\",\\\"#ff7c7c\\\",\\\"#9287e7\\\"]});\\n</script>\\n\""
      ]
     },
     "metadata": {},
     "output_type": "display_data"
    }
   ],
   "source": [
    "puts_header \"人群对比情况 - 日常风格分布\"\n",
    "puts_display show_graph(group, & ->(x) {x.property.sel_style.value.map{|x| x.split(\",\")}.flatten })"
   ]
  },
  {
   "cell_type": "code",
   "execution_count": 305,
   "metadata": {},
   "outputs": [
    {
     "data": {
      "text/html": [
       "<h1>人群对比情况 - 用户标签分布</h1>"
      ],
      "text/plain": [
       "\"<h1>人群对比情况 - 用户标签分布</h1>\""
      ]
     },
     "metadata": {},
     "output_type": "display_data"
    },
    {
     "data": {
      "text/html": [
       "<div id=\"chart-208\" style=\"height: 300px; width: 100%; text-align: center; color: #999; line-height: 300px; font-size: 14px; font-family: 'Lucida Grande', 'Lucida Sans Unicode', Verdana, Arial, Helvetica, sans-serif;\">Loading...</div><script type=\"text/javascript\">\n",
       "  new Chartkick[\"ColumnChart\"](\"chart-208\", [{\"name\":\"已育\",\"data\":[[\"传统淑女\",22],[\"大女装\",16],[\"非正式职业\",15],[\"设计师感时髦类\",13],[\"时髦潮酷类\",12],[\"胖妹\",12],[\"温柔小姐姐类\",11],[\"优衣库女孩类\",11],[\"比较时髦\",10],[\"亲友\",8],[\"高级名媛OL类\",7],[\"澳牌姑娘\",6],[\"金融类职业\",5],[\"暗黑酷女孩类\",5],[\"小仙女时髦类\",4],[\"女性印花类\",3]]}], {\"colors\":[\"#60acfc\",\"#32d3eb\",\"#5bc49f\",\"#feb64d\",\"#ff7c7c\",\"#9287e7\"]});\n",
       "</script>\n",
       "<div id=\"chart-209\" style=\"height: 300px; width: 100%; text-align: center; color: #999; line-height: 300px; font-size: 14px; font-family: 'Lucida Grande', 'Lucida Sans Unicode', Verdana, Arial, Helvetica, sans-serif;\">Loading...</div><script type=\"text/javascript\">\n",
       "  new Chartkick[\"ColumnChart\"](\"chart-209\", [{\"name\":\"其他\",\"data\":[[\"传统淑女\",107],[\"非正式职业\",81],[\"设计师感时髦类\",55],[\"时髦潮酷类\",51],[\"温柔小姐姐类\",41],[\"日系森女\",39],[\"复古类\",37],[\"比较时髦\",34],[\"优衣库女孩类\",32],[\"大女装\",30],[\"亲友\",28],[\"金融类职业\",27],[\"澳牌姑娘\",22],[\"小仙女时髦类\",20],[\"胖妹\",19],[\"大学生\",18]]}], {\"colors\":[\"#60acfc\",\"#32d3eb\",\"#5bc49f\",\"#feb64d\",\"#ff7c7c\",\"#9287e7\"]});\n",
       "</script>\n"
      ],
      "text/plain": [
       "\"<div id=\\\"chart-208\\\" style=\\\"height: 300px; width: 100%; text-align: center; color: #999; line-height: 300px; font-size: 14px; font-family: 'Lucida Grande', 'Lucida Sans Unicode', Verdana, Arial, Helvetica, sans-serif;\\\">Loading...</div><script type=\\\"text/javascript\\\">\\n  new Chartkick[\\\"ColumnChart\\\"](\\\"chart-208\\\", [{\\\"name\\\":\\\"已育\\\",\\\"data\\\":[[\\\"传统淑女\\\",22],[\\\"大女装\\\",16],[\\\"非正式职业\\\",15],[\\\"设计师感时髦类\\\",13],[\\\"时髦潮酷类\\\",12],[\\\"胖妹\\\",12],[\\\"温柔小姐姐类\\\",11],[\\\"优衣库女孩类\\\",11],[\\\"比较时髦\\\",10],[\\\"亲友\\\",8],[\\\"高级名媛OL类\\\",7],[\\\"澳牌姑娘\\\",6],[\\\"金融类职业\\\",5],[\\\"暗黑酷女孩类\\\",5],[\\\"小仙女时髦类\\\",4],[\\\"女性印花类\\\",3]]}], {\\\"colors\\\":[\\\"#60acfc\\\",\\\"#32d3eb\\\",\\\"#5bc49f\\\",\\\"#feb64d\\\",\\\"#ff7c7c\\\",\\\"#9287e7\\\"]});\\n</script>\\n<div id=\\\"chart-209\\\" style=\\\"height: 300px; width: 100%; text-align: center; color: #999; line-height: 300px; font-size: 14px; font-family: 'Lucida Grande', 'Lucida Sans Unicode', Verdana, Arial, Helvetica, sans-serif;\\\">Loading...</div><script type=\\\"text/javascript\\\">\\n  new Chartkick[\\\"ColumnChart\\\"](\\\"chart-209\\\", [{\\\"name\\\":\\\"其他\\\",\\\"data\\\":[[\\\"传统淑女\\\",107],[\\\"非正式职业\\\",81],[\\\"设计师感时髦类\\\",55],[\\\"时髦潮酷类\\\",51],[\\\"温柔小姐姐类\\\",41],[\\\"日系森女\\\",39],[\\\"复古类\\\",37],[\\\"比较时髦\\\",34],[\\\"优衣库女孩类\\\",32],[\\\"大女装\\\",30],[\\\"亲友\\\",28],[\\\"金融类职业\\\",27],[\\\"澳牌姑娘\\\",22],[\\\"小仙女时髦类\\\",20],[\\\"胖妹\\\",19],[\\\"大学生\\\",18]]}], {\\\"colors\\\":[\\\"#60acfc\\\",\\\"#32d3eb\\\",\\\"#5bc49f\\\",\\\"#feb64d\\\",\\\"#ff7c7c\\\",\\\"#9287e7\\\"]});\\n</script>\\n\""
      ]
     },
     "metadata": {},
     "output_type": "display_data"
    }
   ],
   "source": [
    "puts_header \"人群对比情况 - 用户标签分布\"\n",
    "puts_display show_graph(group, & ->(x) {x.property.style.value.map {|x| x.split(\",\")}.flatten.filter do |x| x[0]!=\"V\" and x!=\"\" end })"
   ]
  },
  {
   "cell_type": "code",
   "execution_count": null,
   "metadata": {},
   "outputs": [],
   "source": []
  }
 ],
 "metadata": {
  "kernelspec": {
   "display_name": "Ruby 2.7.0",
   "language": "ruby",
   "name": "ruby"
  },
  "language_info": {
   "file_extension": ".rb",
   "mimetype": "application/x-ruby",
   "name": "ruby",
   "version": "2.7.0"
  }
 },
 "nbformat": 4,
 "nbformat_minor": 4
}
