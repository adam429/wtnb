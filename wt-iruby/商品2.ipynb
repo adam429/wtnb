{
 "cells": [
  {
   "cell_type": "code",
   "execution_count": 1,
   "metadata": {},
   "outputs": [
    {
     "data": {
      "text/html": [
       "<script src='https://unpkg.com/vue/dist/vue.js'></script>\n",
       "<script src='https://unpkg.com/chart.js@2.9.3/dist/Chart.bundle.js'></script>\n",
       "<script src='https://unpkg.com/vue-chartkick@0.5.1/dist/vue-chartkick.js'></script>\n",
       "<script src='https://unpkg.com/element-ui/lib/index.js'></script>\n"
      ],
      "text/plain": [
       "\"<script src='https://unpkg.com/vue/dist/vue.js'></script>\\n<script src='https://unpkg.com/chart.js@2.9.3/dist/Chart.bundle.js'></script>\\n<script src='https://unpkg.com/vue-chartkick@0.5.1/dist/vue-chartkick.js'></script>\\n<script src='https://unpkg.com/element-ui/lib/index.js'></script>\\n\""
      ]
     },
     "metadata": {},
     "output_type": "display_data"
    },
    {
     "data": {
      "text/html": [
       "<link rel='stylesheet' href='https://unpkg.com/element-ui/lib/theme-chalk/index.css'>\n"
      ],
      "text/plain": [
       "\"<link rel='stylesheet' href='https://unpkg.com/element-ui/lib/theme-chalk/index.css'>\\n\""
      ]
     },
     "metadata": {},
     "output_type": "display_data"
    },
    {
     "data": {
      "text/plain": [
       "true"
      ]
     },
     "execution_count": 1,
     "metadata": {},
     "output_type": "execute_result"
    }
   ],
   "source": [
    "## 设置数据库 & 定义数据模型\n",
    "    \n",
    "load './wtnb/wtnb.rb'\n",
    "load './wtnb/wtmodel.rb'\n",
    "\n",
    "IRuby.display IRuby.html(include_js)\n",
    "IRuby.display IRuby.html(include_css)\n",
    "nil\n",
    "\n",
    "connect_db(\"online\")\n",
    "enable_cache()"
   ]
  },
  {
   "cell_type": "code",
   "execution_count": 2,
   "metadata": {},
   "outputs": [],
   "source": [
    "## 引入人群  & 商品\n",
    "\n",
    "group = Store[\"group_marriage\"]\n",
    "nil"
   ]
  },
  {
   "cell_type": "code",
   "execution_count": 18,
   "metadata": {},
   "outputs": [
    {
     "data": {
      "text/html": [
       "<h1>春夏 想要 / 不想要的 品类</h1>"
      ],
      "text/plain": [
       "\"<h1>春夏 想要 / 不想要的 品类</h1>\""
      ]
     },
     "metadata": {},
     "output_type": "display_data"
    },
    {
     "data": {
      "text/html": [
       "<div id=\"chart-5\" style=\"height: 300px; width: 100%; text-align: center; color: #999; line-height: 300px; font-size: 14px; font-family: 'Lucida Grande', 'Lucida Sans Unicode', Verdana, Arial, Helvetica, sans-serif;\">Loading...</div><script type=\"text/javascript\">\n",
       "  new Chartkick[\"ColumnChart\"](\"chart-5\", [[\"连衣裙\",834],[\"衬衫\",737],[\"休闲裤\",380],[\"半裙\",354],[\"西装\",305],[\"外套\",270],[\"开衫\",244],[\"西装裤\",241],[\"牛仔裤\",213],[\"T恤\",176]], {});\n",
       "</script>\n"
      ],
      "text/plain": [
       "\"<div id=\\\"chart-5\\\" style=\\\"height: 300px; width: 100%; text-align: center; color: #999; line-height: 300px; font-size: 14px; font-family: 'Lucida Grande', 'Lucida Sans Unicode', Verdana, Arial, Helvetica, sans-serif;\\\">Loading...</div><script type=\\\"text/javascript\\\">\\n  new Chartkick[\\\"ColumnChart\\\"](\\\"chart-5\\\", [[\\\"连衣裙\\\",834],[\\\"衬衫\\\",737],[\\\"休闲裤\\\",380],[\\\"半裙\\\",354],[\\\"西装\\\",305],[\\\"外套\\\",270],[\\\"开衫\\\",244],[\\\"西装裤\\\",241],[\\\"牛仔裤\\\",213],[\\\"T恤\\\",176]], {});\\n</script>\\n\""
      ]
     },
     "metadata": {},
     "output_type": "display_data"
    },
    {
     "data": {
      "text/html": [
       "<div id=\"chart-6\" style=\"height: 300px; width: 100%; text-align: center; color: #999; line-height: 300px; font-size: 14px; font-family: 'Lucida Grande', 'Lucida Sans Unicode', Verdana, Arial, Helvetica, sans-serif;\">Loading...</div><script type=\"text/javascript\">\n",
       "  new Chartkick[\"ColumnChart\"](\"chart-6\", [[\"家居服\",867],[\"大衣\",769],[\"卫衣\",572],[\"毛衣\",549],[\"首饰\",377],[\"风衣\",340],[\"西装裤\",275],[\"外套\",274],[\"牛仔裤\",251],[\"打底衫\",251]], {});\n",
       "</script>\n"
      ],
      "text/plain": [
       "\"<div id=\\\"chart-6\\\" style=\\\"height: 300px; width: 100%; text-align: center; color: #999; line-height: 300px; font-size: 14px; font-family: 'Lucida Grande', 'Lucida Sans Unicode', Verdana, Arial, Helvetica, sans-serif;\\\">Loading...</div><script type=\\\"text/javascript\\\">\\n  new Chartkick[\\\"ColumnChart\\\"](\\\"chart-6\\\", [[\\\"家居服\\\",867],[\\\"大衣\\\",769],[\\\"卫衣\\\",572],[\\\"毛衣\\\",549],[\\\"首饰\\\",377],[\\\"风衣\\\",340],[\\\"西装裤\\\",275],[\\\"外套\\\",274],[\\\"牛仔裤\\\",251],[\\\"打底衫\\\",251]], {});\\n</script>\\n\""
      ]
     },
     "metadata": {},
     "output_type": "display_data"
    }
   ],
   "source": [
    "all_category = User.orders.where(\"month(expect_day)>=3 and year(expect_day)=2020\").where(\"status>0\").product.pluck(:like_category).filter{|x| x!=\"\" and x!=nil and x.match(/spring/) }.\n",
    "    map do |x| x.split(\",\").filter{|x| x!=\"spring\"} end.flatten.tally.sort {|x,y| -1*(x[1]<=>y[1])}[0,10].to_h\n",
    "\n",
    "not_category = User.orders.where(\"month(expect_day)>=3 and year(expect_day)=2020\").where(\"status>0\").product.pluck(:dislike_category).filter{|x| x!=\"\" and x!=nil }.\n",
    "        map do |x| x.split(\",\") end.flatten.tally.sort {|x,y| -1*(x[1]<=>y[1])}[0,10].to_h\n",
    "\n",
    "\n",
    "puts_header \"春夏 想要 / 不想要的 品类\"\n",
    "puts_display column_chart(all_category)\n",
    "puts_display column_chart(not_category)\n",
    "\n"
   ]
  },
  {
   "cell_type": "code",
   "execution_count": 4,
   "metadata": {
    "collapsed": true,
    "jupyter": {
     "outputs_hidden": true
    }
   },
   "outputs": [
    {
     "data": {
      "text/html": [
       "<h1>秋冬 想要 品类</h1>"
      ],
      "text/plain": [
       "\"<h1>秋冬 想要 品类</h1>\""
      ]
     },
     "metadata": {},
     "output_type": "display_data"
    },
    {
     "data": {
      "text/html": [
       "<div id=\"chart-3\" style=\"height: 300px; width: 100%; text-align: center; color: #999; line-height: 300px; font-size: 14px; font-family: 'Lucida Grande', 'Lucida Sans Unicode', Verdana, Arial, Helvetica, sans-serif;\">Loading...</div><script type=\"text/javascript\">\n",
       "  new Chartkick[\"ColumnChart\"](\"chart-3\", [[\"连衣裙\",560],[\"毛衣\",435],[\"半裙\",344],[\"外套\",320],[\"大衣\",288],[\"休闲裤\",241],[\"衬衫\",207],[\"牛仔裤\",194],[\"西装\",172],[\"羽绒服/棉服\",169]], {});\n",
       "</script>\n"
      ],
      "text/plain": [
       "\"<div id=\\\"chart-3\\\" style=\\\"height: 300px; width: 100%; text-align: center; color: #999; line-height: 300px; font-size: 14px; font-family: 'Lucida Grande', 'Lucida Sans Unicode', Verdana, Arial, Helvetica, sans-serif;\\\">Loading...</div><script type=\\\"text/javascript\\\">\\n  new Chartkick[\\\"ColumnChart\\\"](\\\"chart-3\\\", [[\\\"连衣裙\\\",560],[\\\"毛衣\\\",435],[\\\"半裙\\\",344],[\\\"外套\\\",320],[\\\"大衣\\\",288],[\\\"休闲裤\\\",241],[\\\"衬衫\\\",207],[\\\"牛仔裤\\\",194],[\\\"西装\\\",172],[\\\"羽绒服/棉服\\\",169]], {});\\n</script>\\n\""
      ]
     },
     "metadata": {},
     "output_type": "display_data"
    },
    {
     "data": {
      "text/html": [
       "<div id=\"chart-4\" style=\"height: 300px; width: 100%; text-align: center; color: #999; line-height: 300px; font-size: 14px; font-family: 'Lucida Grande', 'Lucida Sans Unicode', Verdana, Arial, Helvetica, sans-serif;\">Loading...</div><script type=\"text/javascript\">\n",
       "  new Chartkick[\"ColumnChart\"](\"chart-4\", [[\"winter\",1234],[\"家居服\",868],[\"打底裤袜\",577],[\"羽绒服/棉服\",439],[\"西装裤\",368],[\"卫衣\",356],[\"围巾\",352],[\"西装\",343],[\"首饰\",263],[\"牛仔裤\",227]], {});\n",
       "</script>\n"
      ],
      "text/plain": [
       "\"<div id=\\\"chart-4\\\" style=\\\"height: 300px; width: 100%; text-align: center; color: #999; line-height: 300px; font-size: 14px; font-family: 'Lucida Grande', 'Lucida Sans Unicode', Verdana, Arial, Helvetica, sans-serif;\\\">Loading...</div><script type=\\\"text/javascript\\\">\\n  new Chartkick[\\\"ColumnChart\\\"](\\\"chart-4\\\", [[\\\"winter\\\",1234],[\\\"家居服\\\",868],[\\\"打底裤袜\\\",577],[\\\"羽绒服/棉服\\\",439],[\\\"西装裤\\\",368],[\\\"卫衣\\\",356],[\\\"围巾\\\",352],[\\\"西装\\\",343],[\\\"首饰\\\",263],[\\\"牛仔裤\\\",227]], {});\\n</script>\\n\""
      ]
     },
     "metadata": {},
     "output_type": "display_data"
    }
   ],
   "source": [
    "all_category = User.orders.where(\"status>0\").where(\"not (month(expect_day)>=3 and year(expect_day)=2020) \").product.pluck(:like_category).filter{|x| x!=\"\" and x!=nil and x.match(/winter/) }.\n",
    "    map do |x| x.split(\",\").filter{|x| x!=\"winter\"} end.flatten.tally.sort {|x,y| -1*(x[1]<=>y[1])}[0,10].to_h\n",
    "\n",
    "not_category = User.orders.where(\"not (month(expect_day)>=3 and year(expect_day)=2020) \") .where(\"status>0\").product.pluck(:dislike_category).filter{|x| x!=\"\" and x!=nil }.\n",
    "        map do |x| x.split(\",\") end.flatten.tally.sort {|x,y| -1*(x[1]<=>y[1])}[0,10].to_h\n",
    "\n",
    "puts_header \"秋冬 想要 品类\"\n",
    "puts_display column_chart(all_category)\n",
    "puts_display column_chart(not_category)\n",
    "\n",
    "\n"
   ]
  },
  {
   "cell_type": "code",
   "execution_count": 200,
   "metadata": {},
   "outputs": [
    {
     "name": "stdout",
     "output_type": "stream",
     "text": [
      "22 seconds\n"
     ]
    }
   ],
   "source": [
    "product = []\n",
    "连衣裙 = 其他 = 首饰 = 裤子 = 内衣 = []\n",
    "time {\n",
    "    内衣cat = [96,100,99,103,95,98,101,102,104,109,106]\n",
    "    裤子cat = [53,54,45,46,47,51,48,55,49,50,52]\n",
    "    其他cat = [106,114,107,113,105]\n",
    "    首饰cat = [23,27,21,22,111,24,25,26,16,17,15,18,20,19]\n",
    "    连衣裙cat = [65,66,67,64]\n",
    "\n",
    "    内衣 = (ProductSpu.where(\"member_price<600\").where(category_id:内衣cat).where(status:2).where(spu:Warehouse.unsold.joins(:product_spu).group(ProductSpu.arel_table[:spu]).count.\n",
    "            filter {|k,v| v>5 }.map {|k,v| k}).\n",
    "                    pmap do |x| [x.spu,x.category,\n",
    "                        ratio(Orders.finish_purchase.item.keep.where(spu:x.spu).sold.size, Orders.finish_purchase.item.keep.where(spu:x.spu).size),\n",
    "                        Orders.finish_purchase.item.keep.where(spu:x.spu).size ]\n",
    "                    end.filter do |x| x[2]>0.20 and x[3]>=20 end.map do |x| x[0] end)\n",
    "\n",
    "    连衣裙 = (ProductSpu.where(\"member_price<600\").where(category_id:连衣裙cat).where(status:2).where(spu:Warehouse.unsold.joins(:product_spu).group(ProductSpu.arel_table[:spu]).count.\n",
    "        filter {|k,v| v>5 }.map {|k,v| k}).\n",
    "                pmap do |x| [x.spu,x.category,\n",
    "                    ratio(Orders.finish_purchase.item.keep.where(spu:x.spu).sold.size, Orders.finish_purchase.item.keep.where(spu:x.spu).size),\n",
    "                    Orders.finish_purchase.item.keep.where(spu:x.spu).size ]\n",
    "                end.filter do |x| x[2]>0.15 and x[3]>=10 end.map do |x| x[0] end)\n",
    "\n",
    "\n",
    "    裤子 = (ProductSpu.where(\"member_price<600\").where(category_id:裤子cat).where(status:2).where(spu:Warehouse.unsold.joins(:product_spu).group(ProductSpu.arel_table[:spu]).count.\n",
    "            filter {|k,v| v>5 }.map {|k,v| k}).\n",
    "                    pmap do |x| [x.spu,x.category,\n",
    "                        ratio(Orders.finish_purchase.item.keep.where(spu:x.spu).sold.size, Orders.finish_purchase.item.keep.where(spu:x.spu).size),\n",
    "                        Orders.finish_purchase.item.keep.where(spu:x.spu).size ]\n",
    "                    end.filter do |x| x[2]>0.20 and x[3]>=20 end.map do |x| x[0] end)\n",
    "  \n",
    "    首饰 = (ProductSpu.where(\"member_price<600\").where(category_id:首饰cat).where(status:2).where(spu:Warehouse.unsold.joins(:product_spu).group(ProductSpu.arel_table[:spu]).count.\n",
    "            filter {|k,v| v>5 }.map {|k,v| k}).\n",
    "                    pmap do |x| [x.spu,x.category,\n",
    "                        ratio(Orders.finish_purchase.item.keep.where(spu:x.spu).sold.size, Orders.finish_purchase.item.keep.where(spu:x.spu).size),\n",
    "                        Orders.finish_purchase.item.keep.where(spu:x.spu).size ]\n",
    "                    end.filter do |x| x[2]>0.20 and x[3]>=30 end.map do |x| x[0] end)\n",
    "\n",
    "    其他 = (ProductSpu.where(\"member_price<600\").where.not(category_id:[内衣cat+裤子cat+连衣裙cat+首饰cat+其他cat]).where(status:2).where(spu:Warehouse.unsold.joins(:product_spu).group(ProductSpu.arel_table[:spu]).count.\n",
    "            filter {|k,v| v>5 }.map {|k,v| k}).\n",
    "                    pmap do |x| [x.spu,x.category,\n",
    "                        ratio(Orders.finish_purchase.item.keep.where(spu:x.spu).sold.size, Orders.finish_purchase.item.keep.where(spu:x.spu).size),\n",
    "                        Orders.finish_purchase.item.keep.where(spu:x.spu).size ]\n",
    "                    end.filter do |x| x[2]>0.10 and x[3]>=5 end.map do |x| x[0] end)\n",
    "\n",
    "}\n",
    "\n"
   ]
  },
  {
   "cell_type": "code",
   "execution_count": 201,
   "metadata": {},
   "outputs": [
    {
     "name": "stdout",
     "output_type": "stream",
     "text": [
      "4\n",
      "10\n",
      "4\n",
      "6\n",
      "31\n",
      "55\n",
      "0 second\n"
     ]
    }
   ],
   "source": [
    "time {\n",
    "\n",
    "\n",
    "    product_id = (内衣+裤子+其他+首饰+连衣裙).uniq\n",
    "    product = ProductSpu.where(spu:product_id)    \n",
    "    \n",
    "    puts 内衣.size\n",
    "    puts 裤子.size\n",
    "    puts 首饰.size\n",
    "    puts 连衣裙.size\n",
    "    puts 其他.size\n",
    "    puts product_id.size\n",
    "}"
   ]
  },
  {
   "cell_type": "code",
   "execution_count": 203,
   "metadata": {},
   "outputs": [
    {
     "name": "stdout",
     "output_type": "stream",
     "text": [
      "{\n",
      "     \"连衣裙\"\u001b[0;37m => \u001b[0m6,\n",
      "    \"衬衫衬衣\"\u001b[0;37m => \u001b[0m6,\n",
      "     \"下装裙\"\u001b[0;37m => \u001b[0m6,\n",
      "     \"下装裤\"\u001b[0;37m => \u001b[0m10,\n",
      "      \"外套\"\u001b[0;37m => \u001b[0m3,\n",
      "     \"薄开衫\"\u001b[0;37m => \u001b[0m2,\n",
      "      \"T恤\"\u001b[0;37m => \u001b[0m4\n",
      "}\n"
     ]
    },
    {
     "data": {
      "text/plain": [
       "{\"连衣裙\"=>6, \"衬衫衬衣\"=>6, \"下装裙\"=>6, \"下装裤\"=>10, \"外套\"=>3, \"薄开衫\"=>2, \"T恤\"=>4}"
      ]
     },
     "execution_count": 203,
     "metadata": {},
     "output_type": "execute_result"
    }
   ],
   "source": [
    "like_category = [7,39,5,6, 8,70,38]\n",
    "like_cat = [\"连衣裙\",\"衬衫衬衣\",\"下装裙\",\"下装裤\",\"外套\",\"薄开衫\",\"T恤\"]\n",
    "\n",
    "ap (like_cat.map do |x| [x, product.filter {|y|  (y.category[0]==x or y.category[1]==x) }.size ] end.to_h)\n"
   ]
  },
  {
   "cell_type": "code",
   "execution_count": 204,
   "metadata": {},
   "outputs": [
    {
     "data": {
      "text/plain": [
       "55"
      ]
     },
     "execution_count": 204,
     "metadata": {},
     "output_type": "execute_result"
    }
   ],
   "source": [
    "Store[\"product_shortlist\"]=product\n",
    "product.size"
   ]
  },
  {
   "cell_type": "code",
   "execution_count": 207,
   "metadata": {},
   "outputs": [
    {
     "name": "stdout",
     "output_type": "stream",
     "text": [
      "19 seconds\n"
     ]
    },
    {
     "data": {
      "text/html": [
       "<table><tr><td>SPU</td><td>Name</td><td>Price</td><td>Image</td><td>全体购买转化率</td><td>组别购买转化率</td><td>全部入盒=A</td><td>组别入盒=B</td><td>入盒比例=A/B</td><td>图片数量</td><td>QRCode</td><td>类别</td></tr><tr><td><a href='https://console.wetry.shop/productDetail/1402'>21027</a></td><td>舒适大圆领T恤</td><td>108.0</td><td><img src='https://image.wetry.shop/product/spu/63417448-8adf-407a-bf97-7474982e13f0.png' width='150'/></td><td>0.23</td><td>0.22</td><td>22</td><td>9</td><td>2.44</td><td>1</td><td><img src='https://image.wetry.shop/product/spu/21027/productDetailPageWxCode.jpg' width='150'/></td><td>上装|T恤</td></tr><tr><td><a href='https://console.wetry.shop/productDetail/1110'>20735</a></td><td>Voila百搭显瘦质感T恤</td><td>158.0</td><td><img src='https://image.wetry.shop/product/spu/6fa14408-ee06-4612-bb77-295807d01d39.jpg' width='150'/></td><td>0.19</td><td>0.29</td><td>68</td><td>17</td><td>4.0</td><td>3</td><td><img src='https://image.wetry.shop/product/spu/20735/productDetailPageWxCode.jpg' width='150'/></td><td>上装|T恤</td></tr><tr><td><a href='https://console.wetry.shop/productDetail/1396'>21021</a></td><td>大圆领修身短款T恤</td><td>108.0</td><td><img src='https://image.wetry.shop/product/spu/d06e428f-fce4-4e02-80e7-5419bd9a2a69.png' width='150'/></td><td>0.17</td><td>0.0</td><td>12</td><td>1</td><td>12.0</td><td>1</td><td><img src='https://image.wetry.shop/product/spu/21021/productDetailPageWxCode.jpg' width='150'/></td><td>上装|T恤</td></tr><tr><td><a href='https://console.wetry.shop/productDetail/40'>10108</a></td><td>白色俏皮感长袖T恤</td><td>178.0</td><td><img src='https://image.wetry.shop/product/spu/10108/10108_a.jpg' width='150'/></td><td>0.22</td><td>0.22</td><td>36</td><td>9</td><td>4.0</td><td>5</td><td><img src='https://image.wetry.shop/product/spu/10108/productDetailPageWxCode.jpg' width='150'/></td><td>上装|T恤</td></tr><tr><td><a href='https://console.wetry.shop/productDetail/673'>20298</a></td><td>杏色钉珠两件套上衣</td><td>238.0</td><td><img src='https://image.wetry.shop/product/spu/09072546-bd11-4854-bb8d-248549e56844.jpg' width='150'/></td><td>0.14</td><td>0.1</td><td>72</td><td>10</td><td>7.2</td><td>2</td><td><img src='https://image.wetry.shop/product/spu/20298/productDetailPageWxCode.jpg' width='150'/></td><td>上装|上衣</td></tr><tr><td><a href='https://console.wetry.shop/productDetail/1490'>21115</a></td><td>白色小仙女打底上衣</td><td>148.0</td><td><img src='https://image.wetry.shop/product/spu/0b58cb69-150e-45da-a4e0-2deeed156fff.png' width='150'/></td><td>0.13</td><td>0.0</td><td>8</td><td>1</td><td>8.0</td><td>1</td><td><img src='https://image.wetry.shop/product/spu/21115/productDetailPageWxCode.jpg' width='150'/></td><td>上装|上衣</td></tr><tr><td><a href='https://console.wetry.shop/productDetail/113'>10193</a></td><td>牛油果色平领口羊绒针织吊带</td><td>138.0</td><td><img src='https://image.wetry.shop/product/spu/10193/10193_a.jpg' width='150'/></td><td>0.37</td><td>0.5</td><td>41</td><td>8</td><td>5.13</td><td>5</td><td><img src='https://image.wetry.shop/product/spu/10193/productDetailPageWxCode.jpg' width='150'/></td><td>上装|吊带背心</td></tr><tr><td><a href='https://console.wetry.shop/productDetail/110'>10190</a></td><td>莫兰迪色平领口羊绒针织吊带</td><td>138.0</td><td><img src='https://image.wetry.shop/product/spu/10190/10190_a.jpg' width='150'/></td><td>0.27</td><td>0.36</td><td>51</td><td>11</td><td>4.64</td><td>7</td><td><img src='https://image.wetry.shop/product/spu/10190/productDetailPageWxCode.jpg' width='150'/></td><td>上装|吊带背心</td></tr><tr><td><a href='https://console.wetry.shop/productDetail/112'>10192</a></td><td>黑色平领口羊绒针织吊带</td><td>138.0</td><td><img src='https://image.wetry.shop/product/spu/10192/10192_a.jpg' width='150'/></td><td>0.15</td><td>0.14</td><td>81</td><td>21</td><td>3.86</td><td>1</td><td><img src='https://image.wetry.shop/product/spu/10192/productDetailPageWxCode.jpg' width='150'/></td><td>上装|吊带背心</td></tr><tr><td><a href='https://console.wetry.shop/productDetail/1319'>20944</a></td><td>黑色V领口显瘦打底衫</td><td>138.0</td><td><img src='https://image.wetry.shop/product/spu/6448661b-7c62-4d11-8de2-5dd297cff657.png' width='150'/></td><td>0.29</td><td>0.3</td><td>59</td><td>20</td><td>2.95</td><td>1</td><td><img src='https://image.wetry.shop/product/spu/20944/productDetailPageWxCode.jpg' width='150'/></td><td>上装|打底衫</td></tr><tr><td><a href='https://console.wetry.shop/productDetail/1173'>20798</a></td><td>V领口设计感打底衫</td><td>188.0</td><td><img src='https://image.wetry.shop/product/spu/ca571eef-3395-43db-8f06-ea4d395e9db6.png' width='150'/></td><td>0.41</td><td>0.33</td><td>17</td><td>3</td><td>5.67</td><td>2</td><td><img src='https://image.wetry.shop/product/spu/20798/productDetailPageWxCode.jpg' width='150'/></td><td>上装|打底衫</td></tr><tr><td><a href='https://console.wetry.shop/productDetail/1190'>20815</a></td><td>纽扣款针织衫</td><td>178.0</td><td><img src='https://image.wetry.shop/product/spu/41958952-4ce2-4e04-9836-c566303b2e05.jpg' width='150'/></td><td>0.33</td><td>0.5</td><td>9</td><td>2</td><td>4.5</td><td>2</td><td><img src='https://image.wetry.shop/product/spu/20815/productDetailPageWxCode.jpg' width='150'/></td><td>上装|打底衫</td></tr><tr><td><a href='https://console.wetry.shop/productDetail/1494'>21119</a></td><td>春日薰衣草紫休闲衬衫</td><td>238.0</td><td><img src='https://image.wetry.shop/product/spu/2e0180d9-81a3-47f6-810a-6ed0355f39d8.png' width='150'/></td><td>0.33</td><td>0</td><td>6</td><td>0</td><td>0</td><td>1</td><td><img src='https://image.wetry.shop/product/spu/21119/productDetailPageWxCode.jpg' width='150'/></td><td>上装|衬衫衬衣</td></tr><tr><td><a href='https://console.wetry.shop/productDetail/1456'>21081</a></td><td>天蓝色多种穿法廓形衬衫</td><td>348.0</td><td><img src='https://image.wetry.shop/product/spu/19a3f281-80fc-4974-b4b2-1e23882cd17d.jpg' width='150'/></td><td>0.27</td><td>0.0</td><td>11</td><td>4</td><td>2.75</td><td>2</td><td><img src='https://image.wetry.shop/product/spu/21081/productDetailPageWxCode.jpg' width='150'/></td><td>上装|衬衫衬衣</td></tr><tr><td><a href='https://console.wetry.shop/productDetail/1395'>21020</a></td><td>春日暖黄休闲衬衫</td><td>218.0</td><td><img src='https://image.wetry.shop/product/spu/dd552b39-6342-4790-99f6-c81be8fe43ae.png' width='150'/></td><td>0.36</td><td>0.33</td><td>36</td><td>12</td><td>3.0</td><td>1</td><td><img src='https://image.wetry.shop/product/spu/21020/productDetailPageWxCode.jpg' width='150'/></td><td>上装|衬衫衬衣</td></tr><tr><td><a href='https://console.wetry.shop/productDetail/1495'>21120</a></td><td>春日珍珠白休闲衬衫</td><td>238.0</td><td><img src='https://image.wetry.shop/product/spu/f884f569-b990-4239-a3d1-b784b85d3723.png' width='150'/></td><td>0.2</td><td>0.25</td><td>10</td><td>4</td><td>2.5</td><td>1</td><td><img src='https://image.wetry.shop/product/spu/21120/productDetailPageWxCode.jpg' width='150'/></td><td>上装|衬衫衬衣</td></tr><tr><td><a href='https://console.wetry.shop/productDetail/1361'>20986</a></td><td>淡粉色休闲衬衫</td><td>298.0</td><td><img src='https://image.wetry.shop/product/spu/3e08e393-77f1-4f91-9035-7b4774962d09.png' width='150'/></td><td>0.19</td><td>0.0</td><td>16</td><td>4</td><td>4.0</td><td>1</td><td><img src='https://image.wetry.shop/product/spu/20986/productDetailPageWxCode.jpg' width='150'/></td><td>上装|衬衫衬衣</td></tr><tr><td><a href='https://console.wetry.shop/productDetail/1374'>20999</a></td><td>复古花边尖领短衬衫</td><td>258.0</td><td><img src='https://image.wetry.shop/product/spu/d9bb1b75-bc1e-4c3f-9a00-52f500752a3c.png' width='150'/></td><td>0.11</td><td>0.5</td><td>18</td><td>2</td><td>9.0</td><td>1</td><td><img src='https://image.wetry.shop/product/spu/20999/productDetailPageWxCode.jpg' width='150'/></td><td>上装|衬衫衬衣</td></tr><tr><td><a href='https://console.wetry.shop/productDetail/1317'>20942</a></td><td>法式复古淡黄色针织开衫</td><td>158.0</td><td><img src='https://image.wetry.shop/product/spu/ae09b494-7532-4b15-afb5-d8de5cfe8efc.png' width='150'/></td><td>0.13</td><td>0.25</td><td>23</td><td>4</td><td>5.75</td><td>1</td><td><img src='https://image.wetry.shop/product/spu/20942/productDetailPageWxCode.jpg' width='150'/></td><td>上装|针织衫</td></tr><tr><td><a href='https://console.wetry.shop/productDetail/1228'>20853</a></td><td>杏色A字摆半裙</td><td>248.0</td><td><img src='https://image.wetry.shop/product/spu/f613d8df-f797-4854-ae36-43dae808747d.jpg' width='150'/></td><td>0.19</td><td>0.0</td><td>16</td><td>4</td><td>4.0</td><td>2</td><td><img src='https://image.wetry.shop/product/spu/20853/productDetailPageWxCode.jpg' width='150'/></td><td>下装裙|A字裙</td></tr><tr><td><a href='https://console.wetry.shop/productDetail/1379'>21004</a></td><td>撞色压线A字长款半裙</td><td>288.0</td><td><img src='https://image.wetry.shop/product/spu/a5736ae8-c682-404b-a8e6-0a99ec7666c1.jpg' width='150'/></td><td>0.11</td><td>0.0</td><td>18</td><td>2</td><td>9.0</td><td>2</td><td><img src='https://image.wetry.shop/product/spu/21004/productDetailPageWxCode.jpg' width='150'/></td><td>下装裙|A字裙</td></tr><tr><td><a href='https://console.wetry.shop/productDetail/1445'>21070</a></td><td>超显瘦黑色高腰设计感半裙（含腰带）</td><td>368.0</td><td><img src='https://image.wetry.shop/product/spu/c043d805-8ac6-43c9-8753-7fed8881b499.jpg' width='150'/></td><td>0.13</td><td>0.14</td><td>30</td><td>7</td><td>4.29</td><td>2</td><td><img src='https://image.wetry.shop/product/spu/21070/productDetailPageWxCode.jpg' width='150'/></td><td>下装裙|不对称以及垂褶裙</td></tr><tr><td><a href='https://console.wetry.shop/productDetail/1444'>21069</a></td><td>超显瘦杏色高腰设计感半裙（含腰带）</td><td>368.0</td><td><img src='https://image.wetry.shop/product/spu/7fa81919-e3c4-4ae8-bf0f-b3337db43881.png' width='150'/></td><td>0.2</td><td>0.0</td><td>20</td><td>3</td><td>6.67</td><td>1</td><td><img src='https://image.wetry.shop/product/spu/21069/productDetailPageWxCode.jpg' width='150'/></td><td>下装裙|不对称以及垂褶裙</td></tr><tr><td><a href='https://console.wetry.shop/productDetail/1152'>20777</a></td><td>淡黄色真丝感A字中裙</td><td>268.0</td><td><img src='https://image.wetry.shop/product/spu/c9e4ff94-4251-45eb-8cc6-807ecf2f3945.jpg' width='150'/></td><td>0.2</td><td>0.2</td><td>55</td><td>10</td><td>5.5</td><td>2</td><td><img src='https://image.wetry.shop/product/spu/20777/productDetailPageWxCode.jpg' width='150'/></td><td>下装裙|伞裙</td></tr><tr><td><a href='https://console.wetry.shop/productDetail/1153'>20778</a></td><td>真丝感A字中裙</td><td>268.0</td><td><img src='https://image.wetry.shop/product/spu/a852d1c3-eb1b-4bcb-9ad0-5b83a9bb6c9e.jpg' width='150'/></td><td>0.19</td><td>0.13</td><td>27</td><td>8</td><td>3.38</td><td>2</td><td><img src='https://image.wetry.shop/product/spu/20778/productDetailPageWxCode.jpg' width='150'/></td><td>下装裙|伞裙</td></tr><tr><td><a href='https://console.wetry.shop/productDetail/1091'>20716</a></td><td>设计感显瘦微喇西装裤</td><td>298.0</td><td><img src='https://image.wetry.shop/product/spu/052194d2-593f-49ce-97e4-7092412d2347.jpg' width='150'/></td><td>0.28</td><td>0.29</td><td>64</td><td>17</td><td>3.76</td><td>2</td><td><img src='https://image.wetry.shop/product/spu/20716/productDetailPageWxCode.jpg' width='150'/></td><td>下装裤|喇叭裤</td></tr><tr><td><a href='https://console.wetry.shop/productDetail/1442'>21067</a></td><td>复古浅蓝色九分牛仔直筒裤</td><td>268.0</td><td><img src='https://image.wetry.shop/product/spu/ac269b00-1541-4532-9714-667b3925510f.png' width='150'/></td><td>0.23</td><td>0.2</td><td>22</td><td>5</td><td>4.4</td><td>1</td><td><img src='https://image.wetry.shop/product/spu/21067/productDetailPageWxCode.jpg' width='150'/></td><td>下装裤|牛仔长裤</td></tr><tr><td><a href='https://console.wetry.shop/productDetail/1107'>20732</a></td><td>浅蓝色阔腿牛仔裤</td><td>328.0</td><td><img src='https://image.wetry.shop/product/spu/ccdafc72-ee66-4cae-bada-e8c03b4c3fff.jpg' width='150'/></td><td>0.29</td><td>0.45</td><td>66</td><td>11</td><td>6.0</td><td>2</td><td><img src='https://image.wetry.shop/product/spu/20732/productDetailPageWxCode.jpg' width='150'/></td><td>下装裤|牛仔长裤</td></tr><tr><td><a href='https://console.wetry.shop/productDetail/1097'>20722</a></td><td>复古蓝色小哈伦牛仔裤</td><td>268.0</td><td><img src='https://image.wetry.shop/product/spu/9554780c-0c64-48c8-8f6b-aef36df0f93d.jpg' width='150'/></td><td>0.23</td><td>0.29</td><td>70</td><td>14</td><td>5.0</td><td>2</td><td><img src='https://image.wetry.shop/product/spu/20722/productDetailPageWxCode.jpg' width='150'/></td><td>下装裤|牛仔长裤</td></tr><tr><td><a href='https://console.wetry.shop/productDetail/1356'>20981</a></td><td>博主同款极致显瘦牛仔长裤</td><td>268.0</td><td><img src='https://image.wetry.shop/product/spu/96a02a78-700c-4473-901c-5e40018d2054.jpg' width='150'/></td><td>0.31</td><td>0.5</td><td>26</td><td>8</td><td>3.25</td><td>2</td><td><img src='https://image.wetry.shop/product/spu/20981/productDetailPageWxCode.jpg' width='150'/></td><td>下装裤|牛仔长裤</td></tr><tr><td><a href='https://console.wetry.shop/productDetail/1030'>20655</a></td><td>高腰微喇显瘦牛仔裤</td><td>198.0</td><td><img src='https://image.wetry.shop/product/spu/a9e8f097-92e5-4934-9364-ce940d149f27.jpg' width='150'/></td><td>0.31</td><td>0.29</td><td>108</td><td>31</td><td>3.48</td><td>2</td><td><img src='https://image.wetry.shop/product/spu/20655/productDetailPageWxCode.jpg' width='150'/></td><td>下装裤|牛仔长裤</td></tr><tr><td><a href='https://console.wetry.shop/productDetail/1051'>20676</a></td><td>通勤职业显瘦西装裤</td><td>328.0</td><td><img src='https://image.wetry.shop/product/spu/0d779da6-2525-4a8e-afab-4b55180ebabf.jpg' width='150'/></td><td>0.21</td><td>0.27</td><td>68</td><td>26</td><td>2.62</td><td>7</td><td><img src='https://image.wetry.shop/product/spu/20676/productDetailPageWxCode.jpg' width='150'/></td><td>下装裤|直筒裤</td></tr><tr><td><a href='https://console.wetry.shop/productDetail/1185'>20810</a></td><td>显瘦女神款长款</td><td>288.0</td><td><img src='https://image.wetry.shop/product/spu/a60f9202-43c7-477c-aa48-6c1d80ef7909.png' width='150'/></td><td>0.29</td><td>0.14</td><td>28</td><td>7</td><td>4.0</td><td>1</td><td><img src='https://image.wetry.shop/product/spu/20810/productDetailPageWxCode.jpg' width='150'/></td><td>下装裤|阔腿裤</td></tr><tr><td><a href='https://console.wetry.shop/productDetail/395'>10341</a></td><td>博主同款极致显瘦牛仔长裤</td><td>238.0</td><td><img src='https://image.wetry.shop/product/spu/1efe183d-996c-4414-ae01-e154314aac9a.jpg' width='150'/></td><td>0.35</td><td>0.38</td><td>280</td><td>63</td><td>4.44</td><td>2</td><td><img src='https://image.wetry.shop/product/spu/10341/productDetailPageWxCode.jpg' width='150'/></td><td>下装裤|阔腿裤</td></tr><tr><td><a href='https://console.wetry.shop/productDetail/1184'>20809</a></td><td>慵懒风杏色云朵裤</td><td>288.0</td><td><img src='https://image.wetry.shop/product/spu/0d74f50e-05e9-4478-ab7b-0f70d954107b.jpg' width='150'/></td><td>0.3</td><td>0.5</td><td>40</td><td>8</td><td>5.0</td><td>2</td><td><img src='https://image.wetry.shop/product/spu/20809/productDetailPageWxCode.jpg' width='150'/></td><td>下装裤|阔腿裤</td></tr><tr><td><a href='https://console.wetry.shop/productDetail/209'>10258</a></td><td>日本进口天鹅绒超薄丝袜（白皙）</td><td>58.0</td><td></td><td>0.45</td><td>0.5</td><td>22</td><td>8</td><td>2.75</td><td>0</td><td><img src='https://image.wetry.shop/product/spu/10258/productDetailPageWxCode.jpg' width='150'/></td><td>内衣|丝袜</td></tr><tr><td><a href='https://console.wetry.shop/productDetail/168'>10060</a></td><td>凑单神器-点点女袜</td><td>28.0</td><td><img src='https://image.wetry.shop/product/spu/e9db6491-ef82-450e-a914-153a4dae058f.png' width='150'/></td><td>0.28</td><td>0.19</td><td>78</td><td>16</td><td>4.88</td><td>1</td><td><img src='https://image.wetry.shop/product/spu/10060/productDetailPageWxCode.jpg' width='150'/></td><td>内衣|短袜</td></tr><tr><td><a href='https://console.wetry.shop/productDetail/170'>10062</a></td><td>凑单神器-横条女袜</td><td>28.0</td><td><img src='https://image.wetry.shop/product/spu/8a30e0a0-0782-4a60-829a-05c5e34287ca.png' width='150'/></td><td>0.26</td><td>0.0</td><td>23</td><td>6</td><td>3.83</td><td>1</td><td><img src='https://image.wetry.shop/product/spu/10062/productDetailPageWxCode.jpg' width='150'/></td><td>内衣|短袜</td></tr><tr><td><a href='https://console.wetry.shop/productDetail/167'>10059</a></td><td>凑单神器-点点女袜</td><td>28.0</td><td><img src='https://image.wetry.shop/product/spu/9142fc81-d099-4db1-a2ee-9a9bf3a8919c.png' width='150'/></td><td>0.32</td><td>0.25</td><td>38</td><td>8</td><td>4.75</td><td>1</td><td><img src='https://image.wetry.shop/product/spu/10059/productDetailPageWxCode.jpg' width='150'/></td><td>内衣|短袜</td></tr><tr><td><a href='https://console.wetry.shop/productDetail/1447'>21072</a></td><td>淡蓝色防嗮开衫</td><td>318.0</td><td><img src='https://image.wetry.shop/product/spu/e8af6c13-090c-4d01-aad8-f5e355876404.jpg' width='150'/></td><td>0.11</td><td>0.0</td><td>19</td><td>7</td><td>2.71</td><td>2</td><td><img src='https://image.wetry.shop/product/spu/21072/productDetailPageWxCode.jpg' width='150'/></td><td>外套|薄开衫</td></tr><tr><td><a href='https://console.wetry.shop/productDetail/1448'>21073</a></td><td>杏色质感知性风开衫</td><td>288.0</td><td><img src='https://image.wetry.shop/product/spu/891454d2-2ac5-4f98-9461-b57f2ad1bd46.jpg' width='150'/></td><td>0.12</td><td>0.1</td><td>17</td><td>10</td><td>1.7</td><td>2</td><td><img src='https://image.wetry.shop/product/spu/21073/productDetailPageWxCode.jpg' width='150'/></td><td>外套|薄开衫</td></tr><tr><td><a href='https://console.wetry.shop/productDetail/1318'>20943</a></td><td>质感杏粉色西服外套</td><td>468.0</td><td><img src='https://image.wetry.shop/product/spu/b4a0cff0-a869-4388-aecd-af845c3c544c.jpeg' width='150'/></td><td>0.11</td><td>0.4</td><td>36</td><td>5</td><td>7.2</td><td>1</td><td><img src='https://image.wetry.shop/product/spu/20943/productDetailPageWxCode.jpg' width='150'/></td><td>外套|西装外套</td></tr><tr><td><a href='https://console.wetry.shop/productDetail/285'>10262</a></td><td>千鸟格修身长外套</td><td>448.0</td><td><img src='https://image.wetry.shop/product/spu/10262/10262_a.jpg' width='150'/></td><td>0.12</td><td>0.17</td><td>57</td><td>18</td><td>3.17</td><td>1</td><td><img src='https://image.wetry.shop/product/spu/10262/productDetailPageWxCode.jpg' width='150'/></td><td>大衣|长款大衣</td></tr><tr><td><a href='https://console.wetry.shop/productDetail/1032'>20657</a></td><td>浅灰色针织裙套装</td><td>538.0</td><td><img src='https://image.wetry.shop/product/spu/c68c1506-ee9c-4e16-b7d1-ee1451b94c83.jpg' width='150'/></td><td>0.18</td><td>0.27</td><td>17</td><td>11</td><td>1.55</td><td>3</td><td><img src='https://image.wetry.shop/product/spu/20657/productDetailPageWxCode.jpg' width='150'/></td><td>套装|上衣裙装套装</td></tr><tr><td><a href='https://console.wetry.shop/productDetail/1367'>20992</a></td><td>灰色时髦运动短裤套装</td><td>348.0</td><td><img src='https://image.wetry.shop/product/spu/6550192e-a75f-4a1a-803e-21a7ad630a5b.jpg' width='150'/></td><td>0.36</td><td>0.67</td><td>11</td><td>3</td><td>3.67</td><td>2</td><td><img src='https://image.wetry.shop/product/spu/20992/productDetailPageWxCode.jpg' width='150'/></td><td>套装|上衣裤装套装</td></tr><tr><td><a href='https://console.wetry.shop/productDetail/1435'>21060</a></td><td>雏菊印花丝感吊带裙</td><td>358.0</td><td><img src='https://image.wetry.shop/product/spu/fc5e0078-dbfa-48e1-8c57-2b28199e446d.jpg' width='150'/></td><td>0.33</td><td>0.14</td><td>15</td><td>7</td><td>2.14</td><td>2</td><td><img src='https://image.wetry.shop/product/spu/21060/productDetailPageWxCode.jpg' width='150'/></td><td>连衣裙|梭织连衣裙</td></tr><tr><td><a href='https://console.wetry.shop/productDetail/1388'>21013</a></td><td>灰色收腰卫衣式连衣裙</td><td>328.0</td><td><img src='https://image.wetry.shop/product/spu/ab58d20b-1ca6-4434-95e1-a6b9eae9a67e.jpg' width='150'/></td><td>0.17</td><td>1.0</td><td>12</td><td>2</td><td>6.0</td><td>2</td><td><img src='https://image.wetry.shop/product/spu/21013/productDetailPageWxCode.jpg' width='150'/></td><td>连衣裙|梭织连衣裙</td></tr><tr><td><a href='https://console.wetry.shop/productDetail/1178'>20803</a></td><td>法式复古V领连衣裙</td><td>328.0</td><td><img src='https://image.wetry.shop/product/spu/65dcbd09-b69d-4f09-9d1e-3eeaa17c3a55.png' width='150'/></td><td>0.21</td><td>0.2</td><td>34</td><td>5</td><td>6.8</td><td>1</td><td><img src='https://image.wetry.shop/product/spu/20803/productDetailPageWxCode.jpg' width='150'/></td><td>连衣裙|梭织连衣裙</td></tr><tr><td><a href='https://console.wetry.shop/productDetail/1411'>21036</a></td><td>荷叶边无袖连衣裙</td><td>498.0</td><td><img src='https://image.wetry.shop/product/spu/93325e70-e403-414f-afb4-e965145ae27f.png' width='150'/></td><td>0.23</td><td>0.0</td><td>13</td><td>5</td><td>2.6</td><td>1</td><td><img src='https://image.wetry.shop/product/spu/21036/productDetailPageWxCode.jpg' width='150'/></td><td>连衣裙|梭织连衣裙</td></tr><tr><td><a href='https://console.wetry.shop/productDetail/1430'>21055</a></td><td>蓝黑色飘带设计通勤连衣裙</td><td>488.0</td><td><img src='https://image.wetry.shop/product/spu/5a454817-31cd-492f-a006-f25d89a0879b.jpg' width='150'/></td><td>0.18</td><td>0.4</td><td>11</td><td>5</td><td>2.2</td><td>2</td><td><img src='https://image.wetry.shop/product/spu/21055/productDetailPageWxCode.jpg' width='150'/></td><td>连衣裙|梭织连衣裙</td></tr><tr><td><a href='https://console.wetry.shop/productDetail/1338'>20963</a></td><td>法式复古浪漫碎花连衣裙</td><td>268.0</td><td><img src='https://image.wetry.shop/product/spu/143c62b9-7230-444d-b39a-73c733a78700.png' width='150'/></td><td>0.23</td><td>0.0</td><td>13</td><td>1</td><td>13.0</td><td>1</td><td><img src='https://image.wetry.shop/product/spu/20963/productDetailPageWxCode.jpg' width='150'/></td><td>连衣裙|梭织连衣裙</td></tr><tr><td><a href='https://console.wetry.shop/productDetail/136'>10218</a></td><td>白色方头细腰带</td><td>48.0</td><td><img src='http://image.wetry.shop/product/spu/10218/10218_a.jpg' width='150'/></td><td>0.21</td><td>0.18</td><td>177</td><td>33</td><td>5.36</td><td>1</td><td><img src='https://image.wetry.shop/product/spu/10218/productDetailPageWxCode.jpg' width='150'/></td><td>配饰|腰带</td></tr><tr><td><a href='https://console.wetry.shop/productDetail/355'>20001</a></td><td>YESNO字母耳钉</td><td>58.0</td><td><img src='https://image.wetry.shop/product/spu/d8c677b0-5ada-45e9-afd9-cfce6afe008a.png' width='150'/></td><td>0.27</td><td>0.29</td><td>146</td><td>34</td><td>4.29</td><td>1</td><td><img src='https://image.wetry.shop/product/spu/20001/productDetailPageWxCode.jpg' width='150'/></td><td>首饰|耳环</td></tr><tr><td><a href='https://console.wetry.shop/productDetail/357'>20003</a></td><td>交叉珍珠耳钉</td><td>48.0</td><td><img src='https://image.wetry.shop/product/spu/1b8a91e3-fb23-4ea7-9a0d-fbe2627602f3.png' width='150'/></td><td>0.32</td><td>0.27</td><td>44</td><td>11</td><td>4.0</td><td>1</td><td><img src='https://image.wetry.shop/product/spu/20003/productDetailPageWxCode.jpg' width='150'/></td><td>首饰|耳环</td></tr><tr><td><a href='https://console.wetry.shop/productDetail/709'>20334</a></td><td>粉色冰淇淋耳钉</td><td>48.0</td><td><img src='https://image.wetry.shop/product/spu/bc0955bc-8e9b-4c13-988c-5a24ed90d3c2.png' width='150'/></td><td>0.33</td><td>0.33</td><td>33</td><td>6</td><td>5.5</td><td>1</td><td><img src='https://image.wetry.shop/product/spu/20334/productDetailPageWxCode.jpg' width='150'/></td><td>首饰|耳环</td></tr></table>"
      ],
      "text/plain": [
       "\"<table><tr><td>SPU</td><td>Name</td><td>Price</td><td>Image</td><td>全体购买转化率</td><td>组别购买转化率</td><td>全部入盒=A</td><td>组别入盒=B</td><td>入盒比例=A/B</td><td>图片数量</td><td>QRCode</td><td>类别</td></tr><tr><td><a href='https://console.wetry.shop/productDetail/1402'>21027</a></td><td>舒适大圆领T恤</td><td>108.0</td><td><img src='https://image.wetry.shop/product/spu/63417448-8adf-407a-bf97-7474982e13f0.png' width='150'/></td><td>0.23</td><td>0.22</td><td>22</td><td>9</td><td>2.44</td><td>1</td><td><img src='https://image.wetry.shop/product/spu/21027/productDetailPageWxCode.jpg' width='150'/></td><td>上装|T恤</td></tr><tr><td><a href='https://console.wetry.shop/productDetail/1110'>20735</a></td><td>Voila百搭显瘦质感T恤</td><td>158.0</td><td><img src='https://image.wetry.shop/product/spu/6fa14408-ee06-4612-bb77-295807d01d39.jpg' width='150'/></td><td>0.19</td><td>0.29</td><td>68</td><td>17</td><td>4.0</td><td>3</td><td><img src='https://image.wetry.shop/product/spu/20735/productDetailPageWxCode.jpg' width='150'/></td><td>上装|T恤</td></tr><tr><td><a href='https://console.wetry.shop/productDetail/1396'>21021</a></td><td>大圆领修身短款T恤</td><td>108.0</td><td><img src='https://image.wetry.shop/product/spu/d06e428f-fce4-4e02-80e7-5419bd9a2a69.png' width='150'/></td><td>0.17</td><td>0.0</td><td>12</td><td>1</td><td>12.0</td><td>1</td><td><img src='https://image.wetry.shop/product/spu/21021/productDetailPageWxCode.jpg' width='150'/></td><td>上装|T恤</td></tr><tr><td><a href='https://console.wetry.shop/productDetail/40'>10108</a></td><td>白色俏皮感长袖T恤</td><td>178.0</td><td><img src='https://image.wetry.shop/product/spu/10108/10108_a.jpg' width='150'/></td><td>0.22</td><td>0.22</td><td>36</td><td>9</td><td>4.0</td><td>5</td><td><img src='https://image.wetry.shop/product/spu/10108/productDetailPageWxCode.jpg' width='150'/></td><td>上装|T恤</td></tr><tr><td><a href='https://console.wetry.shop/productDetail/673'>20298</a></td><td>杏色钉珠两件套上衣</td><td>238.0</td><td><img src='https://image.wetry.shop/product/spu/09072546-bd11-4854-bb8d-248549e56844.jpg' width='150'/></td><td>0.14</td><td>0.1</td><td>72</td><td>10</td><td>7.2</td><td>2</td><td><img src='https://image.wetry.shop/product/spu/20298/productDetailPageWxCode.jpg' width='150'/></td><td>上装|上衣</td></tr><tr><td><a href='https://console.wetry.shop/productDetail/1490'>21115</a></td><td>白色小仙女打底上衣</td><td>148.0</td><td><img src='https://image.wetry.shop/product/spu/0b58cb69-150e-45da-a4e0-2deeed156fff.png' width='150'/></td><td>0.13</td><td>0.0</td><td>8</td><td>1</td><td>8.0</td><td>1</td><td><img src='https://image.wetry.shop/product/spu/21115/productDetailPageWxCode.jpg' width='150'/></td><td>上装|上衣</td></tr><tr><td><a href='https://console.wetry.shop/productDetail/113'>10193</a></td><td>牛油果色平领口羊绒针织吊带</td><td>138.0</td><td><img src='https://image.wetry.shop/product/spu/10193/10193_a.jpg' width='150'/></td><td>0.37</td><td>0.5</td><td>41</td><td>8</td><td>5.13</td><td>5</td><td><img src='https://image.wetry.shop/product/spu/10193/productDetailPageWxCode.jpg' width='150'/></td><td>上装|吊带背心</td></tr><tr><td><a href='https://console.wetry.shop/productDetail/110'>10190</a></td><td>莫兰迪色平领口羊绒针织吊带</td><td>138.0</td><td><img src='https://image.wetry.shop/product/spu/10190/10190_a.jpg' width='150'/></td><td>0.27</td><td>0.36</td><td>51</td><td>11</td><td>4.64</td><td>7</td><td><img src='https://image.wetry.shop/product/spu/10190/productDetailPageWxCode.jpg' width='150'/></td><td>上装|吊带背心</td></tr><tr><td><a href='https://console.wetry.shop/productDetail/112'>10192</a></td><td>黑色平领口羊绒针织吊带</td><td>138.0</td><td><img src='https://image.wetry.shop/product/spu/10192/10192_a.jpg' width='150'/></td><td>0.15</td><td>0.14</td><td>81</td><td>21</td><td>3.86</td><td>1</td><td><img src='https://image.wetry.shop/product/spu/10192/productDetailPageWxCode.jpg' width='150'/></td><td>上装|吊带背心</td></tr><tr><td><a href='https://console.wetry.shop/productDetail/1319'>20944</a></td><td>黑色V领口显瘦打底衫</td><td>138.0</td><td><img src='https://image.wetry.shop/product/spu/6448661b-7c62-4d11-8de2-5dd297cff657.png' width='150'/></td><td>0.29</td><td>0.3</td><td>59</td><td>20</td><td>2.95</td><td>1</td><td><img src='https://image.wetry.shop/product/spu/20944/productDetailPageWxCode.jpg' width='150'/></td><td>上装|打底衫</td></tr><tr><td><a href='https://console.wetry.shop/productDetail/1173'>20798</a></td><td>V领口设计感打底衫</td><td>188.0</td><td><img src='https://image.wetry.shop/product/spu/ca571eef-3395-43db-8f06-ea4d395e9db6.png' width='150'/></td><td>0.41</td><td>0.33</td><td>17</td><td>3</td><td>5.67</td><td>2</td><td><img src='https://image.wetry.shop/product/spu/20798/productDetailPageWxCode.jpg' width='150'/></td><td>上装|打底衫</td></tr><tr><td><a href='https://console.wetry.shop/productDetail/1190'>20815</a></td><td>纽扣款针织衫</td><td>178.0</td><td><img src='https://image.wetry.shop/product/spu/41958952-4ce2-4e04-9836-c566303b2e05.jpg' width='150'/></td><td>0.33</td><td>0.5</td><td>9</td><td>2</td><td>4.5</td><td>2</td><td><img src='https://image.wetry.shop/product/spu/20815/productDetailPageWxCode.jpg' width='150'/></td><td>上装|打底衫</td></tr><tr><td><a href='https://console.wetry.shop/productDetail/1494'>21119</a></td><td>春日薰衣草紫休闲衬衫</td><td>238.0</td><td><img src='https://image.wetry.shop/product/spu/2e0180d9-81a3-47f6-810a-6ed0355f39d8.png' width='150'/></td><td>0.33</td><td>0</td><td>6</td><td>0</td><td>0</td><td>1</td><td><img src='https://image.wetry.shop/product/spu/21119/productDetailPageWxCode.jpg' width='150'/></td><td>上装|衬衫衬衣</td></tr><tr><td><a href='https://console.wetry.shop/productDetail/1456'>21081</a></td><td>天蓝色多种穿法廓形衬衫</td><td>348.0</td><td><img src='https://image.wetry.shop/product/spu/19a3f281-80fc-4974-b4b2-1e23882cd17d.jpg' width='150'/></td><td>0.27</td><td>0.0</td><td>11</td><td>4</td><td>2.75</td><td>2</td><td><img src='https://image.wetry.shop/product/spu/21081/productDetailPageWxCode.jpg' width='150'/></td><td>上装|衬衫衬衣</td></tr><tr><td><a href='https://console.wetry.shop/productDetail/1395'>21020</a></td><td>春日暖黄休闲衬衫</td><td>218.0</td><td><img src='https://image.wetry.shop/product/spu/dd552b39-6342-4790-99f6-c81be8fe43ae.png' width='150'/></td><td>0.36</td><td>0.33</td><td>36</td><td>12</td><td>3.0</td><td>1</td><td><img src='https://image.wetry.shop/product/spu/21020/productDetailPageWxCode.jpg' width='150'/></td><td>上装|衬衫衬衣</td></tr><tr><td><a href='https://console.wetry.shop/productDetail/1495'>21120</a></td><td>春日珍珠白休闲衬衫</td><td>238.0</td><td><img src='https://image.wetry.shop/product/spu/f884f569-b990-4239-a3d1-b784b85d3723.png' width='150'/></td><td>0.2</td><td>0.25</td><td>10</td><td>4</td><td>2.5</td><td>1</td><td><img src='https://image.wetry.shop/product/spu/21120/productDetailPageWxCode.jpg' width='150'/></td><td>上装|衬衫衬衣</td></tr><tr><td><a href='https://console.wetry.shop/productDetail/1361'>20986</a></td><td>淡粉色休闲衬衫</td><td>298.0</td><td><img src='https://image.wetry.shop/product/spu/3e08e393-77f1-4f91-9035-7b4774962d09.png' width='150'/></td><td>0.19</td><td>0.0</td><td>16</td><td>4</td><td>4.0</td><td>1</td><td><img src='https://image.wetry.shop/product/spu/20986/productDetailPageWxCode.jpg' width='150'/></td><td>上装|衬衫衬衣</td></tr><tr><td><a href='https://console.wetry.shop/productDetail/1374'>20999</a></td><td>复古花边尖领短衬衫</td><td>258.0</td><td><img src='https://image.wetry.shop/product/spu/d9bb1b75-bc1e-4c3f-9a00-52f500752a3c.png' width='150'/></td><td>0.11</td><td>0.5</td><td>18</td><td>2</td><td>9.0</td><td>1</td><td><img src='https://image.wetry.shop/product/spu/20999/productDetailPageWxCode.jpg' width='150'/></td><td>上装|衬衫衬衣</td></tr><tr><td><a href='https://console.wetry.shop/productDetail/1317'>20942</a></td><td>法式复古淡黄色针织开衫</td><td>158.0</td><td><img src='https://image.wetry.shop/product/spu/ae09b494-7532-4b15-afb5-d8de5cfe8efc.png' width='150'/></td><td>0.13</td><td>0.25</td><td>23</td><td>4</td><td>5.75</td><td>1</td><td><img src='https://image.wetry.shop/product/spu/20942/productDetailPageWxCode.jpg' width='150'/></td><td>上装|针织衫</td></tr><tr><td><a href='https://console.wetry.shop/productDetail/1228'>20853</a></td><td>杏色A字摆半裙</td><td>248.0</td><td><img src='https://image.wetry.shop/product/spu/f613d8df-f797-4854-ae36-43dae808747d.jpg' width='150'/></td><td>0.19</td><td>0.0</td><td>16</td><td>4</td><td>4.0</td><td>2</td><td><img src='https://image.wetry.shop/product/spu/20853/productDetailPageWxCode.jpg' width='150'/></td><td>下装裙|A字裙</td></tr><tr><td><a href='https://console.wetry.shop/productDetail/1379'>21004</a></td><td>撞色压线A字长款半裙</td><td>288.0</td><td><img src='https://image.wetry.shop/product/spu/a5736ae8-c682-404b-a8e6-0a99ec7666c1.jpg' width='150'/></td><td>0.11</td><td>0.0</td><td>18</td><td>2</td><td>9.0</td><td>2</td><td><img src='https://image.wetry.shop/product/spu/21004/productDetailPageWxCode.jpg' width='150'/></td><td>下装裙|A字裙</td></tr><tr><td><a href='https://console.wetry.shop/productDetail/1445'>21070</a></td><td>超显瘦黑色高腰设计感半裙（含腰带）</td><td>368.0</td><td><img src='https://image.wetry.shop/product/spu/c043d805-8ac6-43c9-8753-7fed8881b499.jpg' width='150'/></td><td>0.13</td><td>0.14</td><td>30</td><td>7</td><td>4.29</td><td>2</td><td><img src='https://image.wetry.shop/product/spu/21070/productDetailPageWxCode.jpg' width='150'/></td><td>下装裙|不对称以及垂褶裙</td></tr><tr><td><a href='https://console.wetry.shop/productDetail/1444'>21069</a></td><td>超显瘦杏色高腰设计感半裙（含腰带）</td><td>368.0</td><td><img src='https://image.wetry.shop/product/spu/7fa81919-e3c4-4ae8-bf0f-b3337db43881.png' width='150'/></td><td>0.2</td><td>0.0</td><td>20</td><td>3</td><td>6.67</td><td>1</td><td><img src='https://image.wetry.shop/product/spu/21069/productDetailPageWxCode.jpg' width='150'/></td><td>下装裙|不对称以及垂褶裙</td></tr><tr><td><a href='https://console.wetry.shop/productDetail/1152'>20777</a></td><td>淡黄色真丝感A字中裙</td><td>268.0</td><td><img src='https://image.wetry.shop/product/spu/c9e4ff94-4251-45eb-8cc6-807ecf2f3945.jpg' width='150'/></td><td>0.2</td><td>0.2</td><td>55</td><td>10</td><td>5.5</td><td>2</td><td><img src='https://image.wetry.shop/product/spu/20777/productDetailPageWxCode.jpg' width='150'/></td><td>下装裙|伞裙</td></tr><tr><td><a href='https://console.wetry.shop/productDetail/1153'>20778</a></td><td>真丝感A字中裙</td><td>268.0</td><td><img src='https://image.wetry.shop/product/spu/a852d1c3-eb1b-4bcb-9ad0-5b83a9bb6c9e.jpg' width='150'/></td><td>0.19</td><td>0.13</td><td>27</td><td>8</td><td>3.38</td><td>2</td><td><img src='https://image.wetry.shop/product/spu/20778/productDetailPageWxCode.jpg' width='150'/></td><td>下装裙|伞裙</td></tr><tr><td><a href='https://console.wetry.shop/productDetail/1091'>20716</a></td><td>设计感显瘦微喇西装裤</td><td>298.0</td><td><img src='https://image.wetry.shop/product/spu/052194d2-593f-49ce-97e4-7092412d2347.jpg' width='150'/></td><td>0.28</td><td>0.29</td><td>64</td><td>17</td><td>3.76</td><td>2</td><td><img src='https://image.wetry.shop/product/spu/20716/productDetailPageWxCode.jpg' width='150'/></td><td>下装裤|喇叭裤</td></tr><tr><td><a href='https://console.wetry.shop/productDetail/1442'>21067</a></td><td>复古浅蓝色九分牛仔直筒裤</td><td>268.0</td><td><img src='https://image.wetry.shop/product/spu/ac269b00-1541-4532-9714-667b3925510f.png' width='150'/></td><td>0.23</td><td>0.2</td><td>22</td><td>5</td><td>4.4</td><td>1</td><td><img src='https://image.wetry.shop/product/spu/21067/productDetailPageWxCode.jpg' width='150'/></td><td>下装裤|牛仔长裤</td></tr><tr><td><a href='https://console.wetry.shop/productDetail/1107'>20732</a></td><td>浅蓝色阔腿牛仔裤</td><td>328.0</td><td><img src='https://image.wetry.shop/product/spu/ccdafc72-ee66-4cae-bada-e8c03b4c3fff.jpg' width='150'/></td><td>0.29</td><td>0.45</td><td>66</td><td>11</td><td>6.0</td><td>2</td><td><img src='https://image.wetry.shop/product/spu/20732/productDetailPageWxCode.jpg' width='150'/></td><td>下装裤|牛仔长裤</td></tr><tr><td><a href='https://console.wetry.shop/productDetail/1097'>20722</a></td><td>复古蓝色小哈伦牛仔裤</td><td>268.0</td><td><img src='https://image.wetry.shop/product/spu/9554780c-0c64-48c8-8f6b-aef36df0f93d.jpg' width='150'/></td><td>0.23</td><td>0.29</td><td>70</td><td>14</td><td>5.0</td><td>2</td><td><img src='https://image.wetry.shop/product/spu/20722/productDetailPageWxCode.jpg' width='150'/></td><td>下装裤|牛仔长裤</td></tr><tr><td><a href='https://console.wetry.shop/productDetail/1356'>20981</a></td><td>博主同款极致显瘦牛仔长裤</td><td>268.0</td><td><img src='https://image.wetry.shop/product/spu/96a02a78-700c-4473-901c-5e40018d2054.jpg' width='150'/></td><td>0.31</td><td>0.5</td><td>26</td><td>8</td><td>3.25</td><td>2</td><td><img src='https://image.wetry.shop/product/spu/20981/productDetailPageWxCode.jpg' width='150'/></td><td>下装裤|牛仔长裤</td></tr><tr><td><a href='https://console.wetry.shop/productDetail/1030'>20655</a></td><td>高腰微喇显瘦牛仔裤</td><td>198.0</td><td><img src='https://image.wetry.shop/product/spu/a9e8f097-92e5-4934-9364-ce940d149f27.jpg' width='150'/></td><td>0.31</td><td>0.29</td><td>108</td><td>31</td><td>3.48</td><td>2</td><td><img src='https://image.wetry.shop/product/spu/20655/productDetailPageWxCode.jpg' width='150'/></td><td>下装裤|牛仔长裤</td></tr><tr><td><a href='https://console.wetry.shop/productDetail/1051'>20676</a></td><td>通勤职业显瘦西装裤</td><td>328.0</td><td><img src='https://image.wetry.shop/product/spu/0d779da6-2525-4a8e-afab-4b55180ebabf.jpg' width='150'/></td><td>0.21</td><td>0.27</td><td>68</td><td>26</td><td>2.62</td><td>7</td><td><img src='https://image.wetry.shop/product/spu/20676/productDetailPageWxCode.jpg' width='150'/></td><td>下装裤|直筒裤</td></tr><tr><td><a href='https://console.wetry.shop/productDetail/1185'>20810</a></td><td>显瘦女神款长款</td><td>288.0</td><td><img src='https://image.wetry.shop/product/spu/a60f9202-43c7-477c-aa48-6c1d80ef7909.png' width='150'/></td><td>0.29</td><td>0.14</td><td>28</td><td>7</td><td>4.0</td><td>1</td><td><img src='https://image.wetry.shop/product/spu/20810/productDetailPageWxCode.jpg' width='150'/></td><td>下装裤|阔腿裤</td></tr><tr><td><a href='https://console.wetry.shop/productDetail/395'>10341</a></td><td>博主同款极致显瘦牛仔长裤</td><td>238.0</td><td><img src='https://image.wetry.shop/product/spu/1efe183d-996c-4414-ae01-e154314aac9a.jpg' width='150'/></td><td>0.35</td><td>0.38</td><td>280</td><td>63</td><td>4.44</td><td>2</td><td><img src='https://image.wetry.shop/product/spu/10341/productDetailPageWxCode.jpg' width='150'/></td><td>下装裤|阔腿裤</td></tr><tr><td><a href='https://console.wetry.shop/productDetail/1184'>20809</a></td><td>慵懒风杏色云朵裤</td><td>288.0</td><td><img src='https://image.wetry.shop/product/spu/0d74f50e-05e9-4478-ab7b-0f70d954107b.jpg' width='150'/></td><td>0.3</td><td>0.5</td><td>40</td><td>8</td><td>5.0</td><td>2</td><td><img src='https://image.wetry.shop/product/spu/20809/productDetailPageWxCode.jpg' width='150'/></td><td>下装裤|阔腿裤</td></tr><tr><td><a href='https://console.wetry.shop/productDetail/209'>10258</a></td><td>日本进口天鹅绒超薄丝袜（白皙）</td><td>58.0</td><td></td><td>0.45</td><td>0.5</td><td>22</td><td>8</td><td>2.75</td><td>0</td><td><img src='https://image.wetry.shop/product/spu/10258/productDetailPageWxCode.jpg' width='150'/></td><td>内衣|丝袜</td></tr><tr><td><a href='https://console.wetry.shop/productDetail/168'>10060</a></td><td>凑单神器-点点女袜</td><td>28.0</td><td><img src='https://image.wetry.shop/product/spu/e9db6491-ef82-450e-a914-153a4dae058f.png' width='150'/></td><td>0.28</td><td>0.19</td><td>78</td><td>16</td><td>4.88</td><td>1</td><td><img src='https://image.wetry.shop/product/spu/10060/productDetailPageWxCode.jpg' width='150'/></td><td>内衣|短袜</td></tr><tr><td><a href='https://console.wetry.shop/productDetail/170'>10062</a></td><td>凑单神器-横条女袜</td><td>28.0</td><td><img src='https://image.wetry.shop/product/spu/8a30e0a0-0782-4a60-829a-05c5e34287ca.png' width='150'/></td><td>0.26</td><td>0.0</td><td>23</td><td>6</td><td>3.83</td><td>1</td><td><img src='https://image.wetry.shop/product/spu/10062/productDetailPageWxCode.jpg' width='150'/></td><td>内衣|短袜</td></tr><tr><td><a href='https://console.wetry.shop/productDetail/167'>10059</a></td><td>凑单神器-点点女袜</td><td>28.0</td><td><img src='https://image.wetry.shop/product/spu/9142fc81-d099-4db1-a2ee-9a9bf3a8919c.png' width='150'/></td><td>0.32</td><td>0.25</td><td>38</td><td>8</td><td>4.75</td><td>1</td><td><img src='https://image.wetry.shop/product/spu/10059/productDetailPageWxCode.jpg' width='150'/></td><td>内衣|短袜</td></tr><tr><td><a href='https://console.wetry.shop/productDetail/1447'>21072</a></td><td>淡蓝色防嗮开衫</td><td>318.0</td><td><img src='https://image.wetry.shop/product/spu/e8af6c13-090c-4d01-aad8-f5e355876404.jpg' width='150'/></td><td>0.11</td><td>0.0</td><td>19</td><td>7</td><td>2.71</td><td>2</td><td><img src='https://image.wetry.shop/product/spu/21072/productDetailPageWxCode.jpg' width='150'/></td><td>外套|薄开衫</td></tr><tr><td><a href='https://console.wetry.shop/productDetail/1448'>21073</a></td><td>杏色质感知性风开衫</td><td>288.0</td><td><img src='https://image.wetry.shop/product/spu/891454d2-2ac5-4f98-9461-b57f2ad1bd46.jpg' width='150'/></td><td>0.12</td><td>0.1</td><td>17</td><td>10</td><td>1.7</td><td>2</td><td><img src='https://image.wetry.shop/product/spu/21073/productDetailPageWxCode.jpg' width='150'/></td><td>外套|薄开衫</td></tr><tr><td><a href='https://console.wetry.shop/productDetail/1318'>20943</a></td><td>质感杏粉色西服外套</td><td>468.0</td><td><img src='https://image.wetry.shop/product/spu/b4a0cff0-a869-4388-aecd-af845c3c544c.jpeg' width='150'/></td><td>0.11</td><td>0.4</td><td>36</td><td>5</td><td>7.2</td><td>1</td><td><img src='https://image.wetry.shop/product/spu/20943/productDetailPageWxCode.jpg' width='150'/></td><td>外套|西装外套</td></tr><tr><td><a href='https://console.wetry.shop/productDetail/285'>10262</a></td><td>千鸟格修身长外套</td><td>448.0</td><td><img src='https://image.wetry.shop/product/spu/10262/10262_a.jpg' width='150'/></td><td>0.12</td><td>0.17</td><td>57</td><td>18</td><td>3.17</td><td>1</td><td><img src='https://image.wetry.shop/product/spu/10262/productDetailPageWxCode.jpg' width='150'/></td><td>大衣|长款大衣</td></tr><tr><td><a href='https://console.wetry.shop/productDetail/1032'>20657</a></td><td>浅灰色针织裙套装</td><td>538.0</td><td><img src='https://image.wetry.shop/product/spu/c68c1506-ee9c-4e16-b7d1-ee1451b94c83.jpg' width='150'/></td><td>0.18</td><td>0.27</td><td>17</td><td>11</td><td>1.55</td><td>3</td><td><img src='https://image.wetry.shop/product/spu/20657/productDetailPageWxCode.jpg' width='150'/></td><td>套装|上衣裙装套装</td></tr><tr><td><a href='https://console.wetry.shop/productDetail/1367'>20992</a></td><td>灰色时髦运动短裤套装</td><td>348.0</td><td><img src='https://image.wetry.shop/product/spu/6550192e-a75f-4a1a-803e-21a7ad630a5b.jpg' width='150'/></td><td>0.36</td><td>0.67</td><td>11</td><td>3</td><td>3.67</td><td>2</td><td><img src='https://image.wetry.shop/product/spu/20992/productDetailPageWxCode.jpg' width='150'/></td><td>套装|上衣裤装套装</td></tr><tr><td><a href='https://console.wetry.shop/productDetail/1435'>21060</a></td><td>雏菊印花丝感吊带裙</td><td>358.0</td><td><img src='https://image.wetry.shop/product/spu/fc5e0078-dbfa-48e1-8c57-2b28199e446d.jpg' width='150'/></td><td>0.33</td><td>0.14</td><td>15</td><td>7</td><td>2.14</td><td>2</td><td><img src='https://image.wetry.shop/product/spu/21060/productDetailPageWxCode.jpg' width='150'/></td><td>连衣裙|梭织连衣裙</td></tr><tr><td><a href='https://console.wetry.shop/productDetail/1388'>21013</a></td><td>灰色收腰卫衣式连衣裙</td><td>328.0</td><td><img src='https://image.wetry.shop/product/spu/ab58d20b-1ca6-4434-95e1-a6b9eae9a67e.jpg' width='150'/></td><td>0.17</td><td>1.0</td><td>12</td><td>2</td><td>6.0</td><td>2</td><td><img src='https://image.wetry.shop/product/spu/21013/productDetailPageWxCode.jpg' width='150'/></td><td>连衣裙|梭织连衣裙</td></tr><tr><td><a href='https://console.wetry.shop/productDetail/1178'>20803</a></td><td>法式复古V领连衣裙</td><td>328.0</td><td><img src='https://image.wetry.shop/product/spu/65dcbd09-b69d-4f09-9d1e-3eeaa17c3a55.png' width='150'/></td><td>0.21</td><td>0.2</td><td>34</td><td>5</td><td>6.8</td><td>1</td><td><img src='https://image.wetry.shop/product/spu/20803/productDetailPageWxCode.jpg' width='150'/></td><td>连衣裙|梭织连衣裙</td></tr><tr><td><a href='https://console.wetry.shop/productDetail/1411'>21036</a></td><td>荷叶边无袖连衣裙</td><td>498.0</td><td><img src='https://image.wetry.shop/product/spu/93325e70-e403-414f-afb4-e965145ae27f.png' width='150'/></td><td>0.23</td><td>0.0</td><td>13</td><td>5</td><td>2.6</td><td>1</td><td><img src='https://image.wetry.shop/product/spu/21036/productDetailPageWxCode.jpg' width='150'/></td><td>连衣裙|梭织连衣裙</td></tr><tr><td><a href='https://console.wetry.shop/productDetail/1430'>21055</a></td><td>蓝黑色飘带设计通勤连衣裙</td><td>488.0</td><td><img src='https://image.wetry.shop/product/spu/5a454817-31cd-492f-a006-f25d89a0879b.jpg' width='150'/></td><td>0.18</td><td>0.4</td><td>11</td><td>5</td><td>2.2</td><td>2</td><td><img src='https://image.wetry.shop/product/spu/21055/productDetailPageWxCode.jpg' width='150'/></td><td>连衣裙|梭织连衣裙</td></tr><tr><td><a href='https://console.wetry.shop/productDetail/1338'>20963</a></td><td>法式复古浪漫碎花连衣裙</td><td>268.0</td><td><img src='https://image.wetry.shop/product/spu/143c62b9-7230-444d-b39a-73c733a78700.png' width='150'/></td><td>0.23</td><td>0.0</td><td>13</td><td>1</td><td>13.0</td><td>1</td><td><img src='https://image.wetry.shop/product/spu/20963/productDetailPageWxCode.jpg' width='150'/></td><td>连衣裙|梭织连衣裙</td></tr><tr><td><a href='https://console.wetry.shop/productDetail/136'>10218</a></td><td>白色方头细腰带</td><td>48.0</td><td><img src='http://image.wetry.shop/product/spu/10218/10218_a.jpg' width='150'/></td><td>0.21</td><td>0.18</td><td>177</td><td>33</td><td>5.36</td><td>1</td><td><img src='https://image.wetry.shop/product/spu/10218/productDetailPageWxCode.jpg' width='150'/></td><td>配饰|腰带</td></tr><tr><td><a href='https://console.wetry.shop/productDetail/355'>20001</a></td><td>YESNO字母耳钉</td><td>58.0</td><td><img src='https://image.wetry.shop/product/spu/d8c677b0-5ada-45e9-afd9-cfce6afe008a.png' width='150'/></td><td>0.27</td><td>0.29</td><td>146</td><td>34</td><td>4.29</td><td>1</td><td><img src='https://image.wetry.shop/product/spu/20001/productDetailPageWxCode.jpg' width='150'/></td><td>首饰|耳环</td></tr><tr><td><a href='https://console.wetry.shop/productDetail/357'>20003</a></td><td>交叉珍珠耳钉</td><td>48.0</td><td><img src='https://image.wetry.shop/product/spu/1b8a91e3-fb23-4ea7-9a0d-fbe2627602f3.png' width='150'/></td><td>0.32</td><td>0.27</td><td>44</td><td>11</td><td>4.0</td><td>1</td><td><img src='https://image.wetry.shop/product/spu/20003/productDetailPageWxCode.jpg' width='150'/></td><td>首饰|耳环</td></tr><tr><td><a href='https://console.wetry.shop/productDetail/709'>20334</a></td><td>粉色冰淇淋耳钉</td><td>48.0</td><td><img src='https://image.wetry.shop/product/spu/bc0955bc-8e9b-4c13-988c-5a24ed90d3c2.png' width='150'/></td><td>0.33</td><td>0.33</td><td>33</td><td>6</td><td>5.5</td><td>1</td><td><img src='https://image.wetry.shop/product/spu/20334/productDetailPageWxCode.jpg' width='150'/></td><td>首饰|耳环</td></tr></table>\""
      ]
     },
     "metadata": {},
     "output_type": "display_data"
    },
    {
     "data": {
      "text/plain": [
       "\"\""
      ]
     },
     "execution_count": 207,
     "metadata": {},
     "output_type": "execute_result"
    }
   ],
   "source": [
    "table = []\n",
    "time {\n",
    "    table = product.pmap do |x| \n",
    "        [ \"<a href='https://console.wetry.shop/productDetail/#{x.id}'>#{x.spu}</a>\",\n",
    "         x.product_name,\n",
    "         x.member_price,\n",
    "         x.picture.keep.url,\n",
    "         ratio(Orders.finish_purchase.item.keep.where(spu:x.spu).sold.size, Orders.finish_purchase.item.keep.where(spu:x.spu).size),\n",
    "         ratio(Orders.where(member_id:group[\"已育\"].id).finish_purchase.item.keep.where(spu:x.spu).sold.size, Orders.where(member_id:group[\"已育\"].id).finish_purchase.item.keep.where(spu:x.spu).size),\n",
    "         Orders.finish_purchase.item.keep.where(spu:x.spu).size,\n",
    "         Orders.where(member_id:group[\"已育\"].id).finish_purchase.item.keep.where(spu:x.spu).size,\n",
    "         ratio(Orders.finish_purchase.item.keep.where(spu:x.spu).size,Orders.where(member_id:group[\"已育\"].id).finish_purchase.item.keep.where(spu:x.spu).size),        \n",
    "         x.picture.keep.size,\n",
    "         \"https://image.wetry.shop/product/spu/#{x.spu}/productDetailPageWxCode.jpg\",\n",
    "         x.category[1]+\"|\"+x.category[0]\n",
    "        ] end\n",
    "\n",
    "}\n",
    "table.sort! {|x,y| x[11]<=>y[11]}\n",
    "\n",
    "table = table.unshift([\"SPU\",\"Name\",\"Price\",\"Image\",\"全体购买转化率\",\"组别购买转化率\",\"全部入盒=A\",\"组别入盒=B\",\"入盒比例=A/B\",\"图片数量\",\"QRCode\",\"类别\"])\n",
    "puts_table table\n",
    "puts_table table, :file=>\"output/候选商品列表.html\"\n",
    "`cp -r output/. ../public/`    \n"
   ]
  },
  {
   "cell_type": "code",
   "execution_count": null,
   "metadata": {},
   "outputs": [],
   "source": []
  }
 ],
 "metadata": {
  "kernelspec": {
   "display_name": "Ruby 2.7.0",
   "language": "ruby",
   "name": "ruby"
  },
  "language_info": {
   "file_extension": ".rb",
   "mimetype": "application/x-ruby",
   "name": "ruby",
   "version": "2.7.0"
  }
 },
 "nbformat": 4,
 "nbformat_minor": 4
}
