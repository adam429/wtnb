{
 "cells": [
  {
   "cell_type": "code",
   "execution_count": 1,
   "metadata": {},
   "outputs": [
    {
     "data": {
      "text/html": [
       "<script src='https://unpkg.com/vue/dist/vue.js'></script>\n",
       "<script src='https://unpkg.com/chart.js@2.9.3/dist/Chart.bundle.js'></script>\n",
       "<script src='https://unpkg.com/vue-chartkick@0.5.1/dist/vue-chartkick.js'></script>\n",
       "<script src='https://unpkg.com/element-ui/lib/index.js'></script>\n"
      ],
      "text/plain": [
       "\"<script src='https://unpkg.com/vue/dist/vue.js'></script>\\n<script src='https://unpkg.com/chart.js@2.9.3/dist/Chart.bundle.js'></script>\\n<script src='https://unpkg.com/vue-chartkick@0.5.1/dist/vue-chartkick.js'></script>\\n<script src='https://unpkg.com/element-ui/lib/index.js'></script>\\n\""
      ]
     },
     "metadata": {},
     "output_type": "display_data"
    },
    {
     "data": {
      "text/html": [
       "<link rel='stylesheet' href='https://unpkg.com/element-ui/lib/theme-chalk/index.css'>\n"
      ],
      "text/plain": [
       "\"<link rel='stylesheet' href='https://unpkg.com/element-ui/lib/theme-chalk/index.css'>\\n\""
      ]
     },
     "metadata": {},
     "output_type": "display_data"
    }
   ],
   "source": [
    "## 设置数据库 & 定义数据模型\n",
    "    \n",
    "load './wtnb/wtnb.rb'\n",
    "load './wtnb/wtmodel.rb'\n",
    "\n",
    "IRuby.display IRuby.html(include_js)\n",
    "IRuby.display IRuby.html(include_css)\n",
    "nil"
   ]
  },
  {
   "cell_type": "code",
   "execution_count": 2,
   "metadata": {},
   "outputs": [],
   "source": [
    "group=Store[\"group_jobtype\"]\n",
    "nil\n"
   ]
  },
  {
   "cell_type": "code",
   "execution_count": 3,
   "metadata": {},
   "outputs": [
    {
     "data": {
      "text/plain": [
       ":show_graph"
      ]
     },
     "execution_count": 3,
     "metadata": {},
     "output_type": "execute_result"
    }
   ],
   "source": [
    "def show_graph(group,&block)\n",
    "   data=group.map do |k,v| [k,block.call(v)] end.to_h\n",
    "\n",
    "   sample = data.first\n",
    "   sample_data = sample[1]\n",
    "        \n",
    "   # 每个类别汇总成一个数字, 输出pie_chart\n",
    "   if sample_data.class==Integer then\n",
    "     return pie_chart(data,colors:color())   \n",
    "   elsif sample_data.class==Float then\n",
    "     return bar_chart(data,colors:color())   \n",
    "   elsif sample_data.class==Hash then\n",
    "      type_sample = sample_data.first[0].to_s\n",
    "       # 判断是否日期\n",
    "       if Time.zone.parse(type_sample) and Time.zone.parse(type_sample).to_s(:db)[0,10]==type_sample then\n",
    "           column_chart(data.to_a.map do |x| {:name=>x[0],:data=>x[1]} end,colors:color(),stacked: true)\n",
    "       else\n",
    "           return \"missing type1\"\n",
    "       end       \n",
    "   elsif sample_data.class==Array then\n",
    "       if sample_data[0].class == Integer or sample_data[0].class == Float then\n",
    "            all_data = data.to_a.map(&->(x){x[1]}).flatten\n",
    "            bin, *freq = all_data.histogram(10,:other_sets=>data.to_a.map(&->(x){x[1]}))\n",
    "            bin.map! do |x| x.round(2) end\n",
    "           \n",
    "            ret = \"\"\n",
    "            index=1\n",
    "            data.each do |k,v| \n",
    "                chart_data = [{name: k, data: bin.zip(freq[index]).to_h}]\n",
    "                ret += column_chart(chart_data,colors:color())\n",
    "                index+=1\n",
    "            end\n",
    "           return ret\n",
    "           \n",
    "       elsif sample_data[0].class == String\n",
    "            ret = \"\"\n",
    "            \n",
    "            all_data = data.to_a.map(&->(x){x[1]}).flatten          \n",
    "            if all_data.tally.size<=15\n",
    "               data.each do |k,v| \n",
    "                    chart_data = [{name: k, data: v.tally.sort }]\n",
    "                    ret += column_chart(chart_data,colors:color())\n",
    "               end\n",
    "            else\n",
    "               data.each do |k,v| \n",
    "                    chart_data = [{name: k, data: v.tally.sort do |x,y| -1*(x[1]<=>y[1]) end[0,16] }]\n",
    "                    ret += column_chart(chart_data,colors:color())\n",
    "               end\n",
    "            end\n",
    "           return ret\n",
    "       else\n",
    "           return \"missing type3\"           \n",
    "       end\n",
    "       \n",
    "   end\n",
    "       \n",
    "end"
   ]
  },
  {
   "cell_type": "code",
   "execution_count": 5,
   "metadata": {},
   "outputs": [
    {
     "data": {
      "text/html": [
       "<h1>人群占比</h1>"
      ],
      "text/plain": [
       "\"<h1>人群占比</h1>\""
      ]
     },
     "metadata": {},
     "output_type": "display_data"
    },
    {
     "data": {
      "text/html": [
       "<div id=\"chart-2\" style=\"height: 300px; width: 100%; text-align: center; color: #999; line-height: 300px; font-size: 14px; font-family: 'Lucida Grande', 'Lucida Sans Unicode', Verdana, Arial, Helvetica, sans-serif;\">Loading...</div><script type=\"text/javascript\">\n",
       "  new Chartkick[\"PieChart\"](\"chart-2\", [[\"个性化办公室\",54],[\"企事业单位办公室\",127],[\"商务办公室\",316],[\"其他\",168]], {\"colors\":[\"#60acfc\",\"#32d3eb\",\"#5bc49f\",\"#feb64d\",\"#ff7c7c\",\"#9287e7\"]});\n",
       "</script>\n"
      ],
      "text/plain": [
       "\"<div id=\\\"chart-2\\\" style=\\\"height: 300px; width: 100%; text-align: center; color: #999; line-height: 300px; font-size: 14px; font-family: 'Lucida Grande', 'Lucida Sans Unicode', Verdana, Arial, Helvetica, sans-serif;\\\">Loading...</div><script type=\\\"text/javascript\\\">\\n  new Chartkick[\\\"PieChart\\\"](\\\"chart-2\\\", [[\\\"个性化办公室\\\",54],[\\\"企事业单位办公室\\\",127],[\\\"商务办公室\\\",316],[\\\"其他\\\",168]], {\\\"colors\\\":[\\\"#60acfc\\\",\\\"#32d3eb\\\",\\\"#5bc49f\\\",\\\"#feb64d\\\",\\\"#ff7c7c\\\",\\\"#9287e7\\\"]});\\n</script>\\n\""
      ]
     },
     "metadata": {},
     "output_type": "display_data"
    }
   ],
   "source": [
    "puts_header \"人群占比\"\n",
    "puts_display show_graph(group, & ->(x) {x.count} )"
   ]
  },
  {
   "cell_type": "code",
   "execution_count": 5,
   "metadata": {},
   "outputs": [
    {
     "data": {
      "text/html": [
       "<h1>V3人群占比</h1>"
      ],
      "text/plain": [
       "\"<h1>V3人群占比</h1>\""
      ]
     },
     "metadata": {},
     "output_type": "display_data"
    },
    {
     "data": {
      "text/html": [
       "<div id=\"chart-2\" style=\"height: 300px; width: 100%; text-align: center; color: #999; line-height: 300px; font-size: 14px; font-family: 'Lucida Grande', 'Lucida Sans Unicode', Verdana, Arial, Helvetica, sans-serif;\">Loading...</div><script type=\"text/javascript\">\n",
       "  new Chartkick[\"PieChart\"](\"chart-2\", [[\"个性化办公室\",6],[\"企事业单位办公室\",17],[\"商务办公室\",36],[\"其他\",19]], {\"colors\":[\"#60acfc\",\"#32d3eb\",\"#5bc49f\",\"#feb64d\",\"#ff7c7c\",\"#9287e7\"]});\n",
       "</script>\n"
      ],
      "text/plain": [
       "\"<div id=\\\"chart-2\\\" style=\\\"height: 300px; width: 100%; text-align: center; color: #999; line-height: 300px; font-size: 14px; font-family: 'Lucida Grande', 'Lucida Sans Unicode', Verdana, Arial, Helvetica, sans-serif;\\\">Loading...</div><script type=\\\"text/javascript\\\">\\n  new Chartkick[\\\"PieChart\\\"](\\\"chart-2\\\", [[\\\"个性化办公室\\\",6],[\\\"企事业单位办公室\\\",17],[\\\"商务办公室\\\",36],[\\\"其他\\\",19]], {\\\"colors\\\":[\\\"#60acfc\\\",\\\"#32d3eb\\\",\\\"#5bc49f\\\",\\\"#feb64d\\\",\\\"#ff7c7c\\\",\\\"#9287e7\\\"]});\\n</script>\\n\""
      ]
     },
     "metadata": {},
     "output_type": "display_data"
    }
   ],
   "source": [
    "puts_header \"V3人群占比\"\n",
    "puts_display show_graph(group, & ->(x) { User.where(id:x.id).v3.count } )"
   ]
  },
  {
   "cell_type": "code",
   "execution_count": 60,
   "metadata": {},
   "outputs": [
    {
     "data": {
      "text/html": [
       "<h1>V2人群占比</h1>"
      ],
      "text/plain": [
       "\"<h1>V2人群占比</h1>\""
      ]
     },
     "metadata": {},
     "output_type": "display_data"
    },
    {
     "data": {
      "text/html": [
       "<div id=\"chart-5\" style=\"height: 300px; width: 100%; text-align: center; color: #999; line-height: 300px; font-size: 14px; font-family: 'Lucida Grande', 'Lucida Sans Unicode', Verdana, Arial, Helvetica, sans-serif;\">Loading...</div><script type=\"text/javascript\">\n",
       "  new Chartkick[\"PieChart\"](\"chart-5\", [[\"个性化办公室\",2],[\"企事业单位办公室\",8],[\"商务办公室\",23],[\"其他\",18]], {\"colors\":[\"#60acfc\",\"#32d3eb\",\"#5bc49f\",\"#feb64d\",\"#ff7c7c\",\"#9287e7\"]});\n",
       "</script>\n"
      ],
      "text/plain": [
       "\"<div id=\\\"chart-5\\\" style=\\\"height: 300px; width: 100%; text-align: center; color: #999; line-height: 300px; font-size: 14px; font-family: 'Lucida Grande', 'Lucida Sans Unicode', Verdana, Arial, Helvetica, sans-serif;\\\">Loading...</div><script type=\\\"text/javascript\\\">\\n  new Chartkick[\\\"PieChart\\\"](\\\"chart-5\\\", [[\\\"个性化办公室\\\",2],[\\\"企事业单位办公室\\\",8],[\\\"商务办公室\\\",23],[\\\"其他\\\",18]], {\\\"colors\\\":[\\\"#60acfc\\\",\\\"#32d3eb\\\",\\\"#5bc49f\\\",\\\"#feb64d\\\",\\\"#ff7c7c\\\",\\\"#9287e7\\\"]});\\n</script>\\n\""
      ]
     },
     "metadata": {},
     "output_type": "display_data"
    }
   ],
   "source": [
    "puts_header \"V2人群占比\"\n",
    "puts_display show_graph(group, & ->(x) { User.where(id:x.id).v2.count } )"
   ]
  },
  {
   "cell_type": "code",
   "execution_count": 61,
   "metadata": {},
   "outputs": [
    {
     "data": {
      "text/html": [
       "<h1>V1人群占比</h1>"
      ],
      "text/plain": [
       "\"<h1>V1人群占比</h1>\""
      ]
     },
     "metadata": {},
     "output_type": "display_data"
    },
    {
     "data": {
      "text/html": [
       "<div id=\"chart-6\" style=\"height: 300px; width: 100%; text-align: center; color: #999; line-height: 300px; font-size: 14px; font-family: 'Lucida Grande', 'Lucida Sans Unicode', Verdana, Arial, Helvetica, sans-serif;\">Loading...</div><script type=\"text/javascript\">\n",
       "  new Chartkick[\"PieChart\"](\"chart-6\", [[\"个性化办公室\",2],[\"企事业单位办公室\",19],[\"商务办公室\",28],[\"其他\",22]], {\"colors\":[\"#60acfc\",\"#32d3eb\",\"#5bc49f\",\"#feb64d\",\"#ff7c7c\",\"#9287e7\"]});\n",
       "</script>\n"
      ],
      "text/plain": [
       "\"<div id=\\\"chart-6\\\" style=\\\"height: 300px; width: 100%; text-align: center; color: #999; line-height: 300px; font-size: 14px; font-family: 'Lucida Grande', 'Lucida Sans Unicode', Verdana, Arial, Helvetica, sans-serif;\\\">Loading...</div><script type=\\\"text/javascript\\\">\\n  new Chartkick[\\\"PieChart\\\"](\\\"chart-6\\\", [[\\\"个性化办公室\\\",2],[\\\"企事业单位办公室\\\",19],[\\\"商务办公室\\\",28],[\\\"其他\\\",22]], {\\\"colors\\\":[\\\"#60acfc\\\",\\\"#32d3eb\\\",\\\"#5bc49f\\\",\\\"#feb64d\\\",\\\"#ff7c7c\\\",\\\"#9287e7\\\"]});\\n</script>\\n\""
      ]
     },
     "metadata": {},
     "output_type": "display_data"
    }
   ],
   "source": [
    "puts_header \"V1人群占比\"\n",
    "puts_display show_graph(group, & ->(x) { User.where(id:x.id).v1.count } )"
   ]
  },
  {
   "cell_type": "code",
   "execution_count": 62,
   "metadata": {},
   "outputs": [
    {
     "data": {
      "text/html": [
       "<h1>V0人群占比</h1>"
      ],
      "text/plain": [
       "\"<h1>V0人群占比</h1>\""
      ]
     },
     "metadata": {},
     "output_type": "display_data"
    },
    {
     "data": {
      "text/html": [
       "<div id=\"chart-7\" style=\"height: 300px; width: 100%; text-align: center; color: #999; line-height: 300px; font-size: 14px; font-family: 'Lucida Grande', 'Lucida Sans Unicode', Verdana, Arial, Helvetica, sans-serif;\">Loading...</div><script type=\"text/javascript\">\n",
       "  new Chartkick[\"PieChart\"](\"chart-7\", [[\"个性化办公室\",18],[\"企事业单位办公室\",45],[\"商务办公室\",118],[\"其他\",58]], {\"colors\":[\"#60acfc\",\"#32d3eb\",\"#5bc49f\",\"#feb64d\",\"#ff7c7c\",\"#9287e7\"]});\n",
       "</script>\n"
      ],
      "text/plain": [
       "\"<div id=\\\"chart-7\\\" style=\\\"height: 300px; width: 100%; text-align: center; color: #999; line-height: 300px; font-size: 14px; font-family: 'Lucida Grande', 'Lucida Sans Unicode', Verdana, Arial, Helvetica, sans-serif;\\\">Loading...</div><script type=\\\"text/javascript\\\">\\n  new Chartkick[\\\"PieChart\\\"](\\\"chart-7\\\", [[\\\"个性化办公室\\\",18],[\\\"企事业单位办公室\\\",45],[\\\"商务办公室\\\",118],[\\\"其他\\\",58]], {\\\"colors\\\":[\\\"#60acfc\\\",\\\"#32d3eb\\\",\\\"#5bc49f\\\",\\\"#feb64d\\\",\\\"#ff7c7c\\\",\\\"#9287e7\\\"]});\\n</script>\\n\""
      ]
     },
     "metadata": {},
     "output_type": "display_data"
    }
   ],
   "source": [
    "puts_header \"V0人群占比\"\n",
    "puts_display show_graph(group, & ->(x) { User.where(id:x.id).v0.count } )"
   ]
  },
  {
   "cell_type": "code",
   "execution_count": 63,
   "metadata": {},
   "outputs": [
    {
     "data": {
      "text/html": [
       "<h1>人群预定情况</h1>"
      ],
      "text/plain": [
       "\"<h1>人群预定情况</h1>\""
      ]
     },
     "metadata": {},
     "output_type": "display_data"
    },
    {
     "data": {
      "text/html": [
       "<div id=\"chart-8\" style=\"height: 300px; width: 100%; text-align: center; color: #999; line-height: 300px; font-size: 14px; font-family: 'Lucida Grande', 'Lucida Sans Unicode', Verdana, Arial, Helvetica, sans-serif;\">Loading...</div><script type=\"text/javascript\">\n",
       "  new Chartkick[\"ColumnChart\"](\"chart-8\", [{\"name\":\"个性化办公室\",\"data\":[[\"2020-04-24\",1],[\"2020-04-25\",1],[\"2020-04-30\",1],[\"2020-05-07\",2],[\"2020-05-12\",1]]},{\"name\":\"企事业单位办公室\",\"data\":[[\"2020-04-23\",4],[\"2020-04-26\",1],[\"2020-05-07\",2],[\"2020-05-09\",1],[\"2020-05-11\",1],[\"2020-05-12\",1]]},{\"name\":\"商务办公室\",\"data\":[[\"2020-04-23\",2],[\"2020-04-24\",2],[\"2020-04-25\",3],[\"2020-04-26\",1],[\"2020-04-28\",2],[\"2020-05-07\",2],[\"2020-05-08\",6],[\"2020-05-09\",5],[\"2020-05-12\",4],[\"2020-05-13\",1]]},{\"name\":\"其他\",\"data\":[[\"2020-04-23\",2],[\"2020-04-24\",2],[\"2020-04-29\",1],[\"2020-05-07\",3],[\"2020-05-08\",3],[\"2020-05-12\",1]]}], {\"colors\":[\"#60acfc\",\"#32d3eb\",\"#5bc49f\",\"#feb64d\",\"#ff7c7c\",\"#9287e7\"],\"stacked\":true});\n",
       "</script>\n"
      ],
      "text/plain": [
       "\"<div id=\\\"chart-8\\\" style=\\\"height: 300px; width: 100%; text-align: center; color: #999; line-height: 300px; font-size: 14px; font-family: 'Lucida Grande', 'Lucida Sans Unicode', Verdana, Arial, Helvetica, sans-serif;\\\">Loading...</div><script type=\\\"text/javascript\\\">\\n  new Chartkick[\\\"ColumnChart\\\"](\\\"chart-8\\\", [{\\\"name\\\":\\\"个性化办公室\\\",\\\"data\\\":[[\\\"2020-04-24\\\",1],[\\\"2020-04-25\\\",1],[\\\"2020-04-30\\\",1],[\\\"2020-05-07\\\",2],[\\\"2020-05-12\\\",1]]},{\\\"name\\\":\\\"企事业单位办公室\\\",\\\"data\\\":[[\\\"2020-04-23\\\",4],[\\\"2020-04-26\\\",1],[\\\"2020-05-07\\\",2],[\\\"2020-05-09\\\",1],[\\\"2020-05-11\\\",1],[\\\"2020-05-12\\\",1]]},{\\\"name\\\":\\\"商务办公室\\\",\\\"data\\\":[[\\\"2020-04-23\\\",2],[\\\"2020-04-24\\\",2],[\\\"2020-04-25\\\",3],[\\\"2020-04-26\\\",1],[\\\"2020-04-28\\\",2],[\\\"2020-05-07\\\",2],[\\\"2020-05-08\\\",6],[\\\"2020-05-09\\\",5],[\\\"2020-05-12\\\",4],[\\\"2020-05-13\\\",1]]},{\\\"name\\\":\\\"其他\\\",\\\"data\\\":[[\\\"2020-04-23\\\",2],[\\\"2020-04-24\\\",2],[\\\"2020-04-29\\\",1],[\\\"2020-05-07\\\",3],[\\\"2020-05-08\\\",3],[\\\"2020-05-12\\\",1]]}], {\\\"colors\\\":[\\\"#60acfc\\\",\\\"#32d3eb\\\",\\\"#5bc49f\\\",\\\"#feb64d\\\",\\\"#ff7c7c\\\",\\\"#9287e7\\\"],\\\"stacked\\\":true});\\n</script>\\n\""
      ]
     },
     "metadata": {},
     "output_type": "display_data"
    }
   ],
   "source": [
    "puts_header \"人群预定情况\"\n",
    "puts_display show_graph(group, & ->(x) {x.orders.inhouse.group(:expect_day).where(\"expect_day >= ? and expect_day<=? \",Time.now, Time.now+21.day).count.map {|k,v| [k.to_s(:db)[0,10],v]}.sort.to_h} )"
   ]
  },
  {
   "cell_type": "code",
   "execution_count": 64,
   "metadata": {},
   "outputs": [
    {
     "data": {
      "text/html": [
       "<h1>人群对比情况 - 购买转化率</h1>"
      ],
      "text/plain": [
       "\"<h1>人群对比情况 - 购买转化率</h1>\""
      ]
     },
     "metadata": {},
     "output_type": "display_data"
    },
    {
     "data": {
      "text/html": [
       "<div id=\"chart-9\" style=\"height: 300px; width: 100%; text-align: center; color: #999; line-height: 300px; font-size: 14px; font-family: 'Lucida Grande', 'Lucida Sans Unicode', Verdana, Arial, Helvetica, sans-serif;\">Loading...</div><script type=\"text/javascript\">\n",
       "  new Chartkick[\"BarChart\"](\"chart-9\", [[\"个性化办公室\",39.02],[\"企事业单位办公室\",28.37],[\"商务办公室\",31.73],[\"其他\",30.91]], {\"colors\":[\"#60acfc\",\"#32d3eb\",\"#5bc49f\",\"#feb64d\",\"#ff7c7c\",\"#9287e7\"]});\n",
       "</script>\n"
      ],
      "text/plain": [
       "\"<div id=\\\"chart-9\\\" style=\\\"height: 300px; width: 100%; text-align: center; color: #999; line-height: 300px; font-size: 14px; font-family: 'Lucida Grande', 'Lucida Sans Unicode', Verdana, Arial, Helvetica, sans-serif;\\\">Loading...</div><script type=\\\"text/javascript\\\">\\n  new Chartkick[\\\"BarChart\\\"](\\\"chart-9\\\", [[\\\"个性化办公室\\\",39.02],[\\\"企事业单位办公室\\\",28.37],[\\\"商务办公室\\\",31.73],[\\\"其他\\\",30.91]], {\\\"colors\\\":[\\\"#60acfc\\\",\\\"#32d3eb\\\",\\\"#5bc49f\\\",\\\"#feb64d\\\",\\\"#ff7c7c\\\",\\\"#9287e7\\\"]});\\n</script>\\n\""
      ]
     },
     "metadata": {},
     "output_type": "display_data"
    }
   ],
   "source": [
    "puts_header \"人群对比情况 - 购买转化率\"\n",
    "puts_display show_graph(group, & ->(x) { ratio(x.orders.finish_purchase.purchase_rate,0.01) } )"
   ]
  },
  {
   "cell_type": "code",
   "execution_count": 65,
   "metadata": {},
   "outputs": [
    {
     "data": {
      "text/html": [
       "<h1>人群对比情况 - 年龄分布</h1>"
      ],
      "text/plain": [
       "\"<h1>人群对比情况 - 年龄分布</h1>\""
      ]
     },
     "metadata": {},
     "output_type": "display_data"
    },
    {
     "data": {
      "text/html": [
       "<div id=\"chart-10\" style=\"height: 300px; width: 100%; text-align: center; color: #999; line-height: 300px; font-size: 14px; font-family: 'Lucida Grande', 'Lucida Sans Unicode', Verdana, Arial, Helvetica, sans-serif;\">Loading...</div><script type=\"text/javascript\">\n",
       "  new Chartkick[\"ColumnChart\"](\"chart-10\", [{\"name\":\"个性化办公室\",\"data\":[[23.05,0.0],[27.15,19.0],[31.25,21.0],[35.35,7.0],[39.45,6.0],[43.55,0.0],[47.65,0.0],[51.75,1.0],[55.85,0.0],[59.95,0.0]]}], {\"colors\":[\"#60acfc\",\"#32d3eb\",\"#5bc49f\",\"#feb64d\",\"#ff7c7c\",\"#9287e7\"]});\n",
       "</script>\n",
       "<div id=\"chart-11\" style=\"height: 300px; width: 100%; text-align: center; color: #999; line-height: 300px; font-size: 14px; font-family: 'Lucida Grande', 'Lucida Sans Unicode', Verdana, Arial, Helvetica, sans-serif;\">Loading...</div><script type=\"text/javascript\">\n",
       "  new Chartkick[\"ColumnChart\"](\"chart-11\", [{\"name\":\"企事业单位办公室\",\"data\":[[23.05,3.0],[27.15,22.0],[31.25,49.0],[35.35,24.0],[39.45,19.0],[43.55,5.0],[47.65,2.0],[51.75,1.0],[55.85,1.0],[59.95,0.0]]}], {\"colors\":[\"#60acfc\",\"#32d3eb\",\"#5bc49f\",\"#feb64d\",\"#ff7c7c\",\"#9287e7\"]});\n",
       "</script>\n",
       "<div id=\"chart-12\" style=\"height: 300px; width: 100%; text-align: center; color: #999; line-height: 300px; font-size: 14px; font-family: 'Lucida Grande', 'Lucida Sans Unicode', Verdana, Arial, Helvetica, sans-serif;\">Loading...</div><script type=\"text/javascript\">\n",
       "  new Chartkick[\"ColumnChart\"](\"chart-12\", [{\"name\":\"商务办公室\",\"data\":[[23.05,4.0],[27.15,53.0],[31.25,123.0],[35.35,75.0],[39.45,41.0],[43.55,7.0],[47.65,7.0],[51.75,5.0],[55.85,0.0],[59.95,1.0]]}], {\"colors\":[\"#60acfc\",\"#32d3eb\",\"#5bc49f\",\"#feb64d\",\"#ff7c7c\",\"#9287e7\"]});\n",
       "</script>\n",
       "<div id=\"chart-13\" style=\"height: 300px; width: 100%; text-align: center; color: #999; line-height: 300px; font-size: 14px; font-family: 'Lucida Grande', 'Lucida Sans Unicode', Verdana, Arial, Helvetica, sans-serif;\">Loading...</div><script type=\"text/javascript\">\n",
       "  new Chartkick[\"ColumnChart\"](\"chart-13\", [{\"name\":\"其他\",\"data\":[[23.05,6.0],[27.15,48.0],[31.25,61.0],[35.35,23.0],[39.45,18.0],[43.55,2.0],[47.65,1.0],[51.75,5.0],[55.85,2.0],[59.95,2.0]]}], {\"colors\":[\"#60acfc\",\"#32d3eb\",\"#5bc49f\",\"#feb64d\",\"#ff7c7c\",\"#9287e7\"]});\n",
       "</script>\n"
      ],
      "text/plain": [
       "\"<div id=\\\"chart-10\\\" style=\\\"height: 300px; width: 100%; text-align: center; color: #999; line-height: 300px; font-size: 14px; font-family: 'Lucida Grande', 'Lucida Sans Unicode', Verdana, Arial, Helvetica, sans-serif;\\\">Loading...</div><script type=\\\"text/javascript\\\">\\n  new Chartkick[\\\"ColumnChart\\\"](\\\"chart-10\\\", [{\\\"name\\\":\\\"个性化办公室\\\",\\\"data\\\":[[23.05,0.0],[27.15,19.0],[31.25,21.0],[35.35,7.0],[39.45,6.0],[43.55,0.0],[47.65,0.0],[51.75,1.0],[55.85,0.0],[59.95,0.0]]}], {\\\"colors\\\":[\\\"#60acfc\\\",\\\"#32d3eb\\\",\\\"#5bc49f\\\",\\\"#feb64d\\\",\\\"#ff7c7c\\\",\\\"#9287e7\\\"]});\\n</script>\\n<div id=\\\"chart-11\\\" style=\\\"height: 300px; width: 100%; text-align: center; color: #999; line-height: 300px; font-size: 14px; font-family: 'Lucida Grande', 'Lucida Sans Unicode', Verdana, Arial, Helvetica, sans-serif;\\\">Loading...</div><script type=\\\"text/javascript\\\">\\n  new Chartkick[\\\"ColumnChart\\\"](\\\"chart-11\\\", [{\\\"name\\\":\\\"企事业单位办公室\\\",\\\"data\\\":[[23.05,3.0],[27.15,22.0],[31.25,49.0],[35.35,24.0],[39.45,19.0],[43.55,5.0],[47.65,2.0],[51.75,1.0],[55.85,1.0],[59.95,0.0]]}], {\\\"colors\\\":[\\\"#60acfc\\\",\\\"#32d3eb\\\",\\\"#5bc49f\\\",\\\"#feb64d\\\",\\\"#ff7c7c\\\",\\\"#9287e7\\\"]});\\n</script>\\n<div id=\\\"chart-12\\\" style=\\\"height: 300px; width: 100%; text-align: center; color: #999; line-height: 300px; font-size: 14px; font-family: 'Lucida Grande', 'Lucida Sans Unicode', Verdana, Arial, Helvetica, sans-serif;\\\">Loading...</div><script type=\\\"text/javascript\\\">\\n  new Chartkick[\\\"ColumnChart\\\"](\\\"chart-12\\\", [{\\\"name\\\":\\\"商务办公室\\\",\\\"data\\\":[[23.05,4.0],[27.15,53.0],[31.25,123.0],[35.35,75.0],[39.45,41.0],[43.55,7.0],[47.65,7.0],[51.75,5.0],[55.85,0.0],[59.95,1.0]]}], {\\\"colors\\\":[\\\"#60acfc\\\",\\\"#32d3eb\\\",\\\"#5bc49f\\\",\\\"#feb64d\\\",\\\"#ff7c7c\\\",\\\"#9287e7\\\"]});\\n</script>\\n<div id=\\\"chart-13\\\" style=\\\"height: 300px; width: 100%; text-align: center; color: #999; line-height: 300px; font-size: 14px; font-family: 'Lucida Grande', 'Lucida Sans Unicode', Verdana, Arial, Helvetica, sans-serif;\\\">Loading...</div><script type=\\\"text/javascript\\\">\\n  new Chartkick[\\\"ColumnChart\\\"](\\\"chart-13\\\", [{\\\"name\\\":\\\"其他\\\",\\\"data\\\":[[23.05,6.0],[27.15,48.0],[31.25,61.0],[35.35,23.0],[39.45,18.0],[43.55,2.0],[47.65,1.0],[51.75,5.0],[55.85,2.0],[59.95,2.0]]}], {\\\"colors\\\":[\\\"#60acfc\\\",\\\"#32d3eb\\\",\\\"#5bc49f\\\",\\\"#feb64d\\\",\\\"#ff7c7c\\\",\\\"#9287e7\\\"]});\\n</script>\\n\""
      ]
     },
     "metadata": {},
     "output_type": "display_data"
    }
   ],
   "source": [
    "puts_header \"人群对比情况 - 年龄分布\"\n",
    "puts_display show_graph(group, & ->(x) {x.property.birth.value.map do |y| ((Time.now - Time.zone.parse(y))/3600/24/365).round end} )       \n"
   ]
  },
  {
   "cell_type": "code",
   "execution_count": 66,
   "metadata": {},
   "outputs": [
    {
     "data": {
      "text/html": [
       "<h1>人群对比情况 - 身高分布</h1>"
      ],
      "text/plain": [
       "\"<h1>人群对比情况 - 身高分布</h1>\""
      ]
     },
     "metadata": {},
     "output_type": "display_data"
    },
    {
     "data": {
      "text/html": [
       "<div id=\"chart-14\" style=\"height: 300px; width: 100%; text-align: center; color: #999; line-height: 300px; font-size: 14px; font-family: 'Lucida Grande', 'Lucida Sans Unicode', Verdana, Arial, Helvetica, sans-serif;\">Loading...</div><script type=\"text/javascript\">\n",
       "  new Chartkick[\"ColumnChart\"](\"chart-14\", [{\"name\":\"个性化办公室\",\"data\":[[149.75,0.0],[153.25,2.0],[156.75,19.0],[160.25,4.0],[163.75,17.0],[167.25,5.0],[170.75,5.0],[174.25,1.0],[177.75,0.0],[181.25,0.0]]}], {\"colors\":[\"#60acfc\",\"#32d3eb\",\"#5bc49f\",\"#feb64d\",\"#ff7c7c\",\"#9287e7\"]});\n",
       "</script>\n",
       "<div id=\"chart-15\" style=\"height: 300px; width: 100%; text-align: center; color: #999; line-height: 300px; font-size: 14px; font-family: 'Lucida Grande', 'Lucida Sans Unicode', Verdana, Arial, Helvetica, sans-serif;\">Loading...</div><script type=\"text/javascript\">\n",
       "  new Chartkick[\"ColumnChart\"](\"chart-15\", [{\"name\":\"企事业单位办公室\",\"data\":[[149.75,1.0],[153.25,9.0],[156.75,25.0],[160.25,30.0],[163.75,39.0],[167.25,13.0],[170.75,6.0],[174.25,2.0],[177.75,0.0],[181.25,1.0]]}], {\"colors\":[\"#60acfc\",\"#32d3eb\",\"#5bc49f\",\"#feb64d\",\"#ff7c7c\",\"#9287e7\"]});\n",
       "</script>\n",
       "<div id=\"chart-16\" style=\"height: 300px; width: 100%; text-align: center; color: #999; line-height: 300px; font-size: 14px; font-family: 'Lucida Grande', 'Lucida Sans Unicode', Verdana, Arial, Helvetica, sans-serif;\">Loading...</div><script type=\"text/javascript\">\n",
       "  new Chartkick[\"ColumnChart\"](\"chart-16\", [{\"name\":\"商务办公室\",\"data\":[[149.75,6.0],[153.25,12.0],[156.75,75.0],[160.25,56.0],[163.75,79.0],[167.25,50.0],[170.75,31.0],[174.25,5.0],[177.75,1.0],[181.25,0.0]]}], {\"colors\":[\"#60acfc\",\"#32d3eb\",\"#5bc49f\",\"#feb64d\",\"#ff7c7c\",\"#9287e7\"]});\n",
       "</script>\n",
       "<div id=\"chart-17\" style=\"height: 300px; width: 100%; text-align: center; color: #999; line-height: 300px; font-size: 14px; font-family: 'Lucida Grande', 'Lucida Sans Unicode', Verdana, Arial, Helvetica, sans-serif;\">Loading...</div><script type=\"text/javascript\">\n",
       "  new Chartkick[\"ColumnChart\"](\"chart-17\", [{\"name\":\"其他\",\"data\":[[149.75,5.0],[153.25,6.0],[156.75,34.0],[160.25,23.0],[163.75,56.0],[167.25,20.0],[170.75,17.0],[174.25,3.0],[177.75,3.0],[181.25,0.0]]}], {\"colors\":[\"#60acfc\",\"#32d3eb\",\"#5bc49f\",\"#feb64d\",\"#ff7c7c\",\"#9287e7\"]});\n",
       "</script>\n"
      ],
      "text/plain": [
       "\"<div id=\\\"chart-14\\\" style=\\\"height: 300px; width: 100%; text-align: center; color: #999; line-height: 300px; font-size: 14px; font-family: 'Lucida Grande', 'Lucida Sans Unicode', Verdana, Arial, Helvetica, sans-serif;\\\">Loading...</div><script type=\\\"text/javascript\\\">\\n  new Chartkick[\\\"ColumnChart\\\"](\\\"chart-14\\\", [{\\\"name\\\":\\\"个性化办公室\\\",\\\"data\\\":[[149.75,0.0],[153.25,2.0],[156.75,19.0],[160.25,4.0],[163.75,17.0],[167.25,5.0],[170.75,5.0],[174.25,1.0],[177.75,0.0],[181.25,0.0]]}], {\\\"colors\\\":[\\\"#60acfc\\\",\\\"#32d3eb\\\",\\\"#5bc49f\\\",\\\"#feb64d\\\",\\\"#ff7c7c\\\",\\\"#9287e7\\\"]});\\n</script>\\n<div id=\\\"chart-15\\\" style=\\\"height: 300px; width: 100%; text-align: center; color: #999; line-height: 300px; font-size: 14px; font-family: 'Lucida Grande', 'Lucida Sans Unicode', Verdana, Arial, Helvetica, sans-serif;\\\">Loading...</div><script type=\\\"text/javascript\\\">\\n  new Chartkick[\\\"ColumnChart\\\"](\\\"chart-15\\\", [{\\\"name\\\":\\\"企事业单位办公室\\\",\\\"data\\\":[[149.75,1.0],[153.25,9.0],[156.75,25.0],[160.25,30.0],[163.75,39.0],[167.25,13.0],[170.75,6.0],[174.25,2.0],[177.75,0.0],[181.25,1.0]]}], {\\\"colors\\\":[\\\"#60acfc\\\",\\\"#32d3eb\\\",\\\"#5bc49f\\\",\\\"#feb64d\\\",\\\"#ff7c7c\\\",\\\"#9287e7\\\"]});\\n</script>\\n<div id=\\\"chart-16\\\" style=\\\"height: 300px; width: 100%; text-align: center; color: #999; line-height: 300px; font-size: 14px; font-family: 'Lucida Grande', 'Lucida Sans Unicode', Verdana, Arial, Helvetica, sans-serif;\\\">Loading...</div><script type=\\\"text/javascript\\\">\\n  new Chartkick[\\\"ColumnChart\\\"](\\\"chart-16\\\", [{\\\"name\\\":\\\"商务办公室\\\",\\\"data\\\":[[149.75,6.0],[153.25,12.0],[156.75,75.0],[160.25,56.0],[163.75,79.0],[167.25,50.0],[170.75,31.0],[174.25,5.0],[177.75,1.0],[181.25,0.0]]}], {\\\"colors\\\":[\\\"#60acfc\\\",\\\"#32d3eb\\\",\\\"#5bc49f\\\",\\\"#feb64d\\\",\\\"#ff7c7c\\\",\\\"#9287e7\\\"]});\\n</script>\\n<div id=\\\"chart-17\\\" style=\\\"height: 300px; width: 100%; text-align: center; color: #999; line-height: 300px; font-size: 14px; font-family: 'Lucida Grande', 'Lucida Sans Unicode', Verdana, Arial, Helvetica, sans-serif;\\\">Loading...</div><script type=\\\"text/javascript\\\">\\n  new Chartkick[\\\"ColumnChart\\\"](\\\"chart-17\\\", [{\\\"name\\\":\\\"其他\\\",\\\"data\\\":[[149.75,5.0],[153.25,6.0],[156.75,34.0],[160.25,23.0],[163.75,56.0],[167.25,20.0],[170.75,17.0],[174.25,3.0],[177.75,3.0],[181.25,0.0]]}], {\\\"colors\\\":[\\\"#60acfc\\\",\\\"#32d3eb\\\",\\\"#5bc49f\\\",\\\"#feb64d\\\",\\\"#ff7c7c\\\",\\\"#9287e7\\\"]});\\n</script>\\n\""
      ]
     },
     "metadata": {},
     "output_type": "display_data"
    }
   ],
   "source": [
    "puts_header \"人群对比情况 - 身高分布\"\n",
    "puts_display show_graph(group, & ->(x) {x.property.heigth.value.map(&:to_i) } )       "
   ]
  },
  {
   "cell_type": "code",
   "execution_count": 67,
   "metadata": {},
   "outputs": [
    {
     "data": {
      "text/html": [
       "<h1>人群对比情况 - 体重分布</h1>"
      ],
      "text/plain": [
       "\"<h1>人群对比情况 - 体重分布</h1>\""
      ]
     },
     "metadata": {},
     "output_type": "display_data"
    },
    {
     "data": {
      "text/html": [
       "<div id=\"chart-18\" style=\"height: 300px; width: 100%; text-align: center; color: #999; line-height: 300px; font-size: 14px; font-family: 'Lucida Grande', 'Lucida Sans Unicode', Verdana, Arial, Helvetica, sans-serif;\">Loading...</div><script type=\"text/javascript\">\n",
       "  new Chartkick[\"ColumnChart\"](\"chart-18\", [{\"name\":\"个性化办公室\",\"data\":[[41.05,6.0],[45.15,9.0],[49.25,6.0],[53.35,11.0],[57.45,7.0],[61.55,7.0],[65.65,3.0],[69.75,3.0],[73.85,1.0],[77.95,0.0]]}], {\"colors\":[\"#60acfc\",\"#32d3eb\",\"#5bc49f\",\"#feb64d\",\"#ff7c7c\",\"#9287e7\"]});\n",
       "</script>\n",
       "<div id=\"chart-19\" style=\"height: 300px; width: 100%; text-align: center; color: #999; line-height: 300px; font-size: 14px; font-family: 'Lucida Grande', 'Lucida Sans Unicode', Verdana, Arial, Helvetica, sans-serif;\">Loading...</div><script type=\"text/javascript\">\n",
       "  new Chartkick[\"ColumnChart\"](\"chart-19\", [{\"name\":\"企事业单位办公室\",\"data\":[[41.05,4.0],[45.15,16.0],[49.25,23.0],[53.35,39.0],[57.45,12.0],[61.55,12.0],[65.65,7.0],[69.75,10.0],[73.85,1.0],[77.95,2.0]]}], {\"colors\":[\"#60acfc\",\"#32d3eb\",\"#5bc49f\",\"#feb64d\",\"#ff7c7c\",\"#9287e7\"]});\n",
       "</script>\n",
       "<div id=\"chart-20\" style=\"height: 300px; width: 100%; text-align: center; color: #999; line-height: 300px; font-size: 14px; font-family: 'Lucida Grande', 'Lucida Sans Unicode', Verdana, Arial, Helvetica, sans-serif;\">Loading...</div><script type=\"text/javascript\">\n",
       "  new Chartkick[\"ColumnChart\"](\"chart-20\", [{\"name\":\"商务办公室\",\"data\":[[41.05,6.0],[45.15,36.0],[49.25,59.0],[53.35,93.0],[57.45,57.0],[61.55,35.0],[65.65,16.0],[69.75,8.0],[73.85,3.0],[77.95,2.0]]}], {\"colors\":[\"#60acfc\",\"#32d3eb\",\"#5bc49f\",\"#feb64d\",\"#ff7c7c\",\"#9287e7\"]});\n",
       "</script>\n",
       "<div id=\"chart-21\" style=\"height: 300px; width: 100%; text-align: center; color: #999; line-height: 300px; font-size: 14px; font-family: 'Lucida Grande', 'Lucida Sans Unicode', Verdana, Arial, Helvetica, sans-serif;\">Loading...</div><script type=\"text/javascript\">\n",
       "  new Chartkick[\"ColumnChart\"](\"chart-21\", [{\"name\":\"其他\",\"data\":[[41.05,7.0],[45.15,17.0],[49.25,46.0],[53.35,40.0],[57.45,21.0],[61.55,20.0],[65.65,9.0],[69.75,4.0],[73.85,1.0],[77.95,2.0]]}], {\"colors\":[\"#60acfc\",\"#32d3eb\",\"#5bc49f\",\"#feb64d\",\"#ff7c7c\",\"#9287e7\"]});\n",
       "</script>\n"
      ],
      "text/plain": [
       "\"<div id=\\\"chart-18\\\" style=\\\"height: 300px; width: 100%; text-align: center; color: #999; line-height: 300px; font-size: 14px; font-family: 'Lucida Grande', 'Lucida Sans Unicode', Verdana, Arial, Helvetica, sans-serif;\\\">Loading...</div><script type=\\\"text/javascript\\\">\\n  new Chartkick[\\\"ColumnChart\\\"](\\\"chart-18\\\", [{\\\"name\\\":\\\"个性化办公室\\\",\\\"data\\\":[[41.05,6.0],[45.15,9.0],[49.25,6.0],[53.35,11.0],[57.45,7.0],[61.55,7.0],[65.65,3.0],[69.75,3.0],[73.85,1.0],[77.95,0.0]]}], {\\\"colors\\\":[\\\"#60acfc\\\",\\\"#32d3eb\\\",\\\"#5bc49f\\\",\\\"#feb64d\\\",\\\"#ff7c7c\\\",\\\"#9287e7\\\"]});\\n</script>\\n<div id=\\\"chart-19\\\" style=\\\"height: 300px; width: 100%; text-align: center; color: #999; line-height: 300px; font-size: 14px; font-family: 'Lucida Grande', 'Lucida Sans Unicode', Verdana, Arial, Helvetica, sans-serif;\\\">Loading...</div><script type=\\\"text/javascript\\\">\\n  new Chartkick[\\\"ColumnChart\\\"](\\\"chart-19\\\", [{\\\"name\\\":\\\"企事业单位办公室\\\",\\\"data\\\":[[41.05,4.0],[45.15,16.0],[49.25,23.0],[53.35,39.0],[57.45,12.0],[61.55,12.0],[65.65,7.0],[69.75,10.0],[73.85,1.0],[77.95,2.0]]}], {\\\"colors\\\":[\\\"#60acfc\\\",\\\"#32d3eb\\\",\\\"#5bc49f\\\",\\\"#feb64d\\\",\\\"#ff7c7c\\\",\\\"#9287e7\\\"]});\\n</script>\\n<div id=\\\"chart-20\\\" style=\\\"height: 300px; width: 100%; text-align: center; color: #999; line-height: 300px; font-size: 14px; font-family: 'Lucida Grande', 'Lucida Sans Unicode', Verdana, Arial, Helvetica, sans-serif;\\\">Loading...</div><script type=\\\"text/javascript\\\">\\n  new Chartkick[\\\"ColumnChart\\\"](\\\"chart-20\\\", [{\\\"name\\\":\\\"商务办公室\\\",\\\"data\\\":[[41.05,6.0],[45.15,36.0],[49.25,59.0],[53.35,93.0],[57.45,57.0],[61.55,35.0],[65.65,16.0],[69.75,8.0],[73.85,3.0],[77.95,2.0]]}], {\\\"colors\\\":[\\\"#60acfc\\\",\\\"#32d3eb\\\",\\\"#5bc49f\\\",\\\"#feb64d\\\",\\\"#ff7c7c\\\",\\\"#9287e7\\\"]});\\n</script>\\n<div id=\\\"chart-21\\\" style=\\\"height: 300px; width: 100%; text-align: center; color: #999; line-height: 300px; font-size: 14px; font-family: 'Lucida Grande', 'Lucida Sans Unicode', Verdana, Arial, Helvetica, sans-serif;\\\">Loading...</div><script type=\\\"text/javascript\\\">\\n  new Chartkick[\\\"ColumnChart\\\"](\\\"chart-21\\\", [{\\\"name\\\":\\\"其他\\\",\\\"data\\\":[[41.05,7.0],[45.15,17.0],[49.25,46.0],[53.35,40.0],[57.45,21.0],[61.55,20.0],[65.65,9.0],[69.75,4.0],[73.85,1.0],[77.95,2.0]]}], {\\\"colors\\\":[\\\"#60acfc\\\",\\\"#32d3eb\\\",\\\"#5bc49f\\\",\\\"#feb64d\\\",\\\"#ff7c7c\\\",\\\"#9287e7\\\"]});\\n</script>\\n\""
      ]
     },
     "metadata": {},
     "output_type": "display_data"
    }
   ],
   "source": [
    "puts_header \"人群对比情况 - 体重分布\"\n",
    "puts_display show_graph(group, & ->(x) {x.property.weight.value.map(&:to_i) } )       "
   ]
  },
  {
   "cell_type": "code",
   "execution_count": 68,
   "metadata": {},
   "outputs": [
    {
     "data": {
      "text/html": [
       "<h1>人群对比情况 - 罩杯分布</h1>"
      ],
      "text/plain": [
       "\"<h1>人群对比情况 - 罩杯分布</h1>\""
      ]
     },
     "metadata": {},
     "output_type": "display_data"
    },
    {
     "data": {
      "text/html": [
       "<div id=\"chart-22\" style=\"height: 300px; width: 100%; text-align: center; color: #999; line-height: 300px; font-size: 14px; font-family: 'Lucida Grande', 'Lucida Sans Unicode', Verdana, Arial, Helvetica, sans-serif;\">Loading...</div><script type=\"text/javascript\">\n",
       "  new Chartkick[\"ColumnChart\"](\"chart-22\", [{\"name\":\"个性化办公室\",\"data\":[[\"A\",14],[\"B\",26],[\"C\",10],[\"D\",1],[\"E\",1]]}], {\"colors\":[\"#60acfc\",\"#32d3eb\",\"#5bc49f\",\"#feb64d\",\"#ff7c7c\",\"#9287e7\"]});\n",
       "</script>\n",
       "<div id=\"chart-23\" style=\"height: 300px; width: 100%; text-align: center; color: #999; line-height: 300px; font-size: 14px; font-family: 'Lucida Grande', 'Lucida Sans Unicode', Verdana, Arial, Helvetica, sans-serif;\">Loading...</div><script type=\"text/javascript\">\n",
       "  new Chartkick[\"ColumnChart\"](\"chart-23\", [{\"name\":\"企事业单位办公室\",\"data\":[[\"A\",45],[\"B\",51],[\"C\",20],[\"D\",5],[\"G\",1]]}], {\"colors\":[\"#60acfc\",\"#32d3eb\",\"#5bc49f\",\"#feb64d\",\"#ff7c7c\",\"#9287e7\"]});\n",
       "</script>\n",
       "<div id=\"chart-24\" style=\"height: 300px; width: 100%; text-align: center; color: #999; line-height: 300px; font-size: 14px; font-family: 'Lucida Grande', 'Lucida Sans Unicode', Verdana, Arial, Helvetica, sans-serif;\">Loading...</div><script type=\"text/javascript\">\n",
       "  new Chartkick[\"ColumnChart\"](\"chart-24\", [{\"name\":\"商务办公室\",\"data\":[[\"\",3],[\"A\",89],[\"B\",162],[\"C\",36],[\"D\",13],[\"E\",7],[\"F\",1],[\"G\",2]]}], {\"colors\":[\"#60acfc\",\"#32d3eb\",\"#5bc49f\",\"#feb64d\",\"#ff7c7c\",\"#9287e7\"]});\n",
       "</script>\n",
       "<div id=\"chart-25\" style=\"height: 300px; width: 100%; text-align: center; color: #999; line-height: 300px; font-size: 14px; font-family: 'Lucida Grande', 'Lucida Sans Unicode', Verdana, Arial, Helvetica, sans-serif;\">Loading...</div><script type=\"text/javascript\">\n",
       "  new Chartkick[\"ColumnChart\"](\"chart-25\", [{\"name\":\"其他\",\"data\":[[\"A\",43],[\"B\",74],[\"C\",41],[\"D\",7],[\"E\",1],[\"F\",1]]}], {\"colors\":[\"#60acfc\",\"#32d3eb\",\"#5bc49f\",\"#feb64d\",\"#ff7c7c\",\"#9287e7\"]});\n",
       "</script>\n"
      ],
      "text/plain": [
       "\"<div id=\\\"chart-22\\\" style=\\\"height: 300px; width: 100%; text-align: center; color: #999; line-height: 300px; font-size: 14px; font-family: 'Lucida Grande', 'Lucida Sans Unicode', Verdana, Arial, Helvetica, sans-serif;\\\">Loading...</div><script type=\\\"text/javascript\\\">\\n  new Chartkick[\\\"ColumnChart\\\"](\\\"chart-22\\\", [{\\\"name\\\":\\\"个性化办公室\\\",\\\"data\\\":[[\\\"A\\\",14],[\\\"B\\\",26],[\\\"C\\\",10],[\\\"D\\\",1],[\\\"E\\\",1]]}], {\\\"colors\\\":[\\\"#60acfc\\\",\\\"#32d3eb\\\",\\\"#5bc49f\\\",\\\"#feb64d\\\",\\\"#ff7c7c\\\",\\\"#9287e7\\\"]});\\n</script>\\n<div id=\\\"chart-23\\\" style=\\\"height: 300px; width: 100%; text-align: center; color: #999; line-height: 300px; font-size: 14px; font-family: 'Lucida Grande', 'Lucida Sans Unicode', Verdana, Arial, Helvetica, sans-serif;\\\">Loading...</div><script type=\\\"text/javascript\\\">\\n  new Chartkick[\\\"ColumnChart\\\"](\\\"chart-23\\\", [{\\\"name\\\":\\\"企事业单位办公室\\\",\\\"data\\\":[[\\\"A\\\",45],[\\\"B\\\",51],[\\\"C\\\",20],[\\\"D\\\",5],[\\\"G\\\",1]]}], {\\\"colors\\\":[\\\"#60acfc\\\",\\\"#32d3eb\\\",\\\"#5bc49f\\\",\\\"#feb64d\\\",\\\"#ff7c7c\\\",\\\"#9287e7\\\"]});\\n</script>\\n<div id=\\\"chart-24\\\" style=\\\"height: 300px; width: 100%; text-align: center; color: #999; line-height: 300px; font-size: 14px; font-family: 'Lucida Grande', 'Lucida Sans Unicode', Verdana, Arial, Helvetica, sans-serif;\\\">Loading...</div><script type=\\\"text/javascript\\\">\\n  new Chartkick[\\\"ColumnChart\\\"](\\\"chart-24\\\", [{\\\"name\\\":\\\"商务办公室\\\",\\\"data\\\":[[\\\"\\\",3],[\\\"A\\\",89],[\\\"B\\\",162],[\\\"C\\\",36],[\\\"D\\\",13],[\\\"E\\\",7],[\\\"F\\\",1],[\\\"G\\\",2]]}], {\\\"colors\\\":[\\\"#60acfc\\\",\\\"#32d3eb\\\",\\\"#5bc49f\\\",\\\"#feb64d\\\",\\\"#ff7c7c\\\",\\\"#9287e7\\\"]});\\n</script>\\n<div id=\\\"chart-25\\\" style=\\\"height: 300px; width: 100%; text-align: center; color: #999; line-height: 300px; font-size: 14px; font-family: 'Lucida Grande', 'Lucida Sans Unicode', Verdana, Arial, Helvetica, sans-serif;\\\">Loading...</div><script type=\\\"text/javascript\\\">\\n  new Chartkick[\\\"ColumnChart\\\"](\\\"chart-25\\\", [{\\\"name\\\":\\\"其他\\\",\\\"data\\\":[[\\\"A\\\",43],[\\\"B\\\",74],[\\\"C\\\",41],[\\\"D\\\",7],[\\\"E\\\",1],[\\\"F\\\",1]]}], {\\\"colors\\\":[\\\"#60acfc\\\",\\\"#32d3eb\\\",\\\"#5bc49f\\\",\\\"#feb64d\\\",\\\"#ff7c7c\\\",\\\"#9287e7\\\"]});\\n</script>\\n\""
      ]
     },
     "metadata": {},
     "output_type": "display_data"
    }
   ],
   "source": [
    "puts_header \"人群对比情况 - 罩杯分布\"\n",
    "puts_display show_graph(group, & ->(x) {x.property.cup.value })"
   ]
  },
  {
   "cell_type": "code",
   "execution_count": 69,
   "metadata": {},
   "outputs": [
    {
     "data": {
      "text/html": [
       "<h1>人群对比情况 - 职业分布</h1>"
      ],
      "text/plain": [
       "\"<h1>人群对比情况 - 职业分布</h1>\""
      ]
     },
     "metadata": {},
     "output_type": "display_data"
    },
    {
     "data": {
      "text/html": [
       "<div id=\"chart-26\" style=\"height: 300px; width: 100%; text-align: center; color: #999; line-height: 300px; font-size: 14px; font-family: 'Lucida Grande', 'Lucida Sans Unicode', Verdana, Arial, Helvetica, sans-serif;\">Loading...</div><script type=\"text/javascript\">\n",
       "  new Chartkick[\"ColumnChart\"](\"chart-26\", [{\"name\":\"个性化办公室\",\"data\":[[\"设计师\",18],[\"个体户/私营老板\",12],[\"广告/媒体\",10],[\"其他\",10],[\"经纪人/顾问\",7],[\"互联网/电子商务/通信/软件\",7],[\"金融/投资/银行/保险/财务/咨询\",7],[\"商贸/批发零售/消费/制造\",6],[\"地产/建筑/装修\",5],[\"住宿餐饮/服务业\",5],[\"创业者\",4],[\"店长\",4],[\"文化/体育/娱乐\",3],[\"导演/制片人\",3],[\"创意/文案人员\",3],[\"主持人/艺人/模特\",2]]}], {\"colors\":[\"#60acfc\",\"#32d3eb\",\"#5bc49f\",\"#feb64d\",\"#ff7c7c\",\"#9287e7\"]});\n",
       "</script>\n",
       "<div id=\"chart-27\" style=\"height: 300px; width: 100%; text-align: center; color: #999; line-height: 300px; font-size: 14px; font-family: 'Lucida Grande', 'Lucida Sans Unicode', Verdana, Arial, Helvetica, sans-serif;\">Loading...</div><script type=\"text/javascript\">\n",
       "  new Chartkick[\"ColumnChart\"](\"chart-27\", [{\"name\":\"企事业单位办公室\",\"data\":[[\"教育/培训/科研\",55],[\"政府/事业单位/社会保障\",39],[\"小学/中学教师\",36],[\"医疗/卫生/制药\",26],[\"科级干部\",16],[\"医护人员\",14],[\"医生\",12],[\"公务员\",12],[\"大学讲师/教授\",8],[\"工程师\",7],[\"校长\",5],[\"主任\",4],[\"处级及以上干部\",4],[\"警察\",4],[\"农林牧渔/水利/环境/公共设施\",2],[\"电力/能源/原材料\",2]]}], {\"colors\":[\"#60acfc\",\"#32d3eb\",\"#5bc49f\",\"#feb64d\",\"#ff7c7c\",\"#9287e7\"]});\n",
       "</script>\n",
       "<div id=\"chart-28\" style=\"height: 300px; width: 100%; text-align: center; color: #999; line-height: 300px; font-size: 14px; font-family: 'Lucida Grande', 'Lucida Sans Unicode', Verdana, Arial, Helvetica, sans-serif;\">Loading...</div><script type=\"text/javascript\">\n",
       "  new Chartkick[\"ColumnChart\"](\"chart-28\", [{\"name\":\"商务办公室\",\"data\":[[\"职员\",118],[\"政府/事业单位/社会保障\",73],[\"金融/投资/银行/保险/财务/咨询\",67],[\"人事/财务/行政\",43],[\"互联网/电子商务/通信/软件\",41],[\"人事/财务/行政职员\",27],[\"商贸/批发零售/消费/制造\",25],[\"地产/建筑/装修\",24],[\"部门/项目经理\",21],[\"其他\",21],[\"高级管理层\",19],[\"教育/培训/科研\",18],[\"销售人员/主管\",14],[\"医疗/卫生/制药\",12],[\"部门主管\",12],[\"运营/市场/产品\",11]]}], {\"colors\":[\"#60acfc\",\"#32d3eb\",\"#5bc49f\",\"#feb64d\",\"#ff7c7c\",\"#9287e7\"]});\n",
       "</script>\n",
       "<div id=\"chart-29\" style=\"height: 300px; width: 100%; text-align: center; color: #999; line-height: 300px; font-size: 14px; font-family: 'Lucida Grande', 'Lucida Sans Unicode', Verdana, Arial, Helvetica, sans-serif;\">Loading...</div><script type=\"text/javascript\">\n",
       "  new Chartkick[\"ColumnChart\"](\"chart-29\", [{\"name\":\"其他\",\"data\":[[\"其他\",174],[\"自由职业\",64],[\"家庭主妇\",54],[\"互联网/电子商务/通信/软件\",11],[\"政府/事业单位/社会保障\",7],[\"金融/投资/银行/保险/财务/咨询\",6],[\"广告/媒体\",5],[\"文化/体育/娱乐\",5],[\"教育/培训/科研\",4],[\"法律/商务服务\",2],[\"地产/建筑/装修\",2],[\"医疗/卫生/制药\",1],[\"商贸/批发零售/消费/制造\",1]]}], {\"colors\":[\"#60acfc\",\"#32d3eb\",\"#5bc49f\",\"#feb64d\",\"#ff7c7c\",\"#9287e7\"]});\n",
       "</script>\n"
      ],
      "text/plain": [
       "\"<div id=\\\"chart-26\\\" style=\\\"height: 300px; width: 100%; text-align: center; color: #999; line-height: 300px; font-size: 14px; font-family: 'Lucida Grande', 'Lucida Sans Unicode', Verdana, Arial, Helvetica, sans-serif;\\\">Loading...</div><script type=\\\"text/javascript\\\">\\n  new Chartkick[\\\"ColumnChart\\\"](\\\"chart-26\\\", [{\\\"name\\\":\\\"个性化办公室\\\",\\\"data\\\":[[\\\"设计师\\\",18],[\\\"个体户/私营老板\\\",12],[\\\"广告/媒体\\\",10],[\\\"其他\\\",10],[\\\"经纪人/顾问\\\",7],[\\\"互联网/电子商务/通信/软件\\\",7],[\\\"金融/投资/银行/保险/财务/咨询\\\",7],[\\\"商贸/批发零售/消费/制造\\\",6],[\\\"地产/建筑/装修\\\",5],[\\\"住宿餐饮/服务业\\\",5],[\\\"创业者\\\",4],[\\\"店长\\\",4],[\\\"文化/体育/娱乐\\\",3],[\\\"导演/制片人\\\",3],[\\\"创意/文案人员\\\",3],[\\\"主持人/艺人/模特\\\",2]]}], {\\\"colors\\\":[\\\"#60acfc\\\",\\\"#32d3eb\\\",\\\"#5bc49f\\\",\\\"#feb64d\\\",\\\"#ff7c7c\\\",\\\"#9287e7\\\"]});\\n</script>\\n<div id=\\\"chart-27\\\" style=\\\"height: 300px; width: 100%; text-align: center; color: #999; line-height: 300px; font-size: 14px; font-family: 'Lucida Grande', 'Lucida Sans Unicode', Verdana, Arial, Helvetica, sans-serif;\\\">Loading...</div><script type=\\\"text/javascript\\\">\\n  new Chartkick[\\\"ColumnChart\\\"](\\\"chart-27\\\", [{\\\"name\\\":\\\"企事业单位办公室\\\",\\\"data\\\":[[\\\"教育/培训/科研\\\",55],[\\\"政府/事业单位/社会保障\\\",39],[\\\"小学/中学教师\\\",36],[\\\"医疗/卫生/制药\\\",26],[\\\"科级干部\\\",16],[\\\"医护人员\\\",14],[\\\"医生\\\",12],[\\\"公务员\\\",12],[\\\"大学讲师/教授\\\",8],[\\\"工程师\\\",7],[\\\"校长\\\",5],[\\\"主任\\\",4],[\\\"处级及以上干部\\\",4],[\\\"警察\\\",4],[\\\"农林牧渔/水利/环境/公共设施\\\",2],[\\\"电力/能源/原材料\\\",2]]}], {\\\"colors\\\":[\\\"#60acfc\\\",\\\"#32d3eb\\\",\\\"#5bc49f\\\",\\\"#feb64d\\\",\\\"#ff7c7c\\\",\\\"#9287e7\\\"]});\\n</script>\\n<div id=\\\"chart-28\\\" style=\\\"height: 300px; width: 100%; text-align: center; color: #999; line-height: 300px; font-size: 14px; font-family: 'Lucida Grande', 'Lucida Sans Unicode', Verdana, Arial, Helvetica, sans-serif;\\\">Loading...</div><script type=\\\"text/javascript\\\">\\n  new Chartkick[\\\"ColumnChart\\\"](\\\"chart-28\\\", [{\\\"name\\\":\\\"商务办公室\\\",\\\"data\\\":[[\\\"职员\\\",118],[\\\"政府/事业单位/社会保障\\\",73],[\\\"金融/投资/银行/保险/财务/咨询\\\",67],[\\\"人事/财务/行政\\\",43],[\\\"互联网/电子商务/通信/软件\\\",41],[\\\"人事/财务/行政职员\\\",27],[\\\"商贸/批发零售/消费/制造\\\",25],[\\\"地产/建筑/装修\\\",24],[\\\"部门/项目经理\\\",21],[\\\"其他\\\",21],[\\\"高级管理层\\\",19],[\\\"教育/培训/科研\\\",18],[\\\"销售人员/主管\\\",14],[\\\"医疗/卫生/制药\\\",12],[\\\"部门主管\\\",12],[\\\"运营/市场/产品\\\",11]]}], {\\\"colors\\\":[\\\"#60acfc\\\",\\\"#32d3eb\\\",\\\"#5bc49f\\\",\\\"#feb64d\\\",\\\"#ff7c7c\\\",\\\"#9287e7\\\"]});\\n</script>\\n<div id=\\\"chart-29\\\" style=\\\"height: 300px; width: 100%; text-align: center; color: #999; line-height: 300px; font-size: 14px; font-family: 'Lucida Grande', 'Lucida Sans Unicode', Verdana, Arial, Helvetica, sans-serif;\\\">Loading...</div><script type=\\\"text/javascript\\\">\\n  new Chartkick[\\\"ColumnChart\\\"](\\\"chart-29\\\", [{\\\"name\\\":\\\"其他\\\",\\\"data\\\":[[\\\"其他\\\",174],[\\\"自由职业\\\",64],[\\\"家庭主妇\\\",54],[\\\"互联网/电子商务/通信/软件\\\",11],[\\\"政府/事业单位/社会保障\\\",7],[\\\"金融/投资/银行/保险/财务/咨询\\\",6],[\\\"广告/媒体\\\",5],[\\\"文化/体育/娱乐\\\",5],[\\\"教育/培训/科研\\\",4],[\\\"法律/商务服务\\\",2],[\\\"地产/建筑/装修\\\",2],[\\\"医疗/卫生/制药\\\",1],[\\\"商贸/批发零售/消费/制造\\\",1]]}], {\\\"colors\\\":[\\\"#60acfc\\\",\\\"#32d3eb\\\",\\\"#5bc49f\\\",\\\"#feb64d\\\",\\\"#ff7c7c\\\",\\\"#9287e7\\\"]});\\n</script>\\n\""
      ]
     },
     "metadata": {},
     "output_type": "display_data"
    }
   ],
   "source": [
    "puts_header \"人群对比情况 - 职业分布\"\n",
    "puts_display show_graph(group, & ->(x) {x.property.occupation.value.map{|x| x.split(\",\")}.flatten })"
   ]
  },
  {
   "cell_type": "code",
   "execution_count": 70,
   "metadata": {},
   "outputs": [
    {
     "data": {
      "text/html": [
       "<h1>人群对比情况 - 日常风格分布</h1>"
      ],
      "text/plain": [
       "\"<h1>人群对比情况 - 日常风格分布</h1>\""
      ]
     },
     "metadata": {},
     "output_type": "display_data"
    },
    {
     "data": {
      "text/html": [
       "<div id=\"chart-30\" style=\"height: 300px; width: 100%; text-align: center; color: #999; line-height: 300px; font-size: 14px; font-family: 'Lucida Grande', 'Lucida Sans Unicode', Verdana, Arial, Helvetica, sans-serif;\">Loading...</div><script type=\"text/javascript\">\n",
       "  new Chartkick[\"ColumnChart\"](\"chart-30\", [{\"name\":\"个性化办公室\",\"data\":[[\"设计感OL\",32],[\"轻奢简约OL\",22],[\"时装周街拍girl\",20],[\"温柔小姐姐\",16],[\"法式复古\",14],[\"优衣库女孩\",13],[\"高级名媛OL\",11],[\"时髦潮酷\",11],[\"韩系淑女\",9],[\"美式复古\",8],[\"超A时髦girl\",7],[\"暗黑酷女孩\",5],[\"学院派少女\",4],[\"清新田园\",4],[\"日系森女\",3],[\"韩系淑女小姐姐\",1]]}], {\"colors\":[\"#60acfc\",\"#32d3eb\",\"#5bc49f\",\"#feb64d\",\"#ff7c7c\",\"#9287e7\"]});\n",
       "</script>\n",
       "<div id=\"chart-31\" style=\"height: 300px; width: 100%; text-align: center; color: #999; line-height: 300px; font-size: 14px; font-family: 'Lucida Grande', 'Lucida Sans Unicode', Verdana, Arial, Helvetica, sans-serif;\">Loading...</div><script type=\"text/javascript\">\n",
       "  new Chartkick[\"ColumnChart\"](\"chart-31\", [{\"name\":\"企事业单位办公室\",\"data\":[[\"设计感OL\",71],[\"轻奢简约OL\",69],[\"时装周街拍girl\",43],[\"温柔小姐姐\",42],[\"优衣库女孩\",41],[\"法式复古\",31],[\"韩系淑女\",28],[\"日系森女\",23],[\"美式复古\",20],[\"清新田园\",18],[\"高级名媛OL\",18],[\"时髦潮酷\",15],[\"学院派少女\",10],[\"超A时髦girl\",10],[\"暗黑酷女孩\",8],[\"街头潮酷\",3]]}], {\"colors\":[\"#60acfc\",\"#32d3eb\",\"#5bc49f\",\"#feb64d\",\"#ff7c7c\",\"#9287e7\"]});\n",
       "</script>\n",
       "<div id=\"chart-32\" style=\"height: 300px; width: 100%; text-align: center; color: #999; line-height: 300px; font-size: 14px; font-family: 'Lucida Grande', 'Lucida Sans Unicode', Verdana, Arial, Helvetica, sans-serif;\">Loading...</div><script type=\"text/javascript\">\n",
       "  new Chartkick[\"ColumnChart\"](\"chart-32\", [{\"name\":\"商务办公室\",\"data\":[[\"设计感OL\",180],[\"轻奢简约OL\",147],[\"时装周街拍girl\",122],[\"温柔小姐姐\",101],[\"优衣库女孩\",101],[\"韩系淑女\",69],[\"法式复古\",63],[\"高级名媛OL\",48],[\"美式复古\",44],[\"时髦潮酷\",35],[\"日系森女\",31],[\"清新田园\",28],[\"超A时髦girl\",26],[\"暗黑酷女孩\",20],[\"学院派少女\",19],[\"街头潮酷\",3]]}], {\"colors\":[\"#60acfc\",\"#32d3eb\",\"#5bc49f\",\"#feb64d\",\"#ff7c7c\",\"#9287e7\"]});\n",
       "</script>\n",
       "<div id=\"chart-33\" style=\"height: 300px; width: 100%; text-align: center; color: #999; line-height: 300px; font-size: 14px; font-family: 'Lucida Grande', 'Lucida Sans Unicode', Verdana, Arial, Helvetica, sans-serif;\">Loading...</div><script type=\"text/javascript\">\n",
       "  new Chartkick[\"ColumnChart\"](\"chart-33\", [{\"name\":\"其他\",\"data\":[[\"设计感OL\",78],[\"轻奢简约OL\",71],[\"温柔小姐姐\",69],[\"时装周街拍girl\",65],[\"法式复古\",41],[\"优衣库女孩\",40],[\"韩系淑女\",36],[\"高级名媛OL\",30],[\"时髦潮酷\",23],[\"日系森女\",20],[\"美式复古\",19],[\"暗黑酷女孩\",18],[\"学院派少女\",18],[\"清新田园\",17],[\"超A时髦girl\",17],[\"街头潮酷\",4]]}], {\"colors\":[\"#60acfc\",\"#32d3eb\",\"#5bc49f\",\"#feb64d\",\"#ff7c7c\",\"#9287e7\"]});\n",
       "</script>\n"
      ],
      "text/plain": [
       "\"<div id=\\\"chart-30\\\" style=\\\"height: 300px; width: 100%; text-align: center; color: #999; line-height: 300px; font-size: 14px; font-family: 'Lucida Grande', 'Lucida Sans Unicode', Verdana, Arial, Helvetica, sans-serif;\\\">Loading...</div><script type=\\\"text/javascript\\\">\\n  new Chartkick[\\\"ColumnChart\\\"](\\\"chart-30\\\", [{\\\"name\\\":\\\"个性化办公室\\\",\\\"data\\\":[[\\\"设计感OL\\\",32],[\\\"轻奢简约OL\\\",22],[\\\"时装周街拍girl\\\",20],[\\\"温柔小姐姐\\\",16],[\\\"法式复古\\\",14],[\\\"优衣库女孩\\\",13],[\\\"高级名媛OL\\\",11],[\\\"时髦潮酷\\\",11],[\\\"韩系淑女\\\",9],[\\\"美式复古\\\",8],[\\\"超A时髦girl\\\",7],[\\\"暗黑酷女孩\\\",5],[\\\"学院派少女\\\",4],[\\\"清新田园\\\",4],[\\\"日系森女\\\",3],[\\\"韩系淑女小姐姐\\\",1]]}], {\\\"colors\\\":[\\\"#60acfc\\\",\\\"#32d3eb\\\",\\\"#5bc49f\\\",\\\"#feb64d\\\",\\\"#ff7c7c\\\",\\\"#9287e7\\\"]});\\n</script>\\n<div id=\\\"chart-31\\\" style=\\\"height: 300px; width: 100%; text-align: center; color: #999; line-height: 300px; font-size: 14px; font-family: 'Lucida Grande', 'Lucida Sans Unicode', Verdana, Arial, Helvetica, sans-serif;\\\">Loading...</div><script type=\\\"text/javascript\\\">\\n  new Chartkick[\\\"ColumnChart\\\"](\\\"chart-31\\\", [{\\\"name\\\":\\\"企事业单位办公室\\\",\\\"data\\\":[[\\\"设计感OL\\\",71],[\\\"轻奢简约OL\\\",69],[\\\"时装周街拍girl\\\",43],[\\\"温柔小姐姐\\\",42],[\\\"优衣库女孩\\\",41],[\\\"法式复古\\\",31],[\\\"韩系淑女\\\",28],[\\\"日系森女\\\",23],[\\\"美式复古\\\",20],[\\\"清新田园\\\",18],[\\\"高级名媛OL\\\",18],[\\\"时髦潮酷\\\",15],[\\\"学院派少女\\\",10],[\\\"超A时髦girl\\\",10],[\\\"暗黑酷女孩\\\",8],[\\\"街头潮酷\\\",3]]}], {\\\"colors\\\":[\\\"#60acfc\\\",\\\"#32d3eb\\\",\\\"#5bc49f\\\",\\\"#feb64d\\\",\\\"#ff7c7c\\\",\\\"#9287e7\\\"]});\\n</script>\\n<div id=\\\"chart-32\\\" style=\\\"height: 300px; width: 100%; text-align: center; color: #999; line-height: 300px; font-size: 14px; font-family: 'Lucida Grande', 'Lucida Sans Unicode', Verdana, Arial, Helvetica, sans-serif;\\\">Loading...</div><script type=\\\"text/javascript\\\">\\n  new Chartkick[\\\"ColumnChart\\\"](\\\"chart-32\\\", [{\\\"name\\\":\\\"商务办公室\\\",\\\"data\\\":[[\\\"设计感OL\\\",180],[\\\"轻奢简约OL\\\",147],[\\\"时装周街拍girl\\\",122],[\\\"温柔小姐姐\\\",101],[\\\"优衣库女孩\\\",101],[\\\"韩系淑女\\\",69],[\\\"法式复古\\\",63],[\\\"高级名媛OL\\\",48],[\\\"美式复古\\\",44],[\\\"时髦潮酷\\\",35],[\\\"日系森女\\\",31],[\\\"清新田园\\\",28],[\\\"超A时髦girl\\\",26],[\\\"暗黑酷女孩\\\",20],[\\\"学院派少女\\\",19],[\\\"街头潮酷\\\",3]]}], {\\\"colors\\\":[\\\"#60acfc\\\",\\\"#32d3eb\\\",\\\"#5bc49f\\\",\\\"#feb64d\\\",\\\"#ff7c7c\\\",\\\"#9287e7\\\"]});\\n</script>\\n<div id=\\\"chart-33\\\" style=\\\"height: 300px; width: 100%; text-align: center; color: #999; line-height: 300px; font-size: 14px; font-family: 'Lucida Grande', 'Lucida Sans Unicode', Verdana, Arial, Helvetica, sans-serif;\\\">Loading...</div><script type=\\\"text/javascript\\\">\\n  new Chartkick[\\\"ColumnChart\\\"](\\\"chart-33\\\", [{\\\"name\\\":\\\"其他\\\",\\\"data\\\":[[\\\"设计感OL\\\",78],[\\\"轻奢简约OL\\\",71],[\\\"温柔小姐姐\\\",69],[\\\"时装周街拍girl\\\",65],[\\\"法式复古\\\",41],[\\\"优衣库女孩\\\",40],[\\\"韩系淑女\\\",36],[\\\"高级名媛OL\\\",30],[\\\"时髦潮酷\\\",23],[\\\"日系森女\\\",20],[\\\"美式复古\\\",19],[\\\"暗黑酷女孩\\\",18],[\\\"学院派少女\\\",18],[\\\"清新田园\\\",17],[\\\"超A时髦girl\\\",17],[\\\"街头潮酷\\\",4]]}], {\\\"colors\\\":[\\\"#60acfc\\\",\\\"#32d3eb\\\",\\\"#5bc49f\\\",\\\"#feb64d\\\",\\\"#ff7c7c\\\",\\\"#9287e7\\\"]});\\n</script>\\n\""
      ]
     },
     "metadata": {},
     "output_type": "display_data"
    }
   ],
   "source": [
    "puts_header \"人群对比情况 - 日常风格分布\"\n",
    "puts_display show_graph(group, & ->(x) {x.property.sel_style.value.map{|x| x.split(\",\")}.flatten })"
   ]
  },
  {
   "cell_type": "code",
   "execution_count": 71,
   "metadata": {},
   "outputs": [
    {
     "data": {
      "text/html": [
       "<h1>人群对比情况 - 用户标签分布</h1>"
      ],
      "text/plain": [
       "\"<h1>人群对比情况 - 用户标签分布</h1>\""
      ]
     },
     "metadata": {},
     "output_type": "display_data"
    },
    {
     "data": {
      "text/html": [
       "<div id=\"chart-34\" style=\"height: 300px; width: 100%; text-align: center; color: #999; line-height: 300px; font-size: 14px; font-family: 'Lucida Grande', 'Lucida Sans Unicode', Verdana, Arial, Helvetica, sans-serif;\">Loading...</div><script type=\"text/javascript\">\n",
       "  new Chartkick[\"ColumnChart\"](\"chart-34\", [{\"name\":\"个性化办公室\",\"data\":[[\"温柔小姐姐类\",2],[\"亲友\",1],[\"充返用户\",1],[\"比较时髦\",1],[\"非正式职业\",1],[\"设计师感时髦类\",1],[\"大女装\",1]]}], {\"colors\":[\"#60acfc\",\"#32d3eb\",\"#5bc49f\",\"#feb64d\",\"#ff7c7c\",\"#9287e7\"]});\n",
       "</script>\n",
       "<div id=\"chart-35\" style=\"height: 300px; width: 100%; text-align: center; color: #999; line-height: 300px; font-size: 14px; font-family: 'Lucida Grande', 'Lucida Sans Unicode', Verdana, Arial, Helvetica, sans-serif;\">Loading...</div><script type=\"text/javascript\">\n",
       "  new Chartkick[\"ColumnChart\"](\"chart-35\", [{\"name\":\"企事业单位办公室\",\"data\":[[\"传统淑女\",5],[\"大女装\",4],[\"胖妹\",4],[\"比较时髦\",3],[\"设计师感时髦类\",3],[\"优衣库女孩类\",2],[\"女性印花类\",2],[\"时髦潮酷类\",2],[\"非正式职业\",1],[\"小红书KOL\",1],[\"高级名媛OL类\",1],[\"澳牌姑娘\",1]]}], {\"colors\":[\"#60acfc\",\"#32d3eb\",\"#5bc49f\",\"#feb64d\",\"#ff7c7c\",\"#9287e7\"]});\n",
       "</script>\n",
       "<div id=\"chart-36\" style=\"height: 300px; width: 100%; text-align: center; color: #999; line-height: 300px; font-size: 14px; font-family: 'Lucida Grande', 'Lucida Sans Unicode', Verdana, Arial, Helvetica, sans-serif;\">Loading...</div><script type=\"text/javascript\">\n",
       "  new Chartkick[\"ColumnChart\"](\"chart-36\", [{\"name\":\"商务办公室\",\"data\":[[\"大女装\",7],[\"传统淑女\",5],[\"胖妹\",4],[\"时髦潮酷类\",3],[\"非正式职业\",3],[\"优衣库女孩类\",3],[\"金融类职业\",3],[\"亲友\",2],[\"充返用户\",1],[\"暗黑酷女孩类\",1],[\"设计师感时髦类\",1],[\"温柔小姐姐类\",1],[\"不时髦\",1],[\"田园少女类\",1],[\"朴实仙女类\",1]]}], {\"colors\":[\"#60acfc\",\"#32d3eb\",\"#5bc49f\",\"#feb64d\",\"#ff7c7c\",\"#9287e7\"]});\n",
       "</script>\n",
       "<div id=\"chart-37\" style=\"height: 300px; width: 100%; text-align: center; color: #999; line-height: 300px; font-size: 14px; font-family: 'Lucida Grande', 'Lucida Sans Unicode', Verdana, Arial, Helvetica, sans-serif;\">Loading...</div><script type=\"text/javascript\">\n",
       "  new Chartkick[\"ColumnChart\"](\"chart-37\", [{\"name\":\"其他\",\"data\":[[\"传统淑女\",11],[\"温柔小姐姐类\",8],[\"非正式职业\",8],[\"设计师感时髦类\",7],[\"时髦潮酷类\",7],[\"优衣库女孩类\",6],[\"比较时髦\",6],[\"高级名媛OL类\",5],[\"亲友\",5],[\"澳牌姑娘\",5],[\"暗黑酷女孩类\",4],[\"小仙女时髦类\",4],[\"胖妹\",3],[\"学院风少女类\",3],[\"大女装\",3],[\"运动休闲类\",2]]}], {\"colors\":[\"#60acfc\",\"#32d3eb\",\"#5bc49f\",\"#feb64d\",\"#ff7c7c\",\"#9287e7\"]});\n",
       "</script>\n"
      ],
      "text/plain": [
       "\"<div id=\\\"chart-34\\\" style=\\\"height: 300px; width: 100%; text-align: center; color: #999; line-height: 300px; font-size: 14px; font-family: 'Lucida Grande', 'Lucida Sans Unicode', Verdana, Arial, Helvetica, sans-serif;\\\">Loading...</div><script type=\\\"text/javascript\\\">\\n  new Chartkick[\\\"ColumnChart\\\"](\\\"chart-34\\\", [{\\\"name\\\":\\\"个性化办公室\\\",\\\"data\\\":[[\\\"温柔小姐姐类\\\",2],[\\\"亲友\\\",1],[\\\"充返用户\\\",1],[\\\"比较时髦\\\",1],[\\\"非正式职业\\\",1],[\\\"设计师感时髦类\\\",1],[\\\"大女装\\\",1]]}], {\\\"colors\\\":[\\\"#60acfc\\\",\\\"#32d3eb\\\",\\\"#5bc49f\\\",\\\"#feb64d\\\",\\\"#ff7c7c\\\",\\\"#9287e7\\\"]});\\n</script>\\n<div id=\\\"chart-35\\\" style=\\\"height: 300px; width: 100%; text-align: center; color: #999; line-height: 300px; font-size: 14px; font-family: 'Lucida Grande', 'Lucida Sans Unicode', Verdana, Arial, Helvetica, sans-serif;\\\">Loading...</div><script type=\\\"text/javascript\\\">\\n  new Chartkick[\\\"ColumnChart\\\"](\\\"chart-35\\\", [{\\\"name\\\":\\\"企事业单位办公室\\\",\\\"data\\\":[[\\\"传统淑女\\\",5],[\\\"大女装\\\",4],[\\\"胖妹\\\",4],[\\\"比较时髦\\\",3],[\\\"设计师感时髦类\\\",3],[\\\"优衣库女孩类\\\",2],[\\\"女性印花类\\\",2],[\\\"时髦潮酷类\\\",2],[\\\"非正式职业\\\",1],[\\\"小红书KOL\\\",1],[\\\"高级名媛OL类\\\",1],[\\\"澳牌姑娘\\\",1]]}], {\\\"colors\\\":[\\\"#60acfc\\\",\\\"#32d3eb\\\",\\\"#5bc49f\\\",\\\"#feb64d\\\",\\\"#ff7c7c\\\",\\\"#9287e7\\\"]});\\n</script>\\n<div id=\\\"chart-36\\\" style=\\\"height: 300px; width: 100%; text-align: center; color: #999; line-height: 300px; font-size: 14px; font-family: 'Lucida Grande', 'Lucida Sans Unicode', Verdana, Arial, Helvetica, sans-serif;\\\">Loading...</div><script type=\\\"text/javascript\\\">\\n  new Chartkick[\\\"ColumnChart\\\"](\\\"chart-36\\\", [{\\\"name\\\":\\\"商务办公室\\\",\\\"data\\\":[[\\\"大女装\\\",7],[\\\"传统淑女\\\",5],[\\\"胖妹\\\",4],[\\\"时髦潮酷类\\\",3],[\\\"非正式职业\\\",3],[\\\"优衣库女孩类\\\",3],[\\\"金融类职业\\\",3],[\\\"亲友\\\",2],[\\\"充返用户\\\",1],[\\\"暗黑酷女孩类\\\",1],[\\\"设计师感时髦类\\\",1],[\\\"温柔小姐姐类\\\",1],[\\\"不时髦\\\",1],[\\\"田园少女类\\\",1],[\\\"朴实仙女类\\\",1]]}], {\\\"colors\\\":[\\\"#60acfc\\\",\\\"#32d3eb\\\",\\\"#5bc49f\\\",\\\"#feb64d\\\",\\\"#ff7c7c\\\",\\\"#9287e7\\\"]});\\n</script>\\n<div id=\\\"chart-37\\\" style=\\\"height: 300px; width: 100%; text-align: center; color: #999; line-height: 300px; font-size: 14px; font-family: 'Lucida Grande', 'Lucida Sans Unicode', Verdana, Arial, Helvetica, sans-serif;\\\">Loading...</div><script type=\\\"text/javascript\\\">\\n  new Chartkick[\\\"ColumnChart\\\"](\\\"chart-37\\\", [{\\\"name\\\":\\\"其他\\\",\\\"data\\\":[[\\\"传统淑女\\\",11],[\\\"温柔小姐姐类\\\",8],[\\\"非正式职业\\\",8],[\\\"设计师感时髦类\\\",7],[\\\"时髦潮酷类\\\",7],[\\\"优衣库女孩类\\\",6],[\\\"比较时髦\\\",6],[\\\"高级名媛OL类\\\",5],[\\\"亲友\\\",5],[\\\"澳牌姑娘\\\",5],[\\\"暗黑酷女孩类\\\",4],[\\\"小仙女时髦类\\\",4],[\\\"胖妹\\\",3],[\\\"学院风少女类\\\",3],[\\\"大女装\\\",3],[\\\"运动休闲类\\\",2]]}], {\\\"colors\\\":[\\\"#60acfc\\\",\\\"#32d3eb\\\",\\\"#5bc49f\\\",\\\"#feb64d\\\",\\\"#ff7c7c\\\",\\\"#9287e7\\\"]});\\n</script>\\n\""
      ]
     },
     "metadata": {},
     "output_type": "display_data"
    }
   ],
   "source": [
    "puts_header \"人群对比情况 - 用户标签分布\"\n",
    "puts_display show_graph(group, & ->(x) {x.property.style.value.map {|x| x.split(\",\")}.flatten.filter do |x| x[0]!=\"V\" and x!=\"\" end })"
   ]
  },
  {
   "cell_type": "code",
   "execution_count": null,
   "metadata": {},
   "outputs": [],
   "source": []
  }
 ],
 "metadata": {
  "kernelspec": {
   "display_name": "Ruby 2.7.0",
   "language": "ruby",
   "name": "ruby"
  },
  "language_info": {
   "file_extension": ".rb",
   "mimetype": "application/x-ruby",
   "name": "ruby",
   "version": "2.7.0"
  }
 },
 "nbformat": 4,
 "nbformat_minor": 4
}
