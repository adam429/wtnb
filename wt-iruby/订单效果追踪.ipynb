{
 "cells": [
  {
   "cell_type": "code",
   "execution_count": 1,
   "metadata": {},
   "outputs": [
    {
     "data": {
      "text/html": [
       "<script src='https://unpkg.com/vue/dist/vue.js'></script>\n",
       "<script src='https://unpkg.com/chart.js@2.9.3/dist/Chart.bundle.js'></script>\n",
       "<script src='https://unpkg.com/vue-chartkick@0.5.1/dist/vue-chartkick.js'></script>\n",
       "<script src='https://unpkg.com/element-ui/lib/index.js'></script>\n"
      ],
      "text/plain": [
       "\"<script src='https://unpkg.com/vue/dist/vue.js'></script>\\n<script src='https://unpkg.com/chart.js@2.9.3/dist/Chart.bundle.js'></script>\\n<script src='https://unpkg.com/vue-chartkick@0.5.1/dist/vue-chartkick.js'></script>\\n<script src='https://unpkg.com/element-ui/lib/index.js'></script>\\n\""
      ]
     },
     "metadata": {},
     "output_type": "display_data"
    },
    {
     "data": {
      "text/html": [
       "<link rel='stylesheet' href='https://unpkg.com/element-ui/lib/theme-chalk/index.css'>\n"
      ],
      "text/plain": [
       "\"<link rel='stylesheet' href='https://unpkg.com/element-ui/lib/theme-chalk/index.css'>\\n\""
      ]
     },
     "metadata": {},
     "output_type": "display_data"
    },
    {
     "data": {
      "text/plain": [
       "{}"
      ]
     },
     "execution_count": 1,
     "metadata": {},
     "output_type": "execute_result"
    }
   ],
   "source": [
    "## 设置数据库 & 定义数据模型\n",
    "    \n",
    "load './wtnb/wtnb.rb'\n",
    "load './wtnb/wtmodel.rb'\n",
    "\n",
    "IRuby.display IRuby.html(include_js)\n",
    "IRuby.display IRuby.html(include_css)\n",
    "nil\n",
    "\n",
    "connect_db(\"online\")\n",
    "disable_cache()"
   ]
  },
  {
   "cell_type": "code",
   "execution_count": 12,
   "metadata": {},
   "outputs": [
    {
     "data": {
      "text/plain": [
       "[\"20042300681\", \"20042000558\", \"20042300668\", \"20032201567\", \"20031501079\", \"20040200056\", \"20042400717\", \"20042400714\", \"20042100604\", \"20032301651\", \"20041900523\", \"20041700468\", \"20041300360\", \"20041000293\", \"20040800228\"]"
      ]
     },
     "execution_count": 12,
     "metadata": {},
     "output_type": "execute_result"
    }
   ],
   "source": [
    "# Yushi修改 - 20042000558\n",
    " \n",
    "order = %w[20042300681\n",
    "            20042000558  \n",
    "            20042300668\n",
    "            20032201567\n",
    "            20031501079\n",
    "            20040200056\n",
    "            20042400717 20042400714 20042100604 20032301651 20041900523 20041700468 20041300360\n",
    "            20041000293 20040800228\n",
    "]\n"
   ]
  },
  {
   "cell_type": "code",
   "execution_count": 7,
   "metadata": {},
   "outputs": [
    {
     "data": {
      "text/html": [
       "<table><tr><td>10367</td><td>15624967695</td><td><a href='https://console.wetry.shop/orderDetail/20042300666'>20042300666</a></td><td>15</td><td></td><td>2020-04-29</td><td>周婧一</td><td>0</td><td>5</td><td>6</td></tr><tr><td>13446</td><td>13916084740</td><td><a href='https://console.wetry.shop/orderDetail/20042700943'>20042700943</a></td><td>15</td><td></td><td>2020-04-29</td><td>付女士</td><td>0</td><td>5</td><td>6</td></tr><tr><td>13368</td><td>13696968968</td><td><a href='https://console.wetry.shop/orderDetail/20042700883'>20042700883</a></td><td>25</td><td></td><td>2020-04-29</td><td>吴文菲</td><td>0</td><td>6</td><td>6</td></tr><tr><td>13125</td><td>18814124601</td><td><a href='https://console.wetry.shop/orderDetail/20042200656'>20042200656</a></td><td>25</td><td></td><td>2020-04-29</td><td>轩儿</td><td>0</td><td>5</td><td>6</td></tr><tr><td>13258</td><td>18355019413</td><td><a href='https://console.wetry.shop/orderDetail/20042700945'>20042700945</a></td><td>25</td><td></td><td>2020-04-29</td><td>阿童木</td><td>0</td><td>5</td><td>6</td></tr><tr><td>13438</td><td>18515867580</td><td><a href='https://console.wetry.shop/orderDetail/20042700946'>20042700946</a></td><td>25</td><td></td><td>2020-04-29</td><td>曾洁</td><td>0</td><td>7</td><td>7</td></tr><tr><td>13451</td><td>17600114915</td><td><a href='https://console.wetry.shop/orderDetail/20042700952'>20042700952</a></td><td>25</td><td></td><td>2020-04-29</td><td>罗铁锤</td><td>0</td><td>6</td><td>6</td></tr><tr><td>13293</td><td>18350201808</td><td><a href='https://console.wetry.shop/orderDetail/20042400759'>20042400759</a></td><td>25</td><td></td><td>2020-04-30</td><td>熊毅</td><td>0</td><td>5</td><td>6</td></tr><tr><td>13411</td><td>18618375204</td><td><a href='https://console.wetry.shop/orderDetail/20042700944'>20042700944</a></td><td>25</td><td></td><td>2020-04-30</td><td>何女士</td><td>0</td><td>7</td><td>7</td></tr><tr><td>13444</td><td>13549764725</td><td><a href='https://console.wetry.shop/orderDetail/20042700931'>20042700931</a></td><td>30</td><td></td><td>2020-04-29</td><td>李祎</td><td>0</td><td>6</td><td>6</td></tr><tr><td>13188</td><td>13120836398</td><td><a href='https://console.wetry.shop/orderDetail/20042300698'>20042300698</a></td><td>35</td><td></td><td>2020-04-29</td><td>李敏</td><td>3</td><td>5</td><td>6</td></tr><tr><td>455</td><td>18801372016</td><td><a href='https://console.wetry.shop/orderDetail/20042300681'>20042300681</a></td><td>55</td><td></td><td>2020-04-24</td><td>魏萌</td><td>4</td><td>7</td><td>7</td></tr></table>"
      ],
      "text/plain": [
       "\"<table><tr><td>10367</td><td>15624967695</td><td><a href='https://console.wetry.shop/orderDetail/20042300666'>20042300666</a></td><td>15</td><td></td><td>2020-04-29</td><td>周婧一</td><td>0</td><td>5</td><td>6</td></tr><tr><td>13446</td><td>13916084740</td><td><a href='https://console.wetry.shop/orderDetail/20042700943'>20042700943</a></td><td>15</td><td></td><td>2020-04-29</td><td>付女士</td><td>0</td><td>5</td><td>6</td></tr><tr><td>13368</td><td>13696968968</td><td><a href='https://console.wetry.shop/orderDetail/20042700883'>20042700883</a></td><td>25</td><td></td><td>2020-04-29</td><td>吴文菲</td><td>0</td><td>6</td><td>6</td></tr><tr><td>13125</td><td>18814124601</td><td><a href='https://console.wetry.shop/orderDetail/20042200656'>20042200656</a></td><td>25</td><td></td><td>2020-04-29</td><td>轩儿</td><td>0</td><td>5</td><td>6</td></tr><tr><td>13258</td><td>18355019413</td><td><a href='https://console.wetry.shop/orderDetail/20042700945'>20042700945</a></td><td>25</td><td></td><td>2020-04-29</td><td>阿童木</td><td>0</td><td>5</td><td>6</td></tr><tr><td>13438</td><td>18515867580</td><td><a href='https://console.wetry.shop/orderDetail/20042700946'>20042700946</a></td><td>25</td><td></td><td>2020-04-29</td><td>曾洁</td><td>0</td><td>7</td><td>7</td></tr><tr><td>13451</td><td>17600114915</td><td><a href='https://console.wetry.shop/orderDetail/20042700952'>20042700952</a></td><td>25</td><td></td><td>2020-04-29</td><td>罗铁锤</td><td>0</td><td>6</td><td>6</td></tr><tr><td>13293</td><td>18350201808</td><td><a href='https://console.wetry.shop/orderDetail/20042400759'>20042400759</a></td><td>25</td><td></td><td>2020-04-30</td><td>熊毅</td><td>0</td><td>5</td><td>6</td></tr><tr><td>13411</td><td>18618375204</td><td><a href='https://console.wetry.shop/orderDetail/20042700944'>20042700944</a></td><td>25</td><td></td><td>2020-04-30</td><td>何女士</td><td>0</td><td>7</td><td>7</td></tr><tr><td>13444</td><td>13549764725</td><td><a href='https://console.wetry.shop/orderDetail/20042700931'>20042700931</a></td><td>30</td><td></td><td>2020-04-29</td><td>李祎</td><td>0</td><td>6</td><td>6</td></tr><tr><td>13188</td><td>13120836398</td><td><a href='https://console.wetry.shop/orderDetail/20042300698'>20042300698</a></td><td>35</td><td></td><td>2020-04-29</td><td>李敏</td><td>3</td><td>5</td><td>6</td></tr><tr><td>455</td><td>18801372016</td><td><a href='https://console.wetry.shop/orderDetail/20042300681'>20042300681</a></td><td>55</td><td></td><td>2020-04-24</td><td>魏萌</td><td>4</td><td>7</td><td>7</td></tr></table>\""
      ]
     },
     "metadata": {},
     "output_type": "display_data"
    },
    {
     "name": "stdout",
     "output_type": "stream",
     "text": [
      "1 seconds\n"
     ]
    }
   ],
   "source": [
    "table = []\n",
    "\n",
    "time {\n",
    "table=Order.where(\"stylist_id=11 or order_no='20042300681'\").order(:status,:expect_day).where(\"status>0\").\n",
    "        pluck(:member_id,:order_no,:status,:hold_flag,:expect_day,:addr_username,:addr_phone,:select_num,:total).\n",
    "        pmap do |x| \n",
    "            [x[0],x[6] , \"<a href='https://console.wetry.shop/orderDetail/#{x[1]}'>#{x[1]}</a>\",x[2],((x[3]==\"\\x01\")? \"hold\" : \"\" ),x[4].to_s(:db)[0,10],x[5],Order.where(order_no:x[1]).item.keep.sold.count,Order.where(order_no:x[1]).item.keep.count,Order.where(order_no:x[1]).item.count] end\n",
    "puts_table table   \n",
    "}\n"
   ]
  },
  {
   "cell_type": "code",
   "execution_count": 8,
   "metadata": {},
   "outputs": [
    {
     "data": {
      "text/html": [
       "<h1>完成订单购买转化率58.33</h1>"
      ],
      "text/plain": [
       "\"<h1>完成订单购买转化率58.33</h1>\""
      ]
     },
     "metadata": {},
     "output_type": "display_data"
    }
   ],
   "source": [
    "completed = table.filter do |x| x[3].to_i >=35 end\n",
    "puts_header \"完成订单购买转化率\" + ratio(completed.map do |x| x[7] end.sum, completed.map do |x| x[8] end.sum*0.01).to_s\n",
    "nil"
   ]
  },
  {
   "cell_type": "code",
   "execution_count": null,
   "metadata": {},
   "outputs": [],
   "source": []
  }
 ],
 "metadata": {
  "kernelspec": {
   "display_name": "Ruby 2.7.0",
   "language": "ruby",
   "name": "ruby"
  },
  "language_info": {
   "file_extension": ".rb",
   "mimetype": "application/x-ruby",
   "name": "ruby",
   "version": "2.7.0"
  }
 },
 "nbformat": 4,
 "nbformat_minor": 4
}
