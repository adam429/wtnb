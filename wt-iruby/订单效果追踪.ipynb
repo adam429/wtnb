{
 "cells": [
  {
   "cell_type": "code",
   "execution_count": 2,
   "metadata": {},
   "outputs": [
    {
     "data": {
      "text/html": [
       "<script src='https://unpkg.com/vue/dist/vue.js'></script>\n",
       "<script src='https://unpkg.com/chart.js@2.9.3/dist/Chart.bundle.js'></script>\n",
       "<script src='https://unpkg.com/vue-chartkick@0.5.1/dist/vue-chartkick.js'></script>\n",
       "<script src='https://unpkg.com/element-ui/lib/index.js'></script>\n"
      ],
      "text/plain": [
       "\"<script src='https://unpkg.com/vue/dist/vue.js'></script>\\n<script src='https://unpkg.com/chart.js@2.9.3/dist/Chart.bundle.js'></script>\\n<script src='https://unpkg.com/vue-chartkick@0.5.1/dist/vue-chartkick.js'></script>\\n<script src='https://unpkg.com/element-ui/lib/index.js'></script>\\n\""
      ]
     },
     "metadata": {},
     "output_type": "display_data"
    },
    {
     "data": {
      "text/html": [
       "<link rel='stylesheet' href='https://unpkg.com/element-ui/lib/theme-chalk/index.css'>\n"
      ],
      "text/plain": [
       "\"<link rel='stylesheet' href='https://unpkg.com/element-ui/lib/theme-chalk/index.css'>\\n\""
      ]
     },
     "metadata": {},
     "output_type": "display_data"
    }
   ],
   "source": [
    "## 设置数据库 & 定义数据模型\n",
    "    \n",
    "load './wtnb/wtnb.rb'\n",
    "load './wtnb/wtmodel.rb'\n",
    "\n",
    "IRuby.display IRuby.html(include_js)\n",
    "IRuby.display IRuby.html(include_css)\n",
    "nil"
   ]
  },
  {
   "cell_type": "code",
   "execution_count": 81,
   "metadata": {},
   "outputs": [
    {
     "data": {
      "text/plain": [
       "[\"20042300681\", \"20042000558\", \"20042300668\", \"20032201567\", \"20031501079\", \"20040200056\", \"20042400717\", \"20042400714\", \"20042100604\", \"20032301651\", \"20041900523\", \"20041700468\", \"20041300360\", \"20041000293\", \"20040800228\"]"
      ]
     },
     "execution_count": 81,
     "metadata": {},
     "output_type": "execute_result"
    }
   ],
   "source": [
    "# Yushi修改 - 20042000558\n",
    " \n",
    "order = %w[20042300681\n",
    "            20042000558  \n",
    "            20042300668\n",
    "            20032201567\n",
    "            20031501079\n",
    "            20040200056\n",
    "            20042400717 20042400714 20042100604 20032301651 20041900523 20041700468 20041300360\n",
    "            20041000293 20040800228\n",
    "]\n"
   ]
  },
  {
   "cell_type": "code",
   "execution_count": 3,
   "metadata": {},
   "outputs": [
    {
     "data": {
      "text/html": [
       "<table><tr><td>2982</td><td>15385185182</td><td><a href='https://console.wetry.shop/orderDetail/20032501708'>20032501708</a></td><td>5</td><td></td><td>2020-05-07</td><td>张女士</td><td>0</td><td>0</td><td>0</td></tr><tr><td>4500</td><td>13787211735</td><td><a href='https://console.wetry.shop/orderDetail/20032901848'>20032901848</a></td><td>5</td><td></td><td>2020-05-08</td><td>谭娟</td><td>0</td><td>0</td><td>0</td></tr><tr><td>7288</td><td>15279764699</td><td><a href='https://console.wetry.shop/orderDetail/20042400751'>20042400751</a></td><td>12</td><td></td><td>2020-04-27</td><td>刘旭青</td><td>0</td><td>6</td><td>6</td></tr><tr><td>5122</td><td>15093795677</td><td><a href='https://console.wetry.shop/orderDetail/20040900250'>20040900250</a></td><td>12</td><td></td><td>2020-04-27</td><td>李云慧</td><td>0</td><td>6</td><td>6</td></tr><tr><td>7642</td><td>15201805205</td><td><a href='https://console.wetry.shop/orderDetail/20033001871'>20033001871</a></td><td>15</td><td></td><td>2020-04-27</td><td>黄AMY</td><td>0</td><td>6</td><td>6</td></tr><tr><td>6833</td><td>18224023017</td><td><a href='https://console.wetry.shop/orderDetail/20040800228'>20040800228</a></td><td>20</td><td></td><td>2020-04-26</td><td>王杰</td><td>0</td><td>7</td><td>7</td></tr><tr><td>7168</td><td>15500190718</td><td><a href='https://console.wetry.shop/orderDetail/20041000293'>20041000293</a></td><td>20</td><td></td><td>2020-04-26</td><td>王妍</td><td>0</td><td>6</td><td>6</td></tr><tr><td>3447</td><td>18811726158</td><td><a href='https://console.wetry.shop/orderDetail/20032201584'>20032201584</a></td><td>20</td><td></td><td>2020-04-27</td><td>洪柳</td><td>0</td><td>7</td><td>7</td></tr><tr><td>3456</td><td>13595062167</td><td><a href='https://console.wetry.shop/orderDetail/20032901842'>20032901842</a></td><td>20</td><td></td><td>2020-04-27</td><td>潘妮</td><td>0</td><td>6</td><td>6</td></tr><tr><td>11182</td><td>18611896155</td><td><a href='https://console.wetry.shop/orderDetail/20040700205'>20040700205</a></td><td>20</td><td></td><td>2020-04-27</td><td>王晓洪</td><td>0</td><td>6</td><td>6</td></tr><tr><td>5899</td><td>18302620423</td><td><a href='https://console.wetry.shop/orderDetail/20041700467'>20041700467</a></td><td>20</td><td></td><td>2020-04-27</td><td>王雪</td><td>0</td><td>5</td><td>6</td></tr><tr><td>4369</td><td>13551238631</td><td><a href='https://console.wetry.shop/orderDetail/20041700479'>20041700479</a></td><td>20</td><td></td><td>2020-04-27</td><td>袁虎虎</td><td>0</td><td>6</td><td>6</td></tr><tr><td>7060</td><td>13723853471</td><td><a href='https://console.wetry.shop/orderDetail/20011700465'>20011700465</a></td><td>20</td><td></td><td>2020-04-27</td><td>黄旎</td><td>0</td><td>6</td><td>6</td></tr><tr><td>9995</td><td>18825237860</td><td><a href='https://console.wetry.shop/orderDetail/20041100303'>20041100303</a></td><td>20</td><td></td><td>2020-04-27</td><td>李舒然</td><td>0</td><td>6</td><td>7</td></tr><tr><td>3391</td><td>15888776849</td><td><a href='https://console.wetry.shop/orderDetail/20031801443'>20031801443</a></td><td>20</td><td></td><td>2020-04-27</td><td>陈通靖</td><td>0</td><td>5</td><td>6</td></tr><tr><td>4130</td><td>17774911211</td><td><a href='https://console.wetry.shop/orderDetail/20032501709'>20032501709</a></td><td>20</td><td></td><td>2020-04-27</td><td>陈曼</td><td>0</td><td>5</td><td>6</td></tr><tr><td>8006</td><td>15990029960</td><td><a href='https://console.wetry.shop/orderDetail/20041200348'>20041200348</a></td><td>20</td><td></td><td>2020-04-27</td><td>吴一一</td><td>0</td><td>6</td><td>6</td></tr><tr><td>5864</td><td>18771947191</td><td><a href='https://console.wetry.shop/orderDetail/20040400103'>20040400103</a></td><td>20</td><td></td><td>2020-04-27</td><td>马芬</td><td>0</td><td>6</td><td>6</td></tr><tr><td>4927</td><td>15063058047</td><td><a href='https://console.wetry.shop/orderDetail/20041400398'>20041400398</a></td><td>20</td><td></td><td>2020-04-27</td><td>邱玉洁</td><td>0</td><td>5</td><td>6</td></tr><tr><td>12221</td><td>13269303527</td><td><a href='https://console.wetry.shop/orderDetail/20032801784'>20032801784</a></td><td>20</td><td></td><td>2020-04-27</td><td>李萝</td><td>0</td><td>6</td><td>6</td></tr><tr><td>7321</td><td>18617000518</td><td><a href='https://console.wetry.shop/orderDetail/20040500158'>20040500158</a></td><td>20</td><td></td><td>2020-04-27</td><td>李格格</td><td>0</td><td>5</td><td>6</td></tr><tr><td>4262</td><td>18900371613</td><td><a href='https://console.wetry.shop/orderDetail/20041700468'>20041700468</a></td><td>25</td><td></td><td>2020-04-26</td><td>黄思云</td><td>0</td><td>7</td><td>7</td></tr><tr><td>12264</td><td>18850158804</td><td><a href='https://console.wetry.shop/orderDetail/20041900523'>20041900523</a></td><td>25</td><td></td><td>2020-04-26</td><td>许</td><td>0</td><td>6</td><td>6</td></tr><tr><td>3699</td><td>15171348019</td><td><a href='https://console.wetry.shop/orderDetail/20032301651'>20032301651</a></td><td>25</td><td></td><td>2020-04-26</td><td>胡亚芳</td><td>0</td><td>8</td><td>8</td></tr><tr><td>5329</td><td>16604113197</td><td><a href='https://console.wetry.shop/orderDetail/20041300360'>20041300360</a></td><td>25</td><td></td><td>2020-04-26</td><td>常乐</td><td>0</td><td>6</td><td>6</td></tr><tr><td>10749</td><td>15037421903</td><td><a href='https://console.wetry.shop/orderDetail/20042300668'>20042300668</a></td><td>30</td><td></td><td>2020-04-25</td><td>李素</td><td>0</td><td>6</td><td>6</td></tr><tr><td>3792</td><td>18335860655</td><td><a href='https://console.wetry.shop/orderDetail/20032201567'>20032201567</a></td><td>30</td><td></td><td>2020-04-25</td><td>文静</td><td>0</td><td>7</td><td>7</td></tr><tr><td>11288</td><td>13817293590</td><td><a href='https://console.wetry.shop/orderDetail/20042400717'>20042400717</a></td><td>30</td><td></td><td>2020-04-26</td><td>费晓艳</td><td>0</td><td>8</td><td>8</td></tr><tr><td>11110</td><td>15305799725</td><td><a href='https://console.wetry.shop/orderDetail/20031501079'>20031501079</a></td><td>30</td><td></td><td>2020-04-26</td><td>厉迣</td><td>0</td><td>6</td><td>6</td></tr><tr><td>9306</td><td>13524064600</td><td><a href='https://console.wetry.shop/orderDetail/20042100604'>20042100604</a></td><td>30</td><td></td><td>2020-04-26</td><td>樊倩茹</td><td>0</td><td>5</td><td>7</td></tr><tr><td>13013</td><td>13276480886</td><td><a href='https://console.wetry.shop/orderDetail/20042000558'>20042000558</a></td><td>35</td><td></td><td>2020-04-25</td><td>侯小妞</td><td>0</td><td>5</td><td>6</td></tr><tr><td>9723</td><td>18672236830</td><td><a href='https://console.wetry.shop/orderDetail/20040200056'>20040200056</a></td><td>35</td><td></td><td>2020-04-26</td><td>李青</td><td>3</td><td>7</td><td>8</td></tr><tr><td>5393</td><td>18114000135</td><td><a href='https://console.wetry.shop/orderDetail/20042400714'>20042400714</a></td><td>40</td><td></td><td>2020-04-26</td><td>佘伟伟</td><td>1</td><td>7</td><td>7</td></tr></table>"
      ],
      "text/plain": [
       "\"<table><tr><td>2982</td><td>15385185182</td><td><a href='https://console.wetry.shop/orderDetail/20032501708'>20032501708</a></td><td>5</td><td></td><td>2020-05-07</td><td>张女士</td><td>0</td><td>0</td><td>0</td></tr><tr><td>4500</td><td>13787211735</td><td><a href='https://console.wetry.shop/orderDetail/20032901848'>20032901848</a></td><td>5</td><td></td><td>2020-05-08</td><td>谭娟</td><td>0</td><td>0</td><td>0</td></tr><tr><td>7288</td><td>15279764699</td><td><a href='https://console.wetry.shop/orderDetail/20042400751'>20042400751</a></td><td>12</td><td></td><td>2020-04-27</td><td>刘旭青</td><td>0</td><td>6</td><td>6</td></tr><tr><td>5122</td><td>15093795677</td><td><a href='https://console.wetry.shop/orderDetail/20040900250'>20040900250</a></td><td>12</td><td></td><td>2020-04-27</td><td>李云慧</td><td>0</td><td>6</td><td>6</td></tr><tr><td>7642</td><td>15201805205</td><td><a href='https://console.wetry.shop/orderDetail/20033001871'>20033001871</a></td><td>15</td><td></td><td>2020-04-27</td><td>黄AMY</td><td>0</td><td>6</td><td>6</td></tr><tr><td>6833</td><td>18224023017</td><td><a href='https://console.wetry.shop/orderDetail/20040800228'>20040800228</a></td><td>20</td><td></td><td>2020-04-26</td><td>王杰</td><td>0</td><td>7</td><td>7</td></tr><tr><td>7168</td><td>15500190718</td><td><a href='https://console.wetry.shop/orderDetail/20041000293'>20041000293</a></td><td>20</td><td></td><td>2020-04-26</td><td>王妍</td><td>0</td><td>6</td><td>6</td></tr><tr><td>3447</td><td>18811726158</td><td><a href='https://console.wetry.shop/orderDetail/20032201584'>20032201584</a></td><td>20</td><td></td><td>2020-04-27</td><td>洪柳</td><td>0</td><td>7</td><td>7</td></tr><tr><td>3456</td><td>13595062167</td><td><a href='https://console.wetry.shop/orderDetail/20032901842'>20032901842</a></td><td>20</td><td></td><td>2020-04-27</td><td>潘妮</td><td>0</td><td>6</td><td>6</td></tr><tr><td>11182</td><td>18611896155</td><td><a href='https://console.wetry.shop/orderDetail/20040700205'>20040700205</a></td><td>20</td><td></td><td>2020-04-27</td><td>王晓洪</td><td>0</td><td>6</td><td>6</td></tr><tr><td>5899</td><td>18302620423</td><td><a href='https://console.wetry.shop/orderDetail/20041700467'>20041700467</a></td><td>20</td><td></td><td>2020-04-27</td><td>王雪</td><td>0</td><td>5</td><td>6</td></tr><tr><td>4369</td><td>13551238631</td><td><a href='https://console.wetry.shop/orderDetail/20041700479'>20041700479</a></td><td>20</td><td></td><td>2020-04-27</td><td>袁虎虎</td><td>0</td><td>6</td><td>6</td></tr><tr><td>7060</td><td>13723853471</td><td><a href='https://console.wetry.shop/orderDetail/20011700465'>20011700465</a></td><td>20</td><td></td><td>2020-04-27</td><td>黄旎</td><td>0</td><td>6</td><td>6</td></tr><tr><td>9995</td><td>18825237860</td><td><a href='https://console.wetry.shop/orderDetail/20041100303'>20041100303</a></td><td>20</td><td></td><td>2020-04-27</td><td>李舒然</td><td>0</td><td>6</td><td>7</td></tr><tr><td>3391</td><td>15888776849</td><td><a href='https://console.wetry.shop/orderDetail/20031801443'>20031801443</a></td><td>20</td><td></td><td>2020-04-27</td><td>陈通靖</td><td>0</td><td>5</td><td>6</td></tr><tr><td>4130</td><td>17774911211</td><td><a href='https://console.wetry.shop/orderDetail/20032501709'>20032501709</a></td><td>20</td><td></td><td>2020-04-27</td><td>陈曼</td><td>0</td><td>5</td><td>6</td></tr><tr><td>8006</td><td>15990029960</td><td><a href='https://console.wetry.shop/orderDetail/20041200348'>20041200348</a></td><td>20</td><td></td><td>2020-04-27</td><td>吴一一</td><td>0</td><td>6</td><td>6</td></tr><tr><td>5864</td><td>18771947191</td><td><a href='https://console.wetry.shop/orderDetail/20040400103'>20040400103</a></td><td>20</td><td></td><td>2020-04-27</td><td>马芬</td><td>0</td><td>6</td><td>6</td></tr><tr><td>4927</td><td>15063058047</td><td><a href='https://console.wetry.shop/orderDetail/20041400398'>20041400398</a></td><td>20</td><td></td><td>2020-04-27</td><td>邱玉洁</td><td>0</td><td>5</td><td>6</td></tr><tr><td>12221</td><td>13269303527</td><td><a href='https://console.wetry.shop/orderDetail/20032801784'>20032801784</a></td><td>20</td><td></td><td>2020-04-27</td><td>李萝</td><td>0</td><td>6</td><td>6</td></tr><tr><td>7321</td><td>18617000518</td><td><a href='https://console.wetry.shop/orderDetail/20040500158'>20040500158</a></td><td>20</td><td></td><td>2020-04-27</td><td>李格格</td><td>0</td><td>5</td><td>6</td></tr><tr><td>4262</td><td>18900371613</td><td><a href='https://console.wetry.shop/orderDetail/20041700468'>20041700468</a></td><td>25</td><td></td><td>2020-04-26</td><td>黄思云</td><td>0</td><td>7</td><td>7</td></tr><tr><td>12264</td><td>18850158804</td><td><a href='https://console.wetry.shop/orderDetail/20041900523'>20041900523</a></td><td>25</td><td></td><td>2020-04-26</td><td>许</td><td>0</td><td>6</td><td>6</td></tr><tr><td>3699</td><td>15171348019</td><td><a href='https://console.wetry.shop/orderDetail/20032301651'>20032301651</a></td><td>25</td><td></td><td>2020-04-26</td><td>胡亚芳</td><td>0</td><td>8</td><td>8</td></tr><tr><td>5329</td><td>16604113197</td><td><a href='https://console.wetry.shop/orderDetail/20041300360'>20041300360</a></td><td>25</td><td></td><td>2020-04-26</td><td>常乐</td><td>0</td><td>6</td><td>6</td></tr><tr><td>10749</td><td>15037421903</td><td><a href='https://console.wetry.shop/orderDetail/20042300668'>20042300668</a></td><td>30</td><td></td><td>2020-04-25</td><td>李素</td><td>0</td><td>6</td><td>6</td></tr><tr><td>3792</td><td>18335860655</td><td><a href='https://console.wetry.shop/orderDetail/20032201567'>20032201567</a></td><td>30</td><td></td><td>2020-04-25</td><td>文静</td><td>0</td><td>7</td><td>7</td></tr><tr><td>11288</td><td>13817293590</td><td><a href='https://console.wetry.shop/orderDetail/20042400717'>20042400717</a></td><td>30</td><td></td><td>2020-04-26</td><td>费晓艳</td><td>0</td><td>8</td><td>8</td></tr><tr><td>11110</td><td>15305799725</td><td><a href='https://console.wetry.shop/orderDetail/20031501079'>20031501079</a></td><td>30</td><td></td><td>2020-04-26</td><td>厉迣</td><td>0</td><td>6</td><td>6</td></tr><tr><td>9306</td><td>13524064600</td><td><a href='https://console.wetry.shop/orderDetail/20042100604'>20042100604</a></td><td>30</td><td></td><td>2020-04-26</td><td>樊倩茹</td><td>0</td><td>5</td><td>7</td></tr><tr><td>13013</td><td>13276480886</td><td><a href='https://console.wetry.shop/orderDetail/20042000558'>20042000558</a></td><td>35</td><td></td><td>2020-04-25</td><td>侯小妞</td><td>0</td><td>5</td><td>6</td></tr><tr><td>9723</td><td>18672236830</td><td><a href='https://console.wetry.shop/orderDetail/20040200056'>20040200056</a></td><td>35</td><td></td><td>2020-04-26</td><td>李青</td><td>3</td><td>7</td><td>8</td></tr><tr><td>5393</td><td>18114000135</td><td><a href='https://console.wetry.shop/orderDetail/20042400714'>20042400714</a></td><td>40</td><td></td><td>2020-04-26</td><td>佘伟伟</td><td>1</td><td>7</td><td>7</td></tr></table>\""
      ]
     },
     "metadata": {},
     "output_type": "display_data"
    },
    {
     "name": "stdout",
     "output_type": "stream",
     "text": [
      "2 seconds\n"
     ]
    }
   ],
   "source": [
    "time {\n",
    "    \n",
    "puts_table (\n",
    "    Order.where(stylist_id:10).order(:status,:expect_day).where(\"status>0\").\n",
    "        pluck(:member_id,:order_no,:status,:hold_flag,:expect_day,:addr_username,:addr_phone,:select_num,:total).\n",
    "        pmap do |x| [x[0],x[6] , \"<a href='https://console.wetry.shop/orderDetail/#{x[1]}'>#{x[1]}</a>\",x[2],((x[3]==\"\\x01\")? \"hold\" : \"\" ),x[4].to_s(:db)[0,10],x[5],Order.where(order_no:x[1]).item.keep.sold.count,Order.where(order_no:x[1]).item.keep.count,Order.where(order_no:x[1]).item.count] end\n",
    ")\n",
    "    \n",
    "}\n"
   ]
  },
  {
   "cell_type": "code",
   "execution_count": null,
   "metadata": {},
   "outputs": [],
   "source": []
  }
 ],
 "metadata": {
  "kernelspec": {
   "display_name": "Ruby 2.7.0",
   "language": "ruby",
   "name": "ruby"
  },
  "language_info": {
   "file_extension": ".rb",
   "mimetype": "application/x-ruby",
   "name": "ruby",
   "version": "2.7.0"
  }
 },
 "nbformat": 4,
 "nbformat_minor": 4
}
