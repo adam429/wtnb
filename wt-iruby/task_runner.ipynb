{
 "cells": [
  {
   "cell_type": "code",
   "execution_count": 1,
   "metadata": {},
   "outputs": [
    {
     "data": {
      "text/plain": [
       "[\"任务-通过退款.ipynb\", \"任务-预约单商品预留分配.ipynb\"]"
      ]
     },
     "execution_count": 1,
     "metadata": {},
     "output_type": "execute_result"
    }
   ],
   "source": [
    "# 任务执行器\n",
    "\n",
    "runner = \"run_iruby.rb\"\n",
    "task = [\"任务-通过退款.ipynb\"]"
   ]
  },
  {
   "cell_type": "code",
   "execution_count": 17,
   "metadata": {},
   "outputs": [
    {
     "name": "stdout",
     "output_type": "stream",
     "text": [
      "== ruby run_iruby.rb 任务-通过退款.ipynb == 2020-04-27 19:25:27 +0800 ==\n",
      "{\"code\"=>2, \"message\"=>\"微信退款失败，失败原因:\", \"data\"=>\"\"}\n",
      "\n"
     ]
    }
   ],
   "source": []
  },
  {
   "cell_type": "code",
   "execution_count": 2,
   "metadata": {},
   "outputs": [
    {
     "name": "stdout",
     "output_type": "stream",
     "text": [
      "24\n",
      "25\n",
      "26\n",
      "27\n",
      "28\n",
      "29\n",
      "30\n",
      "31\n",
      "32\n",
      "33\n",
      "34\n",
      "35\n",
      "36\n",
      "37\n",
      "38\n",
      "39\n",
      "40\n",
      "41\n",
      "42\n",
      "43\n",
      "44\n",
      "45\n",
      "46\n",
      "47\n",
      "48\n",
      "49\n",
      "50\n",
      "51\n",
      "52\n",
      "53\n",
      "54\n",
      "55\n",
      "56\n",
      "57\n",
      "58\n",
      "59\n",
      "00\n"
     ]
    }
   ],
   "source": [
    "while true do\n",
    "    sleep(30)\n",
    "    if Time.now().strftime(\"%M\")[1] == \"0\" then\n",
    "        task.each do |x|\n",
    "            puts \"== ruby #{runner} #{x} == #{Time.now.to_s} ==\"\n",
    "            puts `ruby #{runner} #{x}`.gsub(/^W,.\\[2020[^\\n]+\\n/,\"\")\n",
    "        end\n",
    "    end\n",
    "end"
   ]
  }
 ],
 "metadata": {
  "kernelspec": {
   "display_name": "Ruby 2.7.0",
   "language": "ruby",
   "name": "ruby"
  },
  "language_info": {
   "file_extension": ".rb",
   "mimetype": "application/x-ruby",
   "name": "ruby",
   "version": "2.7.0"
  }
 },
 "nbformat": 4,
 "nbformat_minor": 4
}
